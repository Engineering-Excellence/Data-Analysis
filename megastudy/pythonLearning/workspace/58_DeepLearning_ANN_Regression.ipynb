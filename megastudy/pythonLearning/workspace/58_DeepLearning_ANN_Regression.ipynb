{
 "cells": [
  {
   "cell_type": "code",
   "execution_count": 1,
   "metadata": {
    "collapsed": true,
    "ExecuteTime": {
     "start_time": "2023-04-18T17:14:23.660960Z",
     "end_time": "2023-04-18T17:14:23.667034Z"
    }
   },
   "outputs": [],
   "source": [
    "%config Completer.use_jedi = False\n",
    "import warnings\n",
    "\n",
    "warnings.filterwarnings(action='ignore')"
   ]
  },
  {
   "cell_type": "markdown",
   "source": [
    "회귀 신경망 실습\n",
    "신경망을 이용해 보스턴 집값 데이터를 활용해 보스턴 집값을 에측하는 모형을 만들어본다."
   ],
   "metadata": {
    "collapsed": false
   }
  },
  {
   "cell_type": "code",
   "execution_count": 2,
   "outputs": [],
   "source": [
    "# 일관된 결과값이 나오도록 random seed를 설정한다.\n",
    "import numpy as np\n",
    "import tensorflow as tf\n",
    "\n",
    "np.random.seed(0)\n",
    "tf.random.set_seed(0)"
   ],
   "metadata": {
    "collapsed": false,
    "ExecuteTime": {
     "start_time": "2023-04-18T17:14:23.666248Z",
     "end_time": "2023-04-18T17:14:26.421045Z"
    }
   }
  },
  {
   "cell_type": "code",
   "execution_count": 3,
   "outputs": [],
   "source": [
    "# 데이터 불러오기\n",
    "from sklearn import datasets  # 보스턴 집값 데이터를 사용하기 위해 import 한다.\n",
    "\n",
    "raw_boston = datasets.load_boston()  # 보스턴 집값 데이터를 불러온다."
   ],
   "metadata": {
    "collapsed": false,
    "ExecuteTime": {
     "start_time": "2023-04-18T17:14:26.421334Z",
     "end_time": "2023-04-18T17:14:27.656215Z"
    }
   }
  },
  {
   "cell_type": "code",
   "execution_count": 4,
   "outputs": [],
   "source": [
    "# 피쳐/타겟 데이터 지정\n",
    "X = raw_boston.data  # 보스턴 집값 피쳐 데이터를 저장한다.\n",
    "y = raw_boston.target  # 보스턴 집값 타겟 데이터를 저장한다."
   ],
   "metadata": {
    "collapsed": false,
    "ExecuteTime": {
     "start_time": "2023-04-18T17:14:27.656494Z",
     "end_time": "2023-04-18T17:14:27.657837Z"
    }
   }
  },
  {
   "cell_type": "code",
   "execution_count": 5,
   "outputs": [
    {
     "data": {
      "text/plain": "(506, 13)"
     },
     "execution_count": 5,
     "metadata": {},
     "output_type": "execute_result"
    }
   ],
   "source": [
    "# 피처 데이터 차원 확인\n",
    "X.shape  # 결과를 확인하면 총 13개의 피쳐가 사용되는데, 이는 신경망을 생성할 때 사용된다."
   ],
   "metadata": {
    "collapsed": false,
    "ExecuteTime": {
     "start_time": "2023-04-18T17:14:27.660535Z",
     "end_time": "2023-04-18T17:14:27.672988Z"
    }
   }
  },
  {
   "cell_type": "code",
   "execution_count": 6,
   "outputs": [
    {
     "data": {
      "text/plain": "{5.0,\n 5.6,\n 6.3,\n 7.0,\n 7.2,\n 7.4,\n 7.5,\n 8.1,\n 8.3,\n 8.4,\n 8.5,\n 8.7,\n 8.8,\n 9.5,\n 9.6,\n 9.7,\n 10.2,\n 10.4,\n 10.5,\n 10.8,\n 10.9,\n 11.0,\n 11.3,\n 11.5,\n 11.7,\n 11.8,\n 11.9,\n 12.0,\n 12.1,\n 12.3,\n 12.5,\n 12.6,\n 12.7,\n 12.8,\n 13.0,\n 13.1,\n 13.2,\n 13.3,\n 13.4,\n 13.5,\n 13.6,\n 13.8,\n 13.9,\n 14.0,\n 14.1,\n 14.2,\n 14.3,\n 14.4,\n 14.5,\n 14.6,\n 14.8,\n 14.9,\n 15.0,\n 15.1,\n 15.2,\n 15.3,\n 15.4,\n 15.6,\n 15.7,\n 16.0,\n 16.1,\n 16.2,\n 16.3,\n 16.4,\n 16.5,\n 16.6,\n 16.7,\n 16.8,\n 17.0,\n 17.1,\n 17.2,\n 17.3,\n 17.4,\n 17.5,\n 17.6,\n 17.7,\n 17.8,\n 17.9,\n 18.0,\n 18.1,\n 18.2,\n 18.3,\n 18.4,\n 18.5,\n 18.6,\n 18.7,\n 18.8,\n 18.9,\n 19.0,\n 19.1,\n 19.2,\n 19.3,\n 19.4,\n 19.5,\n 19.6,\n 19.7,\n 19.8,\n 19.9,\n 20.0,\n 20.1,\n 20.2,\n 20.3,\n 20.4,\n 20.5,\n 20.6,\n 20.7,\n 20.8,\n 20.9,\n 21.0,\n 21.1,\n 21.2,\n 21.4,\n 21.5,\n 21.6,\n 21.7,\n 21.8,\n 21.9,\n 22.0,\n 22.1,\n 22.2,\n 22.3,\n 22.4,\n 22.5,\n 22.6,\n 22.7,\n 22.8,\n 22.9,\n 23.0,\n 23.1,\n 23.2,\n 23.3,\n 23.4,\n 23.5,\n 23.6,\n 23.7,\n 23.8,\n 23.9,\n 24.0,\n 24.1,\n 24.2,\n 24.3,\n 24.4,\n 24.5,\n 24.6,\n 24.7,\n 24.8,\n 25.0,\n 25.1,\n 25.2,\n 25.3,\n 26.2,\n 26.4,\n 26.5,\n 26.6,\n 26.7,\n 27.0,\n 27.1,\n 27.5,\n 27.9,\n 28.0,\n 28.1,\n 28.2,\n 28.4,\n 28.5,\n 28.6,\n 28.7,\n 29.0,\n 29.1,\n 29.4,\n 29.6,\n 29.8,\n 29.9,\n 30.1,\n 30.3,\n 30.5,\n 30.7,\n 30.8,\n 31.0,\n 31.1,\n 31.2,\n 31.5,\n 31.6,\n 31.7,\n 32.0,\n 32.2,\n 32.4,\n 32.5,\n 32.7,\n 32.9,\n 33.0,\n 33.1,\n 33.2,\n 33.3,\n 33.4,\n 33.8,\n 34.6,\n 34.7,\n 34.9,\n 35.1,\n 35.2,\n 35.4,\n 36.0,\n 36.1,\n 36.2,\n 36.4,\n 36.5,\n 37.0,\n 37.2,\n 37.3,\n 37.6,\n 37.9,\n 38.7,\n 39.8,\n 41.3,\n 41.7,\n 42.3,\n 42.8,\n 43.1,\n 43.5,\n 43.8,\n 44.0,\n 44.8,\n 45.4,\n 46.0,\n 46.7,\n 48.3,\n 48.5,\n 48.8,\n 50.0}"
     },
     "execution_count": 6,
     "metadata": {},
     "output_type": "execute_result"
    }
   ],
   "source": [
    "# 타겟 데이터 종류 확인\n",
    "# 타겟 데이터 종류를 확인함으로써 분류 문제인지 아니면 회귀 문제인지 파악할 수 있고, 분류 문제라면 몇 가지 클래스로\n",
    "# 구분되는지 알 수 있다.\n",
    "set(y)"
   ],
   "metadata": {
    "collapsed": false,
    "ExecuteTime": {
     "start_time": "2023-04-18T17:14:27.664059Z",
     "end_time": "2023-04-18T17:14:27.673282Z"
    }
   }
  },
  {
   "cell_type": "code",
   "execution_count": 7,
   "outputs": [
    {
     "data": {
      "text/plain": "((379, 13), (127, 13))"
     },
     "execution_count": 7,
     "metadata": {},
     "output_type": "execute_result"
    }
   ],
   "source": [
    "# 트레이닝/테스트 데이터 분할\n",
    "from sklearn.model_selection import train_test_split  # 트레이닝/테스트 데이터 분할을 위해 import 한다.\n",
    "\n",
    "# 피쳐 데이터와 타겟 데이터를 트레이닝 데이터와 테스트 데이터로 분할한다.\n",
    "X_tn, X_te, y_tn, y_te = train_test_split(X, y, random_state=0)\n",
    "X_tn.shape, X_te.shape"
   ],
   "metadata": {
    "collapsed": false,
    "ExecuteTime": {
     "start_time": "2023-04-18T17:14:27.666756Z",
     "end_time": "2023-04-18T17:14:27.804983Z"
    }
   }
  },
  {
   "cell_type": "code",
   "execution_count": 8,
   "outputs": [],
   "source": [
    "# 시퀀스 API 신경망 생성\n",
    "from keras.models import Sequential  # 시퀀스 API 신경망 생성하기 위해 import 한다.\n",
    "from keras.layers import Dense  # 신경망에 추가할 layer를 생성하기 위해 import 한다.\n",
    "\n",
    "n = X_tn.shape[1]  # 신경망에 사용되는 피쳐 개수를 저장한다.\n",
    "e = 30  # 학습 횟수를 의미하는 epoch 값을 설정한다."
   ],
   "metadata": {
    "collapsed": false,
    "ExecuteTime": {
     "start_time": "2023-04-18T17:14:27.805544Z",
     "end_time": "2023-04-18T17:14:27.806804Z"
    }
   }
  },
  {
   "cell_type": "code",
   "execution_count": 9,
   "outputs": [
    {
     "name": "stdout",
     "output_type": "stream",
     "text": [
      "Metal device set to: Apple M2\n"
     ]
    },
    {
     "name": "stderr",
     "output_type": "stream",
     "text": [
      "2023-04-18 17:14:27.812409: I tensorflow/core/common_runtime/pluggable_device/pluggable_device_factory.cc:305] Could not identify NUMA node of platform GPU ID 0, defaulting to 0. Your kernel may not have been built with NUMA support.\n",
      "2023-04-18 17:14:27.812966: I tensorflow/core/common_runtime/pluggable_device/pluggable_device_factory.cc:271] Created TensorFlow device (/job:localhost/replica:0/task:0/device:GPU:0 with 0 MB memory) -> physical PluggableDevice (device: 0, name: METAL, pci bus id: <undefined>)\n"
     ]
    },
    {
     "name": "stdout",
     "output_type": "stream",
     "text": [
      "Model: \"sequential\"\n",
      "_________________________________________________________________\n",
      " Layer (type)                Output Shape              Param #   \n",
      "=================================================================\n",
      " dense (Dense)               (None, 20)                280       \n",
      "                                                                 \n",
      " dense_1 (Dense)             (None, 1)                 21        \n",
      "                                                                 \n",
      "=================================================================\n",
      "Total params: 301\n",
      "Trainable params: 301\n",
      "Non-trainable params: 0\n",
      "_________________________________________________________________\n"
     ]
    }
   ],
   "source": [
    "# Sequential()로 신경망 모형을 만들고 add() 함수를 이용해서 layer를 추가한다.\n",
    "model = Sequential()  # 신경망 모델을 만든다.\n",
    "# units 옵션으로 출력 차원, input_dim 옵션으로 입력 데이터(피쳐) 차원, activation 옵션으로 활설화 함수를 지정해서\n",
    "# 입력 layer를 만든다.\n",
    "model.add(Dense(units=20, input_dim=n, activation='relu'))  # 입력 layer를 만든다.\n",
    "# 최종 출력은 집값을 예측하므로 1개의 노드로 출력된다.\n",
    "# 회귀 문제를 풀 때 최종 활성화 함수는 활성화 함수 중 선형 함수를 사용해야 하는데, 코드 상에서 최종 활성화 함수를\n",
    "# 지정하지 않으면 기본값으로 선형 함수가 적용된다.\n",
    "model.add(Dense(units=1))  # 출력 layer를 만든다.\n",
    "model.summary()"
   ],
   "metadata": {
    "collapsed": false,
    "ExecuteTime": {
     "start_time": "2023-04-18T17:14:27.808282Z",
     "end_time": "2023-04-18T17:14:28.183616Z"
    }
   }
  },
  {
   "cell_type": "code",
   "execution_count": 10,
   "outputs": [],
   "source": [
    "# 모형 컴파일\n",
    "# loss 옵션으로 손실 함수를 지정하고 optimizer 옵션으로 최적화 함수(optimizer)를 지정하고 metrics 옵션으로 평가\n",
    "# 기준을 지정한다.\n",
    "model.compile(loss='mean_squared_error', optimizer='adam', metrics=['mean_squared_error'])"
   ],
   "metadata": {
    "collapsed": false,
    "ExecuteTime": {
     "start_time": "2023-04-18T17:14:28.184441Z",
     "end_time": "2023-04-18T17:14:28.191246Z"
    }
   }
  },
  {
   "cell_type": "code",
   "execution_count": 11,
   "outputs": [
    {
     "name": "stdout",
     "output_type": "stream",
     "text": [
      "Epoch 1/30\n"
     ]
    },
    {
     "name": "stderr",
     "output_type": "stream",
     "text": [
      "2023-04-18 17:14:28.294015: W tensorflow/core/platform/profile_utils/cpu_utils.cc:128] Failed to get CPU frequency: 0 Hz\n",
      "2023-04-18 17:14:28.443530: I tensorflow/core/grappler/optimizers/custom_graph_optimizer_registry.cc:113] Plugin optimizer for device_type GPU is enabled.\n"
     ]
    },
    {
     "name": "stdout",
     "output_type": "stream",
     "text": [
      "76/76 [==============================] - 1s 7ms/step - loss: 474.8161 - mean_squared_error: 474.8161\n",
      "Epoch 2/30\n",
      "76/76 [==============================] - 0s 3ms/step - loss: 97.4737 - mean_squared_error: 97.4737\n",
      "Epoch 3/30\n",
      "76/76 [==============================] - 0s 3ms/step - loss: 81.1660 - mean_squared_error: 81.1660\n",
      "Epoch 4/30\n",
      "76/76 [==============================] - 0s 3ms/step - loss: 72.6058 - mean_squared_error: 72.6058\n",
      "Epoch 5/30\n",
      "76/76 [==============================] - 0s 4ms/step - loss: 63.1071 - mean_squared_error: 63.1071\n",
      "Epoch 6/30\n",
      "76/76 [==============================] - 0s 3ms/step - loss: 57.3055 - mean_squared_error: 57.3055\n",
      "Epoch 7/30\n",
      "76/76 [==============================] - 0s 3ms/step - loss: 53.3248 - mean_squared_error: 53.3248\n",
      "Epoch 8/30\n",
      "76/76 [==============================] - 0s 3ms/step - loss: 48.0305 - mean_squared_error: 48.0305\n",
      "Epoch 9/30\n",
      "76/76 [==============================] - 0s 3ms/step - loss: 44.4123 - mean_squared_error: 44.4123\n",
      "Epoch 10/30\n",
      "76/76 [==============================] - 0s 3ms/step - loss: 44.6246 - mean_squared_error: 44.6246\n",
      "Epoch 11/30\n",
      "76/76 [==============================] - 0s 3ms/step - loss: 39.8854 - mean_squared_error: 39.8854\n",
      "Epoch 12/30\n",
      "76/76 [==============================] - 0s 3ms/step - loss: 37.4677 - mean_squared_error: 37.4677\n",
      "Epoch 13/30\n",
      "76/76 [==============================] - 0s 3ms/step - loss: 37.2101 - mean_squared_error: 37.2101\n",
      "Epoch 14/30\n",
      "76/76 [==============================] - 0s 3ms/step - loss: 34.6580 - mean_squared_error: 34.6580\n",
      "Epoch 15/30\n",
      "76/76 [==============================] - 0s 3ms/step - loss: 35.2240 - mean_squared_error: 35.2240\n",
      "Epoch 16/30\n",
      "76/76 [==============================] - 0s 3ms/step - loss: 37.2569 - mean_squared_error: 37.2569\n",
      "Epoch 17/30\n",
      "76/76 [==============================] - 0s 4ms/step - loss: 36.6201 - mean_squared_error: 36.6201\n",
      "Epoch 18/30\n",
      "76/76 [==============================] - 0s 3ms/step - loss: 35.4106 - mean_squared_error: 35.4106\n",
      "Epoch 19/30\n",
      "76/76 [==============================] - 0s 3ms/step - loss: 33.9078 - mean_squared_error: 33.9078\n",
      "Epoch 20/30\n",
      "76/76 [==============================] - 0s 3ms/step - loss: 34.4738 - mean_squared_error: 34.4738\n",
      "Epoch 21/30\n",
      "76/76 [==============================] - 0s 3ms/step - loss: 36.5776 - mean_squared_error: 36.5776\n",
      "Epoch 22/30\n",
      "76/76 [==============================] - 0s 3ms/step - loss: 35.8794 - mean_squared_error: 35.8794\n",
      "Epoch 23/30\n",
      "76/76 [==============================] - 0s 3ms/step - loss: 34.4424 - mean_squared_error: 34.4424\n",
      "Epoch 24/30\n",
      "76/76 [==============================] - 0s 3ms/step - loss: 35.3789 - mean_squared_error: 35.3789\n",
      "Epoch 25/30\n",
      "76/76 [==============================] - 0s 3ms/step - loss: 33.2603 - mean_squared_error: 33.2603\n",
      "Epoch 26/30\n",
      "76/76 [==============================] - 0s 3ms/step - loss: 36.9732 - mean_squared_error: 36.9732\n",
      "Epoch 27/30\n",
      "76/76 [==============================] - 0s 3ms/step - loss: 31.0006 - mean_squared_error: 31.0006\n",
      "Epoch 28/30\n",
      "76/76 [==============================] - 0s 4ms/step - loss: 34.8582 - mean_squared_error: 34.8582\n",
      "Epoch 29/30\n",
      "76/76 [==============================] - 0s 3ms/step - loss: 32.4770 - mean_squared_error: 32.4770\n",
      "Epoch 30/30\n",
      "76/76 [==============================] - 0s 3ms/step - loss: 31.6907 - mean_squared_error: 31.6907\n"
     ]
    }
   ],
   "source": [
    "# 신경망 학습\n",
    "# 트레이팅 데이터(X_tn), 트레이팅 데이터에 따른 타겟 데이터(y_tn), epoch, batch_size\n",
    "hist = model.fit(X_tn, y_tn, epochs=e, batch_size=5)"
   ],
   "metadata": {
    "collapsed": false,
    "ExecuteTime": {
     "start_time": "2023-04-18T17:14:28.192653Z",
     "end_time": "2023-04-18T17:14:36.954970Z"
    }
   }
  },
  {
   "cell_type": "code",
   "execution_count": 12,
   "outputs": [
    {
     "name": "stdout",
     "output_type": "stream",
     "text": [
      "12/12 [==============================] - 0s 3ms/step - loss: 51.5558 - mean_squared_error: 51.5558\n",
      "[51.55582809448242, 51.55582809448242]\n",
      "4/4 [==============================] - 0s 6ms/step - loss: 73.9727 - mean_squared_error: 73.9727\n",
      "[73.97268676757812, 73.97268676757812]\n"
     ]
    },
    {
     "name": "stderr",
     "output_type": "stream",
     "text": [
      "2023-04-18 17:14:37.013720: I tensorflow/core/grappler/optimizers/custom_graph_optimizer_registry.cc:113] Plugin optimizer for device_type GPU is enabled.\n"
     ]
    }
   ],
   "source": [
    "# 학습 평가\n",
    "print(model.evaluate(X_tn, y_tn))  # 트레이닝 데이터 학습 평가\n",
    "print(model.evaluate(X_te, y_te))  # 테스트 데이터 학습 평가"
   ],
   "metadata": {
    "collapsed": false,
    "ExecuteTime": {
     "start_time": "2023-04-18T17:14:36.955219Z",
     "end_time": "2023-04-18T17:14:37.144943Z"
    }
   }
  },
  {
   "cell_type": "code",
   "execution_count": 13,
   "outputs": [
    {
     "name": "stdout",
     "output_type": "stream",
     "text": [
      "[ 1  2  3  4  5  6  7  8  9 10 11 12 13 14 15 16 17 18 19 20 21 22 23 24\n",
      " 25 26 27 28 29 30]\n",
      "[474.81610107421875, 97.47367858886719, 81.16602325439453, 72.60582733154297, 63.10708236694336, 57.305538177490234, 53.32482147216797, 48.030452728271484, 44.41228485107422, 44.62456130981445, 39.885379791259766, 37.46772766113281, 37.210052490234375, 34.657981872558594, 35.22400665283203, 37.256927490234375, 36.62006759643555, 35.410614013671875, 33.907806396484375, 34.47383499145508, 36.57756423950195, 35.87944793701172, 34.44242858886719, 35.37887954711914, 33.260345458984375, 36.97322463989258, 31.0006103515625, 34.85824966430664, 32.476993560791016, 31.690673828125]\n",
      "[474.81610107421875, 97.47367858886719, 81.16602325439453, 72.60582733154297, 63.10707473754883, 57.305538177490234, 53.32482147216797, 48.030452728271484, 44.41228485107422, 44.62456130981445, 39.885379791259766, 37.46772384643555, 37.210052490234375, 34.657981872558594, 35.224002838134766, 37.256927490234375, 36.62006759643555, 35.410614013671875, 33.907806396484375, 34.47383499145508, 36.57756423950195, 35.87944793701172, 34.44242858886719, 35.37887954711914, 33.260345458984375, 36.97322082519531, 31.0006103515625, 34.85824966430664, 32.476993560791016, 31.690673828125]\n"
     ]
    }
   ],
   "source": [
    "# 정확도 및 손실 정도 시각화 준비\n",
    "epoch = np.arange(1, e + 1)\n",
    "print(epoch)\n",
    "mse = hist.history['mean_squared_error']\n",
    "print(mse)\n",
    "loss = hist.history['loss']\n",
    "print(loss)"
   ],
   "metadata": {
    "collapsed": false,
    "ExecuteTime": {
     "start_time": "2023-04-18T17:14:37.126252Z",
     "end_time": "2023-04-18T17:14:37.149175Z"
    }
   }
  },
  {
   "cell_type": "code",
   "execution_count": 14,
   "outputs": [
    {
     "data": {
      "text/plain": "<Figure size 800x600 with 1 Axes>",
      "image/png": "[encoded data removed]"
     },
     "metadata": {},
     "output_type": "display_data"
    }
   ],
   "source": [
    "# MSE 학습 그래프\n",
    "import matplotlib.pyplot as plt\n",
    "\n",
    "plt.figure(figsize=[8, 6])\n",
    "plt.plot(epoch, mse, label='mse')\n",
    "plt.xlabel('epoch')\n",
    "plt.ylabel('mean_squared_error')\n",
    "plt.legend()\n",
    "plt.show()\n",
    "# epoch가 진행될수록 MSE가 감소하는 것을 확인할 수 있다."
   ],
   "metadata": {
    "collapsed": false,
    "ExecuteTime": {
     "start_time": "2023-04-18T17:14:37.132035Z",
     "end_time": "2023-04-18T17:14:37.540898Z"
    }
   }
  },
  {
   "cell_type": "code",
   "execution_count": 15,
   "outputs": [
    {
     "data": {
      "text/plain": "<Figure size 800x600 with 1 Axes>",
      "image/png": "[encoded data removed]"
     },
     "metadata": {},
     "output_type": "display_data"
    }
   ],
   "source": [
    "# 손실 그래프\n",
    "plt.figure(figsize=[8, 6])\n",
    "plt.plot(epoch, loss, 'r', marker='o', label='loss')\n",
    "plt.xlabel('epoch')\n",
    "plt.ylabel('loss')\n",
    "plt.legend()\n",
    "plt.show()\n",
    "# 손실 확인 결과 에포크 진행 단계별로 손실이 점차 낮아지는 것을 볼 수 있다."
   ],
   "metadata": {
    "collapsed": false,
    "ExecuteTime": {
     "start_time": "2023-04-18T17:14:37.549110Z",
     "end_time": "2023-04-18T17:14:37.603636Z"
    }
   }
  },
  {
   "cell_type": "code",
   "execution_count": 16,
   "outputs": [
    {
     "name": "stdout",
     "output_type": "stream",
     "text": [
      "4/4 [==============================] - 0s 3ms/step\n"
     ]
    },
    {
     "name": "stderr",
     "output_type": "stream",
     "text": [
      "2023-04-18 17:14:37.639762: I tensorflow/core/grappler/optimizers/custom_graph_optimizer_registry.cc:113] Plugin optimizer for device_type GPU is enabled.\n"
     ]
    },
    {
     "data": {
      "text/plain": "array([14.926873 , 17.681852 , 26.267515 ,  7.9176536, 15.005158 ,\n       20.334684 , 11.632001 , 22.128695 , 13.236653 ,  7.8890834,\n        5.115789 ,  9.617932 , 10.792657 ,  2.561948 , 33.26321  ,\n       22.72695  , 13.689969 , 29.558775 , 24.675913 , 21.29933  ,\n       22.893763 , 17.086325 , 16.023722 , 26.365953 , 21.479933 ,\n       10.689126 , 17.37974  , 11.0042925, 28.34699  , 15.011762 ,\n       10.714322 , 12.856984 , 17.735544 , 20.255526 , 24.82311  ,\n       12.98763  ,  4.1403785, 16.951502 ,  6.411756 ,  6.421945 ,\n       22.591528 , 18.94399  , 12.94563  ,  9.773438 , 17.00799  ,\n       23.849695 , 16.264467 , 14.620774 ,  7.6369033, 20.45452  ,\n        7.750215 , 11.07322  , 18.99206  , 22.40167  ,  7.765283 ,\n       15.407399 , 17.322477 , 10.0682535, 14.9719095, 18.075174 ,\n       16.162928 , 18.721216 , 24.999449 , 24.195585 ,  9.034802 ,\n       24.184458 , 11.682733 , 13.969014 ,  8.437684 , 20.76814  ,\n       15.780759 , 17.59318  , 26.882372 , 23.865835 , 16.954924 ,\n       -1.2630488, 27.122015 , 20.39472  , 23.056795 , 16.3874   ,\n       22.71977  , 17.16749  , 14.822957 , 28.526926 , 28.235552 ,\n       21.927984 , 20.246096 ,  4.7907844, 24.334219 ,  9.029698 ,\n        9.726117 ,  4.301355 , 23.695444 , 25.389875 , 24.684244 ,\n       17.65978  , -3.0274074, 24.955667 ,  7.9761596, 17.916891 ,\n       20.105284 , 19.003881 , 25.384798 , 17.426325 , 20.630232 ,\n       20.27957  , -1.1384836, 12.069371 , 23.598494 , 20.722704 ,\n       26.477163 ,  5.149896 , 15.841153 ,  9.993226 ,  5.0927978,\n       17.211637 , -3.8662937, 18.965406 ,  5.4444556, 38.19452  ,\n       23.669436 ,  7.5923514, 15.863919 , 17.59075  , 22.656435 ,\n       18.33013  , 30.232405 ], dtype=float32)"
     },
     "execution_count": 16,
     "metadata": {},
     "output_type": "execute_result"
    }
   ],
   "source": [
    "# 실제값, 예측값 데이터프레임 생성\n",
    "pred_y = model.predict(X_te).flatten()\n",
    "pred_y"
   ],
   "metadata": {
    "collapsed": false,
    "ExecuteTime": {
     "start_time": "2023-04-18T17:14:37.600296Z",
     "end_time": "2023-04-18T17:14:37.704042Z"
    }
   }
  },
  {
   "cell_type": "code",
   "execution_count": 17,
   "outputs": [
    {
     "data": {
      "text/plain": "     predict_val  real_val\n0      14.926873      22.6\n1      17.681852      50.0\n2      26.267515      23.0\n3       7.917654       8.3\n4      15.005158      21.2\n..           ...       ...\n122    15.863919      19.4\n123    17.590750      21.2\n124    22.656435      20.3\n125    18.330130      18.8\n126    30.232405      33.4\n\n[127 rows x 2 columns]",
      "text/html": "<div>\n<style scoped>\n    .dataframe tbody tr th:only-of-type {\n        vertical-align: middle;\n    }\n\n    .dataframe tbody tr th {\n        vertical-align: top;\n    }\n\n    .dataframe thead th {\n        text-align: right;\n    }\n</style>\n<table border=\"1\" class=\"dataframe\">\n  <thead>\n    <tr style=\"text-align: right;\">\n      <th></th>\n      <th>predict_val</th>\n      <th>real_val</th>\n    </tr>\n  </thead>\n  <tbody>\n    <tr>\n      <th>0</th>\n      <td>14.926873</td>\n      <td>22.6</td>\n    </tr>\n    <tr>\n      <th>1</th>\n      <td>17.681852</td>\n      <td>50.0</td>\n    </tr>\n    <tr>\n      <th>2</th>\n      <td>26.267515</td>\n      <td>23.0</td>\n    </tr>\n    <tr>\n      <th>3</th>\n      <td>7.917654</td>\n      <td>8.3</td>\n    </tr>\n    <tr>\n      <th>4</th>\n      <td>15.005158</td>\n      <td>21.2</td>\n    </tr>\n    <tr>\n      <th>...</th>\n      <td>...</td>\n      <td>...</td>\n    </tr>\n    <tr>\n      <th>122</th>\n      <td>15.863919</td>\n      <td>19.4</td>\n    </tr>\n    <tr>\n      <th>123</th>\n      <td>17.590750</td>\n      <td>21.2</td>\n    </tr>\n    <tr>\n      <th>124</th>\n      <td>22.656435</td>\n      <td>20.3</td>\n    </tr>\n    <tr>\n      <th>125</th>\n      <td>18.330130</td>\n      <td>18.8</td>\n    </tr>\n    <tr>\n      <th>126</th>\n      <td>30.232405</td>\n      <td>33.4</td>\n    </tr>\n  </tbody>\n</table>\n<p>127 rows × 2 columns</p>\n</div>"
     },
     "execution_count": 17,
     "metadata": {},
     "output_type": "execute_result"
    }
   ],
   "source": [
    "import pandas as pd\n",
    "\n",
    "result_df = pd.DataFrame(pred_y, columns=['predict_val'])\n",
    "result_df['real_val'] = y_te\n",
    "result_df"
   ],
   "metadata": {
    "collapsed": false,
    "ExecuteTime": {
     "start_time": "2023-04-18T17:14:37.699069Z",
     "end_time": "2023-04-18T17:14:37.707387Z"
    }
   }
  },
  {
   "cell_type": "code",
   "execution_count": 18,
   "outputs": [
    {
     "data": {
      "text/plain": "     predict_val  real_val\n116    -3.866294       8.4\n96     -3.027407      13.8\n75     -1.263049       7.4\n106    -1.138484      10.4\n13      2.561948      10.5\n..           ...       ...\n83     28.526926      44.8\n17     29.558775      33.3\n126    30.232405      33.4\n14     33.263210      50.0\n119    38.194519      50.0\n\n[127 rows x 2 columns]",
      "text/html": "<div>\n<style scoped>\n    .dataframe tbody tr th:only-of-type {\n        vertical-align: middle;\n    }\n\n    .dataframe tbody tr th {\n        vertical-align: top;\n    }\n\n    .dataframe thead th {\n        text-align: right;\n    }\n</style>\n<table border=\"1\" class=\"dataframe\">\n  <thead>\n    <tr style=\"text-align: right;\">\n      <th></th>\n      <th>predict_val</th>\n      <th>real_val</th>\n    </tr>\n  </thead>\n  <tbody>\n    <tr>\n      <th>116</th>\n      <td>-3.866294</td>\n      <td>8.4</td>\n    </tr>\n    <tr>\n      <th>96</th>\n      <td>-3.027407</td>\n      <td>13.8</td>\n    </tr>\n    <tr>\n      <th>75</th>\n      <td>-1.263049</td>\n      <td>7.4</td>\n    </tr>\n    <tr>\n      <th>106</th>\n      <td>-1.138484</td>\n      <td>10.4</td>\n    </tr>\n    <tr>\n      <th>13</th>\n      <td>2.561948</td>\n      <td>10.5</td>\n    </tr>\n    <tr>\n      <th>...</th>\n      <td>...</td>\n      <td>...</td>\n    </tr>\n    <tr>\n      <th>83</th>\n      <td>28.526926</td>\n      <td>44.8</td>\n    </tr>\n    <tr>\n      <th>17</th>\n      <td>29.558775</td>\n      <td>33.3</td>\n    </tr>\n    <tr>\n      <th>126</th>\n      <td>30.232405</td>\n      <td>33.4</td>\n    </tr>\n    <tr>\n      <th>14</th>\n      <td>33.263210</td>\n      <td>50.0</td>\n    </tr>\n    <tr>\n      <th>119</th>\n      <td>38.194519</td>\n      <td>50.0</td>\n    </tr>\n  </tbody>\n</table>\n<p>127 rows × 2 columns</p>\n</div>"
     },
     "execution_count": 18,
     "metadata": {},
     "output_type": "execute_result"
    }
   ],
   "source": [
    "# 예측값을 기준으로 데이터프레임을 오름차순으로 정렬한다.\n",
    "df_sort = result_df.sort_values(['predict_val'], ascending=True)\n",
    "df_sort"
   ],
   "metadata": {
    "collapsed": false,
    "ExecuteTime": {
     "start_time": "2023-04-18T17:14:37.705538Z",
     "end_time": "2023-04-18T17:14:37.712227Z"
    }
   }
  },
  {
   "cell_type": "code",
   "execution_count": 19,
   "outputs": [
    {
     "data": {
      "text/plain": "<Figure size 800x600 with 1 Axes>",
      "image/png": "[encoded data removed]"
     },
     "metadata": {},
     "output_type": "display_data"
    }
   ],
   "source": [
    "# 예측값, 실제값 비교 그래프\n",
    "plt.figure(figsize=[8, 6])\n",
    "idx = np.arange(1, len(df_sort) + 1)\n",
    "plt.scatter(idx, df_sort['real_val'], marker='o', label='real_val')\n",
    "plt.plot(idx, df_sort['predict_val'], color='r', label='predict_val')\n",
    "plt.xlabel('index')\n",
    "plt.ylabel('value')\n",
    "plt.legend()\n",
    "plt.show()"
   ],
   "metadata": {
    "collapsed": false,
    "ExecuteTime": {
     "start_time": "2023-04-18T17:14:37.715587Z",
     "end_time": "2023-04-18T17:14:37.935700Z"
    }
   }
  },
  {
   "cell_type": "code",
   "execution_count": 19,
   "outputs": [],
   "source": [],
   "metadata": {
    "collapsed": false,
    "ExecuteTime": {
     "start_time": "2023-04-18T17:14:37.795098Z",
     "end_time": "2023-04-18T17:14:37.936077Z"
    }
   }
  }
 ],
 "metadata": {
  "kernelspec": {
   "display_name": "Python 3",
   "language": "python",
   "name": "python3"
  },
  "language_info": {
   "codemirror_mode": {
    "name": "ipython",
    "version": 2
   },
   "file_extension": ".py",
   "mimetype": "text/x-python",
   "name": "python",
   "nbconvert_exporter": "python",
   "pygments_lexer": "ipython2",
   "version": "2.7.6"
  }
 },
 "nbformat": 4,
 "nbformat_minor": 0
}
