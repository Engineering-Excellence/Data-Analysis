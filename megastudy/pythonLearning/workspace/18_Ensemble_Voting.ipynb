{
 "cells": [
  {
   "cell_type": "code",
   "execution_count": 27,
   "metadata": {
    "collapsed": true
   },
   "outputs": [],
   "source": [
    "import numpy as np\n",
    "%config Completer.use_jedi = False\n",
    "import warnings\n",
    "warnings.filterwarnings(action='ignore')\n",
    "import matplotlib.pyplot as plt"
   ]
  },
  {
   "cell_type": "code",
   "execution_count": 15,
   "outputs": [],
   "source": [
    "from sklearn import datasets  # MNIST 손글씨 데이터셋을 사용하기 위해 import 한다.\n",
    "from sklearn.neighbors import KNeighborsClassifier  # kNN\n",
    "from sklearn.svm import SVC  # SVM\n",
    "from sklearn import tree  # 의사결정 트리\n",
    "from sklearn.ensemble import VotingClassifier  # 하드/소프트 보팅을 계산하기 위해 import 한다.\n",
    "from sklearn.model_selection import train_test_split\n",
    "from sklearn.metrics import accuracy_score"
   ],
   "metadata": {
    "collapsed": false
   }
  },
  {
   "cell_type": "markdown",
   "source": [
    "손글씨 데이터를 불러온다."
   ],
   "metadata": {
    "collapsed": false
   }
  },
  {
   "cell_type": "code",
   "execution_count": 16,
   "outputs": [
    {
     "data": {
      "text/plain": "((1797, 64), (1797,))"
     },
     "execution_count": 16,
     "metadata": {},
     "output_type": "execute_result"
    }
   ],
   "source": [
    "mnist = datasets.load_digits()  # MNIST 손글씨 데이터를 불러온다.\n",
    "features, labels = mnist.data, mnist.target\n",
    "features.shape, labels.shape"
   ],
   "metadata": {
    "collapsed": false
   }
  },
  {
   "cell_type": "markdown",
   "source": [
    "학습 데이터와 테스트 데이터를 나눈다."
   ],
   "metadata": {
    "collapsed": false
   }
  },
  {
   "cell_type": "code",
   "execution_count": 17,
   "outputs": [
    {
     "name": "stdout",
     "output_type": "stream",
     "text": [
      "학습 데이터 개수: 1437, 테스트 데이터 개수: 360\n"
     ]
    }
   ],
   "source": [
    "X_train, X_test, y_train, y_test = train_test_split(features, labels, test_size=0.2)\n",
    "print(f'학습 데이터 개수: {X_train.shape[0]}, 테스트 데이터 개수: {X_test.shape[0]}')"
   ],
   "metadata": {
    "collapsed": false
   }
  },
  {
   "cell_type": "markdown",
   "source": [
    "단일 모델의 정확도 측정\n",
    "앙상블 정확도를 측정하기에 앞서 kNN, SVM, 의사결정 트리 분류기를 만들어 단일 모델들의 정확도를 계산한다."
   ],
   "metadata": {
    "collapsed": false
   }
  },
  {
   "cell_type": "code",
   "execution_count": 18,
   "outputs": [
    {
     "name": "stdout",
     "output_type": "stream",
     "text": [
      "kNN accuracy: 84.72%\n"
     ]
    }
   ],
   "source": [
    "# kNN\n",
    "knn = KNeighborsClassifier(n_neighbors=299).fit(X_train, y_train)\n",
    "knn_predict = knn.predict(X_test)\n",
    "print(f'kNN accuracy: {accuracy_score(y_test, knn_predict):.2%}')"
   ],
   "metadata": {
    "collapsed": false
   }
  },
  {
   "cell_type": "code",
   "execution_count": 19,
   "outputs": [
    {
     "name": "stdout",
     "output_type": "stream",
     "text": [
      "SVM accuracy: 89.17%\n"
     ]
    }
   ],
   "source": [
    "# SVM\n",
    "svm = SVC(C=0.1, gamma=0.003, probability=True, random_state=35).fit(X_train, y_train)\n",
    "svm_predict = svm.predict(X_test)\n",
    "print(f'SVM accuracy: {accuracy_score(y_test, svm_predict):.2%}')"
   ],
   "metadata": {
    "collapsed": false
   }
  },
  {
   "cell_type": "code",
   "execution_count": 20,
   "outputs": [
    {
     "name": "stdout",
     "output_type": "stream",
     "text": [
      "DecisionTree accuracy: 83.61%\n"
     ]
    }
   ],
   "source": [
    "# 의사결정 트리\n",
    "dtree = tree.DecisionTreeClassifier(max_depth=8, random_state=35).fit(X_train, y_train)\n",
    "dtree_predict = dtree.predict(X_test)\n",
    "print(f'DecisionTree accuracy: {accuracy_score(y_test, dtree_predict):.2%}')"
   ],
   "metadata": {
    "collapsed": false
   }
  },
  {
   "cell_type": "markdown",
   "source": [
    "확률 합계"
   ],
   "metadata": {
    "collapsed": false
   }
  },
  {
   "cell_type": "code",
   "execution_count": 21,
   "outputs": [
    {
     "name": "stdout",
     "output_type": "stream",
     "text": [
      "360\n",
      "[0.00334448 0.31438127 0.06020067 0.00334448 0.11705686 0.00668896\n",
      " 0.20401338 0.02675585 0.26421405 0.        ]\n",
      "확률 합계: 1.0\n"
     ]
    }
   ],
   "source": [
    "knn_proba = knn.predict_proba(X_test)\n",
    "print(len(knn_proba))\n",
    "print(knn_proba[0])\n",
    "total = 0.0\n",
    "for i in knn_proba[0]:\n",
    "    total += i\n",
    "print(f'확률 합계: {total}')"
   ],
   "metadata": {
    "collapsed": false
   }
  },
  {
   "cell_type": "code",
   "execution_count": 22,
   "outputs": [
    {
     "name": "stdout",
     "output_type": "stream",
     "text": [
      "360\n",
      "[0.00244939 0.79657246 0.01425948 0.00612091 0.01747308 0.01366149\n",
      " 0.00674769 0.00969163 0.12004055 0.01298334]\n",
      "확률 합계: 1.0000000000000007\n"
     ]
    }
   ],
   "source": [
    "svm_proba = svm.predict_proba(X_test)\n",
    "print(len(svm_proba))\n",
    "print(svm_proba[0])\n",
    "total = 0.0\n",
    "for i in svm_proba[0]:\n",
    "    total += i\n",
    "print(f'확률 합계: {total}')"
   ],
   "metadata": {
    "collapsed": false
   }
  },
  {
   "cell_type": "code",
   "execution_count": 23,
   "outputs": [
    {
     "name": "stdout",
     "output_type": "stream",
     "text": [
      "360\n",
      "[0.       0.890625 0.015625 0.03125  0.015625 0.       0.       0.\n",
      " 0.046875 0.      ]\n",
      "확률 합계: 1.0\n"
     ]
    }
   ],
   "source": [
    "dtree_proba = dtree.predict_proba(X_test)\n",
    "print(len(dtree_proba))\n",
    "print(dtree_proba[0])\n",
    "total = 0.0\n",
    "for i in dtree_proba[0]:\n",
    "    total += i\n",
    "print(f'확률 합계: {total}')"
   ],
   "metadata": {
    "collapsed": false
   }
  },
  {
   "cell_type": "markdown",
   "source": [
    "하드 보팅, 소프트 보팅은 VotingClassifier를 사용하여 쉽게 구현할 수 있다."
   ],
   "metadata": {
    "collapsed": false
   }
  },
  {
   "cell_type": "markdown",
   "source": [
    "# 하드 보팅\n",
    "일반적인 투표와 같이 각 분류기의 예측값들을 모아 가장 많은 투표를 받은 예측값으로 최종 결론을 내린다."
   ],
   "metadata": {
    "collapsed": false
   }
  },
  {
   "cell_type": "code",
   "execution_count": 24,
   "outputs": [
    {
     "name": "stdout",
     "output_type": "stream",
     "text": [
      "hard_voting: 91.67%\n"
     ]
    }
   ],
   "source": [
    "voting_clf = VotingClassifier(estimators=[('knn', knn), ('svm', svm), ('decision_tree', dtree)], weights=[1, 1, 1],\n",
    "                              voting='hard').fit(X_train, y_train)\n",
    "hard_voting_predict = voting_clf.predict(X_test)\n",
    "print(f'hard_voting: {accuracy_score(y_test, hard_voting_predict):.2%}')"
   ],
   "metadata": {
    "collapsed": false
   }
  },
  {
   "cell_type": "markdown",
   "source": [
    "# 소프트 보팅"
   ],
   "metadata": {
    "collapsed": false
   }
  },
  {
   "cell_type": "code",
   "execution_count": 25,
   "outputs": [
    {
     "name": "stdout",
     "output_type": "stream",
     "text": [
      "soft_voting: 89.72%\n"
     ]
    }
   ],
   "source": [
    "voting_clf = VotingClassifier(estimators=[('knn', knn), ('svm', svm), ('decision_tree', dtree)], weights=[1, 1, 1],\n",
    "                              voting='soft').fit(X_train, y_train)\n",
    "soft_voting_predict = voting_clf.predict(X_test)\n",
    "print(f'soft_voting: {accuracy_score(y_test, soft_voting_predict):.2%}')"
   ],
   "metadata": {
    "collapsed": false
   }
  },
  {
   "cell_type": "markdown",
   "source": [
    "단일 모델과 앙상블 모델의 정확도 비교 시각화"
   ],
   "metadata": {
    "collapsed": false
   }
  },
  {
   "cell_type": "code",
   "execution_count": 32,
   "outputs": [
    {
     "data": {
      "text/plain": "<Figure size 800x600 with 1 Axes>",
      "image/png": "[encoded data removed]"
     },
     "metadata": {},
     "output_type": "display_data"
    }
   ],
   "source": [
    "plt.figure(figsize=(8, 6))\n",
    "x = np.arange(5)\n",
    "plt.bar(x, height=[\n",
    "    accuracy_score(y_test, knn_predict),\n",
    "    accuracy_score(y_test, svm_predict),\n",
    "    accuracy_score(y_test, dtree_predict),\n",
    "    accuracy_score(y_test, hard_voting_predict),\n",
    "    accuracy_score(y_test, soft_voting_predict)\n",
    "])\n",
    "plt.xticks(x, ['knn', 'svm', 'decision_tree', 'hard_voting', 'soft_voting'])\n",
    "plt.show()"
   ],
   "metadata": {
    "collapsed": false
   }
  },
  {
   "cell_type": "code",
   "execution_count": null,
   "outputs": [],
   "source": [],
   "metadata": {
    "collapsed": false
   }
  }
 ],
 "metadata": {
  "kernelspec": {
   "display_name": "Python 3",
   "language": "python",
   "name": "python3"
  },
  "language_info": {
   "codemirror_mode": {
    "name": "ipython",
    "version": 2
   },
   "file_extension": ".py",
   "mimetype": "text/x-python",
   "name": "python",
   "nbconvert_exporter": "python",
   "pygments_lexer": "ipython2",
   "version": "2.7.6"
  }
 },
 "nbformat": 4,
 "nbformat_minor": 0
}
