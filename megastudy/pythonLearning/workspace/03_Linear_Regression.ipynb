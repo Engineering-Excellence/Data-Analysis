{
 "cells": [
  {
   "cell_type": "code",
   "execution_count": 84,
   "metadata": {
    "collapsed": true
   },
   "outputs": [],
   "source": [
    "%config Completer.use_jedi = False\n",
    "import warnings\n",
    "\n",
    "warnings.filterwarnings(action='ignore')\n",
    "import tensorflow.compat.v1 as tf\n",
    "\n",
    "tf.disable_v2_behavior()"
   ]
  },
  {
   "cell_type": "markdown",
   "source": [
    "학습할 데이터를 만든다."
   ],
   "metadata": {
    "collapsed": false
   }
  },
  {
   "cell_type": "code",
   "execution_count": 85,
   "outputs": [],
   "source": [
    "xData = [i + 1 for i in range(7)]  # 1일 근무시간\n",
    "yData = [25000, 55000, 75000, 110000, 128000, 155000, 180000]  # 근무시간에 따른 매출금액, 실제값, 레이블, 답, 관측값"
   ],
   "metadata": {
    "collapsed": false
   }
  },
  {
   "cell_type": "markdown",
   "source": [
    "과적합을 방지하기 위해서 난수를 발생시켜 가중치(기울기)와 바이어스(y절편)를 정한다.\n",
    "과적합이란 학습시킨 데이터에서는 높은 정확도를 보이지만 학습시킨 이외의 데이터에서는 낮은 정확도를 보이는 문제점을 말한다."
   ],
   "metadata": {
    "collapsed": false
   }
  },
  {
   "cell_type": "code",
   "execution_count": 86,
   "outputs": [
    {
     "name": "stdout",
     "output_type": "stream",
     "text": [
      "a = <tf.Variable 'Variable_21:0' shape=(1,) dtype=float32_ref>\n",
      "b = <tf.Variable 'Variable_22:0' shape=(1,) dtype=float32_ref>\n"
     ]
    }
   ],
   "source": [
    "# tf.random_uniform([난수의 개수])\n",
    "a = tf.Variable(tf.random_uniform([1], -100, 100))  # 가중치, -100 ~ 100 사이의 난수\n",
    "b = tf.Variable(tf.random_uniform([1], -100, 100))  # 편향, -100 ~ 100 사이의 난수\n",
    "print(f'a = {a}\\nb = {b}')"
   ],
   "metadata": {
    "collapsed": false
   }
  },
  {
   "cell_type": "markdown",
   "source": [
    "tensorflow 변수를 초기화하고 난수로 발생시킨 가중치와 바이어스 값을 확인한다."
   ],
   "metadata": {
    "collapsed": false
   }
  },
  {
   "cell_type": "code",
   "execution_count": 87,
   "outputs": [
    {
     "name": "stdout",
     "output_type": "stream",
     "text": [
      "a = [-92.37118]\n",
      "b = [76.427155]\n"
     ]
    }
   ],
   "source": [
    "sess = tf.Session()\n",
    "sess.run(tf.global_variables_initializer())\n",
    "print(f'a = {sess.run(a)}\\nb = {sess.run(b)}')"
   ],
   "metadata": {
    "collapsed": false
   }
  },
  {
   "cell_type": "markdown",
   "source": [
    "근무시간과 매출금액을 기억할 자료형(placeholder)을 선언한다."
   ],
   "metadata": {
    "collapsed": false
   }
  },
  {
   "cell_type": "code",
   "execution_count": 88,
   "outputs": [],
   "source": [
    "x = tf.placeholder(dtype=tf.float32)  # 근무시간을 기억할 placeholder\n",
    "y = tf.placeholder(dtype=tf.float32)  # 매출금액(실제값)을 기억할 placeholder"
   ],
   "metadata": {
    "collapsed": false
   }
  },
  {
   "cell_type": "markdown",
   "source": [
    "1차 방정식 형태의 가설을 세우고 오차(비용, 손실) 함수를 정의한다."
   ],
   "metadata": {
    "collapsed": false
   }
  },
  {
   "cell_type": "code",
   "execution_count": 89,
   "outputs": [],
   "source": [
    "# 1차 방정식 형태의 가설, Y: 예측값\n",
    "Y = a * x + b\n",
    "# 오차 함수(평균 제곱법)\n",
    "# 실제값(yData → y)과 예측값(Y)의 편차에 대한 제곱의 평균을 이용한다.\n",
    "# square(): 제곱값을 계산한다.\n",
    "# reduce_mean(): 평균을 계산한다.\n",
    "cost = tf.reduce_mean(tf.square(Y - y))"
   ],
   "metadata": {
    "collapsed": false
   }
  },
  {
   "cell_type": "markdown",
   "source": [
    "경사하강법 함수 오차 함수의 결과를 가장 작게 만드는 방향으로 학습하도록 정의한다."
   ],
   "metadata": {
    "collapsed": false
   }
  },
  {
   "cell_type": "code",
   "execution_count": 90,
   "outputs": [],
   "source": [
    "# 경사하강 알고리즘의 학습율을 설정한다.\n",
    "learning_rate = tf.Variable(0.01)\n",
    "# tf.train.GradientDescentOptimizer(): 학습율에 따른 오차 함수를 계산한다.\n",
    "# minimize(오차함수): 경사하강 알고리즘에 따라 지정된 오차 함수의 최소값을 찾는다.\n",
    "# optimizer = tf.train.GradientDescentOptimizer(learning_rate)\n",
    "# train = optimizer.minimize(cost)\n",
    "train = tf.train.GradientDescentOptimizer(learning_rate).minimize(cost)"
   ],
   "metadata": {
    "collapsed": false
   }
  },
  {
   "cell_type": "markdown",
   "source": [
    "학습시킨다."
   ],
   "metadata": {
    "collapsed": false
   }
  },
  {
   "cell_type": "code",
   "execution_count": 97,
   "outputs": [
    {
     "name": "stdout",
     "output_type": "stream",
     "text": [
      "epoch =    0 → 오차 = 4577209856.00, 가중치 = 10409.52, 바이어스 = 2026.53\n",
      "epoch =  500 → 오차 =    8685604.00, 가중치 = 25538.97, 바이어스 = 1943.00\n",
      "epoch = 1000 → 오차 =    8633774.00, 가중치 = 25627.72, 바이어스 = 1503.54\n",
      "epoch = 1500 → 오차 =    8632675.00, 가중치 = 25640.65, 바이어스 = 1439.50\n",
      "epoch = 2000 → 오차 =    8632653.00, 가중치 = 25642.54, 바이어스 = 1430.16\n",
      "epoch = 2500 → 오차 =    8632639.00, 가중치 = 25642.81, 바이어스 = 1428.82\n",
      "epoch = 3000 → 오차 =    8632651.00, 가중치 = 25642.84, 바이어스 = 1428.63\n",
      "epoch = 3500 → 오차 =    8632656.00, 가중치 = 25642.85, 바이어스 = 1428.61\n",
      "epoch = 4000 → 오차 =    8632656.00, 가중치 = 25642.85, 바이어스 = 1428.61\n",
      "epoch = 4500 → 오차 =    8632656.00, 가중치 = 25642.85, 바이어스 = 1428.61\n",
      "epoch = 5000 → 오차 =    8632656.00, 가중치 = 25642.85, 바이어스 = 1428.61\n",
      "<class 'numpy.ndarray'>\n",
      "[25642.848]\n"
     ]
    }
   ],
   "source": [
    "# Session을 만들고 변수를 초기화한다.\n",
    "sess = tf.Session()\n",
    "sess.run(tf.global_variables_initializer())\n",
    "\n",
    "for i in range(5001):\n",
    "    # 오차 함수 결과를 가장 작게 만드는 학습을 할 수 있도록 placeholder에 데이터를 대입하고 학습시킨다.\n",
    "    # 학습할 데이터는 placeholder에 feed_dict 딕셔너리로 대입한다.\n",
    "    # feed_dict의 key에는 placeholder 이름을, value에는 placeholder에 저장할 리스트 또는 튜플 타입의 데이터를 지정한다.\n",
    "    sess.run(train, feed_dict={x: xData, y: yData})\n",
    "\n",
    "    # 일정한 epoch 단위마다 중간 결과를 출력한다.\n",
    "    if i % 500 == 0:\n",
    "        # epoch(i), 오차(cost)\n",
    "        # print(f'epoch = {i:4d} → loss = {sess.run(cost, feed_dict={x: xData, y: yData}):13.2f}, a = {sess.run(a)[0]:8.2f}, b = {sess.run(b)[0]:7.2f}')\n",
    "        print('epoch = %4d → 오차 = %13.2f, 가중치 = %8.2f, 바이어스 = %7.2f' % (\n",
    "        i, sess.run(cost, feed_dict={x: xData, y: yData}), sess.run(a), sess.run(b)))\n",
    "print(type(sess.run(a)))\n",
    "print(sess.run(a))"
   ],
   "metadata": {
    "collapsed": false
   }
  },
  {
   "cell_type": "markdown",
   "source": [
    "8632656.00"
   ],
   "metadata": {
    "collapsed": false
   }
  },
  {
   "cell_type": "code",
   "execution_count": 96,
   "outputs": [
    {
     "name": "stdout",
     "output_type": "stream",
     "text": [
      " 8시간 근무를 했을 때 매출 기대금액: 206,571\n",
      " 9시간 근무를 했을 때 매출 기대금액: 232,214\n",
      "10시간 근무를 했을 때 매출 기대금액: 257,857\n",
      "11시간 근무를 했을 때 매출 기대금액: 283,500\n",
      "12시간 근무를 했을 때 매출 기대금액: 309,143\n",
      "13시간 근무를 했을 때 매출 기대금액: 334,786\n",
      "14시간 근무를 했을 때 매출 기대금액: 360,428\n",
      "15시간 근무를 했을 때 매출 기대금액: 386,071\n",
      "16시간 근무를 했을 때 매출 기대금액: 411,714\n",
      "17시간 근무를 했을 때 매출 기대금액: 437,357\n",
      "18시간 근무를 했을 때 매출 기대금액: 463,000\n",
      "19시간 근무를 했을 때 매출 기대금액: 488,643\n",
      "20시간 근무를 했을 때 매출 기대금액: 514,286\n",
      "21시간 근무를 했을 때 매출 기대금액: 539,928\n",
      "22시간 근무를 했을 때 매출 기대금액: 565,571\n",
      "23시간 근무를 했을 때 매출 기대금액: 591,214\n",
      "24시간 근무를 했을 때 매출 기대금액: 616,857\n"
     ]
    }
   ],
   "source": [
    "for i in range(8, 25):\n",
    "    print(f'{i:2d}시간 근무를 했을 때 매출 기대금액: {sess.run(Y, feed_dict={x: i})[0]:,.0f}')\n",
    "sess.close()"
   ],
   "metadata": {
    "collapsed": false
   }
  },
  {
   "cell_type": "code",
   "execution_count": null,
   "outputs": [],
   "source": [],
   "metadata": {
    "collapsed": false
   }
  }
 ],
 "metadata": {
  "kernelspec": {
   "display_name": "Python 3",
   "language": "python",
   "name": "python3"
  },
  "language_info": {
   "codemirror_mode": {
    "name": "ipython",
    "version": 2
   },
   "file_extension": ".py",
   "mimetype": "text/x-python",
   "name": "python",
   "nbconvert_exporter": "python",
   "pygments_lexer": "ipython2",
   "version": "2.7.6"
  }
 },
 "nbformat": 4,
 "nbformat_minor": 0
}
