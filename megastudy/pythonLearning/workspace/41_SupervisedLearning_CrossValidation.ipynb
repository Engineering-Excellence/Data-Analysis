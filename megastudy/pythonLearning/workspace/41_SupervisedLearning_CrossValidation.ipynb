{
 "cells": [
  {
   "cell_type": "code",
   "execution_count": 1,
   "metadata": {
    "collapsed": true
   },
   "outputs": [],
   "source": [
    "%config Completer.use_jedi = False\n",
    "import warnings\n",
    "\n",
    "warnings.filterwarnings(action='ignore')"
   ]
  },
  {
   "cell_type": "markdown",
   "source": [
    "# 크로스 밸리데이션\n",
    "앞선 지도 학습 알고리즘에서는 전체 데이터를 트레이닝 데이터와 테스트 데이터로 나누어 모형을 학습시켰다. 이번에는 하이퍼파라미터 튜닝을 위해 크로스 밸리데이션 기법을 활용해본다."
   ],
   "metadata": {
    "collapsed": false
   }
  },
  {
   "cell_type": "code",
   "execution_count": 2,
   "outputs": [],
   "source": [
    "# 데이터 불러오기\n",
    "from sklearn import datasets  # 와인 데이터를 사용하기 위해 import 한다.\n",
    "\n",
    "raw_wine = datasets.load_wine()  # 와인 데이터를 불러온다."
   ],
   "metadata": {
    "collapsed": false
   }
  },
  {
   "cell_type": "code",
   "execution_count": 3,
   "outputs": [],
   "source": [
    "# 피쳐/타겟 데이터 지정\n",
    "X = raw_wine.data  # 와인 피쳐 데이터를 저장한다.\n",
    "y = raw_wine.target  # 와인 타겟 데이터를 저장한다."
   ],
   "metadata": {
    "collapsed": false
   }
  },
  {
   "cell_type": "code",
   "execution_count": 4,
   "outputs": [
    {
     "data": {
      "text/plain": "((133, 13), (45, 13))"
     },
     "execution_count": 4,
     "metadata": {},
     "output_type": "execute_result"
    }
   ],
   "source": [
    "# 트레이닝/테스트 데이터 분할\n",
    "from sklearn.model_selection import train_test_split  # 트레이닝/테스트 데이터 분할을 위해 import 한다.\n",
    "\n",
    "X_tn, X_te, y_tn, y_te = train_test_split(X, y, random_state=0)  # 트레이닝 데이터와 테스트 데이터로 분할한다.\n",
    "X_tn.shape, X_te.shape"
   ],
   "metadata": {
    "collapsed": false
   }
  },
  {
   "cell_type": "code",
   "execution_count": 5,
   "outputs": [],
   "source": [
    "# 데이터 표준화\n",
    "from sklearn.preprocessing import StandardScaler  # 데이터 표준화를 위해 import 한다.\n",
    "\n",
    "std_scale = StandardScaler()  # 표준화 스케일러 객체를 만든다.\n",
    "# 표준화는 트레이닝 데이터를 기반으로 실행하므로 트레이닝 피쳐 데이터 X_tn을 표준화 스케일러에 적합시킨다.\n",
    "std_scale.fit(X_tn)\n",
    "X_tn_std = std_scale.transform(X_tn)  # 트레이닝 피쳐 데이터 X_tn을 표준화 한다.\n",
    "X_te_std = std_scale.transform(X_te)  # 테스트 피쳐 데이터 X_te를 표준화 한다."
   ],
   "metadata": {
    "collapsed": false
   }
  },
  {
   "cell_type": "code",
   "execution_count": 6,
   "outputs": [
    {
     "data": {
      "text/plain": "GridSearchCV(cv=StratifiedKFold(n_splits=5, random_state=0, shuffle=True),\n             estimator=SVC(random_state=0),\n             param_grid={'C': [0.5, 1, 10, 100], 'kernel': ('linear', 'rbf')},\n             scoring='accuracy')",
      "text/html": "<style>#sk-container-id-1 {color: black;background-color: white;}#sk-container-id-1 pre{padding: 0;}#sk-container-id-1 div.sk-toggleable {background-color: white;}#sk-container-id-1 label.sk-toggleable__label {cursor: pointer;display: block;width: 100%;margin-bottom: 0;padding: 0.3em;box-sizing: border-box;text-align: center;}#sk-container-id-1 label.sk-toggleable__label-arrow:before {content: \"▸\";float: left;margin-right: 0.25em;color: #696969;}#sk-container-id-1 label.sk-toggleable__label-arrow:hover:before {color: black;}#sk-container-id-1 div.sk-estimator:hover label.sk-toggleable__label-arrow:before {color: black;}#sk-container-id-1 div.sk-toggleable__content {max-height: 0;max-width: 0;overflow: hidden;text-align: left;background-color: #f0f8ff;}#sk-container-id-1 div.sk-toggleable__content pre {margin: 0.2em;color: black;border-radius: 0.25em;background-color: #f0f8ff;}#sk-container-id-1 input.sk-toggleable__control:checked~div.sk-toggleable__content {max-height: 200px;max-width: 100%;overflow: auto;}#sk-container-id-1 input.sk-toggleable__control:checked~label.sk-toggleable__label-arrow:before {content: \"▾\";}#sk-container-id-1 div.sk-estimator input.sk-toggleable__control:checked~label.sk-toggleable__label {background-color: #d4ebff;}#sk-container-id-1 div.sk-label input.sk-toggleable__control:checked~label.sk-toggleable__label {background-color: #d4ebff;}#sk-container-id-1 input.sk-hidden--visually {border: 0;clip: rect(1px 1px 1px 1px);clip: rect(1px, 1px, 1px, 1px);height: 1px;margin: -1px;overflow: hidden;padding: 0;position: absolute;width: 1px;}#sk-container-id-1 div.sk-estimator {font-family: monospace;background-color: #f0f8ff;border: 1px dotted black;border-radius: 0.25em;box-sizing: border-box;margin-bottom: 0.5em;}#sk-container-id-1 div.sk-estimator:hover {background-color: #d4ebff;}#sk-container-id-1 div.sk-parallel-item::after {content: \"\";width: 100%;border-bottom: 1px solid gray;flex-grow: 1;}#sk-container-id-1 div.sk-label:hover label.sk-toggleable__label {background-color: #d4ebff;}#sk-container-id-1 div.sk-serial::before {content: \"\";position: absolute;border-left: 1px solid gray;box-sizing: border-box;top: 0;bottom: 0;left: 50%;z-index: 0;}#sk-container-id-1 div.sk-serial {display: flex;flex-direction: column;align-items: center;background-color: white;padding-right: 0.2em;padding-left: 0.2em;position: relative;}#sk-container-id-1 div.sk-item {position: relative;z-index: 1;}#sk-container-id-1 div.sk-parallel {display: flex;align-items: stretch;justify-content: center;background-color: white;position: relative;}#sk-container-id-1 div.sk-item::before, #sk-container-id-1 div.sk-parallel-item::before {content: \"\";position: absolute;border-left: 1px solid gray;box-sizing: border-box;top: 0;bottom: 0;left: 50%;z-index: -1;}#sk-container-id-1 div.sk-parallel-item {display: flex;flex-direction: column;z-index: 1;position: relative;background-color: white;}#sk-container-id-1 div.sk-parallel-item:first-child::after {align-self: flex-end;width: 50%;}#sk-container-id-1 div.sk-parallel-item:last-child::after {align-self: flex-start;width: 50%;}#sk-container-id-1 div.sk-parallel-item:only-child::after {width: 0;}#sk-container-id-1 div.sk-dashed-wrapped {border: 1px dashed gray;margin: 0 0.4em 0.5em 0.4em;box-sizing: border-box;padding-bottom: 0.4em;background-color: white;}#sk-container-id-1 div.sk-label label {font-family: monospace;font-weight: bold;display: inline-block;line-height: 1.2em;}#sk-container-id-1 div.sk-label-container {text-align: center;}#sk-container-id-1 div.sk-container {/* jupyter's `normalize.less` sets `[hidden] { display: none; }` but bootstrap.min.css set `[hidden] { display: none !important; }` so we also need the `!important` here to be able to override the default hidden behavior on the sphinx rendered scikit-learn.org. See: https://github.com/scikit-learn/scikit-learn/issues/21755 */display: inline-block !important;position: relative;}#sk-container-id-1 div.sk-text-repr-fallback {display: none;}</style><div id=\"sk-container-id-1\" class=\"sk-top-container\"><div class=\"sk-text-repr-fallback\"><pre>GridSearchCV(cv=StratifiedKFold(n_splits=5, random_state=0, shuffle=True),\n             estimator=SVC(random_state=0),\n             param_grid={&#x27;C&#x27;: [0.5, 1, 10, 100], &#x27;kernel&#x27;: (&#x27;linear&#x27;, &#x27;rbf&#x27;)},\n             scoring=&#x27;accuracy&#x27;)</pre><b>In a Jupyter environment, please rerun this cell to show the HTML representation or trust the notebook. <br />On GitHub, the HTML representation is unable to render, please try loading this page with nbviewer.org.</b></div><div class=\"sk-container\" hidden><div class=\"sk-item sk-dashed-wrapped\"><div class=\"sk-label-container\"><div class=\"sk-label sk-toggleable\"><input class=\"sk-toggleable__control sk-hidden--visually\" id=\"sk-estimator-id-1\" type=\"checkbox\" ><label for=\"sk-estimator-id-1\" class=\"sk-toggleable__label sk-toggleable__label-arrow\">GridSearchCV</label><div class=\"sk-toggleable__content\"><pre>GridSearchCV(cv=StratifiedKFold(n_splits=5, random_state=0, shuffle=True),\n             estimator=SVC(random_state=0),\n             param_grid={&#x27;C&#x27;: [0.5, 1, 10, 100], &#x27;kernel&#x27;: (&#x27;linear&#x27;, &#x27;rbf&#x27;)},\n             scoring=&#x27;accuracy&#x27;)</pre></div></div></div><div class=\"sk-parallel\"><div class=\"sk-parallel-item\"><div class=\"sk-item\"><div class=\"sk-label-container\"><div class=\"sk-label sk-toggleable\"><input class=\"sk-toggleable__control sk-hidden--visually\" id=\"sk-estimator-id-2\" type=\"checkbox\" ><label for=\"sk-estimator-id-2\" class=\"sk-toggleable__label sk-toggleable__label-arrow\">estimator: SVC</label><div class=\"sk-toggleable__content\"><pre>SVC(random_state=0)</pre></div></div></div><div class=\"sk-serial\"><div class=\"sk-item\"><div class=\"sk-estimator sk-toggleable\"><input class=\"sk-toggleable__control sk-hidden--visually\" id=\"sk-estimator-id-3\" type=\"checkbox\" ><label for=\"sk-estimator-id-3\" class=\"sk-toggleable__label sk-toggleable__label-arrow\">SVC</label><div class=\"sk-toggleable__content\"><pre>SVC(random_state=0)</pre></div></div></div></div></div></div></div></div></div></div>"
     },
     "execution_count": 6,
     "metadata": {},
     "output_type": "execute_result"
    }
   ],
   "source": [
    "from sklearn import svm  # 서포트 벡터 머신 알고리즘을 사용하기 위해 import 한다.\n",
    "# stratified K-Fold cross validation은 일반적인 K-Fold cross validation과는 달리 라벨링 비율을 유지하면서 데이터를\n",
    "# 추출한다.\n",
    "# stratified K-Fold cross validation 알고리즘을 사용하기 위해 import 한다.\n",
    "from sklearn.model_selection import StratifiedKFold\n",
    "\n",
    "clf_svm = svm.SVC(random_state=0)  # 서포트 벡터 머신 모델 객체를 만든다.\n",
    "\n",
    "# GridSearch\n",
    "# GridSearch는 우리가 지정해준 몇 가지 잠재적인 파라미터들의 후보군들의 조합 중에서 가장 beat 조합을 찾아준다.\n",
    "# 사이킷런 패키지가 제공하므로 하나하나 대입해 가면서 loss를 확인하는 작업을 GridSearch가 대신 해주므로 손쉽게\n",
    "# 사용할 수 있다.\n",
    "# 가장 큰 단점은 하이퍼파라미터 후보군의 갯수만큼 비례해서 시간이 늘어나 최적의 조합을 찾는 시간이 매우 오래\n",
    "# 걸린다는 단점이 있다.\n",
    "from sklearn.model_selection import GridSearchCV  # 그리드 서치 알고리즘을 사용하기 위해 import 한다.\n",
    "\n",
    "# 그리드 서치에 적용할 하이퍼파라미터 후보군을 설정한다.\n",
    "param_grid = {\n",
    "    'kernel': ('linear', 'rbf'),  # 서포트 벡터 머신에서 커널은 정확도가 높은 linear 또는 rbf로 설정한다.\n",
    "    'C': [0.5, 1, 10, 100]\n",
    "}\n",
    "\n",
    "# n_splits 옵션은 트레이닝 데이터를 나룰 개수를 지정하고 shuffle=True 옵션을 지정하면 데이터를 섞는다.\n",
    "kfold = StratifiedKFold(n_splits=5, shuffle=True, random_state=0)  # 크로스 벨리데이션 객체를 만든다.\n",
    "# estimator 옵션으로 학습할 모형을 지정하고 param_grid 옵션으로 하이퍼파라미터 후보군을 지정하고 cv 옵션으로\n",
    "# 크로스 밸리데이션 방법을 지정하고 scoring 옵션으로 모형 평가 방법을 지정해서 그리드 서치 객체를 만든다.\n",
    "grid_cv = GridSearchCV(estimator=clf_svm, param_grid=param_grid, cv=kfold, scoring='accuracy')\n",
    "# 표준화된 피쳐 데이터 X_tn_std와 트레이닝 타겟 데이터 y_tn을 넣어서 그리드 서이 알고리즘을 학습시킨다.\n",
    "grid_cv.fit(X_tn_std, y_tn)"
   ],
   "metadata": {
    "collapsed": false
   }
  },
  {
   "cell_type": "code",
   "execution_count": 7,
   "outputs": [
    {
     "data": {
      "text/plain": "{'mean_fit_time': array([0.00067377, 0.00041661, 0.00029855, 0.00037708, 0.00028605,\n        0.00035567, 0.00027633, 0.00034437]),\n 'std_fit_time': array([6.66234550e-04, 8.77769011e-06, 1.15256582e-05, 1.32648178e-05,\n        1.10800786e-05, 1.18351713e-05, 9.47815062e-06, 9.84712027e-06]),\n 'mean_score_time': array([1.25408173e-04, 1.46627426e-04, 8.79764557e-05, 1.25169754e-04,\n        8.38756561e-05, 1.15489960e-04, 8.17775726e-05, 1.12724304e-04]),\n 'std_score_time': array([4.69177233e-05, 7.41017831e-06, 2.88476629e-06, 1.55977509e-06,\n        2.32332758e-06, 1.66278799e-06, 1.16800773e-06, 1.64076333e-06]),\n 'param_C': masked_array(data=[0.5, 0.5, 1, 1, 10, 10, 100, 100],\n              mask=[False, False, False, False, False, False, False, False],\n        fill_value='?',\n             dtype=object),\n 'param_kernel': masked_array(data=['linear', 'rbf', 'linear', 'rbf', 'linear', 'rbf',\n                    'linear', 'rbf'],\n              mask=[False, False, False, False, False, False, False, False],\n        fill_value='?',\n             dtype=object),\n 'params': [{'C': 0.5, 'kernel': 'linear'},\n  {'C': 0.5, 'kernel': 'rbf'},\n  {'C': 1, 'kernel': 'linear'},\n  {'C': 1, 'kernel': 'rbf'},\n  {'C': 10, 'kernel': 'linear'},\n  {'C': 10, 'kernel': 'rbf'},\n  {'C': 100, 'kernel': 'linear'},\n  {'C': 100, 'kernel': 'rbf'}],\n 'split0_test_score': array([0.88888889, 0.96296296, 0.88888889, 0.92592593, 0.88888889,\n        0.92592593, 0.88888889, 0.92592593]),\n 'split1_test_score': array([0.96296296, 1.        , 0.96296296, 0.96296296, 0.96296296,\n        0.96296296, 0.96296296, 0.96296296]),\n 'split2_test_score': array([0.92592593, 0.96296296, 0.92592593, 0.96296296, 0.92592593,\n        0.96296296, 0.92592593, 0.96296296]),\n 'split3_test_score': array([1.        , 0.96153846, 1.        , 0.96153846, 1.        ,\n        0.96153846, 1.        , 0.96153846]),\n 'split4_test_score': array([0.84615385, 1.        , 0.84615385, 1.        , 0.84615385,\n        1.        , 0.84615385, 1.        ]),\n 'mean_test_score': array([0.92478632, 0.97749288, 0.92478632, 0.96267806, 0.92478632,\n        0.96267806, 0.92478632, 0.96267806]),\n 'std_test_score': array([0.05401397, 0.01838435, 0.05401397, 0.02343121, 0.05401397,\n        0.02343121, 0.05401397, 0.02343121]),\n 'rank_test_score': array([5, 1, 5, 2, 5, 2, 5, 2], dtype=int32)}"
     },
     "execution_count": 7,
     "metadata": {},
     "output_type": "execute_result"
    }
   ],
   "source": [
    "# 그리드 서치 결과 확인\n",
    "# 그리드 서치 객체에서 cv_results_ 속성으로 그리드 서치 결과(설정한 파라미터, 모형 평가 등)를 확인할 수 있다.\n",
    "grid_cv.cv_results_"
   ],
   "metadata": {
    "collapsed": false
   }
  },
  {
   "cell_type": "code",
   "execution_count": 8,
   "outputs": [
    {
     "data": {
      "text/plain": "   mean_fit_time  std_fit_time  mean_score_time  std_score_time param_C  \\\n0       0.000674      0.000666         0.000125        0.000047     0.5   \n1       0.000417      0.000009         0.000147        0.000007     0.5   \n2       0.000299      0.000012         0.000088        0.000003       1   \n3       0.000377      0.000013         0.000125        0.000002       1   \n4       0.000286      0.000011         0.000084        0.000002      10   \n5       0.000356      0.000012         0.000115        0.000002      10   \n6       0.000276      0.000009         0.000082        0.000001     100   \n7       0.000344      0.000010         0.000113        0.000002     100   \n\n  param_kernel                          params  split0_test_score  \\\n0       linear  {'C': 0.5, 'kernel': 'linear'}           0.888889   \n1          rbf     {'C': 0.5, 'kernel': 'rbf'}           0.962963   \n2       linear    {'C': 1, 'kernel': 'linear'}           0.888889   \n3          rbf       {'C': 1, 'kernel': 'rbf'}           0.925926   \n4       linear   {'C': 10, 'kernel': 'linear'}           0.888889   \n5          rbf      {'C': 10, 'kernel': 'rbf'}           0.925926   \n6       linear  {'C': 100, 'kernel': 'linear'}           0.888889   \n7          rbf     {'C': 100, 'kernel': 'rbf'}           0.925926   \n\n   split1_test_score  split2_test_score  split3_test_score  split4_test_score  \\\n0           0.962963           0.925926           1.000000           0.846154   \n1           1.000000           0.962963           0.961538           1.000000   \n2           0.962963           0.925926           1.000000           0.846154   \n3           0.962963           0.962963           0.961538           1.000000   \n4           0.962963           0.925926           1.000000           0.846154   \n5           0.962963           0.962963           0.961538           1.000000   \n6           0.962963           0.925926           1.000000           0.846154   \n7           0.962963           0.962963           0.961538           1.000000   \n\n   mean_test_score  std_test_score  rank_test_score  \n0         0.924786        0.054014                5  \n1         0.977493        0.018384                1  \n2         0.924786        0.054014                5  \n3         0.962678        0.023431                2  \n4         0.924786        0.054014                5  \n5         0.962678        0.023431                2  \n6         0.924786        0.054014                5  \n7         0.962678        0.023431                2  ",
      "text/html": "<div>\n<style scoped>\n    .dataframe tbody tr th:only-of-type {\n        vertical-align: middle;\n    }\n\n    .dataframe tbody tr th {\n        vertical-align: top;\n    }\n\n    .dataframe thead th {\n        text-align: right;\n    }\n</style>\n<table border=\"1\" class=\"dataframe\">\n  <thead>\n    <tr style=\"text-align: right;\">\n      <th></th>\n      <th>mean_fit_time</th>\n      <th>std_fit_time</th>\n      <th>mean_score_time</th>\n      <th>std_score_time</th>\n      <th>param_C</th>\n      <th>param_kernel</th>\n      <th>params</th>\n      <th>split0_test_score</th>\n      <th>split1_test_score</th>\n      <th>split2_test_score</th>\n      <th>split3_test_score</th>\n      <th>split4_test_score</th>\n      <th>mean_test_score</th>\n      <th>std_test_score</th>\n      <th>rank_test_score</th>\n    </tr>\n  </thead>\n  <tbody>\n    <tr>\n      <th>0</th>\n      <td>0.000674</td>\n      <td>0.000666</td>\n      <td>0.000125</td>\n      <td>0.000047</td>\n      <td>0.5</td>\n      <td>linear</td>\n      <td>{'C': 0.5, 'kernel': 'linear'}</td>\n      <td>0.888889</td>\n      <td>0.962963</td>\n      <td>0.925926</td>\n      <td>1.000000</td>\n      <td>0.846154</td>\n      <td>0.924786</td>\n      <td>0.054014</td>\n      <td>5</td>\n    </tr>\n    <tr>\n      <th>1</th>\n      <td>0.000417</td>\n      <td>0.000009</td>\n      <td>0.000147</td>\n      <td>0.000007</td>\n      <td>0.5</td>\n      <td>rbf</td>\n      <td>{'C': 0.5, 'kernel': 'rbf'}</td>\n      <td>0.962963</td>\n      <td>1.000000</td>\n      <td>0.962963</td>\n      <td>0.961538</td>\n      <td>1.000000</td>\n      <td>0.977493</td>\n      <td>0.018384</td>\n      <td>1</td>\n    </tr>\n    <tr>\n      <th>2</th>\n      <td>0.000299</td>\n      <td>0.000012</td>\n      <td>0.000088</td>\n      <td>0.000003</td>\n      <td>1</td>\n      <td>linear</td>\n      <td>{'C': 1, 'kernel': 'linear'}</td>\n      <td>0.888889</td>\n      <td>0.962963</td>\n      <td>0.925926</td>\n      <td>1.000000</td>\n      <td>0.846154</td>\n      <td>0.924786</td>\n      <td>0.054014</td>\n      <td>5</td>\n    </tr>\n    <tr>\n      <th>3</th>\n      <td>0.000377</td>\n      <td>0.000013</td>\n      <td>0.000125</td>\n      <td>0.000002</td>\n      <td>1</td>\n      <td>rbf</td>\n      <td>{'C': 1, 'kernel': 'rbf'}</td>\n      <td>0.925926</td>\n      <td>0.962963</td>\n      <td>0.962963</td>\n      <td>0.961538</td>\n      <td>1.000000</td>\n      <td>0.962678</td>\n      <td>0.023431</td>\n      <td>2</td>\n    </tr>\n    <tr>\n      <th>4</th>\n      <td>0.000286</td>\n      <td>0.000011</td>\n      <td>0.000084</td>\n      <td>0.000002</td>\n      <td>10</td>\n      <td>linear</td>\n      <td>{'C': 10, 'kernel': 'linear'}</td>\n      <td>0.888889</td>\n      <td>0.962963</td>\n      <td>0.925926</td>\n      <td>1.000000</td>\n      <td>0.846154</td>\n      <td>0.924786</td>\n      <td>0.054014</td>\n      <td>5</td>\n    </tr>\n    <tr>\n      <th>5</th>\n      <td>0.000356</td>\n      <td>0.000012</td>\n      <td>0.000115</td>\n      <td>0.000002</td>\n      <td>10</td>\n      <td>rbf</td>\n      <td>{'C': 10, 'kernel': 'rbf'}</td>\n      <td>0.925926</td>\n      <td>0.962963</td>\n      <td>0.962963</td>\n      <td>0.961538</td>\n      <td>1.000000</td>\n      <td>0.962678</td>\n      <td>0.023431</td>\n      <td>2</td>\n    </tr>\n    <tr>\n      <th>6</th>\n      <td>0.000276</td>\n      <td>0.000009</td>\n      <td>0.000082</td>\n      <td>0.000001</td>\n      <td>100</td>\n      <td>linear</td>\n      <td>{'C': 100, 'kernel': 'linear'}</td>\n      <td>0.888889</td>\n      <td>0.962963</td>\n      <td>0.925926</td>\n      <td>1.000000</td>\n      <td>0.846154</td>\n      <td>0.924786</td>\n      <td>0.054014</td>\n      <td>5</td>\n    </tr>\n    <tr>\n      <th>7</th>\n      <td>0.000344</td>\n      <td>0.000010</td>\n      <td>0.000113</td>\n      <td>0.000002</td>\n      <td>100</td>\n      <td>rbf</td>\n      <td>{'C': 100, 'kernel': 'rbf'}</td>\n      <td>0.925926</td>\n      <td>0.962963</td>\n      <td>0.962963</td>\n      <td>0.961538</td>\n      <td>1.000000</td>\n      <td>0.962678</td>\n      <td>0.023431</td>\n      <td>2</td>\n    </tr>\n  </tbody>\n</table>\n</div>"
     },
     "execution_count": 8,
     "metadata": {},
     "output_type": "execute_result"
    }
   ],
   "source": [
    "# 그리드 서치 결과 확인 - 데이터프레임\n",
    "import numpy as np\n",
    "import pandas as pd\n",
    "\n",
    "pd.DataFrame(grid_cv.cv_results_)"
   ],
   "metadata": {
    "collapsed": false
   }
  },
  {
   "cell_type": "code",
   "execution_count": 9,
   "outputs": [
    {
     "data": {
      "text/plain": "                                                0  \\\nmean_fit_time                            0.000674   \nstd_fit_time                             0.000666   \nmean_score_time                          0.000125   \nstd_score_time                           0.000047   \nparam_C                                       0.5   \nparam_kernel                               linear   \nparams             {'C': 0.5, 'kernel': 'linear'}   \nsplit0_test_score                        0.888889   \nsplit1_test_score                        0.962963   \nsplit2_test_score                        0.925926   \nsplit3_test_score                             1.0   \nsplit4_test_score                        0.846154   \nmean_test_score                          0.924786   \nstd_test_score                           0.054014   \nrank_test_score                                 5   \n\n                                             1                             2  \\\nmean_fit_time                         0.000417                      0.000299   \nstd_fit_time                          0.000009                      0.000012   \nmean_score_time                       0.000147                      0.000088   \nstd_score_time                        0.000007                      0.000003   \nparam_C                                    0.5                             1   \nparam_kernel                               rbf                        linear   \nparams             {'C': 0.5, 'kernel': 'rbf'}  {'C': 1, 'kernel': 'linear'}   \nsplit0_test_score                     0.962963                      0.888889   \nsplit1_test_score                          1.0                      0.962963   \nsplit2_test_score                     0.962963                      0.925926   \nsplit3_test_score                     0.961538                           1.0   \nsplit4_test_score                          1.0                      0.846154   \nmean_test_score                       0.977493                      0.924786   \nstd_test_score                        0.018384                      0.054014   \nrank_test_score                              1                             5   \n\n                                           3                              4  \\\nmean_fit_time                       0.000377                       0.000286   \nstd_fit_time                        0.000013                       0.000011   \nmean_score_time                     0.000125                       0.000084   \nstd_score_time                      0.000002                       0.000002   \nparam_C                                    1                             10   \nparam_kernel                             rbf                         linear   \nparams             {'C': 1, 'kernel': 'rbf'}  {'C': 10, 'kernel': 'linear'}   \nsplit0_test_score                   0.925926                       0.888889   \nsplit1_test_score                   0.962963                       0.962963   \nsplit2_test_score                   0.962963                       0.925926   \nsplit3_test_score                   0.961538                            1.0   \nsplit4_test_score                        1.0                       0.846154   \nmean_test_score                     0.962678                       0.924786   \nstd_test_score                      0.023431                       0.054014   \nrank_test_score                            2                              5   \n\n                                            5                               6  \\\nmean_fit_time                        0.000356                        0.000276   \nstd_fit_time                         0.000012                        0.000009   \nmean_score_time                      0.000115                        0.000082   \nstd_score_time                       0.000002                        0.000001   \nparam_C                                    10                             100   \nparam_kernel                              rbf                          linear   \nparams             {'C': 10, 'kernel': 'rbf'}  {'C': 100, 'kernel': 'linear'}   \nsplit0_test_score                    0.925926                        0.888889   \nsplit1_test_score                    0.962963                        0.962963   \nsplit2_test_score                    0.962963                        0.925926   \nsplit3_test_score                    0.961538                             1.0   \nsplit4_test_score                         1.0                        0.846154   \nmean_test_score                      0.962678                        0.924786   \nstd_test_score                       0.023431                        0.054014   \nrank_test_score                             2                               5   \n\n                                             7  \nmean_fit_time                         0.000344  \nstd_fit_time                           0.00001  \nmean_score_time                       0.000113  \nstd_score_time                        0.000002  \nparam_C                                    100  \nparam_kernel                               rbf  \nparams             {'C': 100, 'kernel': 'rbf'}  \nsplit0_test_score                     0.925926  \nsplit1_test_score                     0.962963  \nsplit2_test_score                     0.962963  \nsplit3_test_score                     0.961538  \nsplit4_test_score                          1.0  \nmean_test_score                       0.962678  \nstd_test_score                        0.023431  \nrank_test_score                              2  ",
      "text/html": "<div>\n<style scoped>\n    .dataframe tbody tr th:only-of-type {\n        vertical-align: middle;\n    }\n\n    .dataframe tbody tr th {\n        vertical-align: top;\n    }\n\n    .dataframe thead th {\n        text-align: right;\n    }\n</style>\n<table border=\"1\" class=\"dataframe\">\n  <thead>\n    <tr style=\"text-align: right;\">\n      <th></th>\n      <th>0</th>\n      <th>1</th>\n      <th>2</th>\n      <th>3</th>\n      <th>4</th>\n      <th>5</th>\n      <th>6</th>\n      <th>7</th>\n    </tr>\n  </thead>\n  <tbody>\n    <tr>\n      <th>mean_fit_time</th>\n      <td>0.000674</td>\n      <td>0.000417</td>\n      <td>0.000299</td>\n      <td>0.000377</td>\n      <td>0.000286</td>\n      <td>0.000356</td>\n      <td>0.000276</td>\n      <td>0.000344</td>\n    </tr>\n    <tr>\n      <th>std_fit_time</th>\n      <td>0.000666</td>\n      <td>0.000009</td>\n      <td>0.000012</td>\n      <td>0.000013</td>\n      <td>0.000011</td>\n      <td>0.000012</td>\n      <td>0.000009</td>\n      <td>0.00001</td>\n    </tr>\n    <tr>\n      <th>mean_score_time</th>\n      <td>0.000125</td>\n      <td>0.000147</td>\n      <td>0.000088</td>\n      <td>0.000125</td>\n      <td>0.000084</td>\n      <td>0.000115</td>\n      <td>0.000082</td>\n      <td>0.000113</td>\n    </tr>\n    <tr>\n      <th>std_score_time</th>\n      <td>0.000047</td>\n      <td>0.000007</td>\n      <td>0.000003</td>\n      <td>0.000002</td>\n      <td>0.000002</td>\n      <td>0.000002</td>\n      <td>0.000001</td>\n      <td>0.000002</td>\n    </tr>\n    <tr>\n      <th>param_C</th>\n      <td>0.5</td>\n      <td>0.5</td>\n      <td>1</td>\n      <td>1</td>\n      <td>10</td>\n      <td>10</td>\n      <td>100</td>\n      <td>100</td>\n    </tr>\n    <tr>\n      <th>param_kernel</th>\n      <td>linear</td>\n      <td>rbf</td>\n      <td>linear</td>\n      <td>rbf</td>\n      <td>linear</td>\n      <td>rbf</td>\n      <td>linear</td>\n      <td>rbf</td>\n    </tr>\n    <tr>\n      <th>params</th>\n      <td>{'C': 0.5, 'kernel': 'linear'}</td>\n      <td>{'C': 0.5, 'kernel': 'rbf'}</td>\n      <td>{'C': 1, 'kernel': 'linear'}</td>\n      <td>{'C': 1, 'kernel': 'rbf'}</td>\n      <td>{'C': 10, 'kernel': 'linear'}</td>\n      <td>{'C': 10, 'kernel': 'rbf'}</td>\n      <td>{'C': 100, 'kernel': 'linear'}</td>\n      <td>{'C': 100, 'kernel': 'rbf'}</td>\n    </tr>\n    <tr>\n      <th>split0_test_score</th>\n      <td>0.888889</td>\n      <td>0.962963</td>\n      <td>0.888889</td>\n      <td>0.925926</td>\n      <td>0.888889</td>\n      <td>0.925926</td>\n      <td>0.888889</td>\n      <td>0.925926</td>\n    </tr>\n    <tr>\n      <th>split1_test_score</th>\n      <td>0.962963</td>\n      <td>1.0</td>\n      <td>0.962963</td>\n      <td>0.962963</td>\n      <td>0.962963</td>\n      <td>0.962963</td>\n      <td>0.962963</td>\n      <td>0.962963</td>\n    </tr>\n    <tr>\n      <th>split2_test_score</th>\n      <td>0.925926</td>\n      <td>0.962963</td>\n      <td>0.925926</td>\n      <td>0.962963</td>\n      <td>0.925926</td>\n      <td>0.962963</td>\n      <td>0.925926</td>\n      <td>0.962963</td>\n    </tr>\n    <tr>\n      <th>split3_test_score</th>\n      <td>1.0</td>\n      <td>0.961538</td>\n      <td>1.0</td>\n      <td>0.961538</td>\n      <td>1.0</td>\n      <td>0.961538</td>\n      <td>1.0</td>\n      <td>0.961538</td>\n    </tr>\n    <tr>\n      <th>split4_test_score</th>\n      <td>0.846154</td>\n      <td>1.0</td>\n      <td>0.846154</td>\n      <td>1.0</td>\n      <td>0.846154</td>\n      <td>1.0</td>\n      <td>0.846154</td>\n      <td>1.0</td>\n    </tr>\n    <tr>\n      <th>mean_test_score</th>\n      <td>0.924786</td>\n      <td>0.977493</td>\n      <td>0.924786</td>\n      <td>0.962678</td>\n      <td>0.924786</td>\n      <td>0.962678</td>\n      <td>0.924786</td>\n      <td>0.962678</td>\n    </tr>\n    <tr>\n      <th>std_test_score</th>\n      <td>0.054014</td>\n      <td>0.018384</td>\n      <td>0.054014</td>\n      <td>0.023431</td>\n      <td>0.054014</td>\n      <td>0.023431</td>\n      <td>0.054014</td>\n      <td>0.023431</td>\n    </tr>\n    <tr>\n      <th>rank_test_score</th>\n      <td>5</td>\n      <td>1</td>\n      <td>5</td>\n      <td>2</td>\n      <td>5</td>\n      <td>2</td>\n      <td>5</td>\n      <td>2</td>\n    </tr>\n  </tbody>\n</table>\n</div>"
     },
     "execution_count": 9,
     "metadata": {},
     "output_type": "execute_result"
    }
   ],
   "source": [
    "np.transpose(pd.DataFrame(grid_cv.cv_results_))"
   ],
   "metadata": {
    "collapsed": false
   }
  },
  {
   "cell_type": "code",
   "execution_count": 10,
   "outputs": [
    {
     "name": "stdout",
     "output_type": "stream",
     "text": [
      "0.9774928774928775\n",
      "{'C': 0.5, 'kernel': 'rbf'}\n"
     ]
    }
   ],
   "source": [
    "# 베스트 스코어와 베스트 스코어를 얻어낸 하이퍼파라미터를 확인한다.\n",
    "print(grid_cv.best_score_)  # 그리드 서치 결과 중 베스트 스코어를 얻어온다.\n",
    "print(grid_cv.best_params_)  # 그리드 서치 결과 중 베스트 스코어를 얻어낸 하이퍼파라미터를 얻어온다."
   ],
   "metadata": {
    "collapsed": false
   }
  },
  {
   "cell_type": "code",
   "execution_count": 11,
   "outputs": [
    {
     "data": {
      "text/plain": "SVC(C=0.5, random_state=0)",
      "text/html": "<style>#sk-container-id-2 {color: black;background-color: white;}#sk-container-id-2 pre{padding: 0;}#sk-container-id-2 div.sk-toggleable {background-color: white;}#sk-container-id-2 label.sk-toggleable__label {cursor: pointer;display: block;width: 100%;margin-bottom: 0;padding: 0.3em;box-sizing: border-box;text-align: center;}#sk-container-id-2 label.sk-toggleable__label-arrow:before {content: \"▸\";float: left;margin-right: 0.25em;color: #696969;}#sk-container-id-2 label.sk-toggleable__label-arrow:hover:before {color: black;}#sk-container-id-2 div.sk-estimator:hover label.sk-toggleable__label-arrow:before {color: black;}#sk-container-id-2 div.sk-toggleable__content {max-height: 0;max-width: 0;overflow: hidden;text-align: left;background-color: #f0f8ff;}#sk-container-id-2 div.sk-toggleable__content pre {margin: 0.2em;color: black;border-radius: 0.25em;background-color: #f0f8ff;}#sk-container-id-2 input.sk-toggleable__control:checked~div.sk-toggleable__content {max-height: 200px;max-width: 100%;overflow: auto;}#sk-container-id-2 input.sk-toggleable__control:checked~label.sk-toggleable__label-arrow:before {content: \"▾\";}#sk-container-id-2 div.sk-estimator input.sk-toggleable__control:checked~label.sk-toggleable__label {background-color: #d4ebff;}#sk-container-id-2 div.sk-label input.sk-toggleable__control:checked~label.sk-toggleable__label {background-color: #d4ebff;}#sk-container-id-2 input.sk-hidden--visually {border: 0;clip: rect(1px 1px 1px 1px);clip: rect(1px, 1px, 1px, 1px);height: 1px;margin: -1px;overflow: hidden;padding: 0;position: absolute;width: 1px;}#sk-container-id-2 div.sk-estimator {font-family: monospace;background-color: #f0f8ff;border: 1px dotted black;border-radius: 0.25em;box-sizing: border-box;margin-bottom: 0.5em;}#sk-container-id-2 div.sk-estimator:hover {background-color: #d4ebff;}#sk-container-id-2 div.sk-parallel-item::after {content: \"\";width: 100%;border-bottom: 1px solid gray;flex-grow: 1;}#sk-container-id-2 div.sk-label:hover label.sk-toggleable__label {background-color: #d4ebff;}#sk-container-id-2 div.sk-serial::before {content: \"\";position: absolute;border-left: 1px solid gray;box-sizing: border-box;top: 0;bottom: 0;left: 50%;z-index: 0;}#sk-container-id-2 div.sk-serial {display: flex;flex-direction: column;align-items: center;background-color: white;padding-right: 0.2em;padding-left: 0.2em;position: relative;}#sk-container-id-2 div.sk-item {position: relative;z-index: 1;}#sk-container-id-2 div.sk-parallel {display: flex;align-items: stretch;justify-content: center;background-color: white;position: relative;}#sk-container-id-2 div.sk-item::before, #sk-container-id-2 div.sk-parallel-item::before {content: \"\";position: absolute;border-left: 1px solid gray;box-sizing: border-box;top: 0;bottom: 0;left: 50%;z-index: -1;}#sk-container-id-2 div.sk-parallel-item {display: flex;flex-direction: column;z-index: 1;position: relative;background-color: white;}#sk-container-id-2 div.sk-parallel-item:first-child::after {align-self: flex-end;width: 50%;}#sk-container-id-2 div.sk-parallel-item:last-child::after {align-self: flex-start;width: 50%;}#sk-container-id-2 div.sk-parallel-item:only-child::after {width: 0;}#sk-container-id-2 div.sk-dashed-wrapped {border: 1px dashed gray;margin: 0 0.4em 0.5em 0.4em;box-sizing: border-box;padding-bottom: 0.4em;background-color: white;}#sk-container-id-2 div.sk-label label {font-family: monospace;font-weight: bold;display: inline-block;line-height: 1.2em;}#sk-container-id-2 div.sk-label-container {text-align: center;}#sk-container-id-2 div.sk-container {/* jupyter's `normalize.less` sets `[hidden] { display: none; }` but bootstrap.min.css set `[hidden] { display: none !important; }` so we also need the `!important` here to be able to override the default hidden behavior on the sphinx rendered scikit-learn.org. See: https://github.com/scikit-learn/scikit-learn/issues/21755 */display: inline-block !important;position: relative;}#sk-container-id-2 div.sk-text-repr-fallback {display: none;}</style><div id=\"sk-container-id-2\" class=\"sk-top-container\"><div class=\"sk-text-repr-fallback\"><pre>SVC(C=0.5, random_state=0)</pre><b>In a Jupyter environment, please rerun this cell to show the HTML representation or trust the notebook. <br />On GitHub, the HTML representation is unable to render, please try loading this page with nbviewer.org.</b></div><div class=\"sk-container\" hidden><div class=\"sk-item\"><div class=\"sk-estimator sk-toggleable\"><input class=\"sk-toggleable__control sk-hidden--visually\" id=\"sk-estimator-id-4\" type=\"checkbox\" checked><label for=\"sk-estimator-id-4\" class=\"sk-toggleable__label sk-toggleable__label-arrow\">SVC</label><div class=\"sk-toggleable__content\"><pre>SVC(C=0.5, random_state=0)</pre></div></div></div></div></div>"
     },
     "execution_count": 11,
     "metadata": {},
     "output_type": "execute_result"
    }
   ],
   "source": [
    "# 최종 모형\n",
    "clf_grid = grid_cv.best_estimator_  # 그리드 서치를 통해 구한 베스트 모델을 최종 모델로 설정한다.\n",
    "clf_grid"
   ],
   "metadata": {
    "collapsed": false
   }
  },
  {
   "cell_type": "code",
   "execution_count": 12,
   "outputs": [
    {
     "name": "stdout",
     "output_type": "stream",
     "text": [
      "fit_time [0.00056696 0.00037718 0.00036812 0.00037289 0.00034118]\n",
      "score_time [0.0009222  0.00056911 0.0005672  0.00056124 0.00056076]\n",
      "test_accuracy [0.96296296 1.         0.96296296 0.96153846 1.        ]\n",
      "test_precision_macro [0.96296296 1.         0.96969697 0.96969697 1.        ]\n",
      "test_recall_macro [0.96666667 1.         0.96296296 0.95833333 1.        ]\n",
      "test_f1_macro [0.9628483  1.         0.96451914 0.96190476 1.        ]\n"
     ]
    }
   ],
   "source": [
    "# 크로스 밸리데이션 스코어 확인 - 1\n",
    "from sklearn.model_selection import cross_validate  # cross_validate 확인에 사용하기 위해 import 한다.\n",
    "\n",
    "metrics = ['accuracy', 'precision_macro', 'recall_macro', 'f1_macro']  # 모델 평가 방법을 설정한다.\n",
    "cv_score = cross_validate(clf_grid, X_tn_std, y_tn, cv=kfold, scoring=metrics)\n",
    "for key in cv_score:\n",
    "    print(key, cv_score[key])"
   ],
   "metadata": {
    "collapsed": false
   }
  },
  {
   "cell_type": "code",
   "execution_count": 13,
   "outputs": [
    {
     "name": "stdout",
     "output_type": "stream",
     "text": [
      "[0.96296296 1.         0.96296296 0.96153846 1.        ]\n",
      "0.9774928774928775\n",
      "0.01838434849561446\n"
     ]
    }
   ],
   "source": [
    "# 크로스 밸리데이션 스코어 확인 - 2\n",
    "# cross_validate 함수가 여러 개의 지표를 동시에 확인하는데 사용되었다면 cross_val_score 함수는 한 가지 지표를\n",
    "# 확인하는데 사용된다.\n",
    "from sklearn.model_selection import cross_val_score  # cross_validate 확인에 사용하기 위해 import 한다.\n",
    "\n",
    "cv_score = cross_val_score(clf_grid, X_tn_std, y_tn, cv=kfold, scoring='accuracy')\n",
    "print(cv_score)  # 각 split별 정확도 확인\n",
    "print(cv_score.mean())  # 각 split별 정확도의 평균 확인\n",
    "print(cv_score.std())  # 각 split별 정확도의 표준편차 확인"
   ],
   "metadata": {
    "collapsed": false
   }
  },
  {
   "cell_type": "code",
   "execution_count": 14,
   "outputs": [
    {
     "data": {
      "text/plain": "array([0, 2, 1, 0, 1, 1, 0, 2, 1, 1, 2, 2, 0, 1, 2, 1, 0, 0, 1, 0, 1, 0,\n       0, 1, 1, 1, 1, 1, 1, 2, 0, 0, 1, 0, 0, 0, 2, 1, 1, 2, 0, 0, 1, 1,\n       1])"
     },
     "execution_count": 14,
     "metadata": {},
     "output_type": "execute_result"
    }
   ],
   "source": [
    "# 데이터 예측\n",
    "pred_svm = clf_grid.predict(X_te_std)  # 표준화된 테스트 데이터 X_te_std로 예측한다.\n",
    "pred_svm"
   ],
   "metadata": {
    "collapsed": false
   }
  },
  {
   "cell_type": "code",
   "execution_count": 15,
   "outputs": [
    {
     "data": {
      "text/plain": "1.0"
     },
     "execution_count": 15,
     "metadata": {},
     "output_type": "execute_result"
    }
   ],
   "source": [
    "# 정확도 평가\n",
    "from sklearn.metrics import accuracy_score  # 정확도를 평가하기 위해 import 한다.\n",
    "\n",
    "# accuracy_score 함수의 인수로 실제 타겟 데이터와 예측된 데이터를 넘겨 정확도를 평가한다.\n",
    "accuracy = accuracy_score(y_te, pred_svm)\n",
    "accuracy"
   ],
   "metadata": {
    "collapsed": false
   }
  },
  {
   "cell_type": "code",
   "execution_count": 16,
   "outputs": [
    {
     "data": {
      "text/plain": "array([[16,  0,  0],\n       [ 0, 21,  0],\n       [ 0,  0,  8]])"
     },
     "execution_count": 16,
     "metadata": {},
     "output_type": "execute_result"
    }
   ],
   "source": [
    "# 혼돈 행렬 확인\n",
    "from sklearn.metrics import confusion_matrix  # 혼돈 행렬을 만들기 위해 import 한다.\n",
    "\n",
    "# confusion_matrix() 함수에 실제 타겟 데이터와 예측된 데이터를 넘겨 혼돈 행렬을 만든다.\n",
    "conf_matrix = confusion_matrix(y_te, pred_svm)\n",
    "conf_matrix"
   ],
   "metadata": {
    "collapsed": false
   }
  },
  {
   "cell_type": "code",
   "execution_count": 17,
   "outputs": [
    {
     "name": "stdout",
     "output_type": "stream",
     "text": [
      "              precision    recall  f1-score   support\n",
      "\n",
      "           0       1.00      1.00      1.00        16\n",
      "           1       1.00      1.00      1.00        21\n",
      "           2       1.00      1.00      1.00         8\n",
      "\n",
      "    accuracy                           1.00        45\n",
      "   macro avg       1.00      1.00      1.00        45\n",
      "weighted avg       1.00      1.00      1.00        45\n",
      "\n"
     ]
    }
   ],
   "source": [
    "# 분류 리포트 확인\n",
    "from sklearn.metrics import classification_report  # 분류 리포트를 출력하기 위해 import 한다.\n",
    "\n",
    "# classification_report() 함수에 실제 타겟 데이터와 예측된 데이터를 넘겨 분류 리포트를 만든다.\n",
    "class_report = classification_report(y_te, pred_svm)\n",
    "print(class_report)"
   ],
   "metadata": {
    "collapsed": false
   }
  },
  {
   "cell_type": "code",
   "execution_count": 17,
   "outputs": [],
   "source": [],
   "metadata": {
    "collapsed": false
   }
  }
 ],
 "metadata": {
  "kernelspec": {
   "display_name": "Python 3",
   "language": "python",
   "name": "python3"
  },
  "language_info": {
   "codemirror_mode": {
    "name": "ipython",
    "version": 2
   },
   "file_extension": ".py",
   "mimetype": "text/x-python",
   "name": "python",
   "nbconvert_exporter": "python",
   "pygments_lexer": "ipython2",
   "version": "2.7.6"
  }
 },
 "nbformat": 4,
 "nbformat_minor": 0
}
