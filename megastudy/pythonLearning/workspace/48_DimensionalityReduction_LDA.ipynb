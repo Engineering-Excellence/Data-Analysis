{
 "cells": [
  {
   "cell_type": "code",
   "execution_count": 1,
   "metadata": {
    "collapsed": true,
    "ExecuteTime": {
     "start_time": "2023-04-04T17:55:28.103359Z",
     "end_time": "2023-04-04T17:55:28.111413Z"
    }
   },
   "outputs": [],
   "source": [
    "%config Completer.use_jedi = False\n",
    "import warnings\n",
    "\n",
    "warnings.filterwarnings(action='ignore')"
   ]
  },
  {
   "cell_type": "markdown",
   "source": [
    "# 선형 판별 분석(LDA, Linear Discriminant Analysis)\n",
    "LDA는 지도 학습적인 접근 방법을 통한 차원 축소 알고리즘으로 우리말로 선형 판별 분석이라고 부른다. 여기서 선형 판별 분석이라는 말의 뜻은 데이터 포인트가 속하는 클래스를 구분하는 판별 함수가 선형 형태의 함수라는 뜻이다.\n",
    "\n",
    "데이터셋의 기존 공간으로부터 집단 간 분산과 집단 내 분산의 비율을 최대화하는 기존 공간보다 더 작은 차원의 공간으로 원래 데이터를 투영시킴으로써 차원 축소한다. 즉, 데이터를 최대한 분리해 주는 기능을 한다.\n",
    "\n",
    "LDA는 크게 3단계 과정을 거친다. 첫 번째 단계로, 집단간 거리를 계산한다. 이를 집단간 분산이라고 한다. 두 번째 단계는 각 집단의 평균과 각 데이터 포인트의 거를 계산한다. 이를 집단 내 분산이라고 한다. 마지막 세 번째 단계는 기존 데이터셋의 공간보다 더 작은 차원의 공간을 만드는 것이다. 이 공간은 집단 간 분산을 최대화하고 집단 내 분산을 최소로 하는 공간이어야 한다."
   ],
   "metadata": {
    "collapsed": false
   }
  },
  {
   "cell_type": "markdown",
   "source": [
    "LDA 알고리즘을 활용해 와인 종류를 분류하는 모델을 생성해본다."
   ],
   "metadata": {
    "collapsed": false
   }
  },
  {
   "cell_type": "code",
   "execution_count": 2,
   "outputs": [],
   "source": [
    "# 데이터 불러오기\n",
    "from sklearn import datasets  # 와인 데이터를 사용하기 위해 import 한다.\n",
    "\n",
    "raw_wine = datasets.load_wine()  # 와인 데이터를 불러온다."
   ],
   "metadata": {
    "collapsed": false,
    "ExecuteTime": {
     "start_time": "2023-04-04T17:55:28.106424Z",
     "end_time": "2023-04-04T17:55:29.729224Z"
    }
   }
  },
  {
   "cell_type": "code",
   "execution_count": 3,
   "outputs": [],
   "source": [
    "# 피쳐/타겟 데이터 지정\n",
    "X = raw_wine.data  # 와인 피쳐 데이터를 저장한다.\n",
    "y = raw_wine.target  # 와인 타겟 데이터를 저장한다."
   ],
   "metadata": {
    "collapsed": false,
    "ExecuteTime": {
     "start_time": "2023-04-04T17:55:29.729564Z",
     "end_time": "2023-04-04T17:55:29.731485Z"
    }
   }
  },
  {
   "cell_type": "code",
   "execution_count": 4,
   "outputs": [
    {
     "data": {
      "text/plain": "((133, 13), (45, 13))"
     },
     "execution_count": 4,
     "metadata": {},
     "output_type": "execute_result"
    }
   ],
   "source": [
    "# 트레이닝/테스트 데이터 분할\n",
    "from sklearn.model_selection import train_test_split  # 트레이닝/테스트 데이터 분할을 위해 import 한다.\n",
    "\n",
    "X_tn, X_te, y_tn, y_te = train_test_split(X, y, random_state=1)  # 트레이닝 데이터와 테스트 데이터로 분할한다.\n",
    "X_tn.shape, X_te.shape"
   ],
   "metadata": {
    "collapsed": false,
    "ExecuteTime": {
     "start_time": "2023-04-04T17:55:29.732783Z",
     "end_time": "2023-04-04T17:55:29.857032Z"
    }
   }
  },
  {
   "cell_type": "code",
   "execution_count": 5,
   "outputs": [],
   "source": [
    "# 데이터 표준화\n",
    "from sklearn.preprocessing import StandardScaler  # 데이터 표준화를 위해 import 한다.\n",
    "\n",
    "std_scale = StandardScaler()  # 표준화 스케일러 객체를 만든다.\n",
    "# 표준화는 트레이닝 데이터를 기반으로 실행하므로 트레이닝 피쳐 데이터 X_tn을 표준화 스케일러에 적합시킨다.\n",
    "std_scale.fit(X_tn)\n",
    "X_tn_std = std_scale.transform(X_tn)  # 트레이닝 피쳐 데이터 X_tn을 표준화 한다.\n",
    "X_te_std = std_scale.transform(X_te)  # 테스트 피쳐 데이터 X_te를 표준화 한다."
   ],
   "metadata": {
    "collapsed": false,
    "ExecuteTime": {
     "start_time": "2023-04-04T17:55:29.853661Z",
     "end_time": "2023-04-04T17:55:29.857198Z"
    }
   }
  },
  {
   "cell_type": "code",
   "execution_count": 6,
   "outputs": [],
   "source": [
    "# LDA를 통한 데이터 차원 축소\n",
    "from sklearn.discriminant_analysis import LinearDiscriminantAnalysis  # LDA 알고리즘을 사용하기 위해 import 한다.\n",
    "\n",
    "# n_components 옵션으로 원하는 차원을 설정할 수도 있지만, 기본값은 min(클래스 개수 - 1, 피처 개수) 이다.\n",
    "# n_components 옵션 생략시 와인 데이터의 클래스 개수 3이고 피처 개수 13이므로 n_components 값은 min(3 - 1, 13) => 2로\n",
    "# 설정된다.\n",
    "# n_components 옵션 생략시 기존 13차원 데이터는 2차원으로 줄어들게 된다. n_components = 1로 설정한다면 1차원으로\n",
    "# 줄어들게 된다.\n",
    "lda = LinearDiscriminantAnalysis()  # LDA 객체를 만든다.\n",
    "lda.fit(X_tn_std, y_tn)  # 표준화된 피쳐 데이터 X_tn_std와 트레이닝 타겟 데이터 y_tn를 LDA 객체에 적합시킨다.\n",
    "X_tn_lda = lda.transform(X_tn_std)  # 적합된 LDA 모형을 바탕으로 표준화된 트레이닝 데이터의 차원을 축소한다.\n",
    "X_te_lda = lda.transform(X_te_std)  # 적합된 LDA 모형을 바탕으로 표준화된 테스트 데이터의 차원을 축소한다."
   ],
   "metadata": {
    "collapsed": false,
    "ExecuteTime": {
     "start_time": "2023-04-04T17:55:29.856776Z",
     "end_time": "2023-04-04T17:55:29.997771Z"
    }
   }
  },
  {
   "cell_type": "code",
   "execution_count": 7,
   "outputs": [
    {
     "data": {
      "text/plain": "((133, 13), (133, 2))"
     },
     "execution_count": 7,
     "metadata": {},
     "output_type": "execute_result"
    }
   ],
   "source": [
    "# 데이터 차원 축소 확인\n",
    "# 차원 축소 이전 데이터의 차원을 확인하면, 오리지널 피쳐 데이터는 13차원의 데이터 133개로 구성되어 있음을 확인할\n",
    "# 수 있고 주성분 분석을 이용해 차원 축소한 데이터는 2차원 데이터 133개로 구성되어 있음을 확인할 수 있다.\n",
    "X_tn_std.shape, X_tn_lda.shape"
   ],
   "metadata": {
    "collapsed": false,
    "ExecuteTime": {
     "start_time": "2023-04-04T17:55:29.998303Z",
     "end_time": "2023-04-04T17:55:30.000567Z"
    }
   }
  },
  {
   "cell_type": "code",
   "execution_count": 8,
   "outputs": [
    {
     "name": "stdout",
     "output_type": "stream",
     "text": [
      "[ -9.49063922  -3.6792656  -10.65310672]\n",
      "[[ 2.11536841  0.34171834  1.60756274 -2.62777005 -0.02954383 -1.92461007\n",
      "   5.43612614  0.30142527 -0.66723405 -2.08948728  0.53569108  3.06011656\n",
      "   5.45318503]\n",
      " [-1.18707715 -0.97635273 -1.64104916  1.19614378  0.22114803  0.2969019\n",
      "   1.13721801  0.4338713   0.33425086 -1.57541361  0.56544507 -0.17730553\n",
      "  -2.34856045]\n",
      " [-0.59547207  1.01875252  0.59754164  1.13544231 -0.28238675  1.65463974\n",
      "  -7.48134065 -0.94177595  0.24492236  4.49319245 -1.38150969 -3.04974421\n",
      "  -2.54627163]]\n"
     ]
    }
   ],
   "source": [
    "# LDA 상수항, 가중 벡터 확인\n",
    "print(lda.intercept_)  # intercept_ 속성으로 LDA 모형의 상수 항을 확인할 수 있다.\n",
    "# coef_ 속성으로 LDA 모형의 가중 벡터를 확인할 수 있다. 가중 벡터의 차원은 클래스 개수 * 피처 개수로 나타난다.\n",
    "print(lda.coef_)"
   ],
   "metadata": {
    "collapsed": false,
    "ExecuteTime": {
     "start_time": "2023-04-04T17:55:30.001569Z",
     "end_time": "2023-04-04T17:55:30.004414Z"
    }
   }
  },
  {
   "cell_type": "code",
   "execution_count": 9,
   "outputs": [
    {
     "data": {
      "text/plain": "     lda_comp1  lda_comp2  target\n0    -2.563293  -0.503212       0\n1    -0.646015  -2.169761       1\n2    -3.981901   1.621584       0\n3    -5.956216   3.878140       0\n4    -4.047839   2.335699       0\n..         ...        ...     ...\n128   3.519877   0.440679       2\n129   4.457515   0.491287       2\n130   0.639263  -1.684700       1\n131   2.440212   1.168633       2\n132  -2.576351   1.189816       0\n\n[133 rows x 3 columns]",
      "text/html": "<div>\n<style scoped>\n    .dataframe tbody tr th:only-of-type {\n        vertical-align: middle;\n    }\n\n    .dataframe tbody tr th {\n        vertical-align: top;\n    }\n\n    .dataframe thead th {\n        text-align: right;\n    }\n</style>\n<table border=\"1\" class=\"dataframe\">\n  <thead>\n    <tr style=\"text-align: right;\">\n      <th></th>\n      <th>lda_comp1</th>\n      <th>lda_comp2</th>\n      <th>target</th>\n    </tr>\n  </thead>\n  <tbody>\n    <tr>\n      <th>0</th>\n      <td>-2.563293</td>\n      <td>-0.503212</td>\n      <td>0</td>\n    </tr>\n    <tr>\n      <th>1</th>\n      <td>-0.646015</td>\n      <td>-2.169761</td>\n      <td>1</td>\n    </tr>\n    <tr>\n      <th>2</th>\n      <td>-3.981901</td>\n      <td>1.621584</td>\n      <td>0</td>\n    </tr>\n    <tr>\n      <th>3</th>\n      <td>-5.956216</td>\n      <td>3.878140</td>\n      <td>0</td>\n    </tr>\n    <tr>\n      <th>4</th>\n      <td>-4.047839</td>\n      <td>2.335699</td>\n      <td>0</td>\n    </tr>\n    <tr>\n      <th>...</th>\n      <td>...</td>\n      <td>...</td>\n      <td>...</td>\n    </tr>\n    <tr>\n      <th>128</th>\n      <td>3.519877</td>\n      <td>0.440679</td>\n      <td>2</td>\n    </tr>\n    <tr>\n      <th>129</th>\n      <td>4.457515</td>\n      <td>0.491287</td>\n      <td>2</td>\n    </tr>\n    <tr>\n      <th>130</th>\n      <td>0.639263</td>\n      <td>-1.684700</td>\n      <td>1</td>\n    </tr>\n    <tr>\n      <th>131</th>\n      <td>2.440212</td>\n      <td>1.168633</td>\n      <td>2</td>\n    </tr>\n    <tr>\n      <th>132</th>\n      <td>-2.576351</td>\n      <td>1.189816</td>\n      <td>0</td>\n    </tr>\n  </tbody>\n</table>\n<p>133 rows × 3 columns</p>\n</div>"
     },
     "execution_count": 9,
     "metadata": {},
     "output_type": "execute_result"
    }
   ],
   "source": [
    "# LDA 적용 후 차원 축소된 데이터를 데이터프레임 형태로 변환한다.\n",
    "import pandas as pd  # 데이터프레임 형태로 만들기 위해서 판다스 라이브러리를 import 한다.\n",
    "\n",
    "lda_columns = ['lda_comp1', 'lda_comp2']  # 차원 축소된 데이터의 열 이름을 정한다.\n",
    "X_tn_lda_df = pd.DataFrame(X_tn_lda, columns=lda_columns)  # 차원 축소된 데이터를 데이터프레임으로 만든다.\n",
    "X_tn_lda_df['target'] = y_tn  # 차원 축소된 데이터로 만든 데이터프레임에 타겟 데이터를 결합한다.\n",
    "X_tn_lda_df"
   ],
   "metadata": {
    "collapsed": false,
    "ExecuteTime": {
     "start_time": "2023-04-04T17:55:30.004246Z",
     "end_time": "2023-04-04T17:55:30.766021Z"
    }
   }
  },
  {
   "cell_type": "code",
   "execution_count": 10,
   "outputs": [
    {
     "data": {
      "text/plain": "<Figure size 800x600 with 1 Axes>",
      "image/png": "[encoded data removed]"
     },
     "metadata": {},
     "output_type": "display_data"
    }
   ],
   "source": [
    "# LDA 적용 데이터 시각화\n",
    "import matplotlib.pyplot as plt\n",
    "\n",
    "df = X_tn_lda_df\n",
    "markers = ['o', 'x', '^']  # 시각화에 사용할 마커를 지정한다.\n",
    "plt.figure(figsize=[8, 6])\n",
    "\n",
    "# enumerate() 함수는 (인덱스, 데이터) 형태의 튜플을 리턴한다.\n",
    "for index, marker in enumerate(markers):\n",
    "    df_index = df[df['target'] == index]  # 시각화할 와인 데이터를 얻어온다.\n",
    "    target_index = raw_wine.target_names[index]  # 시각화할 와인의 타겟 이름을 얻어온다.\n",
    "    X1 = df_index['lda_comp1']  # 시각화할 차원 축소된 데이터의 첫 번째 주성분 벡터를 얻어온다.\n",
    "    X2 = df_index['lda_comp2']  # 시각화할 차원 축소된 데이터의 두 번째 주성분 벡터를 얻어온다.\n",
    "    plt.scatter(X1, X2, marker=marker, label=target_index)  # 산포도를 그린다.\n",
    "# =====\n",
    "\n",
    "plt.xlabel('lda_component1')\n",
    "plt.ylabel('lda_component2')\n",
    "plt.legend()\n",
    "plt.show()"
   ],
   "metadata": {
    "collapsed": false,
    "ExecuteTime": {
     "start_time": "2023-04-04T17:55:30.768374Z",
     "end_time": "2023-04-04T17:55:31.270075Z"
    }
   }
  },
  {
   "cell_type": "code",
   "execution_count": 11,
   "outputs": [
    {
     "data": {
      "text/plain": "array([2, 1, 0, 1, 0, 2, 1, 0, 2, 1, 0, 0, 1, 0, 1, 1, 2, 0, 1, 0, 0, 1,\n       2, 1, 0, 2, 0, 0, 0, 2, 1, 2, 2, 0, 1, 1, 1, 1, 1, 0, 0, 1, 2, 0,\n       0])"
     },
     "execution_count": 11,
     "metadata": {},
     "output_type": "execute_result"
    }
   ],
   "source": [
    "# 데이터 학습 및 예측\n",
    "from sklearn.ensemble import RandomForestClassifier  # 랜덤 포레스트 알고리즘을 사용하기 위해 import 한다.\n",
    "\n",
    "clf_rf_lda = RandomForestClassifier(max_depth=2, random_state=0)  # 랜덤 포레스트 모델 객체를 만든다.\n",
    "# 표준화된 피쳐 데이터 X_tn_std와 트레이닝 타겟 데이터 y_tn을 넣어서 랜덤 포레스트 알고리즘을 학습시킨다.\n",
    "clf_rf_lda.fit(X_tn_lda, y_tn)\n",
    "pred_rf_lda = clf_rf_lda.predict(X_te_lda)  # 표준화된 테스트 데이터 X_te_std로 예측한다.\n",
    "pred_rf_lda"
   ],
   "metadata": {
    "collapsed": false,
    "ExecuteTime": {
     "start_time": "2023-04-04T17:55:31.268708Z",
     "end_time": "2023-04-04T17:55:31.608810Z"
    }
   }
  },
  {
   "cell_type": "code",
   "execution_count": 12,
   "outputs": [
    {
     "data": {
      "text/plain": "1.0"
     },
     "execution_count": 12,
     "metadata": {},
     "output_type": "execute_result"
    }
   ],
   "source": [
    "# 정확도 평가\n",
    "from sklearn.metrics import accuracy_score  # 모형 정확도를 평가하기 위해 import 한다.\n",
    "\n",
    "# accuracy_score() 함수의 인수로 실제 타겟 데이터와 예측된 데이터를 넘겨 정확도를 평가한다.\n",
    "accuracy = accuracy_score(y_te, pred_rf_lda)\n",
    "accuracy"
   ],
   "metadata": {
    "collapsed": false,
    "ExecuteTime": {
     "start_time": "2023-04-04T17:55:31.609978Z",
     "end_time": "2023-04-04T17:55:31.612609Z"
    }
   }
  },
  {
   "cell_type": "code",
   "execution_count": 12,
   "outputs": [],
   "source": [],
   "metadata": {
    "collapsed": false,
    "ExecuteTime": {
     "start_time": "2023-04-04T17:55:31.612679Z",
     "end_time": "2023-04-04T17:55:31.613989Z"
    }
   }
  }
 ],
 "metadata": {
  "kernelspec": {
   "display_name": "Python 3",
   "language": "python",
   "name": "python3"
  },
  "language_info": {
   "codemirror_mode": {
    "name": "ipython",
    "version": 2
   },
   "file_extension": ".py",
   "mimetype": "text/x-python",
   "name": "python",
   "nbconvert_exporter": "python",
   "pygments_lexer": "ipython2",
   "version": "2.7.6"
  }
 },
 "nbformat": 4,
 "nbformat_minor": 0
}
