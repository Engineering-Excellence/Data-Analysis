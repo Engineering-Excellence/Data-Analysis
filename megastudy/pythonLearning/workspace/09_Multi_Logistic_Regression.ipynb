{
 "cells": [
  {
   "cell_type": "code",
   "execution_count": 1,
   "metadata": {
    "collapsed": true
   },
   "outputs": [
    {
     "name": "stdout",
     "output_type": "stream",
     "text": [
      "WARNING:tensorflow:From /opt/homebrew/Caskroom/miniforge/base/envs/py38/lib/python3.8/site-packages/tensorflow/python/compat/v2_compat.py:107: disable_resource_variables (from tensorflow.python.ops.variable_scope) is deprecated and will be removed in a future version.\n",
      "Instructions for updating:\n",
      "non-resource variables are not supported in the long term\n"
     ]
    }
   ],
   "source": [
    "%config Completer.use_jedi = False\n",
    "import warnings\n",
    "\n",
    "warnings.filterwarnings(action='ignore')\n",
    "import tensorflow.compat.v1 as tf\n",
    "\n",
    "tf.disable_v2_behavior()\n",
    "import numpy as np"
   ]
  },
  {
   "cell_type": "markdown",
   "source": [
    "# 다중 로지스틱 회귀"
   ],
   "metadata": {
    "collapsed": false
   }
  },
  {
   "cell_type": "markdown",
   "source": [
    "학습 데이터를 만든다."
   ],
   "metadata": {
    "collapsed": false
   }
  },
  {
   "cell_type": "code",
   "execution_count": 2,
   "outputs": [
    {
     "name": "stdout",
     "output_type": "stream",
     "text": [
      "[[0, 10], [2, 3], [4, 3], [6, 4], [8, 6], [10, 7], [12, 8], [14, 9], [20, 0]]\n",
      "<class 'list'>\n",
      "[[ 0 10]\n",
      " [ 2  3]\n",
      " [ 4  3]\n",
      " [ 6  4]\n",
      " [ 8  6]\n",
      " [10  7]\n",
      " [12  8]\n",
      " [14  9]\n",
      " [20  0]]\n",
      "<class 'numpy.ndarray'>\n"
     ]
    }
   ],
   "source": [
    "# xData → [공부시간, 과외시간]\n",
    "temp = [[0, 10], [2, 3], [4, 3], [6, 4], [8, 6], [10, 7], [12, 8], [14, 9], [20, 0]]  # 9행 2열\n",
    "print(temp)\n",
    "print(type(temp))\n",
    "\n",
    "xData = np.array(temp)\n",
    "print(xData)\n",
    "print(type(xData))"
   ],
   "metadata": {
    "collapsed": false
   }
  },
  {
   "cell_type": "code",
   "execution_count": 3,
   "outputs": [
    {
     "name": "stdout",
     "output_type": "stream",
     "text": [
      "[0, 0, 0, 0, 1, 1, 1, 1, 1]\n",
      "<class 'list'>\n",
      "[0 0 0 0 1 1 1 1 1]\n",
      "<class 'numpy.ndarray'>\n",
      "[[0]\n",
      " [0]\n",
      " [0]\n",
      " [0]\n",
      " [1]\n",
      " [1]\n",
      " [1]\n",
      " [1]\n",
      " [1]]\n",
      "<class 'numpy.ndarray'>\n"
     ]
    }
   ],
   "source": [
    "# yData → [합격여부] : 실제값\n",
    "temp = [0, 0, 0, 0, 1, 1, 1, 1, 1]  # 1행 9열\n",
    "print(temp)\n",
    "print(type(temp))\n",
    "\n",
    "yData = np.array(temp)\n",
    "print(yData)\n",
    "print(type(yData))\n",
    "\n",
    "# reshape(): numpy에서 데이터는 그대로 유지한 채 배열의 형태(차원)을 변경한다.\n",
    "# 1행 9열 numpy 배열 → 9행 1열 numpy 배열\n",
    "yData = np.array(temp).reshape(9, 1)\n",
    "print(yData)\n",
    "print(type(yData))"
   ],
   "metadata": {
    "collapsed": false
   }
  },
  {
   "cell_type": "markdown",
   "source": [
    "xData와 yData를 저장할 placeholder를 만든다."
   ],
   "metadata": {
    "collapsed": false
   }
  },
  {
   "cell_type": "code",
   "execution_count": 4,
   "outputs": [],
   "source": [
    "# placeholder에 numpy 배열을 대입하는 경우 shape 속성을 이용해서 대입되는 numpy 배열의 차원을 지정해야 한다.\n",
    "# [None, 2] → placeholder에 대입되는 numpy 배열의 행의 개수는 상관없고 열의 개수는 반드시 2개라는 의미이다.\n",
    "X = tf.placeholder(dtype=tf.float32, shape=[None, 2])  # xData가 대입될 placeholder\n",
    "Y = tf.placeholder(dtype=tf.float32, shape=[None, 1])  # yData가 대입될 placeholder"
   ],
   "metadata": {
    "collapsed": false
   }
  },
  {
   "cell_type": "markdown",
   "source": [
    "가중치 w와 편향 b를 임의의 값으로 정한다."
   ],
   "metadata": {
    "collapsed": false
   }
  },
  {
   "cell_type": "code",
   "execution_count": 5,
   "outputs": [
    {
     "name": "stdout",
     "output_type": "stream",
     "text": [
      "w = [[0.9651872 ]\n",
      " [0.12623322]]\n",
      "b = [0.08996475]\n"
     ]
    },
    {
     "name": "stderr",
     "output_type": "stream",
     "text": [
      "2023-02-02 14:28:23.057136: I tensorflow/compiler/mlir/mlir_graph_optimization_pass.cc:357] MLIR V1 optimization pass is not enabled\n",
      "2023-02-02 14:28:23.057712: W tensorflow/tsl/platform/profile_utils/cpu_utils.cc:128] Failed to get CPU frequency: 0 Hz\n"
     ]
    }
   ],
   "source": [
    "w = tf.Variable(tf.random_uniform([2, 1]), dtype=tf.float32)  # 난수를 2행 1열로 발생시킨다.\n",
    "b = tf.Variable(tf.random_uniform([1]), dtype=tf.float32)\n",
    "sess = tf.Session()\n",
    "sess.run(tf.global_variables_initializer())\n",
    "print(f'w = {sess.run(w)}\\nb = {sess.run(b)}')"
   ],
   "metadata": {
    "collapsed": false
   }
  },
  {
   "cell_type": "markdown",
   "source": [
    "# 시그모이드 방정식, 오차 함수, 경사 하강법"
   ],
   "metadata": {
    "collapsed": false
   }
  },
  {
   "cell_type": "code",
   "execution_count": 6,
   "outputs": [],
   "source": [
    "# sigmoid(): 시그모이드 방정식을 계산한다.\n",
    "# matmul(): 행렬을 내적한다.\n",
    "y = tf.sigmoid(tf.matmul(X, w) + b)  # 시그모이드 방정식\n",
    "loss = -tf.reduce_mean(\n",
    "    Y * tf.log(y) + (1 - Y) * tf.log(1 - y)\n",
    ")\n",
    "gradient_descent = tf.train.GradientDescentOptimizer(0.1).minimize(loss)  # 경사 하강법"
   ],
   "metadata": {
    "collapsed": false
   }
  },
  {
   "cell_type": "markdown",
   "source": [
    "sigmoid() 메서드의 실행결과(y)가 0.5 이상이면 1을, 0.5 미만이면 -1을 리턴시킨다."
   ],
   "metadata": {
    "collapsed": false
   }
  },
  {
   "cell_type": "code",
   "execution_count": 7,
   "outputs": [
    {
     "name": "stdout",
     "output_type": "stream",
     "text": [
      "[0. 1.]\n"
     ]
    }
   ],
   "source": [
    "sess = tf.Session()\n",
    "# cast(x, dtype): x에 저장된 데이터를 dtype으로 형변환한다.\n",
    "# predict = tf.cast(tf.constant([1.9, 2.1]), dtype=tf.int32)\n",
    "# print(sess.run(predict))  # [1 2]\n",
    "# predict = tf.cast([True, False], dtype=tf.int32)\n",
    "# print(sess.run(predict))\n",
    "predict = tf.cast([0.4 >= 0.5, 0.5 >= 0.5], dtype=tf.float32)\n",
    "print(sess.run(predict))"
   ],
   "metadata": {
    "collapsed": false
   }
  },
  {
   "cell_type": "markdown",
   "source": [
    "sigmoid() 메서드를 실행한 예측값(0 또는 1)을 계산한다."
   ],
   "metadata": {
    "collapsed": false
   }
  },
  {
   "cell_type": "code",
   "execution_count": 8,
   "outputs": [],
   "source": [
    "predict = tf.cast(y >= 0.5, dtype=tf.float32)  # 예측값, sigmoid() 메서드를 실행한 결과를 0 또는 1로 변환한다."
   ],
   "metadata": {
    "collapsed": false
   }
  },
  {
   "cell_type": "markdown",
   "source": [
    "예측값(predict)과 실제값(Y)이 일치하는 정도(정확도, accuracy)를 계산한다."
   ],
   "metadata": {
    "collapsed": false
   }
  },
  {
   "cell_type": "code",
   "execution_count": 9,
   "outputs": [],
   "source": [
    "# sess = tf.Session()\n",
    "# equal(): 인수로 지정한 값이 같으면 True, 다르면 False를 리턴한다.\n",
    "# print(sess.run(tf.equal(1, 1)), sess.run(tf.equal(1, 0)))   # True False\n",
    "# equal() 메서드로 예측값과 실제값이 같은지 비교 후 True 또는 False를 1 또는 0으로 cast() 하고 전체 평균을 계산한다.\n",
    "accuracy = tf.reduce_mean(tf.cast(tf.equal(predict, Y), dtype=tf.int32))"
   ],
   "metadata": {
    "collapsed": false
   }
  },
  {
   "cell_type": "markdown",
   "source": [
    "학습시킨다."
   ],
   "metadata": {
    "collapsed": false
   }
  },
  {
   "cell_type": "code",
   "execution_count": 13,
   "outputs": [
    {
     "name": "stdout",
     "output_type": "stream",
     "text": [
      "epoch =     0, w1 =  0.20380, w2 =  0.51095, b =   0.50667, loss = 2.32280\n",
      "epoch =  2000, w1 =  0.83333, w2 =  0.19551, b =  -6.54253, loss = 0.08538\n",
      "epoch =  4000, w1 =  1.00365, w2 =  0.43378, b =  -8.98303, loss = 0.05441\n",
      "epoch =  6000, w1 =  1.12726, w2 =  0.57882, b = -10.59497, loss = 0.04112\n",
      "epoch =  8000, w1 =  1.22465, w2 =  0.68715, b = -11.82979, loss = 0.03336\n",
      "epoch = 10000, w1 =  1.30548, w2 =  0.77471, b = -12.84051, loss = 0.02817\n",
      "epoch = 12000, w1 =  1.37478, w2 =  0.84860, b = -13.69997, loss = 0.02441\n",
      "epoch = 14000, w1 =  1.43555, w2 =  0.91270, b = -14.44937, loss = 0.02156\n",
      "epoch = 16000, w1 =  1.48970, w2 =  0.96940, b = -15.11461, loss = 0.01932\n",
      "epoch = 18000, w1 =  1.53857, w2 =  1.02027, b = -15.71317, loss = 0.01750\n",
      "epoch = 20000, w1 =  1.58311, w2 =  1.06644, b = -16.25747, loss = 0.01600\n"
     ]
    }
   ],
   "source": [
    "sess = tf.Session()\n",
    "sess.run(tf.global_variables_initializer())\n",
    "\n",
    "for epoch in range(20001):\n",
    "    # sess.run([실행 리스트], feed_dict={X: 입력 데이터, Y: 입력 데이터에 따른 실젯값})\n",
    "    w_, b_, loss_, _ = sess.run([w, b, loss, gradient_descent], feed_dict={X: xData, Y: yData})\n",
    "    if epoch % 2000 == 0:\n",
    "        print(f'epoch = {epoch:5d}, w1 = {w_[0][0]:8.5f}, w2 = {w_[1][0]:8.5f}, b = {b_[0]:9.5f}, loss = {loss_:7.5f}')"
   ],
   "metadata": {
    "collapsed": false
   }
  },
  {
   "cell_type": "markdown",
   "source": [
    "테스트"
   ],
   "metadata": {
    "collapsed": false
   }
  },
  {
   "cell_type": "code",
   "execution_count": 11,
   "outputs": [
    {
     "name": "stdout",
     "output_type": "stream",
     "text": [
      "[[100000      0]]\n",
      "공부시간: 100000, 과외시간: 0, 합격여부: 불합격, 합격률: nan%\n"
     ]
    }
   ],
   "source": [
    "# 테스트 데이터를 만든다.\n",
    "# new_x = np.array([6, 5])    # 테스트 데이터가 1차원 numpy 배열로 만들어지기 때문에 행렬의 곱셈 연산이 실행되지 않는다.\n",
    "# print(new_x)  # 1차원\n",
    "# print(type(new_x))\n",
    "# reshape() 메서드를 이용해서 2행 1열을 1행 2열인 numpy 배열로 만들어야 한다.\n",
    "new_x = np.array([100000, 0]).reshape(1, 2)\n",
    "print(new_x)  # 2차원\n",
    "\n",
    "# sigmoid() 메서드의 연산 결과에 테스트 데이터를 대입해서 연산한다.\n",
    "result, new_y = sess.run([predict, y], feed_dict={X: new_x})\n",
    "print(f'공부시간: {new_x[:, 0][0]}, 과외시간: {new_x[:, 1][0]}, 합격여부: {\"합격\" if result[0][0] == 1 else \"불합격\":3s}, 합격률: {new_y[0][0] * 100:.2f}%')\n",
    "\n",
    "sess.close()"
   ],
   "metadata": {
    "collapsed": false
   }
  },
  {
   "cell_type": "code",
   "execution_count": 11,
   "outputs": [],
   "source": [
    "\n"
   ],
   "metadata": {
    "collapsed": false
   }
  }
 ],
 "metadata": {
  "kernelspec": {
   "display_name": "Python 3",
   "language": "python",
   "name": "python3"
  },
  "language_info": {
   "codemirror_mode": {
    "name": "ipython",
    "version": 2
   },
   "file_extension": ".py",
   "mimetype": "text/x-python",
   "name": "python",
   "nbconvert_exporter": "python",
   "pygments_lexer": "ipython2",
   "version": "2.7.6"
  }
 },
 "nbformat": 4,
 "nbformat_minor": 0
}
