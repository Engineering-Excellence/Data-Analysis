{
 "cells": [
  {
   "cell_type": "code",
   "execution_count": 1,
   "metadata": {
    "collapsed": true
   },
   "outputs": [
    {
     "name": "stdout",
     "output_type": "stream",
     "text": [
      "WARNING:tensorflow:From /opt/homebrew/Caskroom/miniconda/base/envs/py_3_8/lib/python3.8/site-packages/tensorflow/python/compat/v2_compat.py:107: disable_resource_variables (from tensorflow.python.ops.variable_scope) is deprecated and will be removed in a future version.\n",
      "Instructions for updating:\n",
      "non-resource variables are not supported in the long term\n"
     ]
    }
   ],
   "source": [
    "%config Completer.use_jedi = False\n",
    "import warnings\n",
    "\n",
    "warnings.filterwarnings(action='ignore')\n",
    "import tensorflow.compat.v1 as tf\n",
    "\n",
    "tf.disable_v2_behavior()\n",
    "import numpy as np"
   ]
  },
  {
   "cell_type": "markdown",
   "source": [
    "# LSTM(Long Short Term Memory)\n",
    "\n",
    "LSTM은 gradient vanishing(기울기 소실) 또는 grdient exploding(기울기 폭주)과 같은 기존 RNN의 단점을 극복하고자 만들어진 조금 더 진화된 RNN 셀로 LSTM 셀 내부를 살펴보면 기존 RNN의 단점을 극복하기 위해 이전 정보를 지우거나 기억하기 위한 로직과 현재 정보를 기억하기 위한 로직이 구현되어 있다. 아래 그림을 보면 RNN에서 보지못했던 주황색 선과 조금 더 많아진 활성화 함수, 수학 기호들을 볼 수 있다.\n",
    "***\n",
    "주황색 선은 메모리 셀이라고 부르고 주황색 선상의 곱하기 기호에서 0부터 1까지의 값인 시그모이드 출력값이 곱해지게 되어 메모리 셀의 기존 정보를 어느정도까지 기억할지 결장하게 된다. 주황색 선상의 더하기 기호는 새로운 정보를 메모리 셀의 기존 정보에 더하는 로직이 그리고 $h_t$ 선상의 곱하기 기호에서 메모리 셀의 정보와 현재 정보가 함께 계산되어 상태값을 출력한다.\n",
    "<br/>\n",
    "<img src=\"./images/LSTM.png\" width=\"1500\">\n",
    "\n",
    "텐서플로우에는 이미 LSTM이 구현되어 있기 때문에 위 그림을 직접 구현할 필요는 없고 아래 그림만 이해해도 사용하는데 큰 무리는 없다.\n",
    "<br/>\n",
    "<img src=\"./images/LSTM2.png\" width=\"1500\">\n",
    "\n",
    "다음 코드를 실행해서 LSTM의 출력값 및 상태값 그리고 메모리 셀 값을 확인할 수 있다."
   ],
   "metadata": {
    "collapsed": false
   }
  },
  {
   "cell_type": "code",
   "execution_count": 2,
   "outputs": [
    {
     "data": {
      "text/plain": "(1, 1, 2)"
     },
     "execution_count": 2,
     "metadata": {},
     "output_type": "execute_result"
    }
   ],
   "source": [
    "inputs = np.array([[[1, 0]]])\n",
    "inputs.shape"
   ],
   "metadata": {
    "collapsed": false
   }
  },
  {
   "cell_type": "code",
   "execution_count": 3,
   "outputs": [
    {
     "name": "stdout",
     "output_type": "stream",
     "text": [
      "WARNING:tensorflow:From /var/folders/_y/pqdrbdn56bv6kw113l51416c0000gn/T/ipykernel_1923/2858469114.py:6: dynamic_rnn (from tensorflow.python.ops.rnn) is deprecated and will be removed in a future version.\n",
      "Instructions for updating:\n",
      "Please use `keras.layers.RNN(cell)`, which is equivalent to this API\n",
      "WARNING:tensorflow:From /opt/homebrew/Caskroom/miniconda/base/envs/py_3_8/lib/python3.8/site-packages/keras/layers/rnn/legacy_cells.py:1048: calling Zeros.__init__ (from tensorflow.python.ops.init_ops) with dtype is deprecated and will be removed in a future version.\n",
      "Instructions for updating:\n",
      "Call initializer instance with the dtype argument instead of passing it to the constructor\n",
      "Metal device set to: Apple M2\n",
      "LSTM 출력(output_lstm) 값: [[[-0.16485532]]]\n",
      "LSTM 상태(state_lstm.h) 값: [[-0.16485532]]\n",
      "LSTM 메모리 셀(state_lstm.c) 값: [[-0.35818562]]\n"
     ]
    },
    {
     "name": "stderr",
     "output_type": "stream",
     "text": [
      "2023-03-10 14:21:20.041409: I tensorflow/core/common_runtime/pluggable_device/pluggable_device_factory.cc:306] Could not identify NUMA node of platform GPU ID 0, defaulting to 0. Your kernel may not have been built with NUMA support.\n",
      "2023-03-10 14:21:20.041428: I tensorflow/core/common_runtime/pluggable_device/pluggable_device_factory.cc:272] Created TensorFlow device (/job:localhost/replica:0/task:0/device:GPU:0 with 0 MB memory) -> physical PluggableDevice (device: 0, name: METAL, pci bus id: <undefined>)\n",
      "2023-03-10 14:21:20.043549: I tensorflow/compiler/mlir/mlir_graph_optimization_pass.cc:357] MLIR V1 optimization pass is not enabled\n",
      "2023-03-10 14:21:20.044265: W tensorflow/tsl/platform/profile_utils/cpu_utils.cc:128] Failed to get CPU frequency: 0 Hz\n",
      "2023-03-10 14:21:20.044483: I tensorflow/core/grappler/optimizers/custom_graph_optimizer_registry.cc:114] Plugin optimizer for device_type GPU is enabled.\n",
      "2023-03-10 14:21:20.049975: I tensorflow/core/grappler/optimizers/custom_graph_optimizer_registry.cc:114] Plugin optimizer for device_type GPU is enabled.\n"
     ]
    }
   ],
   "source": [
    "tf.set_random_seed(777)\n",
    "tf_inputs = tf.constant(inputs, dtype=tf.float32)\n",
    "\n",
    "# LSTM 셀을 만든다.\n",
    "lstm_cell = tf.nn.rnn_cell.LSTMCell(num_units=1)\n",
    "outputs, state = tf.nn.dynamic_rnn(cell=lstm_cell, dtype=tf.float32, inputs=tf_inputs)\n",
    "\n",
    "with tf.Session() as sess:\n",
    "    sess.run(tf.global_variables_initializer())\n",
    "    output_lstm, state_lstm = sess.run([outputs, state])\n",
    "    print('LSTM 출력(output_lstm) 값: {}'.format(output_lstm))\n",
    "    print('LSTM 상태(state_lstm.h) 값: {}'.format(state_lstm.h))\n",
    "    print('LSTM 메모리 셀(state_lstm.c) 값: {}'.format(state_lstm.c))"
   ],
   "metadata": {
    "collapsed": false
   }
  }
 ],
 "metadata": {
  "kernelspec": {
   "display_name": "Python 3",
   "language": "python",
   "name": "python3"
  },
  "language_info": {
   "codemirror_mode": {
    "name": "ipython",
    "version": 2
   },
   "file_extension": ".py",
   "mimetype": "text/x-python",
   "name": "python",
   "nbconvert_exporter": "python",
   "pygments_lexer": "ipython2",
   "version": "2.7.6"
  }
 },
 "nbformat": 4,
 "nbformat_minor": 0
}
