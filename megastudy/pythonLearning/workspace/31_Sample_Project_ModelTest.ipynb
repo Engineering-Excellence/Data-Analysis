{
 "cells": [
  {
   "cell_type": "code",
   "execution_count": 1,
   "metadata": {
    "collapsed": true
   },
   "outputs": [
    {
     "name": "stdout",
     "output_type": "stream",
     "text": [
      "WARNING:tensorflow:From /opt/homebrew/Caskroom/miniconda/base/envs/py_3_8/lib/python3.8/site-packages/tensorflow/python/compat/v2_compat.py:107: disable_resource_variables (from tensorflow.python.ops.variable_scope) is deprecated and will be removed in a future version.\n",
      "Instructions for updating:\n",
      "non-resource variables are not supported in the long term\n"
     ]
    }
   ],
   "source": [
    "%config Completer.use_jedi = False\n",
    "import warnings\n",
    "\n",
    "warnings.filterwarnings(action='ignore')\n",
    "import tensorflow.compat.v1 as tf\n",
    "\n",
    "tf.disable_v2_behavior()"
   ]
  },
  {
   "cell_type": "code",
   "execution_count": 2,
   "outputs": [],
   "source": [
    "X = tf.placeholder(dtype=tf.float32, shape=[None, 4])\n",
    "a = tf.Variable(tf.random_uniform([4, 1]), dtype=tf.float32)\n",
    "b = tf.Variable(tf.random_uniform([1]), dtype=tf.float32)\n",
    "y = tf.matmul(X, a) + b"
   ],
   "metadata": {
    "collapsed": false
   }
  },
  {
   "cell_type": "code",
   "execution_count": 3,
   "outputs": [],
   "source": [
    "# 배추 가격을 결정하는 4가지 변화 요인을 입력받는다.\n",
    "# input() 함수는 무조건 문자열로 입력을 받기 때문에 입력받은 후 int()나 float() 함수를 사용해서 숫자로 변환한다.\n",
    "avgTemp = float(input('평균온도: '))\n",
    "minTemp = float(input('최저온도: '))\n",
    "maxTemp = float(input('최고온도: '))\n",
    "rainFall = float(input('강수량: '))"
   ],
   "metadata": {
    "collapsed": false
   }
  },
  {
   "cell_type": "code",
   "execution_count": 4,
   "outputs": [
    {
     "name": "stdout",
     "output_type": "stream",
     "text": [
      "Metal device set to: Apple M2\n",
      "INFO:tensorflow:Restoring parameters from ./model/saved.cpkt\n",
      "평균온도:  5.0, 최저온도: -5.0, 최고온도: 30.0, 강수량: 10.0일 때 배추 가격은 4,139.59원 입니다.\n"
     ]
    },
    {
     "name": "stderr",
     "output_type": "stream",
     "text": [
      "2023-03-17 00:25:11.158813: I tensorflow/core/common_runtime/pluggable_device/pluggable_device_factory.cc:306] Could not identify NUMA node of platform GPU ID 0, defaulting to 0. Your kernel may not have been built with NUMA support.\n",
      "2023-03-17 00:25:11.159325: I tensorflow/core/common_runtime/pluggable_device/pluggable_device_factory.cc:272] Created TensorFlow device (/job:localhost/replica:0/task:0/device:GPU:0 with 0 MB memory) -> physical PluggableDevice (device: 0, name: METAL, pci bus id: <undefined>)\n",
      "2023-03-17 00:25:11.165649: I tensorflow/compiler/mlir/mlir_graph_optimization_pass.cc:357] MLIR V1 optimization pass is not enabled\n",
      "2023-03-17 00:25:11.172571: W tensorflow/tsl/platform/profile_utils/cpu_utils.cc:128] Failed to get CPU frequency: 0 Hz\n",
      "2023-03-17 00:25:11.181725: I tensorflow/core/grappler/optimizers/custom_graph_optimizer_registry.cc:114] Plugin optimizer for device_type GPU is enabled.\n",
      "2023-03-17 00:25:11.299267: I tensorflow/core/grappler/optimizers/custom_graph_optimizer_registry.cc:114] Plugin optimizer for device_type GPU is enabled.\n",
      "2023-03-17 00:25:11.306158: I tensorflow/core/grappler/optimizers/custom_graph_optimizer_registry.cc:114] Plugin optimizer for device_type GPU is enabled.\n"
     ]
    }
   ],
   "source": [
    "sess = tf.Session()\n",
    "sess.run(tf.global_variables_initializer())\n",
    "\n",
    "# 디스크에 저장된 학습된 모델을 불러와 적용시킨다.\n",
    "saver = tf.train.Saver()\n",
    "# save() 함수로 저장한 학습 모델은 restore() 함수를 사용해서 세션으로 불러올 수 있다.\n",
    "saver.restore(sess, './model/saved.cpkt')\n",
    "\n",
    "# 키보드로 입력받은 데이터를 불러온 학습 모델에서 사용하기 위해 2차원 배열 형태로 만든다.\n",
    "data = [[avgTemp, minTemp, maxTemp, rainFall]]  # 2차원 리스트\n",
    "\n",
    "# 불러온 학습 모델을 키보드로 입력한 데이터를 적용시켜 배추 가격을 예측한다.\n",
    "result = sess.run(y, feed_dict={X: data})\n",
    "print('평균온도: {:4.1f}, 최저온도: {:4.1f}, 최고온도: {:4.1f}, 강수량: {:4.1f}일 때 ' \\\n",
    "      '배추 가격은 {:7,.2f}원 입니다.'.format(avgTemp, minTemp, maxTemp, rainFall, result[0][0]))\n",
    "\n",
    "sess.close()"
   ],
   "metadata": {
    "collapsed": false
   }
  }
 ],
 "metadata": {
  "kernelspec": {
   "display_name": "Python 3",
   "language": "python",
   "name": "python3"
  },
  "language_info": {
   "codemirror_mode": {
    "name": "ipython",
    "version": 2
   },
   "file_extension": ".py",
   "mimetype": "text/x-python",
   "name": "python",
   "nbconvert_exporter": "python",
   "pygments_lexer": "ipython2",
   "version": "2.7.6"
  }
 },
 "nbformat": 4,
 "nbformat_minor": 0
}
