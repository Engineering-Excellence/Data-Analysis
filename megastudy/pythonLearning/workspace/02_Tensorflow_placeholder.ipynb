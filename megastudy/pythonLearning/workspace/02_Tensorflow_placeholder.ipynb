{
 "cells": [
  {
   "cell_type": "code",
   "execution_count": 1,
   "metadata": {
    "collapsed": true
   },
   "outputs": [
    {
     "name": "stdout",
     "output_type": "stream",
     "text": [
      "WARNING:tensorflow:From /opt/homebrew/Caskroom/miniforge/base/envs/py38/lib/python3.8/site-packages/tensorflow/python/compat/v2_compat.py:107: disable_resource_variables (from tensorflow.python.ops.variable_scope) is deprecated and will be removed in a future version.\n",
      "Instructions for updating:\n",
      "non-resource variables are not supported in the long term\n"
     ]
    }
   ],
   "source": [
    "%config Completer.use_jedi = False\n",
    "import warnings\n",
    "\n",
    "warnings.filterwarnings(action='ignore')\n",
    "import tensorflow.compat.v1 as tf\n",
    "\n",
    "tf.disable_v2_behavior()"
   ]
  },
  {
   "cell_type": "markdown",
   "source": [
    "placeholder는 tensorflow에서 사용하는 여러 건의 데이터를 저장하는 일종의 배열(리스트)이다.\n",
    "* placeholder(dtype, shape, name)\n",
    "- dtype: placeholder에 저장되는 데이터의 자료형(필수)\n",
    "- shape: placeholder에 저장되는 데이터의 차원(생략가능)\n",
    "- name: placeholder의 이름(생략가능)"
   ],
   "metadata": {
    "collapsed": false
   }
  },
  {
   "cell_type": "code",
   "execution_count": 2,
   "outputs": [
    {
     "name": "stderr",
     "output_type": "stream",
     "text": [
      "2023-02-01 01:05:43.693072: I tensorflow/compiler/mlir/mlir_graph_optimization_pass.cc:357] MLIR V1 optimization pass is not enabled\n",
      "2023-02-01 01:05:43.702239: W tensorflow/tsl/platform/profile_utils/cpu_utils.cc:128] Failed to get CPU frequency: 0 Hz\n"
     ]
    },
    {
     "data": {
      "text/plain": "array([6., 6., 6., 6., 6.], dtype=float32)"
     },
     "execution_count": 2,
     "metadata": {},
     "output_type": "execute_result"
    }
   ],
   "source": [
    "# tensorflow의 placeholder에 저장할 데이터를 선언한다.\n",
    "xData = [1, 2, 3, 4, 5]\n",
    "yData = [5, 4, 3, 2, 1]\n",
    "\n",
    "# placeholder를 선언한다.\n",
    "x = tf.placeholder(dtype=tf.float32)  # xData의 내용을 기억할 placeholder를 선언한다.\n",
    "y = tf.placeholder(dtype=tf.float32)  # yData의 내용을 기억할 placeholder를 선언한다.\n",
    "# x=tf.placeholder_with_default(xData, shape=5)\n",
    "# y=tf.placeholder_with_default(yData, shape=5)\n",
    "\n",
    "# placeholder를 사용하는 수식을 선언한다.\n",
    "z = x + y\n",
    "\n",
    "sess = tf.Session()\n",
    "\n",
    "# 수식에 사용할 데이터를 placeholder에 대입하고 실행한다.\n",
    "# z라고 정의한 수식을 실행한다. → z에 연산 결과를 저장해야 하는데 x, y placeholder에 데이터가 채워져있지 않기 때문에 그냥 실행하면 에러 발생\n",
    "# 반드시 'feed_dict'라는 이름의 딕셔너리 타입을 사용해서 데이터를 채운 후 연산을 실행해야 한다.\n",
    "# feed_dict 딕셔너리의 구조는 {placeholder_1: data_1, ...}와 같이 사용하며 데이터는 반드시 리스트 또는 튜플 타입을 사용해야 한다.\n",
    "result = sess.run(z, feed_dict={x: xData, y: yData})\n",
    "# result = sess.run(z)\n",
    "sess.close()\n",
    "result"
   ],
   "metadata": {
    "collapsed": false
   }
  },
  {
   "cell_type": "code",
   "execution_count": 2,
   "outputs": [],
   "source": [],
   "metadata": {
    "collapsed": false
   }
  }
 ],
 "metadata": {
  "kernelspec": {
   "display_name": "Python 3",
   "language": "python",
   "name": "python3"
  },
  "language_info": {
   "codemirror_mode": {
    "name": "ipython",
    "version": 2
   },
   "file_extension": ".py",
   "mimetype": "text/x-python",
   "name": "python",
   "nbconvert_exporter": "python",
   "pygments_lexer": "ipython2",
   "version": "2.7.6"
  }
 },
 "nbformat": 4,
 "nbformat_minor": 0
}
