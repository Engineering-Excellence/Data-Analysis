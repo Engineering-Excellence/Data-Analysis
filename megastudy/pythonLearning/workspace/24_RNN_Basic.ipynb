{
 "cells": [
  {
   "cell_type": "code",
   "execution_count": 1,
   "metadata": {
    "collapsed": true
   },
   "outputs": [
    {
     "name": "stdout",
     "output_type": "stream",
     "text": [
      "WARNING:tensorflow:From /opt/homebrew/Caskroom/miniconda/base/envs/py_3_8/lib/python3.8/site-packages/tensorflow/python/compat/v2_compat.py:107: disable_resource_variables (from tensorflow.python.ops.variable_scope) is deprecated and will be removed in a future version.\n",
      "Instructions for updating:\n",
      "non-resource variables are not supported in the long term\n"
     ]
    }
   ],
   "source": [
    "%config Completer.use_jedi = False\n",
    "import warnings\n",
    "\n",
    "warnings.filterwarnings(action='ignore')\n",
    "import tensorflow.compat.v1 as tf\n",
    "\n",
    "tf.disable_v2_behavior()\n",
    "import numpy as np"
   ]
  },
  {
   "cell_type": "markdown",
   "source": [
    "# RNN(Recurrent Neural Network) - 순환 신경망\n",
    "RNN 입력값(x), 출력값(output), 상태값(state), 가중치(w), 편향값(b) 활성화 함수(tanh)로 구성된다.\n",
    "<br/>\n",
    "<img src=\"./images/RNN.png\" width=\"1500\"/>"
   ],
   "metadata": {
    "collapsed": false
   }
  },
  {
   "cell_type": "code",
   "execution_count": 2,
   "outputs": [
    {
     "name": "stdout",
     "output_type": "stream",
     "text": [
      "Metal device set to: Apple M2\n",
      "입력 데이터: [[[1. 2.]]]\n",
      "RNN 셀의 개수: 3\n",
      "WARNING:tensorflow:From /var/folders/_y/pqdrbdn56bv6kw113l51416c0000gn/T/ipykernel_1649/1143204613.py:18: dynamic_rnn (from tensorflow.python.ops.rnn) is deprecated and will be removed in a future version.\n",
      "Instructions for updating:\n",
      "Please use `keras.layers.RNN(cell)`, which is equivalent to this API\n",
      "WARNING:tensorflow:From /opt/homebrew/Caskroom/miniconda/base/envs/py_3_8/lib/python3.8/site-packages/keras/layers/rnn/legacy_cells.py:467: calling Zeros.__init__ (from tensorflow.python.ops.init_ops) with dtype is deprecated and will be removed in a future version.\n",
      "Instructions for updating:\n",
      "Call initializer instance with the dtype argument instead of passing it to the constructor\n",
      "출력값: Tensor(\"rnn/transpose_1:0\", shape=(1, 1, 3), dtype=float32)\n",
      "상태값: Tensor(\"rnn/while/Exit_3:0\", shape=(1, 3), dtype=float32)\n",
      "가중치 개수와 편향값 개수\n",
      "<tf.Variable 'rnn/basic_rnn_cell/kernel:0' shape=(5, 3) dtype=float32_ref>\n",
      "<tf.Variable 'rnn/basic_rnn_cell/bias:0' shape=(3,) dtype=float32_ref>\n",
      "================================================================================\n"
     ]
    },
    {
     "name": "stderr",
     "output_type": "stream",
     "text": [
      "2023-03-07 23:55:37.706135: I tensorflow/core/common_runtime/pluggable_device/pluggable_device_factory.cc:306] Could not identify NUMA node of platform GPU ID 0, defaulting to 0. Your kernel may not have been built with NUMA support.\n",
      "2023-03-07 23:55:37.706472: I tensorflow/core/common_runtime/pluggable_device/pluggable_device_factory.cc:272] Created TensorFlow device (/job:localhost/replica:0/task:0/device:GPU:0 with 0 MB memory) -> physical PluggableDevice (device: 0, name: METAL, pci bus id: <undefined>)\n",
      "2023-03-07 23:55:37.709425: I tensorflow/compiler/mlir/mlir_graph_optimization_pass.cc:357] MLIR V1 optimization pass is not enabled\n",
      "2023-03-07 23:55:37.716866: W tensorflow/tsl/platform/profile_utils/cpu_utils.cc:128] Failed to get CPU frequency: 0 Hz\n",
      "2023-03-07 23:55:37.724518: I tensorflow/core/grappler/optimizers/custom_graph_optimizer_registry.cc:114] Plugin optimizer for device_type GPU is enabled.\n"
     ]
    }
   ],
   "source": [
    "inputs = np.array([[[1, 2]]])  # 입력 데이터\n",
    "# print(inputs) # [[[1 2]]]\n",
    "# print(inputs.shape) # (1, 1, 2)\n",
    "# print(inputs.shape[0])\n",
    "tf.set_random_seed(35)\n",
    "\n",
    "tf_inputs = tf.constant(inputs, dtype=tf.float32)\n",
    "sess = tf.Session()\n",
    "print('입력 데이터: {}'.format(sess.run(tf_inputs)))\n",
    "\n",
    "# BasicRNNCell() 함수의 인수로 사용할 hidden_state의 개수를 지정해서 RNN 셀을 만든다.\n",
    "rnn_cell = tf.nn.rnn_cell.BasicRNNCell(num_units=3)\n",
    "print('RNN 셀의 개수: {}'.format(rnn_cell.state_size))\n",
    "\n",
    "# RNN 셀 초기화\n",
    "initial_state = tf.random_normal(shape=[inputs.shape[0], rnn_cell.state_size], mean=1.0)\n",
    "# dynamic_rnn() 함수는 입력값과 RNN 셀을 받아서 실행한 결과를 출력한다.\n",
    "outputs, state = tf.nn.dynamic_rnn(cell=rnn_cell, dtype=tf.float32, inputs=tf_inputs, initial_state=initial_state)\n",
    "print('출력값: {}'.format(outputs))\n",
    "print('상태값: {}'.format(state))\n",
    "\n",
    "print('가중치 개수와 편향값 개수')\n",
    "for v in tf.get_collection(tf.GraphKeys.TRAINABLE_VARIABLES):\n",
    "    print(v)\n",
    "print('=' * 80)"
   ],
   "metadata": {
    "collapsed": false
   }
  },
  {
   "cell_type": "code",
   "execution_count": 3,
   "outputs": [
    {
     "name": "stderr",
     "output_type": "stream",
     "text": [
      "2023-03-07 23:55:37.794023: I tensorflow/core/common_runtime/pluggable_device/pluggable_device_factory.cc:306] Could not identify NUMA node of platform GPU ID 0, defaulting to 0. Your kernel may not have been built with NUMA support.\n",
      "2023-03-07 23:55:37.794041: I tensorflow/core/common_runtime/pluggable_device/pluggable_device_factory.cc:272] Created TensorFlow device (/job:localhost/replica:0/task:0/device:GPU:0 with 0 MB memory) -> physical PluggableDevice (device: 0, name: METAL, pci bus id: <undefined>)\n",
      "2023-03-07 23:55:37.797198: I tensorflow/core/grappler/optimizers/custom_graph_optimizer_registry.cc:114] Plugin optimizer for device_type GPU is enabled.\n",
      "2023-03-07 23:55:37.822124: I tensorflow/core/grappler/optimizers/custom_graph_optimizer_registry.cc:114] Plugin optimizer for device_type GPU is enabled.\n"
     ]
    },
    {
     "name": "stdout",
     "output_type": "stream",
     "text": [
      "출력값\n",
      "[[[-0.86154586 -0.69077307 -0.66940147]]]\n",
      "상태값\n",
      "[[-0.86154586 -0.69077307 -0.66940147]]\n",
      "가중치와 편향값\n",
      "rnn/basic_rnn_cell/kernel:0\n",
      "[[-0.60581434  0.04554379 -0.05184728]\n",
      " [-0.5220578  -0.54527855  0.1978231 ]\n",
      " [-0.36936402 -0.3568974  -0.26499468]\n",
      " [ 0.6830124  -0.75265324 -0.7705655 ]\n",
      " [ 0.00107181  0.50031275 -0.33132648]]\n",
      "rnn/basic_rnn_cell/bias:0\n",
      "[0. 0. 0.]\n"
     ]
    },
    {
     "name": "stderr",
     "output_type": "stream",
     "text": [
      "2023-03-07 23:55:38.110971: I tensorflow/core/grappler/optimizers/custom_graph_optimizer_registry.cc:114] Plugin optimizer for device_type GPU is enabled.\n"
     ]
    }
   ],
   "source": [
    "variable_names = [v.name for v in tf.trainable_variables()]\n",
    "variable_names\n",
    "with tf.Session() as sess:\n",
    "    sess.run(tf.global_variables_initializer())\n",
    "    output_run, state_run = sess.run([outputs, state])\n",
    "    print('출력값\\n', output_run, sep='')\n",
    "    print('상태값\\n', state_run, sep='')  # 다음 RNN 셀로 전달된다.\n",
    "    print('가중치와 편향값')\n",
    "    values = sess.run(variable_names)\n",
    "    for k, v in zip(variable_names, values):\n",
    "        print('{}\\n{}'.format(k, v))"
   ],
   "metadata": {
    "collapsed": false
   }
  },
  {
   "cell_type": "markdown",
   "source": [
    "RNN 셀의 출력값과 상태값이 동일하다.\n",
    "입력값이 1 * 2 행렬이고 RNN 상태값이 1 * 3 행렬일 경우 가중치는 총 5개의 행을 가지게 된다.\n",
    "입력값이 1 * 2 행렬이고 RNN 상태값이 1 * 3 행렬일 경우 편향값은 총 3개가 필요하다."
   ],
   "metadata": {
    "collapsed": false
   }
  }
 ],
 "metadata": {
  "kernelspec": {
   "display_name": "Python 3",
   "language": "python",
   "name": "python3"
  },
  "language_info": {
   "codemirror_mode": {
    "name": "ipython",
    "version": 2
   },
   "file_extension": ".py",
   "mimetype": "text/x-python",
   "name": "python",
   "nbconvert_exporter": "python",
   "pygments_lexer": "ipython2",
   "version": "2.7.6"
  }
 },
 "nbformat": 4,
 "nbformat_minor": 0
}
