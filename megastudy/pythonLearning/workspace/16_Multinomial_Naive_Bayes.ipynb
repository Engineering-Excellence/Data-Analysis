{
 "cells": [
  {
   "cell_type": "markdown",
   "source": [
    "# Multinomial Naive Bayes\n",
    "다항분포 나이브 베이즈를 활용한 영화 리뷰 분류\n",
    "영화 리뷰에 다항분포 나이브 베이즈를 활용하여 영화 리뷰가 긍정적인지 부정적인지 분류한다."
   ],
   "metadata": {
    "collapsed": false
   }
  },
  {
   "cell_type": "code",
   "execution_count": 1,
   "metadata": {
    "collapsed": true
   },
   "outputs": [],
   "source": [
    "import pandas as pd\n",
    "% config Completer.use_jedi = False\n",
    "import warnings\n",
    "warnings.filterwarnings(action='ignore')"
   ]
  },
  {
   "cell_type": "code",
   "execution_count": 2,
   "outputs": [],
   "source": [
    "# 다항분포 나이브 베이즈를 사용하기 위한 라이브러리를 import 한다.\n",
    "from sklearn.naive_bayes import MultinomialNB\n",
    "from sklearn.feature_extraction.text import CountVectorizer\n",
    "# 모델 정확도 평가를 위한 라이브러리를 import 한다.\n",
    "from sklearn.metrics import classification_report\n",
    "from sklearn.metrics import accuracy_score"
   ],
   "metadata": {
    "collapsed": false
   }
  },
  {
   "cell_type": "markdown",
   "source": [
    "1. 데이터 획득\n",
    "- movie_review: 영화 리뷰\n",
    "- type: 긍정/부정"
   ],
   "metadata": {
    "collapsed": false
   }
  },
  {
   "cell_type": "code",
   "execution_count": 3,
   "outputs": [
    {
     "data": {
      "text/plain": "                                        movie_review      type\n0      this is great great movie. I will watch again  positive\n1                                  I like this movie  positive\n2                         amazing movie in this year  positive\n3      cool my boyfriend also said the movie is cool  positive\n4                  awesome of the awesome movie ever  positive\n5                      shame I wasted money and time  negative\n6  regret on this move. I will never never what m...  negative\n7                           I do not like this movie  negative\n8                 I do not like actors in this movie  negative\n9                       boring boring sleeping movie  negative",
      "text/html": "<div>\n<style scoped>\n    .dataframe tbody tr th:only-of-type {\n        vertical-align: middle;\n    }\n\n    .dataframe tbody tr th {\n        vertical-align: top;\n    }\n\n    .dataframe thead th {\n        text-align: right;\n    }\n</style>\n<table border=\"1\" class=\"dataframe\">\n  <thead>\n    <tr style=\"text-align: right;\">\n      <th></th>\n      <th>movie_review</th>\n      <th>type</th>\n    </tr>\n  </thead>\n  <tbody>\n    <tr>\n      <th>0</th>\n      <td>this is great great movie. I will watch again</td>\n      <td>positive</td>\n    </tr>\n    <tr>\n      <th>1</th>\n      <td>I like this movie</td>\n      <td>positive</td>\n    </tr>\n    <tr>\n      <th>2</th>\n      <td>amazing movie in this year</td>\n      <td>positive</td>\n    </tr>\n    <tr>\n      <th>3</th>\n      <td>cool my boyfriend also said the movie is cool</td>\n      <td>positive</td>\n    </tr>\n    <tr>\n      <th>4</th>\n      <td>awesome of the awesome movie ever</td>\n      <td>positive</td>\n    </tr>\n    <tr>\n      <th>5</th>\n      <td>shame I wasted money and time</td>\n      <td>negative</td>\n    </tr>\n    <tr>\n      <th>6</th>\n      <td>regret on this move. I will never never what m...</td>\n      <td>negative</td>\n    </tr>\n    <tr>\n      <th>7</th>\n      <td>I do not like this movie</td>\n      <td>negative</td>\n    </tr>\n    <tr>\n      <th>8</th>\n      <td>I do not like actors in this movie</td>\n      <td>negative</td>\n    </tr>\n    <tr>\n      <th>9</th>\n      <td>boring boring sleeping movie</td>\n      <td>negative</td>\n    </tr>\n  </tbody>\n</table>\n</div>"
     },
     "execution_count": 3,
     "metadata": {},
     "output_type": "execute_result"
    }
   ],
   "source": [
    "# 학습 데이터 준비\n",
    "review_list = [\n",
    "    {'movie_review': 'this is great great movie. I will watch again', 'type': 'positive'},\n",
    "    {'movie_review': 'I like this movie', 'type': 'positive'},\n",
    "    {'movie_review': 'amazing movie in this year', 'type': 'positive'},\n",
    "    {'movie_review': 'cool my boyfriend also said the movie is cool', 'type': 'positive'},\n",
    "    {'movie_review': 'awesome of the awesome movie ever', 'type': 'positive'},\n",
    "    {'movie_review': 'shame I wasted money and time', 'type': 'negative'},\n",
    "    {'movie_review': 'regret on this move. I will never never what movie from this director', 'type': 'negative'},\n",
    "    {'movie_review': 'I do not like this movie', 'type': 'negative'},\n",
    "    {'movie_review': 'I do not like actors in this movie', 'type': 'negative'},\n",
    "    {'movie_review': 'boring boring sleeping movie', 'type': 'negative'}\n",
    "]\n",
    "df = pd.DataFrame(review_list)\n",
    "df"
   ],
   "metadata": {
    "collapsed": false
   }
  },
  {
   "cell_type": "markdown",
   "source": [
    "2. 학습 데이터 다루기\n",
    "* scikit-learn의 다항분포 나이브 베이즈 분류기는 <strong>숫자</strong>만 다루기 때문에 True와 False를 1과 0으로 치환한다.\n",
    "영화 리뷰(movie_review)로 학습을 진행하고 레이블은 label을 사용해서 스팸 메일 여부를 판단한다."
   ],
   "metadata": {
    "collapsed": false
   }
  },
  {
   "cell_type": "code",
   "execution_count": 4,
   "outputs": [
    {
     "data": {
      "text/plain": "                                        movie_review      type  label\n0      this is great great movie. I will watch again  positive      1\n1                                  I like this movie  positive      1\n2                         amazing movie in this year  positive      1\n3      cool my boyfriend also said the movie is cool  positive      1\n4                  awesome of the awesome movie ever  positive      1\n5                      shame I wasted money and time  negative      0\n6  regret on this move. I will never never what m...  negative      0\n7                           I do not like this movie  negative      0\n8                 I do not like actors in this movie  negative      0\n9                       boring boring sleeping movie  negative      0",
      "text/html": "<div>\n<style scoped>\n    .dataframe tbody tr th:only-of-type {\n        vertical-align: middle;\n    }\n\n    .dataframe tbody tr th {\n        vertical-align: top;\n    }\n\n    .dataframe thead th {\n        text-align: right;\n    }\n</style>\n<table border=\"1\" class=\"dataframe\">\n  <thead>\n    <tr style=\"text-align: right;\">\n      <th></th>\n      <th>movie_review</th>\n      <th>type</th>\n      <th>label</th>\n    </tr>\n  </thead>\n  <tbody>\n    <tr>\n      <th>0</th>\n      <td>this is great great movie. I will watch again</td>\n      <td>positive</td>\n      <td>1</td>\n    </tr>\n    <tr>\n      <th>1</th>\n      <td>I like this movie</td>\n      <td>positive</td>\n      <td>1</td>\n    </tr>\n    <tr>\n      <th>2</th>\n      <td>amazing movie in this year</td>\n      <td>positive</td>\n      <td>1</td>\n    </tr>\n    <tr>\n      <th>3</th>\n      <td>cool my boyfriend also said the movie is cool</td>\n      <td>positive</td>\n      <td>1</td>\n    </tr>\n    <tr>\n      <th>4</th>\n      <td>awesome of the awesome movie ever</td>\n      <td>positive</td>\n      <td>1</td>\n    </tr>\n    <tr>\n      <th>5</th>\n      <td>shame I wasted money and time</td>\n      <td>negative</td>\n      <td>0</td>\n    </tr>\n    <tr>\n      <th>6</th>\n      <td>regret on this move. I will never never what m...</td>\n      <td>negative</td>\n      <td>0</td>\n    </tr>\n    <tr>\n      <th>7</th>\n      <td>I do not like this movie</td>\n      <td>negative</td>\n      <td>0</td>\n    </tr>\n    <tr>\n      <th>8</th>\n      <td>I do not like actors in this movie</td>\n      <td>negative</td>\n      <td>0</td>\n    </tr>\n    <tr>\n      <th>9</th>\n      <td>boring boring sleeping movie</td>\n      <td>negative</td>\n      <td>0</td>\n    </tr>\n  </tbody>\n</table>\n</div>"
     },
     "execution_count": 4,
     "metadata": {},
     "output_type": "execute_result"
    }
   ],
   "source": [
    "df['label'] = df['type'].map({'positive': 1, 'negative': 0})\n",
    "df"
   ],
   "metadata": {
    "collapsed": false
   }
  },
  {
   "cell_type": "markdown",
   "source": [
    "학습에 사용할 데이터와 레이블(클래스, 타겟, 답)로 분리한다."
   ],
   "metadata": {
    "collapsed": false
   }
  },
  {
   "cell_type": "code",
   "execution_count": 6,
   "outputs": [
    {
     "data": {
      "text/plain": "0        this is great great movie. I will watch again\n1                                    I like this movie\n2                           amazing movie in this year\n3        cool my boyfriend also said the movie is cool\n4                    awesome of the awesome movie ever\n5                        shame I wasted money and time\n6    regret on this move. I will never never what m...\n7                             I do not like this movie\n8                   I do not like actors in this movie\n9                         boring boring sleeping movie\nName: movie_review, dtype: object"
     },
     "execution_count": 6,
     "metadata": {},
     "output_type": "execute_result"
    }
   ],
   "source": [
    "df_x = df['movie_review']\n",
    "df_x"
   ],
   "metadata": {
    "collapsed": false
   }
  },
  {
   "cell_type": "code",
   "execution_count": 7,
   "outputs": [
    {
     "data": {
      "text/plain": "0    1\n1    1\n2    1\n3    1\n4    1\n5    0\n6    0\n7    0\n8    0\n9    0\nName: label, dtype: int64"
     },
     "execution_count": 7,
     "metadata": {},
     "output_type": "execute_result"
    }
   ],
   "source": [
    "df_y = df['label']\n",
    "df_y"
   ],
   "metadata": {
    "collapsed": false
   }
  },
  {
   "cell_type": "markdown",
   "source": [
    "다항분포 나이브 베이즈의 입력 데이터는 고정된 크기의 벡터로써 각 인덱스는 단어의 출현 빈도수를 나타내야 한다."
   ],
   "metadata": {
    "collapsed": false
   }
  },
  {
   "cell_type": "code",
   "execution_count": 8,
   "outputs": [
    {
     "name": "stdout",
     "output_type": "stream",
     "text": [
      "<class 'numpy.ndarray'>\n"
     ]
    },
    {
     "data": {
      "text/plain": "array([[0, 1, 0, 0, 0, 0, 0, 0, 0, 0, 0, 0, 0, 2, 0, 1, 0, 0, 0, 1, 0, 0,\n        0, 0, 0, 0, 0, 0, 0, 0, 1, 0, 0, 1, 0, 1, 0],\n       [0, 0, 0, 0, 0, 0, 0, 0, 0, 0, 0, 0, 0, 0, 0, 0, 1, 0, 0, 1, 0, 0,\n        0, 0, 0, 0, 0, 0, 0, 0, 1, 0, 0, 0, 0, 0, 0],\n       [0, 0, 0, 1, 0, 0, 0, 0, 0, 0, 0, 0, 0, 0, 1, 0, 0, 0, 0, 1, 0, 0,\n        0, 0, 0, 0, 0, 0, 0, 0, 1, 0, 0, 0, 0, 0, 1],\n       [0, 0, 1, 0, 0, 0, 0, 1, 2, 0, 0, 0, 0, 0, 0, 1, 0, 0, 0, 1, 1, 0,\n        0, 0, 0, 0, 1, 0, 0, 1, 0, 0, 0, 0, 0, 0, 0],\n       [0, 0, 0, 0, 0, 2, 0, 0, 0, 0, 0, 1, 0, 0, 0, 0, 0, 0, 0, 1, 0, 0,\n        0, 1, 0, 0, 0, 0, 0, 1, 0, 0, 0, 0, 0, 0, 0],\n       [0, 0, 0, 0, 1, 0, 0, 0, 0, 0, 0, 0, 0, 0, 0, 0, 0, 1, 0, 0, 0, 0,\n        0, 0, 0, 0, 0, 1, 0, 0, 0, 1, 1, 0, 0, 0, 0],\n       [0, 0, 0, 0, 0, 0, 0, 0, 0, 1, 0, 0, 1, 0, 0, 0, 0, 0, 1, 1, 0, 2,\n        0, 0, 1, 1, 0, 0, 0, 0, 2, 0, 0, 0, 1, 1, 0],\n       [0, 0, 0, 0, 0, 0, 0, 0, 0, 0, 1, 0, 0, 0, 0, 0, 1, 0, 0, 1, 0, 0,\n        1, 0, 0, 0, 0, 0, 0, 0, 1, 0, 0, 0, 0, 0, 0],\n       [1, 0, 0, 0, 0, 0, 0, 0, 0, 0, 1, 0, 0, 0, 1, 0, 1, 0, 0, 1, 0, 0,\n        1, 0, 0, 0, 0, 0, 0, 0, 1, 0, 0, 0, 0, 0, 0],\n       [0, 0, 0, 0, 0, 0, 2, 0, 0, 0, 0, 0, 0, 0, 0, 0, 0, 0, 0, 1, 0, 0,\n        0, 0, 0, 0, 0, 0, 1, 0, 0, 0, 0, 0, 0, 0, 0]])"
     },
     "execution_count": 8,
     "metadata": {},
     "output_type": "execute_result"
    }
   ],
   "source": [
    "# 베르누이 나이브 베이즈는 같은 단어가 여러 번 출현하더라도 무조건 1을 리턴해야 하기 때문에 binary=True 옵션을 지정하지만\n",
    "# 다항분포 나이브 베이즈는 같은 단어가 여러 번 출현하면 출현한 빈도수를 나타내야 하므로 binary=False 옵션을 지정하지 않는다.\n",
    "# cv = CountVectorizer(binary=True)   # 베르누이 나이브 베이즈\n",
    "cv = CountVectorizer()  # 다항분포 나이브 베이즈\n",
    "x_train = cv.fit_transform(df_x)\n",
    "encoded_input = x_train.toarray()  # numpy 타입의 배열 데이터로 변환한다.\n",
    "print(type(encoded_input))\n",
    "encoded_input"
   ],
   "metadata": {
    "collapsed": false
   }
  },
  {
   "cell_type": "code",
   "execution_count": 9,
   "outputs": [
    {
     "name": "stdout",
     "output_type": "stream",
     "text": [
      "<class 'numpy.ndarray'>\n"
     ]
    },
    {
     "data": {
      "text/plain": "array(['actors', 'again', 'also', 'amazing', 'and', 'awesome', 'boring',\n       'boyfriend', 'cool', 'director', 'do', 'ever', 'from', 'great',\n       'in', 'is', 'like', 'money', 'move', 'movie', 'my', 'never', 'not',\n       'of', 'on', 'regret', 'said', 'shame', 'sleeping', 'the', 'this',\n       'time', 'wasted', 'watch', 'what', 'will', 'year'], dtype=object)"
     },
     "execution_count": 9,
     "metadata": {},
     "output_type": "execute_result"
    }
   ],
   "source": [
    "print(type(cv.get_feature_names_out()))\n",
    "cv.get_feature_names_out()"
   ],
   "metadata": {
    "collapsed": false
   }
  },
  {
   "cell_type": "code",
   "execution_count": 12,
   "outputs": [
    {
     "data": {
      "text/plain": "MultinomialNB()",
      "text/html": "<style>#sk-container-id-1 {color: black;background-color: white;}#sk-container-id-1 pre{padding: 0;}#sk-container-id-1 div.sk-toggleable {background-color: white;}#sk-container-id-1 label.sk-toggleable__label {cursor: pointer;display: block;width: 100%;margin-bottom: 0;padding: 0.3em;box-sizing: border-box;text-align: center;}#sk-container-id-1 label.sk-toggleable__label-arrow:before {content: \"▸\";float: left;margin-right: 0.25em;color: #696969;}#sk-container-id-1 label.sk-toggleable__label-arrow:hover:before {color: black;}#sk-container-id-1 div.sk-estimator:hover label.sk-toggleable__label-arrow:before {color: black;}#sk-container-id-1 div.sk-toggleable__content {max-height: 0;max-width: 0;overflow: hidden;text-align: left;background-color: #f0f8ff;}#sk-container-id-1 div.sk-toggleable__content pre {margin: 0.2em;color: black;border-radius: 0.25em;background-color: #f0f8ff;}#sk-container-id-1 input.sk-toggleable__control:checked~div.sk-toggleable__content {max-height: 200px;max-width: 100%;overflow: auto;}#sk-container-id-1 input.sk-toggleable__control:checked~label.sk-toggleable__label-arrow:before {content: \"▾\";}#sk-container-id-1 div.sk-estimator input.sk-toggleable__control:checked~label.sk-toggleable__label {background-color: #d4ebff;}#sk-container-id-1 div.sk-label input.sk-toggleable__control:checked~label.sk-toggleable__label {background-color: #d4ebff;}#sk-container-id-1 input.sk-hidden--visually {border: 0;clip: rect(1px 1px 1px 1px);clip: rect(1px, 1px, 1px, 1px);height: 1px;margin: -1px;overflow: hidden;padding: 0;position: absolute;width: 1px;}#sk-container-id-1 div.sk-estimator {font-family: monospace;background-color: #f0f8ff;border: 1px dotted black;border-radius: 0.25em;box-sizing: border-box;margin-bottom: 0.5em;}#sk-container-id-1 div.sk-estimator:hover {background-color: #d4ebff;}#sk-container-id-1 div.sk-parallel-item::after {content: \"\";width: 100%;border-bottom: 1px solid gray;flex-grow: 1;}#sk-container-id-1 div.sk-label:hover label.sk-toggleable__label {background-color: #d4ebff;}#sk-container-id-1 div.sk-serial::before {content: \"\";position: absolute;border-left: 1px solid gray;box-sizing: border-box;top: 0;bottom: 0;left: 50%;z-index: 0;}#sk-container-id-1 div.sk-serial {display: flex;flex-direction: column;align-items: center;background-color: white;padding-right: 0.2em;padding-left: 0.2em;position: relative;}#sk-container-id-1 div.sk-item {position: relative;z-index: 1;}#sk-container-id-1 div.sk-parallel {display: flex;align-items: stretch;justify-content: center;background-color: white;position: relative;}#sk-container-id-1 div.sk-item::before, #sk-container-id-1 div.sk-parallel-item::before {content: \"\";position: absolute;border-left: 1px solid gray;box-sizing: border-box;top: 0;bottom: 0;left: 50%;z-index: -1;}#sk-container-id-1 div.sk-parallel-item {display: flex;flex-direction: column;z-index: 1;position: relative;background-color: white;}#sk-container-id-1 div.sk-parallel-item:first-child::after {align-self: flex-end;width: 50%;}#sk-container-id-1 div.sk-parallel-item:last-child::after {align-self: flex-start;width: 50%;}#sk-container-id-1 div.sk-parallel-item:only-child::after {width: 0;}#sk-container-id-1 div.sk-dashed-wrapped {border: 1px dashed gray;margin: 0 0.4em 0.5em 0.4em;box-sizing: border-box;padding-bottom: 0.4em;background-color: white;}#sk-container-id-1 div.sk-label label {font-family: monospace;font-weight: bold;display: inline-block;line-height: 1.2em;}#sk-container-id-1 div.sk-label-container {text-align: center;}#sk-container-id-1 div.sk-container {/* jupyter's `normalize.less` sets `[hidden] { display: none; }` but bootstrap.min.css set `[hidden] { display: none !important; }` so we also need the `!important` here to be able to override the default hidden behavior on the sphinx rendered scikit-learn.org. See: https://github.com/scikit-learn/scikit-learn/issues/21755 */display: inline-block !important;position: relative;}#sk-container-id-1 div.sk-text-repr-fallback {display: none;}</style><div id=\"sk-container-id-1\" class=\"sk-top-container\"><div class=\"sk-text-repr-fallback\"><pre>MultinomialNB()</pre><b>In a Jupyter environment, please rerun this cell to show the HTML representation or trust the notebook. <br />On GitHub, the HTML representation is unable to render, please try loading this page with nbviewer.org.</b></div><div class=\"sk-container\" hidden><div class=\"sk-item\"><div class=\"sk-estimator sk-toggleable\"><input class=\"sk-toggleable__control sk-hidden--visually\" id=\"sk-estimator-id-1\" type=\"checkbox\" checked><label for=\"sk-estimator-id-1\" class=\"sk-toggleable__label sk-toggleable__label-arrow\">MultinomialNB</label><div class=\"sk-toggleable__content\"><pre>MultinomialNB()</pre></div></div></div></div></div>"
     },
     "execution_count": 12,
     "metadata": {},
     "output_type": "execute_result"
    }
   ],
   "source": [
    "mnb = MultinomialNB()\n",
    "y_train = df_y.astype('int')\n",
    "mnb.fit(x_train, y_train)"
   ],
   "metadata": {
    "collapsed": false
   }
  },
  {
   "cell_type": "code",
   "execution_count": 13,
   "outputs": [
    {
     "data": {
      "text/plain": "                                movie_review      type  label\n0               great great great movie ever  positive      1\n1                  I like this amazing movie  positive      1\n2         my boyfriend said great movie ever  positive      1\n3                             cool cool cool  positive      1\n4     awesome boyfriend said cool movie ever  positive      1\n5                          shame shame shame  negative      0\n6  awesome director shame movie boring movie  negative      0\n7                     do not like this movie  negative      0\n8            I do not like this boring movie  negative      0\n9               aweful terrible boring movie  negative      0",
      "text/html": "<div>\n<style scoped>\n    .dataframe tbody tr th:only-of-type {\n        vertical-align: middle;\n    }\n\n    .dataframe tbody tr th {\n        vertical-align: top;\n    }\n\n    .dataframe thead th {\n        text-align: right;\n    }\n</style>\n<table border=\"1\" class=\"dataframe\">\n  <thead>\n    <tr style=\"text-align: right;\">\n      <th></th>\n      <th>movie_review</th>\n      <th>type</th>\n      <th>label</th>\n    </tr>\n  </thead>\n  <tbody>\n    <tr>\n      <th>0</th>\n      <td>great great great movie ever</td>\n      <td>positive</td>\n      <td>1</td>\n    </tr>\n    <tr>\n      <th>1</th>\n      <td>I like this amazing movie</td>\n      <td>positive</td>\n      <td>1</td>\n    </tr>\n    <tr>\n      <th>2</th>\n      <td>my boyfriend said great movie ever</td>\n      <td>positive</td>\n      <td>1</td>\n    </tr>\n    <tr>\n      <th>3</th>\n      <td>cool cool cool</td>\n      <td>positive</td>\n      <td>1</td>\n    </tr>\n    <tr>\n      <th>4</th>\n      <td>awesome boyfriend said cool movie ever</td>\n      <td>positive</td>\n      <td>1</td>\n    </tr>\n    <tr>\n      <th>5</th>\n      <td>shame shame shame</td>\n      <td>negative</td>\n      <td>0</td>\n    </tr>\n    <tr>\n      <th>6</th>\n      <td>awesome director shame movie boring movie</td>\n      <td>negative</td>\n      <td>0</td>\n    </tr>\n    <tr>\n      <th>7</th>\n      <td>do not like this movie</td>\n      <td>negative</td>\n      <td>0</td>\n    </tr>\n    <tr>\n      <th>8</th>\n      <td>I do not like this boring movie</td>\n      <td>negative</td>\n      <td>0</td>\n    </tr>\n    <tr>\n      <th>9</th>\n      <td>aweful terrible boring movie</td>\n      <td>negative</td>\n      <td>0</td>\n    </tr>\n  </tbody>\n</table>\n</div>"
     },
     "execution_count": 13,
     "metadata": {},
     "output_type": "execute_result"
    }
   ],
   "source": [
    "# 테스트 데이터 학습하기\n",
    "test_feedback_list = [\n",
    "    {'movie_review': 'great great great movie ever', 'type': 'positive'},\n",
    "    {'movie_review': 'I like this amazing movie', 'type': 'positive'},\n",
    "    {'movie_review': 'my boyfriend said great movie ever', 'type': 'positive'},\n",
    "    {'movie_review': 'cool cool cool', 'type': 'positive'},\n",
    "    {'movie_review': 'awesome boyfriend said cool movie ever', 'type': 'positive'},\n",
    "    {'movie_review': 'shame shame shame', 'type': 'negative'},\n",
    "    {'movie_review': 'awesome director shame movie boring movie', 'type': 'negative'},\n",
    "    {'movie_review': 'do not like this movie', 'type': 'negative'},\n",
    "    {'movie_review': 'I do not like this boring movie', 'type': 'negative'},\n",
    "    {'movie_review': 'aweful terrible boring movie', 'type': 'negative'}\n",
    "]\n",
    "test_df = pd.DataFrame(test_feedback_list)\n",
    "test_df['label'] = test_df['type'].map({'positive': 1, 'negative': 0})\n",
    "test_df"
   ],
   "metadata": {
    "collapsed": false
   }
  },
  {
   "cell_type": "code",
   "execution_count": 15,
   "outputs": [
    {
     "data": {
      "text/plain": "0                 great great great movie ever\n1                    I like this amazing movie\n2           my boyfriend said great movie ever\n3                               cool cool cool\n4       awesome boyfriend said cool movie ever\n5                            shame shame shame\n6    awesome director shame movie boring movie\n7                       do not like this movie\n8              I do not like this boring movie\n9                 aweful terrible boring movie\nName: movie_review, dtype: object"
     },
     "execution_count": 15,
     "metadata": {},
     "output_type": "execute_result"
    }
   ],
   "source": [
    "test_x = test_df['movie_review']\n",
    "test_x"
   ],
   "metadata": {
    "collapsed": false
   }
  },
  {
   "cell_type": "code",
   "execution_count": 16,
   "outputs": [
    {
     "data": {
      "text/plain": "0    1\n1    1\n2    1\n3    1\n4    1\n5    0\n6    0\n7    0\n8    0\n9    0\nName: label, dtype: int64"
     },
     "execution_count": 16,
     "metadata": {},
     "output_type": "execute_result"
    }
   ],
   "source": [
    "test_y = test_df['label']\n",
    "test_y"
   ],
   "metadata": {
    "collapsed": false
   }
  },
  {
   "cell_type": "code",
   "execution_count": 17,
   "outputs": [],
   "source": [
    "x_test = cv.transform(test_x)\n",
    "y_test = test_y.astype(int)"
   ],
   "metadata": {
    "collapsed": false
   }
  },
  {
   "cell_type": "code",
   "execution_count": 18,
   "outputs": [
    {
     "name": "stdout",
     "output_type": "stream",
     "text": [
      "              precision    recall  f1-score   support\n",
      "\n",
      "           0       1.00      1.00      1.00         5\n",
      "           1       1.00      1.00      1.00         5\n",
      "\n",
      "    accuracy                           1.00        10\n",
      "   macro avg       1.00      1.00      1.00        10\n",
      "weighted avg       1.00      1.00      1.00        10\n",
      "\n"
     ]
    }
   ],
   "source": [
    "predict = mnb.predict(x_test)\n",
    "print(classification_report(y_test, predict))"
   ],
   "metadata": {
    "collapsed": false
   }
  },
  {
   "cell_type": "code",
   "execution_count": 19,
   "outputs": [
    {
     "name": "stdout",
     "output_type": "stream",
     "text": [
      "정확도: 1.00\n"
     ]
    }
   ],
   "source": [
    "print(f'정확도: {accuracy_score(y_test, predict):.2f}')"
   ],
   "metadata": {
    "collapsed": false
   }
  },
  {
   "cell_type": "code",
   "execution_count": 20,
   "outputs": [
    {
     "data": {
      "text/plain": "   실제값  예측값\n0    1    1\n1    1    1\n2    1    1\n3    1    1\n4    1    1\n5    0    0\n6    0    0\n7    0    0\n8    0    0\n9    0    0",
      "text/html": "<div>\n<style scoped>\n    .dataframe tbody tr th:only-of-type {\n        vertical-align: middle;\n    }\n\n    .dataframe tbody tr th {\n        vertical-align: top;\n    }\n\n    .dataframe thead th {\n        text-align: right;\n    }\n</style>\n<table border=\"1\" class=\"dataframe\">\n  <thead>\n    <tr style=\"text-align: right;\">\n      <th></th>\n      <th>실제값</th>\n      <th>예측값</th>\n    </tr>\n  </thead>\n  <tbody>\n    <tr>\n      <th>0</th>\n      <td>1</td>\n      <td>1</td>\n    </tr>\n    <tr>\n      <th>1</th>\n      <td>1</td>\n      <td>1</td>\n    </tr>\n    <tr>\n      <th>2</th>\n      <td>1</td>\n      <td>1</td>\n    </tr>\n    <tr>\n      <th>3</th>\n      <td>1</td>\n      <td>1</td>\n    </tr>\n    <tr>\n      <th>4</th>\n      <td>1</td>\n      <td>1</td>\n    </tr>\n    <tr>\n      <th>5</th>\n      <td>0</td>\n      <td>0</td>\n    </tr>\n    <tr>\n      <th>6</th>\n      <td>0</td>\n      <td>0</td>\n    </tr>\n    <tr>\n      <th>7</th>\n      <td>0</td>\n      <td>0</td>\n    </tr>\n    <tr>\n      <th>8</th>\n      <td>0</td>\n      <td>0</td>\n    </tr>\n    <tr>\n      <th>9</th>\n      <td>0</td>\n      <td>0</td>\n    </tr>\n  </tbody>\n</table>\n</div>"
     },
     "execution_count": 20,
     "metadata": {},
     "output_type": "execute_result"
    }
   ],
   "source": [
    "comparison = pd.DataFrame({'실제값': y_test, '예측값': predict})\n",
    "comparison"
   ],
   "metadata": {
    "collapsed": false
   }
  },
  {
   "cell_type": "code",
   "execution_count": null,
   "outputs": [],
   "source": [],
   "metadata": {
    "collapsed": false
   }
  }
 ],
 "metadata": {
  "kernelspec": {
   "display_name": "Python 3",
   "language": "python",
   "name": "python3"
  },
  "language_info": {
   "codemirror_mode": {
    "name": "ipython",
    "version": 2
   },
   "file_extension": ".py",
   "mimetype": "text/x-python",
   "name": "python",
   "nbconvert_exporter": "python",
   "pygments_lexer": "ipython2",
   "version": "2.7.6"
  }
 },
 "nbformat": 4,
 "nbformat_minor": 0
}
