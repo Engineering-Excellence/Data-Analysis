{
 "cells": [
  {
   "cell_type": "markdown",
   "source": [
    "# numpy 라이브러리"
   ],
   "metadata": {
    "collapsed": false
   }
  },
  {
   "cell_type": "code",
   "execution_count": null,
   "outputs": [],
   "source": [
    "# jupyter notebook 경고 메시지 숨기기\n",
    "# jupyter notebook을 사용하다 보면 향후 버전이 올라갈 때 변경될 사항을 알려주는 경고 메시지가 거슬릴 때가 있다. warnings 라이브러리 사용으로 해결.\n",
    "import warnings\n",
    "\n",
    "warnings.filterwarnings('ignore')  # 경고 메시지를 무시하고 숨긴다.\n",
    "# warnings.filterwarnings('default')  # 경고 메시지를 다시 표시한다."
   ],
   "metadata": {
    "collapsed": false
   }
  },
  {
   "cell_type": "markdown",
   "source": [
    "파이썬 기반 데이터 분석 환경에서 numpy는 행렬 연산을 위한 핵심 라이브러리이다.\n",
    "numpy는 대규모 다차원 배열과 행렬 연산에 필요한 다양한 함수를 제공하고, 특히 메모리 버퍼에 배열 데이터를 저장하고 처리하는 효율적인 인터페이스를 제공한다.\n",
    "파이썬의 list 객체를 개선한 numpy의 ndarray 객체를 사용하면 더 많은 데이터를 더 빠르게 처리할 수 있다."
   ],
   "metadata": {
    "collapsed": false
   }
  },
  {
   "cell_type": "markdown",
   "source": [
    "※ numpy의 특징\n",
    "&nbsp;&nbsp;1. 강력한 n차원 배열 객체\n",
    "&nbsp;&nbsp;2. 정교한 브로드캐스팅(다대일 연산) 기능\n",
    "&nbsp;&nbsp;3. C/C++ 및 Fortran 코드 통합 도구\n",
    "&nbsp;&nbsp;4. 유연한 선형대수, 푸리에 변환 및 난수 기능\n",
    "&nbsp;&nbsp;5. 범용적 처리에 사용 가능한 다차원 컨테이너\n",
    "\n",
    "※ numpy 데이터 타입"
   ],
   "metadata": {
    "collapsed": false
   }
  },
  {
   "cell_type": "markdown",
   "source": [
    "numpy는 다음과 같은 데이터 타입을 지원한다.\n",
    "배열을 만들 때 dtype 속성으로 데이터 타입을 지정할 수 있다.\n",
    "np.int64: 64비트 정수(고정 소수점) 타입\n",
    "np.float32: 32비트 실수(부동 소수점) 타입\n",
    "np.complex: 복소수 타입\n",
    "np.bool: 불린(논리값) 타입\n",
    "np.object: 파이썬 객체 타입\n",
    "np.string: 스트링 타입\n",
    "np.unicode: 유니코드 타입"
   ],
   "metadata": {
    "collapsed": false
   }
  },
  {
   "cell_type": "code",
   "execution_count": null,
   "outputs": [],
   "source": [
    "import numpy as np\n",
    "\n",
    "print(np.__version__)  # __version__: 라이브러리의 버전을 얻어온다."
   ],
   "metadata": {
    "collapsed": false
   }
  },
  {
   "cell_type": "markdown",
   "source": [
    "numpy는 다차원 배열을 지원하고 numpy 배열의 구조는 shape으로 표현한다.\n",
    "shape은 배열의 구조를 튜플 자료형을 사용해서 정의한다.\n",
    "예를 들어 28 * 28 컬러 사진은 폭 28 px, 높이 28 px, 각 픽셀은 3개의 채널(RGB)로 구성된 구조를 가진다.\n",
    "따라서 컬러 사진의 데이터 구조는 shape(28, 28, 3)인 3차원 배열이 된다.\n",
    "다차원 배열은 입체적인 구조를 가지며 데이터의 차원은 여러 갈래의 데이터 방향(axis)을 가진다.\n",
    "3차원 배열의 데이터 방향은 면 axis=0, 행 axis=1, 열 axis=2로 지정한다. (2D → 행:0 열:1)"
   ],
   "metadata": {
    "collapsed": false
   }
  },
  {
   "cell_type": "markdown",
   "source": [
    "<img src=\"numpyImage/numpyImage01.jpg\" width=\"1500\" align=\"left\"/>"
   ],
   "metadata": {
    "collapsed": false
   }
  },
  {
   "cell_type": "code",
   "execution_count": null,
   "outputs": [],
   "source": [
    "# numpy 배열 객체 정보 출력용으로 사용할 함수 선언\n",
    "def pprint(array):\n",
    "    print(f'type: {type(array)}')\n",
    "    print(f'shape: {array.shape}, dimension: {array.ndim}, dtype: {array.dtype}')\n",
    "    print('※ numpy 배열의 데이터\\n', array, sep='')\n",
    "    # print('numpy 배열의 데이터\\n{}'.format(array))"
   ],
   "metadata": {
    "collapsed": false
   }
  },
  {
   "cell_type": "markdown",
   "source": [
    "파이썬 list 객체로 numpy 배열을 생성할 수 있다.\n",
    "인수로 list 객체와 데이터의 타입(dtype[생략 가능])을 입력해서 numpy 배열을 생성하고 dtype을 생략하면 인수로 넘어오는 list 객체의 데이터 타입으로 dtype이 설정된다."
   ],
   "metadata": {
    "collapsed": false
   }
  },
  {
   "cell_type": "code",
   "execution_count": null,
   "outputs": [],
   "source": [
    "# 파이썬 1차원 list로 numpy 배열 만들기\n",
    "arr = [1, 2, 3]\n",
    "print(type(arr))\n",
    "\n",
    "print('=' * 50)\n",
    "\n",
    "# array() 메서드는 인수로 list 객체를 넘겨받아 numpy 배열을 만든다.\n",
    "# 정수형 데이터의 dtype 기본값은 np.int이고 32비트 정수 데이터를 의미한다. → np.int32와 동일하다.\n",
    "# 정수형 데이터의 dtype은 np.int, np.int8, np.int16, np.int32, np.int64를 사용할 수 있다.\n",
    "a = np.array(arr, dtype=np.int32)\n",
    "pprint(a)"
   ],
   "metadata": {
    "collapsed": false
   }
  },
  {
   "cell_type": "code",
   "execution_count": null,
   "outputs": [],
   "source": [
    "# 파이썬 2차원 list로 numpy 배열 만들기\n",
    "arr = [[1, 2, 3], [4, 5, 6]]\n",
    "print(type(arr))\n",
    "print(arr)\n",
    "\n",
    "print('=' * 50)\n",
    "\n",
    "# 실수형 데이터의 dtype 기본값은 np.float이고 64비트 정수 데이터를 의미한다. → np.float64와 동일하다.\n",
    "# 실수형 데이터의 dtype은 np.float, np.float16, np.float32, np.float64를 사용할 수 있다.(8은 지수 표현 불가능하여 존재하지 않음)\n",
    "a = np.array(arr, dtype=np.float64)\n",
    "pprint(a)"
   ],
   "metadata": {
    "collapsed": false
   }
  },
  {
   "cell_type": "code",
   "execution_count": null,
   "outputs": [],
   "source": [
    "# 파이썬 3차원 list로 numpy 배열 만들기\n",
    "arr = [[[1, 2, 3], [4, 5, 6]], [[11, 22, 33], [44, 55, 66]]]\n",
    "print(type(arr))\n",
    "print(arr)\n",
    "\n",
    "print('=' * 50)\n",
    "\n",
    "# dtype에 numpy 자료형이 아닌 파이썬 자료형을 사용할 수 있다. → int, float만 사용 가능\n",
    "# int는 np.int(np.int32)와 같고 float은 np.float(np.float64)와 같다.\n",
    "a = np.array(arr, dtype=int)\n",
    "pprint(a)"
   ],
   "metadata": {
    "collapsed": false
   }
  },
  {
   "cell_type": "markdown",
   "source": [
    "numpy는 원하는 shape으로 배열을 생성하고 각 요소들을 특정 값으로 초기화시키는 메서드를 제공한다."
   ],
   "metadata": {
    "collapsed": false
   }
  },
  {
   "cell_type": "code",
   "execution_count": null,
   "outputs": [],
   "source": [
    "# np.zeros() 메서드는 지정된 shape 만큼의 배열을 생성하고 모든 요소를 0으로 초기화시킨다. → 영행렬\n",
    "# np.zeros(shape, [dtype, order])   # dtype과 order는 생략 가능하다.\n",
    "# order: 2차원 이상의 배열일 경우 데이터가 채워지는 방식을 지정한다.\n",
    "# C/C++, C#, Java, Python: 행 우선 방식, Fortran: 열 우선 방식\n",
    "a = np.zeros(shape=(3, 4))  # dtype을 지정하면 지정된 dtype으로 배열이 만들어진다.\n",
    "# a = np.zeros(shape=(3, 4), dtype=np.float64, order='f')\n",
    "pprint(a)"
   ],
   "metadata": {
    "collapsed": false
   }
  },
  {
   "cell_type": "code",
   "execution_count": null,
   "outputs": [],
   "source": [
    "# np.ones() 메서드는 지정된 shape 만큼의 배열을 생성하고 모든 요소를 1으로 초기화시킨다.\n",
    "# np.ones(shape, [dtype, order])   # dtype과 order는 생략 가능하다.\n",
    "a = np.ones(shape=(2, 3, 4), dtype=np.int32)  # dtype을 지정하면 지정된 dtype으로 배열이 만들어진다.\n",
    "pprint(a)"
   ],
   "metadata": {
    "collapsed": false
   }
  },
  {
   "cell_type": "code",
   "execution_count": null,
   "outputs": [],
   "source": [
    "# np.full() 메서드는 지정된 shape 만큼의 배열을 생성하고 모든 요소를 특정 값으로 초기화시킨다.\n",
    "# np.full(shape, fill_value, [dtype, order])   # dtype과 order는 생략 가능하다.\n",
    "a = np.full(shape=(2, 3), fill_value=7, dtype=np.float64)  # dtype을 지정하면 지정된 dtype으로 배열이 만들어진다.\n",
    "pprint(a)"
   ],
   "metadata": {
    "collapsed": false
   }
  },
  {
   "cell_type": "code",
   "execution_count": null,
   "outputs": [],
   "source": [
    "# np.eye() 메서드는 지정된 shape 만큼의 크기를 가지는 단위행렬을 만든다.\n",
    "# np.eye(n, dtype)  # n차원의 정사각 단위행렬을 만든다.\n",
    "a = np.eye(5, dtype=int)\n",
    "pprint(a)"
   ],
   "metadata": {
    "collapsed": false
   }
  },
  {
   "cell_type": "code",
   "execution_count": null,
   "outputs": [],
   "source": [
    "# np.empty() 메서드는 지정된 shape 만큼의 크기를 가지는 배열을 만든다. → 초기화를 하지 않아 쓰레기 값이 저장된다.\n",
    "# np.empty(shape, [dtype, order])\n",
    "a = np.empty(shape=(4, 2))\n",
    "pprint(a)"
   ],
   "metadata": {
    "collapsed": false
   }
  },
  {
   "cell_type": "markdown",
   "source": [
    "like 메서드\n",
    "numpy는 인수로 지정한 배열과 shape이 같은 배열을 만드는 like 메서드를 제공한다.\n",
    "np.zeros_like(), np.ones_like(), np.full_like(), np.empty_like()"
   ],
   "metadata": {
    "collapsed": false
   }
  },
  {
   "cell_type": "code",
   "execution_count": null,
   "outputs": [],
   "source": [
    "a = np.array([[1, 2, 3], [4, 5, 6]])\n",
    "print(a)\n",
    "b = np.zeros_like(a)\n",
    "print(b)\n",
    "c = np.ones_like(a)\n",
    "print(c)\n",
    "d = np.full_like(a, 999)\n",
    "print(d)\n",
    "e = np.empty_like(a)\n",
    "print(e)"
   ],
   "metadata": {
    "collapsed": false
   }
  },
  {
   "cell_type": "markdown",
   "source": [
    "데이터 생성 메서드\n",
    "numpy는 주어진 조건으로 데이터를 생성한 후 배열을 만드는 데이터 생성 메서드를 제공한다.\n",
    "np.linspace(), np.arange(), np.logspace()"
   ],
   "metadata": {
    "collapsed": false
   }
  },
  {
   "cell_type": "code",
   "execution_count": null,
   "outputs": [],
   "source": [
    "# !pip install matplotlib\n",
    "import matplotlib.pyplot as plt  # 시각화 라이브러리"
   ],
   "metadata": {
    "collapsed": false
   }
  },
  {
   "cell_type": "code",
   "execution_count": null,
   "outputs": [],
   "source": [
    "# Jupyter Notebook 매직 명령어\n",
    "# Jupyter Notebook에 그래프를 표시하기 위해 실행한다.\n",
    "# %matplotlib inline\n",
    "% matplotlib notebook"
   ],
   "metadata": {
    "collapsed": false
   }
  },
  {
   "cell_type": "code",
   "execution_count": null,
   "outputs": [],
   "source": [
    "# linspace() 메서드는 start부터 stop의 범위에서 num 개의 데이터를 균일한 간격으로 생성하고 배열을 만든다.\n",
    "# np.linspace(start, stop, num)\n",
    "a = np.linspace(0, 1, 5)\n",
    "pprint(a)\n",
    "\n",
    "# plt.plot(a)\n",
    "# plt.plot(a, 'b')  # blue\n",
    "# plt.plot(a, 'c')  # cyan\n",
    "# plt.plot(a, 'm')  # magenta\n",
    "# plt.plot(a, 'g')  # green\n",
    "# plt.plot(a, 'y')  # yellow\n",
    "# plt.plot(a, 'r')  # red\n",
    "# plt.plot(a, 'k')  # black\n",
    "# plt.plot(a, 'w')  # white\n",
    "# plt.plot(a, 'p')\n",
    "# plt.plot(a, '*')\n",
    "# plt.plot(a, ':')\n",
    "# plt.plot(a, 'x')\n",
    "# plt.plot(a, 's')\n",
    "# plt.plot(a, 'h')\n",
    "# plt.plot(a, 'd')\n",
    "# plt.plot(a, '^')\n",
    "# plt.plot(a, 'v')\n",
    "# plt.plot(a, 'o')\n",
    "\n",
    "# np.linspace() 메서드 실행 결과 시각화\n",
    "plt.figure(figsize=(8, 6))\n",
    "plt.plot(a, 'rx')\n",
    "plt.show()"
   ],
   "metadata": {
    "collapsed": false
   }
  },
  {
   "cell_type": "code",
   "execution_count": null,
   "outputs": [],
   "source": [
    "# arange() 메서드는 start부터 stop 미만까지 step 간격으로 데이터를 생성하고 배열을 만든다.\n",
    "# np.arange([start], stop, [step, dtype])\n",
    "# linspace()는 요소의 개수를 지정하여 배열을 만들지만 arange()는 데이터의 간격을 기준으로 균등한 간격의 배열을 만든다.\n",
    "# start를 생략하면 0, step을 생략하면 1이 기본값으로 사용된다.\n",
    "# np.arange(10), np.arange(0, 10), np.arange(0, 10, 1)은 모두 같은 기능이 실행된다.\n",
    "a = np.arange(0, 10, 2, dtype=np.float64)\n",
    "pprint(a)\n",
    "\n",
    "# np.arange() 메서드 실행 결과 시각화\n",
    "plt.figure(figsize=(8, 6))\n",
    "plt.plot(a, 'c*')\n",
    "plt.show()"
   ],
   "metadata": {
    "collapsed": false
   }
  },
  {
   "cell_type": "code",
   "execution_count": null,
   "outputs": [],
   "source": [
    "from math import e\n",
    "\n",
    "print('e =', e)\n",
    "# logspace() 메서드는 log 스케일로 지정된 범위(start부터 stop 사이)에서 num개 만큼 균등한 간격으로 데이터를 생성하고 배열을 만든다.\n",
    "# np.logspace(start, end, num, base)\n",
    "a = np.logspace(0, 10, 10, base=e)\n",
    "pprint(a)\n",
    "\n",
    "# np.logspace() 메서드 실행 결과 시각화\n",
    "plt.figure(figsize=(8, 6))\n",
    "plt.plot(a, 'y')\n",
    "plt.show()"
   ],
   "metadata": {
    "collapsed": false
   }
  },
  {
   "cell_type": "markdown",
   "source": [
    "난수 기반 배열 생성\n",
    "numpy는 난수 발생 및 배열을 생성하는 random 모듈을 제공하고 다음과 같은 함수를 사용할 수 있다.\n",
    "np.random.normal(), np.random.randn(), np.random.rand(), np.random.randint(), np.random.random()"
   ],
   "metadata": {
    "collapsed": false
   }
  },
  {
   "cell_type": "code",
   "execution_count": null,
   "outputs": [],
   "source": [
    "# normal() 메서드는 정규 분포를 따르는 난수 데이터를 생성하고 배열을 만든다.\n",
    "# normal() 메서드가 생성한 난수는 정규 분포의 형상을 가진다.\n",
    "# np.random.normal(평균, 표준편차, 난수의 개수)\n",
    "a = np.random.normal(0, 1, 100000)\n",
    "pprint(a)\n",
    "\n",
    "# 히스토그램으로 실행 결과 시각화\n",
    "plt.figure(figsize=(8, 6))\n",
    "# hist() 메서드에 bins 속성으로 히스토그램 막대(구간)의 개수를 지정할 수 있다.\n",
    "plt.hist(a, bins=100)\n",
    "plt.show()"
   ],
   "metadata": {
    "collapsed": false
   }
  },
  {
   "cell_type": "code",
   "execution_count": null,
   "outputs": [],
   "source": [
    "# randn() 메서드는 표준정규분포를 따르는 난수 데이터를  생성하고 배열을 만든다.\n",
    "# np.random.randn(난수의 개수)\n",
    "a = np.random.randn(10000)\n",
    "pprint(a)\n",
    "\n",
    "# 히스토그램으로 실행 결과 시각화\n",
    "plt.figure(figsize=(8, 6))\n",
    "plt.hist(a, bins=100)\n",
    "plt.show()"
   ],
   "metadata": {
    "collapsed": false
   }
  },
  {
   "cell_type": "code",
   "execution_count": null,
   "outputs": [],
   "source": [
    "a = np.random.randn(2, 3)\n",
    "pprint(a)"
   ],
   "metadata": {
    "collapsed": false
   }
  },
  {
   "cell_type": "code",
   "execution_count": null,
   "outputs": [],
   "source": [
    "# rand() 메서드는 0 이상 1 미만의 균등 분포에서 난수로 데이터를 생성하고 배열을 만든다.\n",
    "a = np.random.rand(10000)\n",
    "pprint(a)\n",
    "plt.figure(figsize=(8, 6))\n",
    "plt.hist(a, bins=100)\n",
    "plt.show()"
   ],
   "metadata": {
    "collapsed": false
   }
  },
  {
   "cell_type": "code",
   "execution_count": null,
   "outputs": [],
   "source": [
    "a = np.random.rand(3, 4)\n",
    "pprint(a)"
   ],
   "metadata": {
    "collapsed": false
   }
  },
  {
   "cell_type": "code",
   "execution_count": null,
   "outputs": [],
   "source": [
    "# randint() 메서드는 지정된 크기 만큼 low부터 high 미만의 범위에서 난수를 정수 데이터로 생성하고 배열을 만든다.\n",
    "# np.random.randint(low, high, size)\n",
    "a = np.random.randint(1, 46, size=6)\n",
    "pprint(a)"
   ],
   "metadata": {
    "collapsed": false
   }
  },
  {
   "cell_type": "code",
   "execution_count": null,
   "outputs": [],
   "source": [
    "# -100에서 100 사이의 난수를 발생시킨다.\n",
    "a = np.random.randint(-100, 101, size=10000)\n",
    "plt.figure(figsize=(8, 6))\n",
    "plt.hist(a, bins=100)\n",
    "plt.show()"
   ],
   "metadata": {
    "collapsed": false
   }
  },
  {
   "cell_type": "code",
   "execution_count": null,
   "outputs": [],
   "source": [
    "# random() 메서드는 0 이상 1 미만의 균등 분포에서 난수로 데이터를 생성하고 배열을 만든다.\n",
    "# np.random.random(size)\n",
    "a = np.random.random(size=10000)\n",
    "plt.figure(figsize=(8, 6))\n",
    "plt.hist(a, bins=100)\n",
    "plt.show()"
   ],
   "metadata": {
    "collapsed": false
   }
  },
  {
   "cell_type": "markdown",
   "source": [
    "# 약속된 난수\n",
    "무작위 수를 발생시키는 난수 발생 함수는 특정 시작 숫자로부터 난수처럼 보이는 수열을 만드는 알고리즘의 결과물이다.\n",
    "따라서 시작점을 설정하면 난수 발생을 재연할 수 있다. → 매번 같은 배열의 난수가 발생되게 할 수 있다."
   ],
   "metadata": {
    "collapsed": false
   }
  },
  {
   "cell_type": "code",
   "execution_count": 69,
   "outputs": [
    {
     "name": "stdout",
     "output_type": "stream",
     "text": [
      "[[0.54340494 0.27836939 0.42451759]\n",
      " [0.84477613 0.00471886 0.12156912]]\n",
      "[[2 2 2]\n",
      " [1 0 8]]\n"
     ]
    }
   ],
   "source": [
    "np.random.seed(100)\n",
    "print(np.random.random((2, 3)))\n",
    "print(np.random.randint(0, 10, (2, 3)))"
   ],
   "metadata": {
    "collapsed": false
   }
  },
  {
   "cell_type": "markdown",
   "source": [
    "배열의 상태 검사"
   ],
   "metadata": {
    "collapsed": false
   }
  },
  {
   "cell_type": "code",
   "execution_count": null,
   "outputs": [],
   "source": [
    "# numpy는 배열의 상태를 검사하는 다음과 같은 방법을 제공한다.\n",
    "# 배열 속성 검사 항목       배열 속성 확인 방법     예시                          결과\n",
    "# 배열 shape                np.ndarray.shape       arr.shape                  (5, 2, 3)\n",
    "# 배열 길이                 len(배열)               len(arr)                      5\n",
    "# 배열 차원                 배열.ndim               arr.ndim                      3\n",
    "# 배열 요소수               배열.size               arr.size                      30\n",
    "# 배열 타입                 배열.dtype              arr.dtype             dtype('float64')\n",
    "# 배열 타입 이름            배열.dtype.name         arr.dtype.name              float64\n",
    "# 배열 타입 변환            배열.astype()           arr.astype(np.int32)"
   ],
   "metadata": {
    "collapsed": false
   }
  },
  {
   "cell_type": "code",
   "execution_count": 70,
   "outputs": [
    {
     "name": "stdout",
     "output_type": "stream",
     "text": [
      "type: <class 'numpy.ndarray'>\n",
      "shape: (2, 3, 6), dimension: 3, dtype: float64\n",
      "※ numpy 배열의 데이터\n",
      "[[[0.06368104 0.62431189 0.52334774 0.56229626 0.00581719 0.30742321]\n",
      "  [0.95018431 0.12665424 0.07898787 0.31135313 0.63238359 0.69935892]\n",
      "  [0.64196495 0.92002378 0.29887635 0.56874553 0.17862432 0.5325737 ]]\n",
      "\n",
      " [[0.64669147 0.14206538 0.58138896 0.47918994 0.38641911 0.44046495]\n",
      "  [0.40475733 0.44225404 0.03012328 0.77600531 0.55095838 0.3810734 ]\n",
      "  [0.52926578 0.9568769  0.17582131 0.11830284 0.86294567 0.07486688]]]\n"
     ]
    }
   ],
   "source": [
    "arr = np.random.random((2, 3, 6))\n",
    "pprint(arr)"
   ],
   "metadata": {
    "collapsed": false
   }
  },
  {
   "cell_type": "markdown",
   "source": [
    "numpy 배열 객체는 다음과 같은 방법으로 속성을 확인할 수 있다."
   ],
   "metadata": {
    "collapsed": false
   }
  },
  {
   "cell_type": "code",
   "execution_count": 71,
   "outputs": [
    {
     "name": "stdout",
     "output_type": "stream",
     "text": [
      "배열의 타입: <class 'numpy.ndarray'>\n"
     ]
    }
   ],
   "source": [
    "print(f'배열의 타입: {type(arr)}')"
   ],
   "metadata": {
    "collapsed": false
   }
  },
  {
   "cell_type": "code",
   "execution_count": 72,
   "outputs": [
    {
     "name": "stdout",
     "output_type": "stream",
     "text": [
      "배열의 shape: (2, 3, 6)\n"
     ]
    }
   ],
   "source": [
    "print(f'배열의 shape: {arr.shape}')"
   ],
   "metadata": {
    "collapsed": false
   }
  },
  {
   "cell_type": "code",
   "execution_count": 73,
   "outputs": [
    {
     "name": "stdout",
     "output_type": "stream",
     "text": [
      "배열의 길이(면): 2\n",
      "배열의 길이(행): 3\n",
      "배열의 길이(열): 6\n"
     ]
    }
   ],
   "source": [
    "print(f'배열의 길이(면): {len(arr)}')\n",
    "print(f'배열의 길이(행): {len(arr[0])}')\n",
    "print(f'배열의 길이(열): {len(arr[0][0])}')"
   ],
   "metadata": {
    "collapsed": false
   }
  },
  {
   "cell_type": "code",
   "execution_count": 75,
   "outputs": [
    {
     "name": "stdout",
     "output_type": "stream",
     "text": [
      "배열의 차원: 3\n"
     ]
    }
   ],
   "source": [
    "print('배열의 차원: {}'.format(arr.ndim))"
   ],
   "metadata": {
    "collapsed": false
   }
  },
  {
   "cell_type": "code",
   "execution_count": 76,
   "outputs": [
    {
     "name": "stdout",
     "output_type": "stream",
     "text": [
      "배열의 요소 개수: 36\n"
     ]
    }
   ],
   "source": [
    "print('배열의 요소 개수:', arr.size)"
   ],
   "metadata": {
    "collapsed": false
   }
  },
  {
   "cell_type": "code",
   "execution_count": 77,
   "outputs": [
    {
     "name": "stdout",
     "output_type": "stream",
     "text": [
      "배열의 데이터 타입: float64\n",
      "배열의 데이터 타입 이름: float64\n"
     ]
    }
   ],
   "source": [
    "print('배열의 데이터 타입:', arr.dtype)\n",
    "print('배열의 데이터 타입 이름:', arr.dtype.name)"
   ],
   "metadata": {
    "collapsed": false
   }
  },
  {
   "cell_type": "code",
   "execution_count": 84,
   "outputs": [
    {
     "name": "stdout",
     "output_type": "stream",
     "text": [
      "[[[0 0 0 0 0 0]\n",
      "  [0 0 0 0 0 0]\n",
      "  [0 0 0 0 0 0]]\n",
      "\n",
      " [[0 0 0 0 0 0]\n",
      "  [0 0 0 0 0 0]\n",
      "  [0 0 0 0 0 0]]]\n",
      "--------------------------------------------------\n",
      "type: <class 'numpy.ndarray'>\n",
      "shape: (2, 3, 6), dimension: 3, dtype: int32\n",
      "※ numpy 배열의 데이터\n",
      "[[[0 0 0 0 0 0]\n",
      "  [0 0 0 0 0 0]\n",
      "  [0 0 0 0 0 0]]\n",
      "\n",
      " [[0 0 0 0 0 0]\n",
      "  [0 0 0 0 0 0]\n",
      "  [0 0 0 0 0 0]]]\n",
      "==================================================\n",
      "type: <class 'numpy.ndarray'>\n",
      "shape: (2, 3, 6), dimension: 3, dtype: int32\n",
      "※ numpy 배열의 데이터\n",
      "[[[0 0 0 0 0 0]\n",
      "  [0 0 0 0 0 0]\n",
      "  [0 0 0 0 0 0]]\n",
      "\n",
      " [[0 0 0 0 0 0]\n",
      "  [0 0 0 0 0 0]\n",
      "  [0 0 0 0 0 0]]]\n"
     ]
    }
   ],
   "source": [
    "# 배열 요소를 정수(int)로 변환한다.\n",
    "print(arr.astype(np.int32))  # 배열 요소의 실제 값이 변환되는 것이 아니고 화면에 보여주기만 한다.\n",
    "print('-' * 50)\n",
    "pprint(arr)\n",
    "\n",
    "print('=' * 50)\n",
    "\n",
    "arr = arr.astype(np.int32)\n",
    "pprint(arr)"
   ],
   "metadata": {
    "collapsed": false
   }
  },
  {
   "cell_type": "code",
   "execution_count": null,
   "outputs": [],
   "source": [],
   "metadata": {
    "collapsed": false
   }
  }
 ],
 "metadata": {
  "kernelspec": {
   "display_name": "Python 3",
   "language": "python",
   "name": "python3"
  },
  "language_info": {
   "codemirror_mode": {
    "name": "ipython",
    "version": 2
   },
   "file_extension": ".py",
   "mimetype": "text/x-python",
   "name": "python",
   "nbconvert_exporter": "python",
   "pygments_lexer": "ipython2",
   "version": "2.7.6"
  }
 },
 "nbformat": 4,
 "nbformat_minor": 0
}
