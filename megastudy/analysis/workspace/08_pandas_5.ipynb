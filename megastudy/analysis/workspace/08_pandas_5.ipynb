{
 "cells": [
  {
   "cell_type": "code",
   "execution_count": 50,
   "metadata": {
    "collapsed": true
   },
   "outputs": [],
   "source": [
    "import warnings\n",
    "\n",
    "import pandas as pd\n",
    "\n",
    "warnings.filterwarnings('ignore')"
   ]
  },
  {
   "cell_type": "code",
   "execution_count": 51,
   "outputs": [
    {
     "data": {
      "text/plain": "                   religion  <$10k  $10-20k  $20-30k  $30-40k  $40-50k  \\\n0                  Agnostic     27       34       60       81       76   \n1                   Atheist     12       27       37       52       35   \n2                  Buddhist     27       21       30       34       33   \n3                  Catholic    418      617      732      670      638   \n4        Don’t know/refused     15       14       15       11       10   \n5          Evangelical Prot    575      869     1064      982      881   \n6                     Hindu      1        9        7        9       11   \n7   Historically Black Prot    228      244      236      238      197   \n8         Jehovah's Witness     20       27       24       24       21   \n9                    Jewish     19       19       25       25       30   \n10            Mainline Prot    289      495      619      655      651   \n11                   Mormon     29       40       48       51       56   \n12                   Muslim      6        7        9       10        9   \n13                 Orthodox     13       17       23       32       32   \n14          Other Christian      9        7       11       13       13   \n15             Other Faiths     20       33       40       46       49   \n16    Other World Religions      5        2        3        4        2   \n17             Unaffiliated    217      299      374      365      341   \n\n    $50-75k  $75-100k  $100-150k  >150k  Don't know/refused  \n0       137       122        109     84                  96  \n1        70        73         59     74                  76  \n2        58        62         39     53                  54  \n3      1116       949        792    633                1489  \n4        35        21         17     18                 116  \n5      1486       949        723    414                1529  \n6        34        47         48     54                  37  \n7       223       131         81     78                 339  \n8        30        15         11      6                  37  \n9        95        69         87    151                 162  \n10     1107       939        753    634                1328  \n11      112        85         49     42                  69  \n12       23        16          8      6                  22  \n13       47        38         42     46                  73  \n14       14        18         14     12                  18  \n15       63        46         40     41                  71  \n16        7         3          4      4                   8  \n17      528       407        321    258                 597  ",
      "text/html": "<div>\n<style scoped>\n    .dataframe tbody tr th:only-of-type {\n        vertical-align: middle;\n    }\n\n    .dataframe tbody tr th {\n        vertical-align: top;\n    }\n\n    .dataframe thead th {\n        text-align: right;\n    }\n</style>\n<table border=\"1\" class=\"dataframe\">\n  <thead>\n    <tr style=\"text-align: right;\">\n      <th></th>\n      <th>religion</th>\n      <th>&lt;$10k</th>\n      <th>$10-20k</th>\n      <th>$20-30k</th>\n      <th>$30-40k</th>\n      <th>$40-50k</th>\n      <th>$50-75k</th>\n      <th>$75-100k</th>\n      <th>$100-150k</th>\n      <th>&gt;150k</th>\n      <th>Don't know/refused</th>\n    </tr>\n  </thead>\n  <tbody>\n    <tr>\n      <th>0</th>\n      <td>Agnostic</td>\n      <td>27</td>\n      <td>34</td>\n      <td>60</td>\n      <td>81</td>\n      <td>76</td>\n      <td>137</td>\n      <td>122</td>\n      <td>109</td>\n      <td>84</td>\n      <td>96</td>\n    </tr>\n    <tr>\n      <th>1</th>\n      <td>Atheist</td>\n      <td>12</td>\n      <td>27</td>\n      <td>37</td>\n      <td>52</td>\n      <td>35</td>\n      <td>70</td>\n      <td>73</td>\n      <td>59</td>\n      <td>74</td>\n      <td>76</td>\n    </tr>\n    <tr>\n      <th>2</th>\n      <td>Buddhist</td>\n      <td>27</td>\n      <td>21</td>\n      <td>30</td>\n      <td>34</td>\n      <td>33</td>\n      <td>58</td>\n      <td>62</td>\n      <td>39</td>\n      <td>53</td>\n      <td>54</td>\n    </tr>\n    <tr>\n      <th>3</th>\n      <td>Catholic</td>\n      <td>418</td>\n      <td>617</td>\n      <td>732</td>\n      <td>670</td>\n      <td>638</td>\n      <td>1116</td>\n      <td>949</td>\n      <td>792</td>\n      <td>633</td>\n      <td>1489</td>\n    </tr>\n    <tr>\n      <th>4</th>\n      <td>Don’t know/refused</td>\n      <td>15</td>\n      <td>14</td>\n      <td>15</td>\n      <td>11</td>\n      <td>10</td>\n      <td>35</td>\n      <td>21</td>\n      <td>17</td>\n      <td>18</td>\n      <td>116</td>\n    </tr>\n    <tr>\n      <th>5</th>\n      <td>Evangelical Prot</td>\n      <td>575</td>\n      <td>869</td>\n      <td>1064</td>\n      <td>982</td>\n      <td>881</td>\n      <td>1486</td>\n      <td>949</td>\n      <td>723</td>\n      <td>414</td>\n      <td>1529</td>\n    </tr>\n    <tr>\n      <th>6</th>\n      <td>Hindu</td>\n      <td>1</td>\n      <td>9</td>\n      <td>7</td>\n      <td>9</td>\n      <td>11</td>\n      <td>34</td>\n      <td>47</td>\n      <td>48</td>\n      <td>54</td>\n      <td>37</td>\n    </tr>\n    <tr>\n      <th>7</th>\n      <td>Historically Black Prot</td>\n      <td>228</td>\n      <td>244</td>\n      <td>236</td>\n      <td>238</td>\n      <td>197</td>\n      <td>223</td>\n      <td>131</td>\n      <td>81</td>\n      <td>78</td>\n      <td>339</td>\n    </tr>\n    <tr>\n      <th>8</th>\n      <td>Jehovah's Witness</td>\n      <td>20</td>\n      <td>27</td>\n      <td>24</td>\n      <td>24</td>\n      <td>21</td>\n      <td>30</td>\n      <td>15</td>\n      <td>11</td>\n      <td>6</td>\n      <td>37</td>\n    </tr>\n    <tr>\n      <th>9</th>\n      <td>Jewish</td>\n      <td>19</td>\n      <td>19</td>\n      <td>25</td>\n      <td>25</td>\n      <td>30</td>\n      <td>95</td>\n      <td>69</td>\n      <td>87</td>\n      <td>151</td>\n      <td>162</td>\n    </tr>\n    <tr>\n      <th>10</th>\n      <td>Mainline Prot</td>\n      <td>289</td>\n      <td>495</td>\n      <td>619</td>\n      <td>655</td>\n      <td>651</td>\n      <td>1107</td>\n      <td>939</td>\n      <td>753</td>\n      <td>634</td>\n      <td>1328</td>\n    </tr>\n    <tr>\n      <th>11</th>\n      <td>Mormon</td>\n      <td>29</td>\n      <td>40</td>\n      <td>48</td>\n      <td>51</td>\n      <td>56</td>\n      <td>112</td>\n      <td>85</td>\n      <td>49</td>\n      <td>42</td>\n      <td>69</td>\n    </tr>\n    <tr>\n      <th>12</th>\n      <td>Muslim</td>\n      <td>6</td>\n      <td>7</td>\n      <td>9</td>\n      <td>10</td>\n      <td>9</td>\n      <td>23</td>\n      <td>16</td>\n      <td>8</td>\n      <td>6</td>\n      <td>22</td>\n    </tr>\n    <tr>\n      <th>13</th>\n      <td>Orthodox</td>\n      <td>13</td>\n      <td>17</td>\n      <td>23</td>\n      <td>32</td>\n      <td>32</td>\n      <td>47</td>\n      <td>38</td>\n      <td>42</td>\n      <td>46</td>\n      <td>73</td>\n    </tr>\n    <tr>\n      <th>14</th>\n      <td>Other Christian</td>\n      <td>9</td>\n      <td>7</td>\n      <td>11</td>\n      <td>13</td>\n      <td>13</td>\n      <td>14</td>\n      <td>18</td>\n      <td>14</td>\n      <td>12</td>\n      <td>18</td>\n    </tr>\n    <tr>\n      <th>15</th>\n      <td>Other Faiths</td>\n      <td>20</td>\n      <td>33</td>\n      <td>40</td>\n      <td>46</td>\n      <td>49</td>\n      <td>63</td>\n      <td>46</td>\n      <td>40</td>\n      <td>41</td>\n      <td>71</td>\n    </tr>\n    <tr>\n      <th>16</th>\n      <td>Other World Religions</td>\n      <td>5</td>\n      <td>2</td>\n      <td>3</td>\n      <td>4</td>\n      <td>2</td>\n      <td>7</td>\n      <td>3</td>\n      <td>4</td>\n      <td>4</td>\n      <td>8</td>\n    </tr>\n    <tr>\n      <th>17</th>\n      <td>Unaffiliated</td>\n      <td>217</td>\n      <td>299</td>\n      <td>374</td>\n      <td>365</td>\n      <td>341</td>\n      <td>528</td>\n      <td>407</td>\n      <td>321</td>\n      <td>258</td>\n      <td>597</td>\n    </tr>\n  </tbody>\n</table>\n</div>"
     },
     "execution_count": 51,
     "metadata": {},
     "output_type": "execute_result"
    }
   ],
   "source": [
    "# Pew Research Center는 세계 여론 조사, 인구 통계 등 다양한 사회과학 연구를 수행하는 곳이다.\n",
    "# Pew Research Center에서 조사한 '미국의 소득과 종교' 데이터를 사용한다.\n",
    "pew = pd.read_csv('./data/pew.csv', sep=',')\n",
    "pew"
   ],
   "metadata": {
    "collapsed": false
   }
  },
  {
   "cell_type": "markdown",
   "source": [
    "# melt()\n",
    "- 데이터프레임을 깔끔한 데이터로 정리하는데 사용하는 melt() 메서드는 지정한 열의 데이터를 모두 행으로 정리해준다.\n",
    "melt(frame: DataFrame,\n",
    "&Tab;id_vars: {__len__, __iter__, __add__} | None = None,   → 위치를 그대로 유지할 열 지정, 필수\n",
    "&Tab;value_vars: Any = None,    → 행으로 위치를 변경할 열\n",
    "&Tab;var_name: Any = None,  → value_vars로 위치를 변경한 열\n",
    "&Tab;value_name: str = \"value\") → value_vars로 위치를 변경한 열의 데이터를 저장한 열"
   ],
   "metadata": {
    "collapsed": false
   }
  },
  {
   "cell_type": "code",
   "execution_count": 52,
   "outputs": [
    {
     "data": {
      "text/plain": "                  religion            variable  value\n0                 Agnostic               <$10k     27\n1                  Atheist               <$10k     12\n2                 Buddhist               <$10k     27\n3                 Catholic               <$10k    418\n4       Don’t know/refused               <$10k     15\n..                     ...                 ...    ...\n175               Orthodox  Don't know/refused     73\n176        Other Christian  Don't know/refused     18\n177           Other Faiths  Don't know/refused     71\n178  Other World Religions  Don't know/refused      8\n179           Unaffiliated  Don't know/refused    597\n\n[180 rows x 3 columns]",
      "text/html": "<div>\n<style scoped>\n    .dataframe tbody tr th:only-of-type {\n        vertical-align: middle;\n    }\n\n    .dataframe tbody tr th {\n        vertical-align: top;\n    }\n\n    .dataframe thead th {\n        text-align: right;\n    }\n</style>\n<table border=\"1\" class=\"dataframe\">\n  <thead>\n    <tr style=\"text-align: right;\">\n      <th></th>\n      <th>religion</th>\n      <th>variable</th>\n      <th>value</th>\n    </tr>\n  </thead>\n  <tbody>\n    <tr>\n      <th>0</th>\n      <td>Agnostic</td>\n      <td>&lt;$10k</td>\n      <td>27</td>\n    </tr>\n    <tr>\n      <th>1</th>\n      <td>Atheist</td>\n      <td>&lt;$10k</td>\n      <td>12</td>\n    </tr>\n    <tr>\n      <th>2</th>\n      <td>Buddhist</td>\n      <td>&lt;$10k</td>\n      <td>27</td>\n    </tr>\n    <tr>\n      <th>3</th>\n      <td>Catholic</td>\n      <td>&lt;$10k</td>\n      <td>418</td>\n    </tr>\n    <tr>\n      <th>4</th>\n      <td>Don’t know/refused</td>\n      <td>&lt;$10k</td>\n      <td>15</td>\n    </tr>\n    <tr>\n      <th>...</th>\n      <td>...</td>\n      <td>...</td>\n      <td>...</td>\n    </tr>\n    <tr>\n      <th>175</th>\n      <td>Orthodox</td>\n      <td>Don't know/refused</td>\n      <td>73</td>\n    </tr>\n    <tr>\n      <th>176</th>\n      <td>Other Christian</td>\n      <td>Don't know/refused</td>\n      <td>18</td>\n    </tr>\n    <tr>\n      <th>177</th>\n      <td>Other Faiths</td>\n      <td>Don't know/refused</td>\n      <td>71</td>\n    </tr>\n    <tr>\n      <th>178</th>\n      <td>Other World Religions</td>\n      <td>Don't know/refused</td>\n      <td>8</td>\n    </tr>\n    <tr>\n      <th>179</th>\n      <td>Unaffiliated</td>\n      <td>Don't know/refused</td>\n      <td>597</td>\n    </tr>\n  </tbody>\n</table>\n<p>180 rows × 3 columns</p>\n</div>"
     },
     "execution_count": 52,
     "metadata": {},
     "output_type": "execute_result"
    }
   ],
   "source": [
    "# 소득 정보가 열을 구성하고 있다. → 소득 정보 열을 행 데이터로 옮기려고 한다.\n",
    "# id_vars 속성으로 지정한 열(religion)을 제외한 나머지 소득 정보 열이 variable 열로, 소득 정보 열의 데이터는 value로 정리된다.\n",
    "# value_vars 속성을 생략하면 모든 열을 대상으로 메서드가 실행된다.\n",
    "# 이러한 과정을 'religion' 열을 고정하여 pivot 했다고 말한다.\n",
    "pew_long = pd.melt(pew, id_vars='religion')\n",
    "pew_long"
   ],
   "metadata": {
    "collapsed": false
   }
  },
  {
   "cell_type": "code",
   "execution_count": 53,
   "outputs": [
    {
     "data": {
      "text/plain": "                   religion variable  value\n0                  Agnostic  $10-20k     34\n1                   Atheist  $10-20k     27\n2                  Buddhist  $10-20k     21\n3                  Catholic  $10-20k    617\n4        Don’t know/refused  $10-20k     14\n5          Evangelical Prot  $10-20k    869\n6                     Hindu  $10-20k      9\n7   Historically Black Prot  $10-20k    244\n8         Jehovah's Witness  $10-20k     27\n9                    Jewish  $10-20k     19\n10            Mainline Prot  $10-20k    495\n11                   Mormon  $10-20k     40\n12                   Muslim  $10-20k      7\n13                 Orthodox  $10-20k     17\n14          Other Christian  $10-20k      7\n15             Other Faiths  $10-20k     33\n16    Other World Religions  $10-20k      2\n17             Unaffiliated  $10-20k    299",
      "text/html": "<div>\n<style scoped>\n    .dataframe tbody tr th:only-of-type {\n        vertical-align: middle;\n    }\n\n    .dataframe tbody tr th {\n        vertical-align: top;\n    }\n\n    .dataframe thead th {\n        text-align: right;\n    }\n</style>\n<table border=\"1\" class=\"dataframe\">\n  <thead>\n    <tr style=\"text-align: right;\">\n      <th></th>\n      <th>religion</th>\n      <th>variable</th>\n      <th>value</th>\n    </tr>\n  </thead>\n  <tbody>\n    <tr>\n      <th>0</th>\n      <td>Agnostic</td>\n      <td>$10-20k</td>\n      <td>34</td>\n    </tr>\n    <tr>\n      <th>1</th>\n      <td>Atheist</td>\n      <td>$10-20k</td>\n      <td>27</td>\n    </tr>\n    <tr>\n      <th>2</th>\n      <td>Buddhist</td>\n      <td>$10-20k</td>\n      <td>21</td>\n    </tr>\n    <tr>\n      <th>3</th>\n      <td>Catholic</td>\n      <td>$10-20k</td>\n      <td>617</td>\n    </tr>\n    <tr>\n      <th>4</th>\n      <td>Don’t know/refused</td>\n      <td>$10-20k</td>\n      <td>14</td>\n    </tr>\n    <tr>\n      <th>5</th>\n      <td>Evangelical Prot</td>\n      <td>$10-20k</td>\n      <td>869</td>\n    </tr>\n    <tr>\n      <th>6</th>\n      <td>Hindu</td>\n      <td>$10-20k</td>\n      <td>9</td>\n    </tr>\n    <tr>\n      <th>7</th>\n      <td>Historically Black Prot</td>\n      <td>$10-20k</td>\n      <td>244</td>\n    </tr>\n    <tr>\n      <th>8</th>\n      <td>Jehovah's Witness</td>\n      <td>$10-20k</td>\n      <td>27</td>\n    </tr>\n    <tr>\n      <th>9</th>\n      <td>Jewish</td>\n      <td>$10-20k</td>\n      <td>19</td>\n    </tr>\n    <tr>\n      <th>10</th>\n      <td>Mainline Prot</td>\n      <td>$10-20k</td>\n      <td>495</td>\n    </tr>\n    <tr>\n      <th>11</th>\n      <td>Mormon</td>\n      <td>$10-20k</td>\n      <td>40</td>\n    </tr>\n    <tr>\n      <th>12</th>\n      <td>Muslim</td>\n      <td>$10-20k</td>\n      <td>7</td>\n    </tr>\n    <tr>\n      <th>13</th>\n      <td>Orthodox</td>\n      <td>$10-20k</td>\n      <td>17</td>\n    </tr>\n    <tr>\n      <th>14</th>\n      <td>Other Christian</td>\n      <td>$10-20k</td>\n      <td>7</td>\n    </tr>\n    <tr>\n      <th>15</th>\n      <td>Other Faiths</td>\n      <td>$10-20k</td>\n      <td>33</td>\n    </tr>\n    <tr>\n      <th>16</th>\n      <td>Other World Religions</td>\n      <td>$10-20k</td>\n      <td>2</td>\n    </tr>\n    <tr>\n      <th>17</th>\n      <td>Unaffiliated</td>\n      <td>$10-20k</td>\n      <td>299</td>\n    </tr>\n  </tbody>\n</table>\n</div>"
     },
     "execution_count": 53,
     "metadata": {},
     "output_type": "execute_result"
    }
   ],
   "source": [
    "# value_vars 속성을 지정하면 지정한 열만 지정한 열만 대상으로 pivot 한다.\n",
    "pew_long = pd.melt(pew, id_vars='religion', value_vars='$10-20k')\n",
    "pew_long"
   ],
   "metadata": {
    "collapsed": false
   }
  },
  {
   "cell_type": "code",
   "execution_count": 54,
   "outputs": [
    {
     "data": {
      "text/plain": "                   religion   variable  value\n0                  Agnostic    $10-20k     34\n1                   Atheist    $10-20k     27\n2                  Buddhist    $10-20k     21\n3                  Catholic    $10-20k    617\n4        Don’t know/refused    $10-20k     14\n5          Evangelical Prot    $10-20k    869\n6                     Hindu    $10-20k      9\n7   Historically Black Prot    $10-20k    244\n8         Jehovah's Witness    $10-20k     27\n9                    Jewish    $10-20k     19\n10            Mainline Prot    $10-20k    495\n11                   Mormon    $10-20k     40\n12                   Muslim    $10-20k      7\n13                 Orthodox    $10-20k     17\n14          Other Christian    $10-20k      7\n15             Other Faiths    $10-20k     33\n16    Other World Religions    $10-20k      2\n17             Unaffiliated    $10-20k    299\n18                 Agnostic  $100-150k    109\n19                  Atheist  $100-150k     59\n20                 Buddhist  $100-150k     39\n21                 Catholic  $100-150k    792\n22       Don’t know/refused  $100-150k     17\n23         Evangelical Prot  $100-150k    723\n24                    Hindu  $100-150k     48\n25  Historically Black Prot  $100-150k     81\n26        Jehovah's Witness  $100-150k     11\n27                   Jewish  $100-150k     87\n28            Mainline Prot  $100-150k    753\n29                   Mormon  $100-150k     49\n30                   Muslim  $100-150k      8\n31                 Orthodox  $100-150k     42\n32          Other Christian  $100-150k     14\n33             Other Faiths  $100-150k     40\n34    Other World Religions  $100-150k      4\n35             Unaffiliated  $100-150k    321",
      "text/html": "<div>\n<style scoped>\n    .dataframe tbody tr th:only-of-type {\n        vertical-align: middle;\n    }\n\n    .dataframe tbody tr th {\n        vertical-align: top;\n    }\n\n    .dataframe thead th {\n        text-align: right;\n    }\n</style>\n<table border=\"1\" class=\"dataframe\">\n  <thead>\n    <tr style=\"text-align: right;\">\n      <th></th>\n      <th>religion</th>\n      <th>variable</th>\n      <th>value</th>\n    </tr>\n  </thead>\n  <tbody>\n    <tr>\n      <th>0</th>\n      <td>Agnostic</td>\n      <td>$10-20k</td>\n      <td>34</td>\n    </tr>\n    <tr>\n      <th>1</th>\n      <td>Atheist</td>\n      <td>$10-20k</td>\n      <td>27</td>\n    </tr>\n    <tr>\n      <th>2</th>\n      <td>Buddhist</td>\n      <td>$10-20k</td>\n      <td>21</td>\n    </tr>\n    <tr>\n      <th>3</th>\n      <td>Catholic</td>\n      <td>$10-20k</td>\n      <td>617</td>\n    </tr>\n    <tr>\n      <th>4</th>\n      <td>Don’t know/refused</td>\n      <td>$10-20k</td>\n      <td>14</td>\n    </tr>\n    <tr>\n      <th>5</th>\n      <td>Evangelical Prot</td>\n      <td>$10-20k</td>\n      <td>869</td>\n    </tr>\n    <tr>\n      <th>6</th>\n      <td>Hindu</td>\n      <td>$10-20k</td>\n      <td>9</td>\n    </tr>\n    <tr>\n      <th>7</th>\n      <td>Historically Black Prot</td>\n      <td>$10-20k</td>\n      <td>244</td>\n    </tr>\n    <tr>\n      <th>8</th>\n      <td>Jehovah's Witness</td>\n      <td>$10-20k</td>\n      <td>27</td>\n    </tr>\n    <tr>\n      <th>9</th>\n      <td>Jewish</td>\n      <td>$10-20k</td>\n      <td>19</td>\n    </tr>\n    <tr>\n      <th>10</th>\n      <td>Mainline Prot</td>\n      <td>$10-20k</td>\n      <td>495</td>\n    </tr>\n    <tr>\n      <th>11</th>\n      <td>Mormon</td>\n      <td>$10-20k</td>\n      <td>40</td>\n    </tr>\n    <tr>\n      <th>12</th>\n      <td>Muslim</td>\n      <td>$10-20k</td>\n      <td>7</td>\n    </tr>\n    <tr>\n      <th>13</th>\n      <td>Orthodox</td>\n      <td>$10-20k</td>\n      <td>17</td>\n    </tr>\n    <tr>\n      <th>14</th>\n      <td>Other Christian</td>\n      <td>$10-20k</td>\n      <td>7</td>\n    </tr>\n    <tr>\n      <th>15</th>\n      <td>Other Faiths</td>\n      <td>$10-20k</td>\n      <td>33</td>\n    </tr>\n    <tr>\n      <th>16</th>\n      <td>Other World Religions</td>\n      <td>$10-20k</td>\n      <td>2</td>\n    </tr>\n    <tr>\n      <th>17</th>\n      <td>Unaffiliated</td>\n      <td>$10-20k</td>\n      <td>299</td>\n    </tr>\n    <tr>\n      <th>18</th>\n      <td>Agnostic</td>\n      <td>$100-150k</td>\n      <td>109</td>\n    </tr>\n    <tr>\n      <th>19</th>\n      <td>Atheist</td>\n      <td>$100-150k</td>\n      <td>59</td>\n    </tr>\n    <tr>\n      <th>20</th>\n      <td>Buddhist</td>\n      <td>$100-150k</td>\n      <td>39</td>\n    </tr>\n    <tr>\n      <th>21</th>\n      <td>Catholic</td>\n      <td>$100-150k</td>\n      <td>792</td>\n    </tr>\n    <tr>\n      <th>22</th>\n      <td>Don’t know/refused</td>\n      <td>$100-150k</td>\n      <td>17</td>\n    </tr>\n    <tr>\n      <th>23</th>\n      <td>Evangelical Prot</td>\n      <td>$100-150k</td>\n      <td>723</td>\n    </tr>\n    <tr>\n      <th>24</th>\n      <td>Hindu</td>\n      <td>$100-150k</td>\n      <td>48</td>\n    </tr>\n    <tr>\n      <th>25</th>\n      <td>Historically Black Prot</td>\n      <td>$100-150k</td>\n      <td>81</td>\n    </tr>\n    <tr>\n      <th>26</th>\n      <td>Jehovah's Witness</td>\n      <td>$100-150k</td>\n      <td>11</td>\n    </tr>\n    <tr>\n      <th>27</th>\n      <td>Jewish</td>\n      <td>$100-150k</td>\n      <td>87</td>\n    </tr>\n    <tr>\n      <th>28</th>\n      <td>Mainline Prot</td>\n      <td>$100-150k</td>\n      <td>753</td>\n    </tr>\n    <tr>\n      <th>29</th>\n      <td>Mormon</td>\n      <td>$100-150k</td>\n      <td>49</td>\n    </tr>\n    <tr>\n      <th>30</th>\n      <td>Muslim</td>\n      <td>$100-150k</td>\n      <td>8</td>\n    </tr>\n    <tr>\n      <th>31</th>\n      <td>Orthodox</td>\n      <td>$100-150k</td>\n      <td>42</td>\n    </tr>\n    <tr>\n      <th>32</th>\n      <td>Other Christian</td>\n      <td>$100-150k</td>\n      <td>14</td>\n    </tr>\n    <tr>\n      <th>33</th>\n      <td>Other Faiths</td>\n      <td>$100-150k</td>\n      <td>40</td>\n    </tr>\n    <tr>\n      <th>34</th>\n      <td>Other World Religions</td>\n      <td>$100-150k</td>\n      <td>4</td>\n    </tr>\n    <tr>\n      <th>35</th>\n      <td>Unaffiliated</td>\n      <td>$100-150k</td>\n      <td>321</td>\n    </tr>\n  </tbody>\n</table>\n</div>"
     },
     "execution_count": 54,
     "metadata": {},
     "output_type": "execute_result"
    }
   ],
   "source": [
    "# Pivot 할 열이 2개 이상일 경우 Pivot 할 열을 리스트로 묶어서 value_vars 속성으로 전달하면 된다.\n",
    "pew_long = pd.melt(pew, id_vars='religion', value_vars=['$10-20k', '$100-150k'])\n",
    "pew_long"
   ],
   "metadata": {
    "collapsed": false
   }
  },
  {
   "cell_type": "code",
   "execution_count": 55,
   "outputs": [
    {
     "data": {
      "text/plain": "                         종교       연봉  인원 수\n0                  Agnostic  $10-20k    34\n1                   Atheist  $10-20k    27\n2                  Buddhist  $10-20k    21\n3                  Catholic  $10-20k   617\n4        Don’t know/refused  $10-20k    14\n5          Evangelical Prot  $10-20k   869\n6                     Hindu  $10-20k     9\n7   Historically Black Prot  $10-20k   244\n8         Jehovah's Witness  $10-20k    27\n9                    Jewish  $10-20k    19\n10            Mainline Prot  $10-20k   495\n11                   Mormon  $10-20k    40\n12                   Muslim  $10-20k     7\n13                 Orthodox  $10-20k    17\n14          Other Christian  $10-20k     7\n15             Other Faiths  $10-20k    33\n16    Other World Religions  $10-20k     2\n17             Unaffiliated  $10-20k   299",
      "text/html": "<div>\n<style scoped>\n    .dataframe tbody tr th:only-of-type {\n        vertical-align: middle;\n    }\n\n    .dataframe tbody tr th {\n        vertical-align: top;\n    }\n\n    .dataframe thead th {\n        text-align: right;\n    }\n</style>\n<table border=\"1\" class=\"dataframe\">\n  <thead>\n    <tr style=\"text-align: right;\">\n      <th></th>\n      <th>종교</th>\n      <th>연봉</th>\n      <th>인원 수</th>\n    </tr>\n  </thead>\n  <tbody>\n    <tr>\n      <th>0</th>\n      <td>Agnostic</td>\n      <td>$10-20k</td>\n      <td>34</td>\n    </tr>\n    <tr>\n      <th>1</th>\n      <td>Atheist</td>\n      <td>$10-20k</td>\n      <td>27</td>\n    </tr>\n    <tr>\n      <th>2</th>\n      <td>Buddhist</td>\n      <td>$10-20k</td>\n      <td>21</td>\n    </tr>\n    <tr>\n      <th>3</th>\n      <td>Catholic</td>\n      <td>$10-20k</td>\n      <td>617</td>\n    </tr>\n    <tr>\n      <th>4</th>\n      <td>Don’t know/refused</td>\n      <td>$10-20k</td>\n      <td>14</td>\n    </tr>\n    <tr>\n      <th>5</th>\n      <td>Evangelical Prot</td>\n      <td>$10-20k</td>\n      <td>869</td>\n    </tr>\n    <tr>\n      <th>6</th>\n      <td>Hindu</td>\n      <td>$10-20k</td>\n      <td>9</td>\n    </tr>\n    <tr>\n      <th>7</th>\n      <td>Historically Black Prot</td>\n      <td>$10-20k</td>\n      <td>244</td>\n    </tr>\n    <tr>\n      <th>8</th>\n      <td>Jehovah's Witness</td>\n      <td>$10-20k</td>\n      <td>27</td>\n    </tr>\n    <tr>\n      <th>9</th>\n      <td>Jewish</td>\n      <td>$10-20k</td>\n      <td>19</td>\n    </tr>\n    <tr>\n      <th>10</th>\n      <td>Mainline Prot</td>\n      <td>$10-20k</td>\n      <td>495</td>\n    </tr>\n    <tr>\n      <th>11</th>\n      <td>Mormon</td>\n      <td>$10-20k</td>\n      <td>40</td>\n    </tr>\n    <tr>\n      <th>12</th>\n      <td>Muslim</td>\n      <td>$10-20k</td>\n      <td>7</td>\n    </tr>\n    <tr>\n      <th>13</th>\n      <td>Orthodox</td>\n      <td>$10-20k</td>\n      <td>17</td>\n    </tr>\n    <tr>\n      <th>14</th>\n      <td>Other Christian</td>\n      <td>$10-20k</td>\n      <td>7</td>\n    </tr>\n    <tr>\n      <th>15</th>\n      <td>Other Faiths</td>\n      <td>$10-20k</td>\n      <td>33</td>\n    </tr>\n    <tr>\n      <th>16</th>\n      <td>Other World Religions</td>\n      <td>$10-20k</td>\n      <td>2</td>\n    </tr>\n    <tr>\n      <th>17</th>\n      <td>Unaffiliated</td>\n      <td>$10-20k</td>\n      <td>299</td>\n    </tr>\n  </tbody>\n</table>\n</div>"
     },
     "execution_count": 55,
     "metadata": {},
     "output_type": "execute_result"
    }
   ],
   "source": [
    "# var_name 속성을 이용해서 variable로 표시되던 열 이름을 '연봉'으로 변경하고, value로 표시되던 열 이름을 '인원 수로 변경한다.\n",
    "pew_long = pd.melt(pew, id_vars='religion', value_vars='$10-20k', var_name='연봉', value_name='인원 수')\n",
    "pew_long.columns = ['종교', '연봉', '인원 수']\n",
    "pew_long"
   ],
   "metadata": {
    "collapsed": false
   }
  },
  {
   "cell_type": "code",
   "execution_count": 56,
   "outputs": [
    {
     "data": {
      "text/plain": "           Date  Day  Cases_Guinea  Cases_Liberia  Deaths_Guinea  \\\n0      1/5/2015  289        2776.0            NaN         1786.0   \n1      1/4/2015  288        2775.0            NaN         1781.0   \n2      1/3/2015  287        2769.0         8166.0         1767.0   \n3      1/2/2015  286           NaN         8157.0            NaN   \n4    12/31/2014  284        2730.0         8115.0         1739.0   \n..          ...  ...           ...            ...            ...   \n117   3/27/2014    5         103.0            8.0           66.0   \n118   3/26/2014    4          86.0            NaN           62.0   \n119   3/25/2014    3          86.0            NaN           60.0   \n120   3/24/2014    2          86.0            NaN           59.0   \n121   3/22/2014    0          49.0            NaN           29.0   \n\n     Deaths_Liberia  \n0               NaN  \n1               NaN  \n2            3496.0  \n3            3496.0  \n4            3471.0  \n..              ...  \n117             6.0  \n118             NaN  \n119             NaN  \n120             NaN  \n121             NaN  \n\n[122 rows x 6 columns]",
      "text/html": "<div>\n<style scoped>\n    .dataframe tbody tr th:only-of-type {\n        vertical-align: middle;\n    }\n\n    .dataframe tbody tr th {\n        vertical-align: top;\n    }\n\n    .dataframe thead th {\n        text-align: right;\n    }\n</style>\n<table border=\"1\" class=\"dataframe\">\n  <thead>\n    <tr style=\"text-align: right;\">\n      <th></th>\n      <th>Date</th>\n      <th>Day</th>\n      <th>Cases_Guinea</th>\n      <th>Cases_Liberia</th>\n      <th>Deaths_Guinea</th>\n      <th>Deaths_Liberia</th>\n    </tr>\n  </thead>\n  <tbody>\n    <tr>\n      <th>0</th>\n      <td>1/5/2015</td>\n      <td>289</td>\n      <td>2776.0</td>\n      <td>NaN</td>\n      <td>1786.0</td>\n      <td>NaN</td>\n    </tr>\n    <tr>\n      <th>1</th>\n      <td>1/4/2015</td>\n      <td>288</td>\n      <td>2775.0</td>\n      <td>NaN</td>\n      <td>1781.0</td>\n      <td>NaN</td>\n    </tr>\n    <tr>\n      <th>2</th>\n      <td>1/3/2015</td>\n      <td>287</td>\n      <td>2769.0</td>\n      <td>8166.0</td>\n      <td>1767.0</td>\n      <td>3496.0</td>\n    </tr>\n    <tr>\n      <th>3</th>\n      <td>1/2/2015</td>\n      <td>286</td>\n      <td>NaN</td>\n      <td>8157.0</td>\n      <td>NaN</td>\n      <td>3496.0</td>\n    </tr>\n    <tr>\n      <th>4</th>\n      <td>12/31/2014</td>\n      <td>284</td>\n      <td>2730.0</td>\n      <td>8115.0</td>\n      <td>1739.0</td>\n      <td>3471.0</td>\n    </tr>\n    <tr>\n      <th>...</th>\n      <td>...</td>\n      <td>...</td>\n      <td>...</td>\n      <td>...</td>\n      <td>...</td>\n      <td>...</td>\n    </tr>\n    <tr>\n      <th>117</th>\n      <td>3/27/2014</td>\n      <td>5</td>\n      <td>103.0</td>\n      <td>8.0</td>\n      <td>66.0</td>\n      <td>6.0</td>\n    </tr>\n    <tr>\n      <th>118</th>\n      <td>3/26/2014</td>\n      <td>4</td>\n      <td>86.0</td>\n      <td>NaN</td>\n      <td>62.0</td>\n      <td>NaN</td>\n    </tr>\n    <tr>\n      <th>119</th>\n      <td>3/25/2014</td>\n      <td>3</td>\n      <td>86.0</td>\n      <td>NaN</td>\n      <td>60.0</td>\n      <td>NaN</td>\n    </tr>\n    <tr>\n      <th>120</th>\n      <td>3/24/2014</td>\n      <td>2</td>\n      <td>86.0</td>\n      <td>NaN</td>\n      <td>59.0</td>\n      <td>NaN</td>\n    </tr>\n    <tr>\n      <th>121</th>\n      <td>3/22/2014</td>\n      <td>0</td>\n      <td>49.0</td>\n      <td>NaN</td>\n      <td>29.0</td>\n      <td>NaN</td>\n    </tr>\n  </tbody>\n</table>\n<p>122 rows × 6 columns</p>\n</div>"
     },
     "execution_count": 56,
     "metadata": {},
     "output_type": "execute_result"
    }
   ],
   "source": [
    "# Exercise\n",
    "ebola = pd.read_csv('./data/country_timeseries.csv', sep=',')\n",
    "ebola_short = ebola.loc[:, ['Date', 'Day', 'Cases_Guinea', 'Cases_Liberia', 'Deaths_Guinea', 'Deaths_Liberia']]\n",
    "ebola_short"
   ],
   "metadata": {
    "collapsed": false
   }
  },
  {
   "cell_type": "code",
   "execution_count": 57,
   "outputs": [
    {
     "data": {
      "text/plain": "            Date  Day      variable   value\n0       1/5/2015  289  Cases_Guinea  2776.0\n1       1/4/2015  288  Cases_Guinea  2775.0\n2       1/3/2015  287  Cases_Guinea  2769.0\n3       1/2/2015  286  Cases_Guinea     NaN\n4     12/31/2014  284  Cases_Guinea  2730.0\n...          ...  ...           ...     ...\n1947   3/27/2014    5   Deaths_Mali     NaN\n1948   3/26/2014    4   Deaths_Mali     NaN\n1949   3/25/2014    3   Deaths_Mali     NaN\n1950   3/24/2014    2   Deaths_Mali     NaN\n1951   3/22/2014    0   Deaths_Mali     NaN\n\n[1952 rows x 4 columns]",
      "text/html": "<div>\n<style scoped>\n    .dataframe tbody tr th:only-of-type {\n        vertical-align: middle;\n    }\n\n    .dataframe tbody tr th {\n        vertical-align: top;\n    }\n\n    .dataframe thead th {\n        text-align: right;\n    }\n</style>\n<table border=\"1\" class=\"dataframe\">\n  <thead>\n    <tr style=\"text-align: right;\">\n      <th></th>\n      <th>Date</th>\n      <th>Day</th>\n      <th>variable</th>\n      <th>value</th>\n    </tr>\n  </thead>\n  <tbody>\n    <tr>\n      <th>0</th>\n      <td>1/5/2015</td>\n      <td>289</td>\n      <td>Cases_Guinea</td>\n      <td>2776.0</td>\n    </tr>\n    <tr>\n      <th>1</th>\n      <td>1/4/2015</td>\n      <td>288</td>\n      <td>Cases_Guinea</td>\n      <td>2775.0</td>\n    </tr>\n    <tr>\n      <th>2</th>\n      <td>1/3/2015</td>\n      <td>287</td>\n      <td>Cases_Guinea</td>\n      <td>2769.0</td>\n    </tr>\n    <tr>\n      <th>3</th>\n      <td>1/2/2015</td>\n      <td>286</td>\n      <td>Cases_Guinea</td>\n      <td>NaN</td>\n    </tr>\n    <tr>\n      <th>4</th>\n      <td>12/31/2014</td>\n      <td>284</td>\n      <td>Cases_Guinea</td>\n      <td>2730.0</td>\n    </tr>\n    <tr>\n      <th>...</th>\n      <td>...</td>\n      <td>...</td>\n      <td>...</td>\n      <td>...</td>\n    </tr>\n    <tr>\n      <th>1947</th>\n      <td>3/27/2014</td>\n      <td>5</td>\n      <td>Deaths_Mali</td>\n      <td>NaN</td>\n    </tr>\n    <tr>\n      <th>1948</th>\n      <td>3/26/2014</td>\n      <td>4</td>\n      <td>Deaths_Mali</td>\n      <td>NaN</td>\n    </tr>\n    <tr>\n      <th>1949</th>\n      <td>3/25/2014</td>\n      <td>3</td>\n      <td>Deaths_Mali</td>\n      <td>NaN</td>\n    </tr>\n    <tr>\n      <th>1950</th>\n      <td>3/24/2014</td>\n      <td>2</td>\n      <td>Deaths_Mali</td>\n      <td>NaN</td>\n    </tr>\n    <tr>\n      <th>1951</th>\n      <td>3/22/2014</td>\n      <td>0</td>\n      <td>Deaths_Mali</td>\n      <td>NaN</td>\n    </tr>\n  </tbody>\n</table>\n<p>1952 rows × 4 columns</p>\n</div>"
     },
     "execution_count": 57,
     "metadata": {},
     "output_type": "execute_result"
    }
   ],
   "source": [
    "ebola_long = pd.melt(ebola, id_vars=['Date','Day'])\n",
    "ebola_long"
   ],
   "metadata": {
    "collapsed": false
   }
  },
  {
   "cell_type": "code",
   "execution_count": 58,
   "outputs": [
    {
     "name": "stdout",
     "output_type": "stream",
     "text": [
      "<class 'pandas.core.series.Series'>\n",
      "<class 'pandas.core.strings.accessor.StringMethods'>\n",
      "<class 'pandas.core.series.Series'>\n",
      "0       [Cases, Guinea]\n",
      "1       [Cases, Guinea]\n",
      "2       [Cases, Guinea]\n",
      "3       [Cases, Guinea]\n",
      "4       [Cases, Guinea]\n",
      "             ...       \n",
      "1947     [Deaths, Mali]\n",
      "1948     [Deaths, Mali]\n",
      "1949     [Deaths, Mali]\n",
      "1950     [Deaths, Mali]\n",
      "1951     [Deaths, Mali]\n",
      "Name: variable, Length: 1952, dtype: object\n",
      "<class 'list'>\n",
      "['Cases', 'Guinea']\n",
      "Guinea\n"
     ]
    }
   ],
   "source": [
    "# split() 메서드에 '_'를 구분자로 전달하면 Cases_Guinea를 Cases와 Guinea로 분리할 수 있다.\n",
    "print(type(ebola_long.variable))    # <class 'pandas.core.series.Series'>\n",
    "print(type(ebola_long.variable.str))    # <class 'pandas.core.strings.accessor.StringMethods'>\n",
    "# 시리즈 뒤에 '.'을 찍고 str을 붙여주면 시리즈에 문자열 관련 메서드를 실행할 수 있도록 해준다.\n",
    "variable_split = ebola_long.variable.str.split('_')\n",
    "print(type(variable_split))     # <class 'pandas.core.series.Series'>: 분리된 데이터 전체는 시리즈 타입이다.\n",
    "print(variable_split)\n",
    "# 분리된 데이터가 저장된 시리즈에서 특정 위치의 데이터만 얻어오면 리스트 타입이다.\n",
    "print(type(variable_split[0]))  # <class 'list'>\n",
    "print(variable_split[0])\n",
    "print(variable_split[0][1])"
   ],
   "metadata": {
    "collapsed": false
   }
  },
  {
   "cell_type": "code",
   "execution_count": 59,
   "outputs": [
    {
     "name": "stdout",
     "output_type": "stream",
     "text": [
      "<class 'pandas.core.series.Series'>\n"
     ]
    },
    {
     "data": {
      "text/plain": "0        Cases\n1        Cases\n2        Cases\n3        Cases\n4        Cases\n         ...  \n1947    Deaths\n1948    Deaths\n1949    Deaths\n1950    Deaths\n1951    Deaths\nName: variable, Length: 1952, dtype: object"
     },
     "execution_count": 59,
     "metadata": {},
     "output_type": "execute_result"
    }
   ],
   "source": [
    "# status_values = variable_split.str[0]     # variable_split 시리즈의 0번째 인덱스 위치의 값 [Cases, Guinea]를 얻어온다.\n",
    "# status_values = variable_split.str[0][0]  # 0번째 인덱스 위치의 값 [Cases, Guinea]에서 0번째 인덱스인 'Cases'를 얻어온다.\n",
    "# str 적용 후 1회에 한하여 문자열 관련 기능이 실행되면 다시 시리즈로 돌아간다.\n",
    "status_values = variable_split.str.get(0)\n",
    "print(type(status_values))\n",
    "status_values"
   ],
   "metadata": {
    "collapsed": false
   }
  },
  {
   "cell_type": "code",
   "execution_count": 60,
   "outputs": [
    {
     "data": {
      "text/plain": "0       Guinea\n1       Guinea\n2       Guinea\n3       Guinea\n4       Guinea\n         ...  \n1947      Mali\n1948      Mali\n1949      Mali\n1950      Mali\n1951      Mali\nName: variable, Length: 1952, dtype: object"
     },
     "execution_count": 60,
     "metadata": {},
     "output_type": "execute_result"
    }
   ],
   "source": [
    "country_values = variable_split.str[1]\n",
    "country_values"
   ],
   "metadata": {
    "collapsed": false
   }
  },
  {
   "cell_type": "code",
   "execution_count": 61,
   "outputs": [
    {
     "name": "stdout",
     "output_type": "stream",
     "text": [
      "Index(['Date', 'Day', 'variable', 'value'], dtype='object')\n"
     ]
    },
    {
     "data": {
      "text/plain": "            Date  Day      variable   value  status country\n0       1/5/2015  289  Cases_Guinea  2776.0   Cases  Guinea\n1       1/4/2015  288  Cases_Guinea  2775.0   Cases  Guinea\n2       1/3/2015  287  Cases_Guinea  2769.0   Cases  Guinea\n3       1/2/2015  286  Cases_Guinea     NaN   Cases  Guinea\n4     12/31/2014  284  Cases_Guinea  2730.0   Cases  Guinea\n...          ...  ...           ...     ...     ...     ...\n1947   3/27/2014    5   Deaths_Mali     NaN  Deaths    Mali\n1948   3/26/2014    4   Deaths_Mali     NaN  Deaths    Mali\n1949   3/25/2014    3   Deaths_Mali     NaN  Deaths    Mali\n1950   3/24/2014    2   Deaths_Mali     NaN  Deaths    Mali\n1951   3/22/2014    0   Deaths_Mali     NaN  Deaths    Mali\n\n[1952 rows x 6 columns]",
      "text/html": "<div>\n<style scoped>\n    .dataframe tbody tr th:only-of-type {\n        vertical-align: middle;\n    }\n\n    .dataframe tbody tr th {\n        vertical-align: top;\n    }\n\n    .dataframe thead th {\n        text-align: right;\n    }\n</style>\n<table border=\"1\" class=\"dataframe\">\n  <thead>\n    <tr style=\"text-align: right;\">\n      <th></th>\n      <th>Date</th>\n      <th>Day</th>\n      <th>variable</th>\n      <th>value</th>\n      <th>status</th>\n      <th>country</th>\n    </tr>\n  </thead>\n  <tbody>\n    <tr>\n      <th>0</th>\n      <td>1/5/2015</td>\n      <td>289</td>\n      <td>Cases_Guinea</td>\n      <td>2776.0</td>\n      <td>Cases</td>\n      <td>Guinea</td>\n    </tr>\n    <tr>\n      <th>1</th>\n      <td>1/4/2015</td>\n      <td>288</td>\n      <td>Cases_Guinea</td>\n      <td>2775.0</td>\n      <td>Cases</td>\n      <td>Guinea</td>\n    </tr>\n    <tr>\n      <th>2</th>\n      <td>1/3/2015</td>\n      <td>287</td>\n      <td>Cases_Guinea</td>\n      <td>2769.0</td>\n      <td>Cases</td>\n      <td>Guinea</td>\n    </tr>\n    <tr>\n      <th>3</th>\n      <td>1/2/2015</td>\n      <td>286</td>\n      <td>Cases_Guinea</td>\n      <td>NaN</td>\n      <td>Cases</td>\n      <td>Guinea</td>\n    </tr>\n    <tr>\n      <th>4</th>\n      <td>12/31/2014</td>\n      <td>284</td>\n      <td>Cases_Guinea</td>\n      <td>2730.0</td>\n      <td>Cases</td>\n      <td>Guinea</td>\n    </tr>\n    <tr>\n      <th>...</th>\n      <td>...</td>\n      <td>...</td>\n      <td>...</td>\n      <td>...</td>\n      <td>...</td>\n      <td>...</td>\n    </tr>\n    <tr>\n      <th>1947</th>\n      <td>3/27/2014</td>\n      <td>5</td>\n      <td>Deaths_Mali</td>\n      <td>NaN</td>\n      <td>Deaths</td>\n      <td>Mali</td>\n    </tr>\n    <tr>\n      <th>1948</th>\n      <td>3/26/2014</td>\n      <td>4</td>\n      <td>Deaths_Mali</td>\n      <td>NaN</td>\n      <td>Deaths</td>\n      <td>Mali</td>\n    </tr>\n    <tr>\n      <th>1949</th>\n      <td>3/25/2014</td>\n      <td>3</td>\n      <td>Deaths_Mali</td>\n      <td>NaN</td>\n      <td>Deaths</td>\n      <td>Mali</td>\n    </tr>\n    <tr>\n      <th>1950</th>\n      <td>3/24/2014</td>\n      <td>2</td>\n      <td>Deaths_Mali</td>\n      <td>NaN</td>\n      <td>Deaths</td>\n      <td>Mali</td>\n    </tr>\n    <tr>\n      <th>1951</th>\n      <td>3/22/2014</td>\n      <td>0</td>\n      <td>Deaths_Mali</td>\n      <td>NaN</td>\n      <td>Deaths</td>\n      <td>Mali</td>\n    </tr>\n  </tbody>\n</table>\n<p>1952 rows × 6 columns</p>\n</div>"
     },
     "execution_count": 61,
     "metadata": {},
     "output_type": "execute_result"
    }
   ],
   "source": [
    "print(ebola_long.columns)\n",
    "ebola_long['status'] = status_values\n",
    "ebola_long['country'] = country_values\n",
    "ebola_long"
   ],
   "metadata": {
    "collapsed": false
   }
  },
  {
   "cell_type": "code",
   "execution_count": 62,
   "outputs": [
    {
     "data": {
      "text/plain": "     status2 country2\n0      Cases   Guinea\n1      Cases   Guinea\n2      Cases   Guinea\n3      Cases   Guinea\n4      Cases   Guinea\n...      ...      ...\n1947  Deaths     Mali\n1948  Deaths     Mali\n1949  Deaths     Mali\n1950  Deaths     Mali\n1951  Deaths     Mali\n\n[1952 rows x 2 columns]",
      "text/html": "<div>\n<style scoped>\n    .dataframe tbody tr th:only-of-type {\n        vertical-align: middle;\n    }\n\n    .dataframe tbody tr th {\n        vertical-align: top;\n    }\n\n    .dataframe thead th {\n        text-align: right;\n    }\n</style>\n<table border=\"1\" class=\"dataframe\">\n  <thead>\n    <tr style=\"text-align: right;\">\n      <th></th>\n      <th>status2</th>\n      <th>country2</th>\n    </tr>\n  </thead>\n  <tbody>\n    <tr>\n      <th>0</th>\n      <td>Cases</td>\n      <td>Guinea</td>\n    </tr>\n    <tr>\n      <th>1</th>\n      <td>Cases</td>\n      <td>Guinea</td>\n    </tr>\n    <tr>\n      <th>2</th>\n      <td>Cases</td>\n      <td>Guinea</td>\n    </tr>\n    <tr>\n      <th>3</th>\n      <td>Cases</td>\n      <td>Guinea</td>\n    </tr>\n    <tr>\n      <th>4</th>\n      <td>Cases</td>\n      <td>Guinea</td>\n    </tr>\n    <tr>\n      <th>...</th>\n      <td>...</td>\n      <td>...</td>\n    </tr>\n    <tr>\n      <th>1947</th>\n      <td>Deaths</td>\n      <td>Mali</td>\n    </tr>\n    <tr>\n      <th>1948</th>\n      <td>Deaths</td>\n      <td>Mali</td>\n    </tr>\n    <tr>\n      <th>1949</th>\n      <td>Deaths</td>\n      <td>Mali</td>\n    </tr>\n    <tr>\n      <th>1950</th>\n      <td>Deaths</td>\n      <td>Mali</td>\n    </tr>\n    <tr>\n      <th>1951</th>\n      <td>Deaths</td>\n      <td>Mali</td>\n    </tr>\n  </tbody>\n</table>\n<p>1952 rows × 2 columns</p>\n</div>"
     },
     "execution_count": 62,
     "metadata": {},
     "output_type": "execute_result"
    }
   ],
   "source": [
    "# split() 메서드에 expand='True' 옵션을 지정하면 split() 메서드가 실행된 결과를 데이터프레임으로 만든다.\n",
    "variable_split = ebola_long.variable.str.split('_', expand=True)\n",
    "variable_split.columns = ['status2', 'country2']\n",
    "variable_split"
   ],
   "metadata": {
    "collapsed": false
   }
  },
  {
   "cell_type": "code",
   "execution_count": 63,
   "outputs": [
    {
     "data": {
      "text/plain": "            Date  Day      variable   value  status country status2 country2\n0       1/5/2015  289  Cases_Guinea  2776.0   Cases  Guinea   Cases   Guinea\n1       1/4/2015  288  Cases_Guinea  2775.0   Cases  Guinea   Cases   Guinea\n2       1/3/2015  287  Cases_Guinea  2769.0   Cases  Guinea   Cases   Guinea\n3       1/2/2015  286  Cases_Guinea     NaN   Cases  Guinea   Cases   Guinea\n4     12/31/2014  284  Cases_Guinea  2730.0   Cases  Guinea   Cases   Guinea\n...          ...  ...           ...     ...     ...     ...     ...      ...\n1947   3/27/2014    5   Deaths_Mali     NaN  Deaths    Mali  Deaths     Mali\n1948   3/26/2014    4   Deaths_Mali     NaN  Deaths    Mali  Deaths     Mali\n1949   3/25/2014    3   Deaths_Mali     NaN  Deaths    Mali  Deaths     Mali\n1950   3/24/2014    2   Deaths_Mali     NaN  Deaths    Mali  Deaths     Mali\n1951   3/22/2014    0   Deaths_Mali     NaN  Deaths    Mali  Deaths     Mali\n\n[1952 rows x 8 columns]",
      "text/html": "<div>\n<style scoped>\n    .dataframe tbody tr th:only-of-type {\n        vertical-align: middle;\n    }\n\n    .dataframe tbody tr th {\n        vertical-align: top;\n    }\n\n    .dataframe thead th {\n        text-align: right;\n    }\n</style>\n<table border=\"1\" class=\"dataframe\">\n  <thead>\n    <tr style=\"text-align: right;\">\n      <th></th>\n      <th>Date</th>\n      <th>Day</th>\n      <th>variable</th>\n      <th>value</th>\n      <th>status</th>\n      <th>country</th>\n      <th>status2</th>\n      <th>country2</th>\n    </tr>\n  </thead>\n  <tbody>\n    <tr>\n      <th>0</th>\n      <td>1/5/2015</td>\n      <td>289</td>\n      <td>Cases_Guinea</td>\n      <td>2776.0</td>\n      <td>Cases</td>\n      <td>Guinea</td>\n      <td>Cases</td>\n      <td>Guinea</td>\n    </tr>\n    <tr>\n      <th>1</th>\n      <td>1/4/2015</td>\n      <td>288</td>\n      <td>Cases_Guinea</td>\n      <td>2775.0</td>\n      <td>Cases</td>\n      <td>Guinea</td>\n      <td>Cases</td>\n      <td>Guinea</td>\n    </tr>\n    <tr>\n      <th>2</th>\n      <td>1/3/2015</td>\n      <td>287</td>\n      <td>Cases_Guinea</td>\n      <td>2769.0</td>\n      <td>Cases</td>\n      <td>Guinea</td>\n      <td>Cases</td>\n      <td>Guinea</td>\n    </tr>\n    <tr>\n      <th>3</th>\n      <td>1/2/2015</td>\n      <td>286</td>\n      <td>Cases_Guinea</td>\n      <td>NaN</td>\n      <td>Cases</td>\n      <td>Guinea</td>\n      <td>Cases</td>\n      <td>Guinea</td>\n    </tr>\n    <tr>\n      <th>4</th>\n      <td>12/31/2014</td>\n      <td>284</td>\n      <td>Cases_Guinea</td>\n      <td>2730.0</td>\n      <td>Cases</td>\n      <td>Guinea</td>\n      <td>Cases</td>\n      <td>Guinea</td>\n    </tr>\n    <tr>\n      <th>...</th>\n      <td>...</td>\n      <td>...</td>\n      <td>...</td>\n      <td>...</td>\n      <td>...</td>\n      <td>...</td>\n      <td>...</td>\n      <td>...</td>\n    </tr>\n    <tr>\n      <th>1947</th>\n      <td>3/27/2014</td>\n      <td>5</td>\n      <td>Deaths_Mali</td>\n      <td>NaN</td>\n      <td>Deaths</td>\n      <td>Mali</td>\n      <td>Deaths</td>\n      <td>Mali</td>\n    </tr>\n    <tr>\n      <th>1948</th>\n      <td>3/26/2014</td>\n      <td>4</td>\n      <td>Deaths_Mali</td>\n      <td>NaN</td>\n      <td>Deaths</td>\n      <td>Mali</td>\n      <td>Deaths</td>\n      <td>Mali</td>\n    </tr>\n    <tr>\n      <th>1949</th>\n      <td>3/25/2014</td>\n      <td>3</td>\n      <td>Deaths_Mali</td>\n      <td>NaN</td>\n      <td>Deaths</td>\n      <td>Mali</td>\n      <td>Deaths</td>\n      <td>Mali</td>\n    </tr>\n    <tr>\n      <th>1950</th>\n      <td>3/24/2014</td>\n      <td>2</td>\n      <td>Deaths_Mali</td>\n      <td>NaN</td>\n      <td>Deaths</td>\n      <td>Mali</td>\n      <td>Deaths</td>\n      <td>Mali</td>\n    </tr>\n    <tr>\n      <th>1951</th>\n      <td>3/22/2014</td>\n      <td>0</td>\n      <td>Deaths_Mali</td>\n      <td>NaN</td>\n      <td>Deaths</td>\n      <td>Mali</td>\n      <td>Deaths</td>\n      <td>Mali</td>\n    </tr>\n  </tbody>\n</table>\n<p>1952 rows × 8 columns</p>\n</div>"
     },
     "execution_count": 63,
     "metadata": {},
     "output_type": "execute_result"
    }
   ],
   "source": [
    "ebola_parsed = pd.concat([ebola_long, variable_split], axis=1)\n",
    "ebola_parsed"
   ],
   "metadata": {
    "collapsed": false
   }
  },
  {
   "cell_type": "code",
   "execution_count": 64,
   "outputs": [
    {
     "name": "stdout",
     "output_type": "stream",
     "text": [
      "<class 'pandas.core.series.Series'>\n"
     ]
    },
    {
     "data": {
      "text/plain": "0    서울시 종로구 관철동 123-45\n1    서울시 강남구 역삼동 789-45\ndtype: object"
     },
     "execution_count": 64,
     "metadata": {},
     "output_type": "execute_result"
    }
   ],
   "source": [
    "addr = pd.Series(['서울시 종로구 관철동 123-45', '서울시 강남구 역삼동 789-45'])\n",
    "print(type(addr))\n",
    "addr"
   ],
   "metadata": {
    "collapsed": false
   }
  },
  {
   "cell_type": "code",
   "execution_count": 67,
   "outputs": [
    {
     "data": {
      "text/plain": "    시도   구군  동읍면    세부주소\n0  서울시  종로구  관철동  123-45\n1  서울시  강남구  역삼동  789-45",
      "text/html": "<div>\n<style scoped>\n    .dataframe tbody tr th:only-of-type {\n        vertical-align: middle;\n    }\n\n    .dataframe tbody tr th {\n        vertical-align: top;\n    }\n\n    .dataframe thead th {\n        text-align: right;\n    }\n</style>\n<table border=\"1\" class=\"dataframe\">\n  <thead>\n    <tr style=\"text-align: right;\">\n      <th></th>\n      <th>시도</th>\n      <th>구군</th>\n      <th>동읍면</th>\n      <th>세부주소</th>\n    </tr>\n  </thead>\n  <tbody>\n    <tr>\n      <th>0</th>\n      <td>서울시</td>\n      <td>종로구</td>\n      <td>관철동</td>\n      <td>123-45</td>\n    </tr>\n    <tr>\n      <th>1</th>\n      <td>서울시</td>\n      <td>강남구</td>\n      <td>역삼동</td>\n      <td>789-45</td>\n    </tr>\n  </tbody>\n</table>\n</div>"
     },
     "execution_count": 67,
     "metadata": {},
     "output_type": "execute_result"
    }
   ],
   "source": [
    "addr_df = addr.str.split(' ', expand=True)\n",
    "addr_df.columns = ['시도', '구군', '동읍면', '세부주소']\n",
    "addr_df"
   ],
   "metadata": {
    "collapsed": false
   }
  },
  {
   "cell_type": "code",
   "execution_count": null,
   "outputs": [],
   "source": [],
   "metadata": {
    "collapsed": false
   }
  }
 ],
 "metadata": {
  "kernelspec": {
   "display_name": "Python 3",
   "language": "python",
   "name": "python3"
  },
  "language_info": {
   "codemirror_mode": {
    "name": "ipython",
    "version": 2
   },
   "file_extension": ".py",
   "mimetype": "text/x-python",
   "name": "python",
   "nbconvert_exporter": "python",
   "pygments_lexer": "ipython2",
   "version": "2.7.6"
  }
 },
 "nbformat": 4,
 "nbformat_minor": 0
}
