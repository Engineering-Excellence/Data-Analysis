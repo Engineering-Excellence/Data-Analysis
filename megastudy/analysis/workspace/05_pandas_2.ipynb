{
 "cells": [
  {
   "cell_type": "code",
   "execution_count": 1,
   "metadata": {
    "collapsed": true
   },
   "outputs": [],
   "source": [
    "import warnings\n",
    "\n",
    "warnings.filterwarnings('ignore')\n",
    "import pandas as pd"
   ]
  },
  {
   "cell_type": "markdown",
   "source": [
    "# pandas의 데이터프레임과 시리즈\n",
    "데이터프레임과 시리즈는 파이썬의 딕셔너리와 비슷하지만 데이터를 다루는데 더 특화되어 있다.\n",
    "리스트와 딕셔너리는 많은 양의 데이터를 저장하거나 데이터를 조작할 수 있는 함수가 많지 않은 반면에 pandas의 데이터프레임과 시리즈는 많은 양의 데이터를 저장할 수 있을 뿐만 아니라 스프레드시트 계열의 프로그램을 사용하는 것처럼 행과 열 단위로 데이터를 조작할 수 있는 다양한 함수와 속성들을 제공한다."
   ],
   "metadata": {
    "collapsed": false
   }
  },
  {
   "cell_type": "markdown",
   "source": [
    "# 시리즈(Series)\n",
    "시리즈를 만들기 위해서 리스트를 Series() 메서드의 인수로 전달한다."
   ],
   "metadata": {
    "collapsed": false
   }
  },
  {
   "cell_type": "code",
   "execution_count": 2,
   "outputs": [
    {
     "name": "stdout",
     "output_type": "stream",
     "text": [
      "<class 'pandas.core.series.Series'>\n"
     ]
    },
    {
     "data": {
      "text/plain": "0    Seoul\n1       42\ndtype: object"
     },
     "execution_count": 2,
     "metadata": {},
     "output_type": "execute_result"
    }
   ],
   "source": [
    "# 시리즈 만들기\n",
    "s = pd.Series(['Seoul', 42])\n",
    "print(type(s))\n",
    "s"
   ],
   "metadata": {
    "collapsed": false
   }
  },
  {
   "cell_type": "code",
   "execution_count": 3,
   "outputs": [
    {
     "name": "stdout",
     "output_type": "stream",
     "text": [
      "0     홍길동\n",
      "1    번쩍번쩍\n",
      "dtype: object\n",
      "홍길동\n",
      "번쩍번쩍\n",
      "홍길동\n",
      "번쩍번쩍\n"
     ]
    }
   ],
   "source": [
    "s = pd.Series(['홍길동', '번쩍번쩍'])\n",
    "print(s)\n",
    "print(s.loc[0])\n",
    "print(s.loc[1])\n",
    "print(s.iloc[0])\n",
    "print(s.iloc[1])"
   ],
   "metadata": {
    "collapsed": false
   }
  },
  {
   "cell_type": "code",
   "execution_count": 4,
   "outputs": [
    {
     "name": "stdout",
     "output_type": "stream",
     "text": [
      "name     홍길동\n",
      "job     번쩍번쩍\n",
      "dtype: object\n",
      "홍길동\n",
      "번쩍번쩍\n",
      "홍길동\n",
      "번쩍번쩍\n"
     ]
    }
   ],
   "source": [
    "# 시리즈를 생성할 때 문자열을 인덱스로 지정할 수 있다.\n",
    "# 문자열을 인덱스로 지정하려면 index 속성으로 문자열 리스트를 입력한다.\n",
    "s = pd.Series(['홍길동', '번쩍번쩍'], index=['name', 'job'])\n",
    "print(s)\n",
    "print(s.loc['name'])\n",
    "print(s.loc['job'])\n",
    "print(s.iloc[0])\n",
    "print(s.iloc[1])"
   ],
   "metadata": {
    "collapsed": false
   }
  },
  {
   "cell_type": "markdown",
   "source": [
    "# 데이터프레임(DataFrame)\n",
    "데이터프레임을 만들기 위해서 딕셔너리를 DataFrame() 메서드의 인수로 전달한다."
   ],
   "metadata": {
    "collapsed": false
   }
  },
  {
   "cell_type": "code",
   "execution_count": 5,
   "outputs": [
    {
     "name": "stdout",
     "output_type": "stream",
     "text": [
      "<class 'pandas.core.frame.DataFrame'>\n"
     ]
    },
    {
     "data": {
      "text/plain": "  name   job        born        died  age\n0  홍길동  번쩍번쩍  1569-04-20  1620-08-25   51\n1  임꺽정    의적  1875-06-10  1950-01-19   74",
      "text/html": "<div>\n<style scoped>\n    .dataframe tbody tr th:only-of-type {\n        vertical-align: middle;\n    }\n\n    .dataframe tbody tr th {\n        vertical-align: top;\n    }\n\n    .dataframe thead th {\n        text-align: right;\n    }\n</style>\n<table border=\"1\" class=\"dataframe\">\n  <thead>\n    <tr style=\"text-align: right;\">\n      <th></th>\n      <th>name</th>\n      <th>job</th>\n      <th>born</th>\n      <th>died</th>\n      <th>age</th>\n    </tr>\n  </thead>\n  <tbody>\n    <tr>\n      <th>0</th>\n      <td>홍길동</td>\n      <td>번쩍번쩍</td>\n      <td>1569-04-20</td>\n      <td>1620-08-25</td>\n      <td>51</td>\n    </tr>\n    <tr>\n      <th>1</th>\n      <td>임꺽정</td>\n      <td>의적</td>\n      <td>1875-06-10</td>\n      <td>1950-01-19</td>\n      <td>74</td>\n    </tr>\n  </tbody>\n</table>\n</div>"
     },
     "execution_count": 5,
     "metadata": {},
     "output_type": "execute_result"
    }
   ],
   "source": [
    "df = pd.DataFrame({\n",
    "    # 'key': [value, ...]   # key가 데이터프레임의 열 이름이 되고, value는 데이터가 된다.\n",
    "    'name': ['홍길동', '임꺽정'],\n",
    "    'job': ['번쩍번쩍', '의적'],\n",
    "    'born': ['1569-04-20', '1875-06-10'],\n",
    "    'died': ['1620-08-25', '1950-01-19'],\n",
    "    'age': [51, 74]\n",
    "})\n",
    "print(type(df))\n",
    "df"
   ],
   "metadata": {
    "collapsed": false
   }
  },
  {
   "cell_type": "code",
   "execution_count": 6,
   "outputs": [
    {
     "name": "stdout",
     "output_type": "stream",
     "text": [
      "<class 'pandas.core.frame.DataFrame'>\n"
     ]
    },
    {
     "data": {
      "text/plain": "      job  age\n홍길동  번쩍번쩍   51\n임꺽정    의적   74",
      "text/html": "<div>\n<style scoped>\n    .dataframe tbody tr th:only-of-type {\n        vertical-align: middle;\n    }\n\n    .dataframe tbody tr th {\n        vertical-align: top;\n    }\n\n    .dataframe thead th {\n        text-align: right;\n    }\n</style>\n<table border=\"1\" class=\"dataframe\">\n  <thead>\n    <tr style=\"text-align: right;\">\n      <th></th>\n      <th>job</th>\n      <th>age</th>\n    </tr>\n  </thead>\n  <tbody>\n    <tr>\n      <th>홍길동</th>\n      <td>번쩍번쩍</td>\n      <td>51</td>\n    </tr>\n    <tr>\n      <th>임꺽정</th>\n      <td>의적</td>\n      <td>74</td>\n    </tr>\n  </tbody>\n</table>\n</div>"
     },
     "execution_count": 6,
     "metadata": {},
     "output_type": "execute_result"
    }
   ],
   "source": [
    "# DataFrame() 메서드의 data 속성으로 딕셔너리 형태의 데이터를 지정하고 index 속성으로 인덱스를 지정할 수 있다.\n",
    "# columns 속성으로 열 이름을 지정할 수 있다. data 속성에 지정한 key와 같은 열 이름만 데이터프레임으로 만들어진다.\n",
    "df = pd.DataFrame(\n",
    "    data={\n",
    "        'job': ['번쩍번쩍', '의적'],\n",
    "        'born': ['1569-04-20', '1875-06-10'],\n",
    "        'died': ['1620-08-25', '1950-01-19'],\n",
    "        'age': [51, 74]\n",
    "    },\n",
    "    index=['홍길동', '임꺽정'],\n",
    "    columns=['job', 'age']\n",
    ")\n",
    "print(type(df))\n",
    "df"
   ],
   "metadata": {
    "collapsed": false
   }
  },
  {
   "cell_type": "code",
   "execution_count": 7,
   "outputs": [
    {
     "name": "stdout",
     "output_type": "stream",
     "text": [
      "<class 'pandas.core.frame.DataFrame'>\n"
     ]
    },
    {
     "data": {
      "text/plain": "  name   job        born        died  age\n0  홍길동  번쩍번쩍  1569-04-20  1620-08-25   51\n1  임꺽정    의적  1875-06-10  1950-01-19   74",
      "text/html": "<div>\n<style scoped>\n    .dataframe tbody tr th:only-of-type {\n        vertical-align: middle;\n    }\n\n    .dataframe tbody tr th {\n        vertical-align: top;\n    }\n\n    .dataframe thead th {\n        text-align: right;\n    }\n</style>\n<table border=\"1\" class=\"dataframe\">\n  <thead>\n    <tr style=\"text-align: right;\">\n      <th></th>\n      <th>name</th>\n      <th>job</th>\n      <th>born</th>\n      <th>died</th>\n      <th>age</th>\n    </tr>\n  </thead>\n  <tbody>\n    <tr>\n      <th>0</th>\n      <td>홍길동</td>\n      <td>번쩍번쩍</td>\n      <td>1569-04-20</td>\n      <td>1620-08-25</td>\n      <td>51</td>\n    </tr>\n    <tr>\n      <th>1</th>\n      <td>임꺽정</td>\n      <td>의적</td>\n      <td>1875-06-10</td>\n      <td>1950-01-19</td>\n      <td>74</td>\n    </tr>\n  </tbody>\n</table>\n</div>"
     },
     "execution_count": 7,
     "metadata": {},
     "output_type": "execute_result"
    }
   ],
   "source": [
    "# 딕셔너리는 key와 value로 이루어진 한 쌍의 데이터로, 입력되는 데이터들의 순서를 보장하지 않는다.\n",
    "# 순서가 보장되는 딕셔너리를 전달하려면 collections 모듈의 OrderedDict() 함수를 import 하고 튜플 형태의 인수를 전달하면 데이터의 순서를 그대로 유지하면서 데이터프레임을 만들 수 있다.\n",
    "from collections import OrderedDict\n",
    "\n",
    "df = pd.DataFrame(\n",
    "    OrderedDict([\n",
    "        ('name', ['홍길동', '임꺽정']),\n",
    "        ('job', ['번쩍번쩍', '의적']),\n",
    "        ('born', ['1569-04-20', '1875-06-10']),\n",
    "        ('died', ['1620-08-25', '1950-01-19']),\n",
    "        ('age', [51, 74])\n",
    "    ])\n",
    ")\n",
    "print(type(df))\n",
    "df"
   ],
   "metadata": {
    "collapsed": false
   }
  },
  {
   "cell_type": "markdown",
   "source": [
    "# 시리즈 다루기"
   ],
   "metadata": {
    "collapsed": false
   }
  },
  {
   "cell_type": "code",
   "execution_count": 8,
   "outputs": [
    {
     "name": "stdout",
     "output_type": "stream",
     "text": [
      "<class 'pandas.core.frame.DataFrame'>\n"
     ]
    },
    {
     "data": {
      "text/plain": "      job  age\n홍길동  번쩍번쩍   51\n임꺽정    의적   74",
      "text/html": "<div>\n<style scoped>\n    .dataframe tbody tr th:only-of-type {\n        vertical-align: middle;\n    }\n\n    .dataframe tbody tr th {\n        vertical-align: top;\n    }\n\n    .dataframe thead th {\n        text-align: right;\n    }\n</style>\n<table border=\"1\" class=\"dataframe\">\n  <thead>\n    <tr style=\"text-align: right;\">\n      <th></th>\n      <th>job</th>\n      <th>age</th>\n    </tr>\n  </thead>\n  <tbody>\n    <tr>\n      <th>홍길동</th>\n      <td>번쩍번쩍</td>\n      <td>51</td>\n    </tr>\n    <tr>\n      <th>임꺽정</th>\n      <td>의적</td>\n      <td>74</td>\n    </tr>\n  </tbody>\n</table>\n</div>"
     },
     "execution_count": 8,
     "metadata": {},
     "output_type": "execute_result"
    }
   ],
   "source": [
    "df = pd.DataFrame(\n",
    "    data={\n",
    "        'job': ['번쩍번쩍', '의적'],\n",
    "        'born': ['1569-04-20', '1875-06-10'],\n",
    "        'died': ['1620-08-25', '1950-01-19'],\n",
    "        'age': [51, 74]\n",
    "    },\n",
    "    index=['홍길동', '임꺽정'],\n",
    "    columns=['job', 'age']\n",
    ")\n",
    "print(type(df))\n",
    "df"
   ],
   "metadata": {
    "collapsed": false
   }
  },
  {
   "cell_type": "code",
   "execution_count": 9,
   "outputs": [
    {
     "name": "stdout",
     "output_type": "stream",
     "text": [
      "<class 'pandas.core.series.Series'>\n"
     ]
    },
    {
     "data": {
      "text/plain": "job    번쩍번쩍\nage      51\nName: 홍길동, dtype: object"
     },
     "execution_count": 9,
     "metadata": {},
     "output_type": "execute_result"
    }
   ],
   "source": [
    "# 데이터프레임에서 시리즈를 선택하려면 loc 속성에 인덱스(행 또는 열 이름)을 전달하거나 iloc 속성에 행 또는 열 일련번호를 전달한다.\n",
    "row = df.iloc[0, :]\n",
    "print(type(row))\n",
    "row"
   ],
   "metadata": {
    "collapsed": false
   }
  },
  {
   "cell_type": "code",
   "execution_count": 10,
   "outputs": [
    {
     "data": {
      "text/plain": "홍길동    번쩍번쩍\n임꺽정      의적\nName: job, dtype: object"
     },
     "execution_count": 10,
     "metadata": {},
     "output_type": "execute_result"
    }
   ],
   "source": [
    "col = df.loc[:, 'job']\n",
    "col"
   ],
   "metadata": {
    "collapsed": false
   }
  },
  {
   "cell_type": "markdown",
   "source": [
    "index, values 속성과 key() 메서드"
   ],
   "metadata": {
    "collapsed": false
   }
  },
  {
   "cell_type": "code",
   "execution_count": 11,
   "outputs": [
    {
     "name": "stdout",
     "output_type": "stream",
     "text": [
      "<class 'pandas.core.indexes.base.Index'>\n",
      "Index(['job', 'age'], dtype='object')\n",
      "Index(['홍길동', '임꺽정'], dtype='object')\n"
     ]
    }
   ],
   "source": [
    "# index 속성은 시리즈의 인덱스를 얻어온다.\n",
    "print(type(row.index))\n",
    "print(row.index)\n",
    "print(col.index)"
   ],
   "metadata": {
    "collapsed": false
   }
  },
  {
   "cell_type": "code",
   "execution_count": 12,
   "outputs": [
    {
     "name": "stdout",
     "output_type": "stream",
     "text": [
      "<class 'pandas.core.indexes.base.Index'>\n",
      "Index(['job', 'age'], dtype='object')\n",
      "Index(['홍길동', '임꺽정'], dtype='object')\n"
     ]
    }
   ],
   "source": [
    "# keys() 메서드는 index 속성과 동일하게 시리즈의 인덱스를 얻어온다.\n",
    "print(type(row.keys()))\n",
    "print(row.keys())\n",
    "print(col.keys())"
   ],
   "metadata": {
    "collapsed": false
   }
  },
  {
   "cell_type": "code",
   "execution_count": 13,
   "outputs": [
    {
     "name": "stdout",
     "output_type": "stream",
     "text": [
      "<class 'str'>\n",
      "job\n",
      "<class 'str'>\n",
      "임꺽정\n"
     ]
    }
   ],
   "source": [
    "# index 속성의 특정 값 추출하기\n",
    "print(type(row.index[0]))\n",
    "print(row.index[0])\n",
    "print(type(col.index[1]))\n",
    "print(col.index[1])"
   ],
   "metadata": {
    "collapsed": false
   }
  },
  {
   "cell_type": "code",
   "execution_count": 14,
   "outputs": [
    {
     "name": "stdout",
     "output_type": "stream",
     "text": [
      "<class 'numpy.ndarray'>\n",
      "['번쩍번쩍' 51]\n",
      "['번쩍번쩍' '의적']\n"
     ]
    }
   ],
   "source": [
    "# values 속성은 시리즈의 데이터를 numpy 배열 형태로 얻어온다.\n",
    "print(type(row.values))\n",
    "print(row.values)\n",
    "print(col.values)"
   ],
   "metadata": {
    "collapsed": false
   }
  },
  {
   "cell_type": "code",
   "execution_count": 15,
   "outputs": [
    {
     "name": "stdout",
     "output_type": "stream",
     "text": [
      "<class 'str'>\n",
      "번쩍번쩍\n",
      "<class 'str'>\n",
      "의적\n"
     ]
    }
   ],
   "source": [
    "# values 속성의 특정 값 추출하기\n",
    "print(type(row.values[0]))\n",
    "print(row.values[0])\n",
    "print(type(col.values[1]))\n",
    "print(col.values[1])"
   ],
   "metadata": {
    "collapsed": false
   }
  },
  {
   "cell_type": "markdown",
   "source": [
    "# 시리즈 기초 통계 메서드"
   ],
   "metadata": {
    "collapsed": false
   }
  },
  {
   "cell_type": "code",
   "execution_count": 16,
   "outputs": [
    {
     "name": "stdout",
     "output_type": "stream",
     "text": [
      "<class 'pandas.core.series.Series'>\n",
      "홍길동    51\n",
      "임꺽정    74\n",
      "Name: age, dtype: int64\n",
      "================================================================================\n",
      "max = 74\n",
      "min = 51\n",
      "sum = 125\n",
      "mean = 62.5\n",
      "std = 16.263455967290593\n"
     ]
    }
   ],
   "source": [
    "ages = df['age']\n",
    "# ages = df.get('age')\n",
    "# ages = df.age\n",
    "print(type(ages))\n",
    "print(ages)\n",
    "print('=' * 80)\n",
    "\n",
    "print('max =', ages.max())\n",
    "print('min =', ages.min())\n",
    "print('sum =', ages.sum())\n",
    "print('mean =', ages.mean())\n",
    "print('std =', ages.std())"
   ],
   "metadata": {
    "collapsed": false
   }
  },
  {
   "cell_type": "code",
   "execution_count": 17,
   "outputs": [
    {
     "name": "stdout",
     "output_type": "stream",
     "text": [
      "<class 'pandas.core.frame.DataFrame'>\n"
     ]
    },
    {
     "data": {
      "text/plain": "                   Name        Born        Died  Age          Occupation\n0     Rosaline Franklin  1920-07-25  1958-04-16   37             Chemist\n1        William Gosset  1876-06-13  1937-10-16   61        Statistician\n2  Florence Nightingale  1820-05-12  1910-08-13   90               Nurse\n3           Marie Curie  1867-11-07  1934-07-04   66             Chemist\n4         Rachel Carson  1907-05-27  1964-04-14   56           Biologist\n5             John Snow  1813-03-15  1858-06-16   45           Physician\n6           Alan Turing  1912-06-23  1954-06-07   41  Computer Scientist\n7          Johann Gauss  1777-04-30  1855-02-23   77       Mathematician",
      "text/html": "<div>\n<style scoped>\n    .dataframe tbody tr th:only-of-type {\n        vertical-align: middle;\n    }\n\n    .dataframe tbody tr th {\n        vertical-align: top;\n    }\n\n    .dataframe thead th {\n        text-align: right;\n    }\n</style>\n<table border=\"1\" class=\"dataframe\">\n  <thead>\n    <tr style=\"text-align: right;\">\n      <th></th>\n      <th>Name</th>\n      <th>Born</th>\n      <th>Died</th>\n      <th>Age</th>\n      <th>Occupation</th>\n    </tr>\n  </thead>\n  <tbody>\n    <tr>\n      <th>0</th>\n      <td>Rosaline Franklin</td>\n      <td>1920-07-25</td>\n      <td>1958-04-16</td>\n      <td>37</td>\n      <td>Chemist</td>\n    </tr>\n    <tr>\n      <th>1</th>\n      <td>William Gosset</td>\n      <td>1876-06-13</td>\n      <td>1937-10-16</td>\n      <td>61</td>\n      <td>Statistician</td>\n    </tr>\n    <tr>\n      <th>2</th>\n      <td>Florence Nightingale</td>\n      <td>1820-05-12</td>\n      <td>1910-08-13</td>\n      <td>90</td>\n      <td>Nurse</td>\n    </tr>\n    <tr>\n      <th>3</th>\n      <td>Marie Curie</td>\n      <td>1867-11-07</td>\n      <td>1934-07-04</td>\n      <td>66</td>\n      <td>Chemist</td>\n    </tr>\n    <tr>\n      <th>4</th>\n      <td>Rachel Carson</td>\n      <td>1907-05-27</td>\n      <td>1964-04-14</td>\n      <td>56</td>\n      <td>Biologist</td>\n    </tr>\n    <tr>\n      <th>5</th>\n      <td>John Snow</td>\n      <td>1813-03-15</td>\n      <td>1858-06-16</td>\n      <td>45</td>\n      <td>Physician</td>\n    </tr>\n    <tr>\n      <th>6</th>\n      <td>Alan Turing</td>\n      <td>1912-06-23</td>\n      <td>1954-06-07</td>\n      <td>41</td>\n      <td>Computer Scientist</td>\n    </tr>\n    <tr>\n      <th>7</th>\n      <td>Johann Gauss</td>\n      <td>1777-04-30</td>\n      <td>1855-02-23</td>\n      <td>77</td>\n      <td>Mathematician</td>\n    </tr>\n  </tbody>\n</table>\n</div>"
     },
     "execution_count": 17,
     "metadata": {},
     "output_type": "execute_result"
    }
   ],
   "source": [
    "scientists = pd.read_csv('./data/scientists.csv', sep=',')\n",
    "print(type(scientists))\n",
    "scientists"
   ],
   "metadata": {
    "collapsed": false
   }
  },
  {
   "cell_type": "code",
   "execution_count": 18,
   "outputs": [
    {
     "name": "stdout",
     "output_type": "stream",
     "text": [
      "<class 'pandas.core.series.Series'>\n",
      "0    37\n",
      "1    61\n",
      "2    90\n",
      "3    66\n",
      "4    56\n",
      "5    45\n",
      "6    41\n",
      "7    77\n",
      "Name: Age, dtype: int64\n",
      "================================================================================\n",
      "max = 90\n",
      "min = 37\n",
      "sum = 473\n",
      "mean = 59.125\n",
      "std = 18.325918413937288\n"
     ]
    }
   ],
   "source": [
    "ages = scientists.Age\n",
    "print(type(ages))\n",
    "print(ages)\n",
    "print('=' * 80)\n",
    "\n",
    "print('max =', ages.max())\n",
    "print('min =', ages.min())\n",
    "print('sum =', ages.sum())\n",
    "print('mean =', ages.mean())\n",
    "print('std =', ages.std())"
   ],
   "metadata": {
    "collapsed": false
   }
  },
  {
   "cell_type": "code",
   "execution_count": 19,
   "outputs": [
    {
     "data": {
      "text/plain": "                   Name        Born        Died  Age     Occupation\n1        William Gosset  1876-06-13  1937-10-16   61   Statistician\n2  Florence Nightingale  1820-05-12  1910-08-13   90          Nurse\n3           Marie Curie  1867-11-07  1934-07-04   66        Chemist\n7          Johann Gauss  1777-04-30  1855-02-23   77  Mathematician",
      "text/html": "<div>\n<style scoped>\n    .dataframe tbody tr th:only-of-type {\n        vertical-align: middle;\n    }\n\n    .dataframe tbody tr th {\n        vertical-align: top;\n    }\n\n    .dataframe thead th {\n        text-align: right;\n    }\n</style>\n<table border=\"1\" class=\"dataframe\">\n  <thead>\n    <tr style=\"text-align: right;\">\n      <th></th>\n      <th>Name</th>\n      <th>Born</th>\n      <th>Died</th>\n      <th>Age</th>\n      <th>Occupation</th>\n    </tr>\n  </thead>\n  <tbody>\n    <tr>\n      <th>1</th>\n      <td>William Gosset</td>\n      <td>1876-06-13</td>\n      <td>1937-10-16</td>\n      <td>61</td>\n      <td>Statistician</td>\n    </tr>\n    <tr>\n      <th>2</th>\n      <td>Florence Nightingale</td>\n      <td>1820-05-12</td>\n      <td>1910-08-13</td>\n      <td>90</td>\n      <td>Nurse</td>\n    </tr>\n    <tr>\n      <th>3</th>\n      <td>Marie Curie</td>\n      <td>1867-11-07</td>\n      <td>1934-07-04</td>\n      <td>66</td>\n      <td>Chemist</td>\n    </tr>\n    <tr>\n      <th>7</th>\n      <td>Johann Gauss</td>\n      <td>1777-04-30</td>\n      <td>1855-02-23</td>\n      <td>77</td>\n      <td>Mathematician</td>\n    </tr>\n  </tbody>\n</table>\n</div>"
     },
     "execution_count": 19,
     "metadata": {},
     "output_type": "execute_result"
    }
   ],
   "source": [
    "# 평균 나이(59.125)보다 나이가 많은 사람의 데이터만 추출한다.\n",
    "scientists[ages > ages.mean()]"
   ],
   "metadata": {
    "collapsed": false
   }
  },
  {
   "cell_type": "code",
   "execution_count": 20,
   "outputs": [
    {
     "name": "stdout",
     "output_type": "stream",
     "text": [
      "0    False\n",
      "1     True\n",
      "2     True\n",
      "3     True\n",
      "4    False\n",
      "5    False\n",
      "6    False\n",
      "7     True\n",
      "Name: Age, dtype: bool\n"
     ]
    },
    {
     "data": {
      "text/plain": "1    61\n2    90\n3    66\n7    77\nName: Age, dtype: int64"
     },
     "execution_count": 20,
     "metadata": {},
     "output_type": "execute_result"
    }
   ],
   "source": [
    "bool_value = ages > ages.mean()\n",
    "print(bool_value)\n",
    "ages[bool_value]"
   ],
   "metadata": {
    "collapsed": false
   }
  },
  {
   "cell_type": "markdown",
   "source": [
    "# 브로드 캐스팅\n",
    "ages > ages.mean()처럼 시리즈나 데이터프레임의 모든 데이터에 대해 한 번에 연산하는 것을 브로드 캐스팅이라 한다.\n",
    "여러 개의 값을 가진 데이터를 벡터라 하고 단순 크기를 나타내는 데이터를 스칼라라 부른다."
   ],
   "metadata": {
    "collapsed": false
   }
  },
  {
   "cell_type": "code",
   "execution_count": 21,
   "outputs": [
    {
     "name": "stdout",
     "output_type": "stream",
     "text": [
      "  37   61   90   66   56   45   41   77 "
     ]
    }
   ],
   "source": [
    "for age in ages:\n",
    "    print('{:4d}'.format(age), end=' ')"
   ],
   "metadata": {
    "collapsed": false
   }
  },
  {
   "cell_type": "code",
   "execution_count": 22,
   "outputs": [
    {
     "name": "stdout",
     "output_type": "stream",
     "text": [
      "  74  122  180  132  112   90   82  154 \n",
      "1369 3721 8100 4356 3136 2025 1681 5929 "
     ]
    }
   ],
   "source": [
    "# 같은 길이의 벡터로 연산을 하면 결괏값으로 같은 길이의 벡터가 출력된다.\n",
    "for age in ages + ages:\n",
    "    print('{:4d}'.format(age), end=' ')\n",
    "print()\n",
    "for age in ages * ages:\n",
    "    print('{:4d}'.format(age), end=' ')"
   ],
   "metadata": {
    "collapsed": false
   }
  },
  {
   "cell_type": "code",
   "execution_count": 23,
   "outputs": [
    {
     "name": "stdout",
     "output_type": "stream",
     "text": [
      " 137  161  190  166  156  145  141  177 \n",
      "  74  122  180  132  112   90   82  154 "
     ]
    }
   ],
   "source": [
    "# 벡터에 스칼라 값을 연산하면 벡터 각각의 값에 스칼라 값이 연산된 결과가 출력된다.\n",
    "for age in ages + 100:\n",
    "    print('{:4d}'.format(age), end=' ')\n",
    "print()\n",
    "for age in ages * 2:\n",
    "    print('{:4d}'.format(age), end=' ')"
   ],
   "metadata": {
    "collapsed": false
   }
  },
  {
   "cell_type": "code",
   "execution_count": 24,
   "outputs": [
    {
     "name": "stdout",
     "output_type": "stream",
     "text": [
      "0      1\n",
      "1    100\n",
      "dtype: int64\n",
      "0     38.0\n",
      "1    161.0\n",
      "2      NaN\n",
      "3      NaN\n",
      "4      NaN\n",
      "5      NaN\n",
      "6      NaN\n",
      "7      NaN\n",
      "dtype: float64\n"
     ]
    }
   ],
   "source": [
    "# 길이가 서로 다른 벡터를 연산하면 같은 인덱스끼리의 값만 계산된다.\n",
    "print(pd.Series([1, 100]))\n",
    "# pd.Series([1, 100])의 0, 1 인덱스만 계산되고 나머지는 계산할 수 없으므로 누락값(NaN, nan, NA, na, 결측치)으로 처리된다.\n",
    "print(ages + pd.Series([1, 100]))"
   ],
   "metadata": {
    "collapsed": false
   }
  },
  {
   "cell_type": "markdown",
   "source": [
    "# 시리즈 정렬\n",
    "- sort_index() 메서드는 인덱스를 정렬한다.\n",
    "- sort_values() 메서드는 데이터를 정렬한다."
   ],
   "metadata": {
    "collapsed": false
   }
  },
  {
   "cell_type": "code",
   "execution_count": 25,
   "outputs": [
    {
     "name": "stdout",
     "output_type": "stream",
     "text": [
      "0    37\n",
      "1    61\n",
      "2    90\n",
      "3    66\n",
      "4    56\n",
      "5    45\n",
      "6    41\n",
      "7    77\n",
      "Name: Age, dtype: int64\n",
      "0    37\n",
      "1    61\n",
      "2    90\n",
      "3    66\n",
      "4    56\n",
      "5    45\n",
      "6    41\n",
      "7    77\n",
      "Name: Age, dtype: int64\n",
      "0    37\n",
      "6    41\n",
      "5    45\n",
      "4    56\n",
      "1    61\n",
      "3    66\n",
      "7    77\n",
      "2    90\n",
      "Name: Age, dtype: int64\n",
      "2    90\n",
      "7    77\n",
      "3    66\n",
      "1    61\n",
      "4    56\n",
      "5    45\n",
      "6    41\n",
      "0    37\n",
      "Name: Age, dtype: int64\n"
     ]
    }
   ],
   "source": [
    "print(ages)\n",
    "# sort_index()와 sort_values()의 정렬 방식은 오름차순 정렬이 기본값으로 사용된다.(ascending=True)\n",
    "print(ages.sort_index())\n",
    "print(ages.sort_values())\n",
    "print(ages.sort_values(ascending=False))"
   ],
   "metadata": {
    "collapsed": false
   }
  },
  {
   "cell_type": "code",
   "execution_count": 26,
   "outputs": [
    {
     "name": "stdout",
     "output_type": "stream",
     "text": [
      "0    37\n",
      "1    61\n",
      "2    90\n",
      "3    66\n",
      "4    56\n",
      "5    45\n",
      "6    41\n",
      "7    77\n",
      "Name: Age, dtype: int64\n",
      "7    77\n",
      "6    41\n",
      "5    45\n",
      "4    56\n",
      "3    66\n",
      "2    90\n",
      "1    61\n",
      "0    37\n",
      "Name: Age, dtype: int64\n",
      "  74  122  180  132  112   90   82  154 "
     ]
    }
   ],
   "source": [
    "print(ages)\n",
    "rev_args = ages.sort_index(ascending=False)\n",
    "print(rev_args)\n",
    "# 벡터 간 연산은 동일한 인덱스를 가지는 값끼리 수행하기 때문에 age * 2와 같은 결과로 계산된다.\n",
    "for age in ages + rev_args:\n",
    "    print('{:4d}'.format(age), end=' ')"
   ],
   "metadata": {
    "collapsed": false
   }
  },
  {
   "cell_type": "markdown",
   "source": [
    "데이터프레임도 시리즈와 마찬가지로 불린 인덱싱과 브로드 캐스팅을 할 수 있다."
   ],
   "metadata": {
    "collapsed": false
   }
  },
  {
   "cell_type": "code",
   "execution_count": 27,
   "outputs": [
    {
     "name": "stdout",
     "output_type": "stream",
     "text": [
      "                   Name        Born        Died  Age          Occupation\n",
      "0     Rosaline Franklin  1920-07-25  1958-04-16   37             Chemist\n",
      "1        William Gosset  1876-06-13  1937-10-16   61        Statistician\n",
      "2  Florence Nightingale  1820-05-12  1910-08-13   90               Nurse\n",
      "3           Marie Curie  1867-11-07  1934-07-04   66             Chemist\n",
      "4         Rachel Carson  1907-05-27  1964-04-14   56           Biologist\n",
      "5             John Snow  1813-03-15  1858-06-16   45           Physician\n",
      "6           Alan Turing  1912-06-23  1954-06-07   41  Computer Scientist\n",
      "7          Johann Gauss  1777-04-30  1855-02-23   77       Mathematician\n"
     ]
    },
    {
     "data": {
      "text/plain": "                   Name        Born        Died  Age     Occupation\n1        William Gosset  1876-06-13  1937-10-16   61   Statistician\n2  Florence Nightingale  1820-05-12  1910-08-13   90          Nurse\n3           Marie Curie  1867-11-07  1934-07-04   66        Chemist\n7          Johann Gauss  1777-04-30  1855-02-23   77  Mathematician",
      "text/html": "<div>\n<style scoped>\n    .dataframe tbody tr th:only-of-type {\n        vertical-align: middle;\n    }\n\n    .dataframe tbody tr th {\n        vertical-align: top;\n    }\n\n    .dataframe thead th {\n        text-align: right;\n    }\n</style>\n<table border=\"1\" class=\"dataframe\">\n  <thead>\n    <tr style=\"text-align: right;\">\n      <th></th>\n      <th>Name</th>\n      <th>Born</th>\n      <th>Died</th>\n      <th>Age</th>\n      <th>Occupation</th>\n    </tr>\n  </thead>\n  <tbody>\n    <tr>\n      <th>1</th>\n      <td>William Gosset</td>\n      <td>1876-06-13</td>\n      <td>1937-10-16</td>\n      <td>61</td>\n      <td>Statistician</td>\n    </tr>\n    <tr>\n      <th>2</th>\n      <td>Florence Nightingale</td>\n      <td>1820-05-12</td>\n      <td>1910-08-13</td>\n      <td>90</td>\n      <td>Nurse</td>\n    </tr>\n    <tr>\n      <th>3</th>\n      <td>Marie Curie</td>\n      <td>1867-11-07</td>\n      <td>1934-07-04</td>\n      <td>66</td>\n      <td>Chemist</td>\n    </tr>\n    <tr>\n      <th>7</th>\n      <td>Johann Gauss</td>\n      <td>1777-04-30</td>\n      <td>1855-02-23</td>\n      <td>77</td>\n      <td>Mathematician</td>\n    </tr>\n  </tbody>\n</table>\n</div>"
     },
     "execution_count": 27,
     "metadata": {},
     "output_type": "execute_result"
    }
   ],
   "source": [
    "print(scientists)\n",
    "scientists[scientists.Age > scientists.Age.mean()]"
   ],
   "metadata": {
    "collapsed": false
   }
  },
  {
   "cell_type": "code",
   "execution_count": 28,
   "outputs": [
    {
     "data": {
      "text/plain": "                                       Name                  Born  \\\n0        Rosaline FranklinRosaline Franklin  1920-07-251920-07-25   \n1              William GossetWilliam Gosset  1876-06-131876-06-13   \n2  Florence NightingaleFlorence Nightingale  1820-05-121820-05-12   \n3                    Marie CurieMarie Curie  1867-11-071867-11-07   \n4                Rachel CarsonRachel Carson  1907-05-271907-05-27   \n5                        John SnowJohn Snow  1813-03-151813-03-15   \n6                    Alan TuringAlan Turing  1912-06-231912-06-23   \n7                  Johann GaussJohann Gauss  1777-04-301777-04-30   \n\n                   Died  Age                            Occupation  \n0  1958-04-161958-04-16   74                        ChemistChemist  \n1  1937-10-161937-10-16  122              StatisticianStatistician  \n2  1910-08-131910-08-13  180                            NurseNurse  \n3  1934-07-041934-07-04  132                        ChemistChemist  \n4  1964-04-141964-04-14  112                    BiologistBiologist  \n5  1858-06-161858-06-16   90                    PhysicianPhysician  \n6  1954-06-071954-06-07   82  Computer ScientistComputer Scientist  \n7  1855-02-231855-02-23  154            MathematicianMathematician  ",
      "text/html": "<div>\n<style scoped>\n    .dataframe tbody tr th:only-of-type {\n        vertical-align: middle;\n    }\n\n    .dataframe tbody tr th {\n        vertical-align: top;\n    }\n\n    .dataframe thead th {\n        text-align: right;\n    }\n</style>\n<table border=\"1\" class=\"dataframe\">\n  <thead>\n    <tr style=\"text-align: right;\">\n      <th></th>\n      <th>Name</th>\n      <th>Born</th>\n      <th>Died</th>\n      <th>Age</th>\n      <th>Occupation</th>\n    </tr>\n  </thead>\n  <tbody>\n    <tr>\n      <th>0</th>\n      <td>Rosaline FranklinRosaline Franklin</td>\n      <td>1920-07-251920-07-25</td>\n      <td>1958-04-161958-04-16</td>\n      <td>74</td>\n      <td>ChemistChemist</td>\n    </tr>\n    <tr>\n      <th>1</th>\n      <td>William GossetWilliam Gosset</td>\n      <td>1876-06-131876-06-13</td>\n      <td>1937-10-161937-10-16</td>\n      <td>122</td>\n      <td>StatisticianStatistician</td>\n    </tr>\n    <tr>\n      <th>2</th>\n      <td>Florence NightingaleFlorence Nightingale</td>\n      <td>1820-05-121820-05-12</td>\n      <td>1910-08-131910-08-13</td>\n      <td>180</td>\n      <td>NurseNurse</td>\n    </tr>\n    <tr>\n      <th>3</th>\n      <td>Marie CurieMarie Curie</td>\n      <td>1867-11-071867-11-07</td>\n      <td>1934-07-041934-07-04</td>\n      <td>132</td>\n      <td>ChemistChemist</td>\n    </tr>\n    <tr>\n      <th>4</th>\n      <td>Rachel CarsonRachel Carson</td>\n      <td>1907-05-271907-05-27</td>\n      <td>1964-04-141964-04-14</td>\n      <td>112</td>\n      <td>BiologistBiologist</td>\n    </tr>\n    <tr>\n      <th>5</th>\n      <td>John SnowJohn Snow</td>\n      <td>1813-03-151813-03-15</td>\n      <td>1858-06-161858-06-16</td>\n      <td>90</td>\n      <td>PhysicianPhysician</td>\n    </tr>\n    <tr>\n      <th>6</th>\n      <td>Alan TuringAlan Turing</td>\n      <td>1912-06-231912-06-23</td>\n      <td>1954-06-071954-06-07</td>\n      <td>82</td>\n      <td>Computer ScientistComputer Scientist</td>\n    </tr>\n    <tr>\n      <th>7</th>\n      <td>Johann GaussJohann Gauss</td>\n      <td>1777-04-301777-04-30</td>\n      <td>1855-02-231855-02-23</td>\n      <td>154</td>\n      <td>MathematicianMathematician</td>\n    </tr>\n  </tbody>\n</table>\n</div>"
     },
     "execution_count": 28,
     "metadata": {},
     "output_type": "execute_result"
    }
   ],
   "source": [
    "# 시리즈에 스칼라 연산을 적용할 때 모든 요소에 스칼라를 적용하여 연산이 실행된 것처럼, 데이터프레임도 마찬가지로 문자열은 2회 반복, 숫자는 2가 곱해진다.\n",
    "scientists * 2"
   ],
   "metadata": {
    "collapsed": false
   }
  },
  {
   "cell_type": "markdown",
   "source": [
    "# 데이터프레임 열의 자료형 바꾸기"
   ],
   "metadata": {
    "collapsed": false
   }
  },
  {
   "cell_type": "code",
   "execution_count": 29,
   "outputs": [
    {
     "data": {
      "text/plain": "                   Name        Born        Died  Age          Occupation\n0     Rosaline Franklin  1920-07-25  1958-04-16   37             Chemist\n1        William Gosset  1876-06-13  1937-10-16   61        Statistician\n2  Florence Nightingale  1820-05-12  1910-08-13   90               Nurse\n3           Marie Curie  1867-11-07  1934-07-04   66             Chemist\n4         Rachel Carson  1907-05-27  1964-04-14   56           Biologist\n5             John Snow  1813-03-15  1858-06-16   45           Physician\n6           Alan Turing  1912-06-23  1954-06-07   41  Computer Scientist\n7          Johann Gauss  1777-04-30  1855-02-23   77       Mathematician",
      "text/html": "<div>\n<style scoped>\n    .dataframe tbody tr th:only-of-type {\n        vertical-align: middle;\n    }\n\n    .dataframe tbody tr th {\n        vertical-align: top;\n    }\n\n    .dataframe thead th {\n        text-align: right;\n    }\n</style>\n<table border=\"1\" class=\"dataframe\">\n  <thead>\n    <tr style=\"text-align: right;\">\n      <th></th>\n      <th>Name</th>\n      <th>Born</th>\n      <th>Died</th>\n      <th>Age</th>\n      <th>Occupation</th>\n    </tr>\n  </thead>\n  <tbody>\n    <tr>\n      <th>0</th>\n      <td>Rosaline Franklin</td>\n      <td>1920-07-25</td>\n      <td>1958-04-16</td>\n      <td>37</td>\n      <td>Chemist</td>\n    </tr>\n    <tr>\n      <th>1</th>\n      <td>William Gosset</td>\n      <td>1876-06-13</td>\n      <td>1937-10-16</td>\n      <td>61</td>\n      <td>Statistician</td>\n    </tr>\n    <tr>\n      <th>2</th>\n      <td>Florence Nightingale</td>\n      <td>1820-05-12</td>\n      <td>1910-08-13</td>\n      <td>90</td>\n      <td>Nurse</td>\n    </tr>\n    <tr>\n      <th>3</th>\n      <td>Marie Curie</td>\n      <td>1867-11-07</td>\n      <td>1934-07-04</td>\n      <td>66</td>\n      <td>Chemist</td>\n    </tr>\n    <tr>\n      <th>4</th>\n      <td>Rachel Carson</td>\n      <td>1907-05-27</td>\n      <td>1964-04-14</td>\n      <td>56</td>\n      <td>Biologist</td>\n    </tr>\n    <tr>\n      <th>5</th>\n      <td>John Snow</td>\n      <td>1813-03-15</td>\n      <td>1858-06-16</td>\n      <td>45</td>\n      <td>Physician</td>\n    </tr>\n    <tr>\n      <th>6</th>\n      <td>Alan Turing</td>\n      <td>1912-06-23</td>\n      <td>1954-06-07</td>\n      <td>41</td>\n      <td>Computer Scientist</td>\n    </tr>\n    <tr>\n      <th>7</th>\n      <td>Johann Gauss</td>\n      <td>1777-04-30</td>\n      <td>1855-02-23</td>\n      <td>77</td>\n      <td>Mathematician</td>\n    </tr>\n  </tbody>\n</table>\n</div>"
     },
     "execution_count": 29,
     "metadata": {},
     "output_type": "execute_result"
    }
   ],
   "source": [
    "scientists"
   ],
   "metadata": {
    "collapsed": false
   }
  },
  {
   "cell_type": "code",
   "execution_count": 30,
   "outputs": [
    {
     "data": {
      "text/plain": "Name          object\nBorn          object\nDied          object\nAge            int64\nOccupation    object\ndtype: object"
     },
     "execution_count": 30,
     "metadata": {},
     "output_type": "execute_result"
    }
   ],
   "source": [
    "scientists.dtypes"
   ],
   "metadata": {
    "collapsed": false
   }
  },
  {
   "cell_type": "markdown",
   "source": [
    "날짜를 문자열로 저장한 데이터는 날짜 및 시간에 관련된 작업을 할 수 있도록 to_datetime() 메서드로 datetime 자료형으로 바꿀 수 있다.\n",
    "to_datetime(날짜 시리즈, format='날짜 서식')\n",
    "%Y: 연도(4자리), %y: 연도(2자리), %m: 월(숫자), %B: 월(영어), %b: 월(축약어), %d: 일,\n",
    "%H: 시(24시간), %I: 시(12시간), %M: 분, %S: 초, %p: 오전/오후, %f: 마이크로 초"
   ],
   "metadata": {
    "collapsed": false
   }
  },
  {
   "cell_type": "code",
   "execution_count": 31,
   "outputs": [
    {
     "name": "stdout",
     "output_type": "stream",
     "text": [
      "0    1920-07-25\n",
      "1    1876-06-13\n",
      "2    1820-05-12\n",
      "3    1867-11-07\n",
      "4    1907-05-27\n",
      "5    1813-03-15\n",
      "6    1912-06-23\n",
      "7    1777-04-30\n",
      "Name: Born, dtype: object\n",
      "0   1920-07-25\n",
      "1   1876-06-13\n",
      "2   1820-05-12\n",
      "3   1867-11-07\n",
      "4   1907-05-27\n",
      "5   1813-03-15\n",
      "6   1912-06-23\n",
      "7   1777-04-30\n",
      "Name: Born, dtype: datetime64[ns]\n",
      "================================================================================\n",
      "0    1958-04-16\n",
      "1    1937-10-16\n",
      "2    1910-08-13\n",
      "3    1934-07-04\n",
      "4    1964-04-14\n",
      "5    1858-06-16\n",
      "6    1954-06-07\n",
      "7    1855-02-23\n",
      "Name: Died, dtype: object\n",
      "0   1958-04-16\n",
      "1   1937-10-16\n",
      "2   1910-08-13\n",
      "3   1934-07-04\n",
      "4   1964-04-14\n",
      "5   1858-06-16\n",
      "6   1954-06-07\n",
      "7   1855-02-23\n",
      "Name: Died, dtype: datetime64[ns]\n"
     ]
    }
   ],
   "source": [
    "born_datetime = pd.to_datetime(scientists.Born, format='%Y-%m-%d')\n",
    "print(scientists.Born)\n",
    "print(born_datetime)\n",
    "print('=' * 80)\n",
    "died_datetime = pd.to_datetime(scientists.Died, format='%Y-%m-%d')\n",
    "print(scientists.Died)\n",
    "print(died_datetime)"
   ],
   "metadata": {
    "collapsed": false
   }
  },
  {
   "cell_type": "code",
   "execution_count": 32,
   "outputs": [
    {
     "name": "stdout",
     "output_type": "stream",
     "text": [
      "(8, 5)\n",
      "(8, 7)\n"
     ]
    },
    {
     "data": {
      "text/plain": "                   Name        Born        Died  Age          Occupation  \\\n0     Rosaline Franklin  1920-07-25  1958-04-16   37             Chemist   \n1        William Gosset  1876-06-13  1937-10-16   61        Statistician   \n2  Florence Nightingale  1820-05-12  1910-08-13   90               Nurse   \n3           Marie Curie  1867-11-07  1934-07-04   66             Chemist   \n4         Rachel Carson  1907-05-27  1964-04-14   56           Biologist   \n5             John Snow  1813-03-15  1858-06-16   45           Physician   \n6           Alan Turing  1912-06-23  1954-06-07   41  Computer Scientist   \n7          Johann Gauss  1777-04-30  1855-02-23   77       Mathematician   \n\n     born_dt    died_dt  \n0 1920-07-25 1958-04-16  \n1 1876-06-13 1937-10-16  \n2 1820-05-12 1910-08-13  \n3 1867-11-07 1934-07-04  \n4 1907-05-27 1964-04-14  \n5 1813-03-15 1858-06-16  \n6 1912-06-23 1954-06-07  \n7 1777-04-30 1855-02-23  ",
      "text/html": "<div>\n<style scoped>\n    .dataframe tbody tr th:only-of-type {\n        vertical-align: middle;\n    }\n\n    .dataframe tbody tr th {\n        vertical-align: top;\n    }\n\n    .dataframe thead th {\n        text-align: right;\n    }\n</style>\n<table border=\"1\" class=\"dataframe\">\n  <thead>\n    <tr style=\"text-align: right;\">\n      <th></th>\n      <th>Name</th>\n      <th>Born</th>\n      <th>Died</th>\n      <th>Age</th>\n      <th>Occupation</th>\n      <th>born_dt</th>\n      <th>died_dt</th>\n    </tr>\n  </thead>\n  <tbody>\n    <tr>\n      <th>0</th>\n      <td>Rosaline Franklin</td>\n      <td>1920-07-25</td>\n      <td>1958-04-16</td>\n      <td>37</td>\n      <td>Chemist</td>\n      <td>1920-07-25</td>\n      <td>1958-04-16</td>\n    </tr>\n    <tr>\n      <th>1</th>\n      <td>William Gosset</td>\n      <td>1876-06-13</td>\n      <td>1937-10-16</td>\n      <td>61</td>\n      <td>Statistician</td>\n      <td>1876-06-13</td>\n      <td>1937-10-16</td>\n    </tr>\n    <tr>\n      <th>2</th>\n      <td>Florence Nightingale</td>\n      <td>1820-05-12</td>\n      <td>1910-08-13</td>\n      <td>90</td>\n      <td>Nurse</td>\n      <td>1820-05-12</td>\n      <td>1910-08-13</td>\n    </tr>\n    <tr>\n      <th>3</th>\n      <td>Marie Curie</td>\n      <td>1867-11-07</td>\n      <td>1934-07-04</td>\n      <td>66</td>\n      <td>Chemist</td>\n      <td>1867-11-07</td>\n      <td>1934-07-04</td>\n    </tr>\n    <tr>\n      <th>4</th>\n      <td>Rachel Carson</td>\n      <td>1907-05-27</td>\n      <td>1964-04-14</td>\n      <td>56</td>\n      <td>Biologist</td>\n      <td>1907-05-27</td>\n      <td>1964-04-14</td>\n    </tr>\n    <tr>\n      <th>5</th>\n      <td>John Snow</td>\n      <td>1813-03-15</td>\n      <td>1858-06-16</td>\n      <td>45</td>\n      <td>Physician</td>\n      <td>1813-03-15</td>\n      <td>1858-06-16</td>\n    </tr>\n    <tr>\n      <th>6</th>\n      <td>Alan Turing</td>\n      <td>1912-06-23</td>\n      <td>1954-06-07</td>\n      <td>41</td>\n      <td>Computer Scientist</td>\n      <td>1912-06-23</td>\n      <td>1954-06-07</td>\n    </tr>\n    <tr>\n      <th>7</th>\n      <td>Johann Gauss</td>\n      <td>1777-04-30</td>\n      <td>1855-02-23</td>\n      <td>77</td>\n      <td>Mathematician</td>\n      <td>1777-04-30</td>\n      <td>1855-02-23</td>\n    </tr>\n  </tbody>\n</table>\n</div>"
     },
     "execution_count": 32,
     "metadata": {},
     "output_type": "execute_result"
    }
   ],
   "source": [
    "# 파생변수 추가\n",
    "# datetime 형태로 변경한 born_datetime, died_datetime을 데이터프레임에 추가한다.\n",
    "print(scientists.shape)\n",
    "# 데이터 추가/수정\n",
    "# 데이터프레임['열 이름'] = 데이터\n",
    "# scientists['born_dt'] = born_datetime\n",
    "# scientists['died_dt'] = died_datetime\n",
    "scientists['born_dt'], scientists['died_dt'] = born_datetime, died_datetime\n",
    "print(scientists.shape)\n",
    "scientists"
   ],
   "metadata": {
    "collapsed": false
   }
  },
  {
   "cell_type": "code",
   "execution_count": 33,
   "outputs": [
    {
     "data": {
      "text/plain": "Name                  object\nBorn                  object\nDied                  object\nAge                    int64\nOccupation            object\nborn_dt       datetime64[ns]\ndied_dt       datetime64[ns]\ndtype: object"
     },
     "execution_count": 33,
     "metadata": {},
     "output_type": "execute_result"
    }
   ],
   "source": [
    "scientists.dtypes"
   ],
   "metadata": {
    "collapsed": false
   }
  },
  {
   "cell_type": "code",
   "execution_count": 34,
   "outputs": [
    {
     "name": "stdout",
     "output_type": "stream",
     "text": [
      "(8, 8)\n"
     ]
    },
    {
     "data": {
      "text/plain": "                   Name        Born        Died  Age          Occupation  \\\n0     Rosaline Franklin  1920-07-25  1958-04-16   37             Chemist   \n1        William Gosset  1876-06-13  1937-10-16   61        Statistician   \n2  Florence Nightingale  1820-05-12  1910-08-13   90               Nurse   \n3           Marie Curie  1867-11-07  1934-07-04   66             Chemist   \n4         Rachel Carson  1907-05-27  1964-04-14   56           Biologist   \n5             John Snow  1813-03-15  1858-06-16   45           Physician   \n6           Alan Turing  1912-06-23  1954-06-07   41  Computer Scientist   \n7          Johann Gauss  1777-04-30  1855-02-23   77       Mathematician   \n\n     born_dt    died_dt age_days_dt  \n0 1920-07-25 1958-04-16  13779 days  \n1 1876-06-13 1937-10-16  22404 days  \n2 1820-05-12 1910-08-13  32964 days  \n3 1867-11-07 1934-07-04  24345 days  \n4 1907-05-27 1964-04-14  20777 days  \n5 1813-03-15 1858-06-16  16529 days  \n6 1912-06-23 1954-06-07  15324 days  \n7 1777-04-30 1855-02-23  28422 days  ",
      "text/html": "<div>\n<style scoped>\n    .dataframe tbody tr th:only-of-type {\n        vertical-align: middle;\n    }\n\n    .dataframe tbody tr th {\n        vertical-align: top;\n    }\n\n    .dataframe thead th {\n        text-align: right;\n    }\n</style>\n<table border=\"1\" class=\"dataframe\">\n  <thead>\n    <tr style=\"text-align: right;\">\n      <th></th>\n      <th>Name</th>\n      <th>Born</th>\n      <th>Died</th>\n      <th>Age</th>\n      <th>Occupation</th>\n      <th>born_dt</th>\n      <th>died_dt</th>\n      <th>age_days_dt</th>\n    </tr>\n  </thead>\n  <tbody>\n    <tr>\n      <th>0</th>\n      <td>Rosaline Franklin</td>\n      <td>1920-07-25</td>\n      <td>1958-04-16</td>\n      <td>37</td>\n      <td>Chemist</td>\n      <td>1920-07-25</td>\n      <td>1958-04-16</td>\n      <td>13779 days</td>\n    </tr>\n    <tr>\n      <th>1</th>\n      <td>William Gosset</td>\n      <td>1876-06-13</td>\n      <td>1937-10-16</td>\n      <td>61</td>\n      <td>Statistician</td>\n      <td>1876-06-13</td>\n      <td>1937-10-16</td>\n      <td>22404 days</td>\n    </tr>\n    <tr>\n      <th>2</th>\n      <td>Florence Nightingale</td>\n      <td>1820-05-12</td>\n      <td>1910-08-13</td>\n      <td>90</td>\n      <td>Nurse</td>\n      <td>1820-05-12</td>\n      <td>1910-08-13</td>\n      <td>32964 days</td>\n    </tr>\n    <tr>\n      <th>3</th>\n      <td>Marie Curie</td>\n      <td>1867-11-07</td>\n      <td>1934-07-04</td>\n      <td>66</td>\n      <td>Chemist</td>\n      <td>1867-11-07</td>\n      <td>1934-07-04</td>\n      <td>24345 days</td>\n    </tr>\n    <tr>\n      <th>4</th>\n      <td>Rachel Carson</td>\n      <td>1907-05-27</td>\n      <td>1964-04-14</td>\n      <td>56</td>\n      <td>Biologist</td>\n      <td>1907-05-27</td>\n      <td>1964-04-14</td>\n      <td>20777 days</td>\n    </tr>\n    <tr>\n      <th>5</th>\n      <td>John Snow</td>\n      <td>1813-03-15</td>\n      <td>1858-06-16</td>\n      <td>45</td>\n      <td>Physician</td>\n      <td>1813-03-15</td>\n      <td>1858-06-16</td>\n      <td>16529 days</td>\n    </tr>\n    <tr>\n      <th>6</th>\n      <td>Alan Turing</td>\n      <td>1912-06-23</td>\n      <td>1954-06-07</td>\n      <td>41</td>\n      <td>Computer Scientist</td>\n      <td>1912-06-23</td>\n      <td>1954-06-07</td>\n      <td>15324 days</td>\n    </tr>\n    <tr>\n      <th>7</th>\n      <td>Johann Gauss</td>\n      <td>1777-04-30</td>\n      <td>1855-02-23</td>\n      <td>77</td>\n      <td>Mathematician</td>\n      <td>1777-04-30</td>\n      <td>1855-02-23</td>\n      <td>28422 days</td>\n    </tr>\n  </tbody>\n</table>\n</div>"
     },
     "execution_count": 34,
     "metadata": {},
     "output_type": "execute_result"
    }
   ],
   "source": [
    "# 추가된 파생변수 scientists.died_dt에서 scientists.born_dt를 빼면 생존기간을 계산할 수 있다.\n",
    "scientists['age_days_dt'] = scientists.died_dt - scientists.born_dt\n",
    "print(scientists.shape)\n",
    "scientists"
   ],
   "metadata": {
    "collapsed": false
   }
  },
  {
   "cell_type": "markdown",
   "source": [
    "# 시리즈, 데이터프레임의 데이터 섞기"
   ],
   "metadata": {
    "collapsed": false
   }
  },
  {
   "cell_type": "code",
   "execution_count": 53,
   "outputs": [
    {
     "data": {
      "text/plain": "                   Name        Born        Died  Age          Occupation  \\\n0     Rosaline Franklin  1920-07-25  1958-04-16   61             Chemist   \n1        William Gosset  1876-06-13  1937-10-16   77        Statistician   \n2  Florence Nightingale  1820-05-12  1910-08-13   45               Nurse   \n3           Marie Curie  1867-11-07  1934-07-04   56             Chemist   \n4         Rachel Carson  1907-05-27  1964-04-14   37           Biologist   \n5             John Snow  1813-03-15  1858-06-16   90           Physician   \n6           Alan Turing  1912-06-23  1954-06-07   41  Computer Scientist   \n7          Johann Gauss  1777-04-30  1855-02-23   66       Mathematician   \n\n     born_dt    died_dt age_days_dt  \n0 1920-07-25 1958-04-16  13779 days  \n1 1876-06-13 1937-10-16  22404 days  \n2 1820-05-12 1910-08-13  32964 days  \n3 1867-11-07 1934-07-04  24345 days  \n4 1907-05-27 1964-04-14  20777 days  \n5 1813-03-15 1858-06-16  16529 days  \n6 1912-06-23 1954-06-07  15324 days  \n7 1777-04-30 1855-02-23  28422 days  ",
      "text/html": "<div>\n<style scoped>\n    .dataframe tbody tr th:only-of-type {\n        vertical-align: middle;\n    }\n\n    .dataframe tbody tr th {\n        vertical-align: top;\n    }\n\n    .dataframe thead th {\n        text-align: right;\n    }\n</style>\n<table border=\"1\" class=\"dataframe\">\n  <thead>\n    <tr style=\"text-align: right;\">\n      <th></th>\n      <th>Name</th>\n      <th>Born</th>\n      <th>Died</th>\n      <th>Age</th>\n      <th>Occupation</th>\n      <th>born_dt</th>\n      <th>died_dt</th>\n      <th>age_days_dt</th>\n    </tr>\n  </thead>\n  <tbody>\n    <tr>\n      <th>0</th>\n      <td>Rosaline Franklin</td>\n      <td>1920-07-25</td>\n      <td>1958-04-16</td>\n      <td>61</td>\n      <td>Chemist</td>\n      <td>1920-07-25</td>\n      <td>1958-04-16</td>\n      <td>13779 days</td>\n    </tr>\n    <tr>\n      <th>1</th>\n      <td>William Gosset</td>\n      <td>1876-06-13</td>\n      <td>1937-10-16</td>\n      <td>77</td>\n      <td>Statistician</td>\n      <td>1876-06-13</td>\n      <td>1937-10-16</td>\n      <td>22404 days</td>\n    </tr>\n    <tr>\n      <th>2</th>\n      <td>Florence Nightingale</td>\n      <td>1820-05-12</td>\n      <td>1910-08-13</td>\n      <td>45</td>\n      <td>Nurse</td>\n      <td>1820-05-12</td>\n      <td>1910-08-13</td>\n      <td>32964 days</td>\n    </tr>\n    <tr>\n      <th>3</th>\n      <td>Marie Curie</td>\n      <td>1867-11-07</td>\n      <td>1934-07-04</td>\n      <td>56</td>\n      <td>Chemist</td>\n      <td>1867-11-07</td>\n      <td>1934-07-04</td>\n      <td>24345 days</td>\n    </tr>\n    <tr>\n      <th>4</th>\n      <td>Rachel Carson</td>\n      <td>1907-05-27</td>\n      <td>1964-04-14</td>\n      <td>37</td>\n      <td>Biologist</td>\n      <td>1907-05-27</td>\n      <td>1964-04-14</td>\n      <td>20777 days</td>\n    </tr>\n    <tr>\n      <th>5</th>\n      <td>John Snow</td>\n      <td>1813-03-15</td>\n      <td>1858-06-16</td>\n      <td>90</td>\n      <td>Physician</td>\n      <td>1813-03-15</td>\n      <td>1858-06-16</td>\n      <td>16529 days</td>\n    </tr>\n    <tr>\n      <th>6</th>\n      <td>Alan Turing</td>\n      <td>1912-06-23</td>\n      <td>1954-06-07</td>\n      <td>41</td>\n      <td>Computer Scientist</td>\n      <td>1912-06-23</td>\n      <td>1954-06-07</td>\n      <td>15324 days</td>\n    </tr>\n    <tr>\n      <th>7</th>\n      <td>Johann Gauss</td>\n      <td>1777-04-30</td>\n      <td>1855-02-23</td>\n      <td>66</td>\n      <td>Mathematician</td>\n      <td>1777-04-30</td>\n      <td>1855-02-23</td>\n      <td>28422 days</td>\n    </tr>\n  </tbody>\n</table>\n</div>"
     },
     "execution_count": 53,
     "metadata": {},
     "output_type": "execute_result"
    }
   ],
   "source": [
    "import random as r\n",
    "# 파이썬 random 모듈의 shuffle() 메서드는 데이터를 무작위로 섞는다.\n",
    "r.shuffle(scientists.Age)   # scientists 데이터프레임의 Age 열만 섞인다.\n",
    "scientists"
   ],
   "metadata": {
    "collapsed": false
   }
  },
  {
   "cell_type": "code",
   "execution_count": 58,
   "outputs": [
    {
     "data": {
      "text/plain": "['Johann Gauss', 'Rosaline Franklin', 'John Snow', 'Rachel Carson']"
     },
     "execution_count": 58,
     "metadata": {},
     "output_type": "execute_result"
    }
   ],
   "source": [
    "# 파이썬 random 모듈의 sample() 메서드는 데이터를 무작위로 섞고 지정한 개수 만큼 추출한다.(리스트로 입력)\n",
    "r.sample(list(scientists.Name), 4)"
   ],
   "metadata": {
    "collapsed": false
   }
  },
  {
   "cell_type": "markdown",
   "source": [
    "# 데이터프레임 행/열 삭제"
   ],
   "metadata": {
    "collapsed": false
   }
  },
  {
   "cell_type": "code",
   "execution_count": 60,
   "outputs": [
    {
     "data": {
      "text/plain": "         Born        Died          Occupation    born_dt    died_dt  \\\n0  1920-07-25  1958-04-16             Chemist 1920-07-25 1958-04-16   \n1  1876-06-13  1937-10-16        Statistician 1876-06-13 1937-10-16   \n2  1820-05-12  1910-08-13               Nurse 1820-05-12 1910-08-13   \n3  1867-11-07  1934-07-04             Chemist 1867-11-07 1934-07-04   \n4  1907-05-27  1964-04-14           Biologist 1907-05-27 1964-04-14   \n5  1813-03-15  1858-06-16           Physician 1813-03-15 1858-06-16   \n6  1912-06-23  1954-06-07  Computer Scientist 1912-06-23 1954-06-07   \n7  1777-04-30  1855-02-23       Mathematician 1777-04-30 1855-02-23   \n\n  age_days_dt  \n0  13779 days  \n1  22404 days  \n2  32964 days  \n3  24345 days  \n4  20777 days  \n5  16529 days  \n6  15324 days  \n7  28422 days  ",
      "text/html": "<div>\n<style scoped>\n    .dataframe tbody tr th:only-of-type {\n        vertical-align: middle;\n    }\n\n    .dataframe tbody tr th {\n        vertical-align: top;\n    }\n\n    .dataframe thead th {\n        text-align: right;\n    }\n</style>\n<table border=\"1\" class=\"dataframe\">\n  <thead>\n    <tr style=\"text-align: right;\">\n      <th></th>\n      <th>Born</th>\n      <th>Died</th>\n      <th>Occupation</th>\n      <th>born_dt</th>\n      <th>died_dt</th>\n      <th>age_days_dt</th>\n    </tr>\n  </thead>\n  <tbody>\n    <tr>\n      <th>0</th>\n      <td>1920-07-25</td>\n      <td>1958-04-16</td>\n      <td>Chemist</td>\n      <td>1920-07-25</td>\n      <td>1958-04-16</td>\n      <td>13779 days</td>\n    </tr>\n    <tr>\n      <th>1</th>\n      <td>1876-06-13</td>\n      <td>1937-10-16</td>\n      <td>Statistician</td>\n      <td>1876-06-13</td>\n      <td>1937-10-16</td>\n      <td>22404 days</td>\n    </tr>\n    <tr>\n      <th>2</th>\n      <td>1820-05-12</td>\n      <td>1910-08-13</td>\n      <td>Nurse</td>\n      <td>1820-05-12</td>\n      <td>1910-08-13</td>\n      <td>32964 days</td>\n    </tr>\n    <tr>\n      <th>3</th>\n      <td>1867-11-07</td>\n      <td>1934-07-04</td>\n      <td>Chemist</td>\n      <td>1867-11-07</td>\n      <td>1934-07-04</td>\n      <td>24345 days</td>\n    </tr>\n    <tr>\n      <th>4</th>\n      <td>1907-05-27</td>\n      <td>1964-04-14</td>\n      <td>Biologist</td>\n      <td>1907-05-27</td>\n      <td>1964-04-14</td>\n      <td>20777 days</td>\n    </tr>\n    <tr>\n      <th>5</th>\n      <td>1813-03-15</td>\n      <td>1858-06-16</td>\n      <td>Physician</td>\n      <td>1813-03-15</td>\n      <td>1858-06-16</td>\n      <td>16529 days</td>\n    </tr>\n    <tr>\n      <th>6</th>\n      <td>1912-06-23</td>\n      <td>1954-06-07</td>\n      <td>Computer Scientist</td>\n      <td>1912-06-23</td>\n      <td>1954-06-07</td>\n      <td>15324 days</td>\n    </tr>\n    <tr>\n      <th>7</th>\n      <td>1777-04-30</td>\n      <td>1855-02-23</td>\n      <td>Mathematician</td>\n      <td>1777-04-30</td>\n      <td>1855-02-23</td>\n      <td>28422 days</td>\n    </tr>\n  </tbody>\n</table>\n</div>"
     },
     "execution_count": 60,
     "metadata": {},
     "output_type": "execute_result"
    }
   ],
   "source": [
    "# drop() 메서드는 데이터프레임의 열을 삭제한다.\n",
    "# drop(열 이름, axis=1)    # 삭제할 열이 2개 이상일 경우 리스트로 입력\n",
    "# drop() 메서드는 axis=0이 기본값이므로 행을 제거하려 하기 때문에 반드시 axis=1로 지정해서 사용해야 한다.\n",
    "# scientists_dropped = scientists.drop('Age', axis=1)\n",
    "scientists_dropped = scientists.drop(['Name', 'Age'], axis=1)\n",
    "scientists_dropped"
   ],
   "metadata": {
    "collapsed": false
   }
  },
  {
   "cell_type": "markdown",
   "source": [
    "# 시리즈나 데이터프레임을 피클(pickle), csv, tsv 파일로 저장하고 불러오기"
   ],
   "metadata": {
    "collapsed": false
   }
  },
  {
   "cell_type": "code",
   "execution_count": 62,
   "outputs": [
    {
     "name": "stdout",
     "output_type": "stream",
     "text": [
      "<class 'pandas.core.series.Series'>\n",
      "0       Rosaline Franklin\n",
      "1          William Gosset\n",
      "2    Florence Nightingale\n",
      "3             Marie Curie\n",
      "4           Rachel Carson\n",
      "5               John Snow\n",
      "6             Alan Turing\n",
      "7            Johann Gauss\n",
      "Name: Name, dtype: object\n"
     ]
    }
   ],
   "source": [
    "# 시리즈를 피클로 저장하기\n",
    "# 피클은 데이터를 바이너리 형태로 직렬화한 객체를 저장하는 방법으로 데이터를 오래 보관한다는 뜻이 담겨있다.\n",
    "# 피클로 저장하면 스프레드시트보다 더 작은 용량으로 데이터를 저장할 수 있다.\n",
    "names = scientists.Name\n",
    "print(type(names))\n",
    "print(names)\n",
    "# 시리즈를 피클로 저장하려면 to_pickle() 메서드를 사용한다.\n",
    "# 피클은 바이너리 형태의 오브젝트이기 때문에 데이터 편집기 프로그램으로 열어보면 이상한 문자가 표시된다.\n",
    "names.to_pickle('./output/scientists_name_series.pickle')"
   ],
   "metadata": {
    "collapsed": false
   }
  },
  {
   "cell_type": "code",
   "execution_count": 63,
   "outputs": [
    {
     "data": {
      "text/plain": "0       Rosaline Franklin\n1          William Gosset\n2    Florence Nightingale\n3             Marie Curie\n4           Rachel Carson\n5               John Snow\n6             Alan Turing\n7            Johann Gauss\nName: Name, dtype: object"
     },
     "execution_count": 63,
     "metadata": {},
     "output_type": "execute_result"
    }
   ],
   "source": [
    "# 피클 파일을 읽어오려면 read_pickle() 메서드를 사용한다.\n",
    "scientists_name_from_pickle = pd.read_pickle('./output/scientists_name_series.pickle')\n",
    "scientists_name_from_pickle"
   ],
   "metadata": {
    "collapsed": false
   }
  },
  {
   "cell_type": "code",
   "execution_count": 64,
   "outputs": [
    {
     "data": {
      "text/plain": "                   Name        Born        Died  Age          Occupation  \\\n0     Rosaline Franklin  1920-07-25  1958-04-16   61             Chemist   \n1        William Gosset  1876-06-13  1937-10-16   77        Statistician   \n2  Florence Nightingale  1820-05-12  1910-08-13   45               Nurse   \n3           Marie Curie  1867-11-07  1934-07-04   56             Chemist   \n4         Rachel Carson  1907-05-27  1964-04-14   37           Biologist   \n5             John Snow  1813-03-15  1858-06-16   90           Physician   \n6           Alan Turing  1912-06-23  1954-06-07   41  Computer Scientist   \n7          Johann Gauss  1777-04-30  1855-02-23   66       Mathematician   \n\n     born_dt    died_dt age_days_dt  \n0 1920-07-25 1958-04-16  13779 days  \n1 1876-06-13 1937-10-16  22404 days  \n2 1820-05-12 1910-08-13  32964 days  \n3 1867-11-07 1934-07-04  24345 days  \n4 1907-05-27 1964-04-14  20777 days  \n5 1813-03-15 1858-06-16  16529 days  \n6 1912-06-23 1954-06-07  15324 days  \n7 1777-04-30 1855-02-23  28422 days  ",
      "text/html": "<div>\n<style scoped>\n    .dataframe tbody tr th:only-of-type {\n        vertical-align: middle;\n    }\n\n    .dataframe tbody tr th {\n        vertical-align: top;\n    }\n\n    .dataframe thead th {\n        text-align: right;\n    }\n</style>\n<table border=\"1\" class=\"dataframe\">\n  <thead>\n    <tr style=\"text-align: right;\">\n      <th></th>\n      <th>Name</th>\n      <th>Born</th>\n      <th>Died</th>\n      <th>Age</th>\n      <th>Occupation</th>\n      <th>born_dt</th>\n      <th>died_dt</th>\n      <th>age_days_dt</th>\n    </tr>\n  </thead>\n  <tbody>\n    <tr>\n      <th>0</th>\n      <td>Rosaline Franklin</td>\n      <td>1920-07-25</td>\n      <td>1958-04-16</td>\n      <td>61</td>\n      <td>Chemist</td>\n      <td>1920-07-25</td>\n      <td>1958-04-16</td>\n      <td>13779 days</td>\n    </tr>\n    <tr>\n      <th>1</th>\n      <td>William Gosset</td>\n      <td>1876-06-13</td>\n      <td>1937-10-16</td>\n      <td>77</td>\n      <td>Statistician</td>\n      <td>1876-06-13</td>\n      <td>1937-10-16</td>\n      <td>22404 days</td>\n    </tr>\n    <tr>\n      <th>2</th>\n      <td>Florence Nightingale</td>\n      <td>1820-05-12</td>\n      <td>1910-08-13</td>\n      <td>45</td>\n      <td>Nurse</td>\n      <td>1820-05-12</td>\n      <td>1910-08-13</td>\n      <td>32964 days</td>\n    </tr>\n    <tr>\n      <th>3</th>\n      <td>Marie Curie</td>\n      <td>1867-11-07</td>\n      <td>1934-07-04</td>\n      <td>56</td>\n      <td>Chemist</td>\n      <td>1867-11-07</td>\n      <td>1934-07-04</td>\n      <td>24345 days</td>\n    </tr>\n    <tr>\n      <th>4</th>\n      <td>Rachel Carson</td>\n      <td>1907-05-27</td>\n      <td>1964-04-14</td>\n      <td>37</td>\n      <td>Biologist</td>\n      <td>1907-05-27</td>\n      <td>1964-04-14</td>\n      <td>20777 days</td>\n    </tr>\n    <tr>\n      <th>5</th>\n      <td>John Snow</td>\n      <td>1813-03-15</td>\n      <td>1858-06-16</td>\n      <td>90</td>\n      <td>Physician</td>\n      <td>1813-03-15</td>\n      <td>1858-06-16</td>\n      <td>16529 days</td>\n    </tr>\n    <tr>\n      <th>6</th>\n      <td>Alan Turing</td>\n      <td>1912-06-23</td>\n      <td>1954-06-07</td>\n      <td>41</td>\n      <td>Computer Scientist</td>\n      <td>1912-06-23</td>\n      <td>1954-06-07</td>\n      <td>15324 days</td>\n    </tr>\n    <tr>\n      <th>7</th>\n      <td>Johann Gauss</td>\n      <td>1777-04-30</td>\n      <td>1855-02-23</td>\n      <td>66</td>\n      <td>Mathematician</td>\n      <td>1777-04-30</td>\n      <td>1855-02-23</td>\n      <td>28422 days</td>\n    </tr>\n  </tbody>\n</table>\n</div>"
     },
     "execution_count": 64,
     "metadata": {},
     "output_type": "execute_result"
    }
   ],
   "source": [
    "# 데이터프레임도 피클 파일로 저장할 수 있다.\n",
    "scientists.to_pickle('./output/scientists_df.pickle')\n",
    "scientists_from_pickle = pd.read_pickle('./output/scientists_df.pickle')\n",
    "scientists_from_pickle"
   ],
   "metadata": {
    "collapsed": false
   }
  },
  {
   "cell_type": "code",
   "execution_count": 65,
   "outputs": [
    {
     "data": {
      "text/plain": "   Unnamed: 0                  Name\n0           0     Rosaline Franklin\n1           1        William Gosset\n2           2  Florence Nightingale\n3           3           Marie Curie\n4           4         Rachel Carson\n5           5             John Snow\n6           6           Alan Turing\n7           7          Johann Gauss",
      "text/html": "<div>\n<style scoped>\n    .dataframe tbody tr th:only-of-type {\n        vertical-align: middle;\n    }\n\n    .dataframe tbody tr th {\n        vertical-align: top;\n    }\n\n    .dataframe thead th {\n        text-align: right;\n    }\n</style>\n<table border=\"1\" class=\"dataframe\">\n  <thead>\n    <tr style=\"text-align: right;\">\n      <th></th>\n      <th>Unnamed: 0</th>\n      <th>Name</th>\n    </tr>\n  </thead>\n  <tbody>\n    <tr>\n      <th>0</th>\n      <td>0</td>\n      <td>Rosaline Franklin</td>\n    </tr>\n    <tr>\n      <th>1</th>\n      <td>1</td>\n      <td>William Gosset</td>\n    </tr>\n    <tr>\n      <th>2</th>\n      <td>2</td>\n      <td>Florence Nightingale</td>\n    </tr>\n    <tr>\n      <th>3</th>\n      <td>3</td>\n      <td>Marie Curie</td>\n    </tr>\n    <tr>\n      <th>4</th>\n      <td>4</td>\n      <td>Rachel Carson</td>\n    </tr>\n    <tr>\n      <th>5</th>\n      <td>5</td>\n      <td>John Snow</td>\n    </tr>\n    <tr>\n      <th>6</th>\n      <td>6</td>\n      <td>Alan Turing</td>\n    </tr>\n    <tr>\n      <th>7</th>\n      <td>7</td>\n      <td>Johann Gauss</td>\n    </tr>\n  </tbody>\n</table>\n</div>"
     },
     "execution_count": 65,
     "metadata": {},
     "output_type": "execute_result"
    }
   ],
   "source": [
    "# to_csv() 메서드로 시리즈나 데이터프레임을 csv 또는 tsv 파일로 저장할 수 있다.\n",
    "names.to_csv('./output/scientists_name.csv')\n",
    "pd.read_csv('./output/scientists_name.csv', sep=',')"
   ],
   "metadata": {
    "collapsed": false
   }
  },
  {
   "cell_type": "code",
   "execution_count": 70,
   "outputs": [
    {
     "data": {
      "text/plain": "   Unnamed: 0                  Name        Born        Died  Age  \\\n0           0     Rosaline Franklin  1920-07-25  1958-04-16   61   \n1           1        William Gosset  1876-06-13  1937-10-16   77   \n2           2  Florence Nightingale  1820-05-12  1910-08-13   45   \n3           3           Marie Curie  1867-11-07  1934-07-04   56   \n4           4         Rachel Carson  1907-05-27  1964-04-14   37   \n5           5             John Snow  1813-03-15  1858-06-16   90   \n6           6           Alan Turing  1912-06-23  1954-06-07   41   \n7           7          Johann Gauss  1777-04-30  1855-02-23   66   \n\n           Occupation     born_dt     died_dt age_days_dt  \n0             Chemist  1920-07-25  1958-04-16  13779 days  \n1        Statistician  1876-06-13  1937-10-16  22404 days  \n2               Nurse  1820-05-12  1910-08-13  32964 days  \n3             Chemist  1867-11-07  1934-07-04  24345 days  \n4           Biologist  1907-05-27  1964-04-14  20777 days  \n5           Physician  1813-03-15  1858-06-16  16529 days  \n6  Computer Scientist  1912-06-23  1954-06-07  15324 days  \n7       Mathematician  1777-04-30  1855-02-23  28422 days  ",
      "text/html": "<div>\n<style scoped>\n    .dataframe tbody tr th:only-of-type {\n        vertical-align: middle;\n    }\n\n    .dataframe tbody tr th {\n        vertical-align: top;\n    }\n\n    .dataframe thead th {\n        text-align: right;\n    }\n</style>\n<table border=\"1\" class=\"dataframe\">\n  <thead>\n    <tr style=\"text-align: right;\">\n      <th></th>\n      <th>Unnamed: 0</th>\n      <th>Name</th>\n      <th>Born</th>\n      <th>Died</th>\n      <th>Age</th>\n      <th>Occupation</th>\n      <th>born_dt</th>\n      <th>died_dt</th>\n      <th>age_days_dt</th>\n    </tr>\n  </thead>\n  <tbody>\n    <tr>\n      <th>0</th>\n      <td>0</td>\n      <td>Rosaline Franklin</td>\n      <td>1920-07-25</td>\n      <td>1958-04-16</td>\n      <td>61</td>\n      <td>Chemist</td>\n      <td>1920-07-25</td>\n      <td>1958-04-16</td>\n      <td>13779 days</td>\n    </tr>\n    <tr>\n      <th>1</th>\n      <td>1</td>\n      <td>William Gosset</td>\n      <td>1876-06-13</td>\n      <td>1937-10-16</td>\n      <td>77</td>\n      <td>Statistician</td>\n      <td>1876-06-13</td>\n      <td>1937-10-16</td>\n      <td>22404 days</td>\n    </tr>\n    <tr>\n      <th>2</th>\n      <td>2</td>\n      <td>Florence Nightingale</td>\n      <td>1820-05-12</td>\n      <td>1910-08-13</td>\n      <td>45</td>\n      <td>Nurse</td>\n      <td>1820-05-12</td>\n      <td>1910-08-13</td>\n      <td>32964 days</td>\n    </tr>\n    <tr>\n      <th>3</th>\n      <td>3</td>\n      <td>Marie Curie</td>\n      <td>1867-11-07</td>\n      <td>1934-07-04</td>\n      <td>56</td>\n      <td>Chemist</td>\n      <td>1867-11-07</td>\n      <td>1934-07-04</td>\n      <td>24345 days</td>\n    </tr>\n    <tr>\n      <th>4</th>\n      <td>4</td>\n      <td>Rachel Carson</td>\n      <td>1907-05-27</td>\n      <td>1964-04-14</td>\n      <td>37</td>\n      <td>Biologist</td>\n      <td>1907-05-27</td>\n      <td>1964-04-14</td>\n      <td>20777 days</td>\n    </tr>\n    <tr>\n      <th>5</th>\n      <td>5</td>\n      <td>John Snow</td>\n      <td>1813-03-15</td>\n      <td>1858-06-16</td>\n      <td>90</td>\n      <td>Physician</td>\n      <td>1813-03-15</td>\n      <td>1858-06-16</td>\n      <td>16529 days</td>\n    </tr>\n    <tr>\n      <th>6</th>\n      <td>6</td>\n      <td>Alan Turing</td>\n      <td>1912-06-23</td>\n      <td>1954-06-07</td>\n      <td>41</td>\n      <td>Computer Scientist</td>\n      <td>1912-06-23</td>\n      <td>1954-06-07</td>\n      <td>15324 days</td>\n    </tr>\n    <tr>\n      <th>7</th>\n      <td>7</td>\n      <td>Johann Gauss</td>\n      <td>1777-04-30</td>\n      <td>1855-02-23</td>\n      <td>66</td>\n      <td>Mathematician</td>\n      <td>1777-04-30</td>\n      <td>1855-02-23</td>\n      <td>28422 days</td>\n    </tr>\n  </tbody>\n</table>\n</div>"
     },
     "execution_count": 70,
     "metadata": {},
     "output_type": "execute_result"
    }
   ],
   "source": [
    "# to_tsv() 메서드로 시리즈나 데이터프레임을 tsv 또는 tsv 파일로 저장할 수 있다.\n",
    "scientists.to_csv('./output/scientists_df.tsv', sep='\\t')\n",
    "pd.read_csv('./output/scientists_df.tsv', sep='\\t')"
   ],
   "metadata": {
    "collapsed": false
   }
  },
  {
   "cell_type": "code",
   "execution_count": null,
   "outputs": [],
   "source": [],
   "metadata": {
    "collapsed": false
   }
  }
 ],
 "metadata": {
  "kernelspec": {
   "display_name": "Python 3",
   "language": "python",
   "name": "python3"
  },
  "language_info": {
   "codemirror_mode": {
    "name": "ipython",
    "version": 2
   },
   "file_extension": ".py",
   "mimetype": "text/x-python",
   "name": "python",
   "nbconvert_exporter": "python",
   "pygments_lexer": "ipython2",
   "version": "2.7.6"
  }
 },
 "nbformat": 4,
 "nbformat_minor": 0
}
