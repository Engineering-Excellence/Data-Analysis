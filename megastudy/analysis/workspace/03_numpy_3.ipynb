{
 "cells": [
  {
   "cell_type": "code",
   "execution_count": 318,
   "metadata": {
    "collapsed": true
   },
   "outputs": [],
   "source": [
    "import warnings\n",
    "\n",
    "warnings.filterwarnings('ignore')\n",
    "import numpy as np\n",
    "\n",
    "\n",
    "def pprint(array):\n",
    "    print(f'type: {type(array)}')\n",
    "    print(f'shape: {array.shape}, dimension: {array.ndim}, dtype: {array.dtype}')\n",
    "    print('※ numpy 배열의 데이터\\n', array, sep='')\n",
    "    print('-' * 80)"
   ]
  },
  {
   "cell_type": "markdown",
   "source": [
    "# 인덱싱\n",
    "- 배열의 각 요소는 axis 인덱스 배열로 참조할 수 있다.\n",
    "- 1차원 배열은 1개, 2차원 배열은 2개, n차원 배열은 n개의 인덱스로 요소를 참조할 수 있다.\n",
    "- 인덱싱 작업시 [행][열] 또는 [행, 열]과 같이 인덱스를 지정할 수 있다."
   ],
   "metadata": {
    "collapsed": false
   }
  },
  {
   "cell_type": "code",
   "execution_count": 319,
   "outputs": [
    {
     "name": "stdout",
     "output_type": "stream",
     "text": [
      "type: <class 'numpy.ndarray'>\n",
      "shape: (24,), dimension: 1, dtype: int64\n",
      "※ numpy 배열의 데이터\n",
      "[ 0  1  2  3  4  5  6  7  8  9 10 11 12 13 14 15 16 17 18 19 20 21 22 23]\n",
      "--------------------------------------------------------------------------------\n",
      "type: <class 'numpy.ndarray'>\n",
      "shape: (4, 6), dimension: 2, dtype: int64\n",
      "※ numpy 배열의 데이터\n",
      "[[ 0  1  2  3  4  5]\n",
      " [ 6  7  8  9 10 11]\n",
      " [12 13 14 15 16 17]\n",
      " [18 19 20 21 22 23]]\n",
      "--------------------------------------------------------------------------------\n",
      "type: <class 'numpy.ndarray'>\n",
      "shape: (2, 4, 3), dimension: 3, dtype: int64\n",
      "※ numpy 배열의 데이터\n",
      "[[[ 0  1  2]\n",
      "  [ 3  4  5]\n",
      "  [ 6  7  8]\n",
      "  [ 9 10 11]]\n",
      "\n",
      " [[12 13 14]\n",
      "  [15 16 17]\n",
      "  [18 19 20]\n",
      "  [21 22 23]]]\n",
      "--------------------------------------------------------------------------------\n"
     ]
    }
   ],
   "source": [
    "a = np.arange(24)  # 1차원 배열\n",
    "pprint(a)\n",
    "b = np.arange(24).reshape(4, 6)  # 2차원 배열\n",
    "pprint(b)\n",
    "c = np.arange(24).reshape(2, 4, 3)  # 3차원 배열\n",
    "pprint(c)"
   ],
   "metadata": {
    "collapsed": false
   }
  },
  {
   "cell_type": "code",
   "execution_count": 320,
   "outputs": [
    {
     "name": "stdout",
     "output_type": "stream",
     "text": [
      "5\n",
      "[     0      1      2      3      4 100000      6      7      8      9\n",
      "     10     11     12     13     14     15     16     17     18     19\n",
      "     20     21     22     23]\n"
     ]
    }
   ],
   "source": [
    "# 1차원 배열 요소 참조 및 변경\n",
    "print(a[5])\n",
    "a[5] = 100000\n",
    "print(a)"
   ],
   "metadata": {
    "collapsed": false
   }
  },
  {
   "cell_type": "code",
   "execution_count": 321,
   "outputs": [
    {
     "name": "stdout",
     "output_type": "stream",
     "text": [
      "1\n",
      "[[     0 100000      2      3      4      5]\n",
      " [     6      7      8      9     10     11]\n",
      " [    12     13     14     15     16     17]\n",
      " [    18     19     20     21     22     23]]\n",
      "9\n",
      "[[     0 100000      2      3      4      5]\n",
      " [     6      7      8 200000     10     11]\n",
      " [    12     13     14     15     16     17]\n",
      " [    18     19     20     21     22     23]]\n"
     ]
    }
   ],
   "source": [
    "# 2차원 배열 요소 참조 및 변경\n",
    "print(b[0][1])\n",
    "b[0][1] = 100000\n",
    "print(b)\n",
    "print(b[1, 3])\n",
    "b[1, 3] = 200000\n",
    "print(b)"
   ],
   "metadata": {
    "collapsed": false
   }
  },
  {
   "cell_type": "code",
   "execution_count": 322,
   "outputs": [
    {
     "name": "stdout",
     "output_type": "stream",
     "text": [
      "13\n",
      "[[[     0      1      2]\n",
      "  [     3      4      5]\n",
      "  [     6      7      8]\n",
      "  [     9     10     11]]\n",
      "\n",
      " [[    12 999999     14]\n",
      "  [    15     16     17]\n",
      "  [    18     19     20]\n",
      "  [    21     22     23]]]\n",
      "7\n"
     ]
    }
   ],
   "source": [
    "# 3차원 배열 요소 참조 및 변경\n",
    "print(c[1][0][1])\n",
    "c[1][0][1] = 999999\n",
    "print(c)\n",
    "print(c[0, 2, 1])"
   ],
   "metadata": {
    "collapsed": false
   }
  },
  {
   "cell_type": "markdown",
   "source": [
    "# 슬라이싱"
   ],
   "metadata": {
    "collapsed": false
   }
  },
  {
   "cell_type": "code",
   "execution_count": 323,
   "outputs": [
    {
     "name": "stdout",
     "output_type": "stream",
     "text": [
      "[     0      1      2      3      4 100000      6      7      8      9\n",
      "     10     11     12     13     14     15     16     17     18     19\n",
      "     20     21     22     23]\n",
      "[     0      1      2      3      4 100000      6      7      8      9\n",
      "     10     11     12     13     14     15     16     17     18     19\n",
      "     20     21     22     23]\n"
     ]
    }
   ],
   "source": [
    "print(a)\n",
    "\n",
    "print(a)"
   ],
   "metadata": {
    "collapsed": false
   }
  },
  {
   "cell_type": "markdown",
   "source": [
    "<img src=\"./numpyImage/numpyImage06.jpg\" width=\"1200\"/>"
   ],
   "metadata": {
    "collapsed": false
   }
  },
  {
   "cell_type": "code",
   "execution_count": 324,
   "outputs": [
    {
     "name": "stdout",
     "output_type": "stream",
     "text": [
      "[[     0 100000      2      3      4      5]\n",
      " [     6      7      8 200000     10     11]\n",
      " [    12     13     14     15     16     17]\n",
      " [    18     19     20     21     22     23]]\n",
      "================================================================================\n",
      "[[     6      7      8 200000     10     11]\n",
      " [    12     13     14     15     16     17]]\n",
      "================================================================================\n",
      "[[100000      2      3      4]\n",
      " [     7      8 200000     10]\n",
      " [    13     14     15     16]\n",
      " [    19     20     21     22]]\n",
      "================================================================================\n",
      "[[     7      8 200000     10]\n",
      " [    13     14     15     16]]\n"
     ]
    }
   ],
   "source": [
    "print(b)\n",
    "print('=' * 80)\n",
    "print(b[1:3])  # 열을 생략하면 행 단위로 슬라이싱을 할 수 있다. b[1:3. :]와 같은 표현이다.\n",
    "print('=' * 80)\n",
    "print(b[:, 1:5])  # 열 단위로 슬라이싱 하려면 행 위치에 ':'을 적어야 한다.\n",
    "print('=' * 80)\n",
    "print(b[1:3, 1:5])"
   ],
   "metadata": {
    "collapsed": false
   }
  },
  {
   "cell_type": "code",
   "execution_count": 325,
   "outputs": [
    {
     "name": "stdout",
     "output_type": "stream",
     "text": [
      "[[     7      8 200000     10]\n",
      " [    13     14     15     16]]\n"
     ]
    }
   ],
   "source": [
    "# 음수 인덱싱을 이용한 범위 설정\n",
    "# 음수 인덱스는 지정한 axis의 마지막 요소부터 반대 방향의 인덱스이고 -1은 마지막 요소의 인덱스를 의미한다.\n",
    "print(b[1:-1, 1:-1])"
   ],
   "metadata": {
    "collapsed": false
   }
  },
  {
   "cell_type": "code",
   "execution_count": 326,
   "outputs": [
    {
     "name": "stdout",
     "output_type": "stream",
     "text": [
      "[[12 13 14 15 16 17]]\n"
     ]
    }
   ],
   "source": [
    "print(b[1:3][1:5])  # b[1:3, :][1:5, :]와 같은 표현이다."
   ],
   "metadata": {
    "collapsed": false
   }
  },
  {
   "cell_type": "code",
   "execution_count": 327,
   "outputs": [
    {
     "name": "stdout",
     "output_type": "stream",
     "text": [
      "[[     0 100000      2      3      4      5]\n",
      " [     6      7      8 200000     10     11]\n",
      " [    12     13     14     15     16     17]\n",
      " [    18     19     20     21     22     23]]\n",
      "================================================================================\n",
      "[[     7      8 200000     10]\n",
      " [    13     14     15     16]]\n",
      "================================================================================\n",
      "[[     8 200000]\n",
      " [    14     15]]\n",
      "[[     7 999999 999999     10]\n",
      " [    13 999999 999999     16]]\n",
      "================================================================================\n",
      "[[     0 100000      2      3      4      5]\n",
      " [     6      7 999999 999999     10     11]\n",
      " [    12     13 999999 999999     16     17]\n",
      " [    18     19     20     21     22     23]]\n"
     ]
    }
   ],
   "source": [
    "# 슬라이싱을 이용한 데이터 수정\n",
    "print(b)\n",
    "print('=' * 80)\n",
    "# 슬라이싱을 이용한 배열 생성\n",
    "slide_arr = b[1:3, 1:5]\n",
    "print(slide_arr)\n",
    "print('=' * 80)\n",
    "print(slide_arr[:, 1:3])\n",
    "slide_arr[:, 1:3] = 999999\n",
    "print(slide_arr)\n",
    "print('=' * 80)\n",
    "print(b)"
   ],
   "metadata": {
    "collapsed": false
   }
  },
  {
   "cell_type": "markdown",
   "source": [
    "# 불린 인덱싱\n",
    "- numpy의 불린 인덱싱은 배열의 각 요소 선택 여부를 True, False로 지정하는 방식이다."
   ],
   "metadata": {
    "collapsed": false
   }
  },
  {
   "cell_type": "code",
   "execution_count": 328,
   "outputs": [
    {
     "name": "stdout",
     "output_type": "stream",
     "text": [
      "[[ 0  1  2  3  4  5]\n",
      " [ 6  7  8  9 10 11]\n",
      " [12 13 14 15 16 17]\n",
      " [18 19 20 21 22 23]]\n"
     ]
    }
   ],
   "source": [
    "a = np.arange(24).reshape(4, 6)\n",
    "print(a)"
   ],
   "metadata": {
    "collapsed": false
   }
  },
  {
   "cell_type": "code",
   "execution_count": 329,
   "outputs": [
    {
     "name": "stdout",
     "output_type": "stream",
     "text": [
      "[[0 1 0 1 0 1]\n",
      " [0 1 0 1 0 1]\n",
      " [0 1 0 1 0 1]\n",
      " [0 1 0 1 0 1]]\n",
      "================================================================================\n",
      "[[ True False  True False  True False]\n",
      " [ True False  True False  True False]\n",
      " [ True False  True False  True False]\n",
      " [ True False  True False  True False]]\n"
     ]
    }
   ],
   "source": [
    "# a 배열에서 요소의 값이 짝수인 요소의 총 합계\n",
    "# numpy의 브로드캐스팅(다대일 연산) 기능을 이용해서 배열의 요소 중에서 짝수인 요소를 확인한다.\n",
    "even_arr1 = a % 2\n",
    "print(even_arr1)\n",
    "\n",
    "print('=' * 80)\n",
    "\n",
    "even_arr2 = a % 2 == 0\n",
    "print(even_arr2)"
   ],
   "metadata": {
    "collapsed": false
   }
  },
  {
   "cell_type": "code",
   "execution_count": 330,
   "outputs": [
    {
     "name": "stdout",
     "output_type": "stream",
     "text": [
      "[ 0  2  4  6  8 10 12 14 16 18 20 22]\n",
      "[ 0  2  4  6  8 10 12 14 16 18 20 22]\n"
     ]
    }
   ],
   "source": [
    "# 불린 인덱싱은 브로드캐스팅 결과가 True인 요소들만 추출한다.\n",
    "print(a[even_arr2])\n",
    "print(a[a % 2 == 0])"
   ],
   "metadata": {
    "collapsed": false
   }
  },
  {
   "cell_type": "code",
   "execution_count": 331,
   "outputs": [
    {
     "name": "stdout",
     "output_type": "stream",
     "text": [
      "276\n",
      "132\n",
      "144\n"
     ]
    }
   ],
   "source": [
    "print(np.sum(a))\n",
    "print(np.sum(a[a % 2 == 0]))\n",
    "print(a[a % 2 == 1].sum())"
   ],
   "metadata": {
    "collapsed": false
   }
  },
  {
   "cell_type": "markdown",
   "source": [
    "# 불린 인덱싱 응용\n",
    "- 데이터 파일: 2014년 시애틀 강수량 데이터 → ./data/Seattle2014.csv\n",
    "- 2014년 시애틀 1월 평균 강수량 구하기"
   ],
   "metadata": {
    "collapsed": false
   }
  },
  {
   "cell_type": "code",
   "execution_count": 332,
   "outputs": [],
   "source": [
    "import pandas as pd"
   ],
   "metadata": {
    "collapsed": false
   }
  },
  {
   "cell_type": "code",
   "execution_count": 333,
   "outputs": [
    {
     "name": "stdout",
     "output_type": "stream",
     "text": [
      "<class 'pandas.core.frame.DataFrame'>\n"
     ]
    },
    {
     "data": {
      "text/plain": "               STATION                                STATION_NAME      DATE  \\\n0    GHCND:USW00024233  SEATTLE TACOMA INTERNATIONAL AIRPORT WA US  20140101   \n1    GHCND:USW00024233  SEATTLE TACOMA INTERNATIONAL AIRPORT WA US  20140102   \n2    GHCND:USW00024233  SEATTLE TACOMA INTERNATIONAL AIRPORT WA US  20140103   \n3    GHCND:USW00024233  SEATTLE TACOMA INTERNATIONAL AIRPORT WA US  20140104   \n4    GHCND:USW00024233  SEATTLE TACOMA INTERNATIONAL AIRPORT WA US  20140105   \n..                 ...                                         ...       ...   \n360  GHCND:USW00024233  SEATTLE TACOMA INTERNATIONAL AIRPORT WA US  20141227   \n361  GHCND:USW00024233  SEATTLE TACOMA INTERNATIONAL AIRPORT WA US  20141228   \n362  GHCND:USW00024233  SEATTLE TACOMA INTERNATIONAL AIRPORT WA US  20141229   \n363  GHCND:USW00024233  SEATTLE TACOMA INTERNATIONAL AIRPORT WA US  20141230   \n364  GHCND:USW00024233  SEATTLE TACOMA INTERNATIONAL AIRPORT WA US  20141231   \n\n     PRCP  SNWD  SNOW  TMAX  TMIN  AWND  WDF2  WDF5  WSF2  WSF5  WT01  WT05  \\\n0       0     0     0    72    33    12   340   310    36    40 -9999 -9999   \n1      41     0     0   106    61    32   190   200    94   116 -9999 -9999   \n2      15     0     0    89    28    26    30    50    63    72     1 -9999   \n3       0     0     0    78     6    27    40    40    45    58     1 -9999   \n4       0     0     0    83    -5    37    10    10    67    76 -9999 -9999   \n..    ...   ...   ...   ...   ...   ...   ...   ...   ...   ...   ...   ...   \n360    33     0     0    94    44    49   210   210   112   161     1 -9999   \n361    41     0     0    67    28    18    50    30    58    72     1 -9999   \n362     0     0     0    61     6    43   350   350    76   103     1 -9999   \n363     0     0     0    33   -21    36    90    70    63    76 -9999 -9999   \n364     0     0     0    33   -27    30    30 -9999    58 -9999 -9999 -9999   \n\n     WT02  WT03  \n0   -9999 -9999  \n1   -9999 -9999  \n2   -9999 -9999  \n3   -9999 -9999  \n4   -9999 -9999  \n..    ...   ...  \n360 -9999 -9999  \n361 -9999 -9999  \n362 -9999 -9999  \n363 -9999 -9999  \n364 -9999 -9999  \n\n[365 rows x 17 columns]",
      "text/html": "<div>\n<style scoped>\n    .dataframe tbody tr th:only-of-type {\n        vertical-align: middle;\n    }\n\n    .dataframe tbody tr th {\n        vertical-align: top;\n    }\n\n    .dataframe thead th {\n        text-align: right;\n    }\n</style>\n<table border=\"1\" class=\"dataframe\">\n  <thead>\n    <tr style=\"text-align: right;\">\n      <th></th>\n      <th>STATION</th>\n      <th>STATION_NAME</th>\n      <th>DATE</th>\n      <th>PRCP</th>\n      <th>SNWD</th>\n      <th>SNOW</th>\n      <th>TMAX</th>\n      <th>TMIN</th>\n      <th>AWND</th>\n      <th>WDF2</th>\n      <th>WDF5</th>\n      <th>WSF2</th>\n      <th>WSF5</th>\n      <th>WT01</th>\n      <th>WT05</th>\n      <th>WT02</th>\n      <th>WT03</th>\n    </tr>\n  </thead>\n  <tbody>\n    <tr>\n      <th>0</th>\n      <td>GHCND:USW00024233</td>\n      <td>SEATTLE TACOMA INTERNATIONAL AIRPORT WA US</td>\n      <td>20140101</td>\n      <td>0</td>\n      <td>0</td>\n      <td>0</td>\n      <td>72</td>\n      <td>33</td>\n      <td>12</td>\n      <td>340</td>\n      <td>310</td>\n      <td>36</td>\n      <td>40</td>\n      <td>-9999</td>\n      <td>-9999</td>\n      <td>-9999</td>\n      <td>-9999</td>\n    </tr>\n    <tr>\n      <th>1</th>\n      <td>GHCND:USW00024233</td>\n      <td>SEATTLE TACOMA INTERNATIONAL AIRPORT WA US</td>\n      <td>20140102</td>\n      <td>41</td>\n      <td>0</td>\n      <td>0</td>\n      <td>106</td>\n      <td>61</td>\n      <td>32</td>\n      <td>190</td>\n      <td>200</td>\n      <td>94</td>\n      <td>116</td>\n      <td>-9999</td>\n      <td>-9999</td>\n      <td>-9999</td>\n      <td>-9999</td>\n    </tr>\n    <tr>\n      <th>2</th>\n      <td>GHCND:USW00024233</td>\n      <td>SEATTLE TACOMA INTERNATIONAL AIRPORT WA US</td>\n      <td>20140103</td>\n      <td>15</td>\n      <td>0</td>\n      <td>0</td>\n      <td>89</td>\n      <td>28</td>\n      <td>26</td>\n      <td>30</td>\n      <td>50</td>\n      <td>63</td>\n      <td>72</td>\n      <td>1</td>\n      <td>-9999</td>\n      <td>-9999</td>\n      <td>-9999</td>\n    </tr>\n    <tr>\n      <th>3</th>\n      <td>GHCND:USW00024233</td>\n      <td>SEATTLE TACOMA INTERNATIONAL AIRPORT WA US</td>\n      <td>20140104</td>\n      <td>0</td>\n      <td>0</td>\n      <td>0</td>\n      <td>78</td>\n      <td>6</td>\n      <td>27</td>\n      <td>40</td>\n      <td>40</td>\n      <td>45</td>\n      <td>58</td>\n      <td>1</td>\n      <td>-9999</td>\n      <td>-9999</td>\n      <td>-9999</td>\n    </tr>\n    <tr>\n      <th>4</th>\n      <td>GHCND:USW00024233</td>\n      <td>SEATTLE TACOMA INTERNATIONAL AIRPORT WA US</td>\n      <td>20140105</td>\n      <td>0</td>\n      <td>0</td>\n      <td>0</td>\n      <td>83</td>\n      <td>-5</td>\n      <td>37</td>\n      <td>10</td>\n      <td>10</td>\n      <td>67</td>\n      <td>76</td>\n      <td>-9999</td>\n      <td>-9999</td>\n      <td>-9999</td>\n      <td>-9999</td>\n    </tr>\n    <tr>\n      <th>...</th>\n      <td>...</td>\n      <td>...</td>\n      <td>...</td>\n      <td>...</td>\n      <td>...</td>\n      <td>...</td>\n      <td>...</td>\n      <td>...</td>\n      <td>...</td>\n      <td>...</td>\n      <td>...</td>\n      <td>...</td>\n      <td>...</td>\n      <td>...</td>\n      <td>...</td>\n      <td>...</td>\n      <td>...</td>\n    </tr>\n    <tr>\n      <th>360</th>\n      <td>GHCND:USW00024233</td>\n      <td>SEATTLE TACOMA INTERNATIONAL AIRPORT WA US</td>\n      <td>20141227</td>\n      <td>33</td>\n      <td>0</td>\n      <td>0</td>\n      <td>94</td>\n      <td>44</td>\n      <td>49</td>\n      <td>210</td>\n      <td>210</td>\n      <td>112</td>\n      <td>161</td>\n      <td>1</td>\n      <td>-9999</td>\n      <td>-9999</td>\n      <td>-9999</td>\n    </tr>\n    <tr>\n      <th>361</th>\n      <td>GHCND:USW00024233</td>\n      <td>SEATTLE TACOMA INTERNATIONAL AIRPORT WA US</td>\n      <td>20141228</td>\n      <td>41</td>\n      <td>0</td>\n      <td>0</td>\n      <td>67</td>\n      <td>28</td>\n      <td>18</td>\n      <td>50</td>\n      <td>30</td>\n      <td>58</td>\n      <td>72</td>\n      <td>1</td>\n      <td>-9999</td>\n      <td>-9999</td>\n      <td>-9999</td>\n    </tr>\n    <tr>\n      <th>362</th>\n      <td>GHCND:USW00024233</td>\n      <td>SEATTLE TACOMA INTERNATIONAL AIRPORT WA US</td>\n      <td>20141229</td>\n      <td>0</td>\n      <td>0</td>\n      <td>0</td>\n      <td>61</td>\n      <td>6</td>\n      <td>43</td>\n      <td>350</td>\n      <td>350</td>\n      <td>76</td>\n      <td>103</td>\n      <td>1</td>\n      <td>-9999</td>\n      <td>-9999</td>\n      <td>-9999</td>\n    </tr>\n    <tr>\n      <th>363</th>\n      <td>GHCND:USW00024233</td>\n      <td>SEATTLE TACOMA INTERNATIONAL AIRPORT WA US</td>\n      <td>20141230</td>\n      <td>0</td>\n      <td>0</td>\n      <td>0</td>\n      <td>33</td>\n      <td>-21</td>\n      <td>36</td>\n      <td>90</td>\n      <td>70</td>\n      <td>63</td>\n      <td>76</td>\n      <td>-9999</td>\n      <td>-9999</td>\n      <td>-9999</td>\n      <td>-9999</td>\n    </tr>\n    <tr>\n      <th>364</th>\n      <td>GHCND:USW00024233</td>\n      <td>SEATTLE TACOMA INTERNATIONAL AIRPORT WA US</td>\n      <td>20141231</td>\n      <td>0</td>\n      <td>0</td>\n      <td>0</td>\n      <td>33</td>\n      <td>-27</td>\n      <td>30</td>\n      <td>30</td>\n      <td>-9999</td>\n      <td>58</td>\n      <td>-9999</td>\n      <td>-9999</td>\n      <td>-9999</td>\n      <td>-9999</td>\n      <td>-9999</td>\n    </tr>\n  </tbody>\n</table>\n<p>365 rows × 17 columns</p>\n</div>"
     },
     "execution_count": 333,
     "metadata": {},
     "output_type": "execute_result"
    }
   ],
   "source": [
    "# pandas의 read_csv() 메서드로 csv 파일을 읽어들인다.\n",
    "rain_in_seattle = pd.read_csv('./data/Seattle2014.csv', delimiter=',')\n",
    "print(type(rain_in_seattle))\n",
    "rain_in_seattle"
   ],
   "metadata": {
    "collapsed": false
   }
  },
  {
   "cell_type": "code",
   "execution_count": 334,
   "outputs": [
    {
     "name": "stdout",
     "output_type": "stream",
     "text": [
      "<class 'numpy.ndarray'>\n",
      "[  0  41  15   0   0   3 122  97  58  43 213  15   0   0   0   0   0   0\n",
      "   0   0   0   5   0   0   0   0   0  89 216   0  23  20   0   0   0   0\n",
      "   0   0  51   5 183 170  46  18  94 117 264 145 152  10  30  28  25  61\n",
      " 130   3   0   0   0   5 191 107 165 467  30   0 323  43 188   0   0   5\n",
      "  69  81 277   3   0   5   0   0   0   0   0  41  36   3 221 140   0   0\n",
      "   0   0  25   0  46   0   0  46   0   0   0   0   0   0   5 109 185   0\n",
      " 137   0  51 142  89 124   0  33  69   0   0   0   0   0 333 160  51   0\n",
      "   0 137  20   5   0   0   0   0   0   0   0   0   0   0   0   0  38   0\n",
      "  56   0   0   0   0   0   0   0   0   0   0   0   0   0   0   0   0   0\n",
      "  18  64   0   5  36  13   0   8   3   0   0   0   0   0   0  18  23   0\n",
      "   0   0   0   0   0   0   0   0   0   0   0   0   0   0   0   0   0   0\n",
      "   0   0   0   0   3 193   0   0   0   0   0   0   0   0   0   5   0   0\n",
      "   0   0   0   0   0   0   5 127 216   0  10   0   0   0   0   0   0   0\n",
      "   0   0   0   0   0   0   0  84  13   0  30   0   0   0   0   0   0   0\n",
      "   0   0   0   0   0   0   0   5   3   0   0   0   3 183 203  43  89   0\n",
      "   0   8   0   0   0   0   0   0   0   0   0   0   3  74   0  76  71  86\n",
      "   0  33 150   0 117  10 320  94  41  61  15   8 127   5 254 170   0  18\n",
      " 109  41  48  41   0   0  51   0   0   0   0   0   0   0   0   0   0  36\n",
      " 152   5 119  13 183   3  33 343  36   0   0   0   0   8  30  74   0  91\n",
      "  99 130  69   0   0   0   0   0  28 130  30 196   0   0 206  53   0   0\n",
      "  33  41   0   0   0]\n",
      "Data size: 365\n"
     ]
    }
   ],
   "source": [
    "# 2014년 시애틀 강수량 데이터의 강수량 열(PRCP)의 데이터만 추출한다.\n",
    "# → 데이터프레임_이름['열_이름'], 데이터프레임_이름.get('열_이름'), 데이터프레임_이름.열_이름\n",
    "# → 인덱스도 같이 추출된다.\n",
    "\n",
    "# rain_arr = rain_in_seattle['PRCP']\n",
    "# rain_arr = rain_in_seattle.get('PRCP')\n",
    "# rain_arr = rain_in_seattle.PRCP\n",
    "# print(type(rain_arr))   # <class 'pandas.core.series.Series'> → 데이터프레임을 구성하는 열 1개\n",
    "\n",
    "# 데이터만 추출시 values 속성을, 인덱스만 추출시 index 속성을 사용한다.\n",
    "# values 속성을 이용해서 Series의 데이터만 얻어오면 numpy 배열 형태로 얻어온다.\n",
    "rain_arr = rain_in_seattle['PRCP'].values\n",
    "print(type(rain_arr))  # <class 'numpy.ndarray'>\n",
    "print(rain_arr)\n",
    "\n",
    "print('Data size:', len(rain_arr))"
   ],
   "metadata": {
    "collapsed": false
   }
  },
  {
   "cell_type": "code",
   "execution_count": 335,
   "outputs": [
    {
     "name": "stdout",
     "output_type": "stream",
     "text": [
      "[ 0  1  2  3  4  5  6  7  8  9 10 11 12 13 14 15 16 17 18 19 20 21 22 23\n",
      " 24 25 26 27 28 29 30 31 32 33 34 35 36 37 38 39]\n",
      "[ True  True  True  True  True  True  True  True  True  True  True  True\n",
      "  True  True  True  True  True  True  True  True  True  True  True  True\n",
      "  True  True  True  True  True  True  True False False False False False\n",
      " False False False False]\n"
     ]
    }
   ],
   "source": [
    "days_arr = np.arange(0, 365)  # 날짜 배열\n",
    "print(days_arr[:40])\n",
    "condition_jan = days_arr < 31  # 1월의 날 수 만큼 불린 인덱스를 생성한다.\n",
    "print(condition_jan[:40])"
   ],
   "metadata": {
    "collapsed": false
   }
  },
  {
   "cell_type": "code",
   "execution_count": 336,
   "outputs": [
    {
     "name": "stdout",
     "output_type": "stream",
     "text": [
      "[  0  41  15   0   0   3 122  97  58  43 213  15   0   0   0   0   0   0\n",
      "   0   0   0   5   0   0   0   0   0  89 216   0  23]\n",
      "31\n"
     ]
    }
   ],
   "source": [
    "# 불린 인덱싱을 이용해서 1월의 강수량만 추출한다.\n",
    "rain_jan = rain_arr[condition_jan]\n",
    "print(rain_jan)\n",
    "print(len(rain_jan))"
   ],
   "metadata": {
    "collapsed": false
   }
  },
  {
   "cell_type": "code",
   "execution_count": 337,
   "outputs": [
    {
     "name": "stdout",
     "output_type": "stream",
     "text": [
      "1월 강수량 합계: 940\n",
      "1월 강수량 평균: 30.322580645161292\n"
     ]
    }
   ],
   "source": [
    "print('1월 강수량 합계:', np.sum(rain_jan))\n",
    "print('1월 강수량 평균:', np.mean(rain_jan))"
   ],
   "metadata": {
    "collapsed": false
   }
  },
  {
   "cell_type": "markdown",
   "source": [
    "# 팬시 인덱싱\n",
    "- 배열에 인덱스 배열을 전달해 요소를 참조하는 방법이다."
   ],
   "metadata": {
    "collapsed": false
   }
  },
  {
   "cell_type": "code",
   "execution_count": 338,
   "outputs": [
    {
     "name": "stdout",
     "output_type": "stream",
     "text": [
      "[[ 1  2  3  4  5  6]\n",
      " [ 7  8  9 10 11 12]\n",
      " [13 14 15 16 17 18]\n",
      " [19 20 21 22 23 24]]\n"
     ]
    }
   ],
   "source": [
    "a = np.arange(1, 25).reshape(4, 6)\n",
    "print(a)"
   ],
   "metadata": {
    "collapsed": false
   }
  },
  {
   "cell_type": "code",
   "execution_count": 339,
   "outputs": [
    {
     "name": "stdout",
     "output_type": "stream",
     "text": [
      "1 8 15 22\n",
      "(1, 8, 15, 22)\n",
      "<class 'tuple'>\n",
      "[1, 8, 15, 22]\n",
      "<class 'list'>\n",
      "================================================================================\n",
      "[ 1  8 15 22]\n"
     ]
    }
   ],
   "source": [
    "print(a[0, 0], a[1, 1], a[2, 2], a[3, 3])\n",
    "arr = a[0, 0], a[1, 1], a[2, 2], a[3, 3]\n",
    "print(arr)\n",
    "print(type(arr))\n",
    "arr = [a[0, 0], a[1, 1], a[2, 2], a[3, 3]]\n",
    "print(arr)\n",
    "print(type(arr))\n",
    "print('=' * 80)\n",
    "print(a[[0, 1, 2, 3], [0, 1, 2, 3]])"
   ],
   "metadata": {
    "collapsed": false
   }
  },
  {
   "cell_type": "markdown",
   "source": [
    "# 배열 변환\n",
    "- 배열을 변환하는 방법은 전치, 배열 형태 변경, 배열 요소 추가, 배열 결합, 배열 분리 등이 있다.\n",
    "- 전치는 행렬의 인덱스가 바뀌는 변환이다.\n",
    "<br/>\n",
    "<img src=\"./numpyImage/numpyImage08.jpg\" width=\"600\"/>"
   ],
   "metadata": {
    "collapsed": false
   }
  },
  {
   "cell_type": "code",
   "execution_count": 340,
   "outputs": [
    {
     "name": "stdout",
     "output_type": "stream",
     "text": [
      "[[8 9 9]\n",
      " [4 8 9]]\n",
      "[[8 4]\n",
      " [9 8]\n",
      " [9 9]]\n"
     ]
    }
   ],
   "source": [
    "# numpy에서 행렬을 전치하기 위해 배열.T 속성을 사용한다.\n",
    "a = np.random.randint(1, 10, (2, 3))\n",
    "print(a)\n",
    "print(a.T)"
   ],
   "metadata": {
    "collapsed": false
   }
  },
  {
   "cell_type": "markdown",
   "source": [
    "# 배열 형태 변경\n",
    "- numpy는 배열의 형태를 변경하는 reshape()와 ravel() 메서드를 제공한다.\n",
    "- reshape() 메서드는 데이터 변경 없이 지정된 shape으로 배열의 형태를 변환한다.\n",
    "- ravel() 메서드는 배열의 shape을 1차원으로 변환한다."
   ],
   "metadata": {
    "collapsed": false
   }
  },
  {
   "cell_type": "code",
   "execution_count": 341,
   "outputs": [
    {
     "name": "stdout",
     "output_type": "stream",
     "text": [
      "[[6 7 4]\n",
      " [2 4 9]]\n",
      "[6 7 4 2 4 9]\n",
      "[[6 7 4]\n",
      " [2 4 9]]\n",
      "<class 'numpy.ndarray'>\n"
     ]
    }
   ],
   "source": [
    "a = np.random.randint(1, 10, (2, 3))\n",
    "print(a)\n",
    "print(a.ravel())  # 원본 데이터 유지\n",
    "print(a)\n",
    "print(type(a))  # <class 'numpy.ndarray'> n-dimensional Array, n차원 배열 객체"
   ],
   "metadata": {
    "collapsed": false
   }
  },
  {
   "cell_type": "code",
   "execution_count": 342,
   "outputs": [
    {
     "name": "stdout",
     "output_type": "stream",
     "text": [
      "[6 7 4 2 4 9]\n",
      "[999   7   4   2   4   9]\n",
      "[[999   7   4]\n",
      " [  2   4   9]]\n"
     ]
    }
   ],
   "source": [
    "b = a.ravel()\n",
    "print(b)\n",
    "b[0] = 999  # 원본 데이터 훼손\n",
    "print(b)\n",
    "# ravel() 메서드는 원본 배열의 view를 반환한다.\n",
    "# ravel() 메서드가 반환한 배열을 수정하면 원본 배열의 내용도 같이 수정된다.\n",
    "print(a)"
   ],
   "metadata": {
    "collapsed": false
   }
  },
  {
   "cell_type": "code",
   "execution_count": 343,
   "outputs": [
    {
     "name": "stdout",
     "output_type": "stream",
     "text": [
      "[[5 3 8]\n",
      " [6 4 6]]\n",
      "================================================================================\n",
      "[[[5]\n",
      "  [3]]\n",
      "\n",
      " [[8]\n",
      "  [6]]\n",
      "\n",
      " [[4]\n",
      "  [6]]]\n",
      "================================================================================\n",
      "[[[999]\n",
      "  [  3]]\n",
      "\n",
      " [[  8]\n",
      "  [  6]]\n",
      "\n",
      " [[  4]\n",
      "  [  6]]]\n",
      "================================================================================\n",
      "[[999   3   8]\n",
      " [  6   4   6]]\n"
     ]
    }
   ],
   "source": [
    "a = np.random.randint(1, 10, (2, 3))\n",
    "print(a)\n",
    "print('=' * 80)\n",
    "b = a.reshape(3, 2, 1)\n",
    "print(b)\n",
    "print('=' * 80)\n",
    "b[0][0][0] = 999  # 원본 데이터 훼손\n",
    "print(b)\n",
    "print('=' * 80)\n",
    "# reshape() 메서드도 원본 배열의 view를 반환한다.\n",
    "# reshape() 메서드가 반환한 배열을 수정하면 원본 배열의 내용도 같이 수정된다.\n",
    "print(a)"
   ],
   "metadata": {
    "collapsed": false
   }
  },
  {
   "cell_type": "markdown",
   "source": [
    "- resize() 메서드로 배열의 shape과 크기를 변경한다.\n",
    "- np.resize(배열, new_shape)\n",
    "- resize()와 reshape() 메서드는 shape을 변경한다는 점에서 유사하지만, reshape()은 요소 개수 변경이 불가능하고, resize()는 요소 개수 변경이 가능하다."
   ],
   "metadata": {
    "collapsed": false
   }
  },
  {
   "cell_type": "code",
   "execution_count": 344,
   "outputs": [
    {
     "name": "stdout",
     "output_type": "stream",
     "text": [
      "[[2 3 5 3 1 5]\n",
      " [6 1 8 1 8 3]]\n",
      "================================================================================\n",
      "[[2 3 5 3 1 5]\n",
      " [6 1 8 1 8 3]]\n",
      "================================================================================\n",
      "================================================================================\n",
      "[[2 3]\n",
      " [5 3]\n",
      " [1 5]\n",
      " [6 1]\n",
      " [8 1]\n",
      " [8 3]]\n"
     ]
    }
   ],
   "source": [
    "a = np.random.randint(1, 10, (2, 6))\n",
    "print(a)\n",
    "print('=' * 80)\n",
    "np.resize(a, (6, 2))\n",
    "print(a)\n",
    "print('=' * 80)\n",
    "# resize() 메서드는 배열을 지정한 shape으로 변경한 새 배열을 리턴한다.\n",
    "print('=' * 80)\n",
    "b = np.resize(a, (6, 2))  # np.resize() 메서드는 반드시 실행결과를 새 배열에 저장해서 사용한다.\n",
    "print(b)"
   ],
   "metadata": {
    "collapsed": false
   }
  },
  {
   "cell_type": "code",
   "execution_count": 345,
   "outputs": [
    {
     "name": "stdout",
     "output_type": "stream",
     "text": [
      "[[1 2 6 2 8 9]\n",
      " [9 5 7 2 6 7]]\n",
      "================================================================================\n",
      "[[1 2]\n",
      " [6 2]\n",
      " [8 9]\n",
      " [9 5]\n",
      " [7 2]\n",
      " [6 7]]\n"
     ]
    }
   ],
   "source": [
    "a = np.random.randint(1, 10, (2, 6))\n",
    "print(a)\n",
    "print('=' * 80)\n",
    "a.resize(6, 2)  # 원본 변경\n",
    "print(a)"
   ],
   "metadata": {
    "collapsed": false
   }
  },
  {
   "cell_type": "code",
   "execution_count": 346,
   "outputs": [
    {
     "name": "stdout",
     "output_type": "stream",
     "text": [
      "[[3 3 3 4 4 3]\n",
      " [2 8 6 5 7 9]]\n",
      "================================================================================\n",
      "[[3 3 3 4 4 3 2 8 6 5]\n",
      " [7 9 0 0 0 0 0 0 0 0]]\n",
      "================================================================================\n",
      "[[3 3 3 4]\n",
      " [4 3 2 8]]\n"
     ]
    }
   ],
   "source": [
    "# 요소 개수(크기)가 변경되는 resize() 메서드\n",
    "a = np.random.randint(1, 10, (2, 6))\n",
    "print(a)\n",
    "print('=' * 80)\n",
    "# a.reshape(2, 10)    # reshape() 메서드는 원본과 요소의 개수가 다르면 에러가 발생한다.\n",
    "a.resize(2, 10)  # 크기 증가시 늘어난 요소에는 0이 채워진다.\n",
    "print(a)\n",
    "print('=' * 80)\n",
    "a.resize(2, 4)  # 크기 감소시 초과된 데이터는 분실된다.\n",
    "print(a)"
   ],
   "metadata": {
    "collapsed": false
   }
  },
  {
   "cell_type": "code",
   "execution_count": 347,
   "outputs": [
    {
     "name": "stdout",
     "output_type": "stream",
     "text": [
      "[[1 5 2 6 4 2]\n",
      " [8 8 1 7 1 4]]\n",
      "================================================================================\n",
      "[[1 5 2 6 4 2 8 8 1 7]\n",
      " [1 4 1 5 2 6 4 2 8 8]]\n",
      "================================================================================\n",
      "[[1 5 2 6]\n",
      " [4 2 8 8]]\n"
     ]
    }
   ],
   "source": [
    "a = np.random.randint(1, 10, (2, 6))\n",
    "print(a)\n",
    "print('=' * 80)\n",
    "a = np.resize(a, (2, 10))  # 늘어난 요소에는 원본 배열 데이터가 반복되어 채워진다.\n",
    "print(a)\n",
    "print('=' * 80)\n",
    "a = np.resize(a, (2, 4))  # 줄어든 요소의 데이터는 분실된다.\n",
    "print(a)"
   ],
   "metadata": {
    "collapsed": false
   }
  },
  {
   "cell_type": "markdown",
   "source": [
    "# 배열 요소 추가\n",
    "append() 메서드는 배열의 끝에 데이터(배열)를 추가한다. axis 속성으로 데이터가 추가되는 방향을 지정할 수 있다.\n",
    "- np.append(배열, 추가할 데이터, axis)"
   ],
   "metadata": {
    "collapsed": false
   }
  },
  {
   "cell_type": "code",
   "execution_count": 348,
   "outputs": [
    {
     "name": "stdout",
     "output_type": "stream",
     "text": [
      "type: <class 'numpy.ndarray'>\n",
      "shape: (3, 3), dimension: 2, dtype: int64\n",
      "※ numpy 배열의 데이터\n",
      "[[6 9 6]\n",
      " [5 9 5]\n",
      " [8 1 6]]\n",
      "--------------------------------------------------------------------------------\n",
      "type: <class 'numpy.ndarray'>\n",
      "shape: (3, 3), dimension: 2, dtype: int64\n",
      "※ numpy 배열의 데이터\n",
      "[[11 14 10]\n",
      " [17 13 13]\n",
      " [13 11 11]]\n",
      "--------------------------------------------------------------------------------\n"
     ]
    }
   ],
   "source": [
    "a = np.random.randint(1, 10, (3, 3))\n",
    "pprint(a)\n",
    "b = np.random.randint(10, 19, (3, 3))\n",
    "pprint(b)"
   ],
   "metadata": {
    "collapsed": false
   }
  },
  {
   "cell_type": "code",
   "execution_count": 349,
   "outputs": [
    {
     "name": "stdout",
     "output_type": "stream",
     "text": [
      "type: <class 'numpy.ndarray'>\n",
      "shape: (18,), dimension: 1, dtype: int64\n",
      "※ numpy 배열의 데이터\n",
      "[ 6  9  6  5  9  5  8  1  6 11 14 10 17 13 13 13 11 11]\n",
      "--------------------------------------------------------------------------------\n",
      "type: <class 'numpy.ndarray'>\n",
      "shape: (18,), dimension: 1, dtype: int64\n",
      "※ numpy 배열의 데이터\n",
      "[ 6  9  6  5  9  5  8  1  6 11 14 10 17 13 13 13 11 11]\n",
      "--------------------------------------------------------------------------------\n"
     ]
    }
   ],
   "source": [
    "# axis를 지정하지 않았을 경우: 1차원 배열로 변환되어 결합된다.\n",
    "result = np.append(a, b)\n",
    "pprint(result)\n",
    "result = np.append(a, b, axis=None)\n",
    "pprint(result)"
   ],
   "metadata": {
    "collapsed": false
   }
  },
  {
   "cell_type": "code",
   "execution_count": 350,
   "outputs": [
    {
     "name": "stdout",
     "output_type": "stream",
     "text": [
      "type: <class 'numpy.ndarray'>\n",
      "shape: (6, 3), dimension: 2, dtype: int64\n",
      "※ numpy 배열의 데이터\n",
      "[[ 6  9  6]\n",
      " [ 5  9  5]\n",
      " [ 8  1  6]\n",
      " [11 14 10]\n",
      " [17 13 13]\n",
      " [13 11 11]]\n",
      "--------------------------------------------------------------------------------\n"
     ]
    }
   ],
   "source": [
    "# axis=0으로 지정한 경우\n",
    "result = np.append(a, b, axis=0)  # a 배열 아래쪽에 b 배열이 추가된다.\n",
    "pprint(result)"
   ],
   "metadata": {
    "collapsed": false
   }
  },
  {
   "cell_type": "code",
   "execution_count": 351,
   "outputs": [
    {
     "name": "stdout",
     "output_type": "stream",
     "text": [
      "type: <class 'numpy.ndarray'>\n",
      "shape: (4, 3), dimension: 2, dtype: int64\n",
      "※ numpy 배열의 데이터\n",
      "[[11 16 18]\n",
      " [16 10 18]\n",
      " [18 10 14]\n",
      " [18 15 11]]\n",
      "--------------------------------------------------------------------------------\n",
      "type: <class 'numpy.ndarray'>\n",
      "shape: (7, 3), dimension: 2, dtype: int64\n",
      "※ numpy 배열의 데이터\n",
      "[[ 6  9  6]\n",
      " [ 5  9  5]\n",
      " [ 8  1  6]\n",
      " [11 16 18]\n",
      " [16 10 18]\n",
      " [18 10 14]\n",
      " [18 15 11]]\n",
      "--------------------------------------------------------------------------------\n"
     ]
    }
   ],
   "source": [
    "# axis=0으로 지정하여 아래쪽에 데이터를 추가할 경우 행의 개수는 달라도 상관없으나, 열의 개수는 반드시 동일해야 한다!\n",
    "diff_shape = np.random.randint(10, 19, (4, 3))  # a 배열과 행의 개수가 다른 배열\n",
    "pprint(diff_shape)\n",
    "result = np.append(a, diff_shape, axis=0)\n",
    "pprint(result)\n",
    "\n",
    "# diff_shape = np.random.randint(10, 19, (3, 4))  # a 배열과 열의 개수가 다른 배열\n",
    "# pprint(diff_shape)\n",
    "# result = np.append(a, diff_shape, axis=0)     # 추가할 데이터가 a 배열과 열의 개수가 다르기 때문에 에러가 발생한다.\n",
    "# pprint(result)"
   ],
   "metadata": {
    "collapsed": false
   }
  },
  {
   "cell_type": "code",
   "execution_count": 352,
   "outputs": [
    {
     "name": "stdout",
     "output_type": "stream",
     "text": [
      "type: <class 'numpy.ndarray'>\n",
      "shape: (3, 6), dimension: 2, dtype: int64\n",
      "※ numpy 배열의 데이터\n",
      "[[ 6  9  6 11 14 10]\n",
      " [ 5  9  5 17 13 13]\n",
      " [ 8  1  6 13 11 11]]\n",
      "--------------------------------------------------------------------------------\n"
     ]
    }
   ],
   "source": [
    "# axis=1으로 지정한 경우\n",
    "result = np.append(a, b, axis=1)  # a 배열 오른쪽에 b 배열이 추가된다.\n",
    "pprint(result)"
   ],
   "metadata": {
    "collapsed": false
   }
  },
  {
   "cell_type": "code",
   "execution_count": 353,
   "outputs": [
    {
     "name": "stdout",
     "output_type": "stream",
     "text": [
      "type: <class 'numpy.ndarray'>\n",
      "shape: (3, 4), dimension: 2, dtype: int64\n",
      "※ numpy 배열의 데이터\n",
      "[[11 12 10 17]\n",
      " [16 18 17 12]\n",
      " [10 14 16 16]]\n",
      "--------------------------------------------------------------------------------\n",
      "type: <class 'numpy.ndarray'>\n",
      "shape: (3, 7), dimension: 2, dtype: int64\n",
      "※ numpy 배열의 데이터\n",
      "[[ 6  9  6 11 12 10 17]\n",
      " [ 5  9  5 16 18 17 12]\n",
      " [ 8  1  6 10 14 16 16]]\n",
      "--------------------------------------------------------------------------------\n"
     ]
    }
   ],
   "source": [
    "# axis=1으로 지정하여 오른쪽에 데이터를 추가할 경우 열의 개수는 달라도 상관없으나, 행의 개수는 반드시 동일해야 한다!\n",
    "diff_shape = np.random.randint(10, 19, (3, 4))  # a 배열과 열의 개수가 다른 배열\n",
    "pprint(diff_shape)\n",
    "result = np.append(a, diff_shape, axis=1)\n",
    "pprint(result)\n",
    "\n",
    "# diff_shape = np.random.randint(10, 19, (4, 3))  # a 배열과 행의 개수가 다른 배열\n",
    "# pprint(diff_shape)\n",
    "# result = np.append(a, diff_shape, axis=1)   # 추가할 데이터가 a 배열과 행의 개수가 다르기 때문에 에러가 발생한다.\n",
    "# pprint(result)"
   ],
   "metadata": {
    "collapsed": false
   }
  },
  {
   "cell_type": "markdown",
   "source": [
    "insert() 메서드는 지정한 index에 데이터를 삽입한다. axis 속성으로 데이터가 삽입되는 방향을 지정할 수 있다.\n",
    "- np.insert(배열, index, 삽입할 데이터, axis)"
   ],
   "metadata": {
    "collapsed": false
   }
  },
  {
   "cell_type": "code",
   "execution_count": 354,
   "outputs": [
    {
     "name": "stdout",
     "output_type": "stream",
     "text": [
      "type: <class 'numpy.ndarray'>\n",
      "shape: (3, 3), dimension: 2, dtype: int64\n",
      "※ numpy 배열의 데이터\n",
      "[[6 4 7]\n",
      " [5 9 6]\n",
      " [3 4 9]]\n",
      "--------------------------------------------------------------------------------\n"
     ]
    }
   ],
   "source": [
    "a = np.random.randint(1, 10, (3, 3))\n",
    "pprint(a)"
   ],
   "metadata": {
    "collapsed": false
   }
  },
  {
   "cell_type": "code",
   "execution_count": 355,
   "outputs": [
    {
     "name": "stdout",
     "output_type": "stream",
     "text": [
      "type: <class 'numpy.ndarray'>\n",
      "shape: (10,), dimension: 1, dtype: int64\n",
      "※ numpy 배열의 데이터\n",
      "[     6 999999      4      7      5      9      6      3      4      9]\n",
      "--------------------------------------------------------------------------------\n",
      "type: <class 'numpy.ndarray'>\n",
      "shape: (10,), dimension: 1, dtype: int64\n",
      "※ numpy 배열의 데이터\n",
      "[     6 999999      4      7      5      9      6      3      4      9]\n",
      "--------------------------------------------------------------------------------\n"
     ]
    }
   ],
   "source": [
    "# axis를 지정하지 않으면 None이 기본값이고 배열을 1차원으로 변환한 후 지정된 index에 데이터를 삽입한다.\n",
    "pprint(np.insert(a, 1, 999999))\n",
    "pprint(np.insert(a, 1, 999999, axis=None))"
   ],
   "metadata": {
    "collapsed": false
   }
  },
  {
   "cell_type": "code",
   "execution_count": 356,
   "outputs": [
    {
     "name": "stdout",
     "output_type": "stream",
     "text": [
      "type: <class 'numpy.ndarray'>\n",
      "shape: (4, 3), dimension: 2, dtype: int64\n",
      "※ numpy 배열의 데이터\n",
      "[[     6      4      7]\n",
      " [999999 999999 999999]\n",
      " [     5      9      6]\n",
      " [     3      4      9]]\n",
      "--------------------------------------------------------------------------------\n"
     ]
    }
   ],
   "source": [
    "# axis=0으로 지정하면 index가 1인 행에 데이터를 삽입한다.\n",
    "pprint(np.insert(a, 1, 999999, axis=0))"
   ],
   "metadata": {
    "collapsed": false
   }
  },
  {
   "cell_type": "markdown",
   "source": [
    "np.delete() 메서드로 지정된 index의 배열을 삭제한다. axis 속성으로 데이터가 삭제되는 방향을 지정할 수 있다.\n",
    "- np.delete(배열, index, axis)"
   ],
   "metadata": {
    "collapsed": false
   }
  },
  {
   "cell_type": "code",
   "execution_count": 357,
   "outputs": [
    {
     "name": "stdout",
     "output_type": "stream",
     "text": [
      "type: <class 'numpy.ndarray'>\n",
      "shape: (3, 3), dimension: 2, dtype: int64\n",
      "※ numpy 배열의 데이터\n",
      "[[1 4 3]\n",
      " [8 4 3]\n",
      " [5 3 1]]\n",
      "--------------------------------------------------------------------------------\n"
     ]
    }
   ],
   "source": [
    "a = np.random.randint(1, 10, (3, 3))\n",
    "pprint(a)"
   ],
   "metadata": {
    "collapsed": false
   }
  },
  {
   "cell_type": "code",
   "execution_count": 358,
   "outputs": [
    {
     "name": "stdout",
     "output_type": "stream",
     "text": [
      "type: <class 'numpy.ndarray'>\n",
      "shape: (8,), dimension: 1, dtype: int64\n",
      "※ numpy 배열의 데이터\n",
      "[1 3 8 4 3 5 3 1]\n",
      "--------------------------------------------------------------------------------\n",
      "type: <class 'numpy.ndarray'>\n",
      "shape: (8,), dimension: 1, dtype: int64\n",
      "※ numpy 배열의 데이터\n",
      "[1 3 8 4 3 5 3 1]\n",
      "--------------------------------------------------------------------------------\n"
     ]
    }
   ],
   "source": [
    "# axis를 지정하지 않으면 None이 기본값이고 배열을 1차원으로 변환한 후 지정된 index의 데이터를 삭제한다.\n",
    "pprint(np.delete(a, 1))\n",
    "pprint(np.delete(a, 1, None))"
   ],
   "metadata": {
    "collapsed": false
   }
  },
  {
   "cell_type": "code",
   "execution_count": 359,
   "outputs": [
    {
     "name": "stdout",
     "output_type": "stream",
     "text": [
      "type: <class 'numpy.ndarray'>\n",
      "shape: (2, 3), dimension: 2, dtype: int64\n",
      "※ numpy 배열의 데이터\n",
      "[[1 4 3]\n",
      " [5 3 1]]\n",
      "--------------------------------------------------------------------------------\n"
     ]
    }
   ],
   "source": [
    "# axis=0으로 지정하면 index가 1인 행의 데이터를 삭제한다.\n",
    "pprint(np.delete(a, 1, axis=0))"
   ],
   "metadata": {
    "collapsed": false
   }
  },
  {
   "cell_type": "code",
   "execution_count": 360,
   "outputs": [
    {
     "name": "stdout",
     "output_type": "stream",
     "text": [
      "type: <class 'numpy.ndarray'>\n",
      "shape: (3, 2), dimension: 2, dtype: int64\n",
      "※ numpy 배열의 데이터\n",
      "[[1 3]\n",
      " [8 3]\n",
      " [5 1]]\n",
      "--------------------------------------------------------------------------------\n"
     ]
    }
   ],
   "source": [
    "# axis=1으로 지정하면 index가 1인 열의 데이터를 삭제한다.\n",
    "pprint(np.delete(a, 1, axis=1))"
   ],
   "metadata": {
    "collapsed": false
   }
  },
  {
   "cell_type": "markdown",
   "source": [
    "# 배열 결합\n",
    "- 배열과 배열을 결합하는 np.concatenate(), np.vstack(), np.hstack() 메서드를 제공한다."
   ],
   "metadata": {
    "collapsed": false
   }
  },
  {
   "cell_type": "markdown",
   "source": [
    "np.concatenate() 메서드는 axis로 결합할 방향을 지정하여 배열을 결합한다.\n",
    "np.concatenate((배열1, 배열2, ...), axis)"
   ],
   "metadata": {
    "collapsed": false
   }
  },
  {
   "cell_type": "code",
   "execution_count": 361,
   "outputs": [
    {
     "name": "stdout",
     "output_type": "stream",
     "text": [
      "type: <class 'numpy.ndarray'>\n",
      "shape: (2, 3), dimension: 2, dtype: int64\n",
      "※ numpy 배열의 데이터\n",
      "[[4 7 5]\n",
      " [5 9 4]]\n",
      "--------------------------------------------------------------------------------\n",
      "type: <class 'numpy.ndarray'>\n",
      "shape: (2, 3), dimension: 2, dtype: int64\n",
      "※ numpy 배열의 데이터\n",
      "[[18 11 16]\n",
      " [11 10 14]]\n",
      "--------------------------------------------------------------------------------\n"
     ]
    }
   ],
   "source": [
    "a = np.random.randint(1, 10, (2, 3))\n",
    "pprint(a)\n",
    "b = np.random.randint(10, 19, (2, 3))\n",
    "# b = np.random.randint(10, 19, (2, 4)) # ValueError\n",
    "pprint(b)"
   ],
   "metadata": {
    "collapsed": false
   }
  },
  {
   "cell_type": "code",
   "execution_count": 362,
   "outputs": [
    {
     "name": "stdout",
     "output_type": "stream",
     "text": [
      "type: <class 'numpy.ndarray'>\n",
      "shape: (4, 3), dimension: 2, dtype: int64\n",
      "※ numpy 배열의 데이터\n",
      "[[ 4  7  5]\n",
      " [ 5  9  4]\n",
      " [18 11 16]\n",
      " [11 10 14]]\n",
      "--------------------------------------------------------------------------------\n",
      "type: <class 'numpy.ndarray'>\n",
      "shape: (4, 3), dimension: 2, dtype: int64\n",
      "※ numpy 배열의 데이터\n",
      "[[ 4  7  5]\n",
      " [ 5  9  4]\n",
      " [18 11 16]\n",
      " [11 10 14]]\n",
      "--------------------------------------------------------------------------------\n"
     ]
    }
   ],
   "source": [
    "# axis를 지정하지 않으면 0이 기본값이고 아래쪽으로 배열을 결합한다. 결합할 배열들의 열의 개수가 다르면 에러가 발생한다.\n",
    "result = np.concatenate((a, b))\n",
    "pprint(result)\n",
    "result = np.concatenate((a, b), axis=0)\n",
    "pprint(result)"
   ],
   "metadata": {
    "collapsed": false
   }
  },
  {
   "cell_type": "code",
   "execution_count": 363,
   "outputs": [
    {
     "name": "stdout",
     "output_type": "stream",
     "text": [
      "type: <class 'numpy.ndarray'>\n",
      "shape: (2, 6), dimension: 2, dtype: int64\n",
      "※ numpy 배열의 데이터\n",
      "[[ 4  7  5 18 11 16]\n",
      " [ 5  9  4 11 10 14]]\n",
      "--------------------------------------------------------------------------------\n"
     ]
    }
   ],
   "source": [
    "# axis=1으로 지정하면 오른쪽으로 배열을 결합한다. 결합할 배열들의 행의 개수가 다르면 에러가 발생한다.\n",
    "result = np.concatenate((a, b), axis=1)\n",
    "pprint(result)"
   ],
   "metadata": {
    "collapsed": false
   }
  },
  {
   "cell_type": "markdown",
   "source": [
    "np.vstack() 메서드는 인수로 지정된 튜플 타입의 배열을 수직 방향(axis=0)으로 결합한다.\n",
    "- np.concatenate((배열1, 배열2, ...), axis=0)와 동일한 기능이 실행된다.\n",
    "- np.vstack((배열1, 배열2, ...))"
   ],
   "metadata": {
    "collapsed": false
   }
  },
  {
   "cell_type": "code",
   "execution_count": 364,
   "outputs": [
    {
     "name": "stdout",
     "output_type": "stream",
     "text": [
      "type: <class 'numpy.ndarray'>\n",
      "shape: (2, 3), dimension: 2, dtype: int64\n",
      "※ numpy 배열의 데이터\n",
      "[[9 5 2]\n",
      " [5 7 6]]\n",
      "--------------------------------------------------------------------------------\n",
      "type: <class 'numpy.ndarray'>\n",
      "shape: (2, 3), dimension: 2, dtype: int64\n",
      "※ numpy 배열의 데이터\n",
      "[[11 15 18]\n",
      " [17 18 11]]\n",
      "--------------------------------------------------------------------------------\n"
     ]
    }
   ],
   "source": [
    "a = np.random.randint(1, 10, (2, 3))\n",
    "pprint(a)\n",
    "b = np.random.randint(10, 19, (2, 3))\n",
    "pprint(b)"
   ],
   "metadata": {
    "collapsed": false
   }
  },
  {
   "cell_type": "code",
   "execution_count": 365,
   "outputs": [
    {
     "name": "stdout",
     "output_type": "stream",
     "text": [
      "type: <class 'numpy.ndarray'>\n",
      "shape: (4, 3), dimension: 2, dtype: int64\n",
      "※ numpy 배열의 데이터\n",
      "[[ 9  5  2]\n",
      " [ 5  7  6]\n",
      " [11 15 18]\n",
      " [17 18 11]]\n",
      "--------------------------------------------------------------------------------\n"
     ]
    }
   ],
   "source": [
    "pprint(np.vstack((a, b)))"
   ],
   "metadata": {
    "collapsed": false
   }
  },
  {
   "cell_type": "markdown",
   "source": [
    "np.hstack() 메서드는 인수로 지정된 튜플 타입의 배열을 수평 방향(axis=1)으로 결합한다.\n",
    "- np.concatenate((배열1, 배열2, ...), axis=1)와 동일한 기능이 실행된다.\n",
    "- np.hstack((배열1, 배열2, ...))"
   ],
   "metadata": {
    "collapsed": false
   }
  },
  {
   "cell_type": "code",
   "execution_count": 366,
   "outputs": [
    {
     "name": "stdout",
     "output_type": "stream",
     "text": [
      "type: <class 'numpy.ndarray'>\n",
      "shape: (2, 6), dimension: 2, dtype: int64\n",
      "※ numpy 배열의 데이터\n",
      "[[ 9  5  2 11 15 18]\n",
      " [ 5  7  6 17 18 11]]\n",
      "--------------------------------------------------------------------------------\n"
     ]
    }
   ],
   "source": [
    "pprint(np.hstack((a, b)))"
   ],
   "metadata": {
    "collapsed": false
   }
  },
  {
   "cell_type": "markdown",
   "source": [
    "# 배열 분리\n",
    "- numpy는 배열을 수직(열) 방향으로 분할하는 np.vsplit()과 수평(행) 방향으로 분할하는 np.hsplit() 메서드를 제공한다."
   ],
   "metadata": {
    "collapsed": false
   }
  },
  {
   "cell_type": "code",
   "execution_count": 367,
   "outputs": [
    {
     "name": "stdout",
     "output_type": "stream",
     "text": [
      "type: <class 'numpy.ndarray'>\n",
      "shape: (4, 6), dimension: 2, dtype: int64\n",
      "※ numpy 배열의 데이터\n",
      "[[ 1  2  3  4  5  6]\n",
      " [ 7  8  9 10 11 12]\n",
      " [13 14 15 16 17 18]\n",
      " [19 20 21 22 23 24]]\n",
      "--------------------------------------------------------------------------------\n"
     ]
    }
   ],
   "source": [
    "a = np.arange(1, 25).reshape(4, 6)\n",
    "pprint(a)"
   ],
   "metadata": {
    "collapsed": false
   }
  },
  {
   "cell_type": "markdown",
   "source": [
    "np.hsplit() 메서드로 배열을 수평 방향으로 분할한다.\n",
    "- np.hsplit(배열, 분할 개수)"
   ],
   "metadata": {
    "collapsed": false
   }
  },
  {
   "cell_type": "code",
   "execution_count": 368,
   "outputs": [
    {
     "name": "stdout",
     "output_type": "stream",
     "text": [
      "<class 'list'>\n",
      "[array([[ 1,  2,  3],\n",
      "       [ 7,  8,  9],\n",
      "       [13, 14, 15],\n",
      "       [19, 20, 21]]), array([[ 4,  5,  6],\n",
      "       [10, 11, 12],\n",
      "       [16, 17, 18],\n",
      "       [22, 23, 24]])]\n",
      "<class 'numpy.ndarray'>\n",
      "<class 'numpy.ndarray'>\n"
     ]
    }
   ],
   "source": [
    "result = np.hsplit(a, 2)  # hsplit() 메서드의 실행결과 리턴값은 numpy 배열을 저장하고 있는 파이썬 list 형태로 리턴된다.\n",
    "print(type(result))  # <class 'list'>\n",
    "print(result)\n",
    "print(type(result[0]))  # <class 'numpy.ndarray'>\n",
    "print(type(result[1]))"
   ],
   "metadata": {
    "collapsed": false
   }
  },
  {
   "cell_type": "markdown",
   "source": [
    "<img src=\"./numpyImage/numpyImage09.jpg\" width=\"1500\"/>"
   ],
   "metadata": {
    "collapsed": false
   }
  },
  {
   "cell_type": "code",
   "execution_count": 369,
   "outputs": [
    {
     "name": "stdout",
     "output_type": "stream",
     "text": [
      "[array([[ 1,  2],\n",
      "       [ 7,  8],\n",
      "       [13, 14],\n",
      "       [19, 20]]), array([[ 3,  4],\n",
      "       [ 9, 10],\n",
      "       [15, 16],\n",
      "       [21, 22]]), array([[ 5,  6],\n",
      "       [11, 12],\n",
      "       [17, 18],\n",
      "       [23, 24]])]\n"
     ]
    }
   ],
   "source": [
    "result = np.hsplit(a, 3)\n",
    "print(result)"
   ],
   "metadata": {
    "collapsed": false
   }
  },
  {
   "cell_type": "markdown",
   "source": [
    "<img src=\"./numpyImage/numpyImage10.jpg\" width=\"1500\"/>"
   ],
   "metadata": {
    "collapsed": false
   }
  },
  {
   "cell_type": "code",
   "execution_count": 370,
   "outputs": [
    {
     "name": "stdout",
     "output_type": "stream",
     "text": [
      "[array([[ 1],\n",
      "       [ 7],\n",
      "       [13],\n",
      "       [19]]), array([[ 2,  3],\n",
      "       [ 8,  9],\n",
      "       [14, 15],\n",
      "       [20, 21]]), array([[ 4,  5],\n",
      "       [10, 11],\n",
      "       [16, 17],\n",
      "       [22, 23]]), array([[ 6],\n",
      "       [12],\n",
      "       [18],\n",
      "       [24]])]\n"
     ]
    }
   ],
   "source": [
    "result = np.hsplit(a, [1, 3, 5])\n",
    "print(result)"
   ],
   "metadata": {
    "collapsed": false
   }
  },
  {
   "cell_type": "markdown",
   "source": [
    "<img src=\"./numpyImage/numpyImage11.jpg\" width=\"1500\"/>"
   ],
   "metadata": {
    "collapsed": false
   }
  },
  {
   "cell_type": "markdown",
   "source": [
    "np.vsplit() 메서드로 배열을 수직 방향으로 분할한다.\n",
    "- np.vsplit(배열, 분할 개수)"
   ],
   "metadata": {
    "collapsed": false
   }
  },
  {
   "cell_type": "code",
   "execution_count": 371,
   "outputs": [
    {
     "name": "stdout",
     "output_type": "stream",
     "text": [
      "[array([[ 1,  2,  3,  4,  5,  6],\n",
      "       [ 7,  8,  9, 10, 11, 12]]), array([[13, 14, 15, 16, 17, 18],\n",
      "       [19, 20, 21, 22, 23, 24]])]\n"
     ]
    }
   ],
   "source": [
    "result = np.vsplit(a, 2)\n",
    "print(result)"
   ],
   "metadata": {
    "collapsed": false
   }
  },
  {
   "cell_type": "markdown",
   "source": [
    "<img src=\"./numpyImage/numpyImage12.jpg\" width=\"1500\"/>"
   ],
   "metadata": {
    "collapsed": false
   }
  },
  {
   "cell_type": "code",
   "execution_count": 372,
   "outputs": [
    {
     "name": "stdout",
     "output_type": "stream",
     "text": [
      "[array([[1, 2, 3, 4, 5, 6]]), array([[ 7,  8,  9, 10, 11, 12]]), array([[13, 14, 15, 16, 17, 18]]), array([[19, 20, 21, 22, 23, 24]])]\n"
     ]
    }
   ],
   "source": [
    "result = np.vsplit(a, 4)\n",
    "print(result)"
   ],
   "metadata": {
    "collapsed": false
   }
  },
  {
   "cell_type": "markdown",
   "source": [
    "<img src=\"./numpyImage/numpyImage13.jpg\" width=\"1500\"/>"
   ],
   "metadata": {
    "collapsed": false
   }
  },
  {
   "cell_type": "code",
   "execution_count": 373,
   "outputs": [
    {
     "name": "stdout",
     "output_type": "stream",
     "text": [
      "[array([[1, 2, 3, 4, 5, 6]]), array([[ 7,  8,  9, 10, 11, 12],\n",
      "       [13, 14, 15, 16, 17, 18]]), array([[19, 20, 21, 22, 23, 24]])]\n"
     ]
    }
   ],
   "source": [
    "result = np.vsplit(a, [1, 3])\n",
    "print(result)"
   ],
   "metadata": {
    "collapsed": false
   }
  },
  {
   "cell_type": "markdown",
   "source": [
    "<img src=\"./numpyImage/numpyImage14.jpg\" width=\"1500\"/>"
   ],
   "metadata": {
    "collapsed": false
   }
  }
 ],
 "metadata": {
  "kernelspec": {
   "display_name": "Python 3",
   "language": "python",
   "name": "python3"
  },
  "language_info": {
   "codemirror_mode": {
    "name": "ipython",
    "version": 2
   },
   "file_extension": ".py",
   "mimetype": "text/x-python",
   "name": "python",
   "nbconvert_exporter": "python",
   "pygments_lexer": "ipython2",
   "version": "2.7.6"
  }
 },
 "nbformat": 4,
 "nbformat_minor": 0
}
