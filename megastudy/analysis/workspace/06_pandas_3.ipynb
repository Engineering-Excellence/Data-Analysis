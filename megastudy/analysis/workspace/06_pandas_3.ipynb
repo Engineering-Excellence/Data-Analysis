{
 "cells": [
  {
   "cell_type": "code",
   "execution_count": 1,
   "metadata": {
    "collapsed": true
   },
   "outputs": [],
   "source": [
    "import warnings\n",
    "\n",
    "warnings.filterwarnings('ignore')\n",
    "import pandas as pd"
   ]
  },
  {
   "cell_type": "markdown",
   "source": [
    "분석하기 좋은 데이터란 데이터 집합을 분석하기 좋은 형태로 만들어 놓은 것을 말하고, 데이터 분석 작업에서 데이터 정리는 아주 중요한 작업으로 실제로 데이터 분석 작업의 70% 이상을 차지하고 있는 작업이 데이터 정리 작업이다.\n",
    "분석하기 좋은 데이터는 데이터 분석 목적에 맞는 데이터들을 모아서 새로운 표(table)를 만들어야 하고 측정한 값은 행, 변수는 열로 구성하며 이 조건을 만족하는 데이터를 깔끔한 데이터(Good Data, Tidy Data)라고 부른다."
   ],
   "metadata": {
    "collapsed": false
   }
  },
  {
   "cell_type": "code",
   "execution_count": 2,
   "outputs": [
    {
     "data": {
      "text/plain": "    A   B   C   D\n0  a0  b0  c0  d0\n1  a1  b1  c1  d1\n2  a2  b2  c2  d2\n3  a3  b3  c3  d3",
      "text/html": "<div>\n<style scoped>\n    .dataframe tbody tr th:only-of-type {\n        vertical-align: middle;\n    }\n\n    .dataframe tbody tr th {\n        vertical-align: top;\n    }\n\n    .dataframe thead th {\n        text-align: right;\n    }\n</style>\n<table border=\"1\" class=\"dataframe\">\n  <thead>\n    <tr style=\"text-align: right;\">\n      <th></th>\n      <th>A</th>\n      <th>B</th>\n      <th>C</th>\n      <th>D</th>\n    </tr>\n  </thead>\n  <tbody>\n    <tr>\n      <th>0</th>\n      <td>a0</td>\n      <td>b0</td>\n      <td>c0</td>\n      <td>d0</td>\n    </tr>\n    <tr>\n      <th>1</th>\n      <td>a1</td>\n      <td>b1</td>\n      <td>c1</td>\n      <td>d1</td>\n    </tr>\n    <tr>\n      <th>2</th>\n      <td>a2</td>\n      <td>b2</td>\n      <td>c2</td>\n      <td>d2</td>\n    </tr>\n    <tr>\n      <th>3</th>\n      <td>a3</td>\n      <td>b3</td>\n      <td>c3</td>\n      <td>d3</td>\n    </tr>\n  </tbody>\n</table>\n</div>"
     },
     "execution_count": 2,
     "metadata": {},
     "output_type": "execute_result"
    }
   ],
   "source": [
    "df1 = pd.read_csv('./data/concat_1.csv')\n",
    "df1"
   ],
   "metadata": {
    "collapsed": false
   }
  },
  {
   "cell_type": "code",
   "execution_count": 3,
   "outputs": [
    {
     "data": {
      "text/plain": "    A   B   C   D\n0  a4  b4  c4  d4\n1  a5  b5  c5  d5\n2  a6  b6  c6  d6\n3  a7  b7  c7  d7",
      "text/html": "<div>\n<style scoped>\n    .dataframe tbody tr th:only-of-type {\n        vertical-align: middle;\n    }\n\n    .dataframe tbody tr th {\n        vertical-align: top;\n    }\n\n    .dataframe thead th {\n        text-align: right;\n    }\n</style>\n<table border=\"1\" class=\"dataframe\">\n  <thead>\n    <tr style=\"text-align: right;\">\n      <th></th>\n      <th>A</th>\n      <th>B</th>\n      <th>C</th>\n      <th>D</th>\n    </tr>\n  </thead>\n  <tbody>\n    <tr>\n      <th>0</th>\n      <td>a4</td>\n      <td>b4</td>\n      <td>c4</td>\n      <td>d4</td>\n    </tr>\n    <tr>\n      <th>1</th>\n      <td>a5</td>\n      <td>b5</td>\n      <td>c5</td>\n      <td>d5</td>\n    </tr>\n    <tr>\n      <th>2</th>\n      <td>a6</td>\n      <td>b6</td>\n      <td>c6</td>\n      <td>d6</td>\n    </tr>\n    <tr>\n      <th>3</th>\n      <td>a7</td>\n      <td>b7</td>\n      <td>c7</td>\n      <td>d7</td>\n    </tr>\n  </tbody>\n</table>\n</div>"
     },
     "execution_count": 3,
     "metadata": {},
     "output_type": "execute_result"
    }
   ],
   "source": [
    "df2 = pd.read_csv('./data/concat_2.csv')\n",
    "df2"
   ],
   "metadata": {
    "collapsed": false
   }
  },
  {
   "cell_type": "code",
   "execution_count": 4,
   "outputs": [
    {
     "data": {
      "text/plain": "     A    B    C    D\n0   a8   b8   c8   d8\n1   a9   b9   c9   d9\n2  a10  b10  c10  d10\n3  a11  b11  c11  d11",
      "text/html": "<div>\n<style scoped>\n    .dataframe tbody tr th:only-of-type {\n        vertical-align: middle;\n    }\n\n    .dataframe tbody tr th {\n        vertical-align: top;\n    }\n\n    .dataframe thead th {\n        text-align: right;\n    }\n</style>\n<table border=\"1\" class=\"dataframe\">\n  <thead>\n    <tr style=\"text-align: right;\">\n      <th></th>\n      <th>A</th>\n      <th>B</th>\n      <th>C</th>\n      <th>D</th>\n    </tr>\n  </thead>\n  <tbody>\n    <tr>\n      <th>0</th>\n      <td>a8</td>\n      <td>b8</td>\n      <td>c8</td>\n      <td>d8</td>\n    </tr>\n    <tr>\n      <th>1</th>\n      <td>a9</td>\n      <td>b9</td>\n      <td>c9</td>\n      <td>d9</td>\n    </tr>\n    <tr>\n      <th>2</th>\n      <td>a10</td>\n      <td>b10</td>\n      <td>c10</td>\n      <td>d10</td>\n    </tr>\n    <tr>\n      <th>3</th>\n      <td>a11</td>\n      <td>b11</td>\n      <td>c11</td>\n      <td>d11</td>\n    </tr>\n  </tbody>\n</table>\n</div>"
     },
     "execution_count": 4,
     "metadata": {},
     "output_type": "execute_result"
    }
   ],
   "source": [
    "df3 = pd.read_csv('./data/concat_3.csv')\n",
    "df3"
   ],
   "metadata": {
    "collapsed": false
   }
  },
  {
   "cell_type": "markdown",
   "source": [
    "concat() 메서드는 연결하려는 데이터프레임을 리스트에 담아 인수로 전달하면 연결된 데이터프레임을 반환한다.\n",
    "concat([df1, df2, ...])\n",
    "데이터프레임을 연결할 때 기본값이 axis=0으로 설정되어있어 위에서 아래 방향으로 연결된다."
   ],
   "metadata": {
    "collapsed": false
   }
  },
  {
   "cell_type": "code",
   "execution_count": 5,
   "outputs": [
    {
     "data": {
      "text/plain": "     A    B    C    D\n0   a0   b0   c0   d0\n1   a1   b1   c1   d1\n2   a2   b2   c2   d2\n3   a3   b3   c3   d3\n0   a4   b4   c4   d4\n1   a5   b5   c5   d5\n2   a6   b6   c6   d6\n3   a7   b7   c7   d7\n0   a8   b8   c8   d8\n1   a9   b9   c9   d9\n2  a10  b10  c10  d10\n3  a11  b11  c11  d11",
      "text/html": "<div>\n<style scoped>\n    .dataframe tbody tr th:only-of-type {\n        vertical-align: middle;\n    }\n\n    .dataframe tbody tr th {\n        vertical-align: top;\n    }\n\n    .dataframe thead th {\n        text-align: right;\n    }\n</style>\n<table border=\"1\" class=\"dataframe\">\n  <thead>\n    <tr style=\"text-align: right;\">\n      <th></th>\n      <th>A</th>\n      <th>B</th>\n      <th>C</th>\n      <th>D</th>\n    </tr>\n  </thead>\n  <tbody>\n    <tr>\n      <th>0</th>\n      <td>a0</td>\n      <td>b0</td>\n      <td>c0</td>\n      <td>d0</td>\n    </tr>\n    <tr>\n      <th>1</th>\n      <td>a1</td>\n      <td>b1</td>\n      <td>c1</td>\n      <td>d1</td>\n    </tr>\n    <tr>\n      <th>2</th>\n      <td>a2</td>\n      <td>b2</td>\n      <td>c2</td>\n      <td>d2</td>\n    </tr>\n    <tr>\n      <th>3</th>\n      <td>a3</td>\n      <td>b3</td>\n      <td>c3</td>\n      <td>d3</td>\n    </tr>\n    <tr>\n      <th>0</th>\n      <td>a4</td>\n      <td>b4</td>\n      <td>c4</td>\n      <td>d4</td>\n    </tr>\n    <tr>\n      <th>1</th>\n      <td>a5</td>\n      <td>b5</td>\n      <td>c5</td>\n      <td>d5</td>\n    </tr>\n    <tr>\n      <th>2</th>\n      <td>a6</td>\n      <td>b6</td>\n      <td>c6</td>\n      <td>d6</td>\n    </tr>\n    <tr>\n      <th>3</th>\n      <td>a7</td>\n      <td>b7</td>\n      <td>c7</td>\n      <td>d7</td>\n    </tr>\n    <tr>\n      <th>0</th>\n      <td>a8</td>\n      <td>b8</td>\n      <td>c8</td>\n      <td>d8</td>\n    </tr>\n    <tr>\n      <th>1</th>\n      <td>a9</td>\n      <td>b9</td>\n      <td>c9</td>\n      <td>d9</td>\n    </tr>\n    <tr>\n      <th>2</th>\n      <td>a10</td>\n      <td>b10</td>\n      <td>c10</td>\n      <td>d10</td>\n    </tr>\n    <tr>\n      <th>3</th>\n      <td>a11</td>\n      <td>b11</td>\n      <td>c11</td>\n      <td>d11</td>\n    </tr>\n  </tbody>\n</table>\n</div>"
     },
     "execution_count": 5,
     "metadata": {},
     "output_type": "execute_result"
    }
   ],
   "source": [
    "# df1, df2, df3은 열 이름이 모두 같고, 연결한 다음에도 열과 인덱스가 그대로 유지된다.\n",
    "# row_concat = pd.concat([df1, df2,df3])\n",
    "row_concat = pd.concat([df1, df2, df3], axis=0)\n",
    "row_concat"
   ],
   "metadata": {
    "collapsed": false
   }
  },
  {
   "cell_type": "code",
   "execution_count": 6,
   "outputs": [
    {
     "data": {
      "text/plain": "0    n1\n1    n2\n2    n3\n3    n4\ndtype: object"
     },
     "execution_count": 6,
     "metadata": {},
     "output_type": "execute_result"
    }
   ],
   "source": [
    "# 데이터프레임에 시리즈 연결하기\n",
    "new_row_series = pd.Series(['n1', 'n2', 'n3', 'n4'])\n",
    "new_row_series"
   ],
   "metadata": {
    "collapsed": false
   }
  },
  {
   "cell_type": "code",
   "execution_count": 7,
   "outputs": [
    {
     "data": {
      "text/plain": "     A    B    C    D    0\n0   a0   b0   c0   d0  NaN\n1   a1   b1   c1   d1  NaN\n2   a2   b2   c2   d2  NaN\n3   a3   b3   c3   d3  NaN\n0  NaN  NaN  NaN  NaN   n1\n1  NaN  NaN  NaN  NaN   n2\n2  NaN  NaN  NaN  NaN   n3\n3  NaN  NaN  NaN  NaN   n4",
      "text/html": "<div>\n<style scoped>\n    .dataframe tbody tr th:only-of-type {\n        vertical-align: middle;\n    }\n\n    .dataframe tbody tr th {\n        vertical-align: top;\n    }\n\n    .dataframe thead th {\n        text-align: right;\n    }\n</style>\n<table border=\"1\" class=\"dataframe\">\n  <thead>\n    <tr style=\"text-align: right;\">\n      <th></th>\n      <th>A</th>\n      <th>B</th>\n      <th>C</th>\n      <th>D</th>\n      <th>0</th>\n    </tr>\n  </thead>\n  <tbody>\n    <tr>\n      <th>0</th>\n      <td>a0</td>\n      <td>b0</td>\n      <td>c0</td>\n      <td>d0</td>\n      <td>NaN</td>\n    </tr>\n    <tr>\n      <th>1</th>\n      <td>a1</td>\n      <td>b1</td>\n      <td>c1</td>\n      <td>d1</td>\n      <td>NaN</td>\n    </tr>\n    <tr>\n      <th>2</th>\n      <td>a2</td>\n      <td>b2</td>\n      <td>c2</td>\n      <td>d2</td>\n      <td>NaN</td>\n    </tr>\n    <tr>\n      <th>3</th>\n      <td>a3</td>\n      <td>b3</td>\n      <td>c3</td>\n      <td>d3</td>\n      <td>NaN</td>\n    </tr>\n    <tr>\n      <th>0</th>\n      <td>NaN</td>\n      <td>NaN</td>\n      <td>NaN</td>\n      <td>NaN</td>\n      <td>n1</td>\n    </tr>\n    <tr>\n      <th>1</th>\n      <td>NaN</td>\n      <td>NaN</td>\n      <td>NaN</td>\n      <td>NaN</td>\n      <td>n2</td>\n    </tr>\n    <tr>\n      <th>2</th>\n      <td>NaN</td>\n      <td>NaN</td>\n      <td>NaN</td>\n      <td>NaN</td>\n      <td>n3</td>\n    </tr>\n    <tr>\n      <th>3</th>\n      <td>NaN</td>\n      <td>NaN</td>\n      <td>NaN</td>\n      <td>NaN</td>\n      <td>n4</td>\n    </tr>\n  </tbody>\n</table>\n</div>"
     },
     "execution_count": 7,
     "metadata": {},
     "output_type": "execute_result"
    }
   ],
   "source": [
    "# 시리즈가 새로운 행으로 추가되지 않고 새로운 열로 추가된다. → 누락값(NaN) 다수 생성\n",
    "# 시리즈에 열 이름이 없기 때문에 시리즈를 데이터프레임의 새로운 행으로 추가하려 할 때 제대로 추가되지 않는다.\n",
    "# 새로운 시리즈를 새로운 열로 간주해서 '0'이라는 이름의 열로 추가된다.\n",
    "pd.concat([df1, new_row_series])"
   ],
   "metadata": {
    "collapsed": false
   }
  },
  {
   "cell_type": "code",
   "execution_count": 8,
   "outputs": [
    {
     "data": {
      "text/plain": "    0\n0  n1\n1  n2\n2  n3\n3  n4",
      "text/html": "<div>\n<style scoped>\n    .dataframe tbody tr th:only-of-type {\n        vertical-align: middle;\n    }\n\n    .dataframe tbody tr th {\n        vertical-align: top;\n    }\n\n    .dataframe thead th {\n        text-align: right;\n    }\n</style>\n<table border=\"1\" class=\"dataframe\">\n  <thead>\n    <tr style=\"text-align: right;\">\n      <th></th>\n      <th>0</th>\n    </tr>\n  </thead>\n  <tbody>\n    <tr>\n      <th>0</th>\n      <td>n1</td>\n    </tr>\n    <tr>\n      <th>1</th>\n      <td>n2</td>\n    </tr>\n    <tr>\n      <th>2</th>\n      <td>n3</td>\n    </tr>\n    <tr>\n      <th>3</th>\n      <td>n4</td>\n    </tr>\n  </tbody>\n</table>\n</div>"
     },
     "execution_count": 8,
     "metadata": {},
     "output_type": "execute_result"
    }
   ],
   "source": [
    "# 행이 1개인 데이터프레임을 생성해서 df1에 추가한다.\n",
    "# 인수를 1차원 리스트로 전달하면 각각의 데이터를 개별 데이터로 취급하여 열 단위의 데이터프레임이 생성된다.\n",
    "new_col_df = pd.DataFrame(['n1', 'n2', 'n3', 'n4'])  # 열 단위의 데이터프레임 생성\n",
    "new_col_df"
   ],
   "metadata": {
    "collapsed": false
   }
  },
  {
   "cell_type": "code",
   "execution_count": 9,
   "outputs": [
    {
     "data": {
      "text/plain": "     A    B    C    D    0\n0   a0   b0   c0   d0  NaN\n1   a1   b1   c1   d1  NaN\n2   a2   b2   c2   d2  NaN\n3   a3   b3   c3   d3  NaN\n0  NaN  NaN  NaN  NaN   n1\n1  NaN  NaN  NaN  NaN   n2\n2  NaN  NaN  NaN  NaN   n3\n3  NaN  NaN  NaN  NaN   n4",
      "text/html": "<div>\n<style scoped>\n    .dataframe tbody tr th:only-of-type {\n        vertical-align: middle;\n    }\n\n    .dataframe tbody tr th {\n        vertical-align: top;\n    }\n\n    .dataframe thead th {\n        text-align: right;\n    }\n</style>\n<table border=\"1\" class=\"dataframe\">\n  <thead>\n    <tr style=\"text-align: right;\">\n      <th></th>\n      <th>A</th>\n      <th>B</th>\n      <th>C</th>\n      <th>D</th>\n      <th>0</th>\n    </tr>\n  </thead>\n  <tbody>\n    <tr>\n      <th>0</th>\n      <td>a0</td>\n      <td>b0</td>\n      <td>c0</td>\n      <td>d0</td>\n      <td>NaN</td>\n    </tr>\n    <tr>\n      <th>1</th>\n      <td>a1</td>\n      <td>b1</td>\n      <td>c1</td>\n      <td>d1</td>\n      <td>NaN</td>\n    </tr>\n    <tr>\n      <th>2</th>\n      <td>a2</td>\n      <td>b2</td>\n      <td>c2</td>\n      <td>d2</td>\n      <td>NaN</td>\n    </tr>\n    <tr>\n      <th>3</th>\n      <td>a3</td>\n      <td>b3</td>\n      <td>c3</td>\n      <td>d3</td>\n      <td>NaN</td>\n    </tr>\n    <tr>\n      <th>0</th>\n      <td>NaN</td>\n      <td>NaN</td>\n      <td>NaN</td>\n      <td>NaN</td>\n      <td>n1</td>\n    </tr>\n    <tr>\n      <th>1</th>\n      <td>NaN</td>\n      <td>NaN</td>\n      <td>NaN</td>\n      <td>NaN</td>\n      <td>n2</td>\n    </tr>\n    <tr>\n      <th>2</th>\n      <td>NaN</td>\n      <td>NaN</td>\n      <td>NaN</td>\n      <td>NaN</td>\n      <td>n3</td>\n    </tr>\n    <tr>\n      <th>3</th>\n      <td>NaN</td>\n      <td>NaN</td>\n      <td>NaN</td>\n      <td>NaN</td>\n      <td>n4</td>\n    </tr>\n  </tbody>\n</table>\n</div>"
     },
     "execution_count": 9,
     "metadata": {},
     "output_type": "execute_result"
    }
   ],
   "source": [
    "pd.concat([df1, new_col_df])"
   ],
   "metadata": {
    "collapsed": false
   }
  },
  {
   "cell_type": "code",
   "execution_count": 10,
   "outputs": [
    {
     "data": {
      "text/plain": "    0   1   2   3\n0  n1  n2  n3  n4",
      "text/html": "<div>\n<style scoped>\n    .dataframe tbody tr th:only-of-type {\n        vertical-align: middle;\n    }\n\n    .dataframe tbody tr th {\n        vertical-align: top;\n    }\n\n    .dataframe thead th {\n        text-align: right;\n    }\n</style>\n<table border=\"1\" class=\"dataframe\">\n  <thead>\n    <tr style=\"text-align: right;\">\n      <th></th>\n      <th>0</th>\n      <th>1</th>\n      <th>2</th>\n      <th>3</th>\n    </tr>\n  </thead>\n  <tbody>\n    <tr>\n      <th>0</th>\n      <td>n1</td>\n      <td>n2</td>\n      <td>n3</td>\n      <td>n4</td>\n    </tr>\n  </tbody>\n</table>\n</div>"
     },
     "execution_count": 10,
     "metadata": {},
     "output_type": "execute_result"
    }
   ],
   "source": [
    "# 행 단위의 데이터프레임을 만들려면 DataFrame() 메서드로 데이터프레임을 구성할 데이터를 반드시 2차원 리스트로 묶어서 전달해야 한다.\n",
    "new_row_df = pd.DataFrame([['n1', 'n2', 'n3', 'n4']])  # 행 단위의 데이터프레임 생성\n",
    "new_row_df"
   ],
   "metadata": {
    "collapsed": false
   }
  },
  {
   "cell_type": "code",
   "execution_count": 11,
   "outputs": [
    {
     "data": {
      "text/plain": "     A    B    C    D    0    1    2    3\n0   a0   b0   c0   d0  NaN  NaN  NaN  NaN\n1   a1   b1   c1   d1  NaN  NaN  NaN  NaN\n2   a2   b2   c2   d2  NaN  NaN  NaN  NaN\n3   a3   b3   c3   d3  NaN  NaN  NaN  NaN\n0  NaN  NaN  NaN  NaN   n1   n2   n3   n4",
      "text/html": "<div>\n<style scoped>\n    .dataframe tbody tr th:only-of-type {\n        vertical-align: middle;\n    }\n\n    .dataframe tbody tr th {\n        vertical-align: top;\n    }\n\n    .dataframe thead th {\n        text-align: right;\n    }\n</style>\n<table border=\"1\" class=\"dataframe\">\n  <thead>\n    <tr style=\"text-align: right;\">\n      <th></th>\n      <th>A</th>\n      <th>B</th>\n      <th>C</th>\n      <th>D</th>\n      <th>0</th>\n      <th>1</th>\n      <th>2</th>\n      <th>3</th>\n    </tr>\n  </thead>\n  <tbody>\n    <tr>\n      <th>0</th>\n      <td>a0</td>\n      <td>b0</td>\n      <td>c0</td>\n      <td>d0</td>\n      <td>NaN</td>\n      <td>NaN</td>\n      <td>NaN</td>\n      <td>NaN</td>\n    </tr>\n    <tr>\n      <th>1</th>\n      <td>a1</td>\n      <td>b1</td>\n      <td>c1</td>\n      <td>d1</td>\n      <td>NaN</td>\n      <td>NaN</td>\n      <td>NaN</td>\n      <td>NaN</td>\n    </tr>\n    <tr>\n      <th>2</th>\n      <td>a2</td>\n      <td>b2</td>\n      <td>c2</td>\n      <td>d2</td>\n      <td>NaN</td>\n      <td>NaN</td>\n      <td>NaN</td>\n      <td>NaN</td>\n    </tr>\n    <tr>\n      <th>3</th>\n      <td>a3</td>\n      <td>b3</td>\n      <td>c3</td>\n      <td>d3</td>\n      <td>NaN</td>\n      <td>NaN</td>\n      <td>NaN</td>\n      <td>NaN</td>\n    </tr>\n    <tr>\n      <th>0</th>\n      <td>NaN</td>\n      <td>NaN</td>\n      <td>NaN</td>\n      <td>NaN</td>\n      <td>n1</td>\n      <td>n2</td>\n      <td>n3</td>\n      <td>n4</td>\n    </tr>\n  </tbody>\n</table>\n</div>"
     },
     "execution_count": 11,
     "metadata": {},
     "output_type": "execute_result"
    }
   ],
   "source": [
    "pd.concat([df1, new_row_df])"
   ],
   "metadata": {
    "collapsed": false
   }
  },
  {
   "cell_type": "code",
   "execution_count": 12,
   "outputs": [
    {
     "data": {
      "text/plain": "    A   B   C   D\n0  n1  n2  n3  n4",
      "text/html": "<div>\n<style scoped>\n    .dataframe tbody tr th:only-of-type {\n        vertical-align: middle;\n    }\n\n    .dataframe tbody tr th {\n        vertical-align: top;\n    }\n\n    .dataframe thead th {\n        text-align: right;\n    }\n</style>\n<table border=\"1\" class=\"dataframe\">\n  <thead>\n    <tr style=\"text-align: right;\">\n      <th></th>\n      <th>A</th>\n      <th>B</th>\n      <th>C</th>\n      <th>D</th>\n    </tr>\n  </thead>\n  <tbody>\n    <tr>\n      <th>0</th>\n      <td>n1</td>\n      <td>n2</td>\n      <td>n3</td>\n      <td>n4</td>\n    </tr>\n  </tbody>\n</table>\n</div>"
     },
     "execution_count": 12,
     "metadata": {},
     "output_type": "execute_result"
    }
   ],
   "source": [
    "# 열 이름을 지정하지 않으면 기본값으로 0, 1, 2, 3, ... 등으로 붙기 때문에 columns 속성으로 열 이름을 지정한다.\n",
    "new_row_df = pd.DataFrame([['n1', 'n2', 'n3', 'n4']], columns=['A', 'B', 'C', 'D'])\n",
    "new_row_df"
   ],
   "metadata": {
    "collapsed": false
   }
  },
  {
   "cell_type": "code",
   "execution_count": 13,
   "outputs": [
    {
     "name": "stdout",
     "output_type": "stream",
     "text": [
      "Index(['A', 'B', 'C', 'D'], dtype='object')\n"
     ]
    },
    {
     "data": {
      "text/plain": "    A   B   C   D\n0  a0  b0  c0  d0\n1  a1  b1  c1  d1\n2  a2  b2  c2  d2\n3  a3  b3  c3  d3\n0  n1  n2  n3  n4",
      "text/html": "<div>\n<style scoped>\n    .dataframe tbody tr th:only-of-type {\n        vertical-align: middle;\n    }\n\n    .dataframe tbody tr th {\n        vertical-align: top;\n    }\n\n    .dataframe thead th {\n        text-align: right;\n    }\n</style>\n<table border=\"1\" class=\"dataframe\">\n  <thead>\n    <tr style=\"text-align: right;\">\n      <th></th>\n      <th>A</th>\n      <th>B</th>\n      <th>C</th>\n      <th>D</th>\n    </tr>\n  </thead>\n  <tbody>\n    <tr>\n      <th>0</th>\n      <td>a0</td>\n      <td>b0</td>\n      <td>c0</td>\n      <td>d0</td>\n    </tr>\n    <tr>\n      <th>1</th>\n      <td>a1</td>\n      <td>b1</td>\n      <td>c1</td>\n      <td>d1</td>\n    </tr>\n    <tr>\n      <th>2</th>\n      <td>a2</td>\n      <td>b2</td>\n      <td>c2</td>\n      <td>d2</td>\n    </tr>\n    <tr>\n      <th>3</th>\n      <td>a3</td>\n      <td>b3</td>\n      <td>c3</td>\n      <td>d3</td>\n    </tr>\n    <tr>\n      <th>0</th>\n      <td>n1</td>\n      <td>n2</td>\n      <td>n3</td>\n      <td>n4</td>\n    </tr>\n  </tbody>\n</table>\n</div>"
     },
     "execution_count": 13,
     "metadata": {},
     "output_type": "execute_result"
    }
   ],
   "source": [
    "print(new_row_df.columns)\n",
    "pd.concat([df1, new_row_df])"
   ],
   "metadata": {
    "collapsed": false
   }
  },
  {
   "cell_type": "markdown",
   "source": [
    "concat()는 하나의 데이터프레임에 2개 이상의 데이터프레임을 연결하는 메서드이다.\n",
    "1개의 데이터프레임을 연결할 때는 append() 메서드를 사용할 수 있다."
   ],
   "metadata": {
    "collapsed": false
   }
  },
  {
   "cell_type": "code",
   "execution_count": 14,
   "outputs": [
    {
     "data": {
      "text/plain": "    A   B   C   D\n0  a0  b0  c0  d0\n1  a1  b1  c1  d1\n2  a2  b2  c2  d2\n3  a3  b3  c3  d3\n0  n1  n2  n3  n4",
      "text/html": "<div>\n<style scoped>\n    .dataframe tbody tr th:only-of-type {\n        vertical-align: middle;\n    }\n\n    .dataframe tbody tr th {\n        vertical-align: top;\n    }\n\n    .dataframe thead th {\n        text-align: right;\n    }\n</style>\n<table border=\"1\" class=\"dataframe\">\n  <thead>\n    <tr style=\"text-align: right;\">\n      <th></th>\n      <th>A</th>\n      <th>B</th>\n      <th>C</th>\n      <th>D</th>\n    </tr>\n  </thead>\n  <tbody>\n    <tr>\n      <th>0</th>\n      <td>a0</td>\n      <td>b0</td>\n      <td>c0</td>\n      <td>d0</td>\n    </tr>\n    <tr>\n      <th>1</th>\n      <td>a1</td>\n      <td>b1</td>\n      <td>c1</td>\n      <td>d1</td>\n    </tr>\n    <tr>\n      <th>2</th>\n      <td>a2</td>\n      <td>b2</td>\n      <td>c2</td>\n      <td>d2</td>\n    </tr>\n    <tr>\n      <th>3</th>\n      <td>a3</td>\n      <td>b3</td>\n      <td>c3</td>\n      <td>d3</td>\n    </tr>\n    <tr>\n      <th>0</th>\n      <td>n1</td>\n      <td>n2</td>\n      <td>n3</td>\n      <td>n4</td>\n    </tr>\n  </tbody>\n</table>\n</div>"
     },
     "execution_count": 14,
     "metadata": {},
     "output_type": "execute_result"
    }
   ],
   "source": [
    "df1.append(new_row_df)"
   ],
   "metadata": {
    "collapsed": false
   }
  },
  {
   "cell_type": "code",
   "execution_count": 15,
   "outputs": [
    {
     "data": {
      "text/plain": "    A   B   C   D\n0  a0  b0  c0  d0\n1  a1  b1  c1  d1\n2  a2  b2  c2  d2\n3  a3  b3  c3  d3\n4  n1  n2  n3  n4",
      "text/html": "<div>\n<style scoped>\n    .dataframe tbody tr th:only-of-type {\n        vertical-align: middle;\n    }\n\n    .dataframe tbody tr th {\n        vertical-align: top;\n    }\n\n    .dataframe thead th {\n        text-align: right;\n    }\n</style>\n<table border=\"1\" class=\"dataframe\">\n  <thead>\n    <tr style=\"text-align: right;\">\n      <th></th>\n      <th>A</th>\n      <th>B</th>\n      <th>C</th>\n      <th>D</th>\n    </tr>\n  </thead>\n  <tbody>\n    <tr>\n      <th>0</th>\n      <td>a0</td>\n      <td>b0</td>\n      <td>c0</td>\n      <td>d0</td>\n    </tr>\n    <tr>\n      <th>1</th>\n      <td>a1</td>\n      <td>b1</td>\n      <td>c1</td>\n      <td>d1</td>\n    </tr>\n    <tr>\n      <th>2</th>\n      <td>a2</td>\n      <td>b2</td>\n      <td>c2</td>\n      <td>d2</td>\n    </tr>\n    <tr>\n      <th>3</th>\n      <td>a3</td>\n      <td>b3</td>\n      <td>c3</td>\n      <td>d3</td>\n    </tr>\n    <tr>\n      <th>4</th>\n      <td>n1</td>\n      <td>n2</td>\n      <td>n3</td>\n      <td>n4</td>\n    </tr>\n  </tbody>\n</table>\n</div>"
     },
     "execution_count": 15,
     "metadata": {},
     "output_type": "execute_result"
    }
   ],
   "source": [
    "# append()나 concat()으로 데이터프레임을 연결할 때 기존 인덱스를 무시하고 새롭게 부여하려면 ignore_index=True 옵션을 지정한다.\n",
    "df1.append(new_row_df, ignore_index=True)"
   ],
   "metadata": {
    "collapsed": false
   }
  },
  {
   "cell_type": "markdown",
   "source": [
    "※ append()와 딕셔너리를 사용하면 추가할 데이터프레임을 구성하지 않고도 데이터프레임을 추가할 수 있다.\n",
    "데이터프레임.append(추가할 데이터가 저장된 딕셔너리)"
   ],
   "metadata": {
    "collapsed": false
   }
  },
  {
   "cell_type": "code",
   "execution_count": 16,
   "outputs": [
    {
     "name": "stdout",
     "output_type": "stream",
     "text": [
      "{'A': 'n5', 'B': 'n6', 'C': 'n7', 'D': 'n8'}\n"
     ]
    },
    {
     "data": {
      "text/plain": "    A   B   C   D\n0  a0  b0  c0  d0\n1  a1  b1  c1  d1\n2  a2  b2  c2  d2\n3  a3  b3  c3  d3\n4  n5  n6  n7  n8",
      "text/html": "<div>\n<style scoped>\n    .dataframe tbody tr th:only-of-type {\n        vertical-align: middle;\n    }\n\n    .dataframe tbody tr th {\n        vertical-align: top;\n    }\n\n    .dataframe thead th {\n        text-align: right;\n    }\n</style>\n<table border=\"1\" class=\"dataframe\">\n  <thead>\n    <tr style=\"text-align: right;\">\n      <th></th>\n      <th>A</th>\n      <th>B</th>\n      <th>C</th>\n      <th>D</th>\n    </tr>\n  </thead>\n  <tbody>\n    <tr>\n      <th>0</th>\n      <td>a0</td>\n      <td>b0</td>\n      <td>c0</td>\n      <td>d0</td>\n    </tr>\n    <tr>\n      <th>1</th>\n      <td>a1</td>\n      <td>b1</td>\n      <td>c1</td>\n      <td>d1</td>\n    </tr>\n    <tr>\n      <th>2</th>\n      <td>a2</td>\n      <td>b2</td>\n      <td>c2</td>\n      <td>d2</td>\n    </tr>\n    <tr>\n      <th>3</th>\n      <td>a3</td>\n      <td>b3</td>\n      <td>c3</td>\n      <td>d3</td>\n    </tr>\n    <tr>\n      <th>4</th>\n      <td>n5</td>\n      <td>n6</td>\n      <td>n7</td>\n      <td>n8</td>\n    </tr>\n  </tbody>\n</table>\n</div>"
     },
     "execution_count": 16,
     "metadata": {},
     "output_type": "execute_result"
    }
   ],
   "source": [
    "data_dict = {'A': 'n5', 'B': 'n6', 'C': 'n7', 'D': 'n8'}\n",
    "print(data_dict)\n",
    "# 데이터프레임이 아닌 딕셔너리를 추가하기 때문에 인덱스가 없으므로 ignore_index=True 옵션을 반드시 지정해야 한다.\n",
    "# df1.append(data_dict)   # TypeError\n",
    "df1.append(data_dict, ignore_index=True)"
   ],
   "metadata": {
    "collapsed": false
   }
  },
  {
   "cell_type": "code",
   "execution_count": 17,
   "outputs": [
    {
     "data": {
      "text/plain": "      A    B    C    D\n0    a0   b0   c0   d0\n1    a1   b1   c1   d1\n2    a2   b2   c2   d2\n3    a3   b3   c3   d3\n4    a4   b4   c4   d4\n5    a5   b5   c5   d5\n6    a6   b6   c6   d6\n7    a7   b7   c7   d7\n8    a8   b8   c8   d8\n9    a9   b9   c9   d9\n10  a10  b10  c10  d10\n11  a11  b11  c11  d11",
      "text/html": "<div>\n<style scoped>\n    .dataframe tbody tr th:only-of-type {\n        vertical-align: middle;\n    }\n\n    .dataframe tbody tr th {\n        vertical-align: top;\n    }\n\n    .dataframe thead th {\n        text-align: right;\n    }\n</style>\n<table border=\"1\" class=\"dataframe\">\n  <thead>\n    <tr style=\"text-align: right;\">\n      <th></th>\n      <th>A</th>\n      <th>B</th>\n      <th>C</th>\n      <th>D</th>\n    </tr>\n  </thead>\n  <tbody>\n    <tr>\n      <th>0</th>\n      <td>a0</td>\n      <td>b0</td>\n      <td>c0</td>\n      <td>d0</td>\n    </tr>\n    <tr>\n      <th>1</th>\n      <td>a1</td>\n      <td>b1</td>\n      <td>c1</td>\n      <td>d1</td>\n    </tr>\n    <tr>\n      <th>2</th>\n      <td>a2</td>\n      <td>b2</td>\n      <td>c2</td>\n      <td>d2</td>\n    </tr>\n    <tr>\n      <th>3</th>\n      <td>a3</td>\n      <td>b3</td>\n      <td>c3</td>\n      <td>d3</td>\n    </tr>\n    <tr>\n      <th>4</th>\n      <td>a4</td>\n      <td>b4</td>\n      <td>c4</td>\n      <td>d4</td>\n    </tr>\n    <tr>\n      <th>5</th>\n      <td>a5</td>\n      <td>b5</td>\n      <td>c5</td>\n      <td>d5</td>\n    </tr>\n    <tr>\n      <th>6</th>\n      <td>a6</td>\n      <td>b6</td>\n      <td>c6</td>\n      <td>d6</td>\n    </tr>\n    <tr>\n      <th>7</th>\n      <td>a7</td>\n      <td>b7</td>\n      <td>c7</td>\n      <td>d7</td>\n    </tr>\n    <tr>\n      <th>8</th>\n      <td>a8</td>\n      <td>b8</td>\n      <td>c8</td>\n      <td>d8</td>\n    </tr>\n    <tr>\n      <th>9</th>\n      <td>a9</td>\n      <td>b9</td>\n      <td>c9</td>\n      <td>d9</td>\n    </tr>\n    <tr>\n      <th>10</th>\n      <td>a10</td>\n      <td>b10</td>\n      <td>c10</td>\n      <td>d10</td>\n    </tr>\n    <tr>\n      <th>11</th>\n      <td>a11</td>\n      <td>b11</td>\n      <td>c11</td>\n      <td>d11</td>\n    </tr>\n  </tbody>\n</table>\n</div>"
     },
     "execution_count": 17,
     "metadata": {},
     "output_type": "execute_result"
    }
   ],
   "source": [
    "row_concat = pd.concat([df1, df2, df3], ignore_index=True)\n",
    "row_concat"
   ],
   "metadata": {
    "collapsed": false
   }
  },
  {
   "cell_type": "code",
   "execution_count": 18,
   "outputs": [
    {
     "data": {
      "text/plain": "    A   B   C   D   A   B   C   D    A    B    C    D\n0  a0  b0  c0  d0  a4  b4  c4  d4   a8   b8   c8   d8\n1  a1  b1  c1  d1  a5  b5  c5  d5   a9   b9   c9   d9\n2  a2  b2  c2  d2  a6  b6  c6  d6  a10  b10  c10  d10\n3  a3  b3  c3  d3  a7  b7  c7  d7  a11  b11  c11  d11",
      "text/html": "<div>\n<style scoped>\n    .dataframe tbody tr th:only-of-type {\n        vertical-align: middle;\n    }\n\n    .dataframe tbody tr th {\n        vertical-align: top;\n    }\n\n    .dataframe thead th {\n        text-align: right;\n    }\n</style>\n<table border=\"1\" class=\"dataframe\">\n  <thead>\n    <tr style=\"text-align: right;\">\n      <th></th>\n      <th>A</th>\n      <th>B</th>\n      <th>C</th>\n      <th>D</th>\n      <th>A</th>\n      <th>B</th>\n      <th>C</th>\n      <th>D</th>\n      <th>A</th>\n      <th>B</th>\n      <th>C</th>\n      <th>D</th>\n    </tr>\n  </thead>\n  <tbody>\n    <tr>\n      <th>0</th>\n      <td>a0</td>\n      <td>b0</td>\n      <td>c0</td>\n      <td>d0</td>\n      <td>a4</td>\n      <td>b4</td>\n      <td>c4</td>\n      <td>d4</td>\n      <td>a8</td>\n      <td>b8</td>\n      <td>c8</td>\n      <td>d8</td>\n    </tr>\n    <tr>\n      <th>1</th>\n      <td>a1</td>\n      <td>b1</td>\n      <td>c1</td>\n      <td>d1</td>\n      <td>a5</td>\n      <td>b5</td>\n      <td>c5</td>\n      <td>d5</td>\n      <td>a9</td>\n      <td>b9</td>\n      <td>c9</td>\n      <td>d9</td>\n    </tr>\n    <tr>\n      <th>2</th>\n      <td>a2</td>\n      <td>b2</td>\n      <td>c2</td>\n      <td>d2</td>\n      <td>a6</td>\n      <td>b6</td>\n      <td>c6</td>\n      <td>d6</td>\n      <td>a10</td>\n      <td>b10</td>\n      <td>c10</td>\n      <td>d10</td>\n    </tr>\n    <tr>\n      <th>3</th>\n      <td>a3</td>\n      <td>b3</td>\n      <td>c3</td>\n      <td>d3</td>\n      <td>a7</td>\n      <td>b7</td>\n      <td>c7</td>\n      <td>d7</td>\n      <td>a11</td>\n      <td>b11</td>\n      <td>c11</td>\n      <td>d11</td>\n    </tr>\n  </tbody>\n</table>\n</div>"
     },
     "execution_count": 18,
     "metadata": {},
     "output_type": "execute_result"
    }
   ],
   "source": [
    "col_concat = pd.concat([df1, df2, df3], ignore_index=False, axis=1)\n",
    "col_concat"
   ],
   "metadata": {
    "collapsed": false
   }
  },
  {
   "cell_type": "code",
   "execution_count": 19,
   "outputs": [
    {
     "data": {
      "text/plain": "    A   A    A\n0  a0  a4   a8\n1  a1  a5   a9\n2  a2  a6  a10\n3  a3  a7  a11",
      "text/html": "<div>\n<style scoped>\n    .dataframe tbody tr th:only-of-type {\n        vertical-align: middle;\n    }\n\n    .dataframe tbody tr th {\n        vertical-align: top;\n    }\n\n    .dataframe thead th {\n        text-align: right;\n    }\n</style>\n<table border=\"1\" class=\"dataframe\">\n  <thead>\n    <tr style=\"text-align: right;\">\n      <th></th>\n      <th>A</th>\n      <th>A</th>\n      <th>A</th>\n    </tr>\n  </thead>\n  <tbody>\n    <tr>\n      <th>0</th>\n      <td>a0</td>\n      <td>a4</td>\n      <td>a8</td>\n    </tr>\n    <tr>\n      <th>1</th>\n      <td>a1</td>\n      <td>a5</td>\n      <td>a9</td>\n    </tr>\n    <tr>\n      <th>2</th>\n      <td>a2</td>\n      <td>a6</td>\n      <td>a10</td>\n    </tr>\n    <tr>\n      <th>3</th>\n      <td>a3</td>\n      <td>a7</td>\n      <td>a11</td>\n    </tr>\n  </tbody>\n</table>\n</div>"
     },
     "execution_count": 19,
     "metadata": {},
     "output_type": "execute_result"
    }
   ],
   "source": [
    "# 같은 열 이름이 있는 데이터프레임에서 열 이름으로 데이터를 추출하면 해당 열 이름이 있는 모든 데이터를 추출한다.\n",
    "col_concat.A"
   ],
   "metadata": {
    "collapsed": false,
    "pycharm": {
     "name": "#%%ㅇ\n"
    }
   }
  },
  {
   "cell_type": "code",
   "execution_count": 20,
   "outputs": [
    {
     "data": {
      "text/plain": "    A   B   C   D   A   B   C   D    A    B    C    D new_col_list\n0  a0  b0  c0  d0  a4  b4  c4  d4   a8   b8   c8   d8           b1\n1  a1  b1  c1  d1  a5  b5  c5  d5   a9   b9   c9   d9           b2\n2  a2  b2  c2  d2  a6  b6  c6  d6  a10  b10  c10  d10           b3\n3  a3  b3  c3  d3  a7  b7  c7  d7  a11  b11  c11  d11           b4",
      "text/html": "<div>\n<style scoped>\n    .dataframe tbody tr th:only-of-type {\n        vertical-align: middle;\n    }\n\n    .dataframe tbody tr th {\n        vertical-align: top;\n    }\n\n    .dataframe thead th {\n        text-align: right;\n    }\n</style>\n<table border=\"1\" class=\"dataframe\">\n  <thead>\n    <tr style=\"text-align: right;\">\n      <th></th>\n      <th>A</th>\n      <th>B</th>\n      <th>C</th>\n      <th>D</th>\n      <th>A</th>\n      <th>B</th>\n      <th>C</th>\n      <th>D</th>\n      <th>A</th>\n      <th>B</th>\n      <th>C</th>\n      <th>D</th>\n      <th>new_col_list</th>\n    </tr>\n  </thead>\n  <tbody>\n    <tr>\n      <th>0</th>\n      <td>a0</td>\n      <td>b0</td>\n      <td>c0</td>\n      <td>d0</td>\n      <td>a4</td>\n      <td>b4</td>\n      <td>c4</td>\n      <td>d4</td>\n      <td>a8</td>\n      <td>b8</td>\n      <td>c8</td>\n      <td>d8</td>\n      <td>b1</td>\n    </tr>\n    <tr>\n      <th>1</th>\n      <td>a1</td>\n      <td>b1</td>\n      <td>c1</td>\n      <td>d1</td>\n      <td>a5</td>\n      <td>b5</td>\n      <td>c5</td>\n      <td>d5</td>\n      <td>a9</td>\n      <td>b9</td>\n      <td>c9</td>\n      <td>d9</td>\n      <td>b2</td>\n    </tr>\n    <tr>\n      <th>2</th>\n      <td>a2</td>\n      <td>b2</td>\n      <td>c2</td>\n      <td>d2</td>\n      <td>a6</td>\n      <td>b6</td>\n      <td>c6</td>\n      <td>d6</td>\n      <td>a10</td>\n      <td>b10</td>\n      <td>c10</td>\n      <td>d10</td>\n      <td>b3</td>\n    </tr>\n    <tr>\n      <th>3</th>\n      <td>a3</td>\n      <td>b3</td>\n      <td>c3</td>\n      <td>d3</td>\n      <td>a7</td>\n      <td>b7</td>\n      <td>c7</td>\n      <td>d7</td>\n      <td>a11</td>\n      <td>b11</td>\n      <td>c11</td>\n      <td>d11</td>\n      <td>b4</td>\n    </tr>\n  </tbody>\n</table>\n</div>"
     },
     "execution_count": 20,
     "metadata": {},
     "output_type": "execute_result"
    }
   ],
   "source": [
    "# 데이터프레임['열 이름'] = [데이터] 형태로 실행하면 새로운 열을 추가/수정 할 수 있다.\n",
    "col_concat['new_col_list'] = ['b1', 'b2', 'b3', 'b4']  # 존재하지 않는 열에 데이터를 넣으면 데이터프레임이 추가된다.\n",
    "col_concat"
   ],
   "metadata": {
    "collapsed": false
   }
  },
  {
   "cell_type": "code",
   "execution_count": 21,
   "outputs": [
    {
     "data": {
      "text/plain": "    A   B   C   D   A   B   C   D    A    B    C    D new_col_list\n0  a0  b0  c0  d0  a4  b4  c4  d4   a8   b8   c8   d8           n1\n1  a1  b1  c1  d1  a5  b5  c5  d5   a9   b9   c9   d9           n2\n2  a2  b2  c2  d2  a6  b6  c6  d6  a10  b10  c10  d10           n3\n3  a3  b3  c3  d3  a7  b7  c7  d7  a11  b11  c11  d11           n4",
      "text/html": "<div>\n<style scoped>\n    .dataframe tbody tr th:only-of-type {\n        vertical-align: middle;\n    }\n\n    .dataframe tbody tr th {\n        vertical-align: top;\n    }\n\n    .dataframe thead th {\n        text-align: right;\n    }\n</style>\n<table border=\"1\" class=\"dataframe\">\n  <thead>\n    <tr style=\"text-align: right;\">\n      <th></th>\n      <th>A</th>\n      <th>B</th>\n      <th>C</th>\n      <th>D</th>\n      <th>A</th>\n      <th>B</th>\n      <th>C</th>\n      <th>D</th>\n      <th>A</th>\n      <th>B</th>\n      <th>C</th>\n      <th>D</th>\n      <th>new_col_list</th>\n    </tr>\n  </thead>\n  <tbody>\n    <tr>\n      <th>0</th>\n      <td>a0</td>\n      <td>b0</td>\n      <td>c0</td>\n      <td>d0</td>\n      <td>a4</td>\n      <td>b4</td>\n      <td>c4</td>\n      <td>d4</td>\n      <td>a8</td>\n      <td>b8</td>\n      <td>c8</td>\n      <td>d8</td>\n      <td>n1</td>\n    </tr>\n    <tr>\n      <th>1</th>\n      <td>a1</td>\n      <td>b1</td>\n      <td>c1</td>\n      <td>d1</td>\n      <td>a5</td>\n      <td>b5</td>\n      <td>c5</td>\n      <td>d5</td>\n      <td>a9</td>\n      <td>b9</td>\n      <td>c9</td>\n      <td>d9</td>\n      <td>n2</td>\n    </tr>\n    <tr>\n      <th>2</th>\n      <td>a2</td>\n      <td>b2</td>\n      <td>c2</td>\n      <td>d2</td>\n      <td>a6</td>\n      <td>b6</td>\n      <td>c6</td>\n      <td>d6</td>\n      <td>a10</td>\n      <td>b10</td>\n      <td>c10</td>\n      <td>d10</td>\n      <td>n3</td>\n    </tr>\n    <tr>\n      <th>3</th>\n      <td>a3</td>\n      <td>b3</td>\n      <td>c3</td>\n      <td>d3</td>\n      <td>a7</td>\n      <td>b7</td>\n      <td>c7</td>\n      <td>d7</td>\n      <td>a11</td>\n      <td>b11</td>\n      <td>c11</td>\n      <td>d11</td>\n      <td>n4</td>\n    </tr>\n  </tbody>\n</table>\n</div>"
     },
     "execution_count": 21,
     "metadata": {},
     "output_type": "execute_result"
    }
   ],
   "source": [
    "col_concat['new_col_list'] = ['n1', 'n2', 'n3', 'n4']  # 존재하는 열에 데이터를 넣으면 수정된다.\n",
    "col_concat"
   ],
   "metadata": {
    "collapsed": false
   }
  },
  {
   "cell_type": "markdown",
   "source": [
    "데이터프레임의 열 이름을 변경하려면 columns 속성에 새 열 이름을 리스트 형태로 전달하면 된다."
   ],
   "metadata": {
    "collapsed": false
   }
  },
  {
   "cell_type": "code",
   "execution_count": 22,
   "outputs": [
    {
     "name": "stdout",
     "output_type": "stream",
     "text": [
      "Index(['A', 'B', 'C', 'D'], dtype='object')\n",
      "Index(['E', 'F', 'G', 'H'], dtype='object')\n",
      "Index(['A', 'C', 'F', 'H'], dtype='object')\n"
     ]
    }
   ],
   "source": [
    "print(df1.columns)\n",
    "df2.columns = ['E', 'F', 'G', 'H']\n",
    "print(df2.columns)\n",
    "df3.columns = ['A', 'C', 'F', 'H']\n",
    "print(df3.columns)"
   ],
   "metadata": {
    "collapsed": false
   }
  },
  {
   "cell_type": "code",
   "execution_count": 23,
   "outputs": [
    {
     "data": {
      "text/plain": "      A    B    C    D    E    F    G    H\n0    a0   b0   c0   d0  NaN  NaN  NaN  NaN\n1    a1   b1   c1   d1  NaN  NaN  NaN  NaN\n2    a2   b2   c2   d2  NaN  NaN  NaN  NaN\n3    a3   b3   c3   d3  NaN  NaN  NaN  NaN\n4   NaN  NaN  NaN  NaN   a4   b4   c4   d4\n5   NaN  NaN  NaN  NaN   a5   b5   c5   d5\n6   NaN  NaN  NaN  NaN   a6   b6   c6   d6\n7   NaN  NaN  NaN  NaN   a7   b7   c7   d7\n8    a8  NaN   b8  NaN  NaN   c8  NaN   d8\n9    a9  NaN   b9  NaN  NaN   c9  NaN   d9\n10  a10  NaN  b10  NaN  NaN  c10  NaN  d10\n11  a11  NaN  b11  NaN  NaN  c11  NaN  d11",
      "text/html": "<div>\n<style scoped>\n    .dataframe tbody tr th:only-of-type {\n        vertical-align: middle;\n    }\n\n    .dataframe tbody tr th {\n        vertical-align: top;\n    }\n\n    .dataframe thead th {\n        text-align: right;\n    }\n</style>\n<table border=\"1\" class=\"dataframe\">\n  <thead>\n    <tr style=\"text-align: right;\">\n      <th></th>\n      <th>A</th>\n      <th>B</th>\n      <th>C</th>\n      <th>D</th>\n      <th>E</th>\n      <th>F</th>\n      <th>G</th>\n      <th>H</th>\n    </tr>\n  </thead>\n  <tbody>\n    <tr>\n      <th>0</th>\n      <td>a0</td>\n      <td>b0</td>\n      <td>c0</td>\n      <td>d0</td>\n      <td>NaN</td>\n      <td>NaN</td>\n      <td>NaN</td>\n      <td>NaN</td>\n    </tr>\n    <tr>\n      <th>1</th>\n      <td>a1</td>\n      <td>b1</td>\n      <td>c1</td>\n      <td>d1</td>\n      <td>NaN</td>\n      <td>NaN</td>\n      <td>NaN</td>\n      <td>NaN</td>\n    </tr>\n    <tr>\n      <th>2</th>\n      <td>a2</td>\n      <td>b2</td>\n      <td>c2</td>\n      <td>d2</td>\n      <td>NaN</td>\n      <td>NaN</td>\n      <td>NaN</td>\n      <td>NaN</td>\n    </tr>\n    <tr>\n      <th>3</th>\n      <td>a3</td>\n      <td>b3</td>\n      <td>c3</td>\n      <td>d3</td>\n      <td>NaN</td>\n      <td>NaN</td>\n      <td>NaN</td>\n      <td>NaN</td>\n    </tr>\n    <tr>\n      <th>4</th>\n      <td>NaN</td>\n      <td>NaN</td>\n      <td>NaN</td>\n      <td>NaN</td>\n      <td>a4</td>\n      <td>b4</td>\n      <td>c4</td>\n      <td>d4</td>\n    </tr>\n    <tr>\n      <th>5</th>\n      <td>NaN</td>\n      <td>NaN</td>\n      <td>NaN</td>\n      <td>NaN</td>\n      <td>a5</td>\n      <td>b5</td>\n      <td>c5</td>\n      <td>d5</td>\n    </tr>\n    <tr>\n      <th>6</th>\n      <td>NaN</td>\n      <td>NaN</td>\n      <td>NaN</td>\n      <td>NaN</td>\n      <td>a6</td>\n      <td>b6</td>\n      <td>c6</td>\n      <td>d6</td>\n    </tr>\n    <tr>\n      <th>7</th>\n      <td>NaN</td>\n      <td>NaN</td>\n      <td>NaN</td>\n      <td>NaN</td>\n      <td>a7</td>\n      <td>b7</td>\n      <td>c7</td>\n      <td>d7</td>\n    </tr>\n    <tr>\n      <th>8</th>\n      <td>a8</td>\n      <td>NaN</td>\n      <td>b8</td>\n      <td>NaN</td>\n      <td>NaN</td>\n      <td>c8</td>\n      <td>NaN</td>\n      <td>d8</td>\n    </tr>\n    <tr>\n      <th>9</th>\n      <td>a9</td>\n      <td>NaN</td>\n      <td>b9</td>\n      <td>NaN</td>\n      <td>NaN</td>\n      <td>c9</td>\n      <td>NaN</td>\n      <td>d9</td>\n    </tr>\n    <tr>\n      <th>10</th>\n      <td>a10</td>\n      <td>NaN</td>\n      <td>b10</td>\n      <td>NaN</td>\n      <td>NaN</td>\n      <td>c10</td>\n      <td>NaN</td>\n      <td>d10</td>\n    </tr>\n    <tr>\n      <th>11</th>\n      <td>a11</td>\n      <td>NaN</td>\n      <td>b11</td>\n      <td>NaN</td>\n      <td>NaN</td>\n      <td>c11</td>\n      <td>NaN</td>\n      <td>d11</td>\n    </tr>\n  </tbody>\n</table>\n</div>"
     },
     "execution_count": 23,
     "metadata": {},
     "output_type": "execute_result"
    }
   ],
   "source": [
    "# 데이터프레임에 없는 열 이름의 데이터는 누락값으로 처리된다.\n",
    "pd.concat([df1, df2, df3], ignore_index=True)"
   ],
   "metadata": {
    "collapsed": false
   }
  },
  {
   "cell_type": "markdown",
   "source": [
    "concat()의 join 속성을 inner로 지정하면 데이터프레임에 공통으로 데이터가 있는 열만 골라서 연결할 수 있고 누락값이 발생하지 않는다."
   ],
   "metadata": {
    "collapsed": false
   }
  },
  {
   "cell_type": "code",
   "execution_count": 24,
   "outputs": [
    {
     "data": {
      "text/plain": "      A    B    C    D    E    F    G    H\n0    a0   b0   c0   d0  NaN  NaN  NaN  NaN\n1    a1   b1   c1   d1  NaN  NaN  NaN  NaN\n2    a2   b2   c2   d2  NaN  NaN  NaN  NaN\n3    a3   b3   c3   d3  NaN  NaN  NaN  NaN\n4   NaN  NaN  NaN  NaN   a4   b4   c4   d4\n5   NaN  NaN  NaN  NaN   a5   b5   c5   d5\n6   NaN  NaN  NaN  NaN   a6   b6   c6   d6\n7   NaN  NaN  NaN  NaN   a7   b7   c7   d7\n8    a8  NaN   b8  NaN  NaN   c8  NaN   d8\n9    a9  NaN   b9  NaN  NaN   c9  NaN   d9\n10  a10  NaN  b10  NaN  NaN  c10  NaN  d10\n11  a11  NaN  b11  NaN  NaN  c11  NaN  d11",
      "text/html": "<div>\n<style scoped>\n    .dataframe tbody tr th:only-of-type {\n        vertical-align: middle;\n    }\n\n    .dataframe tbody tr th {\n        vertical-align: top;\n    }\n\n    .dataframe thead th {\n        text-align: right;\n    }\n</style>\n<table border=\"1\" class=\"dataframe\">\n  <thead>\n    <tr style=\"text-align: right;\">\n      <th></th>\n      <th>A</th>\n      <th>B</th>\n      <th>C</th>\n      <th>D</th>\n      <th>E</th>\n      <th>F</th>\n      <th>G</th>\n      <th>H</th>\n    </tr>\n  </thead>\n  <tbody>\n    <tr>\n      <th>0</th>\n      <td>a0</td>\n      <td>b0</td>\n      <td>c0</td>\n      <td>d0</td>\n      <td>NaN</td>\n      <td>NaN</td>\n      <td>NaN</td>\n      <td>NaN</td>\n    </tr>\n    <tr>\n      <th>1</th>\n      <td>a1</td>\n      <td>b1</td>\n      <td>c1</td>\n      <td>d1</td>\n      <td>NaN</td>\n      <td>NaN</td>\n      <td>NaN</td>\n      <td>NaN</td>\n    </tr>\n    <tr>\n      <th>2</th>\n      <td>a2</td>\n      <td>b2</td>\n      <td>c2</td>\n      <td>d2</td>\n      <td>NaN</td>\n      <td>NaN</td>\n      <td>NaN</td>\n      <td>NaN</td>\n    </tr>\n    <tr>\n      <th>3</th>\n      <td>a3</td>\n      <td>b3</td>\n      <td>c3</td>\n      <td>d3</td>\n      <td>NaN</td>\n      <td>NaN</td>\n      <td>NaN</td>\n      <td>NaN</td>\n    </tr>\n    <tr>\n      <th>4</th>\n      <td>NaN</td>\n      <td>NaN</td>\n      <td>NaN</td>\n      <td>NaN</td>\n      <td>a4</td>\n      <td>b4</td>\n      <td>c4</td>\n      <td>d4</td>\n    </tr>\n    <tr>\n      <th>5</th>\n      <td>NaN</td>\n      <td>NaN</td>\n      <td>NaN</td>\n      <td>NaN</td>\n      <td>a5</td>\n      <td>b5</td>\n      <td>c5</td>\n      <td>d5</td>\n    </tr>\n    <tr>\n      <th>6</th>\n      <td>NaN</td>\n      <td>NaN</td>\n      <td>NaN</td>\n      <td>NaN</td>\n      <td>a6</td>\n      <td>b6</td>\n      <td>c6</td>\n      <td>d6</td>\n    </tr>\n    <tr>\n      <th>7</th>\n      <td>NaN</td>\n      <td>NaN</td>\n      <td>NaN</td>\n      <td>NaN</td>\n      <td>a7</td>\n      <td>b7</td>\n      <td>c7</td>\n      <td>d7</td>\n    </tr>\n    <tr>\n      <th>8</th>\n      <td>a8</td>\n      <td>NaN</td>\n      <td>b8</td>\n      <td>NaN</td>\n      <td>NaN</td>\n      <td>c8</td>\n      <td>NaN</td>\n      <td>d8</td>\n    </tr>\n    <tr>\n      <th>9</th>\n      <td>a9</td>\n      <td>NaN</td>\n      <td>b9</td>\n      <td>NaN</td>\n      <td>NaN</td>\n      <td>c9</td>\n      <td>NaN</td>\n      <td>d9</td>\n    </tr>\n    <tr>\n      <th>10</th>\n      <td>a10</td>\n      <td>NaN</td>\n      <td>b10</td>\n      <td>NaN</td>\n      <td>NaN</td>\n      <td>c10</td>\n      <td>NaN</td>\n      <td>d10</td>\n    </tr>\n    <tr>\n      <th>11</th>\n      <td>a11</td>\n      <td>NaN</td>\n      <td>b11</td>\n      <td>NaN</td>\n      <td>NaN</td>\n      <td>c11</td>\n      <td>NaN</td>\n      <td>d11</td>\n    </tr>\n  </tbody>\n</table>\n</div>"
     },
     "execution_count": 24,
     "metadata": {},
     "output_type": "execute_result"
    }
   ],
   "source": [
    "# join 속성의 기본값은 outer이고 모두 연결한다. → NaN 다수 발생 가능\n",
    "pd.concat([df1, df2, df3], ignore_index=True, join='outer')"
   ],
   "metadata": {
    "collapsed": false
   }
  },
  {
   "cell_type": "code",
   "execution_count": 25,
   "outputs": [
    {
     "data": {
      "text/plain": "     A    C\n0   a0   c0\n1   a1   c1\n2   a2   c2\n3   a3   c3\n4   a8   b8\n5   a9   b9\n6  a10  b10\n7  a11  b11",
      "text/html": "<div>\n<style scoped>\n    .dataframe tbody tr th:only-of-type {\n        vertical-align: middle;\n    }\n\n    .dataframe tbody tr th {\n        vertical-align: top;\n    }\n\n    .dataframe thead th {\n        text-align: right;\n    }\n</style>\n<table border=\"1\" class=\"dataframe\">\n  <thead>\n    <tr style=\"text-align: right;\">\n      <th></th>\n      <th>A</th>\n      <th>C</th>\n    </tr>\n  </thead>\n  <tbody>\n    <tr>\n      <th>0</th>\n      <td>a0</td>\n      <td>c0</td>\n    </tr>\n    <tr>\n      <th>1</th>\n      <td>a1</td>\n      <td>c1</td>\n    </tr>\n    <tr>\n      <th>2</th>\n      <td>a2</td>\n      <td>c2</td>\n    </tr>\n    <tr>\n      <th>3</th>\n      <td>a3</td>\n      <td>c3</td>\n    </tr>\n    <tr>\n      <th>4</th>\n      <td>a8</td>\n      <td>b8</td>\n    </tr>\n    <tr>\n      <th>5</th>\n      <td>a9</td>\n      <td>b9</td>\n    </tr>\n    <tr>\n      <th>6</th>\n      <td>a10</td>\n      <td>b10</td>\n    </tr>\n    <tr>\n      <th>7</th>\n      <td>a11</td>\n      <td>b11</td>\n    </tr>\n  </tbody>\n</table>\n</div>"
     },
     "execution_count": 25,
     "metadata": {},
     "output_type": "execute_result"
    }
   ],
   "source": [
    "pd.concat([df1, df3], ignore_index=True, join='inner')"
   ],
   "metadata": {
    "collapsed": false
   }
  },
  {
   "cell_type": "markdown",
   "source": [
    "데이터프레임의 인덱스를 변경하려면 index 속성에 새 인덱스를 리스트 형태로 전달하면 된다."
   ],
   "metadata": {
    "collapsed": false
   }
  },
  {
   "cell_type": "code",
   "execution_count": 26,
   "outputs": [
    {
     "name": "stdout",
     "output_type": "stream",
     "text": [
      "[0, 1, 2, 3]\n",
      "[4, 5, 6, 7]\n",
      "[0, 2, 5, 7]\n"
     ]
    }
   ],
   "source": [
    "print(list(df1.index))\n",
    "df2.index = [4, 5, 6, 7]\n",
    "print(list(df2.index))\n",
    "df3.index = [0, 2, 5, 7]\n",
    "print(list(df3.index))"
   ],
   "metadata": {
    "collapsed": false
   }
  },
  {
   "cell_type": "code",
   "execution_count": 27,
   "outputs": [
    {
     "data": {
      "text/plain": "    0   1   2   3   4   5   6   7\n0  a0  b0  c0  d0  a8  b8  c8  d8\n2  a2  b2  c2  d2  a9  b9  c9  d9",
      "text/html": "<div>\n<style scoped>\n    .dataframe tbody tr th:only-of-type {\n        vertical-align: middle;\n    }\n\n    .dataframe tbody tr th {\n        vertical-align: top;\n    }\n\n    .dataframe thead th {\n        text-align: right;\n    }\n</style>\n<table border=\"1\" class=\"dataframe\">\n  <thead>\n    <tr style=\"text-align: right;\">\n      <th></th>\n      <th>0</th>\n      <th>1</th>\n      <th>2</th>\n      <th>3</th>\n      <th>4</th>\n      <th>5</th>\n      <th>6</th>\n      <th>7</th>\n    </tr>\n  </thead>\n  <tbody>\n    <tr>\n      <th>0</th>\n      <td>a0</td>\n      <td>b0</td>\n      <td>c0</td>\n      <td>d0</td>\n      <td>a8</td>\n      <td>b8</td>\n      <td>c8</td>\n      <td>d8</td>\n    </tr>\n    <tr>\n      <th>2</th>\n      <td>a2</td>\n      <td>b2</td>\n      <td>c2</td>\n      <td>d2</td>\n      <td>a9</td>\n      <td>b9</td>\n      <td>c9</td>\n      <td>d9</td>\n    </tr>\n  </tbody>\n</table>\n</div>"
     },
     "execution_count": 27,
     "metadata": {},
     "output_type": "execute_result"
    }
   ],
   "source": [
    "pd.concat([df1, df3], ignore_index=True, join='inner', axis=1)"
   ],
   "metadata": {
    "collapsed": false
   }
  },
  {
   "cell_type": "markdown",
   "source": [
    "# 기상 데이터\n",
    "\n",
    "merge()는 기본적으로 내부 조인(how='inner')을 실행하며 메서드를 실행한 데이터프레임이 왼쪽으로 지정되고 첫 번째 인수로 지정된 데이터프레임이 오른쪽으로 지정된다.\n",
    "left_on 속성과 right_on 속성은 각각 왼쪽과 오른쪽 데이터프레임에서 일치해야 할 열을 지정한다.\n",
    "\n",
    "survey_person.csv → 관측자\n",
    "survey_site.csv → 관측 위치\n",
    "survey_survey.csv → 기상 정보\n",
    "survey_visited.csv → 관측 날짜"
   ],
   "metadata": {
    "collapsed": false
   }
  },
  {
   "cell_type": "code",
   "execution_count": 28,
   "outputs": [
    {
     "data": {
      "text/plain": "      ident   personal    family\n0      dyer    William      Dyer\n1        pb      Frank   Pabodie\n2      lake   Anderson      Lake\n3       roe  Valentina   Roerich\n4  danforth      Frank  Danforth",
      "text/html": "<div>\n<style scoped>\n    .dataframe tbody tr th:only-of-type {\n        vertical-align: middle;\n    }\n\n    .dataframe tbody tr th {\n        vertical-align: top;\n    }\n\n    .dataframe thead th {\n        text-align: right;\n    }\n</style>\n<table border=\"1\" class=\"dataframe\">\n  <thead>\n    <tr style=\"text-align: right;\">\n      <th></th>\n      <th>ident</th>\n      <th>personal</th>\n      <th>family</th>\n    </tr>\n  </thead>\n  <tbody>\n    <tr>\n      <th>0</th>\n      <td>dyer</td>\n      <td>William</td>\n      <td>Dyer</td>\n    </tr>\n    <tr>\n      <th>1</th>\n      <td>pb</td>\n      <td>Frank</td>\n      <td>Pabodie</td>\n    </tr>\n    <tr>\n      <th>2</th>\n      <td>lake</td>\n      <td>Anderson</td>\n      <td>Lake</td>\n    </tr>\n    <tr>\n      <th>3</th>\n      <td>roe</td>\n      <td>Valentina</td>\n      <td>Roerich</td>\n    </tr>\n    <tr>\n      <th>4</th>\n      <td>danforth</td>\n      <td>Frank</td>\n      <td>Danforth</td>\n    </tr>\n  </tbody>\n</table>\n</div>"
     },
     "execution_count": 28,
     "metadata": {},
     "output_type": "execute_result"
    }
   ],
   "source": [
    "person = pd.read_csv('./data/survey_person.csv', sep=',')\n",
    "person"
   ],
   "metadata": {
    "collapsed": false
   }
  },
  {
   "cell_type": "code",
   "execution_count": 29,
   "outputs": [
    {
     "data": {
      "text/plain": "     name    lat    long\n0    DR-1 -49.85 -128.57\n1    DR-3 -47.15 -126.72\n2   MSK-4 -48.87 -123.40\n3  DR-100    NaN     NaN",
      "text/html": "<div>\n<style scoped>\n    .dataframe tbody tr th:only-of-type {\n        vertical-align: middle;\n    }\n\n    .dataframe tbody tr th {\n        vertical-align: top;\n    }\n\n    .dataframe thead th {\n        text-align: right;\n    }\n</style>\n<table border=\"1\" class=\"dataframe\">\n  <thead>\n    <tr style=\"text-align: right;\">\n      <th></th>\n      <th>name</th>\n      <th>lat</th>\n      <th>long</th>\n    </tr>\n  </thead>\n  <tbody>\n    <tr>\n      <th>0</th>\n      <td>DR-1</td>\n      <td>-49.85</td>\n      <td>-128.57</td>\n    </tr>\n    <tr>\n      <th>1</th>\n      <td>DR-3</td>\n      <td>-47.15</td>\n      <td>-126.72</td>\n    </tr>\n    <tr>\n      <th>2</th>\n      <td>MSK-4</td>\n      <td>-48.87</td>\n      <td>-123.40</td>\n    </tr>\n    <tr>\n      <th>3</th>\n      <td>DR-100</td>\n      <td>NaN</td>\n      <td>NaN</td>\n    </tr>\n  </tbody>\n</table>\n</div>"
     },
     "execution_count": 29,
     "metadata": {},
     "output_type": "execute_result"
    }
   ],
   "source": [
    "site = pd.read_csv('./data/survey_site.csv', sep=',')\n",
    "site"
   ],
   "metadata": {
    "collapsed": false
   }
  },
  {
   "cell_type": "code",
   "execution_count": 30,
   "outputs": [
    {
     "data": {
      "text/plain": "    taken person quant  reading\n0     619   dyer   rad     9.82\n1     619   dyer   sal     0.13\n2     622   dyer   rad     7.80\n3     622   dyer   sal     0.09\n4     734     pb   rad     8.41\n5     734   lake   sal     0.05\n6     734     pb  temp   -21.50\n7     735     pb   rad     7.22\n8     735    NaN   sal     0.06\n9     735    NaN  temp   -26.00\n10    751     pb   rad     4.35\n11    751     pb  temp   -18.50\n12    751   lake   sal     0.10\n13    752   lake   rad     2.19\n14    752   lake   sal     0.09\n15    752   lake  temp   -16.00\n16    752    roe   sal    41.60\n17    837   lake   rad     1.46\n18    837   lake   sal     0.21\n19    837    roe   sal    22.50\n20    844    roe   rad    11.25",
      "text/html": "<div>\n<style scoped>\n    .dataframe tbody tr th:only-of-type {\n        vertical-align: middle;\n    }\n\n    .dataframe tbody tr th {\n        vertical-align: top;\n    }\n\n    .dataframe thead th {\n        text-align: right;\n    }\n</style>\n<table border=\"1\" class=\"dataframe\">\n  <thead>\n    <tr style=\"text-align: right;\">\n      <th></th>\n      <th>taken</th>\n      <th>person</th>\n      <th>quant</th>\n      <th>reading</th>\n    </tr>\n  </thead>\n  <tbody>\n    <tr>\n      <th>0</th>\n      <td>619</td>\n      <td>dyer</td>\n      <td>rad</td>\n      <td>9.82</td>\n    </tr>\n    <tr>\n      <th>1</th>\n      <td>619</td>\n      <td>dyer</td>\n      <td>sal</td>\n      <td>0.13</td>\n    </tr>\n    <tr>\n      <th>2</th>\n      <td>622</td>\n      <td>dyer</td>\n      <td>rad</td>\n      <td>7.80</td>\n    </tr>\n    <tr>\n      <th>3</th>\n      <td>622</td>\n      <td>dyer</td>\n      <td>sal</td>\n      <td>0.09</td>\n    </tr>\n    <tr>\n      <th>4</th>\n      <td>734</td>\n      <td>pb</td>\n      <td>rad</td>\n      <td>8.41</td>\n    </tr>\n    <tr>\n      <th>5</th>\n      <td>734</td>\n      <td>lake</td>\n      <td>sal</td>\n      <td>0.05</td>\n    </tr>\n    <tr>\n      <th>6</th>\n      <td>734</td>\n      <td>pb</td>\n      <td>temp</td>\n      <td>-21.50</td>\n    </tr>\n    <tr>\n      <th>7</th>\n      <td>735</td>\n      <td>pb</td>\n      <td>rad</td>\n      <td>7.22</td>\n    </tr>\n    <tr>\n      <th>8</th>\n      <td>735</td>\n      <td>NaN</td>\n      <td>sal</td>\n      <td>0.06</td>\n    </tr>\n    <tr>\n      <th>9</th>\n      <td>735</td>\n      <td>NaN</td>\n      <td>temp</td>\n      <td>-26.00</td>\n    </tr>\n    <tr>\n      <th>10</th>\n      <td>751</td>\n      <td>pb</td>\n      <td>rad</td>\n      <td>4.35</td>\n    </tr>\n    <tr>\n      <th>11</th>\n      <td>751</td>\n      <td>pb</td>\n      <td>temp</td>\n      <td>-18.50</td>\n    </tr>\n    <tr>\n      <th>12</th>\n      <td>751</td>\n      <td>lake</td>\n      <td>sal</td>\n      <td>0.10</td>\n    </tr>\n    <tr>\n      <th>13</th>\n      <td>752</td>\n      <td>lake</td>\n      <td>rad</td>\n      <td>2.19</td>\n    </tr>\n    <tr>\n      <th>14</th>\n      <td>752</td>\n      <td>lake</td>\n      <td>sal</td>\n      <td>0.09</td>\n    </tr>\n    <tr>\n      <th>15</th>\n      <td>752</td>\n      <td>lake</td>\n      <td>temp</td>\n      <td>-16.00</td>\n    </tr>\n    <tr>\n      <th>16</th>\n      <td>752</td>\n      <td>roe</td>\n      <td>sal</td>\n      <td>41.60</td>\n    </tr>\n    <tr>\n      <th>17</th>\n      <td>837</td>\n      <td>lake</td>\n      <td>rad</td>\n      <td>1.46</td>\n    </tr>\n    <tr>\n      <th>18</th>\n      <td>837</td>\n      <td>lake</td>\n      <td>sal</td>\n      <td>0.21</td>\n    </tr>\n    <tr>\n      <th>19</th>\n      <td>837</td>\n      <td>roe</td>\n      <td>sal</td>\n      <td>22.50</td>\n    </tr>\n    <tr>\n      <th>20</th>\n      <td>844</td>\n      <td>roe</td>\n      <td>rad</td>\n      <td>11.25</td>\n    </tr>\n  </tbody>\n</table>\n</div>"
     },
     "execution_count": 30,
     "metadata": {},
     "output_type": "execute_result"
    }
   ],
   "source": [
    "survey = pd.read_csv('./data/survey_survey.csv', sep=',')\n",
    "survey"
   ],
   "metadata": {
    "collapsed": false
   }
  },
  {
   "cell_type": "code",
   "execution_count": 31,
   "outputs": [
    {
     "data": {
      "text/plain": "   ident   site       dated\n0    619   DR-1  1927-02-08\n1    622   DR-1  1927-02-10\n2    734   DR-3  1939-01-07\n3    735   DR-3  1930-01-12\n4    751   DR-3  1930-02-26\n5    752   DR-3         NaN\n6    837  MSK-4  1932-01-14\n7    844   DR-1  1932-03-22",
      "text/html": "<div>\n<style scoped>\n    .dataframe tbody tr th:only-of-type {\n        vertical-align: middle;\n    }\n\n    .dataframe tbody tr th {\n        vertical-align: top;\n    }\n\n    .dataframe thead th {\n        text-align: right;\n    }\n</style>\n<table border=\"1\" class=\"dataframe\">\n  <thead>\n    <tr style=\"text-align: right;\">\n      <th></th>\n      <th>ident</th>\n      <th>site</th>\n      <th>dated</th>\n    </tr>\n  </thead>\n  <tbody>\n    <tr>\n      <th>0</th>\n      <td>619</td>\n      <td>DR-1</td>\n      <td>1927-02-08</td>\n    </tr>\n    <tr>\n      <th>1</th>\n      <td>622</td>\n      <td>DR-1</td>\n      <td>1927-02-10</td>\n    </tr>\n    <tr>\n      <th>2</th>\n      <td>734</td>\n      <td>DR-3</td>\n      <td>1939-01-07</td>\n    </tr>\n    <tr>\n      <th>3</th>\n      <td>735</td>\n      <td>DR-3</td>\n      <td>1930-01-12</td>\n    </tr>\n    <tr>\n      <th>4</th>\n      <td>751</td>\n      <td>DR-3</td>\n      <td>1930-02-26</td>\n    </tr>\n    <tr>\n      <th>5</th>\n      <td>752</td>\n      <td>DR-3</td>\n      <td>NaN</td>\n    </tr>\n    <tr>\n      <th>6</th>\n      <td>837</td>\n      <td>MSK-4</td>\n      <td>1932-01-14</td>\n    </tr>\n    <tr>\n      <th>7</th>\n      <td>844</td>\n      <td>DR-1</td>\n      <td>1932-03-22</td>\n    </tr>\n  </tbody>\n</table>\n</div>"
     },
     "execution_count": 31,
     "metadata": {},
     "output_type": "execute_result"
    }
   ],
   "source": [
    "visited = pd.read_csv('./data/survey_visited.csv', sep=',')\n",
    "visited"
   ],
   "metadata": {
    "collapsed": false
   }
  },
  {
   "cell_type": "code",
   "execution_count": 32,
   "outputs": [
    {
     "name": "stdout",
     "output_type": "stream",
     "text": [
      "Index(['name', 'lat', 'long'], dtype='object')\n",
      "Index(['ident', 'site', 'dated'], dtype='object')\n"
     ]
    },
    {
     "data": {
      "text/plain": "    name    lat    long  ident   site       dated\n0   DR-1 -49.85 -128.57    619   DR-1  1927-02-08\n1   DR-1 -49.85 -128.57    622   DR-1  1927-02-10\n2   DR-1 -49.85 -128.57    844   DR-1  1932-03-22\n3   DR-3 -47.15 -126.72    734   DR-3  1939-01-07\n4   DR-3 -47.15 -126.72    735   DR-3  1930-01-12\n5   DR-3 -47.15 -126.72    751   DR-3  1930-02-26\n6   DR-3 -47.15 -126.72    752   DR-3         NaN\n7  MSK-4 -48.87 -123.40    837  MSK-4  1932-01-14",
      "text/html": "<div>\n<style scoped>\n    .dataframe tbody tr th:only-of-type {\n        vertical-align: middle;\n    }\n\n    .dataframe tbody tr th {\n        vertical-align: top;\n    }\n\n    .dataframe thead th {\n        text-align: right;\n    }\n</style>\n<table border=\"1\" class=\"dataframe\">\n  <thead>\n    <tr style=\"text-align: right;\">\n      <th></th>\n      <th>name</th>\n      <th>lat</th>\n      <th>long</th>\n      <th>ident</th>\n      <th>site</th>\n      <th>dated</th>\n    </tr>\n  </thead>\n  <tbody>\n    <tr>\n      <th>0</th>\n      <td>DR-1</td>\n      <td>-49.85</td>\n      <td>-128.57</td>\n      <td>619</td>\n      <td>DR-1</td>\n      <td>1927-02-08</td>\n    </tr>\n    <tr>\n      <th>1</th>\n      <td>DR-1</td>\n      <td>-49.85</td>\n      <td>-128.57</td>\n      <td>622</td>\n      <td>DR-1</td>\n      <td>1927-02-10</td>\n    </tr>\n    <tr>\n      <th>2</th>\n      <td>DR-1</td>\n      <td>-49.85</td>\n      <td>-128.57</td>\n      <td>844</td>\n      <td>DR-1</td>\n      <td>1932-03-22</td>\n    </tr>\n    <tr>\n      <th>3</th>\n      <td>DR-3</td>\n      <td>-47.15</td>\n      <td>-126.72</td>\n      <td>734</td>\n      <td>DR-3</td>\n      <td>1939-01-07</td>\n    </tr>\n    <tr>\n      <th>4</th>\n      <td>DR-3</td>\n      <td>-47.15</td>\n      <td>-126.72</td>\n      <td>735</td>\n      <td>DR-3</td>\n      <td>1930-01-12</td>\n    </tr>\n    <tr>\n      <th>5</th>\n      <td>DR-3</td>\n      <td>-47.15</td>\n      <td>-126.72</td>\n      <td>751</td>\n      <td>DR-3</td>\n      <td>1930-02-26</td>\n    </tr>\n    <tr>\n      <th>6</th>\n      <td>DR-3</td>\n      <td>-47.15</td>\n      <td>-126.72</td>\n      <td>752</td>\n      <td>DR-3</td>\n      <td>NaN</td>\n    </tr>\n    <tr>\n      <th>7</th>\n      <td>MSK-4</td>\n      <td>-48.87</td>\n      <td>-123.40</td>\n      <td>837</td>\n      <td>MSK-4</td>\n      <td>1932-01-14</td>\n    </tr>\n  </tbody>\n</table>\n</div>"
     },
     "execution_count": 32,
     "metadata": {},
     "output_type": "execute_result"
    }
   ],
   "source": [
    "print(site.columns)\n",
    "print(visited.columns)\n",
    "# how 속성으로 두 데이터프레임을 합치는 방법을 지정한다. 기본값은 how='inner'이다.\n",
    "# how 속성을 생략하거나 how ='inner'로 지정하면 두 데이터프레임에 공통적으로 포함된 값이 있는 데이터만 합친다.\n",
    "o2o_merge = site.merge(visited, left_on='name', right_on='site', how='inner')\n",
    "o2o_merge"
   ],
   "metadata": {
    "collapsed": false
   }
  },
  {
   "cell_type": "code",
   "execution_count": 33,
   "outputs": [
    {
     "data": {
      "text/plain": "     name    lat    long  ident   site       dated\n0    DR-1 -49.85 -128.57  619.0   DR-1  1927-02-08\n1    DR-1 -49.85 -128.57  622.0   DR-1  1927-02-10\n2    DR-1 -49.85 -128.57  844.0   DR-1  1932-03-22\n3    DR-3 -47.15 -126.72  734.0   DR-3  1939-01-07\n4    DR-3 -47.15 -126.72  735.0   DR-3  1930-01-12\n5    DR-3 -47.15 -126.72  751.0   DR-3  1930-02-26\n6    DR-3 -47.15 -126.72  752.0   DR-3         NaN\n7   MSK-4 -48.87 -123.40  837.0  MSK-4  1932-01-14\n8  DR-100    NaN     NaN    NaN    NaN         NaN",
      "text/html": "<div>\n<style scoped>\n    .dataframe tbody tr th:only-of-type {\n        vertical-align: middle;\n    }\n\n    .dataframe tbody tr th {\n        vertical-align: top;\n    }\n\n    .dataframe thead th {\n        text-align: right;\n    }\n</style>\n<table border=\"1\" class=\"dataframe\">\n  <thead>\n    <tr style=\"text-align: right;\">\n      <th></th>\n      <th>name</th>\n      <th>lat</th>\n      <th>long</th>\n      <th>ident</th>\n      <th>site</th>\n      <th>dated</th>\n    </tr>\n  </thead>\n  <tbody>\n    <tr>\n      <th>0</th>\n      <td>DR-1</td>\n      <td>-49.85</td>\n      <td>-128.57</td>\n      <td>619.0</td>\n      <td>DR-1</td>\n      <td>1927-02-08</td>\n    </tr>\n    <tr>\n      <th>1</th>\n      <td>DR-1</td>\n      <td>-49.85</td>\n      <td>-128.57</td>\n      <td>622.0</td>\n      <td>DR-1</td>\n      <td>1927-02-10</td>\n    </tr>\n    <tr>\n      <th>2</th>\n      <td>DR-1</td>\n      <td>-49.85</td>\n      <td>-128.57</td>\n      <td>844.0</td>\n      <td>DR-1</td>\n      <td>1932-03-22</td>\n    </tr>\n    <tr>\n      <th>3</th>\n      <td>DR-3</td>\n      <td>-47.15</td>\n      <td>-126.72</td>\n      <td>734.0</td>\n      <td>DR-3</td>\n      <td>1939-01-07</td>\n    </tr>\n    <tr>\n      <th>4</th>\n      <td>DR-3</td>\n      <td>-47.15</td>\n      <td>-126.72</td>\n      <td>735.0</td>\n      <td>DR-3</td>\n      <td>1930-01-12</td>\n    </tr>\n    <tr>\n      <th>5</th>\n      <td>DR-3</td>\n      <td>-47.15</td>\n      <td>-126.72</td>\n      <td>751.0</td>\n      <td>DR-3</td>\n      <td>1930-02-26</td>\n    </tr>\n    <tr>\n      <th>6</th>\n      <td>DR-3</td>\n      <td>-47.15</td>\n      <td>-126.72</td>\n      <td>752.0</td>\n      <td>DR-3</td>\n      <td>NaN</td>\n    </tr>\n    <tr>\n      <th>7</th>\n      <td>MSK-4</td>\n      <td>-48.87</td>\n      <td>-123.40</td>\n      <td>837.0</td>\n      <td>MSK-4</td>\n      <td>1932-01-14</td>\n    </tr>\n    <tr>\n      <th>8</th>\n      <td>DR-100</td>\n      <td>NaN</td>\n      <td>NaN</td>\n      <td>NaN</td>\n      <td>NaN</td>\n      <td>NaN</td>\n    </tr>\n  </tbody>\n</table>\n</div>"
     },
     "execution_count": 33,
     "metadata": {},
     "output_type": "execute_result"
    }
   ],
   "source": [
    "# how 속성을 how='outer'로 지정하면 두 데이터프레임의 모든 데이터를 합친다. 한쪽에만 있는 데이터는 NaN이 채워진다.\n",
    "o2o_merge = site.merge(visited, left_on='name', right_on='site', how='outer')\n",
    "o2o_merge"
   ],
   "metadata": {
    "collapsed": false
   }
  },
  {
   "cell_type": "code",
   "execution_count": 34,
   "outputs": [
    {
     "data": {
      "text/plain": "    name    lat    long  ident   site       dated\n0   DR-1 -49.85 -128.57    619   DR-1  1927-02-08\n1   DR-1 -49.85 -128.57    622   DR-1  1927-02-10\n2   DR-3 -47.15 -126.72    734   DR-3  1939-01-07\n3   DR-3 -47.15 -126.72    735   DR-3  1930-01-12\n4   DR-3 -47.15 -126.72    751   DR-3  1930-02-26\n5   DR-3 -47.15 -126.72    752   DR-3         NaN\n6  MSK-4 -48.87 -123.40    837  MSK-4  1932-01-14\n7   DR-1 -49.85 -128.57    844   DR-1  1932-03-22",
      "text/html": "<div>\n<style scoped>\n    .dataframe tbody tr th:only-of-type {\n        vertical-align: middle;\n    }\n\n    .dataframe tbody tr th {\n        vertical-align: top;\n    }\n\n    .dataframe thead th {\n        text-align: right;\n    }\n</style>\n<table border=\"1\" class=\"dataframe\">\n  <thead>\n    <tr style=\"text-align: right;\">\n      <th></th>\n      <th>name</th>\n      <th>lat</th>\n      <th>long</th>\n      <th>ident</th>\n      <th>site</th>\n      <th>dated</th>\n    </tr>\n  </thead>\n  <tbody>\n    <tr>\n      <th>0</th>\n      <td>DR-1</td>\n      <td>-49.85</td>\n      <td>-128.57</td>\n      <td>619</td>\n      <td>DR-1</td>\n      <td>1927-02-08</td>\n    </tr>\n    <tr>\n      <th>1</th>\n      <td>DR-1</td>\n      <td>-49.85</td>\n      <td>-128.57</td>\n      <td>622</td>\n      <td>DR-1</td>\n      <td>1927-02-10</td>\n    </tr>\n    <tr>\n      <th>2</th>\n      <td>DR-3</td>\n      <td>-47.15</td>\n      <td>-126.72</td>\n      <td>734</td>\n      <td>DR-3</td>\n      <td>1939-01-07</td>\n    </tr>\n    <tr>\n      <th>3</th>\n      <td>DR-3</td>\n      <td>-47.15</td>\n      <td>-126.72</td>\n      <td>735</td>\n      <td>DR-3</td>\n      <td>1930-01-12</td>\n    </tr>\n    <tr>\n      <th>4</th>\n      <td>DR-3</td>\n      <td>-47.15</td>\n      <td>-126.72</td>\n      <td>751</td>\n      <td>DR-3</td>\n      <td>1930-02-26</td>\n    </tr>\n    <tr>\n      <th>5</th>\n      <td>DR-3</td>\n      <td>-47.15</td>\n      <td>-126.72</td>\n      <td>752</td>\n      <td>DR-3</td>\n      <td>NaN</td>\n    </tr>\n    <tr>\n      <th>6</th>\n      <td>MSK-4</td>\n      <td>-48.87</td>\n      <td>-123.40</td>\n      <td>837</td>\n      <td>MSK-4</td>\n      <td>1932-01-14</td>\n    </tr>\n    <tr>\n      <th>7</th>\n      <td>DR-1</td>\n      <td>-49.85</td>\n      <td>-128.57</td>\n      <td>844</td>\n      <td>DR-1</td>\n      <td>1932-03-22</td>\n    </tr>\n  </tbody>\n</table>\n</div>"
     },
     "execution_count": 34,
     "metadata": {},
     "output_type": "execute_result"
    }
   ],
   "source": [
    "# how 속성을 how='left'로 지정하면 왼쪽 데이터프레임의 모든 데이터와 오른쪽 데이터프레임에 있는 공통적으로 포함된 데이터를 합친다. 한쪽에만 있는 데이터는 NaN이 채워진다.\n",
    "o2o_merge = site.merge(visited, left_on='name', right_on='site', how='right')\n",
    "o2o_merge"
   ],
   "metadata": {
    "collapsed": false
   }
  },
  {
   "cell_type": "code",
   "execution_count": 35,
   "outputs": [
    {
     "data": {
      "text/plain": "     name    lat    long  ident   site       dated\n0    DR-1 -49.85 -128.57  619.0   DR-1  1927-02-08\n1    DR-1 -49.85 -128.57  622.0   DR-1  1927-02-10\n2    DR-1 -49.85 -128.57  844.0   DR-1  1932-03-22\n3    DR-3 -47.15 -126.72  734.0   DR-3  1939-01-07\n4    DR-3 -47.15 -126.72  735.0   DR-3  1930-01-12\n5    DR-3 -47.15 -126.72  751.0   DR-3  1930-02-26\n6    DR-3 -47.15 -126.72  752.0   DR-3         NaN\n7   MSK-4 -48.87 -123.40  837.0  MSK-4  1932-01-14\n8  DR-100    NaN     NaN    NaN    NaN         NaN",
      "text/html": "<div>\n<style scoped>\n    .dataframe tbody tr th:only-of-type {\n        vertical-align: middle;\n    }\n\n    .dataframe tbody tr th {\n        vertical-align: top;\n    }\n\n    .dataframe thead th {\n        text-align: right;\n    }\n</style>\n<table border=\"1\" class=\"dataframe\">\n  <thead>\n    <tr style=\"text-align: right;\">\n      <th></th>\n      <th>name</th>\n      <th>lat</th>\n      <th>long</th>\n      <th>ident</th>\n      <th>site</th>\n      <th>dated</th>\n    </tr>\n  </thead>\n  <tbody>\n    <tr>\n      <th>0</th>\n      <td>DR-1</td>\n      <td>-49.85</td>\n      <td>-128.57</td>\n      <td>619.0</td>\n      <td>DR-1</td>\n      <td>1927-02-08</td>\n    </tr>\n    <tr>\n      <th>1</th>\n      <td>DR-1</td>\n      <td>-49.85</td>\n      <td>-128.57</td>\n      <td>622.0</td>\n      <td>DR-1</td>\n      <td>1927-02-10</td>\n    </tr>\n    <tr>\n      <th>2</th>\n      <td>DR-1</td>\n      <td>-49.85</td>\n      <td>-128.57</td>\n      <td>844.0</td>\n      <td>DR-1</td>\n      <td>1932-03-22</td>\n    </tr>\n    <tr>\n      <th>3</th>\n      <td>DR-3</td>\n      <td>-47.15</td>\n      <td>-126.72</td>\n      <td>734.0</td>\n      <td>DR-3</td>\n      <td>1939-01-07</td>\n    </tr>\n    <tr>\n      <th>4</th>\n      <td>DR-3</td>\n      <td>-47.15</td>\n      <td>-126.72</td>\n      <td>735.0</td>\n      <td>DR-3</td>\n      <td>1930-01-12</td>\n    </tr>\n    <tr>\n      <th>5</th>\n      <td>DR-3</td>\n      <td>-47.15</td>\n      <td>-126.72</td>\n      <td>751.0</td>\n      <td>DR-3</td>\n      <td>1930-02-26</td>\n    </tr>\n    <tr>\n      <th>6</th>\n      <td>DR-3</td>\n      <td>-47.15</td>\n      <td>-126.72</td>\n      <td>752.0</td>\n      <td>DR-3</td>\n      <td>NaN</td>\n    </tr>\n    <tr>\n      <th>7</th>\n      <td>MSK-4</td>\n      <td>-48.87</td>\n      <td>-123.40</td>\n      <td>837.0</td>\n      <td>MSK-4</td>\n      <td>1932-01-14</td>\n    </tr>\n    <tr>\n      <th>8</th>\n      <td>DR-100</td>\n      <td>NaN</td>\n      <td>NaN</td>\n      <td>NaN</td>\n      <td>NaN</td>\n      <td>NaN</td>\n    </tr>\n  </tbody>\n</table>\n</div>"
     },
     "execution_count": 35,
     "metadata": {},
     "output_type": "execute_result"
    }
   ],
   "source": [
    "# how 속성을 how='right'로 지정하면 오른쪽 데이터프레임의 모든 데이터와 왼쪽 데이터프레임에 있는 공통적으로 포함된 데이터를 합친다. 한쪽에만 있는 데이터는 NaN이 채워진다.\n",
    "s2v_merge = site.merge(visited, left_on='name', right_on='site', how='outer')\n",
    "s2v_merge"
   ],
   "metadata": {
    "collapsed": false
   }
  },
  {
   "cell_type": "code",
   "execution_count": 38,
   "outputs": [
    {
     "name": "stdout",
     "output_type": "stream",
     "text": [
      "Index(['ident', 'personal', 'family'], dtype='object')\n",
      "Index(['taken', 'person', 'quant', 'reading'], dtype='object')\n"
     ]
    },
    {
     "data": {
      "text/plain": "       ident   personal    family  taken person quant  reading\n0       dyer    William      Dyer  619.0   dyer   rad     9.82\n1       dyer    William      Dyer  619.0   dyer   sal     0.13\n2       dyer    William      Dyer  622.0   dyer   rad     7.80\n3       dyer    William      Dyer  622.0   dyer   sal     0.09\n4         pb      Frank   Pabodie  734.0     pb   rad     8.41\n5         pb      Frank   Pabodie  734.0     pb  temp   -21.50\n6         pb      Frank   Pabodie  735.0     pb   rad     7.22\n7         pb      Frank   Pabodie  751.0     pb   rad     4.35\n8         pb      Frank   Pabodie  751.0     pb  temp   -18.50\n9       lake   Anderson      Lake  734.0   lake   sal     0.05\n10      lake   Anderson      Lake  751.0   lake   sal     0.10\n11      lake   Anderson      Lake  752.0   lake   rad     2.19\n12      lake   Anderson      Lake  752.0   lake   sal     0.09\n13      lake   Anderson      Lake  752.0   lake  temp   -16.00\n14      lake   Anderson      Lake  837.0   lake   rad     1.46\n15      lake   Anderson      Lake  837.0   lake   sal     0.21\n16       roe  Valentina   Roerich  752.0    roe   sal    41.60\n17       roe  Valentina   Roerich  837.0    roe   sal    22.50\n18       roe  Valentina   Roerich  844.0    roe   rad    11.25\n19  danforth      Frank  Danforth    NaN    NaN   NaN      NaN",
      "text/html": "<div>\n<style scoped>\n    .dataframe tbody tr th:only-of-type {\n        vertical-align: middle;\n    }\n\n    .dataframe tbody tr th {\n        vertical-align: top;\n    }\n\n    .dataframe thead th {\n        text-align: right;\n    }\n</style>\n<table border=\"1\" class=\"dataframe\">\n  <thead>\n    <tr style=\"text-align: right;\">\n      <th></th>\n      <th>ident</th>\n      <th>personal</th>\n      <th>family</th>\n      <th>taken</th>\n      <th>person</th>\n      <th>quant</th>\n      <th>reading</th>\n    </tr>\n  </thead>\n  <tbody>\n    <tr>\n      <th>0</th>\n      <td>dyer</td>\n      <td>William</td>\n      <td>Dyer</td>\n      <td>619.0</td>\n      <td>dyer</td>\n      <td>rad</td>\n      <td>9.82</td>\n    </tr>\n    <tr>\n      <th>1</th>\n      <td>dyer</td>\n      <td>William</td>\n      <td>Dyer</td>\n      <td>619.0</td>\n      <td>dyer</td>\n      <td>sal</td>\n      <td>0.13</td>\n    </tr>\n    <tr>\n      <th>2</th>\n      <td>dyer</td>\n      <td>William</td>\n      <td>Dyer</td>\n      <td>622.0</td>\n      <td>dyer</td>\n      <td>rad</td>\n      <td>7.80</td>\n    </tr>\n    <tr>\n      <th>3</th>\n      <td>dyer</td>\n      <td>William</td>\n      <td>Dyer</td>\n      <td>622.0</td>\n      <td>dyer</td>\n      <td>sal</td>\n      <td>0.09</td>\n    </tr>\n    <tr>\n      <th>4</th>\n      <td>pb</td>\n      <td>Frank</td>\n      <td>Pabodie</td>\n      <td>734.0</td>\n      <td>pb</td>\n      <td>rad</td>\n      <td>8.41</td>\n    </tr>\n    <tr>\n      <th>5</th>\n      <td>pb</td>\n      <td>Frank</td>\n      <td>Pabodie</td>\n      <td>734.0</td>\n      <td>pb</td>\n      <td>temp</td>\n      <td>-21.50</td>\n    </tr>\n    <tr>\n      <th>6</th>\n      <td>pb</td>\n      <td>Frank</td>\n      <td>Pabodie</td>\n      <td>735.0</td>\n      <td>pb</td>\n      <td>rad</td>\n      <td>7.22</td>\n    </tr>\n    <tr>\n      <th>7</th>\n      <td>pb</td>\n      <td>Frank</td>\n      <td>Pabodie</td>\n      <td>751.0</td>\n      <td>pb</td>\n      <td>rad</td>\n      <td>4.35</td>\n    </tr>\n    <tr>\n      <th>8</th>\n      <td>pb</td>\n      <td>Frank</td>\n      <td>Pabodie</td>\n      <td>751.0</td>\n      <td>pb</td>\n      <td>temp</td>\n      <td>-18.50</td>\n    </tr>\n    <tr>\n      <th>9</th>\n      <td>lake</td>\n      <td>Anderson</td>\n      <td>Lake</td>\n      <td>734.0</td>\n      <td>lake</td>\n      <td>sal</td>\n      <td>0.05</td>\n    </tr>\n    <tr>\n      <th>10</th>\n      <td>lake</td>\n      <td>Anderson</td>\n      <td>Lake</td>\n      <td>751.0</td>\n      <td>lake</td>\n      <td>sal</td>\n      <td>0.10</td>\n    </tr>\n    <tr>\n      <th>11</th>\n      <td>lake</td>\n      <td>Anderson</td>\n      <td>Lake</td>\n      <td>752.0</td>\n      <td>lake</td>\n      <td>rad</td>\n      <td>2.19</td>\n    </tr>\n    <tr>\n      <th>12</th>\n      <td>lake</td>\n      <td>Anderson</td>\n      <td>Lake</td>\n      <td>752.0</td>\n      <td>lake</td>\n      <td>sal</td>\n      <td>0.09</td>\n    </tr>\n    <tr>\n      <th>13</th>\n      <td>lake</td>\n      <td>Anderson</td>\n      <td>Lake</td>\n      <td>752.0</td>\n      <td>lake</td>\n      <td>temp</td>\n      <td>-16.00</td>\n    </tr>\n    <tr>\n      <th>14</th>\n      <td>lake</td>\n      <td>Anderson</td>\n      <td>Lake</td>\n      <td>837.0</td>\n      <td>lake</td>\n      <td>rad</td>\n      <td>1.46</td>\n    </tr>\n    <tr>\n      <th>15</th>\n      <td>lake</td>\n      <td>Anderson</td>\n      <td>Lake</td>\n      <td>837.0</td>\n      <td>lake</td>\n      <td>sal</td>\n      <td>0.21</td>\n    </tr>\n    <tr>\n      <th>16</th>\n      <td>roe</td>\n      <td>Valentina</td>\n      <td>Roerich</td>\n      <td>752.0</td>\n      <td>roe</td>\n      <td>sal</td>\n      <td>41.60</td>\n    </tr>\n    <tr>\n      <th>17</th>\n      <td>roe</td>\n      <td>Valentina</td>\n      <td>Roerich</td>\n      <td>837.0</td>\n      <td>roe</td>\n      <td>sal</td>\n      <td>22.50</td>\n    </tr>\n    <tr>\n      <th>18</th>\n      <td>roe</td>\n      <td>Valentina</td>\n      <td>Roerich</td>\n      <td>844.0</td>\n      <td>roe</td>\n      <td>rad</td>\n      <td>11.25</td>\n    </tr>\n    <tr>\n      <th>19</th>\n      <td>danforth</td>\n      <td>Frank</td>\n      <td>Danforth</td>\n      <td>NaN</td>\n      <td>NaN</td>\n      <td>NaN</td>\n      <td>NaN</td>\n    </tr>\n  </tbody>\n</table>\n</div>"
     },
     "execution_count": 38,
     "metadata": {},
     "output_type": "execute_result"
    }
   ],
   "source": [
    "print(person.columns)\n",
    "print(survey.columns)\n",
    "p2s_merge = person.merge(survey, left_on='ident', right_on='person', how='left')\n",
    "p2s_merge"
   ],
   "metadata": {
    "collapsed": false
   }
  },
  {
   "cell_type": "code",
   "execution_count": 37,
   "outputs": [
    {
     "name": "stdout",
     "output_type": "stream",
     "text": [
      "Index(['ident', 'site', 'dated'], dtype='object')\n",
      "Index(['taken', 'person', 'quant', 'reading'], dtype='object')\n"
     ]
    },
    {
     "data": {
      "text/plain": "    ident   site       dated  taken person quant  reading\n0     619   DR-1  1927-02-08    619   dyer   rad     9.82\n1     619   DR-1  1927-02-08    619   dyer   sal     0.13\n2     622   DR-1  1927-02-10    622   dyer   rad     7.80\n3     622   DR-1  1927-02-10    622   dyer   sal     0.09\n4     734   DR-3  1939-01-07    734     pb   rad     8.41\n5     734   DR-3  1939-01-07    734   lake   sal     0.05\n6     734   DR-3  1939-01-07    734     pb  temp   -21.50\n7     735   DR-3  1930-01-12    735     pb   rad     7.22\n8     735   DR-3  1930-01-12    735    NaN   sal     0.06\n9     735   DR-3  1930-01-12    735    NaN  temp   -26.00\n10    751   DR-3  1930-02-26    751     pb   rad     4.35\n11    751   DR-3  1930-02-26    751     pb  temp   -18.50\n12    751   DR-3  1930-02-26    751   lake   sal     0.10\n13    752   DR-3         NaN    752   lake   rad     2.19\n14    752   DR-3         NaN    752   lake   sal     0.09\n15    752   DR-3         NaN    752   lake  temp   -16.00\n16    752   DR-3         NaN    752    roe   sal    41.60\n17    837  MSK-4  1932-01-14    837   lake   rad     1.46\n18    837  MSK-4  1932-01-14    837   lake   sal     0.21\n19    837  MSK-4  1932-01-14    837    roe   sal    22.50\n20    844   DR-1  1932-03-22    844    roe   rad    11.25",
      "text/html": "<div>\n<style scoped>\n    .dataframe tbody tr th:only-of-type {\n        vertical-align: middle;\n    }\n\n    .dataframe tbody tr th {\n        vertical-align: top;\n    }\n\n    .dataframe thead th {\n        text-align: right;\n    }\n</style>\n<table border=\"1\" class=\"dataframe\">\n  <thead>\n    <tr style=\"text-align: right;\">\n      <th></th>\n      <th>ident</th>\n      <th>site</th>\n      <th>dated</th>\n      <th>taken</th>\n      <th>person</th>\n      <th>quant</th>\n      <th>reading</th>\n    </tr>\n  </thead>\n  <tbody>\n    <tr>\n      <th>0</th>\n      <td>619</td>\n      <td>DR-1</td>\n      <td>1927-02-08</td>\n      <td>619</td>\n      <td>dyer</td>\n      <td>rad</td>\n      <td>9.82</td>\n    </tr>\n    <tr>\n      <th>1</th>\n      <td>619</td>\n      <td>DR-1</td>\n      <td>1927-02-08</td>\n      <td>619</td>\n      <td>dyer</td>\n      <td>sal</td>\n      <td>0.13</td>\n    </tr>\n    <tr>\n      <th>2</th>\n      <td>622</td>\n      <td>DR-1</td>\n      <td>1927-02-10</td>\n      <td>622</td>\n      <td>dyer</td>\n      <td>rad</td>\n      <td>7.80</td>\n    </tr>\n    <tr>\n      <th>3</th>\n      <td>622</td>\n      <td>DR-1</td>\n      <td>1927-02-10</td>\n      <td>622</td>\n      <td>dyer</td>\n      <td>sal</td>\n      <td>0.09</td>\n    </tr>\n    <tr>\n      <th>4</th>\n      <td>734</td>\n      <td>DR-3</td>\n      <td>1939-01-07</td>\n      <td>734</td>\n      <td>pb</td>\n      <td>rad</td>\n      <td>8.41</td>\n    </tr>\n    <tr>\n      <th>5</th>\n      <td>734</td>\n      <td>DR-3</td>\n      <td>1939-01-07</td>\n      <td>734</td>\n      <td>lake</td>\n      <td>sal</td>\n      <td>0.05</td>\n    </tr>\n    <tr>\n      <th>6</th>\n      <td>734</td>\n      <td>DR-3</td>\n      <td>1939-01-07</td>\n      <td>734</td>\n      <td>pb</td>\n      <td>temp</td>\n      <td>-21.50</td>\n    </tr>\n    <tr>\n      <th>7</th>\n      <td>735</td>\n      <td>DR-3</td>\n      <td>1930-01-12</td>\n      <td>735</td>\n      <td>pb</td>\n      <td>rad</td>\n      <td>7.22</td>\n    </tr>\n    <tr>\n      <th>8</th>\n      <td>735</td>\n      <td>DR-3</td>\n      <td>1930-01-12</td>\n      <td>735</td>\n      <td>NaN</td>\n      <td>sal</td>\n      <td>0.06</td>\n    </tr>\n    <tr>\n      <th>9</th>\n      <td>735</td>\n      <td>DR-3</td>\n      <td>1930-01-12</td>\n      <td>735</td>\n      <td>NaN</td>\n      <td>temp</td>\n      <td>-26.00</td>\n    </tr>\n    <tr>\n      <th>10</th>\n      <td>751</td>\n      <td>DR-3</td>\n      <td>1930-02-26</td>\n      <td>751</td>\n      <td>pb</td>\n      <td>rad</td>\n      <td>4.35</td>\n    </tr>\n    <tr>\n      <th>11</th>\n      <td>751</td>\n      <td>DR-3</td>\n      <td>1930-02-26</td>\n      <td>751</td>\n      <td>pb</td>\n      <td>temp</td>\n      <td>-18.50</td>\n    </tr>\n    <tr>\n      <th>12</th>\n      <td>751</td>\n      <td>DR-3</td>\n      <td>1930-02-26</td>\n      <td>751</td>\n      <td>lake</td>\n      <td>sal</td>\n      <td>0.10</td>\n    </tr>\n    <tr>\n      <th>13</th>\n      <td>752</td>\n      <td>DR-3</td>\n      <td>NaN</td>\n      <td>752</td>\n      <td>lake</td>\n      <td>rad</td>\n      <td>2.19</td>\n    </tr>\n    <tr>\n      <th>14</th>\n      <td>752</td>\n      <td>DR-3</td>\n      <td>NaN</td>\n      <td>752</td>\n      <td>lake</td>\n      <td>sal</td>\n      <td>0.09</td>\n    </tr>\n    <tr>\n      <th>15</th>\n      <td>752</td>\n      <td>DR-3</td>\n      <td>NaN</td>\n      <td>752</td>\n      <td>lake</td>\n      <td>temp</td>\n      <td>-16.00</td>\n    </tr>\n    <tr>\n      <th>16</th>\n      <td>752</td>\n      <td>DR-3</td>\n      <td>NaN</td>\n      <td>752</td>\n      <td>roe</td>\n      <td>sal</td>\n      <td>41.60</td>\n    </tr>\n    <tr>\n      <th>17</th>\n      <td>837</td>\n      <td>MSK-4</td>\n      <td>1932-01-14</td>\n      <td>837</td>\n      <td>lake</td>\n      <td>rad</td>\n      <td>1.46</td>\n    </tr>\n    <tr>\n      <th>18</th>\n      <td>837</td>\n      <td>MSK-4</td>\n      <td>1932-01-14</td>\n      <td>837</td>\n      <td>lake</td>\n      <td>sal</td>\n      <td>0.21</td>\n    </tr>\n    <tr>\n      <th>19</th>\n      <td>837</td>\n      <td>MSK-4</td>\n      <td>1932-01-14</td>\n      <td>837</td>\n      <td>roe</td>\n      <td>sal</td>\n      <td>22.50</td>\n    </tr>\n    <tr>\n      <th>20</th>\n      <td>844</td>\n      <td>DR-1</td>\n      <td>1932-03-22</td>\n      <td>844</td>\n      <td>roe</td>\n      <td>rad</td>\n      <td>11.25</td>\n    </tr>\n  </tbody>\n</table>\n</div>"
     },
     "execution_count": 37,
     "metadata": {},
     "output_type": "execute_result"
    }
   ],
   "source": [
    "print(visited.columns)\n",
    "print(survey.columns)\n",
    "v2s_merge = visited.merge(survey, left_on='ident', right_on='taken', how='inner')\n",
    "v2s_merge"
   ],
   "metadata": {
    "collapsed": false
   }
  },
  {
   "cell_type": "code",
   "execution_count": 42,
   "outputs": [
    {
     "name": "stdout",
     "output_type": "stream",
     "text": [
      "Index(['ident', 'personal', 'family', 'taken', 'person', 'quant', 'reading'], dtype='object')\n",
      "Index(['ident', 'site', 'dated', 'taken', 'person', 'quant', 'reading'], dtype='object')\n"
     ]
    },
    {
     "data": {
      "text/plain": "   ident_x   personal   family  taken_x person_x quant  reading  ident_y  \\\n0     dyer    William     Dyer    619.0     dyer   rad     9.82      619   \n1     dyer    William     Dyer    619.0     dyer   sal     0.13      619   \n2     dyer    William     Dyer    622.0     dyer   rad     7.80      622   \n3     dyer    William     Dyer    622.0     dyer   sal     0.09      622   \n4       pb      Frank  Pabodie    734.0       pb   rad     8.41      734   \n5       pb      Frank  Pabodie    734.0       pb  temp   -21.50      734   \n6       pb      Frank  Pabodie    735.0       pb   rad     7.22      735   \n7       pb      Frank  Pabodie    751.0       pb   rad     4.35      751   \n8       pb      Frank  Pabodie    751.0       pb  temp   -18.50      751   \n9     lake   Anderson     Lake    734.0     lake   sal     0.05      734   \n10    lake   Anderson     Lake    751.0     lake   sal     0.10      751   \n11    lake   Anderson     Lake    752.0     lake   rad     2.19      752   \n12    lake   Anderson     Lake    752.0     lake   sal     0.09      752   \n13    lake   Anderson     Lake    752.0     lake  temp   -16.00      752   \n14    lake   Anderson     Lake    837.0     lake   rad     1.46      837   \n15    lake   Anderson     Lake    837.0     lake   sal     0.21      837   \n16     roe  Valentina  Roerich    752.0      roe   sal    41.60      752   \n17     roe  Valentina  Roerich    837.0      roe   sal    22.50      837   \n18     roe  Valentina  Roerich    844.0      roe   rad    11.25      844   \n\n     site       dated  taken_y person_y  \n0    DR-1  1927-02-08      619     dyer  \n1    DR-1  1927-02-08      619     dyer  \n2    DR-1  1927-02-10      622     dyer  \n3    DR-1  1927-02-10      622     dyer  \n4    DR-3  1939-01-07      734       pb  \n5    DR-3  1939-01-07      734       pb  \n6    DR-3  1930-01-12      735       pb  \n7    DR-3  1930-02-26      751       pb  \n8    DR-3  1930-02-26      751       pb  \n9    DR-3  1939-01-07      734     lake  \n10   DR-3  1930-02-26      751     lake  \n11   DR-3         NaN      752     lake  \n12   DR-3         NaN      752     lake  \n13   DR-3         NaN      752     lake  \n14  MSK-4  1932-01-14      837     lake  \n15  MSK-4  1932-01-14      837     lake  \n16   DR-3         NaN      752      roe  \n17  MSK-4  1932-01-14      837      roe  \n18   DR-1  1932-03-22      844      roe  ",
      "text/html": "<div>\n<style scoped>\n    .dataframe tbody tr th:only-of-type {\n        vertical-align: middle;\n    }\n\n    .dataframe tbody tr th {\n        vertical-align: top;\n    }\n\n    .dataframe thead th {\n        text-align: right;\n    }\n</style>\n<table border=\"1\" class=\"dataframe\">\n  <thead>\n    <tr style=\"text-align: right;\">\n      <th></th>\n      <th>ident_x</th>\n      <th>personal</th>\n      <th>family</th>\n      <th>taken_x</th>\n      <th>person_x</th>\n      <th>quant</th>\n      <th>reading</th>\n      <th>ident_y</th>\n      <th>site</th>\n      <th>dated</th>\n      <th>taken_y</th>\n      <th>person_y</th>\n    </tr>\n  </thead>\n  <tbody>\n    <tr>\n      <th>0</th>\n      <td>dyer</td>\n      <td>William</td>\n      <td>Dyer</td>\n      <td>619.0</td>\n      <td>dyer</td>\n      <td>rad</td>\n      <td>9.82</td>\n      <td>619</td>\n      <td>DR-1</td>\n      <td>1927-02-08</td>\n      <td>619</td>\n      <td>dyer</td>\n    </tr>\n    <tr>\n      <th>1</th>\n      <td>dyer</td>\n      <td>William</td>\n      <td>Dyer</td>\n      <td>619.0</td>\n      <td>dyer</td>\n      <td>sal</td>\n      <td>0.13</td>\n      <td>619</td>\n      <td>DR-1</td>\n      <td>1927-02-08</td>\n      <td>619</td>\n      <td>dyer</td>\n    </tr>\n    <tr>\n      <th>2</th>\n      <td>dyer</td>\n      <td>William</td>\n      <td>Dyer</td>\n      <td>622.0</td>\n      <td>dyer</td>\n      <td>rad</td>\n      <td>7.80</td>\n      <td>622</td>\n      <td>DR-1</td>\n      <td>1927-02-10</td>\n      <td>622</td>\n      <td>dyer</td>\n    </tr>\n    <tr>\n      <th>3</th>\n      <td>dyer</td>\n      <td>William</td>\n      <td>Dyer</td>\n      <td>622.0</td>\n      <td>dyer</td>\n      <td>sal</td>\n      <td>0.09</td>\n      <td>622</td>\n      <td>DR-1</td>\n      <td>1927-02-10</td>\n      <td>622</td>\n      <td>dyer</td>\n    </tr>\n    <tr>\n      <th>4</th>\n      <td>pb</td>\n      <td>Frank</td>\n      <td>Pabodie</td>\n      <td>734.0</td>\n      <td>pb</td>\n      <td>rad</td>\n      <td>8.41</td>\n      <td>734</td>\n      <td>DR-3</td>\n      <td>1939-01-07</td>\n      <td>734</td>\n      <td>pb</td>\n    </tr>\n    <tr>\n      <th>5</th>\n      <td>pb</td>\n      <td>Frank</td>\n      <td>Pabodie</td>\n      <td>734.0</td>\n      <td>pb</td>\n      <td>temp</td>\n      <td>-21.50</td>\n      <td>734</td>\n      <td>DR-3</td>\n      <td>1939-01-07</td>\n      <td>734</td>\n      <td>pb</td>\n    </tr>\n    <tr>\n      <th>6</th>\n      <td>pb</td>\n      <td>Frank</td>\n      <td>Pabodie</td>\n      <td>735.0</td>\n      <td>pb</td>\n      <td>rad</td>\n      <td>7.22</td>\n      <td>735</td>\n      <td>DR-3</td>\n      <td>1930-01-12</td>\n      <td>735</td>\n      <td>pb</td>\n    </tr>\n    <tr>\n      <th>7</th>\n      <td>pb</td>\n      <td>Frank</td>\n      <td>Pabodie</td>\n      <td>751.0</td>\n      <td>pb</td>\n      <td>rad</td>\n      <td>4.35</td>\n      <td>751</td>\n      <td>DR-3</td>\n      <td>1930-02-26</td>\n      <td>751</td>\n      <td>pb</td>\n    </tr>\n    <tr>\n      <th>8</th>\n      <td>pb</td>\n      <td>Frank</td>\n      <td>Pabodie</td>\n      <td>751.0</td>\n      <td>pb</td>\n      <td>temp</td>\n      <td>-18.50</td>\n      <td>751</td>\n      <td>DR-3</td>\n      <td>1930-02-26</td>\n      <td>751</td>\n      <td>pb</td>\n    </tr>\n    <tr>\n      <th>9</th>\n      <td>lake</td>\n      <td>Anderson</td>\n      <td>Lake</td>\n      <td>734.0</td>\n      <td>lake</td>\n      <td>sal</td>\n      <td>0.05</td>\n      <td>734</td>\n      <td>DR-3</td>\n      <td>1939-01-07</td>\n      <td>734</td>\n      <td>lake</td>\n    </tr>\n    <tr>\n      <th>10</th>\n      <td>lake</td>\n      <td>Anderson</td>\n      <td>Lake</td>\n      <td>751.0</td>\n      <td>lake</td>\n      <td>sal</td>\n      <td>0.10</td>\n      <td>751</td>\n      <td>DR-3</td>\n      <td>1930-02-26</td>\n      <td>751</td>\n      <td>lake</td>\n    </tr>\n    <tr>\n      <th>11</th>\n      <td>lake</td>\n      <td>Anderson</td>\n      <td>Lake</td>\n      <td>752.0</td>\n      <td>lake</td>\n      <td>rad</td>\n      <td>2.19</td>\n      <td>752</td>\n      <td>DR-3</td>\n      <td>NaN</td>\n      <td>752</td>\n      <td>lake</td>\n    </tr>\n    <tr>\n      <th>12</th>\n      <td>lake</td>\n      <td>Anderson</td>\n      <td>Lake</td>\n      <td>752.0</td>\n      <td>lake</td>\n      <td>sal</td>\n      <td>0.09</td>\n      <td>752</td>\n      <td>DR-3</td>\n      <td>NaN</td>\n      <td>752</td>\n      <td>lake</td>\n    </tr>\n    <tr>\n      <th>13</th>\n      <td>lake</td>\n      <td>Anderson</td>\n      <td>Lake</td>\n      <td>752.0</td>\n      <td>lake</td>\n      <td>temp</td>\n      <td>-16.00</td>\n      <td>752</td>\n      <td>DR-3</td>\n      <td>NaN</td>\n      <td>752</td>\n      <td>lake</td>\n    </tr>\n    <tr>\n      <th>14</th>\n      <td>lake</td>\n      <td>Anderson</td>\n      <td>Lake</td>\n      <td>837.0</td>\n      <td>lake</td>\n      <td>rad</td>\n      <td>1.46</td>\n      <td>837</td>\n      <td>MSK-4</td>\n      <td>1932-01-14</td>\n      <td>837</td>\n      <td>lake</td>\n    </tr>\n    <tr>\n      <th>15</th>\n      <td>lake</td>\n      <td>Anderson</td>\n      <td>Lake</td>\n      <td>837.0</td>\n      <td>lake</td>\n      <td>sal</td>\n      <td>0.21</td>\n      <td>837</td>\n      <td>MSK-4</td>\n      <td>1932-01-14</td>\n      <td>837</td>\n      <td>lake</td>\n    </tr>\n    <tr>\n      <th>16</th>\n      <td>roe</td>\n      <td>Valentina</td>\n      <td>Roerich</td>\n      <td>752.0</td>\n      <td>roe</td>\n      <td>sal</td>\n      <td>41.60</td>\n      <td>752</td>\n      <td>DR-3</td>\n      <td>NaN</td>\n      <td>752</td>\n      <td>roe</td>\n    </tr>\n    <tr>\n      <th>17</th>\n      <td>roe</td>\n      <td>Valentina</td>\n      <td>Roerich</td>\n      <td>837.0</td>\n      <td>roe</td>\n      <td>sal</td>\n      <td>22.50</td>\n      <td>837</td>\n      <td>MSK-4</td>\n      <td>1932-01-14</td>\n      <td>837</td>\n      <td>roe</td>\n    </tr>\n    <tr>\n      <th>18</th>\n      <td>roe</td>\n      <td>Valentina</td>\n      <td>Roerich</td>\n      <td>844.0</td>\n      <td>roe</td>\n      <td>rad</td>\n      <td>11.25</td>\n      <td>844</td>\n      <td>DR-1</td>\n      <td>1932-03-22</td>\n      <td>844</td>\n      <td>roe</td>\n    </tr>\n  </tbody>\n</table>\n</div>"
     },
     "execution_count": 42,
     "metadata": {},
     "output_type": "execute_result"
    }
   ],
   "source": [
    "print(p2s_merge.columns)\n",
    "print(v2s_merge.columns)\n",
    "# left_on, right_on 속성에 전달하는 열 데이터는 여러 개도 가능하다. → 2개 이상의 열 이름을 리스트에 담아서 전달한다.\n",
    "p2s_v2s_merge = p2s_merge.merge(v2s_merge, left_on=['ident', 'taken', 'quant', 'reading'], right_on=['person', 'ident', 'quant', 'reading'])\n",
    "# merg2() 함수를 실행하는 두 데이터프레임에 공통된 열 이름이 있으면 _x, _y 접미사가 추가된다.\n",
    "# _x는 왼쪽 데이터프레임, _y는 오른쪽 데이터프레임을 의미한다.\n",
    "p2s_v2s_merge"
   ],
   "metadata": {
    "collapsed": false
   }
  },
  {
   "cell_type": "code",
   "execution_count": null,
   "outputs": [],
   "source": [],
   "metadata": {
    "collapsed": false
   }
  }
 ],
 "metadata": {
  "kernelspec": {
   "display_name": "Python 3",
   "language": "python",
   "name": "python3"
  },
  "language_info": {
   "codemirror_mode": {
    "name": "ipython",
    "version": 2
   },
   "file_extension": ".py",
   "mimetype": "text/x-python",
   "name": "python",
   "nbconvert_exporter": "python",
   "pygments_lexer": "ipython2",
   "version": "2.7.6"
  }
 },
 "nbformat": 4,
 "nbformat_minor": 0
}
