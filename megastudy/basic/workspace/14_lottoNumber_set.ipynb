{
 "cells": [
  {
   "cell_type": "code",
   "execution_count": null,
   "outputs": [],
   "source": [
    "import random"
   ],
   "metadata": {
    "collapsed": false
   }
  },
  {
   "cell_type": "code",
   "execution_count": 14,
   "metadata": {
    "collapsed": true
   },
   "outputs": [
    {
     "name": "stdout",
     "output_type": "stream",
     "text": [
      "1등 번호: {37, 7, 40, 23, 29, 30}\n",
      "보너스 번호: 3\n"
     ]
    }
   ],
   "source": [
    "lotto = set()\n",
    "# print(lotto)\n",
    "\n",
    "while True:\n",
    "    pick = random.randint(1, 45)\n",
    "    # print(pick)\n",
    "    lotto.add(pick)\n",
    "    if len(lotto) == 6:\n",
    "        break\n",
    "# lotto = list(lotto)\n",
    "# lotto.sort()\n",
    "print('1등 번호: {}'.format(lotto))\n",
    "\n",
    "while True:\n",
    "    bonus = random.randrange(1, 46)\n",
    "    # print(bonus)\n",
    "    if bonus not in lotto:\n",
    "        break\n",
    "print('보너스 번호: {}'.format(bonus))"
   ]
  }
 ],
 "metadata": {
  "kernelspec": {
   "display_name": "Python 3",
   "language": "python",
   "name": "python3"
  },
  "language_info": {
   "codemirror_mode": {
    "name": "ipython",
    "version": 2
   },
   "file_extension": ".py",
   "mimetype": "text/x-python",
   "name": "python",
   "nbconvert_exporter": "python",
   "pygments_lexer": "ipython2",
   "version": "2.7.6"
  }
 },
 "nbformat": 4,
 "nbformat_minor": 0
}
