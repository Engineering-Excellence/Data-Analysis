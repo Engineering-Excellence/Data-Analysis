{
 "cells": [
  {
   "cell_type": "markdown",
   "source": [
    "# Bubble Sort(교환법)\n",
    "선택 정렬: 특정 위치(i)의 데이터를 선택해서 나머지(j) 데이터와 비교하며 정렬한다.\n",
    "버블 정렬: 인접한 데이터(j, j + 1)를 비교하며 정렬한다.\n",
    "정렬할 데이터가 n개일 경우 회전수는 (n - 1)번이 된다.\n",
    "<br/>\n",
    "<img src=\"./images/bubbleSort.png\"><br/>\n",
    "<img src=\"./images/bubbleSort2.png\"><br/>\n",
    "<img src=\"./images/bubbleSort3.png\"><br/>\n",
    "<img src=\"./images/bubbleSort4.png\" width=\"700\"><br/>"
   ],
   "metadata": {
    "collapsed": false
   }
  },
  {
   "cell_type": "code",
   "execution_count": 1,
   "outputs": [
    {
     "name": "stdout",
     "output_type": "stream",
     "text": [
      "[i = 0, j = 0] [i = 0, j = 1] [i = 0, j = 2] [i = 0, j = 3] \n",
      "[i = 1, j = 0] [i = 1, j = 1] [i = 1, j = 2] \n",
      "[i = 2, j = 0] [i = 2, j = 1] \n",
      "[i = 3, j = 0] \n"
     ]
    }
   ],
   "source": [
    "n = 5\n",
    "for i in range(n - 1):  # 회전수\n",
    "    for j in range(n - 1 - i):  # 데이터를 비교하기 위해서 선택하는 위치\n",
    "        print(f'[i = {i}, j = {j}]', end=' ')\n",
    "    print()"
   ],
   "metadata": {
    "collapsed": false
   }
  },
  {
   "cell_type": "code",
   "execution_count": 6,
   "outputs": [
    {
     "name": "stdout",
     "output_type": "stream",
     "text": [
      "1회전 결과: [1, 3, 4, 8, 9]\n",
      "2회전 결과: [1, 3, 4, 8, 9]\n",
      "3회전 결과: [1, 3, 4, 8, 9]\n",
      "4회전 결과: [1, 3, 4, 8, 9]\n",
      "5회전 결과: [1, 3, 4, 8, 9]\n"
     ]
    }
   ],
   "source": [
    "# data = [8, 3, 4, 9, 1]\n",
    "data = [9, 1, 3, 4, 8]  # 조기 종료\n",
    "for i in range(len(data)):\n",
    "    for j in range(len(data) - 1):\n",
    "        # 오름차순 정렬 => 앞(j)의 데이터가 뒤(j + 1)의 데이터보다 크면 두 기억장소의 데이터를 교환한다.\n",
    "        # 부등호 방향을 변경하면 내림차순으로 정렬된다.\n",
    "        if data[j] > data[j + 1]:\n",
    "            data[j], data[j + 1] = data[j + 1], data[j]\n",
    "        # ===== if\n",
    "    # ===== for j → 회전 종료\n",
    "    print(f'{i + 1}회전 결과: {data}')\n",
    "# ===== for i → 정렬 종료\n",
    "# print(f'정렬 결과: {data}')"
   ],
   "metadata": {
    "collapsed": false
   }
  },
  {
   "cell_type": "code",
   "execution_count": null,
   "outputs": [],
   "source": [],
   "metadata": {
    "collapsed": false
   }
  }
 ],
 "metadata": {
  "kernelspec": {
   "display_name": "Python 3",
   "language": "python",
   "name": "python3"
  },
  "language_info": {
   "codemirror_mode": {
    "name": "ipython",
    "version": 2
   },
   "file_extension": ".py",
   "mimetype": "text/x-python",
   "name": "python",
   "nbconvert_exporter": "python",
   "pygments_lexer": "ipython2",
   "version": "2.7.6"
  }
 },
 "nbformat": 4,
 "nbformat_minor": 0
}
