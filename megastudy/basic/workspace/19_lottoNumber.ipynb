{
 "cells": [
  {
   "cell_type": "code",
   "execution_count": 2,
   "metadata": {
    "collapsed": true
   },
   "outputs": [],
   "source": [
    "import random"
   ]
  },
  {
   "cell_type": "code",
   "execution_count": 3,
   "outputs": [
    {
     "name": "stdout",
     "output_type": "stream",
     "text": [
      "  1 game: 27 39 37 23 19 09 \n",
      "  2 game: 38 41 40 17 45 43 \n",
      "  3 game: 01 37 06 10 40 18 \n",
      "  4 game: 15 10 36 28 41 25 \n",
      "  5 game: 34 27 26 06 37 02 \n",
      "  6 game: 31 20 17 32 36 24 \n",
      "  7 game: 30 04 07 26 43 33 \n",
      "  8 game: 04 18 24 10 08 33 \n",
      "  9 game: 38 11 20 33 42 19 \n",
      " 10 game: 44 08 03 43 37 45 \n",
      "CPU times: user 8.9 ms, sys: 6.86 ms, total: 15.8 ms\n",
      "Wall time: 1.7 s\n"
     ]
    }
   ],
   "source": [
    "%%time\n",
    "\n",
    "# 로또 복권 구매 금액을 입력받아 입력 받은 금액 만큼 로또 번호를 출력하는 프로그램\n",
    "lotto = [i for i in range(1, 46)]\n",
    "\n",
    "#로또 복권 구매 금액을 입력받는다.\n",
    "money = int(input('로또 구매 금액을 입력하세요: '))\n",
    "\n",
    "# 복권 구맥 금액 만큼 반복하며 로또 번호를 출력한다.\n",
    "for i in range(money // 1000):\n",
    "    random.shuffle(lotto)\n",
    "    print('{:3d} game:'.format(i + 1), end=' ')\n",
    "    # 자동으로 생성된 로또 번호를 오름차순으로 정렬한다.\n",
    "    result = lotto[:6]\n",
    "    result.sort()\n",
    "    for j in range(6):\n",
    "        print('{:02d}'.format(lotto[j]), end=' ')\n",
    "    print()"
   ],
   "metadata": {
    "collapsed": false
   }
  },
  {
   "cell_type": "code",
   "execution_count": 3,
   "outputs": [
    {
     "name": "stdout",
     "output_type": "stream",
     "text": [
      "  1 game: 18 21 34 32 09 17 \n",
      "  2 game: 18 21 34 32 09 17 \n",
      "  3 game: 18 21 34 32 09 17 \n",
      "  4 game: 18 21 34 32 09 17 \n",
      "  5 game: 18 21 34 32 09 17 \n",
      "==============================\n",
      "CPU times: user 9.68 ms, sys: 6.61 ms, total: 16.3 ms\n",
      "Wall time: 1.27 s\n"
     ]
    }
   ],
   "source": [
    "%%time\n",
    "\n",
    "money = int(input('로또 구매 금액을 입력하세요: '))\n",
    "\n",
    "for i in range(int(money // 1000)):\n",
    "    print('{:3d} game:'.format(i + 1), end=' ')\n",
    "    result = random.sample(lotto, 6)\n",
    "    result.sort()\n",
    "    for j in range(6):\n",
    "        print('{:02d}'.format(lotto[j]), end=' ')\n",
    "    print()\n",
    "    if (i + 1) % 5 == 0:\n",
    "        print('=' * 30)"
   ],
   "metadata": {
    "collapsed": false
   }
  },
  {
   "cell_type": "code",
   "execution_count": null,
   "outputs": [],
   "source": [],
   "metadata": {
    "collapsed": false
   }
  }
 ],
 "metadata": {
  "kernelspec": {
   "display_name": "Python 3",
   "language": "python",
   "name": "python3"
  },
  "language_info": {
   "codemirror_mode": {
    "name": "ipython",
    "version": 2
   },
   "file_extension": ".py",
   "mimetype": "text/x-python",
   "name": "python",
   "nbconvert_exporter": "python",
   "pygments_lexer": "ipython2",
   "version": "2.7.6"
  }
 },
 "nbformat": 4,
 "nbformat_minor": 0
}
