{
 "cells": [
  {
   "cell_type": "markdown",
   "source": [
    "모든 프로그래밍 언어는 함수 또는 메서드의 실행 결과를 return 뒤에 딱 1개만 붙여서 return 시킬 수 있다. → 파이썬도 해당"
   ],
   "metadata": {
    "collapsed": false
   }
  },
  {
   "cell_type": "code",
   "execution_count": 17,
   "outputs": [],
   "source": [
    "def swap(a, b):\n",
    "    temp = a\n",
    "    a = b\n",
    "    b = temp\n",
    "    # 데이터를 ','로 구분해서 나열하면 ()로 묶지 않아도 튜플이 만들어진다.\n",
    "    # return을 () 없는 튜플로 리턴시키면 return 값이 2개 이상인 것 같은 효과를 낸다.\n",
    "    return a, b # (a, b) 형태의 튜플 1개를 리턴시킨다. → 마치 return 값이 2개인 것처럼 보이지만 실제로는 튜플 1개"
   ],
   "metadata": {
    "collapsed": false
   }
  },
  {
   "cell_type": "code",
   "execution_count": 18,
   "outputs": [
    {
     "name": "stdout",
     "output_type": "stream",
     "text": [
      "a = 3, b = 4\n",
      "a = 4, b = 3\n",
      "<class 'tuple'>\n",
      "a = 3, b = 4\n"
     ]
    }
   ],
   "source": [
    "a = 3; b = 4\n",
    "print(f'a = {a}, b = {b}')\n",
    "a , b = b, a\n",
    "print(f'a = {a}, b = {b}')\n",
    "a, b = swap(a, b)\n",
    "print(type(swap(a, b)))\n",
    "print(f'a = {a}, b = {b}')"
   ],
   "metadata": {
    "collapsed": false
   }
  },
  {
   "cell_type": "code",
   "execution_count": 18,
   "outputs": [],
   "source": [],
   "metadata": {
    "collapsed": false
   }
  }
 ],
 "metadata": {
  "kernelspec": {
   "display_name": "Python 3",
   "language": "python",
   "name": "python3"
  },
  "language_info": {
   "codemirror_mode": {
    "name": "ipython",
    "version": 2
   },
   "file_extension": ".py",
   "mimetype": "text/x-python",
   "name": "python",
   "nbconvert_exporter": "python",
   "pygments_lexer": "ipython2",
   "version": "2.7.6"
  }
 },
 "nbformat": 4,
 "nbformat_minor": 0
}
