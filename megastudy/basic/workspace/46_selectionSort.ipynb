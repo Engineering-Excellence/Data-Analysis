{
 "cells": [
  {
   "cell_type": "markdown",
   "source": [
    "# Selection Sort(선택 정렬, 교환법) 알고리즘\n",
    "선택 정렬은 i번째 데이터를 선택해서 나머지 데이터(j번째)와 비교하며 정렬한다.\n",
    "정렬할 데이터가 n개일 경우 회전수는 (n - 1)번이 된다. → 데이터가 5개면 회전수는 4번이다.\n",
    "<br/>\n",
    "<img src=\"./images/selectionSort1.png\"/>\n",
    "<br/>\n",
    "<img src=\"./images/selectionSort2.png\"/>\n",
    "<br/>\n",
    "<img src=\"./images/selectionSort3.png\"/>"
   ],
   "metadata": {
    "collapsed": false
   }
  },
  {
   "cell_type": "code",
   "execution_count": 7,
   "outputs": [],
   "source": [
    "'''\n",
    "n = 5\n",
    "for i in range(n - 1):\n",
    "    for j in range(i + 1, n):\n",
    "        print('[i = {}, j = {}]'.format(i, j), end='')\n",
    "    print()\n",
    "'''\n",
    "pass"
   ],
   "metadata": {
    "collapsed": false
   }
  },
  {
   "cell_type": "code",
   "execution_count": 8,
   "outputs": [],
   "source": [
    "data = [8, 3, 4, 9, 1]"
   ],
   "metadata": {
    "collapsed": false
   }
  },
  {
   "cell_type": "code",
   "execution_count": 9,
   "outputs": [],
   "source": [
    "def selection_sort_asc(data):\n",
    "    for i in range(len(data) - 1):\n",
    "        for j in range(i + 1, len(data)):\n",
    "            if data[i] > data[j]:\n",
    "                data[i], data[j] = data[j], data[i]\n",
    "            # ===== if\n",
    "        # ===== for j: 회전 종료\n",
    "        # print('{}회전 결과: {}'.format(i + 1, data))\n",
    "    # ===== for i: 정렬 종료\n",
    "    # print(f'정렬 결과: {data}')\n",
    "    return data"
   ],
   "metadata": {
    "collapsed": false
   }
  },
  {
   "cell_type": "code",
   "execution_count": 10,
   "outputs": [],
   "source": [
    "def selection_sort_desc(data):\n",
    "    for i in range(len(data) - 1):\n",
    "        for j in range(i + 1, len(data)):\n",
    "            if data[i] < data[j]:\n",
    "                data[i], data[j] = data[j], data[i]\n",
    "            # ===== if\n",
    "        # ===== for j: 회전 종료\n",
    "        # print('{}회전 결과: {}'.format(i + 1, data))\n",
    "    # ===== for i: 정렬 종료\n",
    "    # print(f'정렬 결과: {data}')\n",
    "    return data"
   ],
   "metadata": {
    "collapsed": false
   }
  },
  {
   "cell_type": "code",
   "execution_count": 11,
   "outputs": [
    {
     "name": "stdout",
     "output_type": "stream",
     "text": [
      "정렬 결과: [1, 3, 4, 8, 9]\n",
      "정렬 결과: [9, 8, 4, 3, 1]\n"
     ]
    }
   ],
   "source": [
    "if __name__ == '__main__':\n",
    "    data = [8, 3, 4, 9, 1]\n",
    "    result = selection_sort_asc(data)\n",
    "    print(f'정렬 결과: {data}')\n",
    "    result = selection_sort_desc(data)\n",
    "    print(f'정렬 결과: {data}')"
   ],
   "metadata": {
    "collapsed": false
   }
  }
 ],
 "metadata": {
  "kernelspec": {
   "display_name": "Python 3",
   "language": "python",
   "name": "python3"
  },
  "language_info": {
   "codemirror_mode": {
    "name": "ipython",
    "version": 2
   },
   "file_extension": ".py",
   "mimetype": "text/x-python",
   "name": "python",
   "nbconvert_exporter": "python",
   "pygments_lexer": "ipython2",
   "version": "2.7.6"
  }
 },
 "nbformat": 4,
 "nbformat_minor": 0
}
