{
 "cells": [
  {
   "cell_type": "code",
   "execution_count": 13,
   "outputs": [
    {
     "name": "stdout",
     "output_type": "stream",
     "text": [
      "data5.txt 파일에서 읽기 완료\n",
      "['Hello, world!', 'Hello, PyCharm!', 'Hello, Python!', 'Hello, JupyterNotebook!', '안녕', '하이', '헬로', '봉쥬르', '곤니찌와', '니하오']\n"
     ]
    }
   ],
   "source": [
    "try:\n",
    "    file = open('./data/data5.txt', 'r')\n",
    "    lines = []\n",
    "    # 텍스트 파일에 저장된 데이터가 몇 줄인지 알 수 없으므로 무한 루프를 돌려서 읽는다.\n",
    "    while True:\n",
    "        # readline() 메서드로 텍스트 파일의 데이터를 1줄씩 읽어들일 수 있다.\n",
    "        line = file.readline()\n",
    "        # readline() 메서드로 텍스트 파일에서 읽어들인 데이터가 없으면 무한 루프를 탈출한다.\n",
    "        if not line:    # 텍스트 파일에서 읽어들인 데이터가 없으면\n",
    "            break\n",
    "        # print(line, end='')\n",
    "        # print(line.strip())\n",
    "        # readline() 메서드로 데이터를 읽어들인 후 strip() 메서드로 문자열 앞뒤의 불필요한 공백을 제거하는 것이 좋다.\n",
    "        line = line.strip()\n",
    "        # 읽어들인 데이터가 모두 공백이면 저장할 필요가 없다.\n",
    "        if len(line) != 0:\n",
    "            lines.append(line)\n",
    "    file.close()\n",
    "    print('data5.txt 파일에서 읽기 완료')\n",
    "    print(lines)\n",
    "except FileNotFoundError:\n",
    "    print('디스크에 파일이 존재하지 않습니다.')"
   ],
   "metadata": {
    "collapsed": false
   }
  },
  {
   "cell_type": "code",
   "execution_count": 15,
   "outputs": [
    {
     "name": "stdout",
     "output_type": "stream",
     "text": [
      "data5.txt 파일에서 읽기 완료\n",
      "<class 'list'>\n",
      "['Hello, world!\\n', 'Hello, PyCharm!\\n', 'Hello, Python!\\n', 'Hello, JupyterNotebook!\\n', '안녕\\n', '하이\\n', '헬로\\n', '봉쥬르\\n', '곤니찌와\\n', '니하오\\n']\n"
     ]
    }
   ],
   "source": [
    "try:\n",
    "    file = open('./data/data5.txt', 'r')\n",
    "    # readlines() 메서드는 텍스트 파일의 전체 데이터를 한꺼번에 읽어서 리스트로 얻어온다.\n",
    "    lines = file.readlines()\n",
    "    file.close()\n",
    "    print('data5.txt 파일에서 읽기 완료')\n",
    "    print(type(lines))\n",
    "    print(lines)\n",
    "except FileNotFoundError:\n",
    "    print('디스크에 파일이 존재하지 않습니다.')"
   ],
   "metadata": {
    "collapsed": false
   }
  },
  {
   "cell_type": "code",
   "execution_count": null,
   "outputs": [],
   "source": [],
   "metadata": {
    "collapsed": false
   }
  }
 ],
 "metadata": {
  "kernelspec": {
   "display_name": "Python 3",
   "language": "python",
   "name": "python3"
  },
  "language_info": {
   "codemirror_mode": {
    "name": "ipython",
    "version": 2
   },
   "file_extension": ".py",
   "mimetype": "text/x-python",
   "name": "python",
   "nbconvert_exporter": "python",
   "pygments_lexer": "ipython2",
   "version": "2.7.6"
  }
 },
 "nbformat": 4,
 "nbformat_minor": 0
}
