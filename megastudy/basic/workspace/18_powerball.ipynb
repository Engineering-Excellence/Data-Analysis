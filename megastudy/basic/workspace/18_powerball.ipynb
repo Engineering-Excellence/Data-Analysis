{
 "cells": [
  {
   "cell_type": "code",
   "execution_count": 1,
   "metadata": {
    "collapsed": true
   },
   "outputs": [],
   "source": [
    "import random\n",
    "import time"
   ]
  },
  {
   "cell_type": "code",
   "execution_count": 31,
   "outputs": [
    {
     "name": "stdout",
     "output_type": "stream",
     "text": [
      "white 번호: 54  9 68 51 15 \n",
      "red 번호: 25\n",
      "==============================\n",
      "CPU times: user 80 µs, sys: 6 µs, total: 86 µs\n",
      "Wall time: 82.3 µs\n"
     ]
    }
   ],
   "source": [
    "%%time\n",
    "\n",
    "powerball = [i for i in range(1, 70)]\n",
    "random.shuffle(powerball)\n",
    "print('white 번호:', end=' ')\n",
    "for i in range(5):\n",
    "    print('{:2d}'.format(powerball[i]), end=' ')\n",
    "print('\\nred 번호: {:2d}'.format(random.randint(1, 27)))\n",
    "print('=' * 30)"
   ],
   "metadata": {
    "collapsed": false
   }
  },
  {
   "cell_type": "code",
   "execution_count": 32,
   "outputs": [
    {
     "name": "stdout",
     "output_type": "stream",
     "text": [
      " 1  2  3  4  5  6  7  8  9 10 \n",
      "11 12 13 14 15 16 17 18 19 20 \n",
      "21 22 23 24 25 26 27 28 29 30 \n",
      "31 32 33 34 35 36 37 38 39 40 \n",
      "41 42 43 44 45 46 47 48 49 50 \n",
      "51 52 53 54 55 56 57 58 59 60 \n",
      "61 62 63 64 65 66 67 68 69 \n",
      "==============================\n",
      " 1  2  3  4  5  6  7  8  9 10 \n",
      "11 12 13 14 15 16 17 18 19 20 \n",
      "21 22 23 24 25 26 \n",
      "============================== 섞기 전\n",
      "59 47 34 41 51 35 68 69  6 60 \n",
      "66  4  3  7 55 64 22 19  2 39 \n",
      "32 15  9 24 18 63 40 50 12 58 \n",
      "27 30 10  1 43  5 48 20 67 17 \n",
      "65 52 38 49 26 36  8 11 13 61 \n",
      "56 29 45 25 14 57 28 21 62 54 \n",
      "53 46 23 44 42 31 33 16 37 \n",
      "==============================\n",
      "18  6 12 13 19  4 26 17 15 21 \n",
      "23  5 16  8 25 10  3 24 14 11 \n",
      " 9  7 22  2 20  1 \n",
      "============================== 섞은 후\n",
      "white 번호: 59 47 34 41 51 \n",
      "red 번호: 18\n",
      "==============================\n",
      "CPU times: user 6.88 ms, sys: 2.96 ms, total: 9.84 ms\n",
      "Wall time: 5.02 s\n"
     ]
    }
   ],
   "source": [
    "%%time\n",
    "\n",
    "# powerball: white 1~69, red 1~26\n",
    "white = [i for i in range(1, 70)]\n",
    "red = [i for i in range(1, 27)]\n",
    "\n",
    "# 섞기 전 상태를 출력한다. → 1줄에 숫자 10개씩 출력한다.\n",
    "for i in range(len(white)):\n",
    "    print('{:2d}'.format(white[i]), end=' ')\n",
    "    if (i + 1) % 10 == 0:\n",
    "        print()\n",
    "print('\\n' + '=' * 30)\n",
    "for i in range(len(red)):\n",
    "    print('{:2d}'.format(red[i]), end=' ')\n",
    "    if (i + 1) % 10 == 0:\n",
    "        print()\n",
    "print('\\n' + '=' * 30 + ' 섞기 전')\n",
    "\n",
    "# 섞는다.\n",
    "random.shuffle(white)\n",
    "random.shuffle(red)\n",
    "\n",
    "# 섞은 후 상태를 출력한다.\n",
    "for i in range(len(white)):\n",
    "    print('{:2d}'.format(white[i]), end=' ')\n",
    "    if (i + 1) % 10 == 0:\n",
    "        print()\n",
    "print('\\n' + '=' * 30)\n",
    "for i in range(len(red)):\n",
    "    print('{:2d}'.format(red[i]), end=' ')\n",
    "    if (i + 1) % 10 == 0:\n",
    "        print()\n",
    "print('\\n' + '=' * 30 + ' 섞은 후')\n",
    "\n",
    "# white 번호와 red 번호를 출력한다.\n",
    "print('white 번호:', end=' ')\n",
    "for i in range(5):\n",
    "    print(white[i], end=' ')\n",
    "    time.sleep(1)   # 시간은 초 단위로 지정한다.\n",
    "print('\\nred 번호: {:2d}'.format(red[0]))\n",
    "print('=' * 30)"
   ],
   "metadata": {
    "collapsed": false
   }
  }
 ],
 "metadata": {
  "kernelspec": {
   "display_name": "Python 3",
   "language": "python",
   "name": "python3"
  },
  "language_info": {
   "codemirror_mode": {
    "name": "ipython",
    "version": 2
   },
   "file_extension": ".py",
   "mimetype": "text/x-python",
   "name": "python",
   "nbconvert_exporter": "python",
   "pygments_lexer": "ipython2",
   "version": "2.7.6"
  }
 },
 "nbformat": 4,
 "nbformat_minor": 0
}
