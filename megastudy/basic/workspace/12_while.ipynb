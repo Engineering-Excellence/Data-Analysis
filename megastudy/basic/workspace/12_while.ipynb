{
 "cells": [
  {
   "cell_type": "markdown",
   "source": [
    "# while\n",
    "while은 조건이 참인 동안 반복하고 조건이 거짓이 되는 순간 반복을 종료한다.\n",
    "while의 최초 진입 조건이 거짓이면 while 블럭을 한 번도 실행하지 않는다.\n",
    "for는 반복 횟수를 알고 있는 경우 사용하고 while은 반복 횟수를 모를 때 사용한다.\n",
    "***\n",
    "while 조건식:\n",
    "&nbsp;&nbsp;&nbsp;&nbsp;조건식이 참일 경우 실행할 문장\n",
    "&nbsp;&nbsp;&nbsp;&nbsp;..."
   ],
   "metadata": {
    "collapsed": false
   }
  },
  {
   "cell_type": "code",
   "execution_count": 2,
   "outputs": [
    {
     "name": "stdout",
     "output_type": "stream",
     "text": [
      "55\n"
     ]
    }
   ],
   "source": [
    "# 1~10의 합계\n",
    "# 변수는 선언시 반드시 초기화해야 한다.\n",
    "i = 0   # 1~10까지 1씩 증가시키는 변수\n",
    "total = 0   # 1~10까지의 합계를 기억하는 변수\n",
    "while i < 10:\n",
    "    i += 1\n",
    "    total += i\n",
    "# ===== while\n",
    "print(total)"
   ],
   "metadata": {
    "collapsed": false
   }
  },
  {
   "cell_type": "code",
   "execution_count": 4,
   "outputs": [
    {
     "name": "stdout",
     "output_type": "stream",
     "text": [
      "55\n"
     ]
    }
   ],
   "source": [
    "i = 0\n",
    "total = 0\n",
    "# 의도적으로 무한 루프를 발생시키려면 조건을 항상 참이 되도록 하면 된다.\n",
    "# 의도적으로 발생시킨 무한 루프는 반드시 break를 이용해서 무한 루프를 탈출시키는 처리를 해야 한다.\n",
    "while True: # 의도한 무한 루프\n",
    "    i += 1\n",
    "    total += i\n",
    "    if i == 10:\n",
    "        break\n",
    "    # ===== if\n",
    "# ===== while\n",
    "print(total)"
   ],
   "metadata": {
    "collapsed": false
   }
  },
  {
   "cell_type": "code",
   "execution_count": 6,
   "outputs": [
    {
     "name": "stdout",
     "output_type": "stream",
     "text": [
      "1\n",
      "3\n",
      "5\n",
      "7\n",
      "9\n"
     ]
    }
   ],
   "source": [
    "# break 명령은 반복 범위에 남아있는 문장들을 실행하지 않고 반복을 탈출하고,\n",
    "# continue 명령은 반복 범위에 남아있는 문장들을 실행하지 않고 다음 반복을 실행\n",
    "i = 0\n",
    "while i < 10:\n",
    "    i += 1\n",
    "    if i % 2 == 0:\n",
    "        continue\n",
    "    # ===== if\n",
    "    print(i)\n",
    "#===== while"
   ],
   "metadata": {
    "collapsed": false
   }
  },
  {
   "cell_type": "code",
   "execution_count": 9,
   "outputs": [
    {
     "name": "stdout",
     "output_type": "stream",
     "text": [
      "========================================\n",
      " 1.입력  2.보기  3.수정  4.삭제  5.종료\n",
      "========================================\n",
      "메뉴는 1~5 사이의 숫자만 입력해야 합니다.\n",
      "========================================\n",
      " 1.입력  2.보기  3.수정  4.삭제  5.종료\n",
      "========================================\n",
      "메뉴는 1~5 사이의 숫자만 입력해야 합니다.\n",
      "========================================\n",
      " 1.입력  2.보기  3.수정  4.삭제  5.종료\n",
      "========================================\n",
      "입력 작업\n",
      "========================================\n",
      " 1.입력  2.보기  3.수정  4.삭제  5.종료\n",
      "========================================\n",
      "보기 작업\n",
      "========================================\n",
      " 1.입력  2.보기  3.수정  4.삭제  5.종료\n",
      "========================================\n",
      "수정 작업\n",
      "========================================\n",
      " 1.입력  2.보기  3.수정  4.삭제  5.종료\n",
      "========================================\n",
      "삭제 작업\n",
      "========================================\n",
      " 1.입력  2.보기  3.수정  4.삭제  5.종료\n",
      "========================================\n",
      "프로그램을 종료합니다.\n"
     ]
    }
   ],
   "source": [
    "menu = 0\n",
    "while menu != 5:\n",
    "    while True:\n",
    "        print('=' * 40)\n",
    "        print(' 1.입력  2.보기  3.수정  4.삭제  5.종료')\n",
    "        print('=' * 40)\n",
    "        menu = int(input('원하는 메뉴를 입력하고 Enter 키를 누르세요: '))\n",
    "\n",
    "        # 메뉴가 1~5 사이의 값이 입력되었다면 무한 루프를 탈출시킨다.\n",
    "        if 1 <= menu <= 5:\n",
    "            break\n",
    "        else:\n",
    "            print('메뉴는 1~5 사이의 숫자만 입력해야 합니다.')\n",
    "        # ===== if\n",
    "    # ===== while True\n",
    "\n",
    "    # 여기까지 넘어왔으면 menu에는 1~5 사이의 정수가 입력된 것이다.\n",
    "    if menu == 1:\n",
    "        print('입력 작업')\n",
    "    elif menu == 2:\n",
    "        print('보기 작업')\n",
    "    elif menu == 3:\n",
    "        print('수정 작업')\n",
    "    elif menu == 4:\n",
    "        print('삭제 작업')\n",
    "# ===== while menu != 5\n",
    "print('프로그램을 종료합니다.')"
   ],
   "metadata": {
    "collapsed": false
   }
  }
 ],
 "metadata": {
  "kernelspec": {
   "display_name": "Python 3",
   "language": "python",
   "name": "python3"
  },
  "language_info": {
   "codemirror_mode": {
    "name": "ipython",
    "version": 2
   },
   "file_extension": ".py",
   "mimetype": "text/x-python",
   "name": "python",
   "nbconvert_exporter": "python",
   "pygments_lexer": "ipython2",
   "version": "2.7.6"
  }
 },
 "nbformat": 4,
 "nbformat_minor": 0
}
