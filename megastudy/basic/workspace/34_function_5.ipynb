{
 "cells": [
  {
   "cell_type": "markdown",
   "source": [
    "디폴트 인수를 사용하는 함수로 가변 인자를 가지는 함수를 흉내낼 수 있지만 인수의 개수가 많아지면 비효율적이다."
   ],
   "metadata": {
    "collapsed": false
   }
  },
  {
   "cell_type": "code",
   "execution_count": 1,
   "outputs": [],
   "source": [
    "def func6(a=0, b=0, c=0, d=0, e=0, f=0, g=0):\n",
    "    print('{}'.format(a + b + c + d + e + f + g))"
   ],
   "metadata": {
    "collapsed": false
   }
  },
  {
   "cell_type": "code",
   "execution_count": 9,
   "outputs": [
    {
     "name": "stdout",
     "output_type": "stream",
     "text": [
      "0\n",
      "1\n",
      "3\n",
      "6\n",
      "15\n",
      "21\n",
      "28\n"
     ]
    }
   ],
   "source": [
    "func6()\n",
    "func6(1)\n",
    "func6(1, 2)\n",
    "func6(1, 2, 3)\n",
    "func6(1, 2, 3, 4, 5)\n",
    "func6(1, 2, 3, 4, 5, 6)\n",
    "func6(1, 2, 3, 4, 5, 6, 7)\n",
    "# func6(1, 2, 3, 4, 5, 6, 7, 8)   # TypeError"
   ],
   "metadata": {
    "collapsed": false
   }
  },
  {
   "cell_type": "code",
   "execution_count": 23,
   "outputs": [],
   "source": [
    "# 가변 인자를 가지는 함수 → 가변 인자는 '*변수명' 형태로 표현한다. → 가변 인자는 넘어오는 데이터를 튜플로 받는다.\n",
    "# 가변 인자를 사용하면 가변 인자에 할당해야 할 메모리 크기를 모르기 때문에 인수 목록의 맨 마지막에 딱 1번만 사용한다.\n",
    "def func7(*args):\n",
    "    # print(type(args))\n",
    "    # print(args)\n",
    "    total = 0\n",
    "    for arg in args:\n",
    "        total += arg\n",
    "    print(total)"
   ],
   "metadata": {
    "collapsed": false
   }
  },
  {
   "cell_type": "code",
   "execution_count": 24,
   "outputs": [
    {
     "name": "stdout",
     "output_type": "stream",
     "text": [
      "6\n"
     ]
    }
   ],
   "source": [
    "func7(1, 2, 3)"
   ],
   "metadata": {
    "collapsed": false
   }
  },
  {
   "cell_type": "code",
   "execution_count": 26,
   "outputs": [
    {
     "name": "stdout",
     "output_type": "stream",
     "text": [
      "0\n",
      "1\n",
      "3\n",
      "6\n",
      "15\n",
      "21\n",
      "28\n",
      "36\n",
      "45\n"
     ]
    }
   ],
   "source": [
    "func7()\n",
    "func7(1)\n",
    "func7(1, 2)\n",
    "func7(1, 2, 3)\n",
    "func7(1, 2, 3, 4, 5)\n",
    "func7(1, 2, 3, 4, 5, 6)\n",
    "func7(1, 2, 3, 4, 5, 6, 7)\n",
    "func7(1, 2, 3, 4, 5, 6, 7, 8)\n",
    "func7(1, 2, 3, 4, 5, 6, 7, 8, 9)"
   ],
   "metadata": {
    "collapsed": false
   }
  },
  {
   "cell_type": "code",
   "execution_count": null,
   "outputs": [],
   "source": [],
   "metadata": {
    "collapsed": false
   }
  }
 ],
 "metadata": {
  "kernelspec": {
   "display_name": "Python 3",
   "language": "python",
   "name": "python3"
  },
  "language_info": {
   "codemirror_mode": {
    "name": "ipython",
    "version": 2
   },
   "file_extension": ".py",
   "mimetype": "text/x-python",
   "name": "python",
   "nbconvert_exporter": "python",
   "pygments_lexer": "ipython2",
   "version": "2.7.6"
  }
 },
 "nbformat": 4,
 "nbformat_minor": 0
}
