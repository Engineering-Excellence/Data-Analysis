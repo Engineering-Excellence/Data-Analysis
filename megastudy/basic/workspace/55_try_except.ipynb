{
 "cells": [
  {
   "cell_type": "markdown",
   "source": [
    "# 오류 처리\n",
    "프로그램을 작성할 때 잘못 동작되는 것을 방지하기 위해서 오류가 발생된다. → 오류 발생시 프로그램이 멈춘다.\n",
    "try ~ except를 사용하면 오류가 발생되었을 때 별도의 처리를 하거나 오류를 무시하고 프로그램을 실행할 수 있다.\n",
    "오류가 발생할 것으로 예상되는 문장은 try 블럭에 코딩하고 try 블럭을 실행하다가 오류가 발생하면 더 이상 try 블럭에 코딩된 내용을 실행하지 않고,\n",
    "해당 except 블럭에 코딩된 내용을 실행한다.\n",
    "***\n",
    "try: 필수\n",
    "&nbsp;&nbsp;&nbsp;&nbsp;&nbsp;&nbsp;오류가 발생할 것으로 예상되는 문장\n",
    "&nbsp;&nbsp;&nbsp;&nbsp;&nbsp;&nbsp;...\n",
    "except [오류명 [as 변수명]]: 필수 → 오류명과 변수명은 생략 가능\n",
    "&nbsp;&nbsp;&nbsp;&nbsp;&nbsp;&nbsp;오류가 발생하면 실행할 문장\n",
    "&nbsp;&nbsp;&nbsp;&nbsp;&nbsp;&nbsp;...\n",
    "finally: 선택 → 필요할 경우 사용한다.\n",
    "&nbsp;&nbsp;&nbsp;&nbsp;&nbsp;&nbsp;오류 발생 여부와 관계없이 실행할 문장\n",
    "&nbsp;&nbsp;&nbsp;&nbsp;&nbsp;&nbsp;..."
   ],
   "metadata": {
    "collapsed": false
   }
  },
  {
   "cell_type": "code",
   "execution_count": 1,
   "outputs": [
    {
     "name": "stdout",
     "output_type": "stream",
     "text": [
      "4.0\n",
      "모든 오류 무시\n"
     ]
    }
   ],
   "source": [
    "try:\n",
    "    print(4 / 1)\n",
    "    print(4 / 0)  # ZeroDivisionError\n",
    "    print(4 / 4)\n",
    "except:  # except 뒤에 오류 이름을 쓰지 않으면 모든 오류를 처리할 수 있다.\n",
    "    pass  # 오류 발생시 아무 것도 하지 않고 오류를 무시하려면 pass를 사용\n",
    "    # print('0으로 나눌 수 없습니다.')\n",
    "print('모든 오류 무시')"
   ],
   "metadata": {
    "collapsed": false
   }
  },
  {
   "cell_type": "code",
   "execution_count": 2,
   "outputs": [
    {
     "name": "stdout",
     "output_type": "stream",
     "text": [
      "3\n",
      "리스트의 인덱스 지정이 올바르지 않습니다.\n",
      "인덱스는 0부터 시작\n"
     ]
    }
   ],
   "source": [
    "data = [1, 2, 3]\n",
    "try:\n",
    "    print(data[2])\n",
    "    print(data[3])  # IndexError\n",
    "    print(data[-1])\n",
    "except IndexError:\n",
    "    print('리스트의 인덱스 지정이 올바르지 않습니다.')\n",
    "finally:\n",
    "    print('인덱스는 0부터 시작')"
   ],
   "metadata": {
    "collapsed": false
   }
  },
  {
   "cell_type": "code",
   "execution_count": 3,
   "outputs": [
    {
     "name": "stdout",
     "output_type": "stream",
     "text": [
      "Hello, world!\n",
      "오류 발생 여부와 관계없이 실행할 문장이 있다면 finally 블럭에 코딩한다.\n"
     ]
    }
   ],
   "source": [
    "data = [1, 2, 3]\n",
    "string = 'Hello, world!'\n",
    "try:\n",
    "    # print(4 / 0)  # ZeroDivisionError\n",
    "    # print(data[3])  # IndexError\n",
    "    print(string)\n",
    "    # print('%d' % string)    # TypeError\n",
    "except ZeroDivisionError:   # except 뒤에 오류명을 적으면 지정된 오류만 처리할 수 있다.\n",
    "    print('0으로 나눌 수 없습니다.')\n",
    "except IndexError as e: # except 뒤에 오류명을 쓰고 as 다음에 변수명을 지정하면 오류 메시지가 변수에 저장된다.\n",
    "    print('리스트의 인덱스 지정이 올바르지 않습니다.')\n",
    "    print(e)\n",
    "except:\n",
    "    # except 뒤에 오류명을 지정하지 않으면 모든 오류를 처리하기 때문에 except 뒤에 코딩한 다른 except 문장이 실행되자 않기 때문에 SyntaxError 발생\n",
    "    # except만 사용하는 경우 반드시 맨 마지막에 코딩해야 한다.\n",
    "    print('데이터 타입이 올바르지 않습니다.')\n",
    "finally:\n",
    "    # 오류 발생 여부와 관계없이 실행할 문장이 있다면 finally 블럭에 코딩한다.\n",
    "    print('오류 발생 여부와 관계없이 실행할 문장이 있다면 finally 블럭에 코딩한다.')"
   ],
   "metadata": {
    "collapsed": false
   }
  },
  {
   "cell_type": "code",
   "execution_count": 4,
   "outputs": [
    {
     "ename": "TypeError",
     "evalue": "'<' not supported between instances of 'str' and 'int'",
     "output_type": "error",
     "traceback": [
      "\u001B[0;31m---------------------------------------------------------------------------\u001B[0m",
      "\u001B[0;31mTypeError\u001B[0m                                 Traceback (most recent call last)",
      "Cell \u001B[0;32mIn [4], line 2\u001B[0m\n\u001B[1;32m      1\u001B[0m a \u001B[38;5;241m=\u001B[39m [\u001B[38;5;241m100\u001B[39m, \u001B[38;5;124m'\u001B[39m\u001B[38;5;124m010\u001B[39m\u001B[38;5;124m'\u001B[39m, \u001B[38;5;241m55\u001B[39m, \u001B[38;5;124m'\u001B[39m\u001B[38;5;124m10\u001B[39m\u001B[38;5;124m'\u001B[39m]\n\u001B[0;32m----> 2\u001B[0m \u001B[43ma\u001B[49m\u001B[38;5;241;43m.\u001B[39;49m\u001B[43msort\u001B[49m\u001B[43m(\u001B[49m\u001B[43m)\u001B[49m    \u001B[38;5;66;03m# TypeError\u001B[39;00m\n",
      "\u001B[0;31mTypeError\u001B[0m: '<' not supported between instances of 'str' and 'int'"
     ]
    }
   ],
   "source": [
    "a = [100, '010', 55, '10']\n",
    "a.sort()    # TypeError"
   ],
   "metadata": {
    "collapsed": false
   }
  },
  {
   "cell_type": "code",
   "execution_count": 8,
   "outputs": [
    {
     "name": "stdout",
     "output_type": "stream",
     "text": [
      "[1, 24, 236, 345, 'afa', 'alphabet']\n"
     ]
    }
   ],
   "source": [
    "# 숫자 데이터와 문자 데이터가 섞여서 입력되는 데이터를 정렬한다. 999가 입력되면 정렬을 시작한다.\n",
    "number = []\n",
    "alpha = []\n",
    "while True:\n",
    "    var = input('정렬할 데이터 입력(999 → 정렬 시작): ')\n",
    "    if var == '999':\n",
    "        break\n",
    "    # 입력받는 데이터가 '0' ~ '9' 사이의 문자로만 구성된 경우와 그렇지 않은 경우를 number, alpha 리스트에 저장한다.\n",
    "    try:\n",
    "        number.append(int(var))\n",
    "    except ValueError:\n",
    "        alpha.append(var)\n",
    "\n",
    "number.sort()\n",
    "alpha.sort()\n",
    "print(number + alpha)"
   ],
   "metadata": {
    "collapsed": false
   }
  }
 ],
 "metadata": {
  "kernelspec": {
   "display_name": "Python 3",
   "language": "python",
   "name": "python3"
  },
  "language_info": {
   "codemirror_mode": {
    "name": "ipython",
    "version": 2
   },
   "file_extension": ".py",
   "mimetype": "text/x-python",
   "name": "python",
   "nbconvert_exporter": "python",
   "pygments_lexer": "ipython2",
   "version": "2.7.6"
  }
 },
 "nbformat": 4,
 "nbformat_minor": 0
}
