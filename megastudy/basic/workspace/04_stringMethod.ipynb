{
 "cells": [
  {
   "cell_type": "code",
   "execution_count": 1,
   "metadata": {
    "collapsed": true
   },
   "outputs": [
    {
     "name": "stdout",
     "output_type": "stream",
     "text": [
      "33\n",
      "!\n",
      "!\n",
      "!\n"
     ]
    }
   ],
   "source": [
    "string = 'We are the champions, My friends!'\n",
    "\n",
    "# len() 함수는 매개변수로 지정한 문자열을 구성하는 문자의 개수를 얻어온다.\n",
    "print(len(string))\n",
    "print(string[32])\n",
    "print(string[-1])\n",
    "print(string[len(string) - 1])"
   ]
  },
  {
   "cell_type": "code",
   "execution_count": 2,
   "outputs": [
    {
     "name": "stdout",
     "output_type": "stream",
     "text": [
      "4\n",
      "1\n",
      "0\n"
     ]
    }
   ],
   "source": [
    "string = 'We are the champions, My friends!'\n",
    "\n",
    "# count() 메서드는 매개변수로 지정한 문자열의 전체 출현 횟수를 얻어온다.\n",
    "# count() 메서드의 매개변수로 지정한 문자열이 특정 문자열에 포험되어있는지 알아낼 수 있다.\n",
    "# count() 메서드를 실행한 결과가 0이면 불포함, 1이면 포함, 2 이상이면 중복해서 포함\n",
    "print(string.count('e'))\n",
    "print(string.count('We'))\n",
    "print(string.count('we'))"
   ],
   "metadata": {
    "collapsed": false
   }
  },
  {
   "cell_type": "code",
   "execution_count": 3,
   "outputs": [
    {
     "name": "stdout",
     "output_type": "stream",
     "text": [
      "1\n",
      "0\n"
     ]
    }
   ],
   "source": [
    "string = 'We are the champions, My friends!'\n",
    "\n",
    "# index() 메서드는 매개변수로 지정한 문자열이 최초로 출현하는 인덱스를 얻어온다.\n",
    "# index() 메서드는 매개변수로 지정한 문자열이 특정 문자열에 포함되어있는지 알아낼 수 있다.\n",
    "# 실행한 결과가 0 이상이면 포함, 에러가 발생되면 불포함\n",
    "print(string.index('e'))\n",
    "print(string.index('We'))\n",
    "# print(string.index('we'))   # Error: 매개변수로 지정한 문자열에 없으면 에러가 발생한다."
   ],
   "metadata": {
    "collapsed": false
   }
  },
  {
   "cell_type": "code",
   "execution_count": 4,
   "outputs": [
    {
     "name": "stdout",
     "output_type": "stream",
     "text": [
      "1\n",
      "0\n",
      "-1\n"
     ]
    }
   ],
   "source": [
    "string = 'We are the champions, My friends!'\n",
    "\n",
    "# find() 메서드는 매개변수로 지정한 문자열이 최초로 출현하는 인덱스를 얻어온다.\n",
    "# find() 메서드는 매개변수로 지정한 문자열이 특정 문자열에 포함되어있는지 알아낼 수 있다.\n",
    "# 실행한 결과가 0 이상이면 포함, -1은 불포함\n",
    "print(string.find('e'))\n",
    "print(string.find('We'))\n",
    "print(string.find('we'))  # 매개변수로 지정한 문자열이 없으면 -1이 리턴된다."
   ],
   "metadata": {
    "collapsed": false
   }
  },
  {
   "cell_type": "code",
   "execution_count": 8,
   "outputs": [
    {
     "name": "stdout",
     "output_type": "stream",
     "text": [
      "T/j/o/e/u/n/I/T\n",
      "T j o e u n I T\n",
      "T\n",
      "j\n",
      "o\n",
      "e\n",
      "u\n",
      "n\n",
      "I\n",
      "T\n",
      "T( ͡° ͜ʖ ͡°)j( ͡° ͜ʖ ͡°)o( ͡° ͜ʖ ͡°)e( ͡° ͜ʖ ͡°)u( ͡° ͜ʖ ͡°)n( ͡° ͜ʖ ͡°)I( ͡° ͜ʖ ͡°)T\n"
     ]
    }
   ],
   "source": [
    "string = 'TjoeunIT'\n",
    "\n",
    "# join() 메서드는 매개변수로 지정된 문자열에 특정 문자열을 사이사이에 삽입한다.\n",
    "print('/'.join(string))\n",
    "print(' '.join(string))\n",
    "print('\\n'.join(string))\n",
    "print('( ͡° ͜ʖ ͡°)'.join(string))"
   ],
   "metadata": {
    "collapsed": false
   }
  },
  {
   "cell_type": "code",
   "execution_count": 11,
   "outputs": [
    {
     "name": "stdout",
     "output_type": "stream",
     "text": [
      "TJOEUNIT IS GOOD\n",
      "tjoeunit is good\n",
      "Tjoeunit Is Good\n"
     ]
    }
   ],
   "source": [
    "string = 'TjoeunIT is good'\n",
    "\n",
    "# upper() 메서드는 문자열을 대문자로 변환한다.\n",
    "print(string.upper())\n",
    "\n",
    "# lower() 메서드는 문자열을 소문자로 변환한다.\n",
    "print(string.lower())\n",
    "\n",
    "# title() 메서드는 문자열을 구성하는 각 단어의 첫 문자만 대문자로, 나머지는 소문자로 변환한다.\n",
    "print(string.title())"
   ],
   "metadata": {
    "collapsed": false
   }
  },
  {
   "cell_type": "code",
   "execution_count": 16,
   "outputs": [
    {
     "name": "stdout",
     "output_type": "stream",
     "text": [
      "        TjoeunIT     \n",
      "21\n",
      "TjoeunIT\n",
      "8\n",
      "TjoeunIT     \n",
      "13\n",
      "        TjoeunIT\n",
      "16\n"
     ]
    }
   ],
   "source": [
    "string = '        TjoeunIT     '\n",
    "print(string)\n",
    "print(len(string))\n",
    "\n",
    "# strip() 메서드는 양쪽의 공백을 제거한다.\n",
    "print(string.strip())\n",
    "print(len(string.strip()))\n",
    "\n",
    "# lstrip() 메서드는 왼의 공백을 제거한다.\n",
    "print(string.lstrip())\n",
    "print(len(string.lstrip()))\n",
    "\n",
    "# rstrip() 메서드는 오른쪽의 공백을 제거한다.\n",
    "print(string.rstrip())\n",
    "print(len(string.rstrip()))"
   ],
   "metadata": {
    "collapsed": false
   }
  },
  {
   "cell_type": "code",
   "execution_count": 17,
   "outputs": [
    {
     "name": "stdout",
     "output_type": "stream",
     "text": [
      "We are the champions, My friends!\n",
      "W2 ar2 th2 champions, My fri2nds!\n"
     ]
    }
   ],
   "source": [
    "string = 'We are the champions, My friends!'\n",
    "\n",
    "# replace() 메서드는 특정 문자열을 지정한 문자열로 일괄적으로 치환한다.\n",
    "print(string)\n",
    "print(string.replace('e', '2'))"
   ],
   "metadata": {
    "collapsed": false
   }
  },
  {
   "cell_type": "markdown",
   "source": [
    "# 문자열 메서드 응용"
   ],
   "metadata": {
    "collapsed": false
   }
  },
  {
   "cell_type": "code",
   "execution_count": 28,
   "outputs": [
    {
     "name": "stdout",
     "output_type": "stream",
     "text": [
      "www.tjoeunit.com\n",
      "www.tjoeunit.com\n",
      "tjoeunit\n",
      "tjoeunit\n"
     ]
    }
   ],
   "source": [
    "# strip() 메서드는 공백뿐만 아니라 매개변수를 지정하여 지정한 문자가 앞뒤에 나타나지 않을 때까지 제거할 수 있다.\n",
    "# 매개변수로 지정한 문자열 순서와 제거하는 순서는 아무런 상관이 없다.\n",
    "print('www.tjoeunit.com')\n",
    "print('www.tjoeunit.com'.strip())  # 공백만 제거\n",
    "print('www.tjoeunit.com'.strip('w.com'))  # 매개변수로 지정된 문자 제거\n",
    "print('www.tjoeunit.com'.strip('wmoc.'))"
   ],
   "metadata": {
    "collapsed": false
   }
  },
  {
   "cell_type": "code",
   "execution_count": 30,
   "outputs": [
    {
     "name": "stdout",
     "output_type": "stream",
     "text": [
      "www.joeuni.com\n"
     ]
    }
   ],
   "source": [
    "# 문자열 중간의 특정 문자를 제거하려면 replace() 메서드를 사용하면 된다.\n",
    "print('www.tjoeunit.com'.replace('t', ''))"
   ],
   "metadata": {
    "collapsed": false
   }
  },
  {
   "cell_type": "code",
   "execution_count": 36,
   "outputs": [
    {
     "name": "stdout",
     "output_type": "stream",
     "text": [
      "830422-1******\n"
     ]
    }
   ],
   "source": [
    "# 주민등록번호를 입력받아 성별 뒤의 모든 문자가 '*'로 출력되게 한다.\n",
    "# 830422-1185600 → 830422-1******\n",
    "resident = input('(-)를 제외한 주민등록번호를 입력하세요. : ')\n",
    "encode = resident[:6] + '-' + resident[7] + '*' * 6\n",
    "print(encode)"
   ],
   "metadata": {
    "collapsed": false
   }
  },
  {
   "cell_type": "code",
   "execution_count": 48,
   "outputs": [
    {
     "name": "stdout",
     "output_type": "stream",
     "text": [
      "<class 'list'>\n",
      "010-****-5678\n"
     ]
    }
   ],
   "source": [
    "# 코드를 입력받아서 '-'와 '-' 사이의 모든 문자의 개수 만큼 '*'이 출력되게 한다.\n",
    "# 1234-****-7890\n",
    "# 12-***-567890\n",
    "# 123456-*-1245\n",
    "split = input('(-)를 포함한 전화번호를 입력하세요. : ').split('-')\n",
    "print(type(split))\n",
    "split[1] = len(split[1]) * '*'\n",
    "print('-'.join(split))"
   ],
   "metadata": {
    "collapsed": false
   }
  },
  {
   "cell_type": "markdown",
   "source": [
    "# 파이썬 공백 처리 방법"
   ],
   "metadata": {
    "collapsed": false
   }
  },
  {
   "cell_type": "code",
   "execution_count": 50,
   "outputs": [
    {
     "name": "stdout",
     "output_type": "stream",
     "text": [
      "             Hello            world         \n",
      "Hello            world\n"
     ]
    }
   ],
   "source": [
    "string = '             Hello            world         '\n",
    "print(string)\n",
    "print(string.strip())"
   ],
   "metadata": {
    "collapsed": false
   }
  },
  {
   "cell_type": "code",
   "execution_count": 54,
   "outputs": [
    {
     "name": "stdout",
     "output_type": "stream",
     "text": [
      "             Hello            world         \n",
      "Helloworld\n"
     ]
    }
   ],
   "source": [
    "# replace() 메서드를 사용해서 모든 공백을 제거한다.\n",
    "print(string)\n",
    "print(string.replace(' ',''))"
   ],
   "metadata": {
    "collapsed": false
   }
  },
  {
   "cell_type": "code",
   "execution_count": 53,
   "outputs": [
    {
     "name": "stdout",
     "output_type": "stream",
     "text": [
      "             Hello            world         \n",
      "['Hello', 'world']\n",
      "Hello world\n"
     ]
    }
   ],
   "source": [
    "# join(), split() 메서드를 사용해서 문자열 앞뒤의 모든 빈 칸을 제거하고, 문자열 사이에 2칸 이상 띄어쓰기를 한 곳은 1칸만 띄어쓰기가 되도록 한다.\n",
    "print(string)\n",
    "print(string.split())\n",
    "print(' '.join(string.split()))"
   ],
   "metadata": {
    "collapsed": false
   }
  },
  {
   "cell_type": "code",
   "execution_count": null,
   "outputs": [],
   "source": [],
   "metadata": {
    "collapsed": false
   }
  }
 ],
 "metadata": {
  "kernelspec": {
   "display_name": "Python 3",
   "language": "python",
   "name": "python3"
  },
  "language_info": {
   "codemirror_mode": {
    "name": "ipython",
    "version": 2
   },
   "file_extension": ".py",
   "mimetype": "text/x-python",
   "name": "python",
   "nbconvert_exporter": "python",
   "pygments_lexer": "ipython2",
   "version": "2.7.6"
  }
 },
 "nbformat": 4,
 "nbformat_minor": 0
}
