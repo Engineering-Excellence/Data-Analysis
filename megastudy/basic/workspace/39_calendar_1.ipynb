{
 "cells": [
  {
   "cell_type": "code",
   "execution_count": 1,
   "outputs": [],
   "source": [
    "def isLeapYear(year):\n",
    "    return year % 4 == 0 and year % 100 != 0 or year % 400 == 0"
   ],
   "metadata": {
    "collapsed": false
   }
  },
  {
   "cell_type": "code",
   "execution_count": 2,
   "outputs": [],
   "source": [
    "def lastDay(year, month):\n",
    "    m = [31, 0, 31, 30, 31, 30, 31, 31, 30, 31, 30, 31]\n",
    "    m[1] = 29 if isLeapYear(year) else 28\n",
    "    return m[month - 1]"
   ],
   "metadata": {
    "collapsed": false
   }
  },
  {
   "cell_type": "code",
   "execution_count": 3,
   "outputs": [],
   "source": [
    "def totalDay(year, month, day):\n",
    "    s = (year - 1) * 365 + (year - 1) // 4 - (year - 1) // 100 + (year - 1) // 400\n",
    "    for i in range(1, month):\n",
    "        s += lastDay(year, i)\n",
    "    return s + day"
   ],
   "metadata": {
    "collapsed": false
   }
  },
  {
   "cell_type": "code",
   "execution_count": 4,
   "outputs": [],
   "source": [
    "def weekDay(year, month, day):\n",
    "    return totalDay(year, month, day) % 7"
   ],
   "metadata": {
    "collapsed": false
   }
  },
  {
   "cell_type": "code",
   "execution_count": 44,
   "outputs": [
    {
     "name": "stdout",
     "output_type": "stream",
     "text": [
      "============================\n",
      "        2022년12월\n",
      "============================\n",
      " 일  월  화  수  목  금  토 \n",
      "============================\n",
      "                  1   2   3 \n",
      "  4   5   6   7   8   9  10 \n",
      " 11  12  13  14  15  16  17 \n",
      " 18  19  20  21  22  23  24 \n",
      " 25  26  27  28  29  30  31 \n",
      "============================\n"
     ]
    }
   ],
   "source": [
    "#달력을 출력할 년, 월을 입력받는다.\n",
    "year, month = map(int, input('년, 월: ').split())\n",
    "print('=' * 28)\n",
    "print('         {:4d}년{:2d}월'.format(year, month))\n",
    "print('=' * 28)\n",
    "print(' 일  월  화  수  목  금  토 ')\n",
    "print('=' * 28)\n",
    "# 1일이 출력될 위치(요일)을 맞추기 위해서 1일의 요일만큼 반복하며 빈 칸을 출력한다.\n",
    "for i in range(weekDay(year, month, 1)):\n",
    "    print('    ', end='')\n",
    "\n",
    "# 1일부터 달력을 출력할 달의 마지막 날짜까지 반복하며 날짜를 출력한다.\n",
    "for i in range(1, lastDay(year, month) + 1):\n",
    "    print(' {:2d} '.format(i), end='')\n",
    "    # 출력한 날짜(i)가 토요일이고 그 달의 마지막 날짜가 아니면 줄을 바꾼다.\n",
    "    if weekDay(year, month, i) == 6 and i != lastDay(year, month):\n",
    "        print()\n",
    "    #==========if\n",
    "#==========for\n",
    "print('\\n' + '=' * 28)"
   ],
   "metadata": {
    "collapsed": false
   }
  }
 ],
 "metadata": {
  "kernelspec": {
   "display_name": "Python 3",
   "language": "python",
   "name": "python3"
  },
  "language_info": {
   "codemirror_mode": {
    "name": "ipython",
    "version": 2
   },
   "file_extension": ".py",
   "mimetype": "text/x-python",
   "name": "python",
   "nbconvert_exporter": "python",
   "pygments_lexer": "ipython2",
   "version": "2.7.6"
  }
 },
 "nbformat": 4,
 "nbformat_minor": 0
}
