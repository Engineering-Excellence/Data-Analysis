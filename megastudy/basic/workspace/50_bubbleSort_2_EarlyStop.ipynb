{
 "cells": [
  {
   "cell_type": "markdown",
   "source": [
    "<img src=\"./images/bubbleSort5.png\" width=\"1000\"><br/>\n",
    "<img src=\"./images/bubbleSort6.png\" width=\"1000\">"
   ],
   "metadata": {
    "collapsed": false
   }
  },
  {
   "cell_type": "code",
   "execution_count": 1,
   "outputs": [
    {
     "name": "stdout",
     "output_type": "stream",
     "text": [
      "1회전 결과: [1, 3, 4, 8, 9]\n"
     ]
    }
   ],
   "source": [
    "data = [9, 1, 3, 4, 8]  # 조기 종료\n",
    "for i in range(len(data)):\n",
    "    # ① 회전(정렬) 작업이 시작되기 전에 flag 변수를 초기화한다.\n",
    "    flag = 0\n",
    "    for j in range(len(data) - 1):\n",
    "        if data[j] > data[j + 1]:\n",
    "            data[j], data[j + 1] = data[j + 1], data[j]\n",
    "            # ② 데이터 교환 작업이 실행되면 flag 변수의 값을 1로 수정한다.\n",
    "            flag = 1\n",
    "        # ===== if\n",
    "    # ===== for j → 회전 종료\n",
    "    # ③ 한 회전이 종료되었을 때 데이터 교환 작업이 1번도 실행되지 않았다면 현재 데이터는 모두 정렬이 되어있는 상태를 의미하므로 정렬을 중지한다.\n",
    "    # → i 반복을 탈출한다.\n",
    "    if flag == 0:\n",
    "        break\n",
    "    print(f'{i + 1}회전 결과: {data}')\n",
    "# ===== for i → 정렬 종료"
   ],
   "metadata": {
    "collapsed": false
   }
  },
  {
   "cell_type": "code",
   "execution_count": 3,
   "outputs": [
    {
     "name": "stdout",
     "output_type": "stream",
     "text": [
      "1회전 결과: [1, 3, 4, 8, 9]\n",
      "4회전을 해야하지만 1회전 후 중간 종료됨\n"
     ]
    }
   ],
   "source": [
    "data = [9, 1, 3, 4, 8]  # 조기 종료\n",
    "for i in range(len(data)):\n",
    "    flag = True\n",
    "    for j in range(len(data) - 1):\n",
    "        if data[j] > data[j + 1]:\n",
    "            data[j], data[j + 1] = data[j + 1], data[j]\n",
    "            flag = False\n",
    "        # ===== if\n",
    "    # ===== for j → 회전 종료\n",
    "    if flag:\n",
    "        print(f'{len(data) - 1}회전을 해야하지만 {i}회전 후 중간 종료됨')\n",
    "        break\n",
    "    print(f'{i + 1}회전 결과: {data}')\n",
    "# ===== for i → 정렬 종료"
   ],
   "metadata": {
    "collapsed": false
   }
  }
 ],
 "metadata": {
  "kernelspec": {
   "display_name": "Python 3",
   "language": "python",
   "name": "python3"
  },
  "language_info": {
   "codemirror_mode": {
    "name": "ipython",
    "version": 2
   },
   "file_extension": ".py",
   "mimetype": "text/x-python",
   "name": "python",
   "nbconvert_exporter": "python",
   "pygments_lexer": "ipython2",
   "version": "2.7.6"
  }
 },
 "nbformat": 4,
 "nbformat_minor": 0
}
