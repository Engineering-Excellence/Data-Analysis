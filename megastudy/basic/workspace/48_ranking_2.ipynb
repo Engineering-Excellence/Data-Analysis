{
 "cells": [
  {
   "cell_type": "markdown",
   "source": [
    "선택정렬의 반복 알고리즘을 이용한 석차 계산\n",
    "<br/>\n",
    "<img src=\"./images/ranking.png\">"
   ],
   "metadata": {
    "collapsed": false
   }
  },
  {
   "cell_type": "code",
   "execution_count": 10,
   "outputs": [
    {
     "name": "stdout",
     "output_type": "stream",
     "text": [
      " 70점은 5등입니다.\n",
      "100점은 1등입니다.\n",
      " 80점은 4등입니다.\n",
      "100점은 1등입니다.\n",
      " 90점은 3등입니다.\n"
     ]
    }
   ],
   "source": [
    "score = [70, 100, 80, 100, 90]\n",
    "rank = [1 for i in range(len(score))]\n",
    "# print(rank)\n",
    "\n",
    "for i in range(len(score) - 1):\n",
    "    for j in range(i + 1, len(score)):\n",
    "        # i번째 점수가 크면 j번째 석차를 1 증가시키고 j번째 점수가 크면 i번째 석차를 1 증가시킨다.\n",
    "        # 부등호 방향을 모두 반대로 변경하면 오름차순(작은 점수가 1등) 석차가 계산된다.\n",
    "        if score[i] > score[j]:\n",
    "            rank[j] += 1\n",
    "        elif score[i] < score[j]:\n",
    "            rank[i] += 1\n",
    "        # ===== if\n",
    "    # ===== for j\n",
    "# ===== for i\n",
    "\n",
    "for i in range(len(score)):\n",
    "    print('{:3d}점은 {}등입니다.'.format(score[i], rank[i]))"
   ],
   "metadata": {
    "collapsed": false
   }
  },
  {
   "cell_type": "code",
   "execution_count": null,
   "outputs": [],
   "source": [],
   "metadata": {
    "collapsed": false
   }
  }
 ],
 "metadata": {
  "kernelspec": {
   "display_name": "Python 3",
   "language": "python",
   "name": "python3"
  },
  "language_info": {
   "codemirror_mode": {
    "name": "ipython",
    "version": 2
   },
   "file_extension": ".py",
   "mimetype": "text/x-python",
   "name": "python",
   "nbconvert_exporter": "python",
   "pygments_lexer": "ipython2",
   "version": "2.7.6"
  }
 },
 "nbformat": 4,
 "nbformat_minor": 0
}
