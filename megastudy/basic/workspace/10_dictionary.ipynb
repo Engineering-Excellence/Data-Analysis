{
 "cells": [
  {
   "cell_type": "markdown",
   "source": [
    "# 딕셔너리 만들기\n",
    "딕셔너리는 key와 value가 1:1로 대응되는 관계를 나타내는 자료형으로 key와 key에 할당되는 데이터(value)가 한 쌍이 되는 자료형이다.\n",
    "\n",
    "{key1: value1, ke2: value2, ...}와 같은 형태를 가진다.\n",
    "일반적으로 keysms string 타입을 사용하고, value는 저장할 데이터를 적는다."
   ],
   "metadata": {
    "collapsed": false
   }
  },
  {
   "cell_type": "code",
   "execution_count": 1,
   "outputs": [
    {
     "name": "stdout",
     "output_type": "stream",
     "text": [
      "<class 'dict'>\n",
      "{}\n",
      "================================================================================\n",
      "<class 'dict'>\n",
      "{}\n"
     ]
    }
   ],
   "source": [
    "# 빈 딕셔너리 만들기\n",
    "a = {}\n",
    "print(type(a))\n",
    "print(a)\n",
    "print('=' * 80)\n",
    "# 빈 딕셔너리는 생성자 함수를 사용해서 만들 수도 있다.\n",
    "b = dict()\n",
    "print(type(b))\n",
    "print(b)"
   ],
   "metadata": {
    "collapsed": false
   }
  },
  {
   "cell_type": "code",
   "execution_count": 2,
   "outputs": [
    {
     "name": "stdout",
     "output_type": "stream",
     "text": [
      "<class 'dict'>\n",
      "{'name': '홍길동', 'phone': '010-1234-5678', 'age': 20}\n"
     ]
    }
   ],
   "source": [
    "a = {'name': '홍길동', 'phone': '010-1234-5678', 'age':20}\n",
    "print(type(a))\n",
    "print(a)"
   ],
   "metadata": {
    "collapsed": false
   }
  },
  {
   "cell_type": "markdown",
   "source": [
    "딕셔너리에 데이터 추가 및 수정하기"
   ],
   "metadata": {
    "collapsed": false
   }
  },
  {
   "cell_type": "code",
   "execution_count": 3,
   "outputs": [
    {
     "name": "stdout",
     "output_type": "stream",
     "text": [
      "{'name': '홍길동', 'phone': '010-1234-5678', 'age': 20}\n",
      "{'name': '홍길동', 'phone': '010-1234-5678', 'age': 20, 'gender': 'female'}\n",
      "{'name': '홍길동', 'phone': '010-1234-5678', 'age': 20, 'gender': 'male'}\n"
     ]
    }
   ],
   "source": [
    "a = {'name': '홍길동', 'phone': '010-1234-5678', 'age':20}\n",
    "print(a)\n",
    "# 딕셔너리에 존재하지 않는 key에 데이터를 할당하면 데이터가 추가되고, 존재하는 키에 데이터를 할당하면 데이터가 수정된다.\n",
    "# 딕셔너리 이름[key] = value\n",
    "a['gender'] = 'female'    # 추가\n",
    "print(a)\n",
    "a['gender'] = 'male'    # 수정\n",
    "print(a)\n",
    "# a.gender = '여자' # AttributeError → Pandas Library에서만 사용가능"
   ],
   "metadata": {
    "collapsed": false
   }
  },
  {
   "cell_type": "markdown",
   "source": [
    "딕셔너리에 저장된 데이터 제거하기"
   ],
   "metadata": {
    "collapsed": false
   }
  },
  {
   "cell_type": "code",
   "execution_count": 4,
   "outputs": [
    {
     "name": "stdout",
     "output_type": "stream",
     "text": [
      "{'name': '홍길동', 'phone': '010-1234-5678', 'age': 20, 'gender': 'male'}\n",
      "{'name': '홍길동', 'phone': '010-1234-5678', 'age': 20}\n",
      "{}\n"
     ]
    }
   ],
   "source": [
    "a = {'name': '홍길동', 'phone': '010-1234-5678', 'age': 20, 'gender': 'male'}\n",
    "print(a)\n",
    "\n",
    "# del 딕셔너리 이름[key]\n",
    "del a['gender']\n",
    "print(a)\n",
    "\n",
    "# clear() 메서드로 딕셔너리에 저장된 모든 데이터를 제거할 수 있다.\n",
    "a.clear()\n",
    "print(a)\n",
    "\n",
    "# del 명령으로 딕셔너리 자체를 제거할 수 있다.\n",
    "del a\n",
    "# print(a)    # NameError"
   ],
   "metadata": {
    "collapsed": false
   }
  },
  {
   "cell_type": "markdown",
   "source": [
    "딕셔너리에 저장된 데이터 얻어오기"
   ],
   "metadata": {
    "collapsed": false
   }
  },
  {
   "cell_type": "code",
   "execution_count": 5,
   "outputs": [
    {
     "name": "stdout",
     "output_type": "stream",
     "text": [
      "{'name': '홍길동', 'phone': '010-1234-5678', 'age': 20, 'gender': 'male'}\n",
      "20\n",
      "male\n",
      "None\n",
      "================================================================================\n",
      "20\n",
      "male\n"
     ]
    }
   ],
   "source": [
    "a = {'name': '홍길동', 'phone': '010-1234-5678', 'age': 20, 'gender': 'male'}\n",
    "print(a)\n",
    "\n",
    "# 딕셔너리 이름.get(key)\n",
    "print(a.get('age'))\n",
    "print(a.get('gender'))\n",
    "print(a.get('email'))\n",
    "print('=' * 80) # None: 존재하지 않는 key 지정시 None이 리턴된다.\n",
    "\n",
    "# 딕셔너리 이름[key]\n",
    "print(a['age'])\n",
    "print(a['gender'])\n",
    "# print(a['email'])   # KeyError: 존재하지 않는 key 지정시 Error가 발생한다."
   ],
   "metadata": {
    "collapsed": false
   }
  },
  {
   "cell_type": "markdown",
   "source": [
    "딕셔너리 메서드"
   ],
   "metadata": {
    "collapsed": false
   }
  },
  {
   "cell_type": "code",
   "execution_count": 6,
   "outputs": [
    {
     "name": "stdout",
     "output_type": "stream",
     "text": [
      "{'name': '홍길동', 'phone': '010-1234-5678', 'age': 20, 'gender': 'male'}\n",
      "dict_keys(['name', 'phone', 'age', 'gender'])\n",
      "dict_values(['홍길동', '010-1234-5678', 20, 'male'])\n",
      "dict_items([('name', '홍길동'), ('phone', '010-1234-5678'), ('age', 20), ('gender', 'male')])\n"
     ]
    }
   ],
   "source": [
    "a = {'name': '홍길동', 'phone': '010-1234-5678', 'age': 20, 'gender': 'male'}\n",
    "print(a)\n",
    "\n",
    "# keys() 메서드로 딕셔너리에 저장된 key 목록만 얻어올 수 있다.\n",
    "print(a.keys())\n",
    "\n",
    "# values() 메서드로 딕셔너리에 저장된 value 목록만 얻어올 수 있다.\n",
    "print(a.values())\n",
    "\n",
    "# items() 메서드로 딕셔너리에 저장된 key와 value를 한 쌍으로 묶는 튜플 목록을 얻어올 수 있다.\n",
    "print(a.items())"
   ],
   "metadata": {
    "collapsed": false
   }
  },
  {
   "cell_type": "code",
   "execution_count": 6,
   "outputs": [],
   "source": [],
   "metadata": {
    "collapsed": false
   }
  }
 ],
 "metadata": {
  "kernelspec": {
   "display_name": "Python 3",
   "language": "python",
   "name": "python3"
  },
  "language_info": {
   "codemirror_mode": {
    "name": "ipython",
    "version": 2
   },
   "file_extension": ".py",
   "mimetype": "text/x-python",
   "name": "python",
   "nbconvert_exporter": "python",
   "pygments_lexer": "ipython2",
   "version": "2.7.6"
  }
 },
 "nbformat": 4,
 "nbformat_minor": 0
}
