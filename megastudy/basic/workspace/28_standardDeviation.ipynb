{
 "cells": [
  {
   "cell_type": "markdown",
   "source": [
    "# 분산, 표준편차\n",
    "n개의 데이터(999가 입력되기 전까지)를 입력받아 최대값과 최소값을 제외한 나머지 데이터의 표준편차를 계산하는 프로그램\n",
    "***\n",
    "V(x) = $\\sqrt{ \\frac{\\sum_{i=1}^{n}(x_i - \\bar{x})^2}{n-2} }$<br/>\n",
    "<img src=\"./images/stdDev.png\" width=\"700\"/>"
   ],
   "metadata": {
    "collapsed": false
   }
  },
  {
   "cell_type": "markdown",
   "source": [
    "최대값, 최소값 판단하기 - 1"
   ],
   "metadata": {
    "collapsed": false
   }
  },
  {
   "cell_type": "code",
   "execution_count": 4,
   "outputs": [
    {
     "name": "stdout",
     "output_type": "stream",
     "text": [
      "최대값: 91, 최소값: 35\n"
     ]
    }
   ],
   "source": [
    "# data = [35, 91, 75, 62, 84]\n",
    "# data = [1, 2, 3, 4, 5]\n",
    "data = [35, 62, 75, 84, 91]\n",
    "# 최대값을 기억할 변수는 아주 작은 값을, 최소값을 기억할 변수는 아주 큰 값을 초기값으로 넣어주고 비교한다.\n",
    "big = 0\n",
    "small = 100\n",
    "\n",
    "for score in data:\n",
    "    if score > big:\n",
    "        big = score\n",
    "    if score < small:  # elif 사용불가\n",
    "        small = score\n",
    "\n",
    "print(f'최대값: {big}, 최소값: {small}')"
   ],
   "metadata": {
    "collapsed": false
   }
  },
  {
   "cell_type": "markdown",
   "source": [
    "최대값, 최소값 판단하기 - 2"
   ],
   "metadata": {
    "collapsed": false
   }
  },
  {
   "cell_type": "code",
   "execution_count": 17,
   "outputs": [
    {
     "name": "stdout",
     "output_type": "stream",
     "text": [
      "최대값: 91, 최소값: 35\n"
     ]
    }
   ],
   "source": [
    "# data = [35, 91, 75, 62, 84]\n",
    "data = [35, 62, 75, 84, 91]\n",
    "# 최대값을 기억할 변수와 최소값을 기억할 변수에 리스트의 0번째 인덱스 요소를 각각 초기값으로 넣어주고 비교한다.\n",
    "big = data[0]\n",
    "small = data[0]\n",
    "\n",
    "# 리스트의 0번째 인덱스의 값을 초기값으로 지정했으므로 리스트의 1번째 인덱스 값부터 반복시키면 된다.\n",
    "for score in data[1:]:\n",
    "    if score > big:\n",
    "        big = score\n",
    "    elif score < small:  # elif 사용가능\n",
    "        small = score\n",
    "\n",
    "print(f'최대값: {big}, 최소값: {small}')"
   ],
   "metadata": {
    "collapsed": false
   }
  },
  {
   "cell_type": "markdown",
   "source": [
    "최대값, 최소값 판단하기 - 3"
   ],
   "metadata": {
    "collapsed": false
   }
  },
  {
   "cell_type": "code",
   "execution_count": 20,
   "outputs": [
    {
     "name": "stdout",
     "output_type": "stream",
     "text": [
      "최대값: 91, 최소값: 35\n",
      "최대값: 91, 최소값: 35\n"
     ]
    }
   ],
   "source": [
    "data = [35, 91, 75, 62, 84]\n",
    "\n",
    "data.sort()\n",
    "print(f'최대값: {data[-1]}, 최소값: {data[0]}')\n",
    "\n",
    "data.sort(reverse=True)\n",
    "print(f'최대값: {data[0]}, 최소값: {data[-1]}')"
   ],
   "metadata": {
    "collapsed": false
   }
  },
  {
   "cell_type": "markdown",
   "source": [
    "최대값, 최소값 판단하기 - 4"
   ],
   "metadata": {
    "collapsed": false
   }
  },
  {
   "cell_type": "code",
   "execution_count": 22,
   "outputs": [
    {
     "name": "stdout",
     "output_type": "stream",
     "text": [
      "최대값: 91, 최소값: 35\n"
     ]
    }
   ],
   "source": [
    "data = [35, 91, 75, 62, 84]\n",
    "print(f'최대값: {max(data)}, 최소값: {min(data)}')"
   ],
   "metadata": {
    "collapsed": false
   }
  },
  {
   "cell_type": "code",
   "execution_count": 26,
   "outputs": [
    {
     "name": "stdout",
     "output_type": "stream",
     "text": [
      "입력받은 데이터는 5개이고, 데이터는 [1, 2, 3, 4, 5]입니다.\n"
     ]
    }
   ],
   "source": [
    "# 표준편차를 계산할 데이터를 999가 입력될 때까지 입력받는다.\n",
    "score = []\n",
    "# 999가 몇 번째 데이터로 입력될 지 모르기 때문에 무한 루프를 돌린다.\n",
    "while True:\n",
    "    data = int(input('{}번째 표준편차를 계산할 데이터를 입력하세요.: '.format(len(score) + 1)))\n",
    "\n",
    "    # 입력받은 데이터가 999면 더 이상 데이터를 입력받을 필요 없으므로 무한 루프를 탈출한다.\n",
    "    if data == 999:\n",
    "        break\n",
    "    # ===== if\n",
    "\n",
    "    # 999가 입력되지 않았으므로 리스트에 입력받은 데이터를 추가한다.\n",
    "    score.append(data)\n",
    "# ===== while True\n",
    "\n",
    "print(f'입력받은 데이터는 {len(score)}개이고, 데이터는 {score}입니다.')"
   ],
   "metadata": {
    "collapsed": false
   }
  },
  {
   "cell_type": "markdown",
   "source": [
    "최대값과 최소값을 제외한 나머지 데이터의 평균을 계산한다. - 1"
   ],
   "metadata": {
    "collapsed": false
   }
  },
  {
   "cell_type": "code",
   "execution_count": 34,
   "outputs": [
    {
     "name": "stdout",
     "output_type": "stream",
     "text": [
      "최대값과 최소값을 제외한 나머지 데이터의 합계: 9\n",
      "최대값과 최소값을 제외한 나머지 데이터의 평균: 3.0\n"
     ]
    }
   ],
   "source": [
    "big = max(score)\n",
    "small = min(score)\n",
    "\n",
    "'''\n",
    "total = 0\n",
    "for s in score:\n",
    "    total += s\n",
    "total -= big + small\n",
    "'''\n",
    "\n",
    "total = sum(score) - big - small\n",
    "print(f'최대값과 최소값을 제외한 나머지 데이터의 합계: {total}')\n",
    "mean = total / (len(score) - 2)\n",
    "print(f'최대값과 최소값을 제외한 나머지 데이터의 평균: {mean}')"
   ],
   "metadata": {
    "collapsed": false
   }
  },
  {
   "cell_type": "markdown",
   "source": [
    "최대값과 최소값을 제외한 나머지 데이터의 평균을 계산한다. - 2"
   ],
   "metadata": {
    "collapsed": false
   }
  },
  {
   "cell_type": "code",
   "execution_count": 37,
   "outputs": [
    {
     "name": "stdout",
     "output_type": "stream",
     "text": [
      "최대값과 최소값을 제외한 나머지 데이터의 합계: 9\n",
      "최대값과 최소값을 제외한 나머지 데이터의 평균: 3.0\n"
     ]
    }
   ],
   "source": [
    "score.sort()\n",
    "\n",
    "'''\n",
    "total = 0\n",
    "for s in range(1, len(score) - 1):\n",
    "    total += score[s]\n",
    "'''\n",
    "\n",
    "# total = sum(score[1:len(score) - 1])\n",
    "total = sum(score[1:-1])\n",
    "print(f'최대값과 최소값을 제외한 나머지 데이터의 합계: {total}')\n",
    "mean = total / (len(score) - 2)\n",
    "print(f'최대값과 최소값을 제외한 나머지 데이터의 평균: {mean}')"
   ],
   "metadata": {
    "collapsed": false
   }
  },
  {
   "cell_type": "markdown",
   "source": [
    "최대값과 최소값을 제외한 나머지 데이터와 산술평균의 편차의 제곱의 합계를 계산한다."
   ],
   "metadata": {
    "collapsed": false
   }
  },
  {
   "cell_type": "code",
   "execution_count": 42,
   "outputs": [
    {
     "name": "stdout",
     "output_type": "stream",
     "text": [
      "최대값과 최소값을 제외한 나머지 데이터와 산술평균의 편차의 제곱의 합계: 2.0\n"
     ]
    }
   ],
   "source": [
    "import math\n",
    "total = 0\n",
    "for s in score[1:-1]:\n",
    "    # total += (s - mean) ** 2\n",
    "    total += math.pow(s - mean, 2)\n",
    "print('최대값과 최소값을 제외한 나머지 데이터와 산술평균의 편차의 제곱의 합계: {}'.format(total))"
   ],
   "metadata": {
    "collapsed": false
   }
  },
  {
   "cell_type": "markdown",
   "source": [
    "# 최대값과 최소값을 제외한 나머지 데이터의 분산\n",
    "최대값과 최소값을 제외한 나머지 데이터와 산술평균의 편차의 제곱의 합계를 계산한다."
   ],
   "metadata": {
    "collapsed": false
   }
  },
  {
   "cell_type": "code",
   "execution_count": 45,
   "outputs": [
    {
     "name": "stdout",
     "output_type": "stream",
     "text": [
      "최대값과 최소값을 제외한 나머지 데이터의 분산: 0.6666666666666666\n"
     ]
    }
   ],
   "source": [
    "var = total / (len(score) - 2)\n",
    "print('최대값과 최소값을 제외한 나머지 데이터의 분산: {}'.format(var))"
   ],
   "metadata": {
    "collapsed": false
   }
  },
  {
   "cell_type": "markdown",
   "source": [
    "# 최대값과 최소값을 제외한 나머지 데이터의 표준 편차\n",
    "표준편차는 분산의 제곱근이다."
   ],
   "metadata": {
    "collapsed": false
   }
  },
  {
   "cell_type": "code",
   "execution_count": 47,
   "outputs": [
    {
     "name": "stdout",
     "output_type": "stream",
     "text": [
      "최대값과 최소값을 제외한 나머지 데이터의 표준편차: 0.816496580927726\n"
     ]
    }
   ],
   "source": [
    "# std = var ** 0.5\n",
    "std = math.sqrt(var)\n",
    "print('최대값과 최소값을 제외한 나머지 데이터의 표준편차: {}'.format(std))"
   ],
   "metadata": {
    "collapsed": false
   }
  },
  {
   "cell_type": "markdown",
   "source": [
    "# numpy 라이브러리를 이용해서 분산과 표준편차 계산하기\n",
    "numpy는 파이썬을 설치할 때 자동으로 설치되는 라이브러리가 아니기 때문에 별도로 설치하는 과정이 필요하다.\n",
    "콘솔 창에서는 pip install numpy와 같이 입력해서 설치하면 되고 주피터 노트북에서 바로 라이브러리를 설치하려면 pip 앞에 '!'를 붙여서 실행하면 된다."
   ],
   "metadata": {
    "collapsed": false
   }
  },
  {
   "cell_type": "code",
   "execution_count": 48,
   "outputs": [],
   "source": [
    "# !pip install numpy"
   ],
   "metadata": {
    "collapsed": false
   }
  },
  {
   "cell_type": "code",
   "execution_count": 49,
   "outputs": [],
   "source": [
    "import numpy as np"
   ],
   "metadata": {
    "collapsed": false
   }
  },
  {
   "cell_type": "code",
   "execution_count": 50,
   "outputs": [
    {
     "name": "stdout",
     "output_type": "stream",
     "text": [
      "최대값과 최소값을 제외한 나머지 데이터의 분산: 0.6666666666666666\n",
      "최대값과 최소값을 제외한 나머지 데이터의 표준편차: 0.816496580927726\n"
     ]
    }
   ],
   "source": [
    "print('최대값과 최소값을 제외한 나머지 데이터의 분산: {}'.format(np.var(score[1:-1])))\n",
    "print('최대값과 최소값을 제외한 나머지 데이터의 표준편차: {}'.format(np.std(score[1:-1])))"
   ],
   "metadata": {
    "collapsed": false
   }
  },
  {
   "cell_type": "code",
   "execution_count": null,
   "outputs": [],
   "source": [],
   "metadata": {
    "collapsed": false
   }
  }
 ],
 "metadata": {
  "kernelspec": {
   "display_name": "Python 3",
   "language": "python",
   "name": "python3"
  },
  "language_info": {
   "codemirror_mode": {
    "name": "ipython",
    "version": 2
   },
   "file_extension": ".py",
   "mimetype": "text/x-python",
   "name": "python",
   "nbconvert_exporter": "python",
   "pygments_lexer": "ipython2",
   "version": "2.7.6"
  }
 },
 "nbformat": 4,
 "nbformat_minor": 0
}
