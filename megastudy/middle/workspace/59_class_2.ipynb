{
 "cells": [
  {
   "cell_type": "code",
   "execution_count": 2,
   "outputs": [],
   "source": [
    "import math"
   ],
   "metadata": {
    "collapsed": false
   }
  },
  {
   "cell_type": "code",
   "execution_count": 3,
   "metadata": {
    "collapsed": true
   },
   "outputs": [
    {
     "name": "stdout",
     "output_type": "stream",
     "text": [
      "3.141592653589793\n"
     ]
    }
   ],
   "source": [
    "print(math.pi)"
   ]
  },
  {
   "cell_type": "code",
   "execution_count": 25,
   "outputs": [],
   "source": [
    "# 반지름을 인수로 넘겨받아 원의 너비와 둘레를 계산하는 함수를 포함하는 클래스\n",
    "class Circle:\n",
    "\n",
    "    def __init__(self, radius = 0):\n",
    "        self.radius = radius\n",
    "        self.length = 2 * math.pi * radius\n",
    "        self.area = math.pi * radius ** 2\n",
    "\n",
    "    def __str__(self):\n",
    "        return f'반지름: {self.radius}, 원의 둘레: {self.length:.2f}, 원의 넓이: {self.area:.2f}'\n",
    "\n",
    "    def get_length(self):\n",
    "        print(f'반지름이 {self.radius}인 원의 둘레: {self.length}')\n",
    "\n",
    "    def get_area(self):\n",
    "        print(f'반지름이 {self.radius}인 원의 넓이: {self.area}')"
   ],
   "metadata": {
    "collapsed": false
   }
  },
  {
   "cell_type": "code",
   "execution_count": 26,
   "outputs": [
    {
     "name": "stdout",
     "output_type": "stream",
     "text": [
      "반지름: 5, 원의 둘레: 31.42, 원의 넓이: 78.54\n"
     ]
    }
   ],
   "source": [
    "circle = Circle(5)\n",
    "print(circle)"
   ],
   "metadata": {
    "collapsed": false
   }
  },
  {
   "cell_type": "code",
   "execution_count": null,
   "outputs": [],
   "source": [],
   "metadata": {
    "collapsed": false
   }
  }
 ],
 "metadata": {
  "kernelspec": {
   "display_name": "Python 3",
   "language": "python",
   "name": "python3"
  },
  "language_info": {
   "codemirror_mode": {
    "name": "ipython",
    "version": 2
   },
   "file_extension": ".py",
   "mimetype": "text/x-python",
   "name": "python",
   "nbconvert_exporter": "python",
   "pygments_lexer": "ipython2",
   "version": "2.7.6"
  }
 },
 "nbformat": 4,
 "nbformat_minor": 0
}
