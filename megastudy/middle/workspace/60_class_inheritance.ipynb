{
 "cells": [
  {
   "cell_type": "markdown",
   "source": [
    "# 클래스 상속\n",
    "상속이란 부모 클래스에서 정의한 멤버 변수와 함수를 자식 클래스에서 별도로 정의하지 않고도 정의한 것처럼 사용할 수 있게 해주는 기능을 말한다.\n",
    "***\n",
    "상속의 형식\n",
    "class 자식_클래스명(부모_클래스명)"
   ],
   "metadata": {
    "collapsed": false
   }
  },
  {
   "cell_type": "code",
   "execution_count": 1,
   "outputs": [],
   "source": [
    "# 부모(상위, 수퍼, 기반) 클래스\n",
    "class Parent:\n",
    "    def __init__(self, name='무명인', gender=False):\n",
    "        print('부모 클래스의 초기자 실행')\n",
    "        self.name = name\n",
    "        self.gender = gender\n",
    "\n",
    "    def __str__(self):\n",
    "        return f'{self.name}({\"남\" if self.gender else \"여\"})'"
   ],
   "metadata": {
    "collapsed": false
   }
  },
  {
   "cell_type": "code",
   "execution_count": 6,
   "outputs": [
    {
     "name": "stdout",
     "output_type": "stream",
     "text": [
      "부모 클래스의 초기자 실행\n",
      "무명인(여)\n",
      "부모 클래스의 초기자 실행\n",
      "이몽룡(남)\n",
      "부모 클래스의 초기자 실행\n",
      "성춘향(여)\n"
     ]
    }
   ],
   "source": [
    "# 부모 클래스가 잘 생성되었는지 확인한다.\n",
    "parent1 = Parent()\n",
    "print(parent1)\n",
    "parent2 = Parent('이몽룡', True)\n",
    "print(parent2)\n",
    "parent3 = Parent('성춘향', False)\n",
    "print(parent3)"
   ],
   "metadata": {
    "collapsed": false
   }
  },
  {
   "cell_type": "code",
   "execution_count": 16,
   "outputs": [],
   "source": [
    "# 자식(하위, 서브, 파생) 클래스\n",
    "# 부모(Parent) 클래스를 상속받아 자식(Child) 클래스를 만든다.\n",
    "class Child(Parent):\n",
    "    # 부모 클래스로부터 __init__(self, name='무명인', gender=False), __str__(self), self.name, self.gender를 상속 받았으므로 별도의 선언 과정 없이 사용할 수 있다.\n",
    "    # 부모 클래스로부터 상속받은 함수의 기능만으로는 자식 클래스에서 사용하기에 불충분하므로 자식 클래스에서 다시 만들어 사용해야 한다.(Override)\n",
    "    def __init__(self, name='무명인', gender=False, age=0, nickname='null'):\n",
    "        # 부모 클래스로부터 상속받은 멤버 변수는 부모 클래스의 초기자를 호출해서 초기화한다.\n",
    "        # super(): 부모 클래스를 의미한다.(Java에서는 부모 클래스 생성자이지만 Python은 아님!!)\n",
    "        super().__init__(name, gender)\n",
    "        print('자식 클래스의 초기자 실행')\n",
    "        # 자식 클래스에서 선언한 멤버 변수를 초기화한다.\n",
    "        self.age = age\n",
    "        self.nickname = nickname\n",
    "\n",
    "    def __str__(self):\n",
    "        return '{}({}) - {}, {}'.format(self.name, '남' if self.gender else '여', self.age, self.nickname)"
   ],
   "metadata": {
    "collapsed": false
   }
  },
  {
   "cell_type": "code",
   "execution_count": 19,
   "outputs": [
    {
     "name": "stdout",
     "output_type": "stream",
     "text": [
      "부모 클래스의 초기자 실행\n",
      "자식 클래스의 초기자 실행\n",
      "홍길동(남) - 20, 도적\n",
      "홍길동\n",
      "True\n"
     ]
    }
   ],
   "source": [
    "child = Child('홍길동', True, 20, '도적')\n",
    "print(child)\n",
    "print(child.name)\n",
    "print(child.gender)"
   ],
   "metadata": {
    "collapsed": false
   }
  },
  {
   "cell_type": "code",
   "execution_count": null,
   "outputs": [],
   "source": [],
   "metadata": {
    "collapsed": false
   }
  }
 ],
 "metadata": {
  "kernelspec": {
   "display_name": "Python 3",
   "language": "python",
   "name": "python3"
  },
  "language_info": {
   "codemirror_mode": {
    "name": "ipython",
    "version": 2
   },
   "file_extension": ".py",
   "mimetype": "text/x-python",
   "name": "python",
   "nbconvert_exporter": "python",
   "pygments_lexer": "ipython2",
   "version": "2.7.6"
  }
 },
 "nbformat": 4,
 "nbformat_minor": 0
}
