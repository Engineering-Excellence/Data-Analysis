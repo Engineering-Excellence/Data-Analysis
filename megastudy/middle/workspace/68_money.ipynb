{
 "cells": [
  {
   "cell_type": "markdown",
   "source": [
    "<img src=\"images/money_1.png\" width=\"1500\"/>\n",
    "<img src=\"images/money_2.png\" width=\"1500\"/>\n",
    "<img src=\"images/money_3.png\" width=\"1500\"/>"
   ],
   "metadata": {
    "collapsed": false
   }
  },
  {
   "cell_type": "code",
   "execution_count": 15,
   "outputs": [
    {
     "name": "stdout",
     "output_type": "stream",
     "text": [
      "강감찬 120495  2  2  0  0  0  4  1  4  1  0 \n",
      "김유신 531039 10  3  0  1  0  0  0  3  1  4 \n",
      "전체 화폐 매수: [12, 5, 0, 1, 0, 4, 1, 7, 2, 4]\n"
     ]
    }
   ],
   "source": [
    "tm = [0 for k in range(10)]  # 전체 화폐 매수를 기억할 리스트를 선언한다.\n",
    "# noinspection PyRedeclaration\n",
    "pm = [0 for k in range(10)]  # 개인별 화폐 매수를 기억할 리스트를 선언한다.\n",
    "# print(f'tm = {tm}\\npm = {pm}')\n",
    "\n",
    "# 이름에 'quit'가 입력될 때까지 반복하며 화폐 매수를 계산한다.\n",
    "while True:\n",
    "    n = input('이름을 입력하세요.: ')\n",
    "    if n.upper() == 'QUIT':\n",
    "        break\n",
    "    p = int(input('출장비를 입력하세요.: '))\n",
    "\n",
    "    t = p  # 나중에 입력받은 출장비를 출력하기 위해 출장비의 복사본을 만든다.\n",
    "    m = 50000  # 화폐 매수를 계산할 화폐 권종을 초기화한다.\n",
    "    sw = 1\n",
    "\n",
    "    # 화폐 권종의 개수 만큼 반복하며 개인별 출장비의 화폐 매수를 계산한다.\n",
    "    for k in range(10):\n",
    "        pm[k] = t // m  # 권종별 화폐 매수를 계산한다.\n",
    "        t %= m  # 다음 화폐 권종의 매수를 계산하기 위해 권종별 화폐 매수를 계산하고 남은 나머지 금액을 계산한다.\n",
    "        # 다음 화폐 권종을 계산한다.\n",
    "        if sw == 1:\n",
    "            m //= 5\n",
    "            sw = 0\n",
    "        else:\n",
    "            m //= 2\n",
    "            sw = 1\n",
    "    # ===== for\n",
    "\n",
    "    # 이름과 개인별 화폐 권종 수를 출력하고 전체 화폐 매수를 계산한다.\n",
    "    print(n, p, end=' ')\n",
    "    for k in range(10):\n",
    "        print(f'{pm[k]:2d}', end=' ')\n",
    "        tm[k] += pm[k]\n",
    "    # ===== for\n",
    "    print()\n",
    "\n",
    "# ===== while True\n",
    "print(f'전체 화폐 매수: {tm}')"
   ],
   "metadata": {
    "collapsed": false
   }
  },
  {
   "cell_type": "code",
   "execution_count": 16,
   "outputs": [],
   "source": [
    "# 개인별 이름과 출장비, 출장비에 따른 화폐 권종별 화폐 매수를 기억하는 클래스\n",
    "class Money:\n",
    "    def __init__(self, name, money):\n",
    "        self.name = name\n",
    "        self.money = money\n",
    "        # 개인별 화폐 매수를 계산한다.\n",
    "        self.pm = [0 for k in range(10)]\n",
    "        t = money\n",
    "        m = 50000\n",
    "        sw = 1\n",
    "        for k in range(10):\n",
    "            self.pm[k] = t // m\n",
    "            t %= m\n",
    "            if sw == 1:\n",
    "                m //= 5\n",
    "                sw = 0\n",
    "            else:\n",
    "                m //= 2\n",
    "                sw = 1\n",
    "        # ===== for\n",
    "    # ===== __init__\n",
    "\n",
    "    def __str__(self):\n",
    "        return f'{self.name}, {self.money}, {self.pm}'"
   ],
   "metadata": {
    "collapsed": false
   }
  },
  {
   "cell_type": "code",
   "execution_count": 17,
   "outputs": [
    {
     "name": "stdout",
     "output_type": "stream",
     "text": [
      "홍길동\n",
      "123456\n",
      "[2, 2, 0, 3, 0, 4, 1, 0, 1, 1]\n",
      "홍길동, 123456, [2, 2, 0, 3, 0, 4, 1, 0, 1, 1]\n"
     ]
    }
   ],
   "source": [
    "money = Money('홍길동', 123456)\n",
    "print(money.name)\n",
    "print(money.money)\n",
    "print(money.pm)\n",
    "print(money)"
   ],
   "metadata": {
    "collapsed": false
   }
  },
  {
   "cell_type": "code",
   "execution_count": 19,
   "outputs": [],
   "source": [
    "m = []\n",
    "while True:\n",
    "    n = input('이름을 입력하세요.: ')\n",
    "    if n.upper() == 'QUIT':\n",
    "        break\n",
    "    p = int(input('출장비를 입력하세요.: '))\n",
    "    money = Money(n, p)\n",
    "    m.append(money)"
   ],
   "metadata": {
    "collapsed": false
   }
  },
  {
   "cell_type": "code",
   "execution_count": 20,
   "outputs": [
    {
     "name": "stdout",
     "output_type": "stream",
     "text": [
      "강감찬, 120538, [2, 2, 0, 0, 1, 0, 0, 3, 1, 3]\n",
      "홍길동, 120584, [2, 2, 0, 0, 1, 0, 1, 3, 0, 4]\n",
      "김유신, 306845, [6, 0, 1, 1, 1, 3, 0, 4, 1, 0]\n"
     ]
    }
   ],
   "source": [
    "for k in m:\n",
    "    print(k)"
   ],
   "metadata": {
    "collapsed": false
   }
  },
  {
   "cell_type": "code",
   "execution_count": 64,
   "outputs": [
    {
     "name": "stdout",
     "output_type": "stream",
     "text": [
      "출장비 지급 일람표\n",
      "================================================================================\n",
      " 이름      출장비    50000 10000  5000  1000  500   100    50    10    5     1\n",
      "================================================================================\n",
      "강감찬     120,538     2     2     0     0     1     0     0     3     1     3\n",
      "홍길동     120,584     2     2     0     0     1     0     1     3     0     4\n",
      "김유신     306,845     6     0     1     1     1     3     0     4     1     0\n",
      "================================================================================\n",
      " 합계:                10     4     1     1     3     3     1    10     2     7\n",
      "================================================================================\n"
     ]
    }
   ],
   "source": [
    "print('출장비 지급 일람표')\n",
    "print('=' * 80)\n",
    "print(' 이름      출장비    50000 10000  5000  1000  500   100    50    10    5     1')\n",
    "print('=' * 80)\n",
    "tm = [0 for k in range(10)]\n",
    "for i in m:\n",
    "    print(f'{i.name:4s} {i.money:10,d}', end='')\n",
    "    for j in range(10):\n",
    "        print(f'{i.pm[j]:6d}', end='')\n",
    "        tm[j] += i.pm[j]\n",
    "    print()\n",
    "print('=' * 80)\n",
    "print(' 합계:            ', end='')\n",
    "for i in range(10):\n",
    "    print(f'{tm[i]:6d}', end='')\n",
    "print()\n",
    "print('=' * 80)"
   ],
   "metadata": {
    "collapsed": false
   }
  },
  {
   "cell_type": "code",
   "execution_count": null,
   "outputs": [],
   "source": [],
   "metadata": {
    "collapsed": false
   }
  }
 ],
 "metadata": {
  "kernelspec": {
   "display_name": "Python 3",
   "language": "python",
   "name": "python3"
  },
  "language_info": {
   "codemirror_mode": {
    "name": "ipython",
    "version": 2
   },
   "file_extension": ".py",
   "mimetype": "text/x-python",
   "name": "python",
   "nbconvert_exporter": "python",
   "pygments_lexer": "ipython2",
   "version": "2.7.6"
  }
 },
 "nbformat": 4,
 "nbformat_minor": 0
}
