{
 "cells": [
  {
   "cell_type": "code",
   "execution_count": 5,
   "metadata": {
    "collapsed": true
   },
   "outputs": [
    {
     "name": "stdout",
     "output_type": "stream",
     "text": [
      "스택에 저장된 데이터: 없음\n"
     ]
    }
   ],
   "source": [
    "# stackModule 전체를 import 했기 때문에 Stack 클래스를 사용하려면 앞에 '모듈명.'을 붙여서 사용해야 한다.\n",
    "'''\n",
    "import stackModule\n",
    "stack = stackModule.Stack()\n",
    "stack.view()\n",
    "'''"
   ]
  },
  {
   "cell_type": "code",
   "execution_count": 6,
   "outputs": [
    {
     "name": "stdout",
     "output_type": "stream",
     "text": [
      "스택에 저장된 데이터: 없음\n"
     ]
    }
   ],
   "source": [
    "# stackModule 전체를 import 하지 않고 Stack 클래스만 import 해서 사용한다.\n",
    "# Stack 클래스만 import 했으므로 위의 경우처럼 '모듈명.'을 붙일 필요 없이 바로 사용할 수 있다.\n",
    "from stackModule import Stack\n",
    "\n",
    "stack = Stack()\n",
    "stack.view()"
   ],
   "metadata": {
    "collapsed": false
   }
  },
  {
   "cell_type": "code",
   "execution_count": 7,
   "outputs": [
    {
     "name": "stdout",
     "output_type": "stream",
     "text": [
      "===============================\n",
      " 1.push  2.pop  3.view  4.exit \n",
      "===============================\n",
      "메뉴는 1 ~ 4 사이의 값을 입력해야 합니다.\n",
      "===============================\n",
      " 1.push  2.pop  3.view  4.exit \n",
      "===============================\n",
      "메뉴는 1 ~ 4 사이의 값을 입력해야 합니다.\n",
      "===============================\n",
      " 1.push  2.pop  3.view  4.exit \n",
      "===============================\n",
      "스택에 저장된 데이터: 3 \n",
      "===============================\n",
      " 1.push  2.pop  3.view  4.exit \n",
      "===============================\n",
      "스택에 저장된 데이터: 3 5 \n",
      "===============================\n",
      " 1.push  2.pop  3.view  4.exit \n",
      "===============================\n",
      "스택에 저장된 데이터: 3 5 123 \n",
      "===============================\n",
      " 1.push  2.pop  3.view  4.exit \n",
      "===============================\n",
      "스택에 저장된 데이터: 3 5 123 77 \n",
      "===============================\n",
      " 1.push  2.pop  3.view  4.exit \n",
      "===============================\n",
      "스택에 저장된 데이터: 3 5 123 77 \n",
      "===============================\n",
      " 1.push  2.pop  3.view  4.exit \n",
      "===============================\n",
      "스택에 저장된 데이터: 3 5 123 77 \n",
      "===============================\n",
      " 1.push  2.pop  3.view  4.exit \n",
      "===============================\n",
      "스택에 저장된 데이터: 3 5 123 77 \n",
      "===============================\n",
      " 1.push  2.pop  3.view  4.exit \n",
      "===============================\n",
      "스택에 저장된 데이터: 3 5 123 77 \n",
      "===============================\n",
      " 1.push  2.pop  3.view  4.exit \n",
      "===============================\n",
      "스택에 저장된 데이터: 3 5 123 77 \n",
      "===============================\n",
      " 1.push  2.pop  3.view  4.exit \n",
      "===============================\n",
      "스택에서 제거된 데이터: 77\n",
      "스택에 저장된 데이터: 3 5 123 \n",
      "===============================\n",
      " 1.push  2.pop  3.view  4.exit \n",
      "===============================\n",
      "스택에서 제거된 데이터: 123\n",
      "스택에 저장된 데이터: 3 5 \n",
      "===============================\n",
      " 1.push  2.pop  3.view  4.exit \n",
      "===============================\n",
      "프로그램을 종료합니다.\n"
     ]
    }
   ],
   "source": [
    "menu = 0\n",
    "\n",
    "while menu != 4:\n",
    "    while True:\n",
    "        print('=' * 31)\n",
    "        print(' 1.push  2.pop  3.view  4.exit ')\n",
    "        print('=' * 31)\n",
    "        menu = int(input('원하는 메뉴를 입력하고 Enter 키를 누르세요: '))\n",
    "        if menu in [1, 2, 3, 4]:\n",
    "            break\n",
    "        else:\n",
    "            print('메뉴는 1 ~ 4 사이의 값을 입력해야 합니다.')\n",
    "    # ===== while True\n",
    "\n",
    "    if menu == 1:\n",
    "        data = input('스택에 저장할 데이터: ')\n",
    "        stack.push(data)\n",
    "    elif menu == 2:\n",
    "        stack.pop()\n",
    "    elif menu == 3:\n",
    "        stack.view()\n",
    "    # ===== if\n",
    "# ===== while\n",
    "print('프로그램을 종료합니다.')"
   ],
   "metadata": {
    "collapsed": false
   }
  },
  {
   "cell_type": "code",
   "execution_count": null,
   "outputs": [],
   "source": [],
   "metadata": {
    "collapsed": false
   }
  }
 ],
 "metadata": {
  "kernelspec": {
   "display_name": "Python 3",
   "language": "python",
   "name": "python3"
  },
  "language_info": {
   "codemirror_mode": {
    "name": "ipython",
    "version": 2
   },
   "file_extension": ".py",
   "mimetype": "text/x-python",
   "name": "python",
   "nbconvert_exporter": "python",
   "pygments_lexer": "ipython2",
   "version": "2.7.6"
  }
 },
 "nbformat": 4,
 "nbformat_minor": 0
}
