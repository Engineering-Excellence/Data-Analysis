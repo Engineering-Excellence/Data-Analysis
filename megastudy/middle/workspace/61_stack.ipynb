{
 "cells": [
  {
   "cell_type": "markdown",
   "source": [
    "# 스택"
   ],
   "metadata": {
    "collapsed": false
   }
  },
  {
   "cell_type": "code",
   "execution_count": 40,
   "outputs": [],
   "source": [
    "class Stack:\n",
    "\n",
    "    # Stack 클래스가 생성될 때 스택의 크기를 넘겨받으면 해당 스택 크기 만큼의 기억공간을 가지는 스택을 생성하고, 스택 크기를 넘겨받지 않으면 5개의 데이터를 저장할 수 있는 스택을 만든다. → 디폴트 인수 사용\n",
    "    def __init__(self, size=5):\n",
    "        # print(f'스택의 크기: {size}')\n",
    "        # 초기자 함수에서 스택으로 사용할 빈 리스트를 만든다.\n",
    "        self.stack = []  # stack → 빈 리스트 → 데이터는 append() 메서드로 추가한다.\n",
    "        self.size = size  # 스택의 크기\n",
    "        # top(SP, Stack Pointer): 스택에 몇 개의 데이터가 저장되었는지 기억한다.\n",
    "        # 데이터가 입력되면 1 증가, 데이터가 출력되면 1 감소 → 스택의 크기와 비교해서 Overflow/Underflow를 처리한다.\n",
    "        self.top = 0\n",
    "\n",
    "    # push(입력)\n",
    "    def push(self, data):\n",
    "        if data not in self.stack:  # 스택에 저장하려는 데이터가 스택에 존재하지 않을 때\n",
    "            # 스택에 저장하려는 데이터가 스택에 존재하지 않으므로 저장하기 전에 Overflow인지 검사한다.\n",
    "            # 스택의 크기가 5일 때 스택으로 사용할 리스트의 인덱스는 0, 1, 2, 3, 4만 사용할 수 있다.\n",
    "            if self.top < self.size:\n",
    "                # Overflow가 발생되지 않았으므로 스택에 데이터를 저장한다.\n",
    "                self.stack.append(data)\n",
    "                self.top += 1\n",
    "                # print(self.stack)\n",
    "            else:\n",
    "                # Overflow가 발생되면 스택이 가득 찼다는 메시지를 출력한다.\n",
    "                print(f'Overflow 발생! 스택이 가득 차서 {data}을(를) 저장할 수 없습니다.')\n",
    "                # print(self.stack)\n",
    "        else:\n",
    "            print(f'{data}는 중복된 데이터입니다.')\n",
    "            # print(self.stack)\n",
    "        # 스택에 저장된 데이터를 출력하는 함수(view)를 실행한다.\n",
    "        # 현재 클래스 내부에 다른 함수를 실행하려는 경우 앞에 'self'를 붙여서 실행해야 한다.\n",
    "        self.view()\n",
    "\n",
    "    # view(보기): 스택에 저장된 데이터를 출력한다.\n",
    "    def view(self):\n",
    "        print('스택에 저장된 데이터: ', end='')\n",
    "        # Underflow인지 검사한다.\n",
    "        if self.top <= 0:\n",
    "            print('없음')\n",
    "        else:\n",
    "            # 스택에 저장된 데이터의 개수 만큼 반복하며 스택에 저장된 데이터를 출력한다.\n",
    "            # for i in range(len(self.stack)):\n",
    "            # for i in range(self.top):\n",
    "            #     print(self.stack[i], end=' ')\n",
    "            for s in self.stack:\n",
    "                print(s, end=' ')\n",
    "            print()\n",
    "\n",
    "    # pop(출력)\n",
    "    def pop(self):\n",
    "        # Underflow인지 검사한다.\n",
    "        if self.top <= 0:\n",
    "            print('스택에 저장된 데이터가 없습니다.')\n",
    "        else:\n",
    "            # 파이썬 리스트 메서드 중에서 pop() 메서드를 사용해서 스택에 저장된 데이터를 얻어온 후 리스트에서 제거한다.\n",
    "            print(f'스택에서 제거된 데이터: {self.stack.pop()}')\n",
    "            # 스택에 저장된 데이터가 출력되었으므로 top을 1 감소시킨다.\n",
    "            self.top -= 1\n",
    "            self.view()"
   ],
   "metadata": {
    "collapsed": false
   }
  },
  {
   "cell_type": "code",
   "execution_count": 41,
   "outputs": [
    {
     "name": "stdout",
     "output_type": "stream",
     "text": [
      "스택에 저장된 데이터: 없음\n",
      "스택에 저장된 데이터가 없습니다.\n",
      "스택에 저장된 데이터: 2022 \n",
      "2022는 중복된 데이터입니다.\n",
      "스택에 저장된 데이터: 2022 \n",
      "스택에 저장된 데이터: 2022 DEC \n",
      "스택에 저장된 데이터: 2022 DEC 7th \n",
      "스택에 저장된 데이터: 2022 DEC 7th 13h \n",
      "스택에 저장된 데이터: 2022 DEC 7th 13h 13m \n",
      "================================================================================\n",
      "스택에 저장된 데이터: 2022 DEC 7th 13h 13m \n",
      "================================================================================\n",
      "스택에서 제거된 데이터: 13m\n",
      "스택에 저장된 데이터: 2022 DEC 7th 13h \n",
      "스택에서 제거된 데이터: 13h\n",
      "스택에 저장된 데이터: 2022 DEC 7th \n",
      "스택에서 제거된 데이터: 7th\n",
      "스택에 저장된 데이터: 2022 DEC \n",
      "스택에서 제거된 데이터: DEC\n",
      "스택에 저장된 데이터: 2022 \n",
      "스택에서 제거된 데이터: 2022\n",
      "스택에 저장된 데이터: 없음\n",
      "스택에 저장된 데이터가 없습니다.\n",
      "스택에 저장된 데이터: 없음\n"
     ]
    }
   ],
   "source": [
    "if __name__ == '__main__':\n",
    "    stack = Stack()\n",
    "    stack.view()\n",
    "    stack.pop()\n",
    "    stack.push(2022)\n",
    "    stack.push(2022)\n",
    "    stack.push('DEC')\n",
    "    stack.push('7th')\n",
    "    stack.push('13h')\n",
    "    stack.push('13m')\n",
    "    print('=' * 80)\n",
    "    stack.view()\n",
    "    print('=' * 80)\n",
    "    stack.pop()\n",
    "    stack.pop()\n",
    "    stack.pop()\n",
    "    stack.pop()\n",
    "    stack.pop()\n",
    "    stack.pop()\n",
    "    stack.view()"
   ],
   "metadata": {
    "collapsed": false
   }
  },
  {
   "cell_type": "code",
   "execution_count": null,
   "outputs": [],
   "source": [],
   "metadata": {
    "collapsed": false
   }
  }
 ],
 "metadata": {
  "kernelspec": {
   "display_name": "Python 3",
   "language": "python",
   "name": "python3"
  },
  "language_info": {
   "codemirror_mode": {
    "name": "ipython",
    "version": 2
   },
   "file_extension": ".py",
   "mimetype": "text/x-python",
   "name": "python",
   "nbconvert_exporter": "python",
   "pygments_lexer": "ipython2",
   "version": "2.7.6"
  }
 },
 "nbformat": 4,
 "nbformat_minor": 0
}
