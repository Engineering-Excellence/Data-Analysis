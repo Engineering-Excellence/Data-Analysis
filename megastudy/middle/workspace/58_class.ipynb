{
 "cells": [
  {
   "cell_type": "markdown",
   "source": [
    "# Class\n",
    "class는 데이터와 데이터를 처리하는 함수(클래스 내부에서 만든 함수를 메서드라고 부른다.)를 가지고 있는 자료형이다."
   ],
   "metadata": {
    "collapsed": false
   }
  },
  {
   "cell_type": "code",
   "execution_count": 1,
   "outputs": [],
   "source": [
    "'''\n",
    "형식\n",
    "class 클래스명: # 클래스 이름은 다른 변수와 헷갈리지 않게 하기 위해서 일반적으로 첫 문자를 대문자로 만들어 사용한다.\n",
    "\n",
    "    # 초기자(생성자) 함수를 만든다. → __init__()\n",
    "    # 초기자(Initializer)란 객체(클래스로 만든 변수)가 생성될 때 자동으로 실행되는 함수이다.\n",
    "    # 클래스 내부에서 선언하는 모든 함수의 첫번째 인수는 반드시 self를 써야 한다.\n",
    "    # self라는 변수에는 클래스의 객체가 메모리에 생성된 주소가 넘어온다. → self로 넘어온 주소로 객체를 식별한다.\n",
    "    # 생성자는 class의 멤버 변수(클래스 내부의 모든 함수에서 사용할 수 있는 변수)를 초기화하는 목적으로 주로 사용된다.\n",
    "    # def __init__(self[, ...]):\n",
    "        # 멤버 변수 초기화\n",
    "        # 변수명 앞에 'self'가 붙어있는 변수를 멤버 변수라 부르고, 클래스 전체에서 사용할 수 있다.\n",
    "        # 변수명 앞에 'self'가 붙어있지 않은 변수를 지역 변수라 부르고, 선언된 함수에서만 사용할 수 있다.\n",
    "\n",
    "    # 클래스에 저장된 데이터 출력에 사용하는 함수: __str__(self)는 Java의 toString() 메서드와 같은 기능을 한다.\n",
    "    def __str__(self):\n",
    "        # return 뒤에 클래스 객체를 출력할 때 출력할 내용을 반드시 문자열 형태로 만들어 리턴시킨다.\n",
    "        return '출력할 내용'\n",
    "\n",
    "'''\n",
    "pass"
   ],
   "metadata": {
    "collapsed": false
   }
  },
  {
   "cell_type": "code",
   "execution_count": 48,
   "outputs": [],
   "source": [
    "class Score:\n",
    "    # 생성자 함수로 Score 클래스의 객체가 생성될 때 이름과 3 과목의 점수를 넘겨받아 멤버 변수를 초기화하고 총점과 평균을 계산한다.\n",
    "    def __init__(self, name='무명인', python=0, java=0, spring=0):\n",
    "        # print('Score 클래스의 객체가 메모리에 생성될 때 자동으로 실행되는 __init__(self)')\n",
    "        # print('Score 클래스의 객체가 메모리에 생성된 주소: {}'.format(self))\n",
    "        self.name = name  # this.와 같은 역할\n",
    "        self.python = python\n",
    "        self.java = java\n",
    "        self.spring = spring\n",
    "        # 총점과 평균을 계산해서 멤버 변수에 저장한다.\n",
    "        self.total = python + java + spring\n",
    "        self.mean = self.total / 3\n",
    "\n",
    "    # 총점을 출력하는 함수를 만든다.\n",
    "    def get_total(self):\n",
    "        print('{0}님의 총점은 {1:3d}점입니다.'.format(self.name, self.total))\n",
    "\n",
    "    # 평균을 출력하는 함수를 만든다.\n",
    "    def get_mean(self):\n",
    "        print(f'{self.name}님의 평균은 {self.mean:.2f}점입니다.')\n",
    "\n",
    "    # 객체에 저장된 데이터를 출력하는 __str__(self) 함수\n",
    "    def __str__(self):\n",
    "        # 파이썬은 한 줄에 한 문장 코딩이 원칙이지만 1줄에 2문장 이상을 코딩하려면 문장과 문장을 ';'로 구분하면 된다.\n",
    "        # 1문장이 너무 길어서 2줄 이상으로 나눠 코딩하려면 줄을 변경하는 부분에 '\\'를 입력하고 다음줄에 코딩하면 같은 문장으로 인식한다. → 문자열\n",
    "        # 줄 분리가 () 안에서\n",
    "        return f'이름: {self.name}, python: {self.python}, java: {self.java}, spring: {self.spring}, ' \\\n",
    "               f'총점: {self.total}, 평균: {self.mean:.2f}'"
   ],
   "metadata": {
    "collapsed": false
   }
  },
  {
   "cell_type": "code",
   "execution_count": 49,
   "outputs": [
    {
     "name": "stdout",
     "output_type": "stream",
     "text": [
      "홍길동님의 총점은 299점입니다.\n",
      "홍길동님의 평균은 99.67점입니다.\n",
      "홍길동님의 python 점수는 100점입니다.\n",
      "이름: 홍길동, python: 100, java: 100, spring: 99, 총점: 299, 평균: 99.67\n"
     ]
    }
   ],
   "source": [
    "# class 객체(변수) 선언 방법\n",
    "# 객체명 = 클래스명([초기자로 전달할 데이터, ...])\n",
    "# 클래스 객체를 선언하면 클래스의 객체가 메모리에 생성된 주소가 초기자의 첫번째 인수인 self로 전달된다.\n",
    "score1 = Score('홍길동', 100, 100, 99)  # new를 사용하지 않는다.\n",
    "\n",
    "# 클래스 객체의 메서드 실행 방법\n",
    "# 객체명.함수명()\n",
    "score1.get_total()\n",
    "score1.get_mean()\n",
    "\n",
    "# 클래스 객체의 멤버 변수에 접근하는 방법\n",
    "# 객체명.멤버변수명\n",
    "print(f'{score1.name}님의 python 점수는 {score1.python}점입니다.')\n",
    "\n",
    "# 클래스에서 __str__(self)를 함수를 선언하지 않고 클래스 객체를 출력하면 객체가 메모리에 생성된 주소를 출력한다.\n",
    "print(score1)"
   ],
   "metadata": {
    "collapsed": false
   }
  },
  {
   "cell_type": "code",
   "execution_count": 50,
   "outputs": [
    {
     "name": "stdout",
     "output_type": "stream",
     "text": [
      "무명인님의 총점은   0점입니다.\n",
      "무명인님의 평균은 0.00점입니다.\n",
      "이름: 무명인, python: 0, java: 0, spring: 0, 총점: 0, 평균: 0.00\n"
     ]
    }
   ],
   "source": [
    "score2 = Score()\n",
    "score2.get_total()\n",
    "score2.get_mean()\n",
    "print(score2)"
   ],
   "metadata": {
    "collapsed": false
   }
  },
  {
   "cell_type": "code",
   "execution_count": null,
   "outputs": [],
   "source": [],
   "metadata": {
    "collapsed": false
   }
  }
 ],
 "metadata": {
  "kernelspec": {
   "display_name": "Python 3",
   "language": "python",
   "name": "python3"
  },
  "language_info": {
   "codemirror_mode": {
    "name": "ipython",
    "version": 2
   },
   "file_extension": ".py",
   "mimetype": "text/x-python",
   "name": "python",
   "nbconvert_exporter": "python",
   "pygments_lexer": "ipython2",
   "version": "2.7.6"
  }
 },
 "nbformat": 4,
 "nbformat_minor": 0
}
