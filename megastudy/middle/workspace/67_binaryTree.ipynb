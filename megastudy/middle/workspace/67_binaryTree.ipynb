{
 "cells": [
  {
   "cell_type": "markdown",
   "source": [
    "# ★ 2진 트리"
   ],
   "metadata": {
    "collapsed": false
   }
  },
  {
   "cell_type": "code",
   "execution_count": 1,
   "outputs": [],
   "source": [
    "# binaryTree 클래스\n",
    "class BinaryTree:\n",
    "\n",
    "    # 초기자에서 2진 트리의 노드를 만든다.\n",
    "    def __init__(self, data=None):\n",
    "        self.left = None  # 왼쪽 자식 노드\n",
    "        self.data = data  # 데이터\n",
    "        self.right = None  # 오른쪽 자식 노드\n",
    "\n",
    "    # 트리에 노드를 삽입하는 함수\n",
    "    def insert(self, data):\n",
    "        print(f'트리에 삽입하려는 데이터({data})의 부모 노드는 {self.data}')\n",
    "\n",
    "        # 트리에 삽입할 데이터와 부모 노드의 데이터를 비교해서 트리에 데이터가 삽입되는 위치를 결정한다.\n",
    "        # 트리에 삽입할 데이터가 부모 노드의 데이터보다 작으면 부모 노드의 왼쪽에 삽입한다.\n",
    "        if data < self.data:\n",
    "            # 부모 노드의 왼쪽에 삽입한다.\n",
    "            print('부모 노드의 데이터가 삽입할 데이터보다 크기 때문에 부모 노드의 왼쪽에 삽입한다.')\n",
    "            # 부모 노드의 왼쪽 링크(self.left)가 비어있어야(None) 데이터를 삽입할 수 있다.\n",
    "            if self.left is None:\n",
    "                # 부모 노드의 왼쪽 링크가 비어있으므로 데이터를 추가한다.\n",
    "                print(f'부모({self.data}) 왼쪽에 데이터 {data} 추가 가능')\n",
    "                # 새 노드를 추가해야 하므로 트리에 추가할 데이터를 BinaryTree 클래스 객체를 생성해서 부모 노드의 비어있는 왼쪽 링크에 생성한 BinaryTree 클래스 객체의 주소를 넣어준다.\n",
    "                self.left = BinaryTree(data)\n",
    "                print(f'부모({self.data}) 왼쪽에 데이터 {data} 추가 완료')\n",
    "            else:\n",
    "                # 부모 노드의 왼쪽 링크가 비어있지 않기 때문에 추가할 수 없다.\n",
    "                print(f'부모 {self.data} 왼쪽에 {data} 추가가 불가능하므로 부모 왼쪽 노드 {self.left.data}에서 insert() 함수를 실행한다.')\n",
    "                self.left.insert(data)\n",
    "\n",
    "        # 트리에 삽입할 데이터가 부모 노드의 데이터보다 크면 부모 노드의 오른쪽에 삽입한다.\n",
    "        elif data > self.data:\n",
    "            # 부모 노드의 오른쪽에 삽입한다.\n",
    "            print('부모 노드의 데이터가 삽입할 데이터보다 작기 때문에 부모 노드의 오른쪽에 삽입한다.')\n",
    "            if self.right is None:\n",
    "                # 부모 노드의 오른쪽 링크가 비어있으므로 데이터를 추가한다.\n",
    "                print(f'부모({self.data}) 오른쪽에 데이터 {data} 추가 가능')\n",
    "                # 새 노드를 추가해야 하므로 트리에 추가할 데이터를 BinaryTree 클래스 객체를 생성해서 부모 노드의 비어있는 오른쪽 링크에 생성한 BinaryTree 클래스 객체의 주소를 넣어준다.\n",
    "                self.right = BinaryTree(data)\n",
    "                print(f'부모({self.data}) 오른쪽에 데이터 {data} 추가 완료')\n",
    "            else:\n",
    "                # 부모 노드의 오른쪽 링크가 비어있지 않기 때문에 추가할 수 없다.\n",
    "                print(f'부모 {self.data} 오른쪽에 {data} 추가가 불가능하므로 부모 오른쪽 노드 {self.right.data}에서 insert() 함수를 실행한다.')\n",
    "                self.right.insert(data)\n",
    "\n",
    "        else:\n",
    "            print(f'{data}은(는) 트리에 이미 존재하는 데이터입니다.')\n",
    "    # ===== insert\n",
    "\n",
    "    # 2진 트리를 preorder 방식으로 운행(탐색)하는 함수\n",
    "    # 12 → 6 → 3 → 10 → 20 → 15 → 25\n",
    "    def preorder(self):\n",
    "        # link(self.left, self.right)에 주소가 저장되어있으면 True, 아니면(None) False\n",
    "        print(f'{self.data}의 preorder() 시작')\n",
    "        # 부모를 출력한다.\n",
    "        print(f'방문한 노드: {self.data}')\n",
    "        # 왼쪽 자식 노드가 있는지 검사해서 존재하면 자식 노드에서 preorder() 함수를 실행한다.\n",
    "        if self.left:\n",
    "            self.left.preorder()\n",
    "        # 오른쪽 자식 노드가 있는지 검사해서 존재하면 자식 노드에서 preorder() 함수를 실행한다.\n",
    "        if self.right:\n",
    "            self.right.preorder()\n",
    "        print(f'{self.data}의 preorder() 끝')\n",
    "    # ===== preorder\n",
    "\n",
    "    def inorder(self):\n",
    "        print(f'{self.data}의 inorder() 시작')\n",
    "        if self.left:\n",
    "            self.left.inorder()\n",
    "        print(f'방문한 노드: {self.data}')\n",
    "        if self.right:\n",
    "            self.right.inorder()\n",
    "        print(f'{self.data}의 inorder() 끝')\n",
    "    # ===== inorder\n",
    "\n",
    "    def postorder(self):\n",
    "        print(f'{self.data}의 postorder() 시작')\n",
    "        if self.left:\n",
    "            self.left.postorder()\n",
    "        if self.right:\n",
    "            self.right.postorder()\n",
    "        print(f'방문한 노드: {self.data}')\n",
    "        print(f'{self.data}의 postorder() 끝')\n",
    "    # ===== postorder"
   ],
   "metadata": {
    "collapsed": false
   }
  },
  {
   "cell_type": "code",
   "execution_count": 2,
   "outputs": [
    {
     "name": "stdout",
     "output_type": "stream",
     "text": [
      "트리에 삽입하려는 데이터(12)의 부모 노드는 12\n",
      "12은(는) 트리에 이미 존재하는 데이터입니다.\n",
      "================================================================================\n",
      "트리에 삽입하려는 데이터(6)의 부모 노드는 12\n",
      "부모 노드의 데이터가 삽입할 데이터보다 크기 때문에 부모 노드의 왼쪽에 삽입한다.\n",
      "부모(12) 왼쪽에 데이터 6 추가 가능\n",
      "부모(12) 왼쪽에 데이터 6 추가 완료\n",
      "================================================================================\n",
      "트리에 삽입하려는 데이터(20)의 부모 노드는 12\n",
      "부모 노드의 데이터가 삽입할 데이터보다 작기 때문에 부모 노드의 오른쪽에 삽입한다.\n",
      "부모(12) 오른쪽에 데이터 20 추가 가능\n",
      "부모(12) 오른쪽에 데이터 20 추가 완료\n",
      "================================================================================\n",
      "트리에 삽입하려는 데이터(3)의 부모 노드는 12\n",
      "부모 노드의 데이터가 삽입할 데이터보다 크기 때문에 부모 노드의 왼쪽에 삽입한다.\n",
      "부모 12 왼쪽에 3 추가가 불가능하므로 부모 왼쪽 노드 6에서 insert() 함수를 실행한다.\n",
      "트리에 삽입하려는 데이터(3)의 부모 노드는 6\n",
      "부모 노드의 데이터가 삽입할 데이터보다 크기 때문에 부모 노드의 왼쪽에 삽입한다.\n",
      "부모(6) 왼쪽에 데이터 3 추가 가능\n",
      "부모(6) 왼쪽에 데이터 3 추가 완료\n",
      "================================================================================\n",
      "트리에 삽입하려는 데이터(10)의 부모 노드는 12\n",
      "부모 노드의 데이터가 삽입할 데이터보다 크기 때문에 부모 노드의 왼쪽에 삽입한다.\n",
      "부모 12 왼쪽에 10 추가가 불가능하므로 부모 왼쪽 노드 6에서 insert() 함수를 실행한다.\n",
      "트리에 삽입하려는 데이터(10)의 부모 노드는 6\n",
      "부모 노드의 데이터가 삽입할 데이터보다 작기 때문에 부모 노드의 오른쪽에 삽입한다.\n",
      "부모(6) 오른쪽에 데이터 10 추가 가능\n",
      "부모(6) 오른쪽에 데이터 10 추가 완료\n",
      "================================================================================\n",
      "트리에 삽입하려는 데이터(15)의 부모 노드는 12\n",
      "부모 노드의 데이터가 삽입할 데이터보다 작기 때문에 부모 노드의 오른쪽에 삽입한다.\n",
      "부모 12 오른쪽에 15 추가가 불가능하므로 부모 오른쪽 노드 20에서 insert() 함수를 실행한다.\n",
      "트리에 삽입하려는 데이터(15)의 부모 노드는 20\n",
      "부모 노드의 데이터가 삽입할 데이터보다 크기 때문에 부모 노드의 왼쪽에 삽입한다.\n",
      "부모(20) 왼쪽에 데이터 15 추가 가능\n",
      "부모(20) 왼쪽에 데이터 15 추가 완료\n",
      "================================================================================\n",
      "트리에 삽입하려는 데이터(25)의 부모 노드는 12\n",
      "부모 노드의 데이터가 삽입할 데이터보다 작기 때문에 부모 노드의 오른쪽에 삽입한다.\n",
      "부모 12 오른쪽에 25 추가가 불가능하므로 부모 오른쪽 노드 20에서 insert() 함수를 실행한다.\n",
      "트리에 삽입하려는 데이터(25)의 부모 노드는 20\n",
      "부모 노드의 데이터가 삽입할 데이터보다 작기 때문에 부모 노드의 오른쪽에 삽입한다.\n",
      "부모(20) 오른쪽에 데이터 25 추가 가능\n",
      "부모(20) 오른쪽에 데이터 25 추가 완료\n",
      "================================================================================\n"
     ]
    }
   ],
   "source": [
    "# 2진 트리의 최상위(root) 노드를 만든다.\n",
    "root = BinaryTree(12)\n",
    "# 2진 트리에 데이터(노드)를 추가한다.\n",
    "root.insert(12)\n",
    "print('=' * 80)\n",
    "\n",
    "root.insert(6)\n",
    "print('=' * 80)\n",
    "\n",
    "root.insert(20)\n",
    "print('=' * 80)\n",
    "\n",
    "root.insert(3)\n",
    "print('=' * 80)\n",
    "\n",
    "root.insert(10)\n",
    "print('=' * 80)\n",
    "\n",
    "root.insert(15)\n",
    "print('=' * 80)\n",
    "\n",
    "root.insert(25)\n",
    "print('=' * 80)"
   ],
   "metadata": {
    "collapsed": false
   }
  },
  {
   "cell_type": "markdown",
   "source": [
    "<img src=\"images/binaryTree_1.png\" width=\"1200\"/>"
   ],
   "metadata": {
    "collapsed": false
   }
  },
  {
   "cell_type": "markdown",
   "source": [
    "<img src=\"images/binaryTree_2.png\" width=\"1800\"/>"
   ],
   "metadata": {
    "collapsed": false
   }
  },
  {
   "cell_type": "markdown",
   "source": [
    "# ★ 2진 트리 운행\n",
    "\t운행\n",
    "\t→ 같은 노드를 중복해서 방문하지 않고 모든 노드를 한번씩 방문하는 방법\n",
    "\t→ 부모(Root) 노드를 언제 방문하는지에 따라 3가지 방법이 있다.\n",
    "\t\t① PreOrder: root → left → right(2진 전용)\n",
    "\t\t② InOrder: left → root → right(오름차순 정렬)\n",
    "\t\t③ PostOrder: left → right → root(2진 전용)"
   ],
   "metadata": {
    "collapsed": false
   }
  },
  {
   "cell_type": "code",
   "execution_count": 3,
   "outputs": [
    {
     "name": "stdout",
     "output_type": "stream",
     "text": [
      "12의 preorder() 시작\n",
      "방문한 노드: 12\n",
      "6의 preorder() 시작\n",
      "방문한 노드: 6\n",
      "3의 preorder() 시작\n",
      "방문한 노드: 3\n",
      "3의 preorder() 끝\n",
      "10의 preorder() 시작\n",
      "방문한 노드: 10\n",
      "10의 preorder() 끝\n",
      "6의 preorder() 끝\n",
      "20의 preorder() 시작\n",
      "방문한 노드: 20\n",
      "15의 preorder() 시작\n",
      "방문한 노드: 15\n",
      "15의 preorder() 끝\n",
      "25의 preorder() 시작\n",
      "방문한 노드: 25\n",
      "25의 preorder() 끝\n",
      "20의 preorder() 끝\n",
      "12의 preorder() 끝\n"
     ]
    }
   ],
   "source": [
    "root.preorder()"
   ],
   "metadata": {
    "collapsed": false
   }
  },
  {
   "cell_type": "code",
   "execution_count": 4,
   "outputs": [
    {
     "name": "stdout",
     "output_type": "stream",
     "text": [
      "12의 inorder() 시작\n",
      "6의 inorder() 시작\n",
      "3의 inorder() 시작\n",
      "방문한 노드: 3\n",
      "3의 inorder() 끝\n",
      "방문한 노드: 6\n",
      "10의 inorder() 시작\n",
      "방문한 노드: 10\n",
      "10의 inorder() 끝\n",
      "6의 inorder() 끝\n",
      "방문한 노드: 12\n",
      "20의 inorder() 시작\n",
      "15의 inorder() 시작\n",
      "방문한 노드: 15\n",
      "15의 inorder() 끝\n",
      "방문한 노드: 20\n",
      "25의 inorder() 시작\n",
      "방문한 노드: 25\n",
      "25의 inorder() 끝\n",
      "20의 inorder() 끝\n",
      "12의 inorder() 끝\n"
     ]
    }
   ],
   "source": [
    "root.inorder()"
   ],
   "metadata": {
    "collapsed": false
   }
  },
  {
   "cell_type": "code",
   "execution_count": 5,
   "outputs": [
    {
     "name": "stdout",
     "output_type": "stream",
     "text": [
      "12의 postorder() 시작\n",
      "6의 postorder() 시작\n",
      "3의 postorder() 시작\n",
      "방문한 노드: 3\n",
      "3의 postorder() 끝\n",
      "10의 postorder() 시작\n",
      "방문한 노드: 10\n",
      "10의 postorder() 끝\n",
      "방문한 노드: 6\n",
      "6의 postorder() 끝\n",
      "20의 postorder() 시작\n",
      "15의 postorder() 시작\n",
      "방문한 노드: 15\n",
      "15의 postorder() 끝\n",
      "25의 postorder() 시작\n",
      "방문한 노드: 25\n",
      "25의 postorder() 끝\n",
      "방문한 노드: 20\n",
      "20의 postorder() 끝\n",
      "방문한 노드: 12\n",
      "12의 postorder() 끝\n"
     ]
    }
   ],
   "source": [
    "root.postorder()"
   ],
   "metadata": {
    "collapsed": false
   }
  },
  {
   "cell_type": "code",
   "execution_count": 5,
   "outputs": [],
   "source": [],
   "metadata": {
    "collapsed": false
   }
  }
 ],
 "metadata": {
  "kernelspec": {
   "display_name": "Python 3",
   "language": "python",
   "name": "python3"
  },
  "language_info": {
   "codemirror_mode": {
    "name": "ipython",
    "version": 2
   },
   "file_extension": ".py",
   "mimetype": "text/x-python",
   "name": "python",
   "nbconvert_exporter": "python",
   "pygments_lexer": "ipython2",
   "version": "2.7.6"
  }
 },
 "nbformat": 4,
 "nbformat_minor": 0
}
