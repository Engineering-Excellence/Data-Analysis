{
 "cells": [
  {
   "cell_type": "markdown",
   "source": [
    "# 재귀호출함수"
   ],
   "metadata": {
    "collapsed": false
   }
  },
  {
   "cell_type": "code",
   "execution_count": 35,
   "outputs": [],
   "source": [
    "# Factorial을 계산하는 일반 함수\n",
    "def factorial():\n",
    "    number = int(input('숫자를 입력하세요.: '))\n",
    "    result = 1\n",
    "    for i in range(1, number + 1):\n",
    "        result *= i\n",
    "    return result"
   ],
   "metadata": {
    "collapsed": false
   }
  },
  {
   "cell_type": "code",
   "execution_count": 36,
   "outputs": [
    {
     "data": {
      "text/plain": "120"
     },
     "execution_count": 36,
     "metadata": {},
     "output_type": "execute_result"
    }
   ],
   "source": [
    "factorial()"
   ],
   "metadata": {
    "collapsed": false
   }
  },
  {
   "cell_type": "code",
   "execution_count": 31,
   "outputs": [],
   "source": [
    "# Factorial을 계산하는 Recursion 함수\n",
    "def factorial_recursion(number):\n",
    "    if number == 1:\n",
    "        return 1\n",
    "    return number * factorial_recursion(number - 1)"
   ],
   "metadata": {
    "collapsed": false
   }
  },
  {
   "cell_type": "code",
   "execution_count": 32,
   "outputs": [
    {
     "data": {
      "text/plain": "120"
     },
     "execution_count": 32,
     "metadata": {},
     "output_type": "execute_result"
    }
   ],
   "source": [
    "number = int(input('숫자를 입력하세요.: '))\n",
    "factorial_recursion(number)"
   ],
   "metadata": {
    "collapsed": false
   }
  },
  {
   "cell_type": "markdown",
   "source": [
    "number에 5가 넘어왔을 때 함수가 실행되는 순서\n",
    "5 * factorial_recursion(5)\n",
    "5 * factorial_recursion(4)\n",
    "5* (4 * factorial_recursion(3))\n",
    "5* (4 * (3 * factorial_recursion(2)))\n",
    "5* (4 * (3 * (2 * factorial_recursion(1))))\n",
    "5* (4 * (3 * (2 * (1))))\n",
    "***\n",
    "5* (4 * (3 * (2 * 1)))\n",
    "5* (4 * (3 * 2))\n",
    "5* (4 * 6)\n",
    "5 * 24\n",
    "120"
   ],
   "metadata": {
    "collapsed": false
   }
  },
  {
   "cell_type": "code",
   "execution_count": null,
   "outputs": [],
   "source": [],
   "metadata": {
    "collapsed": false
   }
  }
 ],
 "metadata": {
  "kernelspec": {
   "display_name": "Python 3",
   "language": "python",
   "name": "python3"
  },
  "language_info": {
   "codemirror_mode": {
    "name": "ipython",
    "version": 2
   },
   "file_extension": ".py",
   "mimetype": "text/x-python",
   "name": "python",
   "nbconvert_exporter": "python",
   "pygments_lexer": "ipython2",
   "version": "2.7.6"
  }
 },
 "nbformat": 4,
 "nbformat_minor": 0
}
