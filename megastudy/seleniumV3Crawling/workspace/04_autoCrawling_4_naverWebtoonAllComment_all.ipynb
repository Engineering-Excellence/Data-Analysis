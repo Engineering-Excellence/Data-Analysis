{
 "cells": [
  {
   "cell_type": "code",
   "execution_count": 2,
   "metadata": {
    "collapsed": true
   },
   "outputs": [],
   "source": [
    "import time\n",
    "import warnings\n",
    "\n",
    "from bs4 import BeautifulSoup\n",
    "from selenium import webdriver\n",
    "from selenium.webdriver.chrome.options import Options\n",
    "\n",
    "warnings.filterwarnings(action='ignore')"
   ]
  },
  {
   "cell_type": "code",
   "execution_count": 5,
   "outputs": [
    {
     "name": "stdout",
     "output_type": "stream",
     "text": [
      "댓글 1 페이지 ======================================================================================================================== \n",
      "\n",
      "댓글 페이지 개수: 10\n",
      "댓글 2 페이지 ======================================================================================================================== \n",
      "\n",
      "댓글 3 페이지 ======================================================================================================================== \n",
      "\n",
      "댓글 4 페이지 ======================================================================================================================== \n",
      "\n",
      "댓글 5 페이지 ======================================================================================================================== \n",
      "\n",
      "댓글 6 페이지 ======================================================================================================================== \n",
      "\n",
      "댓글 7 페이지 ======================================================================================================================== \n",
      "\n",
      "댓글 8 페이지 ======================================================================================================================== \n",
      "\n",
      "댓글 9 페이지 ======================================================================================================================== \n",
      "\n",
      "댓글 10 페이지 ======================================================================================================================== \n",
      "\n",
      "댓글 11 페이지 ======================================================================================================================== \n",
      "\n",
      "댓글 페이지 개수: 10\n",
      "댓글 12 페이지 ======================================================================================================================== \n",
      "\n",
      "댓글 13 페이지 ======================================================================================================================== \n",
      "\n",
      "댓글 14 페이지 ======================================================================================================================== \n",
      "\n",
      "댓글 15 페이지 ======================================================================================================================== \n",
      "\n",
      "댓글 16 페이지 ======================================================================================================================== \n",
      "\n",
      "댓글 17 페이지 ======================================================================================================================== \n",
      "\n",
      "댓글 18 페이지 ======================================================================================================================== \n",
      "\n",
      "댓글 19 페이지 ======================================================================================================================== \n",
      "\n"
     ]
    },
    {
     "ename": "KeyboardInterrupt",
     "evalue": "",
     "output_type": "error",
     "traceback": [
      "\u001B[0;31m---------------------------------------------------------------------------\u001B[0m",
      "\u001B[0;31mKeyboardInterrupt\u001B[0m                         Traceback (most recent call last)",
      "Cell \u001B[0;32mIn[5], line 49\u001B[0m\n\u001B[1;32m     47\u001B[0m         file\u001B[38;5;241m.\u001B[39mwrite(review\u001B[38;5;241m.\u001B[39mtext \u001B[38;5;241m+\u001B[39m \u001B[38;5;124m'\u001B[39m\u001B[38;5;130;01m\\n\u001B[39;00m\u001B[38;5;124m'\u001B[39m)\n\u001B[1;32m     48\u001B[0m     \u001B[38;5;28mprint\u001B[39m(\u001B[38;5;124mf\u001B[39m\u001B[38;5;124m'\u001B[39m\u001B[38;5;124m댓글 \u001B[39m\u001B[38;5;132;01m{\u001B[39;00mcount\u001B[38;5;132;01m}\u001B[39;00m\u001B[38;5;124m 페이지\u001B[39m\u001B[38;5;124m'\u001B[39m, \u001B[38;5;124m'\u001B[39m\u001B[38;5;124m=\u001B[39m\u001B[38;5;124m'\u001B[39m \u001B[38;5;241m*\u001B[39m \u001B[38;5;241m120\u001B[39m, \u001B[38;5;124m'\u001B[39m\u001B[38;5;130;01m\\n\u001B[39;00m\u001B[38;5;124m'\u001B[39m)\n\u001B[0;32m---> 49\u001B[0m     \u001B[43mtime\u001B[49m\u001B[38;5;241;43m.\u001B[39;49m\u001B[43msleep\u001B[49m\u001B[43m(\u001B[49m\u001B[38;5;241;43m0.5\u001B[39;49m\u001B[43m)\u001B[49m\n\u001B[1;32m     50\u001B[0m     count \u001B[38;5;241m+\u001B[39m\u001B[38;5;241m=\u001B[39m \u001B[38;5;241m1\u001B[39m\n\u001B[1;32m     52\u001B[0m \u001B[38;5;66;03m# '다음'을 클릭해서 다음 댓글 페이지 그룹을 연다.\u001B[39;00m\n",
      "\u001B[0;31mKeyboardInterrupt\u001B[0m: "
     ]
    }
   ],
   "source": [
    "option = Options()\n",
    "option.add_argument('--window-size=1600,900')\n",
    "driver = webdriver.Chrome('./chromedriver', options=option)\n",
    "driver.implicitly_wait(5)\n",
    "\n",
    "driver.get('https://comic.naver.com/comment/comment?titleId=790713&no=87')\n",
    "# html = driver.page_source\n",
    "# soup = BeautifulSoup(html, 'html.parser')\n",
    "\n",
    "# 전체 댓글을 연다.\n",
    "# driver.find_element_by_xpath('//*[@id=\"cbox_module_wai_u_cbox_sort_option_tab2\"]/span[2]').click()\n",
    "driver.find_element_by_css_selector('#cbox_module_wai_u_cbox_sort_option_tab2 > span.u_cbox_sort_label').click()\n",
    "time.sleep(0.5)\n",
    "\n",
    "# 댓글 페이지 그룹 전체 개수가 몇 개인지 모르기 때문에 무한 루프를 돌린다.\n",
    "count = 1\n",
    "while True:\n",
    "\n",
    "    # 1 페이지 댓글을 읽는다.\n",
    "    html = driver.page_source\n",
    "    soup = BeautifulSoup(html, 'html.parser')\n",
    "    reviews = soup.select('span.u_cbox_contents')\n",
    "    for review in reviews:\n",
    "        print(review.text)\n",
    "    print(f'댓글 {count} 페이지', '=' * 120, '\\n')\n",
    "\n",
    "    page = soup.select('div.u_cbox_page_wrap > a.u_cbox_page')\n",
    "    print(f'댓글 페이지 개수: {len(page) + 1}')\n",
    "    time.sleep(0.5)\n",
    "    count += 1\n",
    "\n",
    "    # 현재 댓글 그룹의 페이지 개수 만큼 반복하며 댓글을 읽는다.\n",
    "    for i in range(len(page)):\n",
    "        # 다음 댓글 페이지를 연다.\n",
    "        driver.find_element_by_css_selector(\n",
    "            f'#cbox_module > div > div.u_cbox_paginate > div > a:nth-child({i + 4})').click()\n",
    "        time.sleep(0.5)\n",
    "        # 다음 페이지 댓글을 읽는다.\n",
    "        html = driver.page_source\n",
    "        soup = BeautifulSoup(html, 'html.parser')\n",
    "        reviews = soup.select('span.u_cbox_contents')\n",
    "        for review in reviews:\n",
    "            print(review.text)\n",
    "        print(f'댓글 {count} 페이지', '=' * 120, '\\n')\n",
    "        time.sleep(0.5)\n",
    "        count += 1\n",
    "\n",
    "    # '다음'을 클릭해서 다음 댓글 페이지 그룹을 연다.\n",
    "    try:\n",
    "        driver.find_element_by_css_selector('#cbox_module > div > div.u_cbox_paginate > div > a.u_cbox_next').click()\n",
    "        time.sleep(0.5)\n",
    "    except:\n",
    "        break"
   ],
   "metadata": {
    "collapsed": false
   }
  },
  {
   "cell_type": "code",
   "execution_count": null,
   "outputs": [],
   "source": [],
   "metadata": {
    "collapsed": false
   }
  }
 ],
 "metadata": {
  "kernelspec": {
   "display_name": "Python 3",
   "language": "python",
   "name": "python3"
  },
  "language_info": {
   "codemirror_mode": {
    "name": "ipython",
    "version": 2
   },
   "file_extension": ".py",
   "mimetype": "text/x-python",
   "name": "python",
   "nbconvert_exporter": "python",
   "pygments_lexer": "ipython2",
   "version": "2.7.6"
  }
 },
 "nbformat": 4,
 "nbformat_minor": 0
}
