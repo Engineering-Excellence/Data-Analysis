{
 "cells": [
  {
   "cell_type": "markdown",
   "source": [
    "파이썬을 이용해서 텍스트 파일을 처리할 경우 파일 탐색기에서 아래의 설정이 되어있는지 확인한다.\n",
    "windows 10: 파일 탐색기 → 보기 메뉴 → 파일 확장명 체크"
   ],
   "metadata": {
    "collapsed": false
   }
  },
  {
   "cell_type": "markdown",
   "source": [
    "파일로 출력하거나 파일에서 읽어오는 경우 반드시 파일을 open 해야 한다.\n",
    "# 파일 열기\n",
    "변수 = open('텍스트 파일명', '파일 열기 모드')\n",
    "파일 열기 모드: w(write, 덮어쓰기), a(append, 추가), r(read, 읽기)\n",
    "w 모드는 지정한 파일이 없으면 파일을 만든 후 저장하고, 파일이 있으면 내용을 지우고 저장한다. → 덮어쓰기\n",
    "a 모드는 지정한 파일이 없으면 파일을 만든 후 저장하고, 파일이 있으면 기존 내용 뒤에 추가해서 저장한다. → 추가\n",
    "r 모드는 지정한 파일이 없으면 에러가 발생한다.\n",
    "w, a 모드로 파일을 열어서 작업한 뒤 반드시 close() 메서드를 사용해서 닫아야 파일에 데이터가 저장된다."
   ],
   "metadata": {
    "collapsed": false
   }
  },
  {
   "cell_type": "code",
   "execution_count": 7,
   "outputs": [],
   "source": [
    "# open() 함수에 파일명만 쓰면 현재 화면에 작업중인 프로그램이 위치한 경로에 위치한 파일이라는 의미이다.\n",
    "# open('data.txt', 'w')을 사용해서 파일을 open 할 때 'cp949'라는 메시지가 보이며 한글 인코딩 문제로 에러가 발생하면\n",
    "# open('data.txt', 'w', -1, 'utf-8') 형식으로 열면 된다.\n",
    "file = open('data.txt', 'w')  # data.txt라는 파일을 출력(덮어쓰기)용으로 open 한다.\n",
    "for i in range(10):\n",
    "    # 화면에 출력할 때는 print()를 사용하고, 파일로 출력할 때는 write()를 사용한다.\n",
    "    file.write('Hello, world!\\n')\n",
    "file.close()"
   ],
   "metadata": {
    "collapsed": false
   }
  },
  {
   "cell_type": "markdown",
   "source": [
    "# 경로 지정 방법\n",
    "절대경로 지정방식과 상대경로 지정방식이 있다.\n",
    "절대경로 디스크 드라이브의 최상위(root) 폴더(디렉토리)부터 텍스트 파일이 저장된 폴더까지의 경로를 의미한다.\n",
    "상대경로는 현재 화면에 표시되는 소스 프로그램 파일이 위치한 폴더부터 텍스트 파일이 위치한 폴더까지의 경로를 의미한다."
   ],
   "metadata": {
    "collapsed": false
   }
  },
  {
   "cell_type": "code",
   "execution_count": 8,
   "outputs": [],
   "source": [
    "# 현재 작업중인 소스 프로그램이 위치한 경로가 아닌 다른 경로에 파일을 저장하라면 반드시 파일이 저장될 경로를 지정해야 한다.\n",
    "# /Users/kyle/Documents/Study/Python/KDT_Python/basic/workspace/data/data.txt → 절대 경로\n",
    "# 이스케이프 시퀀스로 잘못 인식해서 오류가 발생할 수 있으므로 '\\'를 '\\\\' 또는 '/'로 수정한다.\n",
    "\n",
    "# '.' → 현재 화면에 표시되는 소스 파일이 저장된 폴더\n",
    "# '..' → 현재 폴더의 한 단계 상위 폴더\n",
    "# ./data/data.txt → 절대 경로 → 상대 경로"
   ],
   "metadata": {
    "collapsed": false
   }
  },
  {
   "cell_type": "code",
   "execution_count": 1,
   "outputs": [
    {
     "name": "stdout",
     "output_type": "stream",
     "text": [
      "data2.txt 파일에 쓰기 완료\n"
     ]
    }
   ],
   "source": [
    "file = open('./data/data2.txt', 'w')\n",
    "for i in range(10):\n",
    "    file.write('Hello, world!\\n')\n",
    "file.close()\n",
    "print('data2.txt 파일에 쓰기 완료')"
   ],
   "metadata": {
    "collapsed": false
   }
  },
  {
   "cell_type": "code",
   "execution_count": 4,
   "outputs": [
    {
     "name": "stdout",
     "output_type": "stream",
     "text": [
      "data2.txt 파일에 추가 완료\n"
     ]
    }
   ],
   "source": [
    "# 키보드로 입력한 문자열을 텍스트 파일에 저장한다.\n",
    "# 대소문자 상관 없이 'quit'가 입력되면 저장을 종료한다.\n",
    "file = open('./data/data3.txt', 'w')\n",
    "while True:\n",
    "    string = input('>>> ')\n",
    "    if string.lower() == 'quit':\n",
    "        break\n",
    "    file.write(string + '\\n')\n",
    "file.close()\n",
    "print('data3.txt 파일에 쓰기 완료')"
   ],
   "metadata": {
    "collapsed": false
   }
  },
  {
   "cell_type": "code",
   "execution_count": 6,
   "outputs": [
    {
     "name": "stdout",
     "output_type": "stream",
     "text": [
      "data4.txt 파일에 쓰기 완료\n"
     ]
    }
   ],
   "source": [
    "# with 구문을 사용해서 파일을 open 하면 with 블럭의 모든 내용이 실행되고 난 후 자동으로 파일을 닫아준다.\n",
    "with open('./data/data4.txt', 'w') as file:\n",
    "    while True:\n",
    "        string = input('>>> ')\n",
    "        if string.upper() == 'QUIT':\n",
    "            break\n",
    "        # ===== if\n",
    "        file.write(string + '\\n')\n",
    "    # ===== while\n",
    "# ===== with\n",
    "# file.close()\n",
    "print('data4.txt 파일에 쓰기 완료')"
   ],
   "metadata": {
    "collapsed": false
   }
  },
  {
   "cell_type": "code",
   "execution_count": 8,
   "outputs": [
    {
     "name": "stdout",
     "output_type": "stream",
     "text": [
      "data5.txt 파일에 쓰기 완료\n"
     ]
    }
   ],
   "source": [
    "with open('./data/data5.txt', 'a') as file:\n",
    "    while True:\n",
    "        string = input('>>> ')\n",
    "        if string.upper() == 'QUIT':\n",
    "            break\n",
    "        file.write(string + '\\n')\n",
    "print('data5.txt 파일에 쓰기 완료')"
   ],
   "metadata": {
    "collapsed": false
   }
  },
  {
   "cell_type": "code",
   "execution_count": null,
   "outputs": [],
   "source": [],
   "metadata": {
    "collapsed": false
   }
  }
 ],
 "metadata": {
  "kernelspec": {
   "display_name": "Python 3",
   "language": "python",
   "name": "python3"
  },
  "language_info": {
   "codemirror_mode": {
    "name": "ipython",
    "version": 2
   },
   "file_extension": ".py",
   "mimetype": "text/x-python",
   "name": "python",
   "nbconvert_exporter": "python",
   "pygments_lexer": "ipython2",
   "version": "2.7.6"
  }
 },
 "nbformat": 4,
 "nbformat_minor": 0
}
