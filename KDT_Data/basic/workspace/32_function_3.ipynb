{
 "cells": [
  {
   "cell_type": "markdown",
   "source": [
    "함수로 데이터를 전달할 때 데이터가 전달될 인수를 지정할 수 있다."
   ],
   "metadata": {
    "collapsed": false
   }
  },
  {
   "cell_type": "code",
   "execution_count": 1,
   "outputs": [],
   "source": [
    "def func3(a, b, c):\n",
    "    print('{} + {} + {} = {}'.format(a, b, c, a + b + c))"
   ],
   "metadata": {
    "collapsed": false
   }
  },
  {
   "cell_type": "code",
   "execution_count": 2,
   "outputs": [
    {
     "name": "stdout",
     "output_type": "stream",
     "text": [
      "100 + 200 + 300 = 600\n"
     ]
    }
   ],
   "source": [
    "# 데이터가 전달될 때 인수를 지정하지 않으면 처음부터 차례대로 데이터가 함수로 전달된다.\n",
    "func3(100, 200, 300)"
   ],
   "metadata": {
    "collapsed": false
   }
  },
  {
   "cell_type": "code",
   "execution_count": 3,
   "outputs": [
    {
     "name": "stdout",
     "output_type": "stream",
     "text": [
      "100 + 200 + 300 = 600\n"
     ]
    }
   ],
   "source": [
    "# 함수를 호출할 때 데이터가 전달될 인수를 지정할 수 있다.\n",
    "func3(a=100, b=200, c=300)"
   ],
   "metadata": {
    "collapsed": false
   }
  },
  {
   "cell_type": "code",
   "execution_count": 5,
   "outputs": [
    {
     "name": "stdout",
     "output_type": "stream",
     "text": [
      "300 + 100 + 200 = 600\n"
     ]
    }
   ],
   "source": [
    "# 인수를 지정해서 함수를 호출하면 가인수의 순서와 관계없이 사용할 수 있다.\n",
    "func3(b=100, c=200, a=300)"
   ],
   "metadata": {
    "collapsed": false
   }
  },
  {
   "cell_type": "code",
   "execution_count": 6,
   "outputs": [
    {
     "ename": "TypeError",
     "evalue": "func3() got an unexpected keyword argument 'd'",
     "output_type": "error",
     "traceback": [
      "\u001B[0;31m---------------------------------------------------------------------------\u001B[0m",
      "\u001B[0;31mTypeError\u001B[0m                                 Traceback (most recent call last)",
      "Cell \u001B[0;32mIn [6], line 2\u001B[0m\n\u001B[1;32m      1\u001B[0m \u001B[38;5;66;03m# 인수를 지정해서 함수를 호출할 때 가인수 목록에 있는 인수를 지정해야 하고 가인수 목록에 없으면 에러가 발생한다.\u001B[39;00m\n\u001B[0;32m----> 2\u001B[0m \u001B[43mfunc3\u001B[49m\u001B[43m(\u001B[49m\u001B[43ma\u001B[49m\u001B[38;5;241;43m=\u001B[39;49m\u001B[38;5;241;43m100\u001B[39;49m\u001B[43m,\u001B[49m\u001B[43m \u001B[49m\u001B[43mb\u001B[49m\u001B[38;5;241;43m=\u001B[39;49m\u001B[38;5;241;43m200\u001B[39;49m\u001B[43m,\u001B[49m\u001B[43m \u001B[49m\u001B[43md\u001B[49m\u001B[38;5;241;43m=\u001B[39;49m\u001B[38;5;241;43m300\u001B[39;49m\u001B[43m)\u001B[49m\n",
      "\u001B[0;31mTypeError\u001B[0m: func3() got an unexpected keyword argument 'd'"
     ]
    }
   ],
   "source": [
    "# 인수를 지정해서 함수를 호출할 때 가인수 목록에 있는 인수를 지정해야 하고 가인수 목록에 없으면 에러가 발생한다.\n",
    "# func3(a=100, b=200, d=300)  # TypeError"
   ],
   "metadata": {
    "collapsed": false
   }
  },
  {
   "cell_type": "code",
   "execution_count": 7,
   "outputs": [
    {
     "ename": "SyntaxError",
     "evalue": "positional argument follows keyword argument (2089364161.py, line 2)",
     "output_type": "error",
     "traceback": [
      "\u001B[0;36m  Cell \u001B[0;32mIn [7], line 2\u001B[0;36m\u001B[0m\n\u001B[0;31m    func3(a=100, b=200, 300)\u001B[0m\n\u001B[0m                           ^\u001B[0m\n\u001B[0;31mSyntaxError\u001B[0m\u001B[0;31m:\u001B[0m positional argument follows keyword argument\n"
     ]
    }
   ],
   "source": [
    "# 인수를 지정해서 함수를 호출할 때 인수를 부분적으로 지정하면 에러가 발생한다.\n",
    "# func3(a=100, b=200, 300)    # SyntaxError"
   ],
   "metadata": {
    "collapsed": false
   }
  }
 ],
 "metadata": {
  "kernelspec": {
   "display_name": "Python 3",
   "language": "python",
   "name": "python3"
  },
  "language_info": {
   "codemirror_mode": {
    "name": "ipython",
    "version": 2
   },
   "file_extension": ".py",
   "mimetype": "text/x-python",
   "name": "python",
   "nbconvert_exporter": "python",
   "pygments_lexer": "ipython2",
   "version": "2.7.6"
  }
 },
 "nbformat": 4,
 "nbformat_minor": 0
}
