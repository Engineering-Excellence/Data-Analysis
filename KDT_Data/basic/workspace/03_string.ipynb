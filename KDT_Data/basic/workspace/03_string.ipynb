{
 "cells": [
  {
   "cell_type": "code",
   "execution_count": 1,
   "metadata": {
    "collapsed": true
   },
   "outputs": [
    {
     "name": "stdout",
     "output_type": "stream",
     "text": [
      "Hello\n",
      "World\n",
      "Python\n",
      "is\n",
      "Good\n"
     ]
    }
   ],
   "source": [
    "# 큰 따옴표나 작은 따옴표로 묶어주면 문자열 데이터로 취급된다.\n",
    "memo = 'Hello\\nWorld'\n",
    "print(memo)\n",
    "memo = \"Python\\nis\\nGood\"\n",
    "print(memo)"
   ]
  },
  {
   "cell_type": "code",
   "execution_count": 2,
   "outputs": [
    {
     "name": "stdout",
     "output_type": "stream",
     "text": [
      "개울가에\n",
      "올챙이 한 마리\n",
      "꼬물꼬물 헤엄치다\n",
      "뒷다리가 쏘옥\n",
      "앞다리가 쏘옥\n",
      "팔딱팔딱 개구리 됐네\n"
     ]
    }
   ],
   "source": [
    "# 작은/큰 따옴표 3개를 연속해서 사용하면 개행문자(\\n)를 사용하지 않고 여러 줄 문자열을 만들 수 있다.\n",
    "memo = \"\"\"개울가에\n",
    "올챙이 한 마리\n",
    "꼬물꼬물 헤엄치다\n",
    "뒷다리가 쏘옥\n",
    "앞다리가 쏘옥\n",
    "팔딱팔딱 개구리 됐네\"\"\"\n",
    "print(memo)"
   ],
   "metadata": {
    "collapsed": false
   }
  },
  {
   "cell_type": "markdown",
   "source": [
    "# 인덱싱과 슬라이싱\n",
    "인덱스는 0부터 시작된다.\n",
    "인덱싱: 문자열에서 특정 인덱스의 문자 1개를 얻어온다. → []에 인덱스를 지정하면 된다. → charAt()\n",
    "슬라이싱: 문자열에서 지정된 범위의 문자열을 얻어온다. → [시작위치:끝위치] 형태로 범위를 지정하면 된다. → substring()"
   ],
   "metadata": {
    "collapsed": false
   }
  },
  {
   "cell_type": "code",
   "execution_count": 15,
   "outputs": [
    {
     "name": "stdout",
     "output_type": "stream",
     "text": [
      "We are the champions, my friends!\n",
      "W\n",
      "c\n",
      "!\n",
      "my friends\n",
      "33\n",
      "!\n",
      "!\n",
      "s\n"
     ]
    }
   ],
   "source": [
    "string = 'We are the champions, my friends!'\n",
    "print(string)\n",
    "print(string[0])\n",
    "print(string[11])\n",
    "print(string[-1])\n",
    "print(string[22:-1])\n",
    "\n",
    "# len() 함수로 문자열을 구성하는 문자의 개수를 얻어올 수 있다. → length()\n",
    "print(len(string))\n",
    "print(string[len(string) - 1])\n",
    "\n",
    "# 파이썬은 음수 인덱싱이 가능하다. → 인덱스를 지정할 때 '-'를 붙이면 맨 뒤부터 인덱싱할 수 있다.\n",
    "print(string[-1])\n",
    "print(string[-2])"
   ],
   "metadata": {
    "collapsed": false
   }
  },
  {
   "cell_type": "code",
   "execution_count": 27,
   "outputs": [
    {
     "name": "stdout",
     "output_type": "stream",
     "text": [
      "We\n",
      "champions\n",
      "We are the champions\n",
      "We are the champions\n",
      "my friends!\n",
      "my friends!\n",
      "We are the champions, my friends!\n",
      "\n",
      "W r h hmin,m red!\n",
      "!sdneirf ym ,snoipmahc eht era eW\n"
     ]
    }
   ],
   "source": [
    "string = 'We are the champions, my friends!'\n",
    "\n",
    "# 슬라이싱 범위는 [시작 인덱스:끝 인덱스] 형태로 지정하며, 시작 인덱스부터 끝 인덱스 -1번째 문자까지 얻어온다.\n",
    "print(string[0:2])\n",
    "print(string[11:20])\n",
    "\n",
    "# 시작 인덱스를 생략하면 처음부터 슬라이싱하고 끝 인덱스를 생략하면 마지막까지 슬라이싱한다.\n",
    "print(string[0:20])\n",
    "print(string[:20])\n",
    "print(string[22:33])\n",
    "print(string[22:])\n",
    "print(string[:])\n",
    "\n",
    "# 슬라이싱은 왼쪽에서 오른쪽으로 실행되므로 시작 인덱스가 끝 인덱스보다 크면 안 된다.\n",
    "print(string[20:0])\n",
    "\n",
    "# [시작 인덱스:끝 인덱스:증가값]과 같이 슬라이싱에 증가값을 지정할 수 있다.\n",
    "print(string[::2])\n",
    "print(string[::-1]) # 증가값에 -1을 지정하면 슬라이싱 결과가 반전되어 출력된다."
   ],
   "metadata": {
    "collapsed": false
   }
  },
  {
   "cell_type": "code",
   "execution_count": 32,
   "outputs": [
    {
     "name": "stdout",
     "output_type": "stream",
     "text": [
      "1234567890\n",
      "1234567890\n",
      "13579\n",
      "24680\n",
      "0987654321\n"
     ]
    }
   ],
   "source": [
    "string = '1234567890'\n",
    "print(string[:])\n",
    "# [시작 인덱스:끝 인덱스:증가값] 형태로 사용하면 시작 인덱스부터 끝 인덱스까지 증가값 만큼 건너뛰며 슬라이싱 한다.\n",
    "# 증가값은 생략하면 1이 기본값으로 적용된다.\n",
    "print(string[::1])\n",
    "print(string[::2])  # 짝수 인덱스만 슬라이싱\n",
    "print(string[1::2]) # 홀수 인덱스만 슬라이싱\n",
    "# 증가값을 -1로 지정하면 문자열이 뒤집힌다.\n",
    "print(string[::-1])"
   ],
   "metadata": {
    "collapsed": false
   }
  }
 ],
 "metadata": {
  "kernelspec": {
   "display_name": "Python 3",
   "language": "python",
   "name": "python3"
  },
  "language_info": {
   "codemirror_mode": {
    "name": "ipython",
    "version": 2
   },
   "file_extension": ".py",
   "mimetype": "text/x-python",
   "name": "python",
   "nbconvert_exporter": "python",
   "pygments_lexer": "ipython2",
   "version": "2.7.6"
  }
 },
 "nbformat": 4,
 "nbformat_minor": 0
}
