{
 "cells": [
  {
   "cell_type": "markdown",
   "source": [
    "# 유클리드 호제법을 이용한 최대공약수와 최소공배수 계산하기\n",
    "숫자 2개를 입력받아 큰 수와 작은 수를 구분한다.\n",
    "큰 수를 작은 수로 나눠떨어지면 작은 수가 최대공약수가 되고 큰 수를 작은 수로 나눠떨어지지 않으면 큰 수를 기억하던 기억장소에 작은 수를 넣어주고 작은 수를 기억하던 기억 장소에 나머지를 넣어준 후 계산을 반복한다.\n",
    "최대공약수가 계산되면 입력받은 숫자 2개를 곱한 결과를 최대공약수로 나눠주면 최소공배수가 된다.\n",
    "***\n",
    "<img src=\"./images/euclid.png\" width=\"700\"/><br/>\n",
    "<img src=\"./images/euclid2.png\" width=\"700\"/>"
   ],
   "metadata": {
    "collapsed": false
   }
  },
  {
   "cell_type": "code",
   "execution_count": 18,
   "outputs": [
    {
     "name": "stdout",
     "output_type": "stream",
     "text": [
      "큰 수: 9, 작은 수: 6\n",
      "최대공약수: 3, 최소공배수: 18\n"
     ]
    }
   ],
   "source": [
    "a, b = map(int, input('숫자 2개를 입력하세요.: ').split())\n",
    "\n",
    "a0 = max(a, b)\n",
    "b0 = min(a, b)\n",
    "print(f'큰 수: {a0}, 작은 수: {b0}')\n",
    "\n",
    "a = a0\n",
    "b = b0\n",
    "r = a % b\n",
    "\n",
    "while True:\n",
    "    if r == 0:\n",
    "        print('최대공약수: {}'.format(b), end=', ')\n",
    "        break\n",
    "    else:\n",
    "        a = b\n",
    "        b = r\n",
    "        r = a % b\n",
    "print('최소공배수: {}'.format(a0 * b0 // b))"
   ],
   "metadata": {
    "collapsed": false
   }
  },
  {
   "cell_type": "code",
   "execution_count": 19,
   "outputs": [
    {
     "name": "stdout",
     "output_type": "stream",
     "text": [
      "큰 수: 78696, 작은 수: 19332\n",
      "최대공약수: 36, 최소공배수: 42259752.0\n"
     ]
    }
   ],
   "source": [
    "# 정보처리기사 기출문제\n",
    "\n",
    "a, b = map(int, input('숫자 2개를 입력하세요.: ').split())\n",
    "r = 1   # 나머지, 나머지가 0이 아니면 최대공약수를 계산하기 위해 사용하는 변수\n",
    "if a > b:\n",
    "    high = a; low = b\n",
    "else:\n",
    "    high = b; low = a\n",
    "print(f'큰 수: {a}, 작은 수: {b}')\n",
    "\n",
    "# 변수 r의 초기값이 1로 지정되었으므로 while의 최초 진입 조건이 참이 되므로 r이 0보다 클 동안 반복한다.\n",
    "while r > 0:\n",
    "    r = high % low\n",
    "    high = low\n",
    "    low = r\n",
    "l = a * b // high\n",
    "print(f'최대공약수: {high}, 최소공배수: {l}')"
   ],
   "metadata": {
    "collapsed": false
   }
  }
 ],
 "metadata": {
  "kernelspec": {
   "display_name": "Python 3",
   "language": "python",
   "name": "python3"
  },
  "language_info": {
   "codemirror_mode": {
    "name": "ipython",
    "version": 2
   },
   "file_extension": ".py",
   "mimetype": "text/x-python",
   "name": "python",
   "nbconvert_exporter": "python",
   "pygments_lexer": "ipython2",
   "version": "2.7.6"
  }
 },
 "nbformat": 4,
 "nbformat_minor": 0
}
