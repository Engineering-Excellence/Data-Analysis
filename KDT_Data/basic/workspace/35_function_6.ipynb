{
 "cells": [
  {
   "cell_type": "markdown",
   "source": [
    "넘겨받은 인수를 딕셔너리 형태로 변환하는 함수 → 딕셔너리 변환 인자는 '**변수명' 형태로 표현한다."
   ],
   "metadata": {
    "collapsed": false
   }
  },
  {
   "cell_type": "code",
   "execution_count": 1,
   "outputs": [],
   "source": [
    "def func8(**args):\n",
    "    print(type(args))\n",
    "    print(args)"
   ],
   "metadata": {
    "collapsed": false
   }
  },
  {
   "cell_type": "code",
   "execution_count": 2,
   "outputs": [
    {
     "name": "stdout",
     "output_type": "stream",
     "text": [
      "<class 'dict'>\n",
      "{}\n"
     ]
    }
   ],
   "source": [
    "func8()"
   ],
   "metadata": {
    "collapsed": false
   }
  },
  {
   "cell_type": "code",
   "execution_count": 4,
   "outputs": [
    {
     "name": "stdout",
     "output_type": "stream",
     "text": [
      "<class 'dict'>\n",
      "{'apple': 1000}\n"
     ]
    }
   ],
   "source": [
    "# '**변수명' 형태로 인수를 사용하는 함수에는 key와 key에 할당할 value를 'key=value' 형태로 전달한다.\n",
    "# func8(1000) # TypeError: 'key=value' 형태로 인수를 전달하지 않아서 에러 발생\n",
    "func8(apple=1000)"
   ],
   "metadata": {
    "collapsed": false
   }
  },
  {
   "cell_type": "code",
   "execution_count": 5,
   "outputs": [
    {
     "name": "stdout",
     "output_type": "stream",
     "text": [
      "<class 'dict'>\n",
      "{'melon': 1000, 'watermelon': 12000}\n"
     ]
    }
   ],
   "source": [
    "func8(melon=1000, watermelon=12000)"
   ],
   "metadata": {
    "collapsed": false
   }
  },
  {
   "cell_type": "code",
   "execution_count": null,
   "outputs": [],
   "source": [],
   "metadata": {
    "collapsed": false
   }
  }
 ],
 "metadata": {
  "kernelspec": {
   "display_name": "Python 3",
   "language": "python",
   "name": "python3"
  },
  "language_info": {
   "codemirror_mode": {
    "name": "ipython",
    "version": 2
   },
   "file_extension": ".py",
   "mimetype": "text/x-python",
   "name": "python",
   "nbconvert_exporter": "python",
   "pygments_lexer": "ipython2",
   "version": "2.7.6"
  }
 },
 "nbformat": 4,
 "nbformat_minor": 0
}
