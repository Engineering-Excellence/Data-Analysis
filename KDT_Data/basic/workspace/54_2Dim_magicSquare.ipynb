{
 "cells": [
  {
   "cell_type": "markdown",
   "source": [
    "# 마방진\n",
    "가로, 세로, 대각선의 숫자 합이 모두 같은 배열로 홀수차 정방행렬만 가능하다.\n",
    "최초의 '1'이 채워지는 자리는 첫줄 정가운데 열이다.\n",
    "직전에 채워진 숫자 값에 따라 다음에 채워질 숫자의 위치가 결정된다.\n",
    "직전에 채워진 숫자가 행렬의 차수(n)의 배수면 다음 숫자는 아랫줄에 채운다. → 행 + 1\n",
    "직전에 채워진 숫자가 행렬의 차수(n)의 배수가 아니면 다음 숫자는 오른쪽 위에 채운다. → 행 - 1, 열 + 1\n",
    "오른쪽 위 방향으로 숫자를 채우다 보면 리스트의 인덱스 범위를 벗어나는 경우가 발생한다.\n",
    "행이 0보다 작아지면 행의 위치를 마지막 행으로 변경한 후 채우고 → 행 = n\n",
    "열이 행렬의 차수(n)가 되면 열의 위치를 0으로 변경 후 숫자를 채운다. → 열 = 0\n",
    "<br/>\n",
    "<img src=\"./images/magicsquare.png\" width=\"1400\"/>"
   ],
   "metadata": {
    "collapsed": false
   }
  },
  {
   "cell_type": "code",
   "execution_count": 21,
   "outputs": [],
   "source": [
    "def pprint(a):\n",
    "    for i in range(len(a)):\n",
    "        for j in range(len(a[0])):\n",
    "            print('{:3d}'.format(a[i][j]), end=' ')\n",
    "        print()"
   ],
   "metadata": {
    "collapsed": false
   }
  },
  {
   "cell_type": "code",
   "execution_count": 22,
   "outputs": [
    {
     "name": "stdout",
     "output_type": "stream",
     "text": [
      "  0   0   0   0   0   0   0   0   0 \n",
      "  0   0   0   0   0   0   0   0   0 \n",
      "  0   0   0   0   0   0   0   0   0 \n",
      "  0   0   0   0   0   0   0   0   0 \n",
      "  0   0   0   0   0   0   0   0   0 \n",
      "  0   0   0   0   0   0   0   0   0 \n",
      "  0   0   0   0   0   0   0   0   0 \n",
      "  0   0   0   0   0   0   0   0   0 \n",
      "  0   0   0   0   0   0   0   0   0 \n"
     ]
    }
   ],
   "source": [
    "# 작성할 마방진의 차수를 3 이상인 홀수로 입력받는다.\n",
    "while True:\n",
    "    n = int(input('마방진의 크기를 입력하세요.: '))\n",
    "    if n >=3 and n % 2 == 1:\n",
    "        break\n",
    "    print('3 이상의 홀수를 입력하세요.: ')\n",
    "a = [[0] * n for k in range(n)]\n",
    "pprint(a)"
   ],
   "metadata": {
    "collapsed": false
   }
  },
  {
   "cell_type": "code",
   "execution_count": 23,
   "outputs": [
    {
     "name": "stdout",
     "output_type": "stream",
     "text": [
      " 47  58  69  80   1  12  23  34  45 \n",
      " 57  68  79   9  11  22  33  44  46 \n",
      " 67  78   8  10  21  32  43  54  56 \n",
      " 77   7  18  20  31  42  53  55  66 \n",
      "  6  17  19  30  41  52  63  65  76 \n",
      " 16  27  29  40  51  62  64  75   5 \n",
      " 26  28  39  50  61  72  74   4  15 \n",
      " 36  38  49  60  71  73   3  14  25 \n",
      " 37  48  59  70  81   2  13  24  35 \n"
     ]
    }
   ],
   "source": [
    "i = 0; j = n // 2   # 최초의 1이 채워질 위치를 정한다.\n",
    "\n",
    "# k를 1 ~ n**2 까지 반복하며 마방진을 만든다.\n",
    "for k in range(1, n ** 2 + 1):\n",
    "    a[i][j] = k\n",
    "    # 마방진에 채운 숫자가 n의 배수인지 판단한다.\n",
    "    if k % n == 0:\n",
    "        # n의 배수면 다음에 채워질 숫자의 위치는 행만 1 증가시킨다.\n",
    "        i += 1\n",
    "    else:\n",
    "        # n의 배수가 아니면 다음에 채워질 숫자의 위치는 행 1 감소, 열 1 증가시킨다.\n",
    "        i -= 1\n",
    "        # 행이 감소하다가 0보다 작아지면 마지막 행(n-1)으로 행의 위치를 조정한다.\n",
    "        if i < 0:\n",
    "            i = n - 1\n",
    "        j += 1\n",
    "        # 열이 증가하다가 n이 되면 첫번째 열(0열)로 열의 위치를 조정한다.\n",
    "        if j == n:\n",
    "            j = 0\n",
    "\n",
    "pprint(a)"
   ],
   "metadata": {
    "collapsed": false
   }
  },
  {
   "cell_type": "code",
   "execution_count": 23,
   "outputs": [],
   "source": [],
   "metadata": {
    "collapsed": false
   }
  }
 ],
 "metadata": {
  "kernelspec": {
   "display_name": "Python 3",
   "language": "python",
   "name": "python3"
  },
  "language_info": {
   "codemirror_mode": {
    "name": "ipython",
    "version": 2
   },
   "file_extension": ".py",
   "mimetype": "text/x-python",
   "name": "python",
   "nbconvert_exporter": "python",
   "pygments_lexer": "ipython2",
   "version": "2.7.6"
  }
 },
 "nbformat": 4,
 "nbformat_minor": 0
}
