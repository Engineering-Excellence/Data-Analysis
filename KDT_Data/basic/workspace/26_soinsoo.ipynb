{
 "cells": [
  {
   "cell_type": "markdown",
   "source": [
    "<img src=\"./images/soinsoo.png\" width=\"600\">"
   ],
   "metadata": {
    "collapsed": false
   }
  },
  {
   "cell_type": "markdown",
   "source": [
    "<img src=\"./images/soinsoo2.png\" width=\"600\">"
   ],
   "metadata": {
    "collapsed": false
   }
  },
  {
   "cell_type": "markdown",
   "source": [
    "<img src=\"./images/soinsoo3.png\" width=\"600\">"
   ],
   "metadata": {
    "collapsed": false
   }
  },
  {
   "cell_type": "code",
   "execution_count": 10,
   "outputs": [
    {
     "name": "stdout",
     "output_type": "stream",
     "text": [
      "20 = 2 × 2 × 5\n",
      "8 = 2 × 2 × 2\n",
      "4 = 2 × 2\n",
      "7 = 7 × 1\n",
      "7은(는) 소수입니다.\n",
      "5 = 5 × 1\n",
      "5은(는) 소수입니다.\n",
      "2보다 작은 숫자가 입력되어 프로그램을 종료합니다.\n",
      "입력: -1 => 프로그램 종료\n"
     ]
    }
   ],
   "source": [
    "# 소인수 분해 불가능한 숫자가 입력될 때까지 실행해야 하기 때문에 무한 루프를 돌린다.\n",
    "while True:\n",
    "    n = int(input('소인수 분해할 숫자를 입력하세요.: '))\n",
    "    if n < 2:\n",
    "        print('2보다 작은 숫자가 입력되어 프로그램을 종료합니다.')\n",
    "        break\n",
    "    # ===== if\n",
    "\n",
    "    # 2 이상인 숫자가 입력되었으므로 소인수 분해를 실행한다.\n",
    "    print(f'{n} = ', end= '')\n",
    "    s = list()  # 분해된 소인수를 기억할 빈 리스트를 선언한다.\n",
    "    c = 0  # s 리스트의 인덱스로 사용할 변수, 소인수의 개수를 기억할 변수를 선언하고 초기화한다.\n",
    "    number = n  # 소인수 분해 결과를 출력하기 위해서 입력받은 숫자를 number라는 변수에 보관한다.\n",
    "\n",
    "    # 소인수 분해를 시작한다.\n",
    "    # 소인수 분해를 하기 위해서 입력한 숫자(n)의 크기에 따라서 반복 횟수가 달라지므로 무한 루프를 돌려서 처리한다.\n",
    "    while True:\n",
    "        k = 2  # 소인수 분해를 시작할 수를 초기화한다. 1은 모든 정수를 나눠 떨어지게 할 수 있으므로 2부터 시작한다.\n",
    "\n",
    "        while True:\n",
    "            r = n % k\n",
    "            if r == 0:  # 소인수 분해가 되었는가?\n",
    "                break\n",
    "            # ===== if\n",
    "\n",
    "            k += 1\n",
    "        # ===== while True\n",
    "\n",
    "        c += 1  # 소인수 분해가 되면 소인수의 개수를 1 증가시킨다. → 소인수의 개수가 1이면 소수를 의미한다.\n",
    "        s.append(k)  # 발생한 소인수를 리스트에 저장한다.\n",
    "        # 다음 소인수를 계산하기 위해서 소인수 분해되고 남은 숫자(몫)를 다시 n에 저장한다.\n",
    "        n //= k\n",
    "        if n == 1:\n",
    "            break\n",
    "    # ===== while True\n",
    "\n",
    "    # 소인수 분해를 하기 위해서 입력한 숫자가 소수인지 비교한다.\n",
    "    if c == 1:  # 소수인가?\n",
    "        print(f'{number} × 1\\n{number}은(는) 소수입니다.')\n",
    "    else:\n",
    "        # print(f'입력: {number} => 소수 아님')\n",
    "        for i in range(c - 1):\n",
    "            print(s[i], end=' × ')\n",
    "        print(s[-1])\n",
    "        # ===== for\n",
    "\n",
    "    # ===== if\n",
    "# ===== while True\n",
    "print(f'입력: {n} => 프로그램 종료')"
   ],
   "metadata": {
    "collapsed": false
   }
  }
 ],
 "metadata": {
  "kernelspec": {
   "display_name": "Python 3",
   "language": "python",
   "name": "python3"
  },
  "language_info": {
   "codemirror_mode": {
    "name": "ipython",
    "version": 2
   },
   "file_extension": ".py",
   "mimetype": "text/x-python",
   "name": "python",
   "nbconvert_exporter": "python",
   "pygments_lexer": "ipython2",
   "version": "2.7.6"
  }
 },
 "nbformat": 4,
 "nbformat_minor": 0
}
