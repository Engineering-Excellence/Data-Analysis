{
 "cells": [
  {
   "cell_type": "code",
   "execution_count": 37,
   "metadata": {
    "collapsed": true
   },
   "outputs": [
    {
     "name": "stdout",
     "output_type": "stream",
     "text": [
      "1등 번호: [1, 5, 9, 17, 19, 35]\n",
      "5\n",
      "33\n",
      "보너스 번호: 33\n"
     ]
    }
   ],
   "source": [
    "import random\n",
    "\n",
    "lotto = list()\n",
    "# print(lotto)\n",
    "\n",
    "while True:\n",
    "    pick = random.randint(1, 45)\n",
    "    # print(pick)\n",
    "    if pick not in lotto:\n",
    "        lotto.append(pick)\n",
    "    if len(lotto) == 6:\n",
    "        break\n",
    "lotto.sort()\n",
    "print('1등 번호: {}'.format(lotto))\n",
    "\n",
    "while True:\n",
    "    bonus = random.randrange(1, 46)\n",
    "    # print(bonus)\n",
    "    if bonus not in lotto:\n",
    "        break\n",
    "print('보너스 번호: {}'.format(bonus))"
   ]
  }
 ],
 "metadata": {
  "kernelspec": {
   "display_name": "Python 3",
   "language": "python",
   "name": "python3"
  },
  "language_info": {
   "codemirror_mode": {
    "name": "ipython",
    "version": 2
   },
   "file_extension": ".py",
   "mimetype": "text/x-python",
   "name": "python",
   "nbconvert_exporter": "python",
   "pygments_lexer": "ipython2",
   "version": "2.7.6"
  }
 },
 "nbformat": 4,
 "nbformat_minor": 0
}
