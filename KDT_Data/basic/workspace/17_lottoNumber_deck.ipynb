{
 "cells": [
  {
   "cell_type": "code",
   "execution_count": 6,
   "metadata": {
    "collapsed": true
   },
   "outputs": [],
   "source": [
    "import random\n",
    "import time  # sleep() 메서드를 사용하기 위해 import 한다\n",
    "import numpy as np"
   ]
  },
  {
   "cell_type": "code",
   "execution_count": 151,
   "outputs": [
    {
     "name": "stdout",
     "output_type": "stream",
     "text": [
      " 1  2  3  4  5  6  7  8  9 10 \n",
      "11 12 13 14 15 16 17 18 19 20 \n",
      "21 22 23 24 25 26 27 28 29 30 \n",
      "31 32 33 34 35 36 37 38 39 40 \n",
      "41 42 43 44 45 \n",
      "============================== 섞기 전\n",
      "34 35 14 31 32 18 45 24 19  4 \n",
      "40 25  2 38 29 20  1 36 28 15 \n",
      "10 33 30 42 13  9 43 11 23 22 \n",
      " 7 17 21 27  6  3 41 37  8 26 \n",
      "16 44 39  5 12 \n",
      "============================== 섞은 후\n",
      "1등 번호: 34 35 14 31 32 18 \n",
      "보너스 번호: 45\n",
      "==============================\n",
      "CPU times: user 9.75 ms, sys: 3.24 ms, total: 13 ms\n",
      "Wall time: 6.03 s\n"
     ]
    }
   ],
   "source": [
    "%%time\n",
    "# 주피터 노트북 매직 명령\n",
    "\n",
    "# 로또 추첨기로 사용할 리스트를 만들고 1~45로 초기화한다.\n",
    "'''\n",
    "lotto = []\n",
    "for i in range(45):\n",
    "    lotto.append(i + 1)\n",
    "'''\n",
    "lotto = [i for i in range(1, 46)]\n",
    "# print(np.array(lotto))\n",
    "\n",
    "# 섞기 전 상태를 출력한다. → 1줄에 숫자 10개씩 출력한다.\n",
    "for i in range(len(lotto)):\n",
    "    print('{:2d}'.format(lotto[i]), end=' ')\n",
    "    if (i + 1) % 10 == 0:\n",
    "        print()\n",
    "print('\\n' + '=' * 30 + ' 섞기 전')\n",
    "\n",
    "# 섞는다.\n",
    "# lotto[0]와(고정) lotto[i] ~ lotto[44] 중에서 랜덤한 위치의 값을 선택해서 두 기억장소의 값을 교환한다.\n",
    "# for i in range(1000000):\n",
    "#     r = random.randint(1, 44)   # [1]~[44] 중 랜덤한 위치 선택\n",
    "'''\n",
    "    temp = lotto[0]             # 데이터 교환\n",
    "    lotto[0] = lotto[r]\n",
    "    lotto[r] = temp\n",
    "'''\n",
    "    # lotto[0], lotto[r] = lotto[r], lotto[0] # python에서만 가능한 데이터 맞교환\n",
    "# shuffle() 메서드로 데이터를 섞어준다. → 반복 처리보다 속도도 훨씬 빠르다.\n",
    "random.shuffle(lotto)\n",
    "\n",
    "# 섞은 후 상태를 출력한다.\n",
    "for i in range(len(lotto)):\n",
    "    print('{:2d}'.format(lotto[i]), end=' ')\n",
    "    if (i + 1) % 10 == 0:\n",
    "        print()\n",
    "print('\\n' + '=' * 30 + ' 섞은 후')\n",
    "\n",
    "# 1등 번호와 보너스 번호를 출력한다.\n",
    "# time 모듈의 sleep() 메서드는 매개변수로 지정한 시간 만큼 프로그램을 멈춘다.\n",
    "print('1등 번호:', end=' ')\n",
    "for i in range(6):\n",
    "    print(lotto[i], end=' ')\n",
    "    time.sleep(1)   # 시간은 초 단위로 지정한다.\n",
    "print('\\n보너스 번호: {:2d}'.format(lotto[6]))\n",
    "print('=' * 30)"
   ],
   "metadata": {
    "collapsed": false
   }
  },
  {
   "cell_type": "code",
   "execution_count": 152,
   "outputs": [
    {
     "name": "stdout",
     "output_type": "stream",
     "text": [
      "[11, 29, 35, 20, 40, 34]\n",
      "CPU times: user 103 µs, sys: 9 µs, total: 112 µs\n",
      "Wall time: 111 µs\n"
     ]
    }
   ],
   "source": [
    "%%time\n",
    "lotto = [i for i in range(1, 46)]\n",
    "# seed() 메서드를 이용하면 모두 똑같은 난수 배열을 얻을 수 있다. → 테스트 시 자주 사용\n",
    "# random.seed(42)\n",
    "# sample(리스트, 개수) 메서드는 리스트에 저장된 데이터 중에서 무작위로 지정된 개수 만큼 샘플링한다.\n",
    "print(random.sample(lotto, 6))"
   ],
   "metadata": {
    "collapsed": false
   }
  }
 ],
 "metadata": {
  "kernelspec": {
   "display_name": "Python 3",
   "language": "python",
   "name": "python3"
  },
  "language_info": {
   "codemirror_mode": {
    "name": "ipython",
    "version": 2
   },
   "file_extension": ".py",
   "mimetype": "text/x-python",
   "name": "python",
   "nbconvert_exporter": "python",
   "pygments_lexer": "ipython2",
   "version": "2.7.6"
  }
 },
 "nbformat": 4,
 "nbformat_minor": 0
}
