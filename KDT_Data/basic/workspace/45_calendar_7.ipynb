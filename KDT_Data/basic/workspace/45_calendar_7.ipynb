{
 "cells": [
  {
   "cell_type": "markdown",
   "source": [
    "키보드로 1을 입력하면 년, 월을 입력받아 입력한 년, 월에 해당되는 달력을 출력하고, 2를 입력하면 컴퓨터 시스템의 년, 월에 해당되는 달력을 출력한다."
   ],
   "metadata": {
    "collapsed": false
   }
  },
  {
   "cell_type": "code",
   "execution_count": 10,
   "outputs": [],
   "source": [
    "from calendarModule import *\n",
    "from datetime import datetime as dt"
   ],
   "metadata": {
    "collapsed": false
   }
  },
  {
   "cell_type": "code",
   "execution_count": 20,
   "outputs": [
    {
     "name": "stdout",
     "output_type": "stream",
     "text": [
      "종료합니다.\n",
      "=============================\n",
      "         2100년  1월\n",
      "=============================\n",
      "  일  월  화  수  목  금  토 \n",
      "=============================\n",
      "                      1   2 \n",
      "  3   4   5   6   7   8   9 \n",
      " 10  11  12  13  14  15  16 \n",
      " 17  18  19  20  21  22  23 \n",
      " 24  25  26  27  28  29  30 \n",
      " 31 \n",
      "=============================\n"
     ]
    }
   ],
   "source": [
    "menu = int(input('모드를 입력하세요(1: 직접 입력, 2: 현재)'))\n",
    "if menu == 1:\n",
    "    year, month = map(int, input('달력을 출력할 년, 월을 입력하세요.: ').split())\n",
    "elif menu == 2:\n",
    "    now = dt.now()\n",
    "    year = now.year\n",
    "    month = now.month\n",
    "else:\n",
    "    print('종료합니다.')\n",
    "\n",
    "print('=' * 29)\n",
    "print('         {:4d}년 {:2d}월'.format(year, month))\n",
    "print('=' * 29)\n",
    "print('  일  월  화  수  목  금  토 ')\n",
    "print('=' * 29)\n",
    "for i in range(weekDay(year, month, 1)):\n",
    "    print('    ', end='')\n",
    "\n",
    "for i in range(1, lastDay(year, month) + 1):\n",
    "    print(' {:2d} '.format(i), end='')\n",
    "    if weekDay(year, month, i) == 6 and i != lastDay(year, month):\n",
    "        print()\n",
    "    #==========if\n",
    "#==========for\n",
    "print('\\n' + '=' * 29)"
   ],
   "metadata": {
    "collapsed": false
   }
  }
 ],
 "metadata": {
  "kernelspec": {
   "display_name": "Python 3",
   "language": "python",
   "name": "python3"
  },
  "language_info": {
   "codemirror_mode": {
    "name": "ipython",
    "version": 2
   },
   "file_extension": ".py",
   "mimetype": "text/x-python",
   "name": "python",
   "nbconvert_exporter": "python",
   "pygments_lexer": "ipython2",
   "version": "2.7.6"
  }
 },
 "nbformat": 4,
 "nbformat_minor": 0
}
