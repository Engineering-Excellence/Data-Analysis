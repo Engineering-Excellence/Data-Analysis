{
 "cells": [
  {
   "cell_type": "markdown",
   "source": [
    "# if 명령의 형식\n",
    "if 조건식:\n",
    "&nbsp;&nbsp;&nbsp;&nbsp;조건식이 참일 경우 실행할 문장\n",
    "&nbsp;&nbsp;&nbsp;&nbsp;...\n",
    "else:\n",
    "&nbsp;&nbsp;&nbsp;&nbsp;조건식이 거짓일 경우 실행할 문장\n",
    "&nbsp;&nbsp;&nbsp;&nbsp;...\n",
    "***\n",
    "조건식을 만족하지 않을 때 아무런 일도 할 필요가 없다면 else 이하를 생략할 수 있다.\n",
    "조건을 만족/불만족하는 경우에 실행할 문장이 없다면 pass를 입력해야 한다."
   ],
   "metadata": {
    "collapsed": false
   }
  },
  {
   "cell_type": "markdown",
   "source": [
    "# 관계 연산자\n",
    "&nbsp;&nbsp;&nbsp;&nbsp;<: 미만\n",
    "&nbsp;&nbsp;&nbsp;&nbsp;<=: 이하\n",
    "&nbsp;&nbsp;&nbsp;&nbsp;>: 초과\n",
    "&nbsp;&nbsp;&nbsp;&nbsp;>=: 이상\n",
    "&nbsp;&nbsp;&nbsp;&nbsp;==: 같다\n",
    "&nbsp;&nbsp;&nbsp;&nbsp;!=: 같지 않다"
   ],
   "metadata": {
    "collapsed": false
   }
  },
  {
   "cell_type": "markdown",
   "source": [
    "# 논리 연산자\n",
    "&nbsp;&nbsp;&nbsp;&nbsp;and: 논리곱\n",
    "&nbsp;&nbsp;&nbsp;&nbsp;or: 논리합\n",
    "&nbsp;&nbsp;&nbsp;&nbsp;not: 논리 부정\n",
    "<img src=\"images/pythonlogo.png\" align=\"left\" width=\"350\" title=\"bool\">"
   ],
   "metadata": {
    "collapsed": false
   }
  },
  {
   "cell_type": "markdown",
   "source": [
    "# 연산자 우선순위\n",
    "단항 연산자 → 이항 연산자 → 삼항 연산자 → 대입 연산자('='와 함께 사용한다)\n",
    "이항 연산자: ** → *, /, //, % → +, - → 관계 연산자 → 논리 연산자(not → and → or)"
   ],
   "metadata": {
    "collapsed": false
   }
  },
  {
   "cell_type": "code",
   "execution_count": 1,
   "outputs": [
    {
     "name": "stdout",
     "output_type": "stream",
     "text": [
      "<class 'int'>\n",
      "투표권이 있습니다.\n"
     ]
    }
   ],
   "source": [
    "# 나이를 입력받아 투표권이 있는지 판단한다.\n",
    "age = int(input('나이를 입력하세요.: '))\n",
    "print(type(age))\n",
    "if age >= 18:\n",
    "    print('투표권이 있습니다.')\n",
    "elif age >= 0:\n",
    "    print('투표권이 없습니다.')\n",
    "else:\n",
    "    pass"
   ],
   "metadata": {
    "collapsed": false
   }
  },
  {
   "cell_type": "code",
   "execution_count": 15,
   "outputs": [
    {
     "name": "stdout",
     "output_type": "stream",
     "text": [
      "8304221185600\n",
      "1\n",
      "<class 'str'>\n",
      "남자\n"
     ]
    }
   ],
   "source": [
    "# 주민등록번호를 입력받아 성별을 판단한다.\n",
    "resident = input('주민등록번호 13자리를 \"-\" 없이 입력하세요.: ')\n",
    "print(resident)\n",
    "print(resident[6])\n",
    "print(type(resident[6]))\n",
    "# (튜플), {세트}, [리스트]\n",
    "if len(resident) != 13 or int(resident[6]) not in [1, 2, 3, 4]:\n",
    "    print('잘못된 주민등록번호')\n",
    "elif int(resident[6]) % 2:\n",
    "    print('남자')\n",
    "else:\n",
    "    print('여자')"
   ],
   "metadata": {
    "collapsed": false
   }
  },
  {
   "cell_type": "code",
   "execution_count": 37,
   "outputs": [
    {
     "name": "stdout",
     "output_type": "stream",
     "text": [
      "83\n",
      "1\n",
      "40\n",
      "당신의 출생년도는 83년이고, 나이는 39세입니다.\n"
     ]
    }
   ],
   "source": [
    "# resident = input('주민등록번호 13자리를 \"-\" 없이 입력하세요.: ')\n",
    "resident = '8304221185600'\n",
    "print(resident[:2])\n",
    "print(resident[6])\n",
    "print(122 - int(resident[:2]) - ((int(resident[6]) - 1) % 2) * 100)\n",
    "print('당신의 출생년도는 {}년이고, 나이는 {}세입니다.'.format(resident[:2], 122 - int(resident[:2]) - ((int(resident[6]) - 1) % 2) * 100))"
   ],
   "metadata": {
    "collapsed": false
   }
  },
  {
   "cell_type": "code",
   "execution_count": 1,
   "outputs": [
    {
     "name": "stdout",
     "output_type": "stream",
     "text": [
      "83\n",
      "<class 'str'>\n",
      "<class 'int'>\n",
      "당신의 출생 년도는 1983년 이고 나이는 39세 입니다.\n",
      "당신의 출생 년도는 1983년 이고 나이는 39세 입니다.\n"
     ]
    }
   ],
   "source": [
    "# 주민등록번호를 입력받아 나이를 출력한다.\n",
    "jumin = input('주민등록번호 13자리를 \"-\"없이 입력하세요: ')\n",
    "print(jumin[:2])\n",
    "print(type(jumin[:2]))\n",
    "year = int(jumin[:2])\n",
    "print(type(year))\n",
    "\n",
    "# 성별이 2이하면 1900년대에 그렇치 않으면 2000년대에 태어났다.\n",
    "'''\n",
    "if jumin[6] <= '2':\n",
    "    # year = year + 1900\n",
    "    # 대입 연산자\n",
    "    year += 1900\n",
    "else:\n",
    "    year += 2000\n",
    "'''\n",
    "# 삼항 연산자(간단한 if ~ else) → C/C++이나 Java는 '?:'를 사용한다.\n",
    "# 형식 → 조건이 참일 때 실행할 문장 if 조건식 else 조건이 거짓일 때 실행할 문장\n",
    "# year에 1900을 더할 때 jumin[6] <= '2' 조건을 만족하지 않는다면 2000을 더한다.\n",
    "year += 1900 if jumin[6] <= '2' else 2000\n",
    "\n",
    "print('당신의 출생 년도는 {}년 이고 나이는 {}세 입니다.'.format(year, 2022 - year))\n",
    "\n",
    "from datetime import datetime as dt\n",
    "\n",
    "now = dt.now()\n",
    "print('당신의 출생 년도는 {}년 이고 나이는 {}세 입니다.'.format(year, now.year - year))"
   ],
   "metadata": {
    "collapsed": false
   }
  },
  {
   "cell_type": "code",
   "execution_count": 5,
   "outputs": [
    {
     "name": "stdout",
     "output_type": "stream",
     "text": [
      "당신의 출생년도는 1983년이고, 나이는 39세입니다.\n"
     ]
    }
   ],
   "source": [
    "from datetime import datetime as dt\n",
    "\n",
    "now = dt.now()\n",
    "print('당신의 출생년도는 {}년이고, 나이는 {}세입니다.'.format(year, now.year - year))"
   ],
   "metadata": {
    "collapsed": false
   }
  },
  {
   "cell_type": "code",
   "execution_count": 13,
   "outputs": [
    {
     "name": "stdout",
     "output_type": "stream",
     "text": [
      "2000년은 윤년입니다.\n"
     ]
    }
   ],
   "source": [
    "# 윤년, 평년 판단하기\n",
    "# 연도가 4로 나눠 떨어지고 (and) 100으로 나눠 떨어지지 않거나 (or) 400으로 나눠 떨어지면 윤년, 그렇지 않으면 평년\n",
    "year = int(input('연도를 입력하세요.: '))\n",
    "isLeapYear = year % 4 == 0 and year % 100 != 0 or year % 400 == 0\n",
    "print('{}년은 {}년입니다.'.format(year, '윤' if isLeapYear else '평'))"
   ],
   "metadata": {
    "collapsed": false
   }
  },
  {
   "cell_type": "code",
   "execution_count": 14,
   "outputs": [
    {
     "name": "stdout",
     "output_type": "stream",
     "text": [
      "총점: 255, 평균: 85.00\n",
      "등급: B\n"
     ]
    }
   ],
   "source": [
    "# 세 과목 점수를 입력받아 평균 점수가 90점 이상이면 A, 80점 이상이면 B, 70점 이상이면 C, 60점 이상이면 D, 그 이외의 경우는 F를 출력한다.\n",
    "c, java, python = map(int, input('세 과목 점수를 입력하세요.: ').replace(', ', ' ').replace(',', ' ').split())\n",
    "total = c + java + python\n",
    "mean = total / 3\n",
    "\n",
    "print('총점: {}, 평균: {:5.2f}'.format(total, mean))\n",
    "\n",
    "if 90 <= mean <= 100:  # 파이썬은 샌드위치 형태의 부등식 조건도 사용할 수 있다.\n",
    "    print('등급: A')\n",
    "elif mean >= 80:\n",
    "    print('등급: B')\n",
    "elif mean >= 70:\n",
    "    print('등급: C')\n",
    "elif mean >= 60:\n",
    "    print('등급: D')\n",
    "else:\n",
    "    print('등급: F')"
   ],
   "metadata": {
    "collapsed": false
   }
  },
  {
   "cell_type": "code",
   "execution_count": 15,
   "outputs": [
    {
     "ename": "ValueError",
     "evalue": "not enough values to unpack (expected 3, got 0)",
     "output_type": "error",
     "traceback": [
      "\u001B[0;31m---------------------------------------------------------------------------\u001B[0m",
      "\u001B[0;31mValueError\u001B[0m                                Traceback (most recent call last)",
      "Cell \u001B[0;32mIn [15], line 2\u001B[0m\n\u001B[1;32m      1\u001B[0m \u001B[38;5;66;03m# 세 과목 점수를 입력받아 평균 점수가 90점 이상이면 A, 80점 이상이면 B, 70점 이상이면 C, 60점 이상이면 D, 그 이외의 경우는 F를 출력한다.\u001B[39;00m\n\u001B[0;32m----> 2\u001B[0m c, java, python \u001B[38;5;241m=\u001B[39m \u001B[38;5;28mmap\u001B[39m(\u001B[38;5;28mint\u001B[39m, \u001B[38;5;28minput\u001B[39m(\u001B[38;5;124m'\u001B[39m\u001B[38;5;124m세 과목 점수를 입력하세요.: \u001B[39m\u001B[38;5;124m'\u001B[39m)\u001B[38;5;241m.\u001B[39mreplace(\u001B[38;5;124m'\u001B[39m\u001B[38;5;124m, \u001B[39m\u001B[38;5;124m'\u001B[39m,\u001B[38;5;124m'\u001B[39m\u001B[38;5;124m \u001B[39m\u001B[38;5;124m'\u001B[39m)\u001B[38;5;241m.\u001B[39mreplace(\u001B[38;5;124m'\u001B[39m\u001B[38;5;124m,\u001B[39m\u001B[38;5;124m'\u001B[39m, \u001B[38;5;124m'\u001B[39m\u001B[38;5;124m \u001B[39m\u001B[38;5;124m'\u001B[39m)\u001B[38;5;241m.\u001B[39msplit())\n\u001B[1;32m      3\u001B[0m total \u001B[38;5;241m=\u001B[39m c \u001B[38;5;241m+\u001B[39m java \u001B[38;5;241m+\u001B[39m python\n\u001B[1;32m      4\u001B[0m mean \u001B[38;5;241m=\u001B[39m total \u001B[38;5;241m/\u001B[39m \u001B[38;5;241m3\u001B[39m\n",
      "\u001B[0;31mValueError\u001B[0m: not enough values to unpack (expected 3, got 0)"
     ]
    }
   ],
   "source": [
    "# 세 과목 점수를 입력받아 평균 점수가 90점 이상이면 A, 80점 이상이면 B, 70점 이상이면 C, 60점 이상이면 D, 그 이외의 경우는 F를 출력한다.\n",
    "c, java, python = map(int, input('세 과목 점수를 입력하세요.: ').replace(', ', ' ').replace(',', ' ').split())\n",
    "total = c + java + python\n",
    "mean = total / 3\n",
    "\n",
    "print('총점: {}, 평균: {:5.2f}'.format(total, mean))\n",
    "\n",
    "if 90 <= mean <= 100:  # 파이썬은 샌드위치 형태의 부등식 조건도 사용할 수 있다.\n",
    "    print('등급: A')\n",
    "elif mean >= 80:\n",
    "    print('등급: B')\n",
    "elif mean >= 70:\n",
    "    print('등급: C')\n",
    "elif mean >= 60:\n",
    "    print('등급: D')\n",
    "else:\n",
    "    print('등급: F')"
   ],
   "metadata": {
    "collapsed": false
   }
  },
  {
   "cell_type": "code",
   "execution_count": 16,
   "outputs": [],
   "source": [
    "# 난수를 발생시키는 random 모듈을 import 한다.\n",
    "import random"
   ],
   "metadata": {
    "collapsed": false
   }
  },
  {
   "cell_type": "code",
   "execution_count": 37,
   "outputs": [
    {
     "name": "stdout",
     "output_type": "stream",
     "text": [
      "20\n"
     ]
    }
   ],
   "source": [
    "# randint(a, b) 메서드는 a 이상 b 이하의 난수를 정수로 발생시킨다.\n",
    "print(random.randint(1, 45))\n",
    "\n",
    "# random() 메서드는 0 이상이고 1 미만인 난수를 실수로 발생시킨다.\n",
    "print(random.random())\n",
    "\n",
    "# randrange(a, b) 메서드는 a 이상 (b-1) 이하의 난수를 정수로 발생시킨다.\n",
    "print(random.randrange(1, 46))"
   ],
   "metadata": {
    "collapsed": false
   }
  },
  {
   "cell_type": "code",
   "execution_count": 126,
   "outputs": [
    {
     "name": "stdout",
     "output_type": "stream",
     "text": [
      "player: 1, computer: 3\n",
      "당신은 승리했습니다!\n"
     ]
    }
   ],
   "source": [
    "# 가위(1), 바위(2), 보(3)\n",
    "player = int(input('[가위(1), 바위(2), 보(3)]: '))\n",
    "computer = random.randint(1, 3)\n",
    "print('player: {}, computer: {}'.format(player, computer))\n",
    "if player == computer:\n",
    "    print('비겼습니다.')\n",
    "elif (player == 1 and computer == 3) or (player == 2 and computer == 1) or (player == 3 and computer == 2):\n",
    "    print('당신은 승리했습니다!')\n",
    "else:\n",
    "    print('당신은 패배했습니다.')"
   ],
   "metadata": {
    "collapsed": false
   }
  }
 ],
 "metadata": {
  "kernelspec": {
   "display_name": "Python 3",
   "language": "python",
   "name": "python3"
  },
  "language_info": {
   "codemirror_mode": {
    "name": "ipython",
    "version": 2
   },
   "file_extension": ".py",
   "mimetype": "text/x-python",
   "name": "python",
   "nbconvert_exporter": "python",
   "pygments_lexer": "ipython2",
   "version": "2.7.6"
  }
 },
 "nbformat": 4,
 "nbformat_minor": 0
}
