{
 "cells": [
  {
   "cell_type": "markdown",
   "source": [
    "# 주민등록번호 유효성 검사\n",
    "주민등록번호의 각 자리 숫자와 가중치(234567892345)를 곱한 합계를 계산한다.\n",
    "위의 결과를 11로 나눈 나머지를 계산해서 11에서 뺀다.\n",
    "11에서 나머지를 뺀 결과가 2자리 숫자가 나올 수 있으므로 10의 자리는 버리고 1의 자리만 취한다.\n",
    "1의 자리가 주민등록번호의 마지막 자리와 같으면 정상적인 주민등록번호이고 다르면 오류가 있는 주민등록번호이다.\n",
    "***\n",
    "<img src=\"./images/juminCheck.png\" width=\"700\"><br/>\n",
    "<img src=\"./images/juminCheck2.png\" width=\"700\"><br/>\n",
    "<img src=\"./images/juminCheck3.png\" width=\"700\">"
   ],
   "metadata": {
    "collapsed": false
   }
  },
  {
   "cell_type": "code",
   "execution_count": 24,
   "outputs": [
    {
     "name": "stdout",
     "output_type": "stream",
     "text": [
      "정상\n"
     ]
    }
   ],
   "source": [
    "# jumin = '8304221185600'\n",
    "jumin = input('((-)를 제외한 주민등록번호 13자리를 입력하세요.: ')\n",
    "weight = 0\n",
    "for i in range(0, 12, 1):\n",
    "    weight += int(jumin[i]) * (i % 8 + 2)\n",
    "# print(weight)\n",
    "result = (11 - weight % 11) % 10\n",
    "'''\n",
    "if str(result) == jumin[-1]:\n",
    "    print('정상인 주민등록번호입니다.')\n",
    "else:\n",
    "    print('유효하지 않은 주민등록번호입니다.')\n",
    "'''\n",
    "print('정상' if str(result) == jumin[-1] else '오류')"
   ],
   "metadata": {
    "collapsed": false
   }
  }
 ],
 "metadata": {
  "kernelspec": {
   "display_name": "Python 3",
   "language": "python",
   "name": "python3"
  },
  "language_info": {
   "codemirror_mode": {
    "name": "ipython",
    "version": 2
   },
   "file_extension": ".py",
   "mimetype": "text/x-python",
   "name": "python",
   "nbconvert_exporter": "python",
   "pygments_lexer": "ipython2",
   "version": "2.7.6"
  }
 },
 "nbformat": 4,
 "nbformat_minor": 0
}
