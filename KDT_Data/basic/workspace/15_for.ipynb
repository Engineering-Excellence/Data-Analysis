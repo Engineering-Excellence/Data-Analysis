{
 "cells": [
  {
   "cell_type": "markdown",
   "source": [
    "# for\n",
    "제어 변수에 list, tuple, dict, set에 저장된 데이터가 처음부터 마지막까지 차례대로 대입되며 반복한다.\n",
    "***\n",
    "for 제어변수 in (list or tuple or dict or set):\n",
    "&nbsp;&nbsp;&nbsp;&nbsp;반복할 문장\n",
    "&nbsp;&nbsp;&nbsp;&nbsp;..."
   ],
   "metadata": {
    "collapsed": false
   }
  },
  {
   "cell_type": "markdown",
   "source": [
    "# range() 함수\n",
    "range() 함수는 지정한 초기값, 최종값, 증가값에 따른 숫자 리스트를 만든다.\n",
    "***\n",
    "형식\n",
    "range([초기값, ]최종값[, 증가값])\n",
    "초기값과 증가값은 생략할 수 있고, 초기값이 생략되면 0이, 증가값이 생략되면 1이 기본값으로 적용된다.\n",
    "즉, range(0, 10, 1)과 range(10)은 같은 표현이다."
   ],
   "metadata": {
    "collapsed": false
   }
  },
  {
   "cell_type": "code",
   "execution_count": 9,
   "outputs": [
    {
     "name": "stdout",
     "output_type": "stream",
     "text": [
      "range(0, 10)\n",
      "[0, 1, 2, 3, 4, 5, 6, 7, 8, 9]\n",
      "range(0, 10)\n",
      "[0, 1, 2, 3, 4, 5, 6, 7, 8, 9]\n",
      "[0, 2, 4, 6, 8]\n",
      "[1, 3, 5, 7, 9]\n",
      "[9, 8, 7, 6, 5, 4, 3, 2, 1, 0]\n"
     ]
    }
   ],
   "source": [
    "# range() 함수는 초기값부터 증가값 만큼 증가하며 최종값을 넘지 않는(미만) 숫자 리스트를 만든다.\n",
    "# range() 함수가 실행된 결과 리스트는 list() 생성자 함수를 사용해서 확인한다.\n",
    "print(range(0, 10, 1))\n",
    "print(list(range(0, 10, 1)))\n",
    "print(range(10))\n",
    "print(list(range(10)))\n",
    "print(list(range(0, 10, 2)))\n",
    "print(list(range(1, 10, 2)))\n",
    "print(list(range(9, -1, -1)))"
   ],
   "metadata": {
    "collapsed": false
   }
  },
  {
   "cell_type": "code",
   "execution_count": 16,
   "outputs": [
    {
     "name": "stdout",
     "output_type": "stream",
     "text": [
      "0\n",
      "1\n",
      "2\n",
      "3\n",
      "4\n"
     ]
    }
   ],
   "source": [
    "# print(list(range(5))) # [0, 1, 2, 3, 4]\n",
    "# for i in [0, 1, 2, 3, 4]:\n",
    "for i in range(5):\n",
    "    print(i)"
   ],
   "metadata": {
    "collapsed": false
   }
  },
  {
   "cell_type": "code",
   "execution_count": 17,
   "outputs": [
    {
     "name": "stdout",
     "output_type": "stream",
     "text": [
      "55\n"
     ]
    }
   ],
   "source": [
    "# 1~10의 합계 - while\n",
    "i = 0\n",
    "total = 0\n",
    "while i < 10:\n",
    "    i += 1\n",
    "    total += i\n",
    "# ===== while\n",
    "print(total)"
   ],
   "metadata": {
    "collapsed": false
   }
  },
  {
   "cell_type": "code",
   "execution_count": 21,
   "outputs": [
    {
     "name": "stdout",
     "output_type": "stream",
     "text": [
      "55\n"
     ]
    }
   ],
   "source": [
    "# 1~10 합계 - for\n",
    "total = 0\n",
    "for i in range(1, 11):\n",
    "    total += i\n",
    "# ===== for\n",
    "print(total)"
   ],
   "metadata": {
    "collapsed": false
   }
  },
  {
   "cell_type": "markdown",
   "source": [
    "주사위를 10번 굴려서 출현한 눈의 개수를 센다. → 변수 사용"
   ],
   "metadata": {
    "collapsed": false
   }
  },
  {
   "cell_type": "code",
   "execution_count": 113,
   "outputs": [
    {
     "name": "stdout",
     "output_type": "stream",
     "text": [
      "1의 개수: 3\n",
      "2의 개수: 2\n",
      "3의 개수: 3\n",
      "4의 개수: 1\n",
      "5의 개수: 0\n",
      "6의 개수: 1\n"
     ]
    }
   ],
   "source": [
    "import random\n",
    "\n",
    "num1 = 0; num2 = 0; num3 = 0; num4 = 0; num5 = 0; num6 = 0\n",
    "\n",
    "for i in range(1, 11):\n",
    "    dice = random.randint(1, 6)\n",
    "    # print(dice)\n",
    "    if dice == 1:\n",
    "        num1 += 1\n",
    "    if dice == 2:\n",
    "        num2 += 1\n",
    "    if dice == 3:\n",
    "        num3 += 1\n",
    "    if dice == 4:\n",
    "        num4 += 1\n",
    "    if dice == 5:\n",
    "        num5 += 1\n",
    "    if dice == 6:\n",
    "        num6 +=1\n",
    "\n",
    "print(f'1의 개수: {num1}')\n",
    "print(f'2의 개수: {num2}')\n",
    "print(f'3의 개수: {num3}')\n",
    "print(f'4의 개수: {num4}')\n",
    "print(f'5의 개수: {num5}')\n",
    "print(f'6의 개수: {num6}')"
   ],
   "metadata": {
    "collapsed": false
   }
  },
  {
   "cell_type": "markdown",
   "source": [
    "주사위를 10번 굴려서 출현한 눈의 개수를 센다. → 리스트 사용"
   ],
   "metadata": {
    "collapsed": false
   }
  },
  {
   "cell_type": "code",
   "execution_count": 122,
   "outputs": [
    {
     "name": "stdout",
     "output_type": "stream",
     "text": [
      "1의 개수: 0\n",
      "2의 개수: 1\n",
      "3의 개수: 2\n",
      "4의 개수: 0\n",
      "5의 개수: 5\n",
      "6의 개수: 2\n"
     ]
    }
   ],
   "source": [
    "# 방법 1. 크기가 6인 0으로 초기화 된 리스트를 선언 → 같은 값으로만 초기화\n",
    "# count = [0, 0, 0, 0, 0, 0]\n",
    "# count = [0] * 6\n",
    "\n",
    "# 방법 2. 빈 리스트를 선언한 후 append() 메서드로 0을 넣어준다. → 같은 값으로만 초기화\n",
    "# count = []\n",
    "# for i in range(6):\n",
    "#     count.append(0)\n",
    "\n",
    "# 방법 3. 반복문을 사용해서 리스트를 생성한다. → 서로 다른 초기값이 필요한 경우\n",
    "count = [0 for i in range(6)]\n",
    "# print(count)\n",
    "\n",
    "for i in range(1, 11):\n",
    "    dice = random.randrange(1, 7)\n",
    "    # print(dice)\n",
    "    count[dice - 1] += 1\n",
    "\n",
    "# print(count)\n",
    "for i in range(0, len(count)):\n",
    "    print('{}의 개수: {}'.format(i + 1, count[i]))"
   ],
   "metadata": {
    "collapsed": false
   }
  }
 ],
 "metadata": {
  "kernelspec": {
   "display_name": "Python 3",
   "language": "python",
   "name": "python3"
  },
  "language_info": {
   "codemirror_mode": {
    "name": "ipython",
    "version": 2
   },
   "file_extension": ".py",
   "mimetype": "text/x-python",
   "name": "python",
   "nbconvert_exporter": "python",
   "pygments_lexer": "ipython2",
   "version": "2.7.6"
  }
 },
 "nbformat": 4,
 "nbformat_minor": 0
}
