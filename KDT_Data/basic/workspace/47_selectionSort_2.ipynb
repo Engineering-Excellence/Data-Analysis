{
 "cells": [
  {
   "cell_type": "code",
   "execution_count": 1,
   "metadata": {
    "collapsed": true
   },
   "outputs": [],
   "source": [
    "from selectionSort import *"
   ]
  },
  {
   "cell_type": "markdown",
   "source": [
    "999가 입력될 때까지 데이터를 입력받아서 정렬한다."
   ],
   "metadata": {
    "collapsed": false
   }
  },
  {
   "cell_type": "code",
   "execution_count": 6,
   "outputs": [
    {
     "name": "stdout",
     "output_type": "stream",
     "text": [
      "입력한 데이터: [8, 3, 4, 9, 1]\n",
      "오름차순 정렬 결과: [1, 3, 4, 8, 9]\n",
      "내림차순 정렬 결과: [9, 8, 4, 3, 1]\n"
     ]
    }
   ],
   "source": [
    "data = []\n",
    "while True:\n",
    "    n = int(input('정렬할 데이터 입력: '))\n",
    "    # 999가 입력되면 무한 루프를 탈출하고 데이터를 정렬한다.\n",
    "    if n == 999:\n",
    "        break\n",
    "    # ===== if\n",
    "    data.append(n)\n",
    "# ===== while True\n",
    "print('입력한 데이터: {}'.format(data))\n",
    "\n",
    "result = selection_sort_asc(data)\n",
    "print(f'오름차순 정렬 결과: {data}')\n",
    "result = selection_sort_desc(data)\n",
    "print(f'내림차순 정렬 결과: {data}')"
   ],
   "metadata": {
    "collapsed": false
   }
  },
  {
   "cell_type": "code",
   "execution_count": 9,
   "outputs": [
    {
     "name": "stdout",
     "output_type": "stream",
     "text": [
      "입력한 데이터: [8, 3, 4, 9, 1, 999]\n",
      "오름차순 정렬 결과: [1, 3, 4, 8, 9]\n",
      "입력한 데이터에서 마지막 데이터를 제거한 데이터: [8, 3, 4, 9, 1]\n",
      "내림차순 정렬 결과: [9, 8, 4, 3, 1]\n"
     ]
    }
   ],
   "source": [
    "data = []\n",
    "n = 0\n",
    "\n",
    "while n != 999:\n",
    "    n = int(input('정렬할 데이터 입력: '))\n",
    "    data.append(n)\n",
    "# ===== while\n",
    "print('입력한 데이터: {}'.format(data))\n",
    "\n",
    "# result = selection_sort_asc(data[:len(data) - 1])\n",
    "result = selection_sort_asc(data[:-1])\n",
    "print(f'오름차순 정렬 결과: {result}')\n",
    "\n",
    "# del data[len(data) - 1]\n",
    "# del data[-1]\n",
    "# data.remove(999)\n",
    "data.pop()\n",
    "print('입력한 데이터에서 마지막 데이터를 제거한 데이터: {}'.format(data))\n",
    "\n",
    "result = selection_sort_desc(data)\n",
    "print(f'내림차순 정렬 결과: {result}')"
   ],
   "metadata": {
    "collapsed": false
   }
  }
 ],
 "metadata": {
  "kernelspec": {
   "display_name": "Python 3",
   "language": "python",
   "name": "python3"
  },
  "language_info": {
   "codemirror_mode": {
    "name": "ipython",
    "version": 2
   },
   "file_extension": ".py",
   "mimetype": "text/x-python",
   "name": "python",
   "nbconvert_exporter": "python",
   "pygments_lexer": "ipython2",
   "version": "2.7.6"
  }
 },
 "nbformat": 4,
 "nbformat_minor": 0
}
