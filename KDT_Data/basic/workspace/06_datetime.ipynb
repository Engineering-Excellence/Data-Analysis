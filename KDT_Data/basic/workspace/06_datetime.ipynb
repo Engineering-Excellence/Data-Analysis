{
 "cells": [
  {
   "cell_type": "markdown",
   "source": [
    "# datetime 모듈\n",
    "컴퓨터 시스템의 날짜와 시간을 얻어온다."
   ],
   "metadata": {
    "collapsed": false
   }
  },
  {
   "cell_type": "code",
   "execution_count": 2,
   "outputs": [
    {
     "name": "stdout",
     "output_type": "stream",
     "text": [
      "2022-11-10 14:33:44.910482\n"
     ]
    }
   ],
   "source": [
    "import datetime # datetime 모듈 전체를 import 한다.\n",
    "now = datetime.datetime.now()\n",
    "print(now)"
   ],
   "metadata": {
    "collapsed": false
   }
  },
  {
   "cell_type": "code",
   "execution_count": 3,
   "outputs": [
    {
     "name": "stdout",
     "output_type": "stream",
     "text": [
      "2022-11-10 14:33:44.914401\n"
     ]
    }
   ],
   "source": [
    "from datetime import datetime   # datetime 모듈에서 datetime 클래스만 import 한다.\n",
    "now2 = datetime.now()\n",
    "print(now2)"
   ],
   "metadata": {
    "collapsed": false
   }
  },
  {
   "cell_type": "code",
   "execution_count": 4,
   "outputs": [
    {
     "name": "stdout",
     "output_type": "stream",
     "text": [
      "2022-11-10 14:33:44.917190\n"
     ]
    }
   ],
   "source": [
    "from datetime import datetime as dt # import 하는 datetime 클래스의 별명을 dt로 지정한다.\n",
    "# import 하는 모듈에 별명을 지정한 경우 원래 모듈 이름은 사용할 수 없고 as 뒤의 별명을 사용해야 한다.\n",
    "now3 = dt.now()\n",
    "print(now3)"
   ],
   "metadata": {
    "collapsed": false
   }
  },
  {
   "cell_type": "markdown",
   "source": [
    "날짜, 시간 데이터에서 년, 월, 일, 시, 분, 초, 밀리초, 마이크로초, 요일만 추출하기"
   ],
   "metadata": {
    "collapsed": false
   }
  },
  {
   "cell_type": "code",
   "execution_count": 5,
   "outputs": [
    {
     "name": "stdout",
     "output_type": "stream",
     "text": [
      "2022-11-10 14:33:44.921152\n",
      "년: 2022\n",
      "월: 11\n",
      "일: 10\n",
      "시: 14\n",
      "분: 33\n",
      "초: 44\n",
      "밀리초: 921\n",
      "마이크로초: 921152\n",
      "요일: 3\n",
      "요일: 목\n"
     ]
    }
   ],
   "source": [
    "from datetime import datetime as dt\n",
    "today = dt.now()\n",
    "print(today)\n",
    "print('년: {}'.format(today.year))\n",
    "print('월: {}'.format(today.month))\n",
    "print('일: {}'.format(today.day))\n",
    "print('시: {}'.format(today.hour))\n",
    "print('분: {}'.format(today.minute))\n",
    "print('초: {}'.format(today.second))\n",
    "print('밀리초: {}'.format(today.microsecond // 1000))\n",
    "print('마이크로초: {}'.format(today.microsecond))\n",
    "# weekday() 메서드로 요일을 숫자로 얻어올 수  있다. → 월(0), 화(1), ..., 일(6)\n",
    "print('요일: {}'.format(today.weekday()))\n",
    "week = ['월', '화', '수', '목', '금', '토', '일']\n",
    "print('요일: {}'.format(week[today.weekday()]))"
   ],
   "metadata": {
    "collapsed": false
   }
  },
  {
   "cell_type": "markdown",
   "source": [
    "날짜, 시간 수정하기"
   ],
   "metadata": {
    "collapsed": false
   }
  },
  {
   "cell_type": "code",
   "execution_count": 6,
   "outputs": [
    {
     "name": "stdout",
     "output_type": "stream",
     "text": [
      "2022-11-10 14:33:44.925883\n",
      "2021-04-09 14:33:44.925883\n"
     ]
    }
   ],
   "source": [
    "from datetime import datetime as dt\n",
    "today = dt.now()\n",
    "print(today)\n",
    "print(today.replace(year=2021).replace(month=4).replace(day=9))"
   ],
   "metadata": {
    "collapsed": false
   }
  },
  {
   "cell_type": "markdown",
   "source": [
    "날짜, 시간 데이터 만들기"
   ],
   "metadata": {
    "collapsed": false
   }
  },
  {
   "cell_type": "code",
   "execution_count": 7,
   "outputs": [
    {
     "name": "stdout",
     "output_type": "stream",
     "text": [
      "2021-04-09 00:00:00\n",
      "2022-11-10 13:00:00\n",
      "2021-04-09 13:00:00\n"
     ]
    }
   ],
   "source": [
    "from dateutil.parser import parse\n",
    "date = parse('2021-4-9')\n",
    "print(date)\n",
    "time = parse('13:00:00')\n",
    "print(time)\n",
    "day = parse('2021-4-9 13:00:00')\n",
    "print(day)"
   ],
   "metadata": {
    "collapsed": false
   }
  },
  {
   "cell_type": "markdown",
   "source": [
    "두 날짜 데이터 사이의 차이 계산하기"
   ],
   "metadata": {
    "collapsed": false
   }
  },
  {
   "cell_type": "code",
   "execution_count": 8,
   "outputs": [
    {
     "name": "stdout",
     "output_type": "stream",
     "text": [
      "2022-11-10 14:33:44.931982\n",
      "2023-03-27 12:20:00\n"
     ]
    }
   ],
   "source": [
    "start = dt.now()\n",
    "print(start)\n",
    "end = parse('2023-3-27 12:20:00')\n",
    "print(end)"
   ],
   "metadata": {
    "collapsed": false
   }
  },
  {
   "cell_type": "code",
   "execution_count": 9,
   "outputs": [
    {
     "name": "stdout",
     "output_type": "stream",
     "text": [
      "136 days, 21:46:15.068018\n",
      "136\n",
      "78375\n",
      "68018\n",
      "11828775.068018\n"
     ]
    }
   ],
   "source": [
    "gap = end - start\n",
    "print(gap)\n",
    "print(gap.days) # 두 날짜 데이터 사이의 일 단위 차이를 얻어온다. → 날짜만\n",
    "print(gap.seconds)  # 두 날짜 데이터 사이의 초 단위 차이를 얻어온다. →\n",
    "print(gap.microseconds)  # 두 날짜 데이터 사이의 마이크로초 단위 차이를 얻어온다. → 밀리초만\n",
    "print(gap.total_seconds())  # 두 날짜 데이터 사이의 차이를 초 단위로 환산해서 얻어온다. → 데이터 전체"
   ],
   "metadata": {
    "collapsed": false
   }
  },
  {
   "cell_type": "markdown",
   "source": [
    "날짜, 시간 출력 서식 지정하기\n",
    "날짜데이터.strftime('출력서식')"
   ],
   "metadata": {
    "collapsed": false
   }
  },
  {
   "cell_type": "markdown",
   "source": [
    "날짜 서식\n",
    "%Y: 연도 4자리\n",
    "%y: 연도 2자리\n",
    "%m: 월(숫자)\n",
    "%B: 월(영어)\n",
    "%b: 월(영어 줄임말)\n",
    "%d: 일\n",
    "%A: 요일(영어)\n",
    "%a: 요일(영어 줄임말)"
   ],
   "metadata": {
    "collapsed": false
   }
  },
  {
   "cell_type": "code",
   "execution_count": 14,
   "outputs": [
    {
     "name": "stdout",
     "output_type": "stream",
     "text": [
      "2022년 11월 10일\n",
      "2022년 11월 10일\n",
      "22-Nov-10\n",
      "November 10 2022\n"
     ]
    }
   ],
   "source": [
    "print(today.strftime('%Y년 %m월 %d일'))\n",
    "# 날짜, 시간 서식에 한글을 넣었을 때 유니코드 인코딩 문제로 UnicodeEncodeError가 발생할 수 있다.\n",
    "# 해당 문제 대처 코딩\n",
    "print(today.strftime('%Y년 %m월 %d일'.encode('unicode-escape').decode()).encode().decode('unicode-escape'))\n",
    "\n",
    "print(today.strftime('%y-%b-%d'))\n",
    "print(today.strftime('%B %d %Y'))"
   ],
   "metadata": {
    "collapsed": false
   }
  },
  {
   "cell_type": "markdown",
   "source": [
    "시간 서식\n",
    "%H: 시간(24시)\n",
    "%I: 시간(12시)\n",
    "%M: 분\n",
    "%S: 초\n",
    "%f: 마이크로초\n",
    "%p: AM/PM"
   ],
   "metadata": {
    "collapsed": false
   }
  },
  {
   "cell_type": "code",
   "execution_count": 19,
   "outputs": [
    {
     "name": "stdout",
     "output_type": "stream",
     "text": [
      "2022-11-10 14:45:54.716882\n",
      "PM 02:45:54\n",
      "14:45:54\n",
      "14시 45분 54초\n",
      "14시 45분 54초\n"
     ]
    }
   ],
   "source": [
    "today = dt.now()\n",
    "print(today)\n",
    "print(today.strftime('%p %I:%M:%S'))\n",
    "print(today.strftime('%H:%M:%S'))\n",
    "print(today.strftime('%H시 %M분 %S초'))\n",
    "print(today.strftime('%H시 %M분 %S초'.encode('unicode-escape').decode()).encode().decode('unicode-escape'))"
   ],
   "metadata": {
    "collapsed": false
   }
  },
  {
   "cell_type": "code",
   "execution_count": null,
   "outputs": [],
   "source": [],
   "metadata": {
    "collapsed": false
   }
  }
 ],
 "metadata": {
  "kernelspec": {
   "display_name": "Python 3",
   "language": "python",
   "name": "python3"
  },
  "language_info": {
   "codemirror_mode": {
    "name": "ipython",
    "version": 2
   },
   "file_extension": ".py",
   "mimetype": "text/x-python",
   "name": "python",
   "nbconvert_exporter": "python",
   "pygments_lexer": "ipython2",
   "version": "2.7.6"
  }
 },
 "nbformat": 4,
 "nbformat_minor": 0
}
