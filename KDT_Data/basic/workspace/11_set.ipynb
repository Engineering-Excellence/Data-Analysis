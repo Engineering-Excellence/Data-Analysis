{
 "cells": [
  {
   "cell_type": "markdown",
   "source": [
    "# set 만들기\n",
    "set은 수학의 집합과 비슷한 형태로 중복되는 데이터의 입력을 허용하지 않고 입력되는 데이터의 순서와 실제로 저장되는 순서가 달라서 인덱싱과 슬라이싱 사용 불가\n",
    "딕셔너리처럼 {}를 사용해서 데이터를 감싸주지만 key가 존재하지 않고 value들만 존재한다."
   ],
   "metadata": {
    "collapsed": false
   }
  },
  {
   "cell_type": "code",
   "execution_count": 3,
   "outputs": [
    {
     "name": "stdout",
     "output_type": "stream",
     "text": [
      "<class 'dict'>\n",
      "<class 'set'>\n"
     ]
    }
   ],
   "source": [
    "# 빈 set 만들기\n",
    "a = {}  # 빈 set은 {}를 사용해서 만들 수 없다 → 딕셔너리로 인식한다.\n",
    "print(type(a))\n",
    "\n",
    "# 빈 set을 만들 때 반드시 생성자 함수를 사용해야 한다.\n",
    "b = set()\n",
    "print(type(b))"
   ],
   "metadata": {
    "collapsed": false
   }
  },
  {
   "cell_type": "code",
   "execution_count": 4,
   "outputs": [
    {
     "name": "stdout",
     "output_type": "stream",
     "text": [
      "<class 'set'>\n",
      "{1, 2, 3, 4}\n"
     ]
    }
   ],
   "source": [
    "a = {1, 2, 3, 4}\n",
    "print(type(a))\n",
    "print(a)"
   ],
   "metadata": {
    "collapsed": false
   }
  },
  {
   "cell_type": "code",
   "execution_count": 8,
   "outputs": [
    {
     "name": "stdout",
     "output_type": "stream",
     "text": [
      "<class 'set'>\n",
      "{1, 2, 3, 4}\n",
      "<class 'set'>\n",
      "{1, 2, 3, 4}\n"
     ]
    }
   ],
   "source": [
    "# 생성자 함수의 매개변수로 리스트나 튜플을 넘겨받아 set을 만들 수 있다.\n",
    "a = set([1, 2, 3, 4])\n",
    "print(type(a))\n",
    "print(a)\n",
    "b = set((1, 2, 3, 4))\n",
    "print(type(b))\n",
    "print(b)"
   ],
   "metadata": {
    "collapsed": false
   }
  },
  {
   "cell_type": "code",
   "execution_count": 9,
   "outputs": [
    {
     "name": "stdout",
     "output_type": "stream",
     "text": [
      "{1, 3, 5, 7}\n"
     ]
    }
   ],
   "source": [
    "# set은 중복되는 데이터의 입력을 허용하지 않는다.\n",
    "a = {1, 5, 1, 1, 1, 1, 3, 5, 7, 7}   # 중복 데이터 제거하여 set 생성, 순서 강제로 섞임\n",
    "print(a)"
   ],
   "metadata": {
    "collapsed": false
   }
  },
  {
   "cell_type": "code",
   "execution_count": 17,
   "outputs": [
    {
     "name": "stdout",
     "output_type": "stream",
     "text": [
      "set()\n",
      "{'홍길동'}\n",
      "{'임꺽정', '홍길동'}\n",
      "{'임꺽정', '장길산', '홍길동'}\n",
      "{'임꺽정', '일지매', '장길산', '홍길동'}\n",
      "{'임꺽정', '일지매', '장길산', '홍길동'}\n"
     ]
    }
   ],
   "source": [
    "# add() 메서드로 데이터를 1건씩 추가할 수 있다.\n",
    "a = set()\n",
    "print(a)\n",
    "a.add('홍길동')\n",
    "print(a)\n",
    "a.add('임꺽정')\n",
    "print(a)\n",
    "a.add('장길산')\n",
    "print(a)\n",
    "a.add('일지매')\n",
    "print(a)\n",
    "a.add('일지매')    # 중복 데이터 추가 불가\n",
    "print(a)"
   ],
   "metadata": {
    "collapsed": false
   }
  },
  {
   "cell_type": "code",
   "execution_count": 23,
   "outputs": [
    {
     "name": "stdout",
     "output_type": "stream",
     "text": [
      "{'임꺽정', '일지매', '장길산', '홍길동'}\n",
      "================================================================================\n",
      "['손오공', '저팔계', '사오정', '삼장법사']\n",
      "{'손오공', '사오정', '삼장법사', '저팔계', '임꺽정', '홍길동', '장길산', '일지매'}\n",
      "================================================================================\n",
      "('피콜로', '마인부우', '베지터', '프리저')\n",
      "{'프리저', '손오공', '사오정', '삼장법사', '저팔계', '임꺽정', '베지터', '홍길동', '마인부우', '피콜로', '장길산', '일지매'}\n",
      "================================================================================\n"
     ]
    }
   ],
   "source": [
    "# update() 메서드로 리스트나 튜플에 저장된 데이터를 set에 일괄적으로 추가할 수 있다.\n",
    "a = {'임꺽정', '일지매', '장길산', '홍길동'}\n",
    "print(a)\n",
    "print('=' * 80)\n",
    "\n",
    "b = ['손오공', '저팔계', '사오정', '삼장법사']\n",
    "print(b)\n",
    "a.update(b)\n",
    "print(a)\n",
    "print('=' * 80)\n",
    "\n",
    "c = '피콜로', '마인부우', '베지터', '프리저'\n",
    "print(c)\n",
    "a.update(c)\n",
    "print(a)\n",
    "print('=' * 80)"
   ],
   "metadata": {
    "collapsed": false
   }
  },
  {
   "cell_type": "code",
   "execution_count": 25,
   "outputs": [
    {
     "name": "stdout",
     "output_type": "stream",
     "text": [
      "{'임꺽정', '홍길동', '장길산', '일지매'}\n",
      "{'임꺽정', '홍길동', '일지매'}\n"
     ]
    },
    {
     "ename": "KeyError",
     "evalue": "'장길산'",
     "output_type": "error",
     "traceback": [
      "\u001B[0;31m---------------------------------------------------------------------------\u001B[0m",
      "\u001B[0;31mKeyError\u001B[0m                                  Traceback (most recent call last)",
      "Cell \u001B[0;32mIn [25], line 7\u001B[0m\n\u001B[1;32m      5\u001B[0m a\u001B[38;5;241m.\u001B[39mremove(\u001B[38;5;124m'\u001B[39m\u001B[38;5;124m장길산\u001B[39m\u001B[38;5;124m'\u001B[39m)\n\u001B[1;32m      6\u001B[0m \u001B[38;5;28mprint\u001B[39m(a)\n\u001B[0;32m----> 7\u001B[0m \u001B[43ma\u001B[49m\u001B[38;5;241;43m.\u001B[39;49m\u001B[43mremove\u001B[49m\u001B[43m(\u001B[49m\u001B[38;5;124;43m'\u001B[39;49m\u001B[38;5;124;43m장길산\u001B[39;49m\u001B[38;5;124;43m'\u001B[39;49m\u001B[43m)\u001B[49m \u001B[38;5;66;03m# KeyError: set에 존재하지 않는 데이터를 삭제 시도하면 에러가 발생한다.\u001B[39;00m\n\u001B[1;32m      8\u001B[0m \u001B[38;5;28mprint\u001B[39m(a)\n",
      "\u001B[0;31mKeyError\u001B[0m: '장길산'"
     ]
    }
   ],
   "source": [
    "# remove() 메서드로 매개변수로 지정한 데이터를 set에서 제거한다.\n",
    "a = {'홍길동', '장길산', '일지매', '임꺽정'}\n",
    "print(a)\n",
    "\n",
    "a.remove('장길산')\n",
    "print(a)\n",
    "a.remove('장길산') # KeyError: set에 존재하지 않는 데이터를 삭제 시도하면 에러가 발생한다.\n",
    "print(a)"
   ],
   "metadata": {
    "collapsed": false
   }
  },
  {
   "cell_type": "code",
   "execution_count": 28,
   "outputs": [
    {
     "name": "stdout",
     "output_type": "stream",
     "text": [
      "{'임꺽정', '홍길동', '장길산', '일지매'}\n",
      "{'임꺽정', '홍길동', '일지매'}\n",
      "{'임꺽정', '홍길동', '일지매'}\n"
     ]
    }
   ],
   "source": [
    "# discard() 메서드로 매개변수로 지정한 데이터를 set에서 제거한다.\n",
    "a = {'홍길동', '장길산', '일지매', '임꺽정'}\n",
    "print(a)\n",
    "\n",
    "a.discard('장길산')\n",
    "print(a)\n",
    "a.discard('장길산') # set에 존재하지 않는 데이터를 삭제하려해도 에러가 발생하지 않는다.\n",
    "print(a)"
   ],
   "metadata": {
    "collapsed": false
   }
  },
  {
   "cell_type": "code",
   "execution_count": 31,
   "outputs": [
    {
     "name": "stdout",
     "output_type": "stream",
     "text": [
      "{'임꺽정', '홍길동', '장길산', '일지매'}\n",
      "set()\n"
     ]
    }
   ],
   "source": [
    "# clear() 메서드로 set에 저장된 모든 데이터를 제거할 수 있다.\n",
    "a = {'홍길동', '장길산', '일지매', '임꺽정'}\n",
    "print(a)\n",
    "\n",
    "a.clear()\n",
    "print(a)\n",
    "\n",
    "# del 명령을 사용해서 set 자체를 메모리에서 제거할 수 있다.\n",
    "del a\n",
    "# print(a)    # NameError"
   ],
   "metadata": {
    "collapsed": false
   }
  },
  {
   "cell_type": "markdown",
   "source": [
    "# 집합 연산"
   ],
   "metadata": {
    "collapsed": false
   }
  },
  {
   "cell_type": "code",
   "execution_count": 36,
   "outputs": [
    {
     "name": "stdout",
     "output_type": "stream",
     "text": [
      "{1, 2, 3, 4, 5, 6, 7}\n",
      "{1, 2, 3, 4, 5, 6, 7}\n",
      "{3, 4, 5}\n",
      "{3, 4, 5}\n",
      "{1, 2}\n",
      "{1, 2}\n",
      "{1, 2, 6, 7}\n",
      "{1, 2, 6, 7}\n"
     ]
    }
   ],
   "source": [
    "a = {1, 2, 3, 4, 5}\n",
    "b = {3, 4, 5, 6, 7}\n",
    "\n",
    "# 합집합 → union(), |\n",
    "print(a.union(b))\n",
    "print(a | b)\n",
    "\n",
    "# 교집합 → intersection(), &\n",
    "print(a.intersection(b))\n",
    "print(a & b)\n",
    "\n",
    "# 차집합 → difference(), -\n",
    "print(a.difference(b))\n",
    "print(a - b)\n",
    "\n",
    "# 대칭 차집합: 합집합 - 교집합 → symmetric_difference(), ^\n",
    "print(a.symmetric_difference(b))\n",
    "print(a ^ b)"
   ],
   "metadata": {
    "collapsed": false
   }
  }
 ],
 "metadata": {
  "kernelspec": {
   "display_name": "Python 3",
   "language": "python",
   "name": "python3"
  },
  "language_info": {
   "codemirror_mode": {
    "name": "ipython",
    "version": 2
   },
   "file_extension": ".py",
   "mimetype": "text/x-python",
   "name": "python",
   "nbconvert_exporter": "python",
   "pygments_lexer": "ipython2",
   "version": "2.7.6"
  }
 },
 "nbformat": 4,
 "nbformat_minor": 0
}
