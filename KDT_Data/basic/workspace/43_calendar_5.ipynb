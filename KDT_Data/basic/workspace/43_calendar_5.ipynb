{
 "cells": [
  {
   "cell_type": "markdown",
   "metadata": {},
   "source": [
    "같은 모듈을 여러 프로젝트에서 사용해야 한다면 각각의 프로젝트에 같은 모듈을 복사해서 사용할 경우 유지보수시 문제점이 발생할 수 있다.\n",
    "import 할 모듈이 현재 사용중인 컴퓨터 어딘가에 있을 경우 sys 모듈을 import 하고 sys.path의 append() 메서드로 모듈이 위치한 경로룰 추가해서 사용하면 된다."
   ]
  },
  {
   "cell_type": "code",
   "execution_count": 20,
   "metadata": {},
   "outputs": [
    {
     "name": "stdout",
     "output_type": "stream",
     "text": [
      "['/Applications/PyCharm.app/Contents/plugins/python/helpers-pro/jupyter_debug', '/Applications/PyCharm.app/Contents/plugins/python/helpers/pydev', '/Users/kyle/Documents/Study/Python/KDT_Python/basic/workspace', '/Users/kyle/Documents/Study/Python/KDT_Python/basic/workspace', '/opt/homebrew/Cellar/python@3.10/3.10.8/Frameworks/Python.framework/Versions/3.10/lib/python310.zip', '/opt/homebrew/Cellar/python@3.10/3.10.8/Frameworks/Python.framework/Versions/3.10/lib/python3.10', '/opt/homebrew/Cellar/python@3.10/3.10.8/Frameworks/Python.framework/Versions/3.10/lib/python3.10/lib-dynload', '', '/opt/homebrew/lib/python3.10/site-packages', '/opt/homebrew/Cellar/pygments/2.13.0_1/libexec/lib/python3.10/site-packages', '/Users/kyle/Documents/userModule', '/Users/kyle/Documents/userModule', '/Users/kyle/Documents/userModule', '/Users/kyle/Documents/userModule/', '/Users/kyle/Documents/userModule/', '/Users/kyle/Documents/userModule/', '/Users/kyle/Documents/userModule/*', '/Users/kyle/Documents/userModule/calM.py']\n"
     ]
    }
   ],
   "source": [
    "import sys\n",
    "print(sys.path)\n",
    "sys.path.append('/Users/kyle/Documents/userModule')"
   ]
  },
  {
   "cell_type": "code",
   "execution_count": 21,
   "outputs": [],
   "source": [
    "import calM as cm"
   ],
   "metadata": {
    "collapsed": false
   }
  },
  {
   "cell_type": "code",
   "execution_count": 23,
   "metadata": {},
   "outputs": [
    {
     "name": "stdout",
     "output_type": "stream",
     "text": [
      "============================\n",
      "        2022년12월\n",
      "============================\n",
      " 일  월  화  수  목  금  토 \n",
      "============================\n",
      "                  1   2   3 \n",
      "  4   5   6   7   8   9  10 \n",
      " 11  12  13  14  15  16  17 \n",
      " 18  19  20  21  22  23  24 \n",
      " 25  26  27  28  29  30  31 \n",
      "============================\n"
     ]
    }
   ],
   "source": [
    "year, month = map(int, input('년, 월: ').split())\n",
    "print('=' * 28)\n",
    "print('        {:4d}년{:2d}월'.format(year, month))\n",
    "print('=' * 28)\n",
    "print(' 일  월  화  수  목  금  토 ')\n",
    "print('=' * 28)\n",
    "for i in range(cm.weekDay(year, month, 1)):\n",
    "    print('    ', end='')\n",
    "\n",
    "for i in range(1, cm.lastDay(year, month) + 1):\n",
    "    print(' {:2d} '.format(i), end='')\n",
    "    if cm.weekDay(year, month, i) == 6 and i != cm.lastDay(year, month):\n",
    "        print()\n",
    "    #==========if\n",
    "#==========for\n",
    "print('\\n' + '=' * 28)"
   ]
  }
 ],
 "metadata": {
  "kernelspec": {
   "display_name": "Python 3 (ipykernel)",
   "language": "python",
   "name": "python3"
  },
  "language_info": {
   "codemirror_mode": {
    "name": "ipython",
    "version": 3
   },
   "file_extension": ".py",
   "mimetype": "text/x-python",
   "name": "python",
   "nbconvert_exporter": "python",
   "pygments_lexer": "ipython3",
   "version": "3.10.8"
  }
 },
 "nbformat": 4,
 "nbformat_minor": 1
}
