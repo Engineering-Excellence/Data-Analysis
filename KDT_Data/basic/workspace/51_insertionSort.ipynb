{
 "cells": [
  {
   "cell_type": "markdown",
   "source": [
    "# Insertion Sort(삽입 정렬, 삽입법)\n",
    "삽입 정렬은 이미 정렬된 파일에 새로운 데이터를 위치에 맞게 삽입한다.\n",
    "정렬할 데이터가 n개일 경우 회전수는 (n - 1)번이 된다.<br/>\n",
    "<img src=\"./images/insertionSort.png\" width=\"1500\">"
   ],
   "metadata": {
    "collapsed": false
   }
  },
  {
   "cell_type": "code",
   "execution_count": 2,
   "outputs": [
    {
     "name": "stdout",
     "output_type": "stream",
     "text": [
      "[i = 1, j = 0] \n",
      "[i = 2, j = 1] [i = 2, j = 0] \n",
      "[i = 3, j = 2] [i = 3, j = 1] [i = 3, j = 0] \n",
      "[i = 4, j = 3] [i = 4, j = 2] [i = 4, j = 1] [i = 4, j = 0] \n"
     ]
    }
   ],
   "source": [
    "n = 5\n",
    "for i in range(1, n):  # 회전수, 정렬된 파일에 삽입할 데이터의 위치\n",
    "    for j in range(i - 1, -1, -1):  # 데이터를 비교하기 위해서 선택하는 위치\n",
    "        print(f'[i = {i}, j = {j}]', end=' ')\n",
    "    print()"
   ],
   "metadata": {
    "collapsed": false
   }
  },
  {
   "cell_type": "code",
   "execution_count": 9,
   "outputs": [
    {
     "name": "stdout",
     "output_type": "stream",
     "text": [
      "1회전 결과: [3, 8, 4, 9, 1]\n",
      "2회전 결과: [3, 4, 8, 9, 1]\n",
      "3회전 결과: [3, 4, 8, 9, 1]\n",
      "4회전 결과: [1, 3, 4, 8, 9]\n"
     ]
    }
   ],
   "source": [
    "data = [8, 3, 4, 9, 1]\n",
    "for i in range(1, len(data)):\n",
    "    # 이미 정렬된 파일에 새 데이터가 삽입될 위치를 찾기 위해 새 데이터와 인덱스를 각각 key와 index에 저장한다.\n",
    "    key = data[i]\n",
    "    index = i\n",
    "    # 새 데이터가 삽입될 위치를 찾는다.\n",
    "    for j in range(i - 1, -1, -1):\n",
    "        if data[j] > key:\n",
    "            data[j + 1] = data[j]\n",
    "            index -= 1\n",
    "        else:\n",
    "            # 삽입할 데이터가  이미 정렬된 파일의 데이터와 같거나 더 크다는 의미이므로 이미 정렬된 데이터 앞에 위치한 데이터들과 비교할 필요 없다.\n",
    "            break\n",
    "        # ===== if\n",
    "    # ===== for j: 회전 종료\n",
    "    # 새 데이터를 정렬된 파일의 위치에 맞게 삽입한다.\n",
    "    data[index] = key\n",
    "    print(f'{i}회전 결과: {data}')\n",
    "# ===== for i: 정렬 종\n",
    "# print(f'정렬 결과: {data}')"
   ],
   "metadata": {
    "collapsed": false
   }
  },
  {
   "cell_type": "code",
   "execution_count": null,
   "outputs": [],
   "source": [],
   "metadata": {
    "collapsed": false
   }
  }
 ],
 "metadata": {
  "kernelspec": {
   "display_name": "Python 3",
   "language": "python",
   "name": "python3"
  },
  "language_info": {
   "codemirror_mode": {
    "name": "ipython",
    "version": 2
   },
   "file_extension": ".py",
   "mimetype": "text/x-python",
   "name": "python",
   "nbconvert_exporter": "python",
   "pygments_lexer": "ipython2",
   "version": "2.7.6"
  }
 },
 "nbformat": 4,
 "nbformat_minor": 0
}
