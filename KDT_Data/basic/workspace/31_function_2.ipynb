{
 "cells": [
  {
   "cell_type": "markdown",
   "source": [
    "전달받는 인수가 없는 함수 → 처리할 데이터를 넘겨받지 않는 함수"
   ],
   "metadata": {
    "collapsed": false
   }
  },
  {
   "cell_type": "code",
   "execution_count": 3,
   "outputs": [],
   "source": [
    "def func1():\n",
    "    print('func1()이 실행됩니다. - 1')\n",
    "    # 함수가 종료되거나 return을 만나면 함수가 호출된 곳으로 돌아간다. → return이 있으면 return 값을 가지고 돌아간다.\n",
    "    return 'func1()이 실행됩니다. - 2'"
   ],
   "metadata": {
    "collapsed": false
   }
  },
  {
   "cell_type": "code",
   "execution_count": 5,
   "outputs": [
    {
     "name": "stdout",
     "output_type": "stream",
     "text": [
      "func1()이 실행됩니다. - 1\n",
      "func1()이 실행됩니다. - 2\n"
     ]
    }
   ],
   "source": [
    "print(func1())"
   ],
   "metadata": {
    "collapsed": false
   }
  },
  {
   "cell_type": "markdown",
   "source": [
    "결과(return) 값이 없는 함수"
   ],
   "metadata": {
    "collapsed": false
   }
  },
  {
   "cell_type": "code",
   "execution_count": 8,
   "outputs": [],
   "source": [
    "def func2(a, b):\n",
    "    print('{} + {} = {}'.format(a, b, a + b))\n",
    "\n",
    "# 파이썬은 함수의 Overloading을 지원하지 않는다! → Overloading 효과를 내려면 가변 인자를 사용하는 함수를 만들면 된다.\n",
    "# Overloading: 같은 이름으로 여러 개의 함수를 만들어 사용할 수 있다.\n",
    "# 함수 Overloading은 같은 함수가 여러 개 있을 경우 인수의 개수가 다르면 서로 다른 함수로 취급하고, 만약에 인수의 개수도 같다면 인수의 데이터 타입으로 함수를 식별한다.\n",
    "# 파이썬은 함수의 Overloading이 지원되지 않기 때문에 같은 이름으로 여러 개의 함수를 정의하면 맨 마지막에 정의한 함수만 유효하고 이후에 덮어쓰기 된다.\n",
    "\n",
    "def func2(a, b, c):\n",
    "    print('{} + {} + {} = {}'.format(a, b, c,  a + b + c))"
   ],
   "metadata": {
    "collapsed": false
   }
  },
  {
   "cell_type": "code",
   "execution_count": 9,
   "outputs": [
    {
     "ename": "TypeError",
     "evalue": "func2() missing 1 required positional argument: 'c'",
     "output_type": "error",
     "traceback": [
      "\u001B[0;31m---------------------------------------------------------------------------\u001B[0m",
      "\u001B[0;31mTypeError\u001B[0m                                 Traceback (most recent call last)",
      "Cell \u001B[0;32mIn [9], line 1\u001B[0m\n\u001B[0;32m----> 1\u001B[0m \u001B[38;5;28mprint\u001B[39m(\u001B[43mfunc2\u001B[49m\u001B[43m(\u001B[49m\u001B[38;5;241;43m5\u001B[39;49m\u001B[43m,\u001B[49m\u001B[43m \u001B[49m\u001B[38;5;241;43m8\u001B[39;49m\u001B[43m)\u001B[49m)\n",
      "\u001B[0;31mTypeError\u001B[0m: func2() missing 1 required positional argument: 'c'"
     ]
    }
   ],
   "source": [
    "# print(func2(5, 8))  #TypeError"
   ],
   "metadata": {
    "collapsed": false
   }
  },
  {
   "cell_type": "code",
   "execution_count": 10,
   "outputs": [
    {
     "name": "stdout",
     "output_type": "stream",
     "text": [
      "5 + 8 + 3 = 16\n",
      "None\n"
     ]
    }
   ],
   "source": [
    "print(func2(5, 8, 3))"
   ],
   "metadata": {
    "collapsed": false
   }
  },
  {
   "cell_type": "code",
   "execution_count": null,
   "outputs": [],
   "source": [],
   "metadata": {
    "collapsed": false
   }
  }
 ],
 "metadata": {
  "kernelspec": {
   "display_name": "Python 3",
   "language": "python",
   "name": "python3"
  },
  "language_info": {
   "codemirror_mode": {
    "name": "ipython",
    "version": 2
   },
   "file_extension": ".py",
   "mimetype": "text/x-python",
   "name": "python",
   "nbconvert_exporter": "python",
   "pygments_lexer": "ipython2",
   "version": "2.7.6"
  }
 },
 "nbformat": 4,
 "nbformat_minor": 0
}
