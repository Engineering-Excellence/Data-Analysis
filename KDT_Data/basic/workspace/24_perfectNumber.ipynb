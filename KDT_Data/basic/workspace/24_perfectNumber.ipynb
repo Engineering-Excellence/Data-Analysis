{
 "cells": [
  {
   "cell_type": "markdown",
   "source": [
    "# 완전수\n",
    "완전수란 자기 자신을 제외한 약수의 합계가 자기 자신과 같은 숫자를 말한다.\n",
    "6의 약수는 1, 2, 3, 6이고 자기 자신을 제외한 약수 1, 2, 3의 합계가 자기 자신인 6이 되므로 6은 완전수이다.\n",
    "***\n",
    "<img src=\"./images/perfectNumber.png\" width=\"700px\">"
   ],
   "metadata": {
    "collapsed": false
   }
  },
  {
   "cell_type": "code",
   "execution_count": 7,
   "outputs": [
    {
     "name": "stdout",
     "output_type": "stream",
     "text": [
      "[6, 28, 496, 8128]\n",
      "완전수의 개수: 4개\n",
      "CPU times: user 1.36 s, sys: 4.89 ms, total: 1.37 s\n",
      "Wall time: 1.36 s\n"
     ]
    }
   ],
   "source": [
    "%%time\n",
    "\n",
    "lm = 0  # 완전수의 개수를 세는 변수\n",
    "p = []\n",
    "for n in range(4, 10001):\n",
    "    total = 0\n",
    "    k = n // 2\n",
    "    for j in range(1, k + 1):\n",
    "        r = n % j\n",
    "        if r == 0:\n",
    "            total += j\n",
    "    if total == n:\n",
    "        p.append(n)\n",
    "        lm += 1\n",
    "print(p)\n",
    "print('완전수의 개수: {}개'.format(lm))"
   ],
   "metadata": {
    "collapsed": false
   }
  }
 ],
 "metadata": {
  "kernelspec": {
   "display_name": "Python 3",
   "language": "python",
   "name": "python3"
  },
  "language_info": {
   "codemirror_mode": {
    "name": "ipython",
    "version": 2
   },
   "file_extension": ".py",
   "mimetype": "text/x-python",
   "name": "python",
   "nbconvert_exporter": "python",
   "pygments_lexer": "ipython2",
   "version": "2.7.6"
  }
 },
 "nbformat": 4,
 "nbformat_minor": 0
}
