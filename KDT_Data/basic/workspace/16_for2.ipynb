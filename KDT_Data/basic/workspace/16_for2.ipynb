{
 "cells": [
  {
   "cell_type": "markdown",
   "source": [
    "리스트와 함께 사용하는 for"
   ],
   "metadata": {
    "collapsed": false
   }
  },
  {
   "cell_type": "code",
   "execution_count": 8,
   "outputs": [
    {
     "name": "stdout",
     "output_type": "stream",
     "text": [
      "['Life', 'is', 'too', 'Good']\n",
      "================================================================================\n",
      "Life\n",
      "is\n",
      "too\n",
      "Good\n",
      "================================================================================\n",
      "0\n",
      "1\n",
      "2\n",
      "3\n",
      "================================================================================\n",
      "is\n",
      "too\n",
      "================================================================================\n"
     ]
    }
   ],
   "source": [
    "a = ['Life', 'is', 'too', 'Good']\n",
    "print(a)\n",
    "print('=' * 80)\n",
    "\n",
    "for i in a:\n",
    "    print(i)\n",
    "print('=' * 80)\n",
    "\n",
    "'''\n",
    "for i in len(a):  # TypeError\n",
    "    print(i)\n",
    "print('=' * 80)\n",
    "'''\n",
    "\n",
    "for i in range(len(a)):\n",
    "    print(i)\n",
    "print('=' * 80)\n",
    "\n",
    "for i in a[1:3]:\n",
    "    print(i)\n",
    "print('=' * 80)"
   ],
   "metadata": {
    "collapsed": false
   }
  },
  {
   "cell_type": "markdown",
   "source": [
    "튜플과 함께 사용하는 for"
   ],
   "metadata": {
    "collapsed": false
   }
  },
  {
   "cell_type": "code",
   "execution_count": 11,
   "outputs": [
    {
     "name": "stdout",
     "output_type": "stream",
     "text": [
      "('Life', 'is', 'too', 'Good')\n",
      "================================================================================\n",
      "Life\n",
      "is\n",
      "too\n",
      "Good\n",
      "================================================================================\n",
      "Life\n",
      "is\n",
      "too\n",
      "Good\n",
      "================================================================================\n",
      "is\n",
      "too\n",
      "================================================================================\n"
     ]
    }
   ],
   "source": [
    "a = 'Life', 'is', 'too', 'Good'\n",
    "print(a)\n",
    "print('=' * 80)\n",
    "\n",
    "for i in a:\n",
    "    print(i)\n",
    "print('=' * 80)\n",
    "\n",
    "for i in range(len(a)):\n",
    "    print(a[i])\n",
    "print('=' * 80)\n",
    "\n",
    "for i in a[1:3]:\n",
    "    print(i)\n",
    "print('=' * 80)"
   ],
   "metadata": {
    "collapsed": false
   }
  },
  {
   "cell_type": "markdown",
   "source": [
    "set과 함께 사용하는 for"
   ],
   "metadata": {
    "collapsed": false
   }
  },
  {
   "cell_type": "code",
   "execution_count": 18,
   "outputs": [
    {
     "name": "stdout",
     "output_type": "stream",
     "text": [
      "{'Life', 'is', 'Good', 'too'}\n",
      "================================================================================\n",
      "Life\n",
      "is\n",
      "Good\n",
      "too\n",
      "================================================================================\n"
     ]
    }
   ],
   "source": [
    "a = {'Life', 'is', 'too', 'Good'}\n",
    "print(a)\n",
    "print('=' * 80)\n",
    "\n",
    "for i in a: # 전체만 가능\n",
    "    print(i)\n",
    "print('=' * 80)\n",
    "\n",
    "'''\n",
    "for i in range(len(a)):\n",
    "    print(a[i]) # TypeError: set은 입력되는 순서와 저장되는 순서가 달라서 인덱싱을 사용할 수 없으므로 에러 발생\n",
    "print('=' * 80)\n",
    "\n",
    "for i in a[1:3]:    # TypeError\n",
    "    print(i)\n",
    "print('=' * 80)\n",
    "'''\n",
    "pass"
   ],
   "metadata": {
    "collapsed": false
   }
  },
  {
   "cell_type": "markdown",
   "source": [
    "딕셔너리와 함께 사용하는 for"
   ],
   "metadata": {
    "collapsed": false
   }
  },
  {
   "cell_type": "code",
   "execution_count": 20,
   "outputs": [
    {
     "name": "stdout",
     "output_type": "stream",
     "text": [
      "{'apple': 1000, 'banana': 3500, 'melon': 10000, 'mango': 5000}\n",
      "dict_keys(['apple', 'banana', 'melon', 'mango'])\n",
      "dict_values([1000, 3500, 10000, 5000])\n",
      "dict_items([('apple', 1000), ('banana', 3500), ('melon', 10000), ('mango', 5000)])\n"
     ]
    }
   ],
   "source": [
    "a = {'apple': 1000, 'banana': 3500, 'melon': 10000, 'mango': 5000}\n",
    "print(a)\n",
    "print(a.keys())\n",
    "print(a.values())\n",
    "print(a.items())"
   ],
   "metadata": {
    "collapsed": false
   }
  },
  {
   "cell_type": "code",
   "execution_count": 23,
   "outputs": [
    {
     "name": "stdout",
     "output_type": "stream",
     "text": [
      "apple\n",
      "banana\n",
      "melon\n",
      "mango\n",
      "================================================================================\n",
      "apple\n",
      "banana\n",
      "melon\n",
      "mango\n",
      "================================================================================\n",
      "1000\n",
      "3500\n",
      "10000\n",
      "5000\n",
      "================================================================================\n",
      "('apple', 1000)\n",
      "('banana', 3500)\n",
      "('melon', 10000)\n",
      "('mango', 5000)\n",
      "================================================================================\n"
     ]
    }
   ],
   "source": [
    "for key in a:   # 딕셔너리 이름만 쓰면 딕셔너리_이름.keys()와 같은 의미로 사용된다.\n",
    "    print(key)\n",
    "print('=' * 80)\n",
    "\n",
    "for key in a.keys():\n",
    "    print(key)\n",
    "print('=' * 80)\n",
    "\n",
    "for key in a.values():\n",
    "    print(key)\n",
    "print('=' * 80)\n",
    "\n",
    "for key in a.items():\n",
    "    print(key)\n",
    "print('=' * 80)"
   ],
   "metadata": {
    "collapsed": false
   }
  },
  {
   "cell_type": "code",
   "execution_count": 27,
   "outputs": [
    {
     "name": "stdout",
     "output_type": "stream",
     "text": [
      "1000\n",
      "3500\n",
      "10000\n",
      "5000\n",
      "================================================================================\n",
      "1000\n",
      "3500\n",
      "10000\n",
      "5000\n"
     ]
    }
   ],
   "source": [
    "# key 값을 이용해서 value 얻어오기\n",
    "for key in a.keys():\n",
    "    print(a[key])   # 딕셔너리_이름[key]\n",
    "print('=' * 80)\n",
    "\n",
    "for key in a.keys():\n",
    "    print(a.get(key))"
   ],
   "metadata": {
    "collapsed": false
   }
  },
  {
   "cell_type": "code",
   "execution_count": 32,
   "outputs": [
    {
     "name": "stdout",
     "output_type": "stream",
     "text": [
      "('apple', 1000)\n",
      "('banana', 3500)\n",
      "('melon', 10000)\n",
      "('mango', 5000)\n",
      "================================================================================\n",
      "apple은(는) 1,000\n",
      "banana은(는) 3,500\n",
      "melon은(는) 10,000\n",
      "mango은(는) 5,000\n",
      "================================================================================\n",
      "apple은(는) 1,000\n",
      "banana은(는) 3,500\n",
      "melon은(는) 10,000\n",
      "mango은(는) 5,000\n",
      "================================================================================\n"
     ]
    }
   ],
   "source": [
    "# item 값을 이용해서 key, value 얻어오기\n",
    "for item in a.items():\n",
    "    print(item)\n",
    "print('=' * 80)\n",
    "\n",
    "for item in a.items():\n",
    "    print('{}은(는) {:,}'.format(item[0], item[1]))\n",
    "print('=' * 80)\n",
    "\n",
    "for key, value in a.items():\n",
    "    print('{}은(는) {:,}'.format(key, value))\n",
    "print('=' * 80)"
   ],
   "metadata": {
    "collapsed": false
   }
  },
  {
   "cell_type": "markdown",
   "source": [
    "★ zip() 함수는 서로 다른 데이터를 나열하는 객체를 반복 가능한 형태로 묶어준다."
   ],
   "metadata": {
    "collapsed": false
   }
  },
  {
   "cell_type": "code",
   "execution_count": 33,
   "outputs": [
    {
     "name": "stdout",
     "output_type": "stream",
     "text": [
      "1 java\n",
      "2 jsp\n",
      "3 puthon\n"
     ]
    }
   ],
   "source": [
    "for index, data in zip([1, 2, 3,], ['java', 'jsp', 'puthon']):\n",
    "    print(index, data)"
   ],
   "metadata": {
    "collapsed": false
   }
  }
 ],
 "metadata": {
  "kernelspec": {
   "display_name": "Python 3",
   "language": "python",
   "name": "python3"
  },
  "language_info": {
   "codemirror_mode": {
    "name": "ipython",
    "version": 2
   },
   "file_extension": ".py",
   "mimetype": "text/x-python",
   "name": "python",
   "nbconvert_exporter": "python",
   "pygments_lexer": "ipython2",
   "version": "2.7.6"
  }
 },
 "nbformat": 4,
 "nbformat_minor": 0
}
