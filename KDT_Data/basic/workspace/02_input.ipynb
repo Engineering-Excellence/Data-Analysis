{
 "cells": [
  {
   "cell_type": "markdown",
   "source": [
    "# 변수\n",
    "변수는 처리할 데이터(상수, constant)를 저장하는 기억장소를 말한다.\n",
    "\n",
    "변수명 작성방법\n",
    "영문자(대소문자 구분), 숫자, 특수문자('_'만 가능)를 사용할 수 있으며 반드시 문자로 시작해야 한다.\n",
    "파이썬 예약어(파이썬과 약속된 단어 → 명령어, 함수명 등)는 사용할 수 없다."
   ],
   "metadata": {
    "collapsed": false
   }
  },
  {
   "cell_type": "markdown",
   "source": [
    "파이썬은 C/C++ㅇ;니 Java와 같이 변수 선언시 변수의 자료형을 지정하지 않고 JavaScript처럼 var, let, const를 붙이지 않는다.\n",
    "변수에 저장되는 데이터의 타입에 따라서 자동으로 변수의 자료형이 결정된다.\n",
    "'=' 같다라는 의미로 사용되지 않고 '=' 오른쪽의 데이터를 '=' 왼쪽의 기억장소에 저장하라는 의미로 사용된다. → 대입문, 할당문, 배정문\n",
    "'=='와 같이 2개를 연속해서 사용해야 같다로 인식한다."
   ],
   "metadata": {
    "collapsed": false
   }
  },
  {
   "cell_type": "code",
   "execution_count": 3,
   "outputs": [
    {
     "name": "stdout",
     "output_type": "stream",
     "text": [
      "홍길동\n",
      "<class 'str'>\n",
      "100\n",
      "<class 'int'>\n",
      "3.14\n",
      "<class 'float'>\n",
      "True\n",
      "<class 'bool'>\n"
     ]
    }
   ],
   "source": [
    "a = '홍길동'\n",
    "print(a)\n",
    "# type() 함수는 매개변수로 지정된 기억장소의 자료형을 얻어온다.\n",
    "print(type(a))  # <class 'str'> → 문자열\n",
    "a = 100\n",
    "print(a)\n",
    "print(type(a))  # <class 'str'> → 정수\n",
    "a = 3.14\n",
    "print(a)\n",
    "print(type(a))  # <class 'float'> → 실수\n",
    "# True → 참, False → 거짓, 반드시 첫 문자만 대문자로, 나머지는 소문자로 작성해야 한다.\n",
    "a = True\n",
    "print(a)\n",
    "print(type(a))  # <class 'bool'> → 논리값"
   ],
   "metadata": {
    "collapsed": false
   }
  },
  {
   "cell_type": "code",
   "execution_count": 9,
   "outputs": [
    {
     "ename": "NameError",
     "evalue": "name 'a' is not defined",
     "output_type": "error",
     "traceback": [
      "\u001B[0;31m---------------------------------------------------------------------------\u001B[0m",
      "\u001B[0;31mNameError\u001B[0m                                 Traceback (most recent call last)",
      "Cell \u001B[0;32mIn [9], line 1\u001B[0m\n\u001B[0;32m----> 1\u001B[0m \u001B[38;5;28mprint\u001B[39m(\u001B[43ma\u001B[49m)\n\u001B[1;32m      2\u001B[0m \u001B[38;5;66;03m# 파이썬은 프로그램이 종료되어야 기억장소가 메모리에서 제거된다.\u001B[39;00m\n\u001B[1;32m      3\u001B[0m \u001B[38;5;66;03m# 프로그램 도중에 더 이상 사용할 필요가 없는 기억장소는 del 명령으로 메모리에서 삭제할 수 있다.\u001B[39;00m\n\u001B[1;32m      4\u001B[0m \u001B[38;5;28;01mdel\u001B[39;00m a\n",
      "\u001B[0;31mNameError\u001B[0m: name 'a' is not defined"
     ]
    }
   ],
   "source": [
    "print(a)\n",
    "# 파이썬은 프로그램이 종료되어야 기억장소가 메모리에서 제거된다.\n",
    "# 프로그램 도중에 더 이상 사용할 필요가 없는 기억장소는 del 명령으로 메모리에서 삭제할 수 있다.\n",
    "del a\n",
    "# print(a)    # Error!"
   ],
   "metadata": {
    "collapsed": false
   }
  },
  {
   "cell_type": "markdown",
   "source": [
    "# input 함수\n",
    "키보드로 입력하는 데이터를 입력받을 수 있다. → 무조건 문자열 형태로 입력받는다.\n",
    "변수 = input('메시지')"
   ],
   "metadata": {
    "collapsed": false
   }
  },
  {
   "cell_type": "code",
   "execution_count": 16,
   "outputs": [
    {
     "name": "stdout",
     "output_type": "stream",
     "text": [
      "<class 'str'>\n",
      "임꺽정님 안녕하세요.\n",
      "임꺽정님 안녕하세요.\n",
      "임꺽정님 안녕하세요.\n"
     ]
    }
   ],
   "source": [
    "name = input('이름을 입력하세요. : ')\n",
    "print(type(name))\n",
    "print('%s님 안녕하세요.' %name)\n",
    "print('{}님 안녕하세요.'.format(name))\n",
    "print(f'{name}님 안녕하세요.')"
   ],
   "metadata": {
    "collapsed": false
   }
  },
  {
   "cell_type": "markdown",
   "source": [
    "input() 함수는 무조건 문자열 형태로 데이터를 입력받기 때문에 정수나 실수 형태의 데이터를 입력 받으려면 입력받은 데이터를 int() 함수나 float() 함수를 사용해서 숫자로 변환하면 된다."
   ],
   "metadata": {
    "collapsed": false
   }
  },
  {
   "cell_type": "code",
   "execution_count": 26,
   "outputs": [
    {
     "name": "stdout",
     "output_type": "stream",
     "text": [
      "<class 'int'>\n",
      "임꺽정님은 20살입니다.\n",
      "임꺽정님은 20살입니다.\n",
      "임꺽정님은 내년에 21살입니다.\n"
     ]
    }
   ],
   "source": [
    "age = int(input('나이를 입력하세요. : '))\n",
    "print(type(age))\n",
    "print('%s님은 %s살입니다.' %(name, age))\n",
    "print('{}님은 {}살입니다.'.format(name, age))\n",
    "\n",
    "# '+' 연산자는 문자열과 문자열(연결), 숫자와 숫자(덧셈)의 연산만 가능하다.\n",
    "print('{}님은 내년에 {}살입니다.'.format(name, age + 1))"
   ],
   "metadata": {
    "collapsed": false,
    "pycharm": {
     "name": "#%%ㅇ\n"
    }
   }
  },
  {
   "cell_type": "code",
   "execution_count": 29,
   "outputs": [
    {
     "name": "stdout",
     "output_type": "stream",
     "text": [
      "<class 'str'>\n",
      "임꺽정님은 내년에 21살입니다.\n"
     ]
    }
   ],
   "source": [
    "age = input('나이를 입력하세요. : ')\n",
    "print(type(age))\n",
    "print('{}님은 내년에 {}살입니다.'.format(name, int(age) + 1))"
   ],
   "metadata": {
    "collapsed": false
   }
  },
  {
   "cell_type": "markdown",
   "source": [
    "split() 메서드를 사용하면 1개의 input() 함수로 여러 개의 데이터를 입력받을 수 있다.\n",
    "split() 메서드는 매개변수로 지정된 구분자를 사용해서 문자열을 나눠준다. 이 때, 매개변수를 지정하지 않으면 공백이 기본 구분자로 사용된다."
   ],
   "metadata": {
    "collapsed": false
   }
  },
  {
   "cell_type": "code",
   "execution_count": 31,
   "outputs": [
    {
     "name": "stdout",
     "output_type": "stream",
     "text": [
      "장길산님은 50살입니다.\n",
      "장길산님은 내년에 51살입니다.\n"
     ]
    }
   ],
   "source": [
    "name, age = input('이름과 나이를 입력하세요. : ').split()\n",
    "print('{}님은 {}살입니다.'.format(name, age))\n",
    "print('{}님은 내년에 {}살입니다.'.format(name, int(age) + 1))"
   ],
   "metadata": {
    "collapsed": false
   }
  },
  {
   "cell_type": "code",
   "execution_count": 36,
   "outputs": [
    {
     "name": "stdout",
     "output_type": "stream",
     "text": [
      "총점: 240점, 평균: 80.0\n"
     ]
    }
   ],
   "source": [
    "c, java, python = input('세 과목의 점수를 입력하세요. : ').split()\n",
    "total = int(c) + int(java) + int(python)\n",
    "print(f'총점: {total}점, 평균: {total / 3}')"
   ],
   "metadata": {
    "collapsed": false
   }
  },
  {
   "cell_type": "markdown",
   "source": [
    "map() 함수를 사용하면 입력받은 데이터를 split() 메서드로 구분한 후 일괄적으로 변환시킬 수 있다.\n",
    "map(자료형, input('메시지').split())"
   ],
   "metadata": {
    "collapsed": false
   }
  },
  {
   "cell_type": "code",
   "execution_count": 37,
   "outputs": [
    {
     "name": "stdout",
     "output_type": "stream",
     "text": [
      "총점: 258점, 평균: 86.0\n"
     ]
    }
   ],
   "source": [
    "c, java, python = map(int, input('세 과목의 점수를 입력하세요. : ').split())\n",
    "total = c + java + python\n",
    "print(f'총점: {total}점, 평균: {total / 3}')"
   ],
   "metadata": {
    "collapsed": false
   }
  },
  {
   "cell_type": "code",
   "execution_count": null,
   "outputs": [],
   "source": [],
   "metadata": {
    "collapsed": false
   }
  }
 ],
 "metadata": {
  "kernelspec": {
   "display_name": "Python 3",
   "language": "python",
   "name": "python3"
  },
  "language_info": {
   "codemirror_mode": {
    "name": "ipython",
    "version": 2
   },
   "file_extension": ".py",
   "mimetype": "text/x-python",
   "name": "python",
   "nbconvert_exporter": "python",
   "pygments_lexer": "ipython2",
   "version": "2.7.6"
  }
 },
 "nbformat": 4,
 "nbformat_minor": 0
}
