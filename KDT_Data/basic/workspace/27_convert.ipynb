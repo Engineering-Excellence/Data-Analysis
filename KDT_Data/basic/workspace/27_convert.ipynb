{
 "cells": [
  {
   "cell_type": "markdown",
   "source": [
    "<img src=\"./images/convert.png\" width=\"600\">"
   ],
   "metadata": {
    "collapsed": false
   }
  },
  {
   "cell_type": "markdown",
   "source": [
    "10진수를 2진수로 변환: 26 = $11010_{(2)}$   <!-- 11010<sub>(2)</sub> -->"
   ],
   "metadata": {
    "collapsed": false
   }
  },
  {
   "cell_type": "code",
   "execution_count": 6,
   "outputs": [
    {
     "name": "stdout",
     "output_type": "stream",
     "text": [
      "[1, 1, 0, 0, 1, 0, 0]\n",
      "1100100"
     ]
    }
   ],
   "source": [
    "d = int(input('10진수를 입력하세요.: '))\n",
    "b = []  # 10진수가 2진수로 변환된 결과를 기억할 빈 리스트를 선언한다.\n",
    "\n",
    "# 입력되는 10진수의 크기에 따라 반복 횟수가 달라지므로 무한 루프를 돌려서 처리한다.\n",
    "while True:\n",
    "    m = d // 2  # 10진수를 2로 나눈 몫을 계산한다.\n",
    "    r = d % 2  # 10진수를 2로 나눈 나머지를 계산한다.\n",
    "    b.append(r)  # 나머지를 2진수로 변환된 결과를 기억할 리스트에 저장한다.\n",
    "\n",
    "    # 몫이 0이 되면 진법 변환이 완료된 것이므로 무한 루프를 탈출한다.\n",
    "    if m == 0:\n",
    "        break\n",
    "    # ===== if\n",
    "\n",
    "    # 다음 계산을 위해서 d를 몫으로 수정한다.\n",
    "    d = m\n",
    "# ===== while True\n",
    "\n",
    "print(b[::-1])\n",
    "# b.reverse()\n",
    "# print(b)\n",
    "for i in range(len(b) - 1, -1, -1):\n",
    "    print(b[i], end='')"
   ],
   "metadata": {
    "collapsed": false
   }
  },
  {
   "cell_type": "markdown",
   "source": [
    "10진수를 8진수로 변환: 26 = $32_{(8)}$   <!-- 32<sub>(8)</sub> -->"
   ],
   "metadata": {
    "collapsed": false
   }
  },
  {
   "cell_type": "code",
   "execution_count": 10,
   "outputs": [
    {
     "name": "stdout",
     "output_type": "stream",
     "text": [
      "32"
     ]
    }
   ],
   "source": [
    "d = int(input('10진수를 입력하세요.: '))\n",
    "o = []  # 10진수가 8진수로 변환된 결과를 기억할 빈 리스트를 선언한다.\n",
    "\n",
    "while True:\n",
    "    m = d // 8  # 10진수를 8로 나눈 몫을 계산한다.\n",
    "    r = d % 8  # 10진수를 8로 나눈 나머지를 계산한다.\n",
    "    o.append(r)  # 나머지를 8진수로 변환된 결과를 기억할 리스트에 저장한다.\n",
    "\n",
    "    if m == 0:\n",
    "        break\n",
    "    # ===== if\n",
    "\n",
    "    d = m\n",
    "# ===== while True\n",
    "\n",
    "for i in range(len(o) - 1, -1, -1):\n",
    "    print(o[i], end='')"
   ],
   "metadata": {
    "collapsed": false
   }
  },
  {
   "cell_type": "markdown",
   "source": [
    "10진수를 16진수로 변환: 26 = $1A_{(16)}$   <!-- 1A<sub>(16)</sub> -->"
   ],
   "metadata": {
    "collapsed": false
   }
  },
  {
   "cell_type": "code",
   "execution_count": 14,
   "outputs": [
    {
     "name": "stdout",
     "output_type": "stream",
     "text": [
      "1A"
     ]
    }
   ],
   "source": [
    "d = int(input('10진수를 입력하세요.: '))\n",
    "h = []  # 10진수가 16진수로 변환된 결과를 기억할 빈 리스트를 선언한다.\n",
    "hex16 = ['0', '1', '2', '3', '4', '5', '6', '7', '8', '9', 'A', 'B', 'C', 'D', 'E', 'F']\n",
    "\n",
    "while True:\n",
    "    m = d // 16  # 10진수를 16로 나눈 몫을 계산한다.\n",
    "    r = d % 16  # 10진수를 16로 나눈 나머지를 계산한다.\n",
    "    h.append(hex16[r])  # 나머지를 16진수로 변환된 결과를 기억할 리스트에 저장한다.\n",
    "\n",
    "    if m == 0:\n",
    "        break\n",
    "    # ===== if\n",
    "\n",
    "    d = m\n",
    "# ===== while True\n",
    "\n",
    "for i in range(len(h) - 1, -1, -1):\n",
    "    print(h[i], end='')"
   ],
   "metadata": {
    "collapsed": false
   }
  },
  {
   "cell_type": "markdown",
   "source": [
    "10진수를 n진수로 변환"
   ],
   "metadata": {
    "collapsed": false
   }
  },
  {
   "cell_type": "code",
   "execution_count": 17,
   "outputs": [
    {
     "name": "stdout",
     "output_type": "stream",
     "text": [
      "1A\n"
     ]
    }
   ],
   "source": [
    "d, n = map(int, input('10진수와 변환할 진법(36 이하)을 입력하세요.: ').split())\n",
    "c = []  # 10진수가 n진수로 변환된 결과를 기억할 빈 리스트를 선언한다.\n",
    "\n",
    "while True:\n",
    "    m = d // n  # 10진수를 n로 나눈 몫을 계산한다.\n",
    "    r = d % n  # 10진수를 n로 나눈 나머지를 계산한다.\n",
    "    c.append(r)  # 나머지를 n진수로 변환된 결과를 기억할 리스트에 저장한다.\n",
    "\n",
    "    if m == 0:\n",
    "        break\n",
    "    # ===== if\n",
    "\n",
    "    d = m\n",
    "# ===== while True\n",
    "\n",
    "for i in range(len(c) - 1, -1, -1):\n",
    "    # chr() 함수는 매개변수로 지정된 유니코드에 해당되는 문자를 리턴한다.\n",
    "    print(c[i] if c[i] < 10 else chr(c[i] + 55), end='')\n",
    "print()"
   ],
   "metadata": {
    "collapsed": false
   }
  }
 ],
 "metadata": {
  "kernelspec": {
   "display_name": "Python 3",
   "language": "python",
   "name": "python3"
  },
  "language_info": {
   "codemirror_mode": {
    "name": "ipython",
    "version": 2
   },
   "file_extension": ".py",
   "mimetype": "text/x-python",
   "name": "python",
   "nbconvert_exporter": "python",
   "pygments_lexer": "ipython2",
   "version": "2.7.6"
  }
 },
 "nbformat": 4,
 "nbformat_minor": 0
}
