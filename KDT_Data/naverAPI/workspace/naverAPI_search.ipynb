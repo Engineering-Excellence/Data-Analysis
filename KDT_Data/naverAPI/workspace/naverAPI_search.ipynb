{
 "cells": [
  {
   "cell_type": "code",
   "execution_count": 1,
   "metadata": {
    "collapsed": true
   },
   "outputs": [],
   "source": [
    "import warnings\n",
    "\n",
    "import requests\n",
    "\n",
    "warnings.filterwarnings(action='ignore')"
   ]
  },
  {
   "cell_type": "markdown",
   "source": [
    "네이버 검색 API를 이용한 블로그 검색"
   ],
   "metadata": {
    "collapsed": false
   }
  },
  {
   "cell_type": "code",
   "execution_count": 2,
   "outputs": [],
   "source": [
    "client_id = ''\n",
    "client_secret = ''"
   ],
   "metadata": {
    "collapsed": false
   }
  },
  {
   "cell_type": "code",
   "execution_count": 3,
   "outputs": [
    {
     "name": "stdout",
     "output_type": "stream",
     "text": [
      "<Response [200]>\n",
      "1.\n",
      "{'title': '간호직<b>공무원</b> 합격 대비 시험 준비과정', 'link': 'https://blog.naver.com/subin_s_humteresting/222987991028', 'description': '간호직<b>공무원</b> 시험을 준비하기 전, 임상에서 1년 정도? 경력을 쌓았었어요. 솔직히 말하면, 대학병원에서 근무하는 연차가 쌓일수록, <b>공무원</b>보다 더 많은 돈을 벌 수 있는 것은 사실이었는데요. 그럼에도... ', 'bloggername': '수빈&apos;s humteresting', 'bloggerlink': 'blog.naver.com/subin_s_humteresting', 'postdate': '20230118'}\n",
      "====================================================================================================\n",
      "2.\n",
      "{'title': '9급 <b>공무원</b>시험 중요한 학습전략', 'link': 'https://blog.naver.com/modellien/222980312857', 'description': '저는 다니고 있던 회사를 퇴사하고 9급 <b>공무원</b> 시험에 도전했습니다. 왜 <b>공무원</b> 시험이였냐면 지금 제 상황에서 가장 빠르게 성과를 낼 수 있는 시험이라고 생각했기 때문이에요. 수능 준비를 마치고 대학을... ', 'bloggername': '다재다능한 진다맘의 인생 메뉴얼', 'bloggerlink': 'blog.naver.com/modellien', 'postdate': '20230110'}\n",
      "====================================================================================================\n",
      "3.\n",
      "{'title': '간호직<b>공무원</b> 지방직 합격 나의 수험과정', 'link': 'https://blog.naver.com/cd34579/222968569518', 'description': '저의 선택은 전공은 살리면서 좀 더 편안하게 일을 할 수 있는 간호직<b>공무원</b>을 준비하는 것이었습니다.... 1)응시자격 먼저, 간호직<b>공무원</b> 시험을 응시하기 위해서는 간호사 혹은 조산사 면허증이 필요한데요.... ', 'bloggername': '행복바이러스^^', 'bloggerlink': 'blog.naver.com/cd34579', 'postdate': '20221228'}\n",
      "====================================================================================================\n",
      "4.\n",
      "{'title': '8급 간호직 <b>공무원</b> 시험 기출문제 중심 공부방법', 'link': 'https://blog.naver.com/togyu911/222976807817', 'description': '8급 간호직 <b>공무원</b> 시험만 합격한다면 더 이상 바랄게 없었어요. 한 번 떨어지고 나니 정신이 번쩍... 22년 8급 간호직 <b>공무원</b> 시험에서는 부족했던 부분을 보충할 수 있게 기출문제를 집중적으로 풀어 볼... ', 'bloggername': 'IIS 지식정보네트워크', 'bloggerlink': 'blog.naver.com/togyu911', 'postdate': '20230106'}\n",
      "====================================================================================================\n",
      "5.\n",
      "{'title': '9급<b>공무원</b>시험 요점을 정리한 학습', 'link': 'https://blog.naver.com/feiloveu/222987749574', 'description': '그래서 저는 9급<b>공무원</b>시험을 보기로 결심했죠. 고등학교 졸업자인 제가 <b>공무원</b> 시험에 도전한 이유는 정말 간단했습니다. 나이, 경력에 관계 없이 시험에만 합격하면 임용된다는 장점 하나 때문이었죠. 그런데... ', 'bloggername': '삶의 모든 예술, 별빛입니다', 'bloggerlink': 'blog.naver.com/feiloveu', 'postdate': '20230118'}\n",
      "====================================================================================================\n",
      "6.\n",
      "{'title': '경찰<b>공무원</b>연봉 정확한 봉급 확인', 'link': 'https://blog.naver.com/snowminhye/222963826273', 'description': '저도 본격적인 수험생활을 시작하기 전부터, 경찰<b>공무원</b>연봉에 대한 걱정부터 먼저 했습니다. 이건... 내가 직접 경찰의 급여 수준을 확인하고 나면, 제대로 마음을 잡을 수 있지 않을까 생각해서, 경찰<b>공무원</b>연... ', 'bloggername': 'NOTEBOOK', 'bloggerlink': 'blog.naver.com/snowminhye', 'postdate': '20221224'}\n",
      "====================================================================================================\n",
      "7.\n",
      "{'title': '7급<b>공무원</b> 국가직 대비 수험생활', 'link': 'https://blog.naver.com/brickisland/222947979230', 'description': '결국 <b>공무원</b> 시험을 준비하게 되었습니다. 처음에는 조금이라도 빨리 합격하려면 과목수도 적고 난이도도 더 낮은 9급이 적합하겠다 생각했으나 출발선을 높이고 싶다는 욕심이 들어 7급<b>공무원</b>을 선택하게... ', 'bloggername': '소소한 일상 이야기', 'bloggerlink': 'blog.naver.com/brickisland', 'postdate': '20221206'}\n",
      "====================================================================================================\n",
      "8.\n",
      "{'title': '9급<b>공무원</b>인강 선택한 이유+ 학습방법 공유', 'link': 'https://blog.naver.com/lovekyb0/222966432393', 'description': '저는 대학교 졸업 후 20년도 1월부터 9급<b>공무원</b>인강을 들으며 수험 생활을 했습니다. 부모님 두 분 모두 <b>공무원</b>이시고, 또 가족들 중에서도 공직자로 계신 분들이 많아서 자연스럽게 <b>공무원</b>의 장점들을 잘 알고... ', 'bloggername': '지남매와 함께하는 오늘', 'bloggerlink': 'blog.naver.com/lovekyb0', 'postdate': '20221226'}\n",
      "====================================================================================================\n",
      "9.\n",
      "{'title': '9급<b>공무원</b> 장점과 과목별 학습방법', 'link': 'https://blog.naver.com/jhshh/222962974273', 'description': '정말이지, 이대로 무너질수는 없다는 생각에 시작한 게 9급<b>공무원</b> 시험준비였습니다. 사실, 초반에 <b>공무원</b>에 도전한 이유는 나이에 상관없이 시험에만 합격하면 임용된다는 장점 때문이었습니다. 그런데... ', 'bloggername': '모순 덩어리', 'bloggerlink': 'blog.naver.com/jhshh', 'postdate': '20221222'}\n",
      "====================================================================================================\n",
      "10.\n",
      "{'title': '9급운전직<b>공무원</b> 난이도 잡는 학습법', 'link': 'https://blog.naver.com/killlifes/222948018357', 'description': '제 경력을 살릴 수 있으면서 정년까지 일할 수 있고, 워라밸도 챙길 수 있는 직업이 뭐가 있을까 찾아보다가 9급운전직<b>공무원</b>을 알게 되었습니다. <b>공무원</b>이라 특별한 사유가 없다면 무조건 정년이 보장됐고... ', 'bloggername': 'Passion', 'bloggerlink': 'blog.naver.com/killlifes', 'postdate': '20221206'}\n",
      "====================================================================================================\n"
     ]
    }
   ],
   "source": [
    "searchText = input('검색어를 입력하세요. : ')\n",
    "targetSite = 'https://openapi.naver.com/v1/search/blog?query=' + searchText\n",
    "headers = {\n",
    "    'User-agent': 'Mozilla/5.0 (Windows NT 6.3; WOW64; Trident/7.0; rv:11.0) like Gecko',\n",
    "    'X-Naver-Client-Id': client_id,\n",
    "    'X-Naver-Client-Secret': client_secret\n",
    "}\n",
    "response = requests.get(targetSite, headers=headers)\n",
    "print(response)\n",
    "\n",
    "searchResult = response.json()\n",
    "# print(searchResult)\n",
    "items = searchResult['items']\n",
    "for i in range(len(items)):\n",
    "    print(f'{i + 1}.\\n{items[i]}')\n",
    "    print('=' * 100)"
   ],
   "metadata": {
    "collapsed": false
   }
  },
  {
   "cell_type": "markdown",
   "source": [
    "네이버 검색 API를 이용한 뉴스 검색"
   ],
   "metadata": {
    "collapsed": false
   }
  },
  {
   "cell_type": "code",
   "execution_count": 3,
   "outputs": [
    {
     "name": "stdout",
     "output_type": "stream",
     "text": [
      "<Response [200]>\n",
      "1.\n",
      "{'title': '건보료·가스비 줄줄이 인상에…<b>연금</b>개혁 우려 커진다', 'originallink': 'http://news.einfomax.co.kr/news/articleView.html?idxno=4252321', 'link': 'http://news.einfomax.co.kr/news/articleView.html?idxno=4252321', 'description': '그는 &quot;필수 생계비 지출이 단기간에 급격히 늘어난 상황에서 당장 <b>고갈</b>될 것도 아닌 국민<b>연금</b>의 보험료율마저 올리자고 한다면 국민들이 납득하기 어려울 것 같다&quot;며 &quot;정부 <b>연금</b>개혁안이 10월에 나올 예정인데 그때가... ', 'pubDate': 'Mon, 30 Jan 2023 14:08:00 +0900'}\n",
      "====================================================================================================\n",
      "2.\n",
      "{'title': '국민<b>연금</b> 기금 2055년 소진될 듯…&apos;저출산·고령화&apos; 영향으로 당겨진 &apos;<b>연금</b> 고...', 'originallink': 'https://biz.sbs.co.kr/article_hub/20000100652?division=NAVER', 'link': 'https://n.news.naver.com/mnews/article/374/0000320547?sid=101', 'description': '■ 용감한 토크쇼 직설 - \\xa0정용건 사회연대포럼 대표, 석재은 한림대 사회복지학과 교수, 최현수 한국보건사회연구원 정책연구실장 - 더 당겨진 국민<b>연금 고갈</b> 시점…왜? - 국민<b>연금 고갈</b> 시점, 4차 추계 때보다... ', 'pubDate': 'Mon, 30 Jan 2023 13:28:00 +0900'}\n",
      "====================================================================================================\n",
      "3.\n",
      "{'title': '<b>고갈</b>되는 국민<b>연금</b>...정부, 국민들에게 65세까지 5년 더 내게 한다', 'originallink': 'https://www.insight.co.kr/news/427832', 'link': 'https://www.insight.co.kr/news/427832', 'description': '한편 지난 27일 보건복지부는 국민<b>연금 고갈</b>시점이 2055년이 될 것이라는 내용이 담긴 재정추계 결과를 발표했다.이는 5년 전과 비교해 2년이나 앞당겨진 수치다. 과거 정부가 연금개혁을 외면한 만큼 국민연금의 재정... ', 'pubDate': 'Mon, 30 Jan 2023 13:26:00 +0900'}\n",
      "====================================================================================================\n",
      "4.\n",
      "{'title': '미국 인구 &apos;초고령화&apos;에 대응하는 정부 제도 및 경제 현황', 'originallink': 'http://dream.kotra.or.kr/kotranews/cms/news/actionKotraBoardDetail.do?SITE_NO=3&MENU_ID=410&CONTENTS_NO=1&bbsGbn=242&bbsSn=242&pNttSn=200061', 'link': 'http://dream.kotra.or.kr/kotranews/cms/news/actionKotraBoardDetail.do?SITE_NO=3&MENU_ID=410&CONTENTS_NO=1&bbsGbn=242&bbsSn=242&pNttSn=200061', 'description': '천연자원의 <b>고갈</b>, 환경 보호\\xa0등 인구학적 도전들이 야기되고 있다. 그러나 2022년 세계 인구전망... 이러한 사회보장 <b>연금</b> 수급자 중 남성의 37% 와 여성의 42%는 은퇴 <b>연금</b>이 전체 소득의 50% 이상을... ', 'pubDate': 'Mon, 30 Jan 2023 12:04:00 +0900'}\n",
      "====================================================================================================\n",
      "5.\n",
      "{'title': '국민<b>연금</b> 초안 불발…방향은 &apos;올리고, 더 오래 내고&apos;', 'originallink': 'https://biz.sbs.co.kr/article_hub/20000100621?division=NAVER', 'link': 'https://n.news.naver.com/mnews/article/374/0000320526?sid=101', 'description': '국민<b>연금 고갈</b>시기가 2년 빨라졌다는 정부 발표가 나온 가운데, 현재 국회 내 자문위원회에서도 연금 개혁 초안 마련에 한창인데요. 국회 내 자문위가 연금 보험료율을 현 9%에서 15%까지 올리는 안이 유력하게 검토되는... ', 'pubDate': 'Mon, 30 Jan 2023 11:42:00 +0900'}\n",
      "====================================================================================================\n",
      "6.\n",
      "{'title': '국민<b>연금</b> 보험료율 9→15%로 인상 검토…가입연령 상향도 추진', 'originallink': 'https://www.busan.com/view/busan/view.php?code=2023013011164573096', 'link': 'https://n.news.naver.com/mnews/article/082/0001195534?sid=100', 'description': '앞서 국민<b>연금</b>재정추계위원회는 지난 27일 제5차 국민<b>연금</b> 재정추계 잠정치를 공개하며 2055년 국민<b>연금</b> 기금이 <b>고갈</b>된다고 밝혔다. 저출산·고령화 추세에 따라 2018년 4차 추계 때보다 <b>고갈</b> 시점이 2년 앞당겨진... ', 'pubDate': 'Mon, 30 Jan 2023 11:18:00 +0900'}\n",
      "====================================================================================================\n",
      "7.\n",
      "{'title': '9%에서...&apos;국민<b>연금</b>&apos;, 결국 이렇게 합의됐다 (+반응)', 'originallink': 'https://www.wikitree.co.kr/articles/826816', 'link': 'https://www.wikitree.co.kr/articles/826816', 'description': '이는 저출산·고령화에 따른 인구구조 악화가 가장 큰 원인으로 지난 4차 재정계산(2018년) 때 예측한 <b>고갈</b> 시점보다 2년 더 빨라진 수치다. 이와 관련해 29일 중앙일보는 국회 <b>연금</b>개혁특위 민간자문위원회가 지난 27... ', 'pubDate': 'Mon, 30 Jan 2023 11:12:00 +0900'}\n",
      "====================================================================================================\n",
      "8.\n",
      "{'title': '국민<b>연금</b> 2055년 <b>고갈</b>?…&quot;더 내고 제대로 받아야&quot; [직설]', 'originallink': 'https://biz.sbs.co.kr/article_hub/20000100591?division=NAVER', 'link': 'https://n.news.naver.com/mnews/article/374/0000320499?sid=101', 'description': '국민<b>연금</b> 기금 <b>고갈</b> 시점이 지난 2018년 계산 때보다 2년 앞당겨졌습니다. 역시 낮은 출산율 때문인가요? Q. 특히 2030 세대를 중심으로 국민<b>연금</b>을 못 받을 수 있다는 불신이 있는데요. 국민<b>연금</b> 기금이 <b>고갈</b>되면 그럼... ', 'pubDate': 'Mon, 30 Jan 2023 10:51:00 +0900'}\n",
      "====================================================================================================\n",
      "9.\n",
      "{'title': '2055년 국민<b>연금 고갈</b>…&apos;보험료율 9→15%&apos; 인상 검토', 'originallink': 'http://www.wowtv.co.kr/NewsCenter/News/Read?articleId=A202301300089&t=NN', 'link': 'https://n.news.naver.com/mnews/article/215/0001079779?sid=101', 'description': '국민<b>연금</b> 기금이 당초 예상보다 2년 빠른 2055년 바닥을 드러낼 것이라는 전망이 나온 가운데, 국회 <b>연금</b>개혁특별위원회(<b>연금</b>특위) 소속 민간자문위원회가 국민<b>연금</b> 보험료율을 현행 9%에서 15%까지 올리는 것을 전제로... ', 'pubDate': 'Mon, 30 Jan 2023 10:30:00 +0900'}\n",
      "====================================================================================================\n",
      "10.\n",
      "{'title': '국민<b>연금</b> 보험료율 9%? 12%? 15%?', 'originallink': 'https://news.imaeil.com/page/view/2023013009461122161', 'link': 'https://n.news.naver.com/mnews/article/088/0000795774?sid=100', 'description': '▶국민<b>연금</b> 보험료율 및 소득대체율 수정은 최근 불거진 기금 &apos;<b>고갈</b>론&apos;과 연결돼 국민들이 여론에서 관심 있게 언급하는 모습이다. 국민<b>연금</b> 재정추계전문위원회가 국민<b>연금</b> 제도 유지를 전제로 향후 70년... ', 'pubDate': 'Mon, 30 Jan 2023 09:48:00 +0900'}\n",
      "====================================================================================================\n"
     ]
    }
   ],
   "source": [
    "searchText = input('검색어를 입력하세요. : ')\n",
    "targetSite = 'https://openapi.naver.com/v1/search/news?query=' + searchText\n",
    "headers = {\n",
    "    'User-agent': 'Mozilla/5.0 (Windows NT 6.3; WOW64; Trident/7.0; rv:11.0) like Gecko',\n",
    "    'X-Naver-Client-Id': '',    # 필수 입력\n",
    "    'X-Naver-Client-Secret': '' # 필수 입력\n",
    "}\n",
    "response = requests.get(targetSite, headers=headers)\n",
    "print(response)\n",
    "\n",
    "searchResult = response.json()\n",
    "# print(searchResult)\n",
    "items = searchResult['items']\n",
    "for i in range(len(items)):\n",
    "    print(f'{i + 1}.\\n{items[i]}')\n",
    "    print('=' * 100)"
   ],
   "metadata": {
    "collapsed": false
   }
  },
  {
   "cell_type": "markdown",
   "source": [
    "네이버 검색 API를 이용한 책 검색"
   ],
   "metadata": {
    "collapsed": false
   }
  },
  {
   "cell_type": "code",
   "execution_count": 4,
   "outputs": [
    {
     "name": "stdout",
     "output_type": "stream",
     "text": [
      "<Response [200]>\n",
      "1.\n",
      "{'title': '정의란 무엇인가 (대한민국의 정의에 대해 다시 생각해보는 세계적 베스트셀러)', 'link': 'https://search.shopping.naver.com/book/catalog/32467123067', 'image': 'https://shopping-phinf.pstatic.net/main_3246712/32467123067.20230110163728.jpg', 'author': '마이클 샌델', 'discount': '13500', 'publisher': '와이즈베리', 'pubdate': '20141120', 'isbn': '9788937834790', 'description': '정의론의 세계적 석학, 마이클 샌델 교수의 생기 넘치는 강의실로 초대합니다!\\n\\n『정의란 무엇인가』는 27세에 최연소 하버드대학교 교수가 되었고, 존 롤스의 정의론을 비판한 《자유주의와 정의의 한계》를 발표하면서 세계적 학자로 인정받은 정치 철학가 마이클 샌델의 대표작이다. 샌델 교수가 실제로 하버드에서 강의한 수업 ‘Justice(정의)’를 바탕으로 쓴 책으로, 현재까지도 하버드대학교에서 가장 인기 있고 영향력 있는 강의 중 하나로 손꼽힌다. \\n\\n이 책은 구제 금융, 모병제, 대리 출산과 같은 현실 문제를 비롯해 경로를 이탈한 전차, 고통의 대가를 계량하는 시험과 같은 사고 실험을 주제로 삼아, 위대한 사상가들은 ‘정의’에 대해 어떻게 생각했는지 비판적으로 살펴본다. 가령, 저자는 벤담과 밀의 공리주의는 다수에게 도움이 되는 결정을 지지하지만, 인간의 존엄성 문제에는 도덕적 한계를 지니고 있다고 말한다. \\n\\n하지만 저자는 이 책에 ‘정의’에 대한 확고한 답을 내리지는 않는다. 외려, 책을 읽는 독자들도 위대한 사상가들과 어깨를 나란히 하며 자신의 논리를 펼쳐나갈 수 있음을 보여줌으로써, 독자들로 하여금 정의에 대한 자신의 견해를 수정하고 바로잡는 기회를 만나는 획기적인 프레임을 선사하고, 나아가 그들 자신이 ‘무엇을’, ‘왜’ 그렇게 생각하는지 알도록 한다.'}\n",
      "====================================================================================================\n",
      "2.\n",
      "{'title': '10대를 위한 JUSTICE 정의란 무엇인가 (하버드대 마이클 샌델 교수의 정의 수업)', 'link': 'https://search.shopping.naver.com/book/catalog/32468720865', 'image': 'https://shopping-phinf.pstatic.net/main_3246872/32468720865.20230117165308.jpg', 'author': '마이클 샌델', 'discount': '10800', 'publisher': '미래엔아이세움', 'pubdate': '20141130', 'isbn': '9788937886966', 'description': '‘정의’를 직관적으로 읽고, 생각의 깊이를 더하다!\\n\\n정치 철학가 마이클 샌델의 대표작 《정의란 무엇인가》는 여러 철학자들의 이론을 넘나들며 질문을 통해 스스로 생각해 보게 하는 구조이기 때문에 10대가 읽기에는 다소 어려운 책일 수도 있다. 『10대를 위한 정의란 무엇인가』는 그런 점을 보완하여 10대 아이들도 정의’란 무엇인지, ‘좋은 삶’이란 어떤 것인지 직관적으로 이해할 수 있도록 구성했다. 영상 세대에 걸맞게 긴 텍스트보다는 강렬한 이미지와 짧은 글을 사용했다는 것이 특징이다.\\n\\n본문 속에 등장하는 판단의 상황, 즉 딜레마에 빠지게 되는 상황을 이미지로 보여준다. 긴 문장보다는 짧은 문장으로 정리해 딜레마 상황을 명료한 내용으로 기억할 수 있도록 구성했다. 10대들도 충분히 공감할 수 있는 주제를 통해 어떻게 올바른 삶을 살 것인가, 문제 상황에서 가장 옳은 판단은 무엇인가에 대해 진지하게 고민하도록 안내한다. 더불어 책 속에 수록된 여러 철학자의 이론들은 우리 삶이 그만큼 복작하고 다양하다는 사실을 간접적으로 드러낸다.'}\n",
      "====================================================================================================\n",
      "3.\n",
      "{'title': '정의란 무엇인가 (하나님의 은혜가 어떻게 우리를 정의롭게 만드는가)', 'link': 'https://search.shopping.naver.com/book/catalog/32490809515', 'image': 'https://shopping-phinf.pstatic.net/main_3249080/32490809515.20221019151158.jpg', 'author': '팀 켈러', 'discount': '12600', 'publisher': '두란노서원', 'pubdate': '20120220', 'isbn': '9788953117099', 'description': '하나님의 은혜 안에서 정의를 실천하는 길!\\n\\n크리스천들이 가난한 이들을 향한 긍휼이 끓어넘치는 삶을 살아가도록 이끌어주는 『정의란 무엇인가』. 미국에서 가장 영향력 있는 목회자로 손꼽히는 팀 켈러는 이 책에서 성경의 하나님이 다른 종교의 신들과는 달리 연약하고 어려운 이들을 위해 정의를 실현하는 분이었다고 이야기한다. 더불어 불의, 불법, 불공평이 만연한 오늘날의 세상에서도 하나님의 사랑을 밑바탕으로 한 선행을 베풀어야 하는 이유를 일깨워준다. 이를 통해 탐욕이 넘치는 이 시대를 살아가는 크리스천들은 개인의 구원과 사회적 책임 사이에서 해답을 발견할 수 있을 것이다.'}\n",
      "====================================================================================================\n",
      "4.\n",
      "{'title': '정의란 무엇인가', 'link': 'https://search.shopping.naver.com/book/catalog/32496186730', 'image': 'https://shopping-phinf.pstatic.net/main_3249618/32496186730.20220527024642.jpg', 'author': '마이클 샌델', 'discount': '0', 'publisher': '김영사', 'pubdate': '20101020', 'isbn': '9788934939603', 'description': \"정의론의 세계적 석학, 마이클 샌델 교수의 생기 넘치는 강의실로 초대한다!\\n\\n정의론 분야의 세계적 학자이자, 공동체주의 이론의 대표적인 4대 이론가로 손꼽히는 샌델 교수의 실제 하버드대 강의 'Justice(정의)'를 바탕으로 쓴『정의란 무엇인가』. 7천명도 채 안 되는 학부생 가운데 무려 천 명의 학생들이 듣는 마이클 샌델의 'Justice(정의)'강의는 하버드대학교에서 가장 인기 있고 영향력 있는 수업으로 손꼽힌다. 자유사회의 시민은 타인에게 어떤 의무를 지는가, 정부는 부자에게 세금을 부과해 가난한 사람을 도와야 하는가, 자유시장은 공정한가, 진실을 말하는 것이 잘못인 때도 있는가, 도덕적으로 살인을 해야 하는 때도 있는가 등 우리가 시민으로 살면서 부딪히는 어려운 질문들을 설득력 있게 풀어간다.\"}\n",
      "====================================================================================================\n",
      "5.\n",
      "{'title': '정의란 무엇인가 (하나님의 의)', 'link': 'https://search.shopping.naver.com/book/catalog/35276596618', 'image': 'https://shopping-phinf.pstatic.net/main_3527659/35276596618.20221019101257.jpg', 'author': '정연태', 'discount': '12960', 'publisher': '좋은땅', 'pubdate': '20221021', 'isbn': '9791138812924', 'description': '인간의 삶은 완전한 선을 찾는 생활입니다\\n\\n하나님의 말씀에 완전히 일치하는 이 생활은 하나님의 의(義, 옳음)로 써 사는 생활이며 이는 인간의 삶에 완전한 선입니다. 인간의 삶에 완전한 옳음(義)은 하나님을 사랑하기 때문에 하나님을 믿고 하나님의 의(義)와 일치하는 생활을 하는 것입니다. 이렇게 살 때 창조주 하나님께서도 그 사람을 사랑하고 그에게서 하나님이 하시는 일을 나타내 내시므로 완전한 옳음(義)이 증명됩니다.\\n\\n선은 진리와 의의 문제이며 협의로는 정의의 문제입니다. 악의 문제는 이에 반하는 문제입니다. 여기서 이 문제까지 다룬다면 지나치게 방대한 문제가 되므로 이 책에서는 악의 문제는 생략했습니다. 이뿐만 아니라 선의 문제도 그 자체만으로도 방대한 문제이므로 개념적으로 집필하였습니다. 그러므로 일반적인 선을 개념적으로 언급해, 특수한 경우의 예는 회피하였습니다. 성경에 비추어 간략하게 완전한 선을 개념적으로 소개하였음을 참고하시기 바랍니다.'}\n",
      "====================================================================================================\n",
      "6.\n",
      "{'title': '정의란 무엇인가 (어린이 눈높이에서 생각하는 정의 토론 교과서)', 'link': 'https://search.shopping.naver.com/book/catalog/32490815129', 'image': 'https://shopping-phinf.pstatic.net/main_3249081/32490815129.20230117163638.jpg', 'author': '안미란', 'discount': '10800', 'publisher': '주니어김영사', 'pubdate': '20110419', 'isbn': '9788934950523', 'description': \"아이들의 관점에서 생각하는 정의 토론 교과서!\\n\\n아이들이 '최선의 정의'로 나아가도록 이끄는 『어린이를 위한 정의란 무엇인가』. 아이들의 관점에서 생각하는 정의 토론 교과서다. 큰내초등학교 5학년 무지개반의 5명의 친구가 들려주는 정의에 관한 8가지 이야기를 담고 있다. 가난한 친구에게 늘 나누어주는 일, 친구를 학원에 소개하고 도서상품권을 타는 일, 그리고 반 성적 향상을 위해 지적 장애아 친구가 시험을 안 봤으면 하는 마음 등 생활 속에 녹아든 문제를 정의라는 관점에서 생각하고 토론해보도록 꾸몄다. 용기와 지혜를 바탕으로 이기심 없이 상대를 균형있게 배려하는 마음에서 생각하는 것이 정의로운 행동의 출발점임을 일깨워준다. 아이들이 '최선의 정의'로 나아가도록 이끌고 있다.\"}\n",
      "====================================================================================================\n",
      "7.\n",
      "{'title': '정당은 바이러스다 (정의란 무엇인가?)', 'link': 'https://search.shopping.naver.com/book/catalog/32441618827', 'image': 'https://shopping-phinf.pstatic.net/main_3244161/32441618827.20221229074752.jpg', 'author': '최인호', 'discount': '9000', 'publisher': '지식공감', 'pubdate': '20210317', 'isbn': '9791156225904', 'description': '지금 인류는 존망(存亡)의 갈림길에 서 있다. 이번 위기를 극복하지 못하면 인류라는 종족은 영원히 사라질지도 모른다.\\n 인류가 이런 위기에 직면하게 된 근본적인 원인은 무엇일까? 세상의 모든 것은 우리의 생각으로부터 비롯된다. 특히, 전 지구적 차원에서 진행되는 사건은 우리의 집단적인 생각에서 비롯된다. 그러므로 지금의 위기는 우리의 집단적인 생각이 만들어낸 것임은 분명하다. 또한, 지금의 위기를 초래한 우리의 집단적인 생각은 무엇인가 잘못되었음도 분명하다. \\n 왜 우리는 집단으로 잘못 생각하게 되었을까? 그것은 우리가 잘못된 패러다임 속에서 살아가기 때문이다. 패러다임은 한 시대 사람들의 견해나 생각을 규정하는 인식의 틀이다, 그 인식의 틀이 잘못되었기 때문에 우리는 집단으로 잘못 생각할 수밖에 없었다. \\n 그렇다면 잘못된 패러다임은 어떻게 창조되었을까? 정치 시스템과 종교 시스템은 패러다임을 창조하는 도구이자, 패러다임의 기본적인 구성 요소다. 특히, 산업이 고도화되는 현대 사회는 정치 시스템의 영향력이 압도적으로 커지고 있다. 그러므로 잘못된 패러다임은 잘못된 정치 시스템에서 가장 크게 영향을 받고 있음도 분명하다. \\n 그럼 잘못된 정치 시스템은 어떻게 만들어질까? 법(法), 그중에서도 가장 상위법인 헌법(憲法)에 따라 만들어진다. 정치 시스템은 헌법이 규정한 국가권력 구조의 틀 속에서 작동한다. 그러므로 잘못된 헌법의 국가권력 구조는 잘못된 정치 시스템을 만들어낸다. \\n 그러므로 지구촌 헌법들이 올바른 국가권력 구조를 만들어내면, 올바른 정치 시스템이 뿌리내리고, 올바른 패러다임이 형성되면서, 전 인류는 집단으로 올바르게 생각하게 되므로 지금의 위기를 극복하고, 다시는 지금과 같은 위기를 겪지 않게 될 것이다. \\n\\n 그래서 다음의 두 가지에 대해 깊이 명상했다. \\n 지금의 국가권력 구조는 어느 부분이 어떻게 잘못된 것일까?\\n 어떻게 하면 올바른 국가권력 구조를 만들 수 있을까?\\n\\n 그 결과 지구촌 모든 국가의 국가권력 구조는 모든 것이 있어야 할 자리에 있을 수 없도록 만들어졌다는 것을 알 수 있었다. 특히, 국가의 주인인 국민이 주인의 자리를 지킬 수 없도록, 그 주인의 자리를 정당이라는 이상한 집단이 꿰찬 후 주인 행세를 하도록, 국민은 정당의 종노릇을 하도록 국가권력 구조가 만들어진 것이 모든 문제의 원인이라는 것을 명확하게 알 수 있었다. \\n 따라서 국가권력 구조에서 모든 것이 있어야 할 자리에 있으면, 특히 국민이 주인의 자리를 되찾고 정당이 자기 자리로 돌아가면, 지금의 위기에서 벗어날 수 있다는 결론을 내리게 되었다.\\n 그래서 수레바퀴 헌법을 고안하고, 이 책을 쓰게 되었다. 수레바퀴 헌법은 국민이 국가의 주인으로서 주인의 자리에 앉아, 주인의 권리(主權)를 행사함으로써, 모든 것이 있어야 할 자리에 있게 하는 헌법이다. 그러므로 수레바퀴 헌법을 채택하면 국민뿐 아니라 국가를 구성하는 모든 요소는 자기 자리를 찾게 되고, 모든 것은 정상적으로 돌아갈 것이다. \\n\\t\\t\\t\\t\\t\\t\\t\\t\\n-들어가는 글 중에서-'}\n",
      "====================================================================================================\n",
      "8.\n",
      "{'title': '정의란 무엇인가', 'link': 'https://search.shopping.naver.com/book/catalog/33811851627', 'image': 'https://shopping-phinf.pstatic.net/main_3381185/33811851627.20221230072246.jpg', 'author': '안정수', 'discount': '3700', 'publisher': '퍼플', 'pubdate': '20170107', 'isbn': '9788924045192', 'description': '우리에게 정의란 있는가? \\n많은 이들이 잃어버린 정의란 개념에 대해 생각해 보는 책!\\n누구라도 함께 이글을 읽는다면 다시한번 우리에게 정의와 개념을 \\n밝힐수 있을것이다!'}\n",
      "====================================================================================================\n",
      "9.\n",
      "{'title': '정의란 무엇인가', 'link': 'https://search.shopping.naver.com/book/catalog/32505312688', 'image': 'https://shopping-phinf.pstatic.net/main_3250531/32505312688.20221227205117.jpg', 'author': '한스 켈젠', 'discount': '9000', 'publisher': '책과사람들', 'pubdate': '20100215', 'isbn': '9788991516816', 'description': '『정의란 무엇인가』. 한스 켈젠 교수의 저서 ≪Was ist Gerechhtigkeit?(정의란 무엇인가?)≫를 번역한 책이다. 한글과 원문을 함께 실었다.'}\n",
      "====================================================================================================\n",
      "10.\n",
      "{'title': '사회 정의란 무엇인가 (현대 정의 이론과 공동선 탐구)', 'link': 'https://search.shopping.naver.com/book/catalog/32466680093', 'image': 'https://shopping-phinf.pstatic.net/main_3246668/32466680093.20221227204559.jpg', 'author': '이종은', 'discount': '31500', 'publisher': '책세상', 'pubdate': '20150605', 'isbn': '9788970139289', 'description': '사회 정의, 그 본질에 대해 탐구하다!\\n\\n『사회 정의란 무엇인가』는 정치철학의 근본 과제는 권력으로 하여금 정의를 달성하게 하는 것이며, 권력이 정의를 달성할 때 좋은 정치 질서가 이루어진다는 시각에서 정의로운 사회를 위한 합리적 원칙을 모색해온 이종은 교수의 정치철학 4부작의 완결본이다.《정치와 윤리》(2010)에서 정의의 윤리적 바탕을 탐색하고《평등, 자유, 권리》(2011)에서 정의의 원칙으로서의 권리와 정의의 구성 요소로서의 평등과 자유를 다뤘다. 이어 《정의에 대하여》(2014)에서 정의의 개념과 원칙 등 본격적인 정의 이론을 펼쳤던 저자는 이 책에서 존 롤스의 정의론을 중심으로 사회 정의의 본질을 탐구한다.\\n\\n공리주의, 자유주의, 공동체주의를 비롯한 다양한 현대 정의 이론과의 대비를 바탕으로 롤스의 정의론을 비판적으로 고찰하며, ‘공동선’의 개념과 가치를 다루고 있다. 이러한 논의는 우리가 정치적 원칙으로 삼아야 하는 정의 이론이 무엇인지를 근원에서 다시 생각해보게 한다. 어떤 억압과 지배 없이, 그리고 적합성에 대한 심사를 거쳐 도출된 정의의 원칙으로 사회 정의를 실현하는 합의에 도달할 때 진정한 의미의 국민, 진정한 의미의 국민국가가 될 수 있다는 것이 이 책의 기본 시각이다.'}\n",
      "====================================================================================================\n"
     ]
    }
   ],
   "source": [
    "searchText = input('검색어를 입력하세요. : ')\n",
    "targetSite = 'https://openapi.naver.com/v1/search/book?query=' + searchText\n",
    "headers = {\n",
    "    'User-agent': 'Mozilla/5.0 (Windows NT 6.3; WOW64; Trident/7.0; rv:11.0) like Gecko',\n",
    "    'X-Naver-Client-Id': client_id,\n",
    "    'X-Naver-Client-Secret': client_secret\n",
    "}\n",
    "response = requests.get(targetSite, headers=headers)\n",
    "print(response)\n",
    "\n",
    "searchResult = response.json()\n",
    "# print(searchResult)\n",
    "items = searchResult['items']\n",
    "for i in range(len(items)):\n",
    "    print(f'{i + 1}.\\n{items[i]}')\n",
    "    print('=' * 100)"
   ],
   "metadata": {
    "collapsed": false
   }
  },
  {
   "cell_type": "markdown",
   "source": [
    "네이버 검색 API를 이용한 성인 검색어 판별"
   ],
   "metadata": {
    "collapsed": false
   }
  },
  {
   "cell_type": "code",
   "execution_count": 5,
   "outputs": [
    {
     "name": "stdout",
     "output_type": "stream",
     "text": [
      "<Response [200]>\n",
      "{'adult': '1'}\n",
      "<class 'str'>\n",
      "AV는 ('AV', '성인') 검색어입니다.\n"
     ]
    }
   ],
   "source": [
    "searchText = input('검색어를 입력하세요. : ')\n",
    "targetSite = 'https://openapi.naver.com/v1/search/adult.json?query=' + searchText\n",
    "headers = {\n",
    "    'User-agent': 'Mozilla/5.0 (Windows NT 6.3; WOW64; Trident/7.0; rv:11.0) like Gecko',\n",
    "    'X-Naver-Client-Id': client_id,\n",
    "    'X-Naver-Client-Secret': client_secret\n",
    "}\n",
    "response = requests.get(targetSite, headers=headers)\n",
    "print(response)\n",
    "\n",
    "searchResult = response.json()\n",
    "print(searchResult)\n",
    "adult = searchResult['adult']\n",
    "print(type(adult))\n",
    "print(f'{searchText}는 {searchText, \"일반\" if adult == \"0\" else \"성인\"} 검색어입니다.')"
   ],
   "metadata": {
    "collapsed": false
   }
  },
  {
   "cell_type": "markdown",
   "source": [
    "네이버 검색 API를 이용한 백과사전 검색"
   ],
   "metadata": {
    "collapsed": false
   }
  },
  {
   "cell_type": "code",
   "execution_count": 6,
   "outputs": [
    {
     "name": "stdout",
     "output_type": "stream",
     "text": [
      "<Response [200]>\n",
      "1.\n",
      "{'title': '<b>자바</b>', 'link': 'https://terms.naver.com/entry.naver?docId=3611998&cid=58598&categoryId=59316', 'description': ' 객체지향 프로그래밍 언어 중 하나.  <b>자바</b>는 객체지향 프로그래밍 언어입니다. 객체지향 프로그래밍은 프로그램을 짤 때 각각의 역할을 하는 객체로 프로그램을 구성합니다. 때문에 비슷한 역할을 해야 하는... ', 'thumbnail': 'http://openapi-dbscthumb.phinf.naver.net/4751_000_3/20170725184608169_JKHN6RZO7.jpg/992_170541_09563.jpg?type=m160_160'}\n",
      "====================================================================================================\n",
      "2.\n",
      "{'title': '<b>자바</b>', 'link': 'https://terms.naver.com/entry.naver?docId=826825&cid=42344&categoryId=42344', 'description': '&#60;<b>자바</b> 특징&#62; ① <b>자바</b>는 간단하다 (simple) ① 하나의 소프트웨어가 제작될 때는 소프트웨어를 제작하는 비용도 많이 들지만 유지 보수하는 비용도 어마어마하다. <b>자바</b> 언어는 이러한 점을 고려하여... ', 'thumbnail': 'http://openapi-dbscthumb.phinf.naver.net/0805_000_1/20111121125406714_YFX6R61YX.jpg/J14_i1.jpg?type=m160_160'}\n",
      "====================================================================================================\n",
      "3.\n",
      "{'title': '<b>자바</b>', 'link': 'https://terms.naver.com/entry.naver?docId=2807121&cid=40942&categoryId=32838', 'description': ' 객체지향프로그래밍 언어로서 C/C++에 비해 간략하고 쉬우며 네트워크 기능의 구현이 용이하기 때문에, 인터넷 환경에서 가장 활발히 사용되는 프로그래밍 언어이다. <b>자바</b> 프로그램은 운영체제의... ', 'thumbnail': ''}\n",
      "====================================================================================================\n",
      "4.\n",
      "{'title': '<b>자바</b>', 'link': 'https://terms.naver.com/entry.naver?docId=1337594&cid=40942&categoryId=32127', 'description': ' 인도네시아의 <b>자바</b>(Java)커피는 예멘의 모카(Mocha)와 혼합한 모카 <b>자바</b>(Mocha Java)로 유명하다.  인도네시아 <b>자바</b>(Java)지역의 커피로 스트레이트 커피(Straight Coffee)로 마시기도 하지만 예멘의... ', 'thumbnail': 'http://openapi-dbscthumb.phinf.naver.net/2765_000_321/20190122021454203_YD8UG9XC2.jpg/1719256.jpg?type=m160_160'}\n",
      "====================================================================================================\n",
      "5.\n",
      "{'title': '<b>자바</b>', 'link': 'https://terms.naver.com/entry.naver?docId=357751&cid=42596&categoryId=42596', 'description': '그 <b>자바</b>를 의인화하여 노래한 이 샹송은 에디 마르네 작사, 에밀 스테른(Emile Stern) 작곡에 의한 1955년의 작품이다. 뤼시엔 드릴이 1956년에 취입한 레코드가 대히트하여, 57년의 ADF 디스크 대상을... ', 'thumbnail': ''}\n",
      "====================================================================================================\n",
      "6.\n",
      "{'title': '<b>자바</b>', 'link': 'https://terms.naver.com/entry.naver?docId=850606&cid=42346&categoryId=42346', 'description': '<b>자바</b>는 객체 클래스의 계승(inheri-tance) 관계를 실행할 때에 확정하는 동적 모델을 채용하였다. C++에서는 컴파일 시에 확정하기 때문에 상위 클래스에 새로운 기능을 추가하면 그 클래스와 계승 관계가... ', 'thumbnail': ''}\n",
      "====================================================================================================\n",
      "7.\n",
      "{'title': '<b>자바</b> 프로그래밍 언어', 'link': 'https://terms.naver.com/entry.naver?docId=3586560&cid=59277&categoryId=59278', 'description': '있던 한계 극복의 필요성, 호환이 잘되고 간단한 정제된 언어의 필요성, 그리고 사용자와 상호 대화가 가능한 기능 요소의 필요성 때문에 고안된 3세대 언어이다. <b>자바</b> 프로그램 언어의 심벌 마크', 'thumbnail': 'http://openapi-dbscthumb.phinf.naver.net/4874_000_1/20170502190804493_5QKHFU8SI.jpg/ka39_117_i1.jpg?type=m160_160'}\n",
      "====================================================================================================\n",
      "8.\n",
      "{'title': '<b>자바</b>', 'link': 'https://terms.naver.com/entry.naver?docId=3533009&cid=58528&categoryId=58528', 'description': '<b>자바</b>는 선 마이크로시스템즈(Sun Microsystems)의 제임스 고슬링(James Gosling)이 개발한 객체지향 언어이다. <b>자바</b>는 C 언어를 토대로 오브젝트-C를 거쳐 기계의 운영체제와 무관하게 실행할 수 있도록... ', 'thumbnail': 'http://openapi-dbscthumb.phinf.naver.net/4666_000_1/20161005133827452_X3WMWVRYN.jpg/ka37_180_i1.jpg?type=m160_160'}\n",
      "====================================================================================================\n",
      "9.\n",
      "{'title': '<b>자바</b>', 'link': 'https://terms.naver.com/entry.naver?docId=1234912&cid=40942&categoryId=32127', 'description': ' 인도네시아 <b>자바</b>섬에서 생산되는 홍차.  제2차 세계대전 당시에 생산량이 많이 줄어들기는 했지만, 세계 4위에 해당하는 많은 양의 홍차를 생산하는 대규모 산지가 섬 각지에 분포되어 있다. 제조되는... ', 'thumbnail': 'http://openapi-dbscthumb.phinf.naver.net/2765_000_170/20181217022406277_FJLOVIL9R.jpg/257774.jpg?type=m160_160'}\n",
      "====================================================================================================\n",
      "10.\n",
      "{'title': '<b>자바</b>', 'link': 'https://terms.naver.com/entry.naver?docId=3478388&cid=58439&categoryId=58439', 'description': '<b>자바</b>를 다른 컴파일언어와 구분 짓는 가장 큰 특징은 컴파일된 코드가 플랫폼 독립적이라는 점이다. <b>자바</b> 컴파일러는 <b>자바</b> 언어로 작성된 프로그램을 바이트코드(Bytecode)라는 특수한 바이너리... ', 'thumbnail': ''}\n",
      "====================================================================================================\n"
     ]
    }
   ],
   "source": [
    "searchText = input('검색어를 입력하세요. : ')\n",
    "targetSite = 'https://openapi.naver.com/v1/search/encyc?query=' + searchText\n",
    "headers = {\n",
    "    'User-agent': 'Mozilla/5.0 (Windows NT 6.3; WOW64; Trident/7.0; rv:11.0) like Gecko',\n",
    "    'X-Naver-Client-Id': client_id,\n",
    "    'X-Naver-Client-Secret': client_secret\n",
    "}\n",
    "response = requests.get(targetSite, headers=headers)\n",
    "print(response)\n",
    "\n",
    "searchResult = response.json()\n",
    "# print(searchResult)\n",
    "items = searchResult['items']\n",
    "for i in range(len(items)):\n",
    "    print(f'{i + 1}.\\n{items[i]}')\n",
    "    print('=' * 100)"
   ],
   "metadata": {
    "collapsed": false
   }
  },
  {
   "cell_type": "markdown",
   "source": [
    "네이버 검색 API를 이용한 영화 검색"
   ],
   "metadata": {
    "collapsed": false
   }
  },
  {
   "cell_type": "code",
   "execution_count": 7,
   "outputs": [
    {
     "name": "stdout",
     "output_type": "stream",
     "text": [
      "<Response [200]>\n",
      "1.\n",
      "{'title': '<b>아바타</b> 5', 'link': 'https://movie.naver.com/movie/bi/mi/basic.nhn?code=164121', 'image': '', 'subtitle': 'Avatar 5', 'pubDate': '2027', 'director': '제임스 카메론|', 'actor': '시고니 위버|조 샐다나|샘 워싱턴|우나 채플린|스티븐 랭|지오바니 리비시|', 'userRating': '9.64'}\n",
      "====================================================================================================\n",
      "2.\n",
      "{'title': '<b>아바타</b> 4', 'link': 'https://movie.naver.com/movie/bi/mi/basic.nhn?code=113331', 'image': '', 'subtitle': 'Avatar 4', 'pubDate': '2025', 'director': '제임스 카메론|', 'actor': '조 샐다나|샘 워싱턴|스티븐 랭|시고니 위버|우나 채플린|지오바니 리비시|', 'userRating': '8.53'}\n",
      "====================================================================================================\n",
      "3.\n",
      "{'title': '<b>아바타</b> 3', 'link': 'https://movie.naver.com/movie/bi/mi/basic.nhn?code=79567', 'image': '', 'subtitle': 'Avatar 3', 'pubDate': '2023', 'director': '제임스 카메론|', 'actor': '스티븐 랭|조 샐다나|샘 워싱턴|시고니 위버|우나 채플린|지오바니 리비시|', 'userRating': '8.96'}\n",
      "====================================================================================================\n",
      "4.\n",
      "{'title': '<b>아바타</b>: 물의 길', 'link': 'https://movie.naver.com/movie/bi/mi/basic.nhn?code=74977', 'image': 'https://ssl.pstatic.net/imgmovie/mdi/mit110/0749/74977_P61_170924.jpg', 'subtitle': 'Avatar: The Way of Water', 'pubDate': '2022', 'director': '제임스 카메론|', 'actor': '시고니 위버|스티븐 랭|조 샐다나|샘 워싱턴|우나 채플린|케이트 윈슬렛|지오바니 리비시|', 'userRating': '8.65'}\n",
      "====================================================================================================\n",
      "5.\n",
      "{'title': '<b>아바타</b> 리마스터링', 'link': 'https://movie.naver.com/movie/bi/mi/basic.nhn?code=221031', 'image': 'https://ssl.pstatic.net/imgmovie/mdi/mit110/2210/221031_P01_113306.jpg', 'subtitle': 'Avatar', 'pubDate': '2022', 'director': '제임스 카메론|', 'actor': '샘 워싱턴|조 샐다나|시고니 위버|스티븐 랭|', 'userRating': '9.49'}\n",
      "====================================================================================================\n",
      "6.\n",
      "{'title': '<b>아바타</b>의 후예1 : 쾌락의 행성', 'link': 'https://movie.naver.com/movie/bi/mi/basic.nhn?code=212492', 'image': 'https://ssl.pstatic.net/imgmovie/mdi/mit110/2124/212492_P01_155817.jpg', 'subtitle': 'This Ain&apos;t Avatar XXX', 'pubDate': '2020', 'director': '엑셀 브라운|', 'actor': '', 'userRating': '0.00'}\n",
      "====================================================================================================\n",
      "7.\n",
      "{'title': '<b>아바타</b>의 후예2: 인간 성노예', 'link': 'https://movie.naver.com/movie/bi/mi/basic.nhn?code=212861', 'image': 'https://ssl.pstatic.net/imgmovie/mdi/mit110/2128/212861_P01_114306.jpg', 'subtitle': 'This Ain&apos;t Avatar XXX #2', 'pubDate': '2020', 'director': '엑셀 브라운|', 'actor': '', 'userRating': '0.00'}\n",
      "====================================================================================================\n",
      "8.\n",
      "{'title': '<b>아바타</b> 정글의 비밀', 'link': 'https://movie.naver.com/movie/bi/mi/basic.nhn?code=122101', 'image': 'https://ssl.pstatic.net/imgmovie/mdi/mit110/1221/122101_P00_110037.jpg', 'subtitle': 'Jungle Master', 'pubDate': '2013', 'director': '슈커|', 'actor': '장안치|리정샹|', 'userRating': '4.66'}\n",
      "====================================================================================================\n",
      "9.\n",
      "{'title': '마이 <b>아바타</b> 호스', 'link': 'https://movie.naver.com/movie/bi/mi/basic.nhn?code=117597', 'image': 'https://ssl.pstatic.net/imgmovie/mdi/mit110/1175/117597_P00_152058.jpg', 'subtitle': 'My Avatar Horse', 'pubDate': '2012', 'director': '호우 케밍|리우 셴|', 'actor': '', 'userRating': '0.00'}\n",
      "====================================================================================================\n",
      "10.\n",
      "{'title': '<b>아바타</b>', 'link': 'https://movie.naver.com/movie/bi/mi/basic.nhn?code=84024', 'image': 'https://ssl.pstatic.net/imgmovie/mdi/mit110/0840/84024_P01_163324.jpg', 'subtitle': 'Avatar', 'pubDate': '2011', 'director': '와다 아츠시|', 'actor': '사노 카즈마|미즈사와 나코|하시모토 아이|사카타 리카코|하네유리|', 'userRating': '7.86'}\n",
      "====================================================================================================\n"
     ]
    }
   ],
   "source": [
    "searchText = input('검색어를 입력하세요. : ')\n",
    "targetSite = 'https://openapi.naver.com/v1/search/movie?query=' + searchText\n",
    "headers = {\n",
    "    'User-agent': 'Mozilla/5.0 (Windows NT 6.3; WOW64; Trident/7.0; rv:11.0) like Gecko',\n",
    "    'X-Naver-Client-Id': client_id,\n",
    "    'X-Naver-Client-Secret': client_secret\n",
    "}\n",
    "response = requests.get(targetSite, headers=headers)\n",
    "print(response)\n",
    "\n",
    "searchResult = response.json()\n",
    "# print(searchResult)\n",
    "items = searchResult['items']\n",
    "for i in range(len(items)):\n",
    "    print(f'{i + 1}.\\n{items[i]}')\n",
    "    print('=' * 100)"
   ],
   "metadata": {
    "collapsed": false
   }
  },
  {
   "cell_type": "markdown",
   "source": [
    "네이버 검색 API를 이용한 카페글 검색"
   ],
   "metadata": {
    "collapsed": false
   }
  },
  {
   "cell_type": "code",
   "execution_count": 9,
   "outputs": [
    {
     "name": "stdout",
     "output_type": "stream",
     "text": [
      "<Response [200]>\n",
      "1.\n",
      "{'title': '머스탱 <b>생활코딩</b>', 'link': 'http://cafe.naver.com/fordlove/389038', 'description': '어제 다른용무로 인해 번개장터 구경하던중 포드 <b>생활코딩</b>이라는 제목을 보고 내용을 봤는데 하고싶은 품목이 많아 여쭤보니 기재된 17가지 모두 10만원에 진행하는거라는데 이러면 너무 혜자라는 생각이 들어서 혹시... ', 'cafename': '★ 포드 & 링컨 차를 사랑하는 사람들...', 'cafeurl': 'https://cafe.naver.com/fordlove'}\n",
      "====================================================================================================\n",
      "2.\n",
      "{'title': '간략한 <b>생활코딩</b> 후기입니다', 'link': 'http://cafe.naver.com/neweclass/615465', 'description': \"위 링크의 내용 앞부분을 캡쳐 했습니다 키워드는 '<b>생활코딩</b>'입니다 <b>생활코딩</b>을 한 배경은, 방향지시등을 살짝 올리거나 내리거나 하면 3회 깜빡이다가 자동으로 꺼지는 기능을 20년만에 처음 알게 되었고, 3회는... \", 'cafename': '벤츠 뉴 E클래스 동호회', 'cafeurl': 'https://cafe.naver.com/neweclass'}\n",
      "====================================================================================================\n",
      "3.\n",
      "{'title': '대구 부산 경북에 <b>생활코딩</b> 가능업체 있을까요?', 'link': 'http://cafe.naver.com/nfsclub12/1828552', 'description': '이상증상과 문제점을 질문하실때 아래 양식에 맞게끔 질문 해주시면 답변하는데 많은 도움이 되니 부탁드립니다. - 모델: - 연료 타입 : - 년/월식: - 키로수: - 증상&amp;문제점: 대구 부산 경상 위치에 <b>생활코딩</b> 가능 업체 있을까요?', 'cafename': '클럽 벤츠 [벤츠 동호회,A,B,C,E,S,GL...', 'cafeurl': 'https://cafe.naver.com/nfsclub12'}\n",
      "====================================================================================================\n",
      "4.\n",
      "{'title': 'Glb200d 하이빔 어시스트 <b>코딩</b> 후기!! (feat.만족도 200%)', 'link': 'http://cafe.naver.com/benzglkml/343981', 'description': '<b>생활 코딩</b>(안전띠,깜빡이 5회 ) 전주에서 무주오는 길에 테스트해보고 너무 작동이 잘되서 바로 후기를 쓰고 싶었지만.. 몇일 더 사용해보고 후기 쓰려다보니 시간이 조금 지났네요 ㅎ Glb200d 하이빔 어시스트 후기!!... ', 'cafename': '벤츠 GL CLUB (벤츠SUV,GLC,GLE,GLA,G...', 'cafeurl': 'https://cafe.naver.com/benzglkml'}\n",
      "====================================================================================================\n",
      "5.\n",
      "{'title': '광주광역 <b>코딩</b>블박사이드미러 교체', 'link': 'http://cafe.naver.com/nfsclub12/1845395', 'description': '<b>생활코딩</b> 블박 (보조배터리 장차사진x)옵틱사이드미러 교체 뒷자석 아이 티비시청용까지 하고싶었으나 다음기회에. 생각보다 일찍 끝내주셨습니다. 카플 속도교정 코딩도 추가로 해주셔서 속도미스도 없네요. 코딩및 블박... ', 'cafename': '클럽 벤츠 [벤츠 동호회,A,B,C,E,S,GL...', 'cafeurl': 'https://cafe.naver.com/nfsclub12'}\n",
      "====================================================================================================\n",
      "6.\n",
      "{'title': '자율주행 확장 코팅 및 <b>생활코딩</b>', 'link': 'http://cafe.naver.com/neweclass/580904', 'description': '어제 썬팅 디테일링을 마치고 멀지 않은 곳이라 오토XXX에서 <b>생활코딩</b>까지 한번에 하고 왔습니다. 거의 코딩과 튜닝 팩토리라고 해도 좋을정도로 흥미로워 할 만한 것들은 모두 있네요^^;; 1) R버튼 시공 R버튼은 기존 버튼... ', 'cafename': '벤츠 뉴 E클래스 동호회', 'cafeurl': 'https://cafe.naver.com/neweclass'}\n",
      "====================================================================================================\n",
      "7.\n",
      "{'title': '<b>생활 코딩</b> 후 궁금점', 'link': 'http://cafe.naver.com/nfsclub12/1778351', 'description': '엔진데이타 <b>코딩</b>을 했는데 차량데이터 화면도 같이 만들어졌습니다. 좌측은 차고를 의미하는것같고 우측은 악셀 브레이크 밟는 압력을 의미하는것같은데... 이게 뭔가요?', 'cafename': '클럽 벤츠 [벤츠 동호회,A,B,C,E,S,GL...', 'cafeurl': 'https://cafe.naver.com/nfsclub12'}\n",
      "====================================================================================================\n",
      "8.\n",
      "{'title': '<b>생활코딩</b>에서 후진시 백미러 설정하는방법???', 'link': 'http://cafe.naver.com/fordlove/381824', 'description': '익스 16년산 입니다. 언젠가 부터 잊고있던 <b>생활코딩</b>... ㅋ 후진시에 백미러가 접혔던거 같은데.. 오랜만에.만져보니 설정이.어렵네요.. 혹시.코딩하신분중에 백미러 후진시 하향 설정하는방법좀 부탁드립니다.', 'cafename': '★ 포드 & 링컨 차를 사랑하는 사람들...', 'cafeurl': 'https://cafe.naver.com/fordlove'}\n",
      "====================================================================================================\n",
      "9.\n",
      "{'title': '<b>생활코딩</b> 작업 만족', 'link': 'http://cafe.naver.com/true8/3191385', 'description': '<b>생활코딩</b> 내용 말씀드릴께요 안되는 부분도 있고, 활성화 안되는 것도 있습니다. 제일 만족하는 부분은 안전벨트 3회 경고음 계기판 550i 로고 330km최고속도 글씨폰트 변경 후진시 오른쪽 사이드미러 각도 플러스... ', 'cafename': '★ BMW 매니아-bmw 520d,320d,530i,m,...', 'cafeurl': 'https://cafe.naver.com/true8'}\n",
      "====================================================================================================\n",
      "10.\n",
      "{'title': 'W212 <b>생활코딩</b> 후기', 'link': 'http://cafe.naver.com/nfsclub12/1615689', 'description': '안녕하세요~ 이번에 w212 250d 2014년식을 가져온 신입입니다 친구에게 차를 저렴히 구매하자마자 <b>생활코딩</b>을 진행했습니다 전주 협력점을 이용했구요 토요일 오전 일찍 사장님께 전화 후 오후에 약속잡고 진행했습니다... ', 'cafename': '클럽 벤츠 [벤츠 동호회,A,B,C,E,S,GL...', 'cafeurl': 'https://cafe.naver.com/nfsclub12'}\n",
      "====================================================================================================\n"
     ]
    }
   ],
   "source": [
    "searchText = input('검색어를 입력하세요. : ')\n",
    "targetSite = 'https://openapi.naver.com/v1/search/cafearticle?query=' + searchText\n",
    "headers = {\n",
    "    'User-agent': 'Mozilla/5.0 (Windows NT 6.3; WOW64; Trident/7.0; rv:11.0) like Gecko',\n",
    "    'X-Naver-Client-Id': client_id,\n",
    "    'X-Naver-Client-Secret': client_secret\n",
    "}\n",
    "response = requests.get(targetSite, headers=headers)\n",
    "print(response)\n",
    "\n",
    "searchResult = response.json()\n",
    "# print(searchResult)\n",
    "items = searchResult['items']\n",
    "for i in range(len(items)):\n",
    "    print(f'{i + 1}.\\n{items[i]}')\n",
    "    print('=' * 100)"
   ],
   "metadata": {
    "collapsed": false
   }
  },
  {
   "cell_type": "markdown",
   "source": [
    "네이버 검색 API를 이용한 지식iN 검색"
   ],
   "metadata": {
    "collapsed": false
   }
  },
  {
   "cell_type": "code",
   "execution_count": 8,
   "outputs": [
    {
     "name": "stdout",
     "output_type": "stream",
     "text": [
      "<Response [200]>\n",
      "1.\n",
      "{'title': '<b>내공냠냠</b> 하는 사람들 심리', 'link': 'https://kin.naver.com/qna/detail.naver?d1id=8&dirId=814&docId=436249232&qb=64K06rO164Og64Og&enc=utf8&section=kin.qna&rank=1&search_sort=0&spq=0', 'description': '... 가끔 <b>내공냠냠</b> 신고합니다 라는 글이 있던데 <b>내공냠냠</b> 신고 가능한가요?  다양한 이유가 있겠지만, 제가 느낀 바에... 그래서 <b>내공 냠냠</b>하는 사람도 신고할 수 있어요. 사람의 생각이 다르기에 관점에 따라서 <b>내공 냠냠</b>이라고 생각하지... '}\n",
      "====================================================================================================\n",
      "2.\n",
      "{'title': '<b>내공냠냠</b> 뜻', 'link': 'https://kin.naver.com/qna/detail.naver?d1id=1&dirId=1060101&docId=427259708&qb=64K06rO164Og64Og&enc=utf8&section=kin.qna&rank=2&search_sort=0&spq=0', 'description': '지식인 질문내용중 <b>내공냠냠</b> 신고합니다. 라고 있던데 <b>내공냠냠</b>이 무슨뜻이죠 &apos;<b>내공 냠냠</b>&apos;이 무슨 뜻이죠? 네이버 지식iN에서 제대로 된 답변을 하지 않고 내공만 가로챈다는 것을 의미합니다. 즉 &apos;성의 없거나 장난 같은 답변으로... '}\n",
      "====================================================================================================\n",
      "3.\n",
      "{'title': '한국 vs 우루과이 예상 스코어 <b>내공냠냠</b>', 'link': 'https://kin.naver.com/qna/detail.naver?d1id=10&dirId=100601&docId=433403085&qb=64K06rO164Og64Og&enc=utf8&section=kin.qna&rank=3&search_sort=0&spq=0', 'description': '스코어 <b>내공냠냠</b> 스코어 같으면 우선댓글  한국 vs 우루과이 예상 스코어 <b>내공냠냠</b> 스코어 <b>내공냠냠</b> 스코어 같으면 우선댓글 한국 0점 : 우루과이 4점 예상합니다.'}\n",
      "====================================================================================================\n",
      "4.\n",
      "{'title': '진품일까여? 내공걸어요 <b>내공냠냠</b>사절', 'link': 'https://kin.naver.com/qna/detail.naver?d1id=5&dirId=50401&docId=430303661&qb=64K06rO164Og64Og&enc=utf8&section=kin.qna&rank=4&search_sort=0&spq=0', 'description': '진품일까여? 내공걸어요 <b>내공냠냠</b>사절  안녕하세요 왼쪽 슬롯 안쪽에 숫자로 된 각인 정면으로 흔들리지않게 접사로 올려주세요'}\n",
      "====================================================================================================\n",
      "5.\n",
      "{'title': '<b>내공냠냠</b>이 뭔 말이에요?', 'link': 'https://kin.naver.com/qna/detail.naver?d1id=1&dirId=1060101&docId=417298776&qb=64K06rO164Og64Og&enc=utf8&section=kin.qna&rank=5&search_sort=0&spq=0', 'description': '<b>내공냠냠</b>이 뭔 말이에요? 안녕하세요 질문의 의도와 상관없이 성의 없거나 장난성 등의 답변을 작성하여 내공을 취득... 말씀하신 <b>내공냠냠</b>이라고 합니다 이는 내공을 부당하게 취득 하였다는 것을 간주하여 취득된 내공은 차감 됩니다... '}\n",
      "====================================================================================================\n",
      "6.\n",
      "{'title': '<b>내공냠냠</b>뜻', 'link': 'https://kin.naver.com/qna/detail.naver?d1id=10&dirId=100703&docId=425949978&qb=64K06rO164Og64Og&enc=utf8&section=kin.qna&rank=6&search_sort=0&spq=0', 'description': '<b>내공냠냠</b>이 뭔가요?  지식인 글을 쓰거나 채택을 받으면 내공을 얻게 되는데 내공이 쌓일 수록 등급이 올라가므로 내공을 먹는다 라는 뜻으로 <b>내공냠냠</b>이라고 부릅니다.'}\n",
      "====================================================================================================\n",
      "7.\n",
      "{'title': '영화 찾아주세요 <b>내공냠냠</b> 신고', 'link': 'https://kin.naver.com/qna/detail.naver?d1id=3&dirId=30305&docId=431150087&qb=64K06rO164Og64Og&enc=utf8&section=kin.qna&rank=7&search_sort=0&spq=0', 'description': '영화 찾아주세요 <b>내공냠냠</b> 신고 여자집에 남자가 몰래 들어와서 들어와서 지내고 그랬나 어쨌든 그랬고 또 막판에는 여자가 납치돼서 남자 망치로 때리고 달아난거 같아요 범죄 스릴러 같은 장르인거 같아요 도어락 감독 이권 출연... '}\n",
      "====================================================================================================\n",
      "8.\n",
      "{'title': '네이버 지식인 <b>내공냠냠</b>', 'link': 'https://kin.naver.com/qna/detail.naver?d1id=1&dirId=1060101&docId=416099809&qb=64K06rO164Og64Og&enc=utf8&section=kin.qna&rank=8&search_sort=0&spq=0', 'description': '지식인 질문같은거 보면 맨 마지막에 <b>내공 냠냠</b> 신고합니다 이런 글이 있는데 <b>내공 냠냠</b>이 뭔가요? 질문자가 답변자를... 근데 <b>내공냠냠</b>이라고 말하는질문자가 참 멍청한겁니다. 내공먹을라고 답변하는사람없다고 보면 내공은 실질적으로... '}\n",
      "====================================================================================================\n",
      "9.\n",
      "{'title': '<b>내공냠냠</b>뜻', 'link': 'https://kin.naver.com/qna/detail.naver?d1id=1&dirId=1060101&docId=425574131&qb=64K06rO164Og64Og&enc=utf8&section=kin.qna&rank=9&search_sort=0&spq=0', 'description': '<b>내공냠냠</b>뜻 &apos;<b>내공 냠냠</b>&apos;이 뭐예요? 네이버 지식iN에서 제대로 된 답변을 하지 않고 내공만 가로챈다는 것을 의미합니다. 즉 &apos;성의 없거나 장난 같은 답변으로 쓸데없는 답변해서 내공만 챙기는 것&apos;을 말합니다. '}\n",
      "====================================================================================================\n",
      "10.\n",
      "{'title': '<b>내공냠냠</b>이 뭐에요.', 'link': 'https://kin.naver.com/qna/detail.naver?d1id=1&dirId=10601&docId=417367000&qb=64K06rO164Og64Og&enc=utf8&section=kin.qna&rank=10&search_sort=0&spq=0', 'description': '<b>내공냠냠</b>???????  안녕하세요 말씀하신 <b>내공냠냠</b>은 성의 없는 내용이거나 질문의 의도와 상관없는 내용으로 작성된 답변하여 기본적으로 흭득하는 내공을 부당하게 취득 하는 것을 말합니다 감사합니다'}\n",
      "====================================================================================================\n"
     ]
    }
   ],
   "source": [
    "searchText = input('검색어를 입력하세요. : ')\n",
    "targetSite = 'https://openapi.naver.com/v1/search/kin?query=' + searchText\n",
    "headers = {\n",
    "    'User-agent': 'Mozilla/5.0 (Windows NT 6.3; WOW64; Trident/7.0; rv:11.0) like Gecko',\n",
    "    'X-Naver-Client-Id': client_id,\n",
    "    'X-Naver-Client-Secret': client_secret\n",
    "}\n",
    "response = requests.get(targetSite, headers=headers)\n",
    "print(response)\n",
    "\n",
    "searchResult = response.json()\n",
    "# print(searchResult)\n",
    "items = searchResult['items']\n",
    "for i in range(len(items)):\n",
    "    print(f'{i + 1}.\\n{items[i]}')\n",
    "    print('=' * 100)"
   ],
   "metadata": {
    "collapsed": false
   }
  },
  {
   "cell_type": "markdown",
   "source": [
    "네이버 검색 API를 이용한 지역 검색"
   ],
   "metadata": {
    "collapsed": false
   }
  },
  {
   "cell_type": "code",
   "execution_count": 5,
   "outputs": [
    {
     "name": "stdout",
     "output_type": "stream",
     "text": [
      "<Response [200]>\n",
      "1.\n",
      "{'title': '<b>거창</b>군청', 'link': 'http://www.geochang.go.kr/', 'category': '공공,사회기관>군청', 'description': '', 'telephone': '', 'address': '경상남도 거창군 거창읍 상림리 64-1', 'roadAddress': '경상남도 거창군 거창읍 중앙로 103 거창군청', 'mapx': '392009', 'mapy': '343008'}\n",
      "====================================================================================================\n"
     ]
    }
   ],
   "source": [
    "searchText = input('검색어를 입력하세요. : ')\n",
    "targetSite = 'https://openapi.naver.com/v1/search/local?query=' + searchText\n",
    "headers = {\n",
    "    'User-agent': 'Mozilla/5.0 (Windows NT 6.3; WOW64; Trident/7.0; rv:11.0) like Gecko',\n",
    "    'X-Naver-Client-Id': client_id,\n",
    "    'X-Naver-Client-Secret': client_secret\n",
    "}\n",
    "response = requests.get(targetSite, headers=headers)\n",
    "print(response)\n",
    "\n",
    "searchResult = response.json()\n",
    "# print(searchResult)\n",
    "items = searchResult['items']\n",
    "for i in range(len(items)):\n",
    "    print(f'{i + 1}.\\n{items[i]}')\n",
    "    print('=' * 100)"
   ],
   "metadata": {
    "collapsed": false
   }
  },
  {
   "cell_type": "markdown",
   "source": [
    "네이버 검색 API를 이용한 오타 변환"
   ],
   "metadata": {
    "collapsed": false
   }
  },
  {
   "cell_type": "code",
   "execution_count": 21,
   "outputs": [
    {
     "name": "stdout",
     "output_type": "stream",
     "text": [
      "['내겅냠냠', '맛잇다']\n",
      "내공냠냠 맛있다 \n"
     ]
    }
   ],
   "source": [
    "searchText = input('문장을 입력하세요. : ').split()\n",
    "print(searchText)\n",
    "\n",
    "for text in searchText:\n",
    "\n",
    "    targetSite = 'https://openapi.naver.com/v1/search/errata.json?query=' + text\n",
    "    headers = {\n",
    "        'User-agent': 'Mozilla/5.0 (Windows NT 6.3; WOW64; Trident/7.0; rv:11.0) like Gecko',\n",
    "        'X-Naver-Client-Id': client_id,\n",
    "        'X-Naver-Client-Secret': client_secret\n",
    "    }\n",
    "    response = requests.get(targetSite, headers=headers)\n",
    "    # print(response)\n",
    "\n",
    "    searchResult = response.json()\n",
    "    # print(searchResult)\n",
    "    errata = searchResult['errata']\n",
    "    print(text if len(errata) == 0 else errata, end=' ')\n",
    "print()"
   ],
   "metadata": {
    "collapsed": false
   }
  },
  {
   "cell_type": "code",
   "execution_count": null,
   "outputs": [],
   "source": [],
   "metadata": {
    "collapsed": false
   }
  }
 ],
 "metadata": {
  "kernelspec": {
   "display_name": "Python 3",
   "language": "python",
   "name": "python3"
  },
  "language_info": {
   "codemirror_mode": {
    "name": "ipython",
    "version": 2
   },
   "file_extension": ".py",
   "mimetype": "text/x-python",
   "name": "python",
   "nbconvert_exporter": "python",
   "pygments_lexer": "ipython2",
   "version": "2.7.6"
  }
 },
 "nbformat": 4,
 "nbformat_minor": 0
}
