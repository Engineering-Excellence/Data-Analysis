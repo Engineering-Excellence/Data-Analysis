{
 "cells": [
  {
   "cell_type": "code",
   "execution_count": 8,
   "metadata": {
    "collapsed": true
   },
   "outputs": [],
   "source": [
    "import time\n",
    "import warnings\n",
    "\n",
    "from bs4 import BeautifulSoup\n",
    "from selenium import webdriver\n",
    "from selenium.webdriver.chrome.options import Options\n",
    "\n",
    "warnings.filterwarnings(action='ignore')"
   ]
  },
  {
   "cell_type": "code",
   "execution_count": 9,
   "outputs": [],
   "source": [
    "option = Options()\n",
    "option.add_argument('--window-size=1600,900')\n",
    "driver = webdriver.Chrome('./chromedriver', options=option)\n",
    "driver.implicitly_wait(5)\n",
    "\n",
    "driver.get('https://comic.naver.com/comment/comment?titleId=790713&no=95')\n",
    "html = driver.page_source\n",
    "soup = BeautifulSoup(html, 'html.parser')\n",
    "reviews = soup.select('span.u_cbox_contents')\n",
    "\n",
    "# 베댓의 개수 만큼 반복한다.\n",
    "for i in range(len(reviews[:])):\n",
    "    print(f'{i + 1:02d}번째 베댓: {reviews[i].text}')\n",
    "\n",
    "    # 베댓 답글을 연다.\n",
    "    path = f'//*[@id=\"cbox_module_wai_u_cbox_content_wrap_tabpanel\"]/ul/li[{i + 1}]/div[1]/div/div[5]/a'\n",
    "    driver.find_element_by_xpath(path).click()\n",
    "    time.sleep(0.5)\n",
    "\n",
    "    # 베댓 1번째 답글 페이지를 읽는다.\n",
    "    html = driver.page_source\n",
    "    soup = BeautifulSoup(html, 'html.parser')\n",
    "    replies = soup.select('div.u_cbox_reply_area span.u_cbox_contents')\n",
    "    # if len(replies) != 0:\n",
    "    #     print(f'{i + 1:02d}번째 베댓 답글 개수: {len(replies)}개')\n",
    "\n",
    "    # 베댓 1번째 답글 페이지에 답글이 있으면 출력한다.\n",
    "    if len(replies) == 0:\n",
    "        print('답글 없음')\n",
    "    else:\n",
    "        for reply in replies:\n",
    "            print(f'→ {reply.text}')\n",
    "\n",
    "    # 베댓 1번째 답글 페이지를 제외한 나머지 답글 페이지 개수를 얻어온다.\n",
    "    html = driver.page_source\n",
    "    soup = BeautifulSoup(html, 'html.parser')\n",
    "    replyPage = soup.select('.u_cbox_reply_area .u_cbox_page')\n",
    "    # print(f'베댓 답글 페이지 개수: {len(replyPage)}개')\n",
    "\n",
    "    # 1번째 베댓 페이지의 답글은 읽어왔으므로 2번째 베댓 답글 페이지부터 마지막 베댓 답글 페이지까지 반복한다.\n",
    "    for j in range(1, len(replyPage)):\n",
    "        # 다음에 읽을 베댓 답글을 연다.\n",
    "        driver.find_element_by_css_selector(\n",
    "            f'#cbox_module_wai_u_cbox_content_wrap_tabpanel div.u_cbox_paginate > div > a:nth-child({str(j + 3)})').click()\n",
    "        time.sleep(0.5)\n",
    "\n",
    "        html = driver.page_source\n",
    "        soup = BeautifulSoup(html, 'html.parser')\n",
    "        replies = soup.select('div.u_cbox_reply_area span.u_cbox_contents')\n",
    "        for reply in replies:\n",
    "            print(f'→ {reply.text}')\n",
    "    print()\n",
    "\n",
    "    # 베댓 답글을 닫는다.\n",
    "    driver.find_element_by_xpath(path).click()\n",
    "    time.sleep(0.5)"
   ],
   "metadata": {
    "collapsed": false
   }
  },
  {
   "cell_type": "code",
   "execution_count": 10,
   "outputs": [],
   "source": [],
   "metadata": {
    "collapsed": false
   }
  }
 ],
 "metadata": {
  "kernelspec": {
   "display_name": "Python 3",
   "language": "python",
   "name": "python3"
  },
  "language_info": {
   "codemirror_mode": {
    "name": "ipython",
    "version": 2
   },
   "file_extension": ".py",
   "mimetype": "text/x-python",
   "name": "python",
   "nbconvert_exporter": "python",
   "pygments_lexer": "ipython2",
   "version": "2.7.6"
  }
 },
 "nbformat": 4,
 "nbformat_minor": 0
}
