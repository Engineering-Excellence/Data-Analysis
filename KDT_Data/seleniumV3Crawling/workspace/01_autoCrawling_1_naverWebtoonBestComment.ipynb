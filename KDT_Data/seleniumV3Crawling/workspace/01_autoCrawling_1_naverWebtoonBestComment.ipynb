{
 "cells": [
  {
   "cell_type": "code",
   "execution_count": 1,
   "metadata": {
    "collapsed": true
   },
   "outputs": [],
   "source": [
    "import warnings\n",
    "\n",
    "warnings.filterwarnings(action='ignore')"
   ]
  },
  {
   "cell_type": "markdown",
   "source": [
    "selenium을 사용하기 위해 selenium을 설치하고 import 한다.\n",
    "!pip install selenium"
   ],
   "metadata": {
    "collapsed": false
   }
  },
  {
   "cell_type": "code",
   "execution_count": 2,
   "outputs": [],
   "source": [
    "from bs4 import BeautifulSoup\n",
    "from selenium import webdriver\n",
    "from selenium.webdriver.chrome.options import Options  # 창 크기 조절 등 옵션 사용"
   ],
   "metadata": {
    "collapsed": false
   }
  },
  {
   "cell_type": "code",
   "execution_count": 9,
   "outputs": [
    {
     "name": "stdout",
     "output_type": "stream",
     "text": [
      "동기들도 눈치까고 노린거임ㅋㅋㅋ딱 보면 모르나\n",
      "================================================================================\n",
      "15\n",
      " 1. 동기들도 눈치까고 노린거임ㅋㅋㅋ딱 보면 모르나\n",
      " 2. 우와 작가님 너무 옛날 에피소드 같아요\n",
      " 3. 아니 조교님한테 게임하트도 아니고 진짜로 냅다 하트를 보낸거예요?ㅋㅋㅋㅋㅋㅋㅋㅋ\n",
      " 4. 작가님 피셜 저 욕쟁이는 삼X전자 들어갔답니다\n",
      " 5. = 나 퇴근하고 싶으니까 얼른 끝내라\n",
      " 6. 없던 정도 생기겠네요\n",
      " 7. 어머어머어머 눈 커진거봐 고미 ㅋㅋㅋㅋㅋㅋㅋㅋㅋㅋㅋㅋㅋ\n",
      " 8. 살짝 노린감이 있네ㅋㅋㅋ말투에 따라서 장난식으로 할수도 있고 호감표현으로 할수도 있는데 왠지 후자였을것같음\n",
      " 9. 초록이 이쯤되면 캐릭터 하나 받아야한다\n",
      "10. 쟤 저번 조별과제부터 계속 욕하면서 도와줄 거 다 도와줌ㅋㅋㅋㅋㅋㅋ ㅈㄴ 츤데레\n",
      "11. 여기서 조교님이 잘 생겼다는걸 알 수 있습니다 대충 이렇게 생겼으면 시도하지 마세요 짤...\n",
      "12. 교수님이랑 같이 술약속이 잡혀있거든\n",
      "13. 저거 보면 남는사람들만 남음ㅋㅋㅋㅋ\n",
      "14. 와 작가님 저 저거 초딩때 했어요\n",
      "15. 교수가 시킨 거 처리하기도 바쁜데 무슨 술임ㅋㅋ\n"
     ]
    }
   ],
   "source": [
    "# selenium 옵션\n",
    "option = Options()\n",
    "option.add_argument('--window-size=1600,900')  # 창 크기\n",
    "driver = webdriver.Chrome('./chromedriver', options=option)\n",
    "driver.implicitly_wait(5)  # 지정된 시간 동안 로딩되기를 기다리며 대기한다. 로딩이 완료되면 즉시 다음 단계로 진행한다.\n",
    "\n",
    "# 네이버 웹툰의 댓글을 보여주는 페이지\n",
    "# https://comic.naver.com/webtoon/detail?titleId=790713&no=95&weekday=tue\n",
    "# 네이버 웹툰의 댓글은 https://comic.naver.com/comment/comment?titleId=790713&no=95 페이지의 내용을 읽러서 id=\"commentIframe\"에 넣어준다.\n",
    "driver.get('https://comic.naver.com/comment/comment?titleId=790713&no=95')\n",
    "\n",
    "# 특정 베댓을 읽는다.(selector)\n",
    "html = driver.page_source\n",
    "soup = BeautifulSoup(html, 'html.parser')\n",
    "review = soup.select_one(\n",
    "    '#cbox_module_wai_u_cbox_content_wrap_tabpanel > ul > li.u_cbox_comment.cbox_module__comment_449172598._user_id_no_3N3x6 > div.u_cbox_comment_box > div > div.u_cbox_text_wrap > span.u_cbox_contents')\n",
    "print(review.text)\n",
    "print('=' * 80)\n",
    "\n",
    "# 전체 베댓을 읽는다.\n",
    "html = driver.page_source\n",
    "soup = BeautifulSoup(html, 'html.parser')\n",
    "reviews = soup.select('span.u_cbox_contents')\n",
    "# print(len(reviews))\n",
    "for i in range(len(reviews)):\n",
    "    print(f'{i + 1:2d}. {reviews[i].text}')"
   ],
   "metadata": {
    "collapsed": false
   }
  },
  {
   "cell_type": "code",
   "execution_count": 3,
   "outputs": [],
   "source": [],
   "metadata": {
    "collapsed": false
   }
  }
 ],
 "metadata": {
  "kernelspec": {
   "display_name": "Python 3",
   "language": "python",
   "name": "python3"
  },
  "language_info": {
   "codemirror_mode": {
    "name": "ipython",
    "version": 2
   },
   "file_extension": ".py",
   "mimetype": "text/x-python",
   "name": "python",
   "nbconvert_exporter": "python",
   "pygments_lexer": "ipython2",
   "version": "2.7.6"
  }
 },
 "nbformat": 4,
 "nbformat_minor": 0
}
