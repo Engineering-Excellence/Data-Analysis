{
 "cells": [
  {
   "cell_type": "code",
   "execution_count": 33,
   "metadata": {
    "collapsed": true
   },
   "outputs": [],
   "source": [
    "import warnings\n",
    "\n",
    "import pymongo\n",
    "import requests\n",
    "\n",
    "warnings.filterwarnings(action='ignore')"
   ]
  },
  {
   "cell_type": "code",
   "execution_count": 34,
   "outputs": [],
   "source": [
    "mongoConnection = pymongo.MongoClient('mongodb://localhost:27017/')  # MongoDB에 연결한다.\n",
    "starbucks = mongoConnection['starbucks']  # starbucks 데이터베이스를 생성한다.\n",
    "sido = starbucks['sido']\n",
    "sidoList = sido.find({}, {'_id': 0, 'sido_cd': 1, 'sido_nm': 1})\n",
    "# for s in sidoList:\n",
    "#     print(s)"
   ],
   "metadata": {
    "collapsed": false
   }
  },
  {
   "cell_type": "code",
   "execution_count": 35,
   "outputs": [
    {
     "name": "stdout",
     "output_type": "stream",
     "text": [
      "서울 경기 광주 대구 대전 부산 울산 인천 강원 경남 경북 전남 전북 충남 충북 제주 세종 "
     ]
    }
   ],
   "source": [
    "for s in sidoList:\n",
    "    print(s['sido_nm'], end=' ')"
   ],
   "metadata": {
    "collapsed": false
   }
  },
  {
   "cell_type": "code",
   "execution_count": 36,
   "outputs": [
    {
     "name": "stdout",
     "output_type": "stream",
     "text": [
      "{'sido_cd': '01', 'sido_nm': '서울'}\n",
      "01\n",
      "[{'gugun_cd': '0101', 'gugun_nm': '강남구'}, {'gugun_cd': '0120', 'gugun_nm': '강동구'}, {'gugun_cd': '0102', 'gugun_nm': '강북구'}, {'gugun_cd': '0103', 'gugun_nm': '강서구'}, {'gugun_cd': '0104', 'gugun_nm': '관악구'}, {'gugun_cd': '0105', 'gugun_nm': '광진구'}, {'gugun_cd': '0121', 'gugun_nm': '구로구'}, {'gugun_cd': '0106', 'gugun_nm': '금천구'}, {'gugun_cd': '0107', 'gugun_nm': '노원구'}, {'gugun_cd': '0108', 'gugun_nm': '도봉구'}, {'gugun_cd': '0122', 'gugun_nm': '동대문구'}, {'gugun_cd': '0109', 'gugun_nm': '동작구'}, {'gugun_cd': '0110', 'gugun_nm': '마포구'}, {'gugun_cd': '0111', 'gugun_nm': '서대문구'}, {'gugun_cd': '0112', 'gugun_nm': '서초구'}, {'gugun_cd': '0123', 'gugun_nm': '성동구'}, {'gugun_cd': '0113', 'gugun_nm': '성북구'}, {'gugun_cd': '0114', 'gugun_nm': '송파구'}, {'gugun_cd': '0115', 'gugun_nm': '양천구'}, {'gugun_cd': '0116', 'gugun_nm': '영등포구'}, {'gugun_cd': '0124', 'gugun_nm': '용산구'}, {'gugun_cd': '0117', 'gugun_nm': '은평구'}, {'gugun_cd': '0118', 'gugun_nm': '종로구'}, {'gugun_cd': '0119', 'gugun_nm': '중구'}, {'gugun_cd': '0125', 'gugun_nm': '중랑구'}]\n"
     ]
    }
   ],
   "source": [
    "sidoName = input('구군 코드를 검색하려는 시도 이름을 입력하세요.(예: 서울): ')\n",
    "# sido 컬렉션에서 입력받은 시도 이름에 해당되는 도큐먼트 1건을 얻어온다.\n",
    "sido_cd = sido.find({'sido_nm': sidoName}, {'_id': 0, 'sido_cd': 1, 'sido_nm': 1}).next()\n",
    "print(sido_cd)\n",
    "print(sido_cd['sido_cd'])\n",
    "\n",
    "request = requests.post('https://www.starbucks.co.kr/store/getGugunList.do',\n",
    "                        data={'sido_cd': sido_cd['sido_cd']}).json()\n",
    "gugunList = []\n",
    "for r in request['list']:\n",
    "    d = {'gugun_cd': r['gugun_cd'].strip(), 'gugun_nm': r['gugun_nm'].strip()}\n",
    "    # print(d)\n",
    "    gugunList.append(d)\n",
    "print(gugunList)\n",
    "\n",
    "gugun = starbucks['gugun']\n",
    "gugun.delete_many({})\n",
    "for g in gugunList:\n",
    "    gugun.insert_one(g)"
   ],
   "metadata": {
    "collapsed": false
   }
  },
  {
   "cell_type": "markdown",
   "source": [
    "시도 이름에 따른 전체 구군을 컬렉션에 도큐먼트로 저장하기"
   ],
   "metadata": {
    "collapsed": false
   }
  },
  {
   "cell_type": "code",
   "execution_count": 37,
   "outputs": [],
   "source": [
    "gugun = starbucks['gugun'] # gugun 컬렉션을 만든다.\n",
    "gugun.delete_many({}) # gugun 컬렉션에 저장된 모든 데이터를 제거한다.\n",
    "\n",
    "# starbucks db의 sido 컬렉션에 저장된 도큐먼트 개수만큼 반복하며 모든 구군을 gugun 컬렉션에 도큐먼트로 저장한다.\n",
    "gugunList = []\n",
    "sidoList = sido.find({}, {'_id': 0, 'sido_cd': 1, 'sido_nm': 1})\n",
    "for s in sidoList:\n",
    "    request = requests.post('https://www.starbucks.co.kr/store/getGugunList.do', data={\n",
    "        'sido_cd': s['sido_cd']\n",
    "    }).json()\n",
    "    for r in request['list']:\n",
    "        # 세종 None 처리\n",
    "        if r['gugun_nm'] is None:\n",
    "            r['gugun_nm'] = ''\n",
    "        d = {'sido_cd': s['sido_cd'].strip(), 'sido_nm': s['sido_nm'].strip(),\n",
    "             'gugun_cd': r['gugun_cd'].strip(), 'gugun_nm': r['gugun_nm'].strip()}\n",
    "        gugunList.append(d)\n",
    "\n",
    "gugunAll = starbucks['gugunAll']\n",
    "gugunAll.delete_many({})\n",
    "\n",
    "for g in gugunList:\n",
    "    gugun.insert_one(g)"
   ],
   "metadata": {
    "collapsed": false
   }
  },
  {
   "cell_type": "code",
   "execution_count": 37,
   "outputs": [],
   "source": [],
   "metadata": {
    "collapsed": false
   }
  }
 ],
 "metadata": {
  "kernelspec": {
   "display_name": "Python 3",
   "language": "python",
   "name": "python3"
  },
  "language_info": {
   "codemirror_mode": {
    "name": "ipython",
    "version": 2
   },
   "file_extension": ".py",
   "mimetype": "text/x-python",
   "name": "python",
   "nbconvert_exporter": "python",
   "pygments_lexer": "ipython2",
   "version": "2.7.6"
  }
 },
 "nbformat": 4,
 "nbformat_minor": 0
}
