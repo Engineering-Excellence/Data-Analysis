{
 "cells": [
  {
   "cell_type": "code",
   "execution_count": 67,
   "metadata": {
    "collapsed": true
   },
   "outputs": [],
   "source": [
    "import warnings\n",
    "\n",
    "warnings.filterwarnings(action='ignore')\n",
    "import requests\n",
    "# from bs4 import BeautifulSoup\n",
    "from datetime import datetime as dt\n",
    "import json"
   ]
  },
  {
   "cell_type": "markdown",
   "source": [
    "<img src=\"nateAjax.png\" width=\"1000\" align=\"left\"/>"
   ],
   "metadata": {
    "collapsed": false
   }
  },
  {
   "cell_type": "code",
   "execution_count": 68,
   "outputs": [
    {
     "name": "stdout",
     "output_type": "stream",
     "text": [
      "<Response [200]>\n",
      "[[\"1\",  \"이다희\",  \"s\",  \"0\",  \"이다희\"], [\"2\",  \"김건희 여사 찾아\",  \"s\",  \"0\",  \"김건희 여사 찾아\"], [\"3\",  \"7호선\",  \"n\",  \"0\",  \"7호선\"], [\"4\",  \"결혼지옥\",  \"-\",  \"1\",  \"결혼지옥\"], [\"5\",  \"성관계 몰카 회장\",  \"-\",  \"1\",  \"성관계 몰카 회장\"], [\"6\",  \"송혜교\",  \"n\",  \"0\",  \"송혜교\"], [\"7\",  \"제주 유명식당 대표\",  \"-\",  \"2\",  \"제주 유명식당 대표\"], [\"8\",  \"크리스마스 오신 대체공휴일\",  \"-\",  \"2\",  \"크리스마스 오신 대체공휴일\"], [\"9\",  \"불타는 트롯맨\",  \"-\",  \"2\",  \"미스터트롯 불타는 트롯\"], [\"10\",  \"김신영 종료 송은이\",  \"-\",  \"2\",  \"김신영 종료 송은이\"]]\n",
      "<class 'str'>\n"
     ]
    }
   ],
   "source": [
    "# 실시간 검색어가 웹 페이지에 전부 혹은 일부가 포함되어있지 않고 Ajax를 이용해서 받는 방식이 사용된다.\n",
    "# Request Method가 GET이므로 requests 모듈의 get() 메서드를 사용해서 실시간 검색어를 받아온다.\n",
    "target_site = 'https://www.nate.com/js/data/jsonLiveKeywordDataV1.js?v=' + dt.now().strftime('%Y%m%d%H%M')\n",
    "header = {'User-agent': 'Mozilla/5.0 (Windows NT 6.3; WOW64; Trident/7.0; rv:11.0) like Gecko'}\n",
    "req = requests.get(target_site, headers=header)\n",
    "print(req)\n",
    "# 파이썬은 한글 encoding이 유니코드(UTF-8)로 되어있기 때문에 'EUC-KR'로 encoding 된 사이트를 크롤링 할 때 한글이 깨지면 아래와 같이 encoding을 변경한다.\n",
    "req.encoding = 'EUC-KR'\n",
    "issues = req.text\n",
    "print(issues)\n",
    "print(type(issues))\n",
    "# html = req.json()\n",
    "# print(html)"
   ],
   "metadata": {
    "collapsed": false
   }
  },
  {
   "cell_type": "code",
   "execution_count": 69,
   "outputs": [
    {
     "name": "stdout",
     "output_type": "stream",
     "text": [
      "[['1', '이다희', 's', '0', '이다희'], ['2', '김건희 여사 찾아', 's', '0', '김건희 여사 찾아'], ['3', '7호선', 'n', '0', '7호선'], ['4', '결혼지옥', '-', '1', '결혼지옥'], ['5', '성관계 몰카 회장', '-', '1', '성관계 몰카 회장'], ['6', '송혜교', 'n', '0', '송혜교'], ['7', '제주 유명식당 대표', '-', '2', '제주 유명식당 대표'], ['8', '크리스마스 오신 대체공휴일', '-', '2', '크리스마스 오신 대체공휴일'], ['9', '불타는 트롯맨', '-', '2', '미스터트롯 불타는 트롯'], ['10', '김신영 종료 송은이', '-', '2', '김신영 종료 송은이']]\n",
      "<class 'list'>\n"
     ]
    }
   ],
   "source": [
    "# json 형태로 얻어온 실시간 이슈 키워드는 json 모듈의 loads() 메서드를 사용해서 파이썬에서 처리할 수 있는 데이터 타입으로 변환하여 처리한다.\n",
    "# loads() 메서드는 json 형태의 문자열이 {}를 포함하면 딕셔너리로 {} 없이 []만 포함하면 리스트 형태로 자동 변환시킨다.\n",
    "# ranks = json.loads(issues)\n",
    "\n",
    "# requests 모듈을 사용해 응답받은 객체에서 json() 메서드를 실행하면 json 모듈의 loads() 메서드를 실행한 것과 같은 기능이 실행된다.\n",
    "ranks = req.json()\n",
    "print(ranks)\n",
    "print(type(ranks))"
   ],
   "metadata": {
    "collapsed": false
   }
  },
  {
   "cell_type": "code",
   "execution_count": 70,
   "outputs": [
    {
     "name": "stdout",
     "output_type": "stream",
     "text": [
      " 1위: 이다희[-]\n",
      " 2위: 김건희 여사 찾아[-]\n",
      " 3위: 7호선[new]\n",
      " 4위: 결혼지옥[new]\n",
      " 5위: 성관계 몰카 회장[new]\n",
      " 6위: 송혜교[new]\n",
      " 7위: 제주 유명식당 대표[new]\n",
      " 8위: 크리스마스 오신 대체공휴일[new]\n",
      " 9위: 불타는 트롯맨[new]\n",
      "10위: 김신영 종료 송은이[new]\n"
     ]
    }
   ],
   "source": [
    "for rank in ranks:\n",
    "    print('%2s위: %s' % (rank[0], rank[1]), end='')\n",
    "    if rank[2] == '+':\n",
    "        print('[{}{}]'.format('↑', rank[3]))\n",
    "    elif rank[2] == '[-]':\n",
    "        print('[{}{}]'.format('↓', rank[3]))\n",
    "    elif rank[2] == 's':\n",
    "        print('[-]')\n",
    "    else:\n",
    "        print('[new]')"
   ],
   "metadata": {
    "collapsed": false
   }
  },
  {
   "cell_type": "code",
   "execution_count": 70,
   "outputs": [],
   "source": [],
   "metadata": {
    "collapsed": false
   }
  }
 ],
 "metadata": {
  "kernelspec": {
   "display_name": "Python 3",
   "language": "python",
   "name": "python3"
  },
  "language_info": {
   "codemirror_mode": {
    "name": "ipython",
    "version": 2
   },
   "file_extension": ".py",
   "mimetype": "text/x-python",
   "name": "python",
   "nbconvert_exporter": "python",
   "pygments_lexer": "ipython2",
   "version": "2.7.6"
  }
 },
 "nbformat": 4,
 "nbformat_minor": 0
}
