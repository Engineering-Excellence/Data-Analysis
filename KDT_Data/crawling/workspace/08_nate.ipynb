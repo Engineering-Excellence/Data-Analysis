{
 "cells": [
  {
   "cell_type": "code",
   "execution_count": 163,
   "metadata": {
    "collapsed": true
   },
   "outputs": [],
   "source": [
    "import warnings\n",
    "\n",
    "warnings.filterwarnings(action='ignore')\n",
    "import requests\n",
    "from bs4 import BeautifulSoup\n",
    "from datetime import datetime as dt"
   ]
  },
  {
   "cell_type": "code",
   "execution_count": 164,
   "outputs": [
    {
     "name": "stdout",
     "output_type": "stream",
     "text": [
      "202212221622\n"
     ]
    }
   ],
   "source": [
    "print(dt.now().strftime('%Y%m%d%H%M'))"
   ],
   "metadata": {
    "collapsed": false
   }
  },
  {
   "cell_type": "code",
   "execution_count": 165,
   "outputs": [
    {
     "name": "stdout",
     "output_type": "stream",
     "text": [
      "<Response [200]>\n"
     ]
    }
   ],
   "source": [
    "target_site = 'https://www.nate.com/'\n",
    "header = {'User-agent': 'Mozilla/5.0 (Windows NT 6.3; WOW64; Trident/7.0; rv:11.0) like Gecko'}\n",
    "req = requests.get(target_site, headers=header)\n",
    "print(req)\n",
    "html = req.text\n",
    "# print(html)\n",
    "soup = BeautifulSoup(html, 'html.parser')\n",
    "# print(soup)"
   ],
   "metadata": {
    "collapsed": false
   }
  },
  {
   "cell_type": "code",
   "execution_count": 166,
   "outputs": [
    {
     "name": "stdout",
     "output_type": "stream",
     "text": [
      " 1위: 이다희[↑2]\n",
      " 2위: 김건희 여사 찾아[new]\n",
      " 3위: 결혼지옥[↓1]\n",
      " 4위: 성관계 몰카 회장[new]\n",
      " 5위: 제주 유명식당 대표[↑2]\n"
     ]
    }
   ],
   "source": [
    "# 순위\n",
    "# ranks = soup.findAll('span', {'class': 'num_rank'})\n",
    "# print(ranks[:5])\n",
    "ranks = soup.select('.isKeywordList .num_rank')\n",
    "# print(ranks)\n",
    "# for rank in ranks:\n",
    "#     print(rank.text)\n",
    "\n",
    "# 실시간 이슈 키워드와 상승/하락 폭\n",
    "issues = soup.findAll('a', {'class': 'ik'})\n",
    "# print(issues)\n",
    "# for issue in issues:\n",
    "#     print(issue.text.strip().split('\\n')[0], issue.text.strip().split('\\n')[1])\n",
    "\n",
    "for i in range(5):\n",
    "    rank = ranks[i].text\n",
    "    issue = issues[i].text.strip().split('\\n')[0]\n",
    "    upDown = issues[i].text.strip().split('\\n')[1]\n",
    "    # print('%2s위: %s' % (rank, issue))\n",
    "    print('{:>2s}위: {}'.format(rank, issue), end='')\n",
    "    if upDown[:2] == '상승':\n",
    "        print('[{}{}]'.format('↑', upDown[-1]))\n",
    "    elif upDown[:2] == '하락':\n",
    "        print('[{}{}]'.format('↓', upDown[-1]))\n",
    "    elif upDown[:2] == '동일':\n",
    "        print('[-]')\n",
    "    else:\n",
    "        print('[new]')"
   ],
   "metadata": {
    "collapsed": false
   }
  },
  {
   "cell_type": "code",
   "execution_count": 168,
   "outputs": [],
   "source": [],
   "metadata": {
    "collapsed": false
   }
  }
 ],
 "metadata": {
  "kernelspec": {
   "display_name": "Python 3",
   "language": "python",
   "name": "python3"
  },
  "language_info": {
   "codemirror_mode": {
    "name": "ipython",
    "version": 2
   },
   "file_extension": ".py",
   "mimetype": "text/x-python",
   "name": "python",
   "nbconvert_exporter": "python",
   "pygments_lexer": "ipython2",
   "version": "2.7.6"
  }
 },
 "nbformat": 4,
 "nbformat_minor": 0
}
