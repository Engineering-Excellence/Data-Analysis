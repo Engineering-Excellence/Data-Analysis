{
 "cells": [
  {
   "cell_type": "markdown",
   "source": [
    "# Folium Library"
   ],
   "metadata": {
    "collapsed": false
   }
  },
  {
   "cell_type": "code",
   "execution_count": 6,
   "outputs": [],
   "source": [
    "# folium 라이브러리를 사용하면 지도를 출력하고 지도 위에 marker를 표시 할 수 있다.\n",
    "# folium 라이브러리를 설치하고 import 한다.\n",
    "# !pip install folium\n",
    "import folium"
   ],
   "metadata": {
    "collapsed": false
   }
  },
  {
   "cell_type": "code",
   "execution_count": 16,
   "outputs": [
    {
     "data": {
      "text/plain": "<folium.folium.Map at 0x106f16290>",
      "text/html": "<div style=\"width:100%;\"><div style=\"position:relative;width:100%;height:0;padding-bottom:60%;\"><span style=\"color:#565656\">Make this Notebook Trusted to load map: File -> Trust Notebook</span><iframe srcdoc=\"&lt;!DOCTYPE html&gt;\n&lt;html&gt;\n&lt;head&gt;\n    \n    &lt;meta http-equiv=&quot;content-type&quot; content=&quot;text/html; charset=UTF-8&quot; /&gt;\n    \n        &lt;script&gt;\n            L_NO_TOUCH = false;\n            L_DISABLE_3D = false;\n        &lt;/script&gt;\n    \n    &lt;style&gt;html, body {width: 100%;height: 100%;margin: 0;padding: 0;}&lt;/style&gt;\n    &lt;style&gt;#map {position:absolute;top:0;bottom:0;right:0;left:0;}&lt;/style&gt;\n    &lt;script src=&quot;https://cdn.jsdelivr.net/npm/leaflet@1.6.0/dist/leaflet.js&quot;&gt;&lt;/script&gt;\n    &lt;script src=&quot;https://code.jquery.com/jquery-1.12.4.min.js&quot;&gt;&lt;/script&gt;\n    &lt;script src=&quot;https://maxcdn.bootstrapcdn.com/bootstrap/3.2.0/js/bootstrap.min.js&quot;&gt;&lt;/script&gt;\n    &lt;script src=&quot;https://cdnjs.cloudflare.com/ajax/libs/Leaflet.awesome-markers/2.0.2/leaflet.awesome-markers.js&quot;&gt;&lt;/script&gt;\n    &lt;link rel=&quot;stylesheet&quot; href=&quot;https://cdn.jsdelivr.net/npm/leaflet@1.6.0/dist/leaflet.css&quot;/&gt;\n    &lt;link rel=&quot;stylesheet&quot; href=&quot;https://maxcdn.bootstrapcdn.com/bootstrap/3.2.0/css/bootstrap.min.css&quot;/&gt;\n    &lt;link rel=&quot;stylesheet&quot; href=&quot;https://maxcdn.bootstrapcdn.com/bootstrap/3.2.0/css/bootstrap-theme.min.css&quot;/&gt;\n    &lt;link rel=&quot;stylesheet&quot; href=&quot;https://maxcdn.bootstrapcdn.com/font-awesome/4.6.3/css/font-awesome.min.css&quot;/&gt;\n    &lt;link rel=&quot;stylesheet&quot; href=&quot;https://cdnjs.cloudflare.com/ajax/libs/Leaflet.awesome-markers/2.0.2/leaflet.awesome-markers.css&quot;/&gt;\n    &lt;link rel=&quot;stylesheet&quot; href=&quot;https://cdn.jsdelivr.net/gh/python-visualization/folium/folium/templates/leaflet.awesome.rotate.min.css&quot;/&gt;\n    \n            &lt;meta name=&quot;viewport&quot; content=&quot;width=device-width,\n                initial-scale=1.0, maximum-scale=1.0, user-scalable=no&quot; /&gt;\n            &lt;style&gt;\n                #map_0052c9bdf5cc04dd02f781c408f231e2 {\n                    position: relative;\n                    width: 100.0%;\n                    height: 100.0%;\n                    left: 0.0%;\n                    top: 0.0%;\n                }\n            &lt;/style&gt;\n        \n&lt;/head&gt;\n&lt;body&gt;\n    \n    \n            &lt;div class=&quot;folium-map&quot; id=&quot;map_0052c9bdf5cc04dd02f781c408f231e2&quot; &gt;&lt;/div&gt;\n        \n&lt;/body&gt;\n&lt;script&gt;\n    \n    \n            var map_0052c9bdf5cc04dd02f781c408f231e2 = L.map(\n                &quot;map_0052c9bdf5cc04dd02f781c408f231e2&quot;,\n                {\n                    center: [37.56999048, 126.98410877],\n                    crs: L.CRS.EPSG3857,\n                    zoom: 18,\n                    zoomControl: true,\n                    preferCanvas: false,\n                }\n            );\n\n            \n\n        \n    \n            var tile_layer_5dc10f11c2babb3cdaf4d5a512ed7aa0 = L.tileLayer(\n                &quot;https://{s}.tile.openstreetmap.org/{z}/{x}/{y}.png&quot;,\n                {&quot;attribution&quot;: &quot;Data by \\u0026copy; \\u003ca href=\\&quot;http://openstreetmap.org\\&quot;\\u003eOpenStreetMap\\u003c/a\\u003e, under \\u003ca href=\\&quot;http://www.openstreetmap.org/copyright\\&quot;\\u003eODbL\\u003c/a\\u003e.&quot;, &quot;detectRetina&quot;: false, &quot;maxNativeZoom&quot;: 18, &quot;maxZoom&quot;: 18, &quot;minZoom&quot;: 0, &quot;noWrap&quot;: false, &quot;opacity&quot;: 1, &quot;subdomains&quot;: &quot;abc&quot;, &quot;tms&quot;: false}\n            ).addTo(map_0052c9bdf5cc04dd02f781c408f231e2);\n        \n    \n            var marker_3137a52496459be43c1cae197da66bb9 = L.marker(\n                [37.56999048, 126.98410877],\n                {}\n            ).addTo(map_0052c9bdf5cc04dd02f781c408f231e2);\n        \n    \n        var popup_a8650fb1c6a6e41f3f116588e8d63301 = L.popup({&quot;maxWidth&quot;: 300});\n\n        \n            \n                var html_ce04120a76d6384de9523ca365385d85 = $(`&lt;div id=&quot;html_ce04120a76d6384de9523ca365385d85&quot; style=&quot;width: 100.0%; height: 100.0%;&quot;&gt;보신각&lt;/div&gt;`)[0];\n                popup_a8650fb1c6a6e41f3f116588e8d63301.setContent(html_ce04120a76d6384de9523ca365385d85);\n            \n        \n\n        marker_3137a52496459be43c1cae197da66bb9.bindPopup(popup_a8650fb1c6a6e41f3f116588e8d63301)\n        ;\n\n        \n    \n&lt;/script&gt;\n&lt;/html&gt;\" style=\"position:absolute;width:100%;height:100%;left:0;top:0;border:none !important;\" allowfullscreen webkitallowfullscreen mozallowfullscreen></iframe></div></div>"
     },
     "execution_count": 16,
     "metadata": {},
     "output_type": "execute_result"
    }
   ],
   "source": [
    "# folium 라이브러리의 Map() 메서드 location 속성으로 지정한 위치를 중심으로 하는 zoom_start 옵션으로 지정한 배율을 사용하는 지도를 만든다.\n",
    "foliumMap = folium.Map(location=[37.56999048,126.98410877], zoom_start=18)\n",
    "\n",
    "# folium 라이브러리의 Marker() 메서드의 location 속성으로 지정한 위치에 popup 속성으로 지정한 문자열을 표시하는 marker를 만든다.\n",
    "# 작성된 marker는 add_to() 메서드를 사용해서 folium 라이브러리로 생성한 지도에 추가한다.\n",
    "# Popup() 메서드의 max_width 속성으로 marker를 클릭했을 때 팝업되는 말풍선의 크기를 조정할 수 있다.\n",
    "popup = folium.Popup('보신각', max_width=300)\n",
    "folium.Marker(location=[37.56999048,126.98410877], popup=popup).add_to(foliumMap)\n",
    "\n",
    "# Jupyter Notebook에서 popup으로 표시되는 한글이 깨져서 보일 수 있다.\n",
    "# save() 메서드로 folium을 사용해서 작성한 지도를 html 파일로 저장할 수 있으며, popup 속성에 지정한 한글이 깨지지 않고 정상적으로 출력된다.\n",
    "foliumMap.save('./foliumMap.html')\n",
    "\n",
    "foliumMap"
   ],
   "metadata": {
    "collapsed": false
   }
  },
  {
   "cell_type": "code",
   "execution_count": 7,
   "outputs": [],
   "source": [],
   "metadata": {
    "collapsed": false
   }
  }
 ],
 "metadata": {
  "kernelspec": {
   "display_name": "Python 3",
   "language": "python",
   "name": "python3"
  },
  "language_info": {
   "codemirror_mode": {
    "name": "ipython",
    "version": 2
   },
   "file_extension": ".py",
   "mimetype": "text/x-python",
   "name": "python",
   "nbconvert_exporter": "python",
   "pygments_lexer": "ipython2",
   "version": "2.7.6"
  }
 },
 "nbformat": 4,
 "nbformat_minor": 0
}
