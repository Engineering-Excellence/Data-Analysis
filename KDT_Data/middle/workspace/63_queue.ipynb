{
 "cells": [
  {
   "cell_type": "markdown",
   "source": [
    "# 큐(Queue)"
   ],
   "metadata": {
    "collapsed": false
   }
  },
  {
   "cell_type": "code",
   "execution_count": 52,
   "outputs": [],
   "source": [
    "class Queue:\n",
    "\n",
    "    def __init__(self, size=5):\n",
    "        self.queue = []  # 큐 역할을 할 빈 리스트\n",
    "        self.size = size  # 큐의 크기\n",
    "        self.rear = 0  # 큐의 뒤쪽 포인터 → 큐에 데이터가 입력될 때마다 1씩 증가한다.\n",
    "        self.front = 0  # 큐의 앞쪽 포인터 → 큐에서 데이터가 제거될 때마다 1씩 증가한다.\n",
    "\n",
    "    # add(입력)\n",
    "    def add(self, data):\n",
    "        if data not in self.queue:  # 중복 검사\n",
    "            if self.rear < self.size:  # Overflow 검사\n",
    "                self.queue.append(data)\n",
    "                # 큐에 데이터를 추가했으므로 rear를 1 증가시킨다.\n",
    "                self.rear += 1\n",
    "                print(f'큐에 {data}을(를) 저장합니다. [rear = {self.rear}, front = {self.front}]')\n",
    "            else:\n",
    "                print(f'Overflow 발생! 큐가 가득 차서 {data}를 저장할 수 없습니다.')\n",
    "        else:\n",
    "            print(f'{data}는 중복된 데이터입니다.')\n",
    "        self.view()\n",
    "\n",
    "    # view(데이터 보기)\n",
    "    def view(self):\n",
    "        print('큐에 저장된 데이터: ', end='')\n",
    "        # Underflow인지 검사한다. 큐의 Underflow 조건은 2가지가 존재한다.\n",
    "        # 1. 데이터가 한 건도 입력되지 않았을 경우 rear == 0 이므로 Underflow가 발생한다.\n",
    "        # 2. 데이터가 모두 제거된 경우 rear == front 이므로 Underflow가 발생한다.\n",
    "        if self.rear <= 0 or self.rear <= self.front:\n",
    "            print('없음')\n",
    "        else:\n",
    "            # 큐에 저장된 데이터의 개수 만큼 반복하며 큐에 저장된 데이터를 출력한다.\n",
    "            # for i in range(self.front, self.rear):\n",
    "            for q in self.queue[self.front:]:\n",
    "                print(q, end=' ')\n",
    "            print()\n",
    "\n",
    "    # remove(출력)\n",
    "    def remove(self):\n",
    "        # Underflow인지 검사한다.\n",
    "        if self.rear <= 0 or self.rear <= self.front:\n",
    "            print('큐에 저장된 데이터가 없습니다.')\n",
    "        else:\n",
    "            # 큐에 저장된 제거할 데이터를 얻어온다.\n",
    "            data = self.queue[self.front]\n",
    "            # 얻어온 데이터를 큐에서 제거한다.\n",
    "            self.queue[self.front] = '제거됨'\n",
    "            # 큐에서 데이터를 제거했으므로 front를 1 증가시킨다.\n",
    "            self.front += 1\n",
    "            print(f'큐에서 {data}을(를) 제거합니다. [rear = {self.rear}, front = {self.front}]')\n",
    "            # self.view()"
   ],
   "metadata": {
    "collapsed": false
   }
  },
  {
   "cell_type": "code",
   "execution_count": 53,
   "outputs": [
    {
     "name": "stdout",
     "output_type": "stream",
     "text": [
      "큐에 저장된 데이터: 없음\n",
      "큐에 0을(를) 저장합니다. [rear = 1, front = 0]\n",
      "큐에 저장된 데이터: 0 \n",
      "큐에 1을(를) 저장합니다. [rear = 2, front = 0]\n",
      "큐에 저장된 데이터: 0 1 \n",
      "큐에 2을(를) 저장합니다. [rear = 3, front = 0]\n",
      "큐에 저장된 데이터: 0 1 2 \n",
      "큐에 3을(를) 저장합니다. [rear = 4, front = 0]\n",
      "큐에 저장된 데이터: 0 1 2 3 \n",
      "큐에 4을(를) 저장합니다. [rear = 5, front = 0]\n",
      "큐에 저장된 데이터: 0 1 2 3 4 \n",
      "Overflow 발생! 큐가 가득 차서 5를 저장할 수 없습니다.\n",
      "큐에 저장된 데이터: 0 1 2 3 4 \n",
      "================================================================================\n",
      "큐에 저장된 데이터: 0 1 2 3 4 \n",
      "================================================================================\n",
      "큐에서 0을(를) 제거합니다. [rear = 5, front = 1]\n",
      "큐에서 1을(를) 제거합니다. [rear = 5, front = 2]\n",
      "큐에서 2을(를) 제거합니다. [rear = 5, front = 3]\n",
      "큐에서 3을(를) 제거합니다. [rear = 5, front = 4]\n",
      "큐에서 4을(를) 제거합니다. [rear = 5, front = 5]\n",
      "큐에 저장된 데이터가 없습니다.\n"
     ]
    }
   ],
   "source": [
    "if __name__ == '__main__':\n",
    "    queue = Queue()\n",
    "    queue.view()\n",
    "    queue.add(0)\n",
    "    queue.add(1)\n",
    "    queue.add(2)\n",
    "    queue.add(3)\n",
    "    queue.add(4)\n",
    "    queue.add(5)\n",
    "    print('=' * 80)\n",
    "    queue.view()\n",
    "    print('=' * 80)\n",
    "    queue.remove()\n",
    "    queue.remove()\n",
    "    queue.remove()\n",
    "    queue.remove()\n",
    "    queue.remove()\n",
    "    queue.remove()"
   ],
   "metadata": {
    "collapsed": false
   }
  },
  {
   "cell_type": "code",
   "execution_count": 33,
   "outputs": [],
   "source": [],
   "metadata": {
    "collapsed": false
   }
  }
 ],
 "metadata": {
  "kernelspec": {
   "display_name": "Python 3",
   "language": "python",
   "name": "python3"
  },
  "language_info": {
   "codemirror_mode": {
    "name": "ipython",
    "version": 2
   },
   "file_extension": ".py",
   "mimetype": "text/x-python",
   "name": "python",
   "nbconvert_exporter": "python",
   "pygments_lexer": "ipython2",
   "version": "2.7.6"
  }
 },
 "nbformat": 4,
 "nbformat_minor": 0
}
