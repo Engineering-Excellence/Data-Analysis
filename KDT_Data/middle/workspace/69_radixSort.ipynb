{
 "cells": [
  {
   "cell_type": "markdown",
   "source": [
    "# 기수 정렬(Radix Sort)\n",
    "***\n",
    "<br/>\n",
    "<img src=\"images/radixSort_1.png\" width=\"1800\"/>\n",
    "<br/>\n",
    "<img src=\"images/radixSort_2.png\" width=\"1800\"/>"
   ],
   "metadata": {
    "collapsed": false
   }
  },
  {
   "cell_type": "code",
   "execution_count": 1,
   "outputs": [
    {
     "name": "stdout",
     "output_type": "stream",
     "text": [
      "[[], [], [], [], [], [], [], [], [], []]\n"
     ]
    }
   ],
   "source": [
    "# Queue로 사용할 2차원 빈 리스트를 선언한다.\n",
    "queueList = [[] for i in range(10)]\n",
    "print(queueList)"
   ],
   "metadata": {
    "collapsed": false
   }
  },
  {
   "cell_type": "code",
   "execution_count": 3,
   "outputs": [
    {
     "name": "stdout",
     "output_type": "stream",
     "text": [
      "radix: 1\n",
      "n:  19 → 9\n",
      "n:   2 → 2\n",
      "n:  21 → 1\n",
      "n:  45 → 5\n",
      "n:  30 → 0\n",
      "n:  11 → 1\n",
      "n: 121 → 1\n",
      "n:  27 → 7\n",
      "1회전(1의 자릿수 정렬) 결과: [30, 21, 11, 121, 2, 45, 27, 19]\n",
      "================================================================================\n",
      "radix: 10\n",
      "n:  30 → 3\n",
      "n:  21 → 2\n",
      "n:  11 → 1\n",
      "n: 121 → 2\n",
      "n:   2 → 0\n",
      "n:  45 → 4\n",
      "n:  27 → 2\n",
      "n:  19 → 1\n",
      "2회전(2의 자릿수 정렬) 결과: [2, 11, 19, 21, 121, 27, 30, 45]\n",
      "================================================================================\n",
      "radix: 100\n",
      "n:   2 → 0\n",
      "n:  11 → 0\n",
      "n:  19 → 0\n",
      "n:  21 → 0\n",
      "n: 121 → 1\n",
      "n:  27 → 0\n",
      "n:  30 → 0\n",
      "n:  45 → 0\n",
      "3회전(3의 자릿수 정렬) 결과: [2, 11, 19, 21, 27, 30, 45, 121]\n",
      "================================================================================\n",
      "radix: 1000\n",
      "n:   2 → 0\n",
      "n:  11 → 0\n",
      "n:  19 → 0\n",
      "n:  21 → 0\n",
      "n:  27 → 0\n",
      "n:  30 → 0\n",
      "n:  45 → 0\n",
      "n: 121 → 0\n",
      "4회전(4의 자릿수 정렬) 결과: [2, 11, 19, 21, 27, 30, 45, 121]\n",
      "================================================================================\n",
      "정렬 결과: [2, 11, 19, 21, 27, 30, 45, 121]\n"
     ]
    }
   ],
   "source": [
    "data = [19, 2, 21, 45, 30, 11, 121, 27]\n",
    "radix = 1   # Queue에 넣어줄 자릿수 위치를 기억하는 변수(1 → 10 → 100 → 1000 → ...)\n",
    "count = 1   # 회전수를 기억하는 변수\n",
    "isSort = False  # 정렬이 완료되었는지 기억하는 변수, True로 변경되면 정렬 완료를 의미\n",
    "\n",
    "# 정렬이 완료될 때까지 반복한다.\n",
    "while not isSort:\n",
    "\n",
    "    isSort = True\n",
    "\n",
    "    # 정렬할 숫자의 진법(기수)의 크기 만큼 큐로 사용할 2차원 리스트를 만든다.\n",
    "    queueList = [[] for i in range(10)]\n",
    "    print(f'radix: {radix}')\n",
    "\n",
    "    # 정렬할 데이터의 개수 만큼 반복하며 큐에 데이터를 입력한다.\n",
    "    for n in data:\n",
    "        print(f'n: {n:3d}', end=' → ')\n",
    "        # 큐에 입력할 자릿수(radix)\n",
    "        digit = n // radix % 10\n",
    "        print(digit)\n",
    "        # digit 별 큐에 데이터를 입력한다.\n",
    "        queueList[digit].append(n)\n",
    "        # 정렬 작업이 완료되었는지 검사한다.\n",
    "        if isSort and digit > 0:\n",
    "            isSort = False\n",
    "    # ===== for\n",
    "\n",
    "    # 큐에 저장된 데이터를 0번 큐부터 차례대로 꺼내서 data 리스트를 수정한다.\n",
    "    index = 0\n",
    "    # queueList에 저장된 0번 큐부터 9번 큐까지 반복하며 numbers 리스트에 저장한다.\n",
    "    for numbers in queueList:\n",
    "        # 각각의 기수에 해당되는 리스트에 저장된 데이터 개수 만큼 반복하며 data 리스트를 수정한다.\n",
    "        for number in numbers:\n",
    "            data[index] = number\n",
    "            index += 1\n",
    "        # ===== for number\n",
    "    # ===== for numbers\n",
    "    print(f'{count}회전({count}의 자릿수 정렬) 결과: {data}')\n",
    "    count += 1\n",
    "    print('=' * 80)\n",
    "    # ★ 큐에 넣어줄 자릿수 위치를 수정한다. ★\n",
    "    radix *= 10\n",
    "# ===== while\n",
    "print(f'정렬 결과: {data}')"
   ],
   "metadata": {
    "collapsed": false
   }
  },
  {
   "cell_type": "code",
   "execution_count": null,
   "outputs": [],
   "source": [],
   "metadata": {
    "collapsed": false
   }
  }
 ],
 "metadata": {
  "kernelspec": {
   "display_name": "Python 3",
   "language": "python",
   "name": "python3"
  },
  "language_info": {
   "codemirror_mode": {
    "name": "ipython",
    "version": 2
   },
   "file_extension": ".py",
   "mimetype": "text/x-python",
   "name": "python",
   "nbconvert_exporter": "python",
   "pygments_lexer": "ipython2",
   "version": "2.7.6"
  }
 },
 "nbformat": 4,
 "nbformat_minor": 0
}
