{
 "cells": [
  {
   "cell_type": "code",
   "execution_count": 9,
   "metadata": {
    "collapsed": true
   },
   "outputs": [
    {
     "name": "stdout",
     "output_type": "stream",
     "text": [
      "큐에 저장된 데이터: 없음\n"
     ]
    }
   ],
   "source": [
    "from queueModule import Queue\n",
    "\n",
    "queue = Queue()\n",
    "queue.view()"
   ]
  },
  {
   "cell_type": "code",
   "execution_count": 10,
   "outputs": [
    {
     "name": "stdout",
     "output_type": "stream",
     "text": [
      "=================================\n",
      " 1.add  2.remove  3.view  4.exit \n",
      "=================================\n",
      "큐에 1을(를) 저장합니다. [rear = 1, front = 0]\n",
      "큐에 저장된 데이터: 1 \n",
      "=================================\n",
      " 1.add  2.remove  3.view  4.exit \n",
      "=================================\n",
      "큐에 2을(를) 저장합니다. [rear = 2, front = 0]\n",
      "큐에 저장된 데이터: 1 2 \n",
      "=================================\n",
      " 1.add  2.remove  3.view  4.exit \n",
      "=================================\n",
      "큐에 3을(를) 저장합니다. [rear = 3, front = 0]\n",
      "큐에 저장된 데이터: 1 2 3 \n",
      "=================================\n",
      " 1.add  2.remove  3.view  4.exit \n",
      "=================================\n",
      "큐에 저장된 데이터: 1 2 3 \n",
      "=================================\n",
      " 1.add  2.remove  3.view  4.exit \n",
      "=================================\n",
      "큐에 4을(를) 저장합니다. [rear = 4, front = 0]\n",
      "큐에 저장된 데이터: 1 2 3 4 \n",
      "=================================\n",
      " 1.add  2.remove  3.view  4.exit \n",
      "=================================\n",
      "큐에 999을(를) 저장합니다. [rear = 5, front = 0]\n",
      "큐에 저장된 데이터: 1 2 3 4 999 \n",
      "=================================\n",
      " 1.add  2.remove  3.view  4.exit \n",
      "=================================\n",
      "999는 중복된 데이터입니다.\n",
      "큐에 저장된 데이터: 1 2 3 4 999 \n",
      "=================================\n",
      " 1.add  2.remove  3.view  4.exit \n",
      "=================================\n",
      "큐에서 1을(를) 제거합니다. [rear = 5, front = 1]\n",
      "=================================\n",
      " 1.add  2.remove  3.view  4.exit \n",
      "=================================\n",
      "큐에서 2을(를) 제거합니다. [rear = 5, front = 2]\n",
      "=================================\n",
      " 1.add  2.remove  3.view  4.exit \n",
      "=================================\n",
      "큐에서 3을(를) 제거합니다. [rear = 5, front = 3]\n",
      "=================================\n",
      " 1.add  2.remove  3.view  4.exit \n",
      "=================================\n",
      "큐에서 4을(를) 제거합니다. [rear = 5, front = 4]\n",
      "=================================\n",
      " 1.add  2.remove  3.view  4.exit \n",
      "=================================\n",
      "큐에서 999을(를) 제거합니다. [rear = 5, front = 5]\n",
      "=================================\n",
      " 1.add  2.remove  3.view  4.exit \n",
      "=================================\n",
      "큐에 저장된 데이터가 없습니다.\n",
      "=================================\n",
      " 1.add  2.remove  3.view  4.exit \n",
      "=================================\n",
      "프로그램을 종료합니다.\n"
     ]
    }
   ],
   "source": [
    "menu = 0\n",
    "\n",
    "while menu != 4:\n",
    "    while True:\n",
    "        print('=' * 33)\n",
    "        print(' 1.add  2.remove  3.view  4.exit ')\n",
    "        print('=' * 33)\n",
    "        menu = int(input('원하는 메뉴를 입력하고 Enter 키를 누르세요: '))\n",
    "        if menu in [1, 2, 3, 4]:\n",
    "            break\n",
    "        else:\n",
    "            print('메뉴는 1 ~ 4 사이의 값을 입력해야 합니다.')\n",
    "    # ===== while True\n",
    "\n",
    "    if menu == 1:\n",
    "        data = input('큐에 저장할 데이터: ')\n",
    "        queue.add(data)\n",
    "    elif menu == 2:\n",
    "        queue.remove()\n",
    "    elif menu == 3:\n",
    "        queue.view()\n",
    "    # ===== if\n",
    "# ===== while\n",
    "print('프로그램을 종료합니다.')"
   ],
   "metadata": {
    "collapsed": false
   }
  },
  {
   "cell_type": "code",
   "execution_count": 10,
   "outputs": [],
   "source": [],
   "metadata": {
    "collapsed": false
   }
  },
  {
   "cell_type": "code",
   "execution_count": 10,
   "outputs": [],
   "source": [],
   "metadata": {
    "collapsed": false
   }
  }
 ],
 "metadata": {
  "kernelspec": {
   "display_name": "Python 3",
   "language": "python",
   "name": "python3"
  },
  "language_info": {
   "codemirror_mode": {
    "name": "ipython",
    "version": 2
   },
   "file_extension": ".py",
   "mimetype": "text/x-python",
   "name": "python",
   "nbconvert_exporter": "python",
   "pygments_lexer": "ipython2",
   "version": "2.7.6"
  }
 },
 "nbformat": 4,
 "nbformat_minor": 0
}
