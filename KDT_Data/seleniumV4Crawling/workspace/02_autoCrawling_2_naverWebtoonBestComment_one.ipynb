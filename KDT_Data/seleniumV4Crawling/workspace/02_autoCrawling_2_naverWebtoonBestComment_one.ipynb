{
 "cells": [
  {
   "cell_type": "code",
   "execution_count": 3,
   "metadata": {
    "collapsed": true
   },
   "outputs": [],
   "source": [
    "import time\n",
    "import warnings\n",
    "\n",
    "from bs4 import BeautifulSoup\n",
    "from selenium import webdriver\n",
    "from selenium.webdriver.chrome.options import Options\n",
    "from selenium.webdriver.common.by import By\n",
    "\n",
    "warnings.filterwarnings(action='ignore')"
   ]
  },
  {
   "cell_type": "markdown",
   "source": [
    "# Selenium 3 → 4 주요 변경점\n",
    "from selenium.webdriver.common.by import By를 import 하고 사용한다.\n",
    "driver.find_element_by_class_name('') => driver.find_element(By.CLASS_NAME, '')로 변경됨\n",
    "driver.find_element_by_id('') => driver.find_element(By.ID, '')로 변경됨\n",
    "driver.find_element_by_name('') => driver.find_element(By.NAME, '')로 변경됨\n",
    "driver.find_element_by_link_text('') => driver.find_element(By.LINK_TEXT, '')로 변경됨\n",
    "driver.find_element_by_partial_link_text('') => driver.find_element(By.PARTIAL_LINK_TEXT, '')로 변경됨\n",
    "driver.find_element_by_tag_name('') => driver.find_element(By.TAG_NAME, '')로 변경됨\n",
    "driver.find_element_by_css_selector('') => driver.find_element(By.CSS_SELECTOR, '')로 변경됨\n",
    "driver.find_element_by_xpath('') => driver.find_element(By.XPATH, '')로 변경됨"
   ],
   "metadata": {
    "collapsed": false
   }
  },
  {
   "cell_type": "code",
   "execution_count": 4,
   "outputs": [
    {
     "name": "stdout",
     "output_type": "stream",
     "text": [
      "우와 작가님 너무 옛날 에피소드 같아요\n",
      "베댓 ================================================================================\n",
      "10\n",
      "ㅋㅋㅋㅋㅋㅋㅋㅋㅋㅋㅋㅋㅋㅋㅋㅋㅋㅋㅋ\n",
      "악ㅋㅋㅋㅋㅋㅋㅋㅋㅋㅋㅋㅋㅋ\n",
      "나 초딩때네 ㄷ ㄷ\n",
      "ㅋㅋㅋㅋㅋㅋㅋㅋ\n",
      "놀리지마요\n",
      "ㅋㅋㅋㅋㅋ\n",
      "그래도 재밌어요 히히\n",
      "ㅋㅋㅋㅋㅋㅋㅋㅋㅋㅋㅋㅋ 뜻밖의 광역기 (마상)\n",
      "와 애x팡 대체 저게 얼마나 예전이야ㅋㅋㅋㅋㅋㅋㅋㅋ 초딩때 엄마폰으로 하다가 하트로 엄마카톡 도배된것도 기억나네 \n",
      "ㅋㅋㅋㅋㅋㅋㅋㅋㅋㅋㅋㅋㅋㅋ 그래도 작가님이 저보단 어리신것같아요... 우왕\n",
      "1번째 베댓 댓글 ================================================================================\n",
      "이게 그렇게나 유물이 된건가요ㅜㅜ 엊그제같은데\n",
      "이 나쁜 사람들 ㅋㅋㅋㅋㅋㅋㅋㅋㅋ\n",
      "애니팡때인가....\n",
      "ㅋㅋㅋㅋㅋㅋㅋㅋㅋ못된 것\n",
      "다들 너무해ㅜㅜㅠ(이하 작가님 또래..)\n",
      "아.. 난 대딩때 유행했는데,,\n",
      "?? 애니팡을 엄마폰으로 했다고..???.......내 폰이 아니고???\n",
      "나도 대학생때 애니팡했는데....늙은거구나ㅠ\n",
      "이렇게 멕이네..\n",
      "저도 이번글보면서 예전 추억에 젖었어요…올해로 서른… 저 대학생때 애니팡 완전 난리였는데\n",
      "2번째 베댓 댓글 ================================================================================\n",
      "생각해보니 그러네 ㅋㅋㅋ 나 학생때인데\n",
      "와 하트팡 개오랜만이다ㅋㅋㅋㅋㅋㅋㅋ\n",
      "ㅁㅊ ㅋㅋㅋㅋㅋㅋㅋㅋㅋㅋㅋㅋㅋㅋㅋㅋㅋ\n",
      "애니팡이였나..ㅋㅋㅋㅋㅋ\n",
      "ㅋㅋㅋㅋㅋㅋㅋㅋ애니팡 진짜 추억이네요ㅋㅋㅋㅋㅋ\n",
      "학생 댓글내려 \n",
      "엄마 애니팡하는 거 구경했던 초딩이 대학 새내기가 되엇어요..\n",
      "예...? 나 사회초년생때 애니팡했는데... 흐뭇하게 웃다가 날벼락\n",
      "3번째 베댓 댓글 ================================================================================\n"
     ]
    }
   ],
   "source": [
    "import selenium.webdriver.common.by\n",
    "\n",
    "option = Options()\n",
    "option.add_argument('--window-size=1600,900')  # 창 크기\n",
    "driver = webdriver.Chrome('./chromedriver', options=option)\n",
    "driver.implicitly_wait(5)\n",
    "\n",
    "driver.get('https://comic.naver.com/comment/comment?titleId=790713&no=95')\n",
    "html = driver.page_source\n",
    "soup = BeautifulSoup(html, 'html.parser')\n",
    "reviews = soup.select('span.u_cbox_contents')\n",
    "\n",
    "for review in reviews[1:2]:\n",
    "    print(review.text)\n",
    "\n",
    "# 답글 버튼을 클릭한다.(xpath)\n",
    "driver.find_element(By.XPATH,\n",
    "    '//*[@id=\"cbox_module_wai_u_cbox_content_wrap_tabpanel\"]/ul/li[2]/div[1]/div/div[5]/a').click()\n",
    "time.sleep(1)  # 공격 방지\n",
    "print('베댓', '=' * 80)\n",
    "\n",
    "# selenium 새로고침 방법\n",
    "# driver.refresh()    # 새로고침을 실행한다.\n",
    "# driver.get(driver.current_url)  # get() 메서드에 현재 페이지 주소를 넣어주는 방법으로 새로고침을 할 수 있다.\n",
    "# execute_script() 메서드로 자바스크립트 코드를 실행시킬 수 있다.\n",
    "# driver.execute_script('location.reload()')  # 자바스크립트 location 객체의 reload() 메서드를 실행해서 새로고침 할 수 있다.\n",
    "\n",
    "# 답글 버튼을 클릭해서 페이지 내용이 변경되면 다시 읽어와야 한다.\n",
    "html = driver.page_source\n",
    "soup = BeautifulSoup(html, 'html.parser')\n",
    "\n",
    "replies = soup.select('div.u_cbox_reply_area span.u_cbox_contents')\n",
    "print(len(replies))\n",
    "for reply in replies:\n",
    "    print(reply.text)\n",
    "print('1번째 베댓 댓글', '=' * 80)\n",
    "\n",
    "driver.find_element(By.XPATH, \n",
    "    '//*[@id=\"cbox_module_wai_u_cbox_content_wrap_tabpanel\"]/ul/li[2]/div[2]/div[1]/div/a[1]/span').click()\n",
    "time.sleep(1)\n",
    "\n",
    "html = driver.page_source\n",
    "soup = BeautifulSoup(html, 'html.parser')\n",
    "\n",
    "replies = soup.select('div.u_cbox_reply_area span.u_cbox_contents')\n",
    "for reply in replies:\n",
    "    print(reply.text)\n",
    "print('2번째 베댓 댓글', '=' * 80)\n",
    "\n",
    "driver.find_element(By.XPATH, \n",
    "    '//*[@id=\"cbox_module_wai_u_cbox_content_wrap_tabpanel\"]/ul/li[2]/div[2]/div[1]/div/a[3]/span').click()\n",
    "time.sleep(1)\n",
    "\n",
    "html = driver.page_source\n",
    "soup = BeautifulSoup(html, 'html.parser')\n",
    "replies = soup.select('div.u_cbox_reply_area span.u_cbox_contents')\n",
    "for reply in replies:\n",
    "    print(reply.text)\n",
    "print('3번째 베댓 댓글', '=' * 80)"
   ],
   "metadata": {
    "collapsed": false
   }
  },
  {
   "cell_type": "code",
   "execution_count": 4,
   "outputs": [],
   "source": [],
   "metadata": {
    "collapsed": false
   }
  }
 ],
 "metadata": {
  "kernelspec": {
   "display_name": "Python 3",
   "language": "python",
   "name": "python3"
  },
  "language_info": {
   "codemirror_mode": {
    "name": "ipython",
    "version": 2
   },
   "file_extension": ".py",
   "mimetype": "text/x-python",
   "name": "python",
   "nbconvert_exporter": "python",
   "pygments_lexer": "ipython2",
   "version": "2.7.6"
  }
 },
 "nbformat": 4,
 "nbformat_minor": 0
}
