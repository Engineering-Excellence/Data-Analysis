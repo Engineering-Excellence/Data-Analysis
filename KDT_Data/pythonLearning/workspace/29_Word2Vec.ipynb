{
 "cells": [
  {
   "cell_type": "code",
   "execution_count": 1,
   "metadata": {
    "collapsed": true
   },
   "outputs": [
    {
     "name": "stdout",
     "output_type": "stream",
     "text": [
      "WARNING:tensorflow:From /opt/homebrew/Caskroom/miniconda/base/envs/py_3_8/lib/python3.8/site-packages/tensorflow/python/compat/v2_compat.py:107: disable_resource_variables (from tensorflow.python.ops.variable_scope) is deprecated and will be removed in a future version.\n",
      "Instructions for updating:\n",
      "non-resource variables are not supported in the long term\n"
     ]
    }
   ],
   "source": [
    "%config Completer.use_jedi = False\n",
    "import warnings\n",
    "\n",
    "warnings.filterwarnings(action='ignore')\n",
    "import tensorflow.compat.v1 as tf\n",
    "\n",
    "tf.disable_v2_behavior()\n",
    "import numpy as np\n",
    "import pandas as pd\n",
    "import matplotlib.pyplot as plt"
   ]
  },
  {
   "cell_type": "markdown",
   "source": [
    "# Word to Vector\n",
    "Word2Vec은 word to vector의 줄임말이다.\n",
    "딥러닝 모델은 입력값으로 수치값을 받기 때문에 자연어 처리 분야에서는 단더(word)들을 어떻게 수치(vector)로 변환하느냐가 딥러닝 모델의 성능을 결정하는 중요한 요소이다.\n",
    "\n",
    "word to vector의 장점은 의미가 비슷한 단어는 벡터 공간에서 서로 가까운 위치에 존재하게 되는 비지도 학습으로 말뭉치 데이터만 있으면 손쉽게 word2Vec을 구현할 수 있다."
   ],
   "metadata": {
    "collapsed": false
   }
  },
  {
   "cell_type": "markdown",
   "source": [
    "데이터 획득"
   ],
   "metadata": {
    "collapsed": false
   }
  },
  {
   "cell_type": "code",
   "execution_count": 2,
   "outputs": [
    {
     "data": {
      "text/plain": "['king is a strong man',\n 'queen is a wise woman',\n 'boy is a young man',\n 'girl is a young woman',\n 'prince is a young king',\n 'princess is a young queen',\n 'man is strong',\n 'woman is pretty',\n 'prince is a boy will be king',\n 'princess is a girl will be queen']"
     },
     "execution_count": 2,
     "metadata": {},
     "output_type": "execute_result"
    }
   ],
   "source": [
    "corpus = [\n",
    "    'king is a strong man',\n",
    "    'queen is a wise woman',\n",
    "    'boy is a young man',\n",
    "    'girl is a young woman',\n",
    "    'prince is a young king',\n",
    "    'princess is a young queen',\n",
    "    'man is strong',\n",
    "    'woman is pretty',\n",
    "    'prince is a boy will be king',\n",
    "    'princess is a girl will be queen'\n",
    "]\n",
    "corpus"
   ],
   "metadata": {
    "collapsed": false
   }
  },
  {
   "cell_type": "markdown",
   "source": [
    "불용어(stop words) 제거하기\n",
    "불용어란 학습에 도움이 되지도 않으면서 빈번하게 발생되는 단어를 의미하며 효율적인 학습을 위해 불용어를 데이터에서 제거한다."
   ],
   "metadata": {
    "collapsed": false
   }
  },
  {
   "cell_type": "code",
   "execution_count": 3,
   "outputs": [],
   "source": [
    "def remove_stop_words(corpus):\n",
    "    stop_words = ['is', 'a', 'will', 'be']\n",
    "    results = []  # 인수로 넘어온 문장에서 불용어를 제거한 결과를 저장해서 리턴시킬 빈 리스트를 선언한다.\n",
    "    # 불용어를 제거할 문장을 한줄씩 읽어가며 반복한다.\n",
    "    for text in corpus:\n",
    "        # 불용어를 제거하기 위해서 공백을 경계로 문장을 단어 단위로 나눈다.\n",
    "        temp = text.split()\n",
    "        # 불용어 개수만큼 반복하며 불용어를 제거할 문장에서 불용어를 제거한다.\n",
    "        for stop_word in stop_words:\n",
    "            # 문장에 포함된 불용어를 제거한다.\n",
    "            while stop_word in temp:\n",
    "                temp.remove(stop_word)\n",
    "            # ===== while\n",
    "        # ===== for\n",
    "        # print(temp)\n",
    "        # 불용어가 제거된 단어 사이에 공백을 넣어서 불용어가 제거된 문장을 만든다.\n",
    "        # print(' '.join(temp))\n",
    "        results.append(' '.join(temp))\n",
    "    return results"
   ],
   "metadata": {
    "collapsed": false
   }
  },
  {
   "cell_type": "code",
   "execution_count": 4,
   "outputs": [
    {
     "data": {
      "text/plain": "['king strong man',\n 'queen wise woman',\n 'boy young man',\n 'girl young woman',\n 'prince young king',\n 'princess young queen',\n 'man strong',\n 'woman pretty',\n 'prince boy king',\n 'princess girl queen']"
     },
     "execution_count": 4,
     "metadata": {},
     "output_type": "execute_result"
    }
   ],
   "source": [
    "corpus = remove_stop_words(corpus)\n",
    "corpus"
   ],
   "metadata": {
    "collapsed": false
   }
  },
  {
   "cell_type": "markdown",
   "source": [
    "불용어를 제거한 후 데이터에 존재하는 단어들은 다음과 같다."
   ],
   "metadata": {
    "collapsed": false
   }
  },
  {
   "cell_type": "code",
   "execution_count": 5,
   "outputs": [
    {
     "data": {
      "text/plain": "['king',\n 'strong',\n 'man',\n 'queen',\n 'wise',\n 'woman',\n 'boy',\n 'young',\n 'man',\n 'girl',\n 'young',\n 'woman',\n 'prince',\n 'young',\n 'king',\n 'princess',\n 'young',\n 'queen',\n 'man',\n 'strong',\n 'woman',\n 'pretty',\n 'prince',\n 'boy',\n 'king',\n 'princess',\n 'girl',\n 'queen']"
     },
     "execution_count": 5,
     "metadata": {},
     "output_type": "execute_result"
    }
   ],
   "source": [
    "words = []\n",
    "for text in corpus:\n",
    "    for word in text.split():\n",
    "        words.append(word)\n",
    "words  # 중복되는 단어가 존재한다."
   ],
   "metadata": {
    "collapsed": false
   }
  },
  {
   "cell_type": "markdown",
   "source": [
    "단어별 인덱스 매핑 테이블 만들기\n",
    "단어를 원-핫 인코딩으로 변환하기 위해서 가장 먼저 인덱스로 인코딩 해야하고 단어를 손쉽게 인덱싱하기 위해 key는 단어이고 value는 인덱스인 딕셔너리를 만든다."
   ],
   "metadata": {
    "collapsed": false
   }
  },
  {
   "cell_type": "code",
   "execution_count": 6,
   "outputs": [
    {
     "name": "stdout",
     "output_type": "stream",
     "text": [
      "0 king\n",
      "1 strong\n",
      "2 man\n",
      "3 queen\n",
      "4 wise\n",
      "5 woman\n",
      "6 boy\n",
      "7 young\n",
      "8 man\n",
      "9 girl\n",
      "10 young\n",
      "11 woman\n",
      "12 prince\n",
      "13 young\n",
      "14 king\n",
      "15 princess\n",
      "16 young\n",
      "17 queen\n",
      "18 man\n",
      "19 strong\n",
      "20 woman\n",
      "21 pretty\n",
      "22 prince\n",
      "23 boy\n",
      "24 king\n",
      "25 princess\n",
      "26 girl\n",
      "27 queen\n"
     ]
    }
   ],
   "source": [
    "for index, data in enumerate(words):\n",
    "    print(index, data)"
   ],
   "metadata": {
    "collapsed": false
   }
  },
  {
   "cell_type": "code",
   "execution_count": 7,
   "outputs": [
    {
     "data": {
      "text/plain": "{'king': 24,\n 'strong': 19,\n 'man': 18,\n 'queen': 27,\n 'wise': 4,\n 'woman': 20,\n 'boy': 23,\n 'young': 16,\n 'girl': 26,\n 'prince': 22,\n 'princess': 25,\n 'pretty': 21}"
     },
     "execution_count": 7,
     "metadata": {},
     "output_type": "execute_result"
    }
   ],
   "source": [
    "word2int = {}\n",
    "for index, data in enumerate(words):\n",
    "    word2int[data] = index\n",
    "word2int"
   ],
   "metadata": {
    "collapsed": false
   }
  },
  {
   "cell_type": "markdown",
   "source": [
    "skip gram 방식으로 각 단어별 레이블을 생성한다."
   ],
   "metadata": {
    "collapsed": false
   }
  },
  {
   "cell_type": "code",
   "execution_count": 8,
   "outputs": [
    {
     "data": {
      "text/plain": "[['king', 'strong', 'man'],\n ['queen', 'wise', 'woman'],\n ['boy', 'young', 'man'],\n ['girl', 'young', 'woman'],\n ['prince', 'young', 'king'],\n ['princess', 'young', 'queen'],\n ['man', 'strong'],\n ['woman', 'pretty'],\n ['prince', 'boy', 'king'],\n ['princess', 'girl', 'queen']]"
     },
     "execution_count": 8,
     "metadata": {},
     "output_type": "execute_result"
    }
   ],
   "source": [
    "sentences = []\n",
    "for sentence in corpus:\n",
    "    sentences.append(sentence.split())\n",
    "sentences"
   ],
   "metadata": {
    "collapsed": false
   }
  },
  {
   "cell_type": "code",
   "execution_count": 9,
   "outputs": [],
   "source": [
    "WINDOW_SIZE = 2\n",
    "data = []\n",
    "# 단어별 레이블을 생성할 문장의 개수만큼 반복하며 레이블을 생성한다.\n",
    "for sentence in sentences:\n",
    "    # print('sentence: {}'.format(sentence))\n",
    "    for index, word in enumerate(sentence):\n",
    "        # print('index: {}, word: {}'.format(index, word))\n",
    "        for neighbor in sentence[max(index - WINDOW_SIZE, 0):min(index + WINDOW_SIZE, len(sentence)) + 1]:\n",
    "            if word != neighbor:\n",
    "                # print('{} neighbor: {}'.format(word, neighbor))\n",
    "                data.append([word, neighbor])\n",
    "            # ===== if\n",
    "        # ===== for neighbor\n",
    "        # print('*' * 80)\n",
    "    # ===== for sentence\n",
    "    # print('=' * 80)"
   ],
   "metadata": {
    "collapsed": false
   }
  },
  {
   "cell_type": "code",
   "execution_count": 10,
   "outputs": [
    {
     "data": {
      "text/plain": "    input   label\n0    king  strong\n1    king     man\n2  strong    king\n3  strong     man\n4     man    king\n5     man  strong",
      "text/html": "<div>\n<style scoped>\n    .dataframe tbody tr th:only-of-type {\n        vertical-align: middle;\n    }\n\n    .dataframe tbody tr th {\n        vertical-align: top;\n    }\n\n    .dataframe thead th {\n        text-align: right;\n    }\n</style>\n<table border=\"1\" class=\"dataframe\">\n  <thead>\n    <tr style=\"text-align: right;\">\n      <th></th>\n      <th>input</th>\n      <th>label</th>\n    </tr>\n  </thead>\n  <tbody>\n    <tr>\n      <th>0</th>\n      <td>king</td>\n      <td>strong</td>\n    </tr>\n    <tr>\n      <th>1</th>\n      <td>king</td>\n      <td>man</td>\n    </tr>\n    <tr>\n      <th>2</th>\n      <td>strong</td>\n      <td>king</td>\n    </tr>\n    <tr>\n      <th>3</th>\n      <td>strong</td>\n      <td>man</td>\n    </tr>\n    <tr>\n      <th>4</th>\n      <td>man</td>\n      <td>king</td>\n    </tr>\n    <tr>\n      <th>5</th>\n      <td>man</td>\n      <td>strong</td>\n    </tr>\n  </tbody>\n</table>\n</div>"
     },
     "execution_count": 10,
     "metadata": {},
     "output_type": "execute_result"
    }
   ],
   "source": [
    "df = pd.DataFrame(data, columns=['input', 'label'])\n",
    "df.head(6)"
   ],
   "metadata": {
    "collapsed": false
   }
  },
  {
   "cell_type": "markdown",
   "source": [
    "텐서플로우로 word2Vec 모델 구현하기\n",
    "<br/>\n",
    "<img src=\"./images/word2vec.png\" width=\"1500\"/>"
   ],
   "metadata": {
    "collapsed": false
   }
  },
  {
   "cell_type": "code",
   "execution_count": 11,
   "outputs": [
    {
     "name": "stdout",
     "output_type": "stream",
     "text": [
      "[0. 0. 0. 0. 0. 0. 0. 0. 0. 0. 0. 0. 0. 0. 0. 0. 0. 0. 0. 0. 0. 0. 0. 0.\n",
      " 1. 0. 0. 0.]\n",
      "[0. 0. 0. 0. 0. 0. 0. 0. 0. 0. 0. 0. 0. 0. 0. 0. 0. 0. 0. 1. 0. 0. 0. 0.\n",
      " 0. 0. 0. 0.]\n",
      "[0. 0. 0. 0. 0. 0. 0. 0. 0. 0. 0. 0. 0. 0. 0. 0. 0. 0. 1. 0. 0. 0. 0. 0.\n",
      " 0. 0. 0. 0.]\n",
      "[0. 0. 0. 0. 0. 0. 0. 0. 0. 0. 0. 0. 0. 0. 0. 0. 0. 0. 0. 0. 0. 0. 0. 0.\n",
      " 0. 0. 0. 1.]\n",
      "[0. 0. 0. 0. 1. 0. 0. 0. 0. 0. 0. 0. 0. 0. 0. 0. 0. 0. 0. 0. 0. 0. 0. 0.\n",
      " 0. 0. 0. 0.]\n",
      "[0. 0. 0. 0. 0. 0. 0. 0. 0. 0. 0. 0. 0. 0. 0. 0. 0. 0. 0. 0. 1. 0. 0. 0.\n",
      " 0. 0. 0. 0.]\n",
      "[0. 0. 0. 0. 0. 0. 0. 0. 0. 0. 0. 0. 0. 0. 0. 0. 0. 0. 0. 0. 0. 0. 0. 1.\n",
      " 0. 0. 0. 0.]\n",
      "[0. 0. 0. 0. 0. 0. 0. 0. 0. 0. 0. 0. 0. 0. 0. 0. 1. 0. 0. 0. 0. 0. 0. 0.\n",
      " 0. 0. 0. 0.]\n",
      "[0. 0. 0. 0. 0. 0. 0. 0. 0. 0. 0. 0. 0. 0. 0. 0. 0. 0. 0. 0. 0. 0. 0. 0.\n",
      " 0. 0. 1. 0.]\n",
      "[0. 0. 0. 0. 0. 0. 0. 0. 0. 0. 0. 0. 0. 0. 0. 0. 0. 0. 0. 0. 0. 0. 1. 0.\n",
      " 0. 0. 0. 0.]\n",
      "[0. 0. 0. 0. 0. 0. 0. 0. 0. 0. 0. 0. 0. 0. 0. 0. 0. 0. 0. 0. 0. 0. 0. 0.\n",
      " 0. 1. 0. 0.]\n",
      "[0. 0. 0. 0. 0. 0. 0. 0. 0. 0. 0. 0. 0. 0. 0. 0. 0. 0. 0. 0. 0. 1. 0. 0.\n",
      " 0. 0. 0. 0.]\n"
     ]
    }
   ],
   "source": [
    "# key(단어)에 할당된 value(인덱스)를 원-핫 인코딩으로 전환하는 함수를 만든다.\n",
    "ONE_HOT_DIM = len(words)\n",
    "\n",
    "\n",
    "def to_one_hot_encoding(data_point_index):\n",
    "    one_hot_encoding = np.zeros(ONE_HOT_DIM)\n",
    "    one_hot_encoding[data_point_index] = 1\n",
    "    return one_hot_encoding\n",
    "\n",
    "\n",
    "for w in word2int:\n",
    "    result = to_one_hot_encoding(word2int[w])\n",
    "    print(result)"
   ],
   "metadata": {
    "collapsed": false
   }
  },
  {
   "cell_type": "code",
   "execution_count": 12,
   "outputs": [],
   "source": [
    "# 모델을 만든다.\n",
    "X = []  # 입력 단어\n",
    "Y = []  # 입력 단어에 따른 레이블\n",
    "\n",
    "# 데이터프레임에 저장된 입력과 입력에 따른 결과를 원-핫 인코딩으로 변환해서 X, Y 리스트에 저장한다.\n",
    "for x, y in zip(df['input'], df['label']):\n",
    "    X.append(to_one_hot_encoding(word2int[x]))\n",
    "    Y.append(to_one_hot_encoding(word2int[y]))\n",
    "# print(X[0], Y[0])\n",
    "\n",
    "# 딥러닝 모델의 입력값으로 전환한다.\n",
    "# np.array() 함수는 리스트나 튜플 ndarray(넘파이 배열)를 만드는데 np.asarray() 함수는 인수로 지정한 데이터가\n",
    "# 이미 ndarray 타입의 데이터 형태로 설정되어 있다면 데이터의 형태가 다를 경우에만 복사한다.\n",
    "X_train = np.asarray(X)\n",
    "Y_train = np.asarray(Y)\n",
    "# print(X_train[0], Y_train[0])\n",
    "\n",
    "# 입력 단어와 입력 단어에 따른 레이블을 받기위한 placeholder를 설정한다.\n",
    "x = tf.placeholder(dtype=tf.float32, shape=[None, ONE_HOT_DIM])\n",
    "y_label = tf.placeholder(dtype=tf.float32, shape=[None, ONE_HOT_DIM])\n",
    "\n",
    "# 시각화를 위해 임베딩을 2차원으로 설정한다.\n",
    "EMBEDDING_DIM = 2\n",
    "\n",
    "# 히든 레이어\n",
    "W1 = tf.Variable(tf.truncated_normal([ONE_HOT_DIM, EMBEDDING_DIM], stddev=0.1))\n",
    "hidden_layer = tf.matmul(x, W1)\n",
    "\n",
    "# 출력 레이어\n",
    "W2 = tf.Variable(tf.random_normal([EMBEDDING_DIM, ONE_HOT_DIM]))\n",
    "b2 = tf.Variable(tf.random_normal([1]))\n",
    "predict = tf.nn.softmax(tf.add(tf.matmul(hidden_layer, W2), b2))\n",
    "\n",
    "# 크로스 엔트로피 손실함수\n",
    "loss = tf.reduce_mean(-tf.reduce_sum(y_label * tf.log(predict), axis=1))\n",
    "\n",
    "# 최적화\n",
    "train_op = tf.train.GradientDescentOptimizer(0.01).minimize(loss)"
   ],
   "metadata": {
    "collapsed": false
   }
  },
  {
   "cell_type": "code",
   "execution_count": 13,
   "outputs": [
    {
     "name": "stdout",
     "output_type": "stream",
     "text": [
      "Metal device set to: Apple M2\n"
     ]
    },
    {
     "name": "stderr",
     "output_type": "stream",
     "text": [
      "2023-03-15 16:46:18.010929: I tensorflow/core/common_runtime/pluggable_device/pluggable_device_factory.cc:306] Could not identify NUMA node of platform GPU ID 0, defaulting to 0. Your kernel may not have been built with NUMA support.\n",
      "2023-03-15 16:46:18.011202: I tensorflow/core/common_runtime/pluggable_device/pluggable_device_factory.cc:272] Created TensorFlow device (/job:localhost/replica:0/task:0/device:GPU:0 with 0 MB memory) -> physical PluggableDevice (device: 0, name: METAL, pci bus id: <undefined>)\n",
      "2023-03-15 16:46:18.015857: I tensorflow/compiler/mlir/mlir_graph_optimization_pass.cc:357] MLIR V1 optimization pass is not enabled\n",
      "2023-03-15 16:46:18.021540: W tensorflow/tsl/platform/profile_utils/cpu_utils.cc:128] Failed to get CPU frequency: 0 Hz\n",
      "2023-03-15 16:46:18.027465: I tensorflow/core/grappler/optimizers/custom_graph_optimizer_registry.cc:114] Plugin optimizer for device_type GPU is enabled.\n",
      "2023-03-15 16:46:18.251402: I tensorflow/core/grappler/optimizers/custom_graph_optimizer_registry.cc:114] Plugin optimizer for device_type GPU is enabled.\n"
     ]
    },
    {
     "name": "stdout",
     "output_type": "stream",
     "text": [
      "epoch:     0, loss: 3.34085\n",
      "epoch:  2000, loss: 2.97307\n",
      "epoch:  4000, loss: 2.52238\n",
      "epoch:  6000, loss: 2.17746\n",
      "epoch:  8000, loss: 1.99901\n",
      "epoch: 10000, loss: 1.93730\n",
      "epoch: 12000, loss: 1.90997\n",
      "epoch: 14000, loss: 1.89331\n",
      "epoch: 16000, loss: 1.88130\n",
      "epoch: 18000, loss: 1.87175\n",
      "epoch: 20000, loss: 1.86366\n"
     ]
    }
   ],
   "source": [
    "sess = tf.Session()\n",
    "sess.run(tf.global_variables_initializer())\n",
    "for epoch in range(20001):\n",
    "    _, loss_ = sess.run([train_op, loss], feed_dict={x: X_train, y_label: Y_train})\n",
    "    if epoch % 2000 == 0:\n",
    "        print('epoch: {:5d}, loss: {:7.5f}'.format(epoch, loss_))"
   ],
   "metadata": {
    "collapsed": false
   }
  },
  {
   "cell_type": "markdown",
   "source": [
    "히든 레이어의 값(word2Vec) 추출하기"
   ],
   "metadata": {
    "collapsed": false
   }
  },
  {
   "cell_type": "code",
   "execution_count": 14,
   "outputs": [
    {
     "name": "stderr",
     "output_type": "stream",
     "text": [
      "2023-03-15 16:47:02.024136: I tensorflow/core/grappler/optimizers/custom_graph_optimizer_registry.cc:114] Plugin optimizer for device_type GPU is enabled.\n"
     ]
    },
    {
     "data": {
      "text/plain": "array([[-4.32246849e-02,  1.25340685e-01],\n       [-6.96831867e-02,  1.16352968e-01],\n       [ 1.04675092e-01, -7.33945742e-02],\n       [ 5.41317351e-02,  1.45664498e-01],\n       [-2.03968406e+00,  7.39046216e-01],\n       [-1.54631749e-01, -1.65488776e-02],\n       [ 8.30416828e-02,  1.29829183e-01],\n       [ 1.09916531e-01, -2.17556730e-02],\n       [-1.41518608e-01,  1.16983627e-03],\n       [-7.20831752e-03, -1.49149403e-01],\n       [ 2.75253262e-02,  5.59168831e-02],\n       [ 9.15875956e-02,  2.96687391e-02],\n       [-1.22727109e-02, -1.82802066e-01],\n       [ 1.09374098e-01, -8.20453092e-02],\n       [ 6.16009580e-04, -8.16469837e-04],\n       [ 1.10697247e-01, -1.05959415e-01],\n       [-6.52955770e-02,  7.87131369e-01],\n       [ 4.81605493e-02, -3.90338302e-02],\n       [ 4.21899647e-01,  2.81980419e+00],\n       [ 2.28441405e+00,  1.49172306e+00],\n       [-1.30861044e+00,  5.15140176e-01],\n       [-1.27461755e+00,  1.11747873e+00],\n       [ 7.22794831e-01,  3.43330169e+00],\n       [ 7.14053750e-01,  1.74157417e+00],\n       [ 5.07306993e-01,  1.68494451e+00],\n       [-2.60336685e+00,  1.31569231e+00],\n       [-2.15539670e+00,  1.57053161e+00],\n       [-1.53312182e+00,  1.45991731e+00]], dtype=float32)"
     },
     "execution_count": 14,
     "metadata": {},
     "output_type": "execute_result"
    }
   ],
   "source": [
    "vectors = sess.run(W1)\n",
    "vectors"
   ],
   "metadata": {
    "collapsed": false
   }
  },
  {
   "cell_type": "markdown",
   "source": [
    "word2Vec의 좌표값을 데이터프레임으로 저장한다."
   ],
   "metadata": {
    "collapsed": false
   }
  },
  {
   "cell_type": "code",
   "execution_count": 15,
   "outputs": [
    {
     "data": {
      "text/plain": "        word        x1        x2\n0       king -0.043225  0.125341\n1     strong -0.069683  0.116353\n2        man  0.104675 -0.073395\n3      queen  0.054132  0.145664\n4       wise -2.039684  0.739046\n5      woman -0.154632 -0.016549\n6        boy  0.083042  0.129829\n7      young  0.109917 -0.021756\n8        man -0.141519  0.001170\n9       girl -0.007208 -0.149149\n10     young  0.027525  0.055917\n11     woman  0.091588  0.029669\n12    prince -0.012273 -0.182802\n13     young  0.109374 -0.082045\n14      king  0.000616 -0.000816\n15  princess  0.110697 -0.105959\n16     young -0.065296  0.787131\n17     queen  0.048161 -0.039034\n18       man  0.421900  2.819804\n19    strong  2.284414  1.491723\n20     woman -1.308610  0.515140\n21    pretty -1.274618  1.117479\n22    prince  0.722795  3.433302\n23       boy  0.714054  1.741574\n24      king  0.507307  1.684945\n25  princess -2.603367  1.315692\n26      girl -2.155397  1.570532\n27     queen -1.533122  1.459917",
      "text/html": "<div>\n<style scoped>\n    .dataframe tbody tr th:only-of-type {\n        vertical-align: middle;\n    }\n\n    .dataframe tbody tr th {\n        vertical-align: top;\n    }\n\n    .dataframe thead th {\n        text-align: right;\n    }\n</style>\n<table border=\"1\" class=\"dataframe\">\n  <thead>\n    <tr style=\"text-align: right;\">\n      <th></th>\n      <th>word</th>\n      <th>x1</th>\n      <th>x2</th>\n    </tr>\n  </thead>\n  <tbody>\n    <tr>\n      <th>0</th>\n      <td>king</td>\n      <td>-0.043225</td>\n      <td>0.125341</td>\n    </tr>\n    <tr>\n      <th>1</th>\n      <td>strong</td>\n      <td>-0.069683</td>\n      <td>0.116353</td>\n    </tr>\n    <tr>\n      <th>2</th>\n      <td>man</td>\n      <td>0.104675</td>\n      <td>-0.073395</td>\n    </tr>\n    <tr>\n      <th>3</th>\n      <td>queen</td>\n      <td>0.054132</td>\n      <td>0.145664</td>\n    </tr>\n    <tr>\n      <th>4</th>\n      <td>wise</td>\n      <td>-2.039684</td>\n      <td>0.739046</td>\n    </tr>\n    <tr>\n      <th>5</th>\n      <td>woman</td>\n      <td>-0.154632</td>\n      <td>-0.016549</td>\n    </tr>\n    <tr>\n      <th>6</th>\n      <td>boy</td>\n      <td>0.083042</td>\n      <td>0.129829</td>\n    </tr>\n    <tr>\n      <th>7</th>\n      <td>young</td>\n      <td>0.109917</td>\n      <td>-0.021756</td>\n    </tr>\n    <tr>\n      <th>8</th>\n      <td>man</td>\n      <td>-0.141519</td>\n      <td>0.001170</td>\n    </tr>\n    <tr>\n      <th>9</th>\n      <td>girl</td>\n      <td>-0.007208</td>\n      <td>-0.149149</td>\n    </tr>\n    <tr>\n      <th>10</th>\n      <td>young</td>\n      <td>0.027525</td>\n      <td>0.055917</td>\n    </tr>\n    <tr>\n      <th>11</th>\n      <td>woman</td>\n      <td>0.091588</td>\n      <td>0.029669</td>\n    </tr>\n    <tr>\n      <th>12</th>\n      <td>prince</td>\n      <td>-0.012273</td>\n      <td>-0.182802</td>\n    </tr>\n    <tr>\n      <th>13</th>\n      <td>young</td>\n      <td>0.109374</td>\n      <td>-0.082045</td>\n    </tr>\n    <tr>\n      <th>14</th>\n      <td>king</td>\n      <td>0.000616</td>\n      <td>-0.000816</td>\n    </tr>\n    <tr>\n      <th>15</th>\n      <td>princess</td>\n      <td>0.110697</td>\n      <td>-0.105959</td>\n    </tr>\n    <tr>\n      <th>16</th>\n      <td>young</td>\n      <td>-0.065296</td>\n      <td>0.787131</td>\n    </tr>\n    <tr>\n      <th>17</th>\n      <td>queen</td>\n      <td>0.048161</td>\n      <td>-0.039034</td>\n    </tr>\n    <tr>\n      <th>18</th>\n      <td>man</td>\n      <td>0.421900</td>\n      <td>2.819804</td>\n    </tr>\n    <tr>\n      <th>19</th>\n      <td>strong</td>\n      <td>2.284414</td>\n      <td>1.491723</td>\n    </tr>\n    <tr>\n      <th>20</th>\n      <td>woman</td>\n      <td>-1.308610</td>\n      <td>0.515140</td>\n    </tr>\n    <tr>\n      <th>21</th>\n      <td>pretty</td>\n      <td>-1.274618</td>\n      <td>1.117479</td>\n    </tr>\n    <tr>\n      <th>22</th>\n      <td>prince</td>\n      <td>0.722795</td>\n      <td>3.433302</td>\n    </tr>\n    <tr>\n      <th>23</th>\n      <td>boy</td>\n      <td>0.714054</td>\n      <td>1.741574</td>\n    </tr>\n    <tr>\n      <th>24</th>\n      <td>king</td>\n      <td>0.507307</td>\n      <td>1.684945</td>\n    </tr>\n    <tr>\n      <th>25</th>\n      <td>princess</td>\n      <td>-2.603367</td>\n      <td>1.315692</td>\n    </tr>\n    <tr>\n      <th>26</th>\n      <td>girl</td>\n      <td>-2.155397</td>\n      <td>1.570532</td>\n    </tr>\n    <tr>\n      <th>27</th>\n      <td>queen</td>\n      <td>-1.533122</td>\n      <td>1.459917</td>\n    </tr>\n  </tbody>\n</table>\n</div>"
     },
     "execution_count": 15,
     "metadata": {},
     "output_type": "execute_result"
    }
   ],
   "source": [
    "w2v_df = pd.DataFrame(vectors, columns=['x1', 'x2'])\n",
    "w2v_df['word'] = words\n",
    "w2v_df = w2v_df[['word', 'x1', 'x2']]\n",
    "w2v_df"
   ],
   "metadata": {
    "collapsed": false
   }
  },
  {
   "cell_type": "markdown",
   "source": [
    "word2Vec를 2차원 공간에 시각화한다."
   ],
   "metadata": {
    "collapsed": false
   }
  },
  {
   "cell_type": "code",
   "execution_count": 16,
   "outputs": [
    {
     "data": {
      "text/plain": "<Figure size 640x480 with 1 Axes>",
      "image/png": "[encoded data removed]"
     },
     "metadata": {},
     "output_type": "display_data"
    }
   ],
   "source": [
    "fig, ax = plt.subplots()\n",
    "for word, x1, x2 in zip(w2v_df['word'], w2v_df['x1'], w2v_df['x2']):\n",
    "    ax.annotate(word, (x1, x2))\n",
    "\n",
    "PADDING = 1.0\n",
    "x_axis_min = np.amin(vectors, axis=0)[0] - PADDING\n",
    "y_axis_min = np.amin(vectors, axis=0)[1] - PADDING\n",
    "x_axis_max = np.amax(vectors, axis=0)[0] + PADDING\n",
    "y_axis_max = np.amax(vectors, axis=0)[1] + PADDING\n",
    "\n",
    "plt.xlim(x_axis_min, x_axis_max)\n",
    "plt.ylim(y_axis_min, y_axis_max)\n",
    "plt.rcParams['figure.figsize'] = [12, 10]\n",
    "plt.show()"
   ],
   "metadata": {
    "collapsed": false
   }
  },
  {
   "cell_type": "code",
   "execution_count": null,
   "outputs": [],
   "source": [],
   "metadata": {
    "collapsed": false
   }
  }
 ],
 "metadata": {
  "kernelspec": {
   "display_name": "Python 3",
   "language": "python",
   "name": "python3"
  },
  "language_info": {
   "codemirror_mode": {
    "name": "ipython",
    "version": 2
   },
   "file_extension": ".py",
   "mimetype": "text/x-python",
   "name": "python",
   "nbconvert_exporter": "python",
   "pygments_lexer": "ipython2",
   "version": "2.7.6"
  }
 },
 "nbformat": 4,
 "nbformat_minor": 0
}
