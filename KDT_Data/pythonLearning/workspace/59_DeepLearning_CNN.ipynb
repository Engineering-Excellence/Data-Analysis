{
 "cells": [
  {
   "cell_type": "code",
   "execution_count": 1,
   "id": "0ad24bcc",
   "metadata": {
    "ExecuteTime": {
     "start_time": "2023-04-20T09:01:09.261279Z",
     "end_time": "2023-04-20T09:01:09.265268Z"
    }
   },
   "outputs": [],
   "source": [
    "%config Completer.use_jedi = False\n",
    "import warnings\n",
    "\n",
    "warnings.filterwarnings(action='ignore')"
   ]
  },
  {
   "cell_type": "markdown",
   "id": "0002e320",
   "metadata": {},
   "source": [
    "합성곱 신경망(Convolution Neural Network, CNN)  \n",
    "\n",
    "합성곱 신경망은 흔히 CNN이라고 부르는 방법으로 합성곱이라는 연산을 사용하는 신경망이다. CNN은 실제 여러 분야에서 사용되는 방법으로 특히 이미지 분류 작업에서 좋은 성능을 보여준다.\n",
    "\n",
    "합성곱 연산은 아래와 같은 연산을 의미한다.\n",
    "\n",
    "$$y(i) = (x \\times w)(i) = \\sum_{k=-\\infty}^{\\infty} x(k)w(i - k)$$\n",
    "\n",
    "위 식은 $i$ 시점에서의 입력 데이터 $x$ 값과 가중치 $w$ 값의 합성곱 연산의 결과는 $y(i)$와 같음을 나타낸다. 위 식에서는 $k$도 시점을 의미하는데, 자세히 보면 가중치 $w$의 시점은 $w(i)$가 아닌 $w(i - k)$임을 알 수 있다. 이를 플립(flip)이라고 하며 가중치 커널(kernel)이라고도 부른다. 플립은 우리말로 하면 '뒤집다'라는 뜻으로 가중치의 시점을 뒤집는다는 뜻이다. 위 식은 시점의 순서와 상관없이 결과가 동일하므로 아래와 같이 쓸 수도 있다.\n",
    "\n",
    "$$y(i) = (x \\times w)(i) = \\sum_{k=-\\infty}^{\\infty} x(i - k)w(k)$$"
   ]
  },
  {
   "cell_type": "markdown",
   "id": "35661185",
   "metadata": {},
   "source": [
    "패딩(Padding)  \n",
    "패딩은 입력 데이터 주변을 특정 값으로 채우는 것을 의미한다.\n",
    "<br/>\n",
    "<img src=\"./images/cnn_1.png\" width=\"700\"/>\n",
    "\n",
    "신경망에 커널을 적용하면 층이 깊어질수록 데이터의 차원은 점차 줄어든다. 4 * 4 차원의 입력 데이터에 2 * 2 커널을 합성곱했을 때 출력 데이터의 차원은 3 * 3으로 입력 데이터보다 출력 데이터가 줄어든다. 이렇듯, 입력 데이터에 커널을 합성곱한 후 출력 데이터의 차원이 줄어드는 현상을 방지하기 위해서 패딩이라는 방법을 사용한다."
   ]
  },
  {
   "cell_type": "markdown",
   "id": "a7ef315f",
   "metadata": {},
   "source": [
    "스트라이드(Stride)  \n",
    "스트라이드는 한 번 합성곱 연산을 한 후 다음 계산 영역을 선택할 때 얼마나 이동할지 간격을 정하는 것이다.\n",
    "<br/>\n",
    "<img src=\"./images/cnn_2.png\" width=\"700\"/>\n",
    "\n",
    "스트라이드 2를 적용한 후 합성곱 연산을 한 결과를 스트라이드 1 때와 비교해 보면 출력 데이터 행렬의 차원이 더 작은 것을 알 수 있다."
   ]
  },
  {
   "cell_type": "markdown",
   "id": "a79e9684",
   "metadata": {},
   "source": [
    "풀링(Pooling)  \n",
    "풀링은 데이터의 차원을 줄이는 방법이다.\n",
    "<br/>\n",
    "<img src=\"./images/cnn_3.png\" width=\"500\"/>\n",
    "\n",
    "맥스 풀링(max pooling)이란 해당 영역에서 가장 큰 값을 선택하는 방법이다."
   ]
  },
  {
   "cell_type": "markdown",
   "id": "51715898",
   "metadata": {},
   "source": [
    "합성곱 신경망 실습  \n",
    "합성곱 신경망을 이용해 손글씨 인식 모형을 생성해본다."
   ]
  },
  {
   "cell_type": "code",
   "execution_count": 2,
   "id": "1a1974ea",
   "metadata": {
    "ExecuteTime": {
     "start_time": "2023-04-20T09:01:09.266124Z",
     "end_time": "2023-04-20T09:01:10.893750Z"
    }
   },
   "outputs": [],
   "source": [
    "# 동일한 결과를 보기 위해 랜덤 시드를 설정한다.\n",
    "import numpy as np\n",
    "import tensorflow as tf\n",
    "\n",
    "np.random.seed(0)\n",
    "tf.random.set_seed(0)"
   ]
  },
  {
   "cell_type": "code",
   "execution_count": 3,
   "id": "f091b53e",
   "metadata": {
    "ExecuteTime": {
     "start_time": "2023-04-20T09:01:10.893988Z",
     "end_time": "2023-04-20T09:01:11.024591Z"
    }
   },
   "outputs": [],
   "source": [
    "# 데이터 불러오기, mnist 데이터는 텐서플로우에서 제공하는 데이터셋이다.\n",
    "\n",
    "# mnist 데이터는 불러올 때, 트레이닝 데이터와 테스트 데이터를 나눠서 불러온다.\n",
    "# load_data() 함수는 (트레이닝 피쳐 데이터, 트레이닝 타겟 데이터)과 (테스트 피쳐 데이터, 테스트 타겟 데이터)을\n",
    "# 튜플 형태로 묶어서 리턴한다.\n",
    "(X_train, y_train), (X_test, y_test) = tf.keras.datasets.mnist.load_data()  # 손글씨 데이터셋을 불러온다."
   ]
  },
  {
   "cell_type": "code",
   "execution_count": 4,
   "id": "fa3f938f",
   "metadata": {
    "ExecuteTime": {
     "start_time": "2023-04-20T09:01:11.023569Z",
     "end_time": "2023-04-20T09:01:11.026277Z"
    }
   },
   "outputs": [
    {
     "name": "stdout",
     "output_type": "stream",
     "text": [
      "(60000, 28, 28)\n",
      "(60000,)\n",
      "(10000, 28, 28)\n",
      "(10000,)\n"
     ]
    }
   ],
   "source": [
    "# 오리지널 데이터 차원 확인\n",
    "# 트레이닝 피쳐 데이터의 차원을 확인하면 (이미지 개수, 행, 열) 형태로 나온다. 즉, 트레이닝 피처 데이터는 28행 * 28열\n",
    "# 이미지 60,000개로 구성되어 있다는 것을 알 수 있다.\n",
    "print(X_train.shape)\n",
    "print(y_train.shape)  # 트레이닝 타겟 데이터는 스칼라값 60,000개로 이루어진 벡터이다.\n",
    "print(X_test.shape)  # 테스트 피처 데이터는 28행 * 28열 이미지 10,000개로 구성되어 있다는 것을 알 수 있다.\n",
    "print(y_test.shape)  # 테스트 타겟 데이터는 스칼라값 10,000개로 이루어진 벡터이다."
   ]
  },
  {
   "cell_type": "code",
   "execution_count": 5,
   "id": "1716fe3e",
   "metadata": {
    "ExecuteTime": {
     "start_time": "2023-04-20T09:01:11.027878Z",
     "end_time": "2023-04-20T09:01:11.388424Z"
    }
   },
   "outputs": [
    {
     "data": {
      "text/plain": "<Figure size 1000x500 with 10 Axes>",
      "image/png": "[encoded data removed]"
     },
     "metadata": {},
     "output_type": "display_data"
    },
    {
     "data": {
      "text/plain": "array([5, 0, 4, 1, 9, 2, 1, 3, 1, 4], dtype=uint8)"
     },
     "execution_count": 5,
     "metadata": {},
     "output_type": "execute_result"
    }
   ],
   "source": [
    "# 오리지날 데이터 시각화\n",
    "import matplotlib.pyplot as plt\n",
    "\n",
    "plt.figure(figsize=(10, 5))\n",
    "for i in range(10):\n",
    "    plt.subplot(2, 5, i + 1)  # 서브 플롯을 설정한다.\n",
    "    plt.imshow(X_train[i].reshape((28, 28)), cmap='Greys')  # i번째 손글씨 데이터를 시각화 한다.\n",
    "    plt.axis(False)  # 축 레이블 감추기, plt.axis('off')\n",
    "plt.show()\n",
    "y_train[:10]"
   ]
  },
  {
   "cell_type": "code",
   "execution_count": 6,
   "id": "29eeb092",
   "metadata": {
    "ExecuteTime": {
     "start_time": "2023-04-20T09:01:11.387770Z",
     "end_time": "2023-04-20T09:01:11.391937Z"
    }
   },
   "outputs": [
    {
     "data": {
      "text/plain": "{0, 1, 2, 3, 4, 5, 6, 7, 8, 9}"
     },
     "execution_count": 6,
     "metadata": {},
     "output_type": "execute_result"
    }
   ],
   "source": [
    "# 타겟 클래스 확인\n",
    "# 타겟 데이터의 종류를 확인하면 손글씨를 어떤 형태로 구분하는지, 총 몇 가지 숫자를 구분하는지 알 수 있다.\n",
    "# 결과를 확인하니 mnist 데이터는 0 부터 9까지 숫자를 구분하는 데이터임을 알 수 있다.\n",
    "set(y_train)"
   ]
  },
  {
   "cell_type": "code",
   "execution_count": 7,
   "id": "aac9b5ae",
   "metadata": {
    "ExecuteTime": {
     "start_time": "2023-04-20T09:01:11.392601Z",
     "end_time": "2023-04-20T09:01:11.497787Z"
    }
   },
   "outputs": [
    {
     "name": "stdout",
     "output_type": "stream",
     "text": [
      "(60000, 28, 28, 1)\n",
      "(10000, 28, 28, 1)\n"
     ]
    }
   ],
   "source": [
    "# 피처 데이터 스케일 조정\n",
    "# 오리지널 데이터의 차원은 (이미지 개수, 행, 열) 형태의 3차원 형태로 표현했지만 합성곱 신경망에 데이터를 넣으려면\n",
    "# 4차원 형태의 (이미지 개수, 행, 열, 채널 수) 형태로 구성해야 한다.\n",
    "# 합성곱 신경망의 입력 데이터는 (이미지 개수, 행, 열, 채널 수) 형태로 구성된다. 이때, 채널이란 흔히 RGB로 구분되는\n",
    "# 것을 의미하는데, 만약 하나의 이미지 데이터를 R을 이용한 픽셀값, G을 이용한 필셀값, B를 이용한 픽셀값으로 나타낼 때,\n",
    "# 채널 수는 3이 된다. 하지만 딥러닝 분석에 사용되는 mnist 데이터는 채널 1개의 데이터이므로 채널 수는 1이 된다.\n",
    "# 이미지 변형은 reshape() 함수를 이용해 (이미지 개수, 행, 열, 채널 수) 형태로 변경한다.\n",
    "X_tn_re = X_train.reshape(60000, 28, 28, 1)  # 트레이닝 피쳐 데이터의 차원을 바꿔준다.\n",
    "X_tn = X_tn_re / 255  # 이미지 픽셀값은 0 ~ 255 사이에 있으므로 최대값이 1이 되도록 조정한다.\n",
    "print(X_tn.shape)\n",
    "X_te_re = X_test.reshape(10000, 28, 28, 1)  # 테스트 피쳐 데이터의 차원을 바꿔준다.\n",
    "X_te = X_te_re / 255\n",
    "print(X_te.shape)"
   ]
  },
  {
   "cell_type": "code",
   "execution_count": 8,
   "id": "53baca3e",
   "metadata": {
    "ExecuteTime": {
     "start_time": "2023-04-20T09:01:11.479564Z",
     "end_time": "2023-04-20T09:01:11.498057Z"
    }
   },
   "outputs": [],
   "source": [
    "# 타겟 데이터 원-핫 인코딩\n",
    "from keras.utils import to_categorical  # 원-핫 인코딩을 하기 위해 import 한다.\n",
    "\n",
    "y_tn = to_categorical(y_train)  # 트레이닝 타겟 데이터를 원-핫 인코딩한다.\n",
    "y_te = to_categorical(y_test)  # 테스트 타겟 데이터를 원-핫 인코딩한다."
   ]
  },
  {
   "cell_type": "code",
   "execution_count": 9,
   "id": "4bdd9ba5",
   "metadata": {
    "ExecuteTime": {
     "start_time": "2023-04-20T09:01:11.485089Z",
     "end_time": "2023-04-20T09:01:11.498139Z"
    }
   },
   "outputs": [],
   "source": [
    "# 합성곱 신경망 생성에 필요한 라이브러리 import\n",
    "from keras.models import Sequential  # 신경망 모형 생성을 하기 위해 import 한다.\n",
    "from keras.layers import Dense, Conv2D  # 신경망 모형에 layer를 추가하기 위해 import 한다.\n",
    "from keras.layers import MaxPool2D  # 신경망 모형에 맥스 풀링을 적용하기 위해 import 한다.\n",
    "from keras.layers import Flatten  # 신경망 모형을 최종 배열 형태로 만들기 위해 import 한다.\n",
    "from keras.layers import Dropout  # 신경망 모형에 Dropout을 적용하기 위해 import 한다.\n",
    "\n",
    "n_class = len(set(y_train))\n",
    "# print(n_class) # 10"
   ]
  },
  {
   "cell_type": "code",
   "execution_count": 10,
   "id": "5dd6b865",
   "metadata": {
    "ExecuteTime": {
     "start_time": "2023-04-20T09:01:11.491427Z",
     "end_time": "2023-04-20T09:01:11.634804Z"
    }
   },
   "outputs": [
    {
     "name": "stdout",
     "output_type": "stream",
     "text": [
      "Metal device set to: Apple M2\n",
      "Model: \"sequential\"\n",
      "_________________________________________________________________\n",
      " Layer (type)                Output Shape              Param #   \n",
      "=================================================================\n",
      " conv2d (Conv2D)             (None, 24, 24, 32)        832       \n",
      "                                                                 \n",
      " max_pooling2d (MaxPooling2D  (None, 12, 12, 32)       0         \n",
      " )                                                               \n",
      "                                                                 \n",
      " dropout (Dropout)           (None, 12, 12, 32)        0         \n",
      "                                                                 \n",
      " conv2d_1 (Conv2D)           (None, 10, 10, 32)        9248      \n",
      "                                                                 \n",
      " max_pooling2d_1 (MaxPooling  (None, 5, 5, 32)         0         \n",
      " 2D)                                                             \n",
      "                                                                 \n",
      " dropout_1 (Dropout)         (None, 5, 5, 32)          0         \n",
      "                                                                 \n",
      " flatten (Flatten)           (None, 800)               0         \n",
      "                                                                 \n",
      " dense (Dense)               (None, 1024)              820224    \n",
      "                                                                 \n",
      " dropout_2 (Dropout)         (None, 1024)              0         \n",
      "                                                                 \n",
      " dense_1 (Dense)             (None, 10)                10250     \n",
      "                                                                 \n",
      "=================================================================\n",
      "Total params: 840,554\n",
      "Trainable params: 840,554\n",
      "Non-trainable params: 0\n",
      "_________________________________________________________________\n"
     ]
    },
    {
     "name": "stderr",
     "output_type": "stream",
     "text": [
      "2023-04-20 09:01:11.491547: I tensorflow/core/common_runtime/pluggable_device/pluggable_device_factory.cc:305] Could not identify NUMA node of platform GPU ID 0, defaulting to 0. Your kernel may not have been built with NUMA support.\n",
      "2023-04-20 09:01:11.491644: I tensorflow/core/common_runtime/pluggable_device/pluggable_device_factory.cc:271] Created TensorFlow device (/job:localhost/replica:0/task:0/device:GPU:0 with 0 MB memory) -> physical PluggableDevice (device: 0, name: METAL, pci bus id: <undefined>)\n"
     ]
    }
   ],
   "source": [
    "# CNN 모형을 만든다.\n",
    "model = Sequential()\n",
    "# 입력층을 추가한다.\n",
    "# filters 옵션으로 출력 데이터 차원을 지정한다.\n",
    "# input_shape 옵션으로 입력 데이터의 차원을 지정한다.\n",
    "# kernel_size 옵션으로 커널 크기를 지정한다.\n",
    "# padding 옵션으로 패딩 방법을 지정한다. valid는 패딩을 하지 않겠다는 뜻이고 same은 패딩을 하겠다는 뜻이다.\n",
    "# activation 옵션으로 활성화 함수를 지정한다.\n",
    "model.add(Conv2D(filters=32, input_shape=(28, 28, 1), kernel_size=(5, 5), padding='valid', activation='relu'))\n",
    "# Conv2D의 output shape은 입력 데이터 차원 수 + 1 - 커널의 차원 수로 결정된다. 28 + 1 - 5 = 24, (None, 24, 24, 32)\n",
    "# Param은 kernel_size(5 * 5) * 입력 채널 크기(1) * filters(32) + filters마다 1개씩의 바이어스(32)로 결정된다.\n",
    "# 5 * 5 * 1 * 32 + 32 = 832\n",
    "# 맥스 풀링층을 추가한다.\n",
    "# pool_size 옵션으로 맥스 풀링 할 픽셀 크기를 지정한다.\n",
    "model.add(MaxPool2D(pool_size=(2, 2)))\n",
    "# MaxPool2D의 output shape은 입력 데이터 차원 수 / pool_size(2)로 결정된다. 24 / 2 => 12, (None, 12, 12, 32)\n",
    "# MaxPool2D은 Param이 없으므로 0이다.\n",
    "# Dropout() 함수의 인수로 사용하지 않을 노드의 비율을 지정해서 드롭 아웃층을 추가한다. \n",
    "model.add(Dropout(0.25))\n",
    "# Dropout은 output shape이 변경되지 않고 Param도 없다.\n",
    "# 은닉층을 추가한다.\n",
    "# 입력층의 출력이 히든층의 입력으로 들어오므로 input_shape 속성은 지정하지 않는다.\n",
    "model.add(Conv2D(filters=32, kernel_size=(3, 3), padding='valid', activation='relu'))\n",
    "# Conv2D의 output shape은 입력 데이터 차원 수 + 1 - 커널의 차원 수로 결정된다. 12 + 1 - 3 = 10, (None, 10, 10, 32)\n",
    "# Param은 kernel_size(3 * 3) * 입력 채널 크기(32) * filters(32) + filters마다 1개씩의 바이어스(32)로 결정된다.\n",
    "# 3 * 3 * 32 * 32 + 32 = 9248\n",
    "# 맥스 풀링층을 추가한다.\n",
    "model.add(MaxPool2D(pool_size=(2, 2)))\n",
    "# MaxPool2D의 output shape은 입력 데이터 차원 수 / pool_size(2)로 결정된다. 10 / 2 => 5, (None, 5, 5, 32)\n",
    "# MaxPool2D은 Param이 없으므로 0이다.\n",
    "# Dropout() 함수의 인수로 사용하지 않을 노드의 비율을 지정해서 드롭 아웃층을 추가한다. \n",
    "model.add(Dropout(0.25))\n",
    "# Dropout은 output shape이 변경되지 않고 Param도 없다.\n",
    "# 최종 출력층에서 소프트맥스 활성화 함수를 사용하기 위해서 벡터 형태로 펼쳐준다. => 1차원으로 만든다.\n",
    "model.add(Flatten())\n",
    "# Flatten()은 3차원 (5, 5, 32) 데이터를 벡터 형태로 펼쳐 주므로 5 * 5 * 32 = 800, (None, 800)\n",
    "# Flatten Param이 없으므로 0이다.\n",
    "# 최종 출력층을 추가한다.\n",
    "model.add(Dense(units=1024, activation='relu'))\n",
    "# Dense의 output shape은 units의 크기로 결정된다. (None, 1024)\n",
    "# Param은 (입력 크기(800) + 바이어스(1)) * 출력 크기(1024)로 결정된다. (800 + 1) * 1024 = 820224\n",
    "# Dropout() 함수의 인수로 사용하지 않을 노드의 비율을 지정해서 드롭 아웃층을 추가한다. \n",
    "model.add(Dropout(0.5))\n",
    "# Dropout은 output shape이 변경되지 않고 Param도 없다.\n",
    "# 활성화 함수로 소프트맥스를 설정한 후 최종 출력층을 구해준다.\n",
    "model.add(Dense(units=n_class, activation='softmax'))\n",
    "# Dense의 output shape은 units의 크기로 결정된다. (None, 10)\n",
    "# Param은 (입력 크기(1024) + 바이어스(1)) * 출력 크기(n_class(10))로 결정된다. (1024 + 1) * 10 = 10250\n",
    "model.summary()"
   ]
  },
  {
   "cell_type": "code",
   "execution_count": 11,
   "id": "6d67e5dd",
   "metadata": {
    "ExecuteTime": {
     "start_time": "2023-04-20T09:01:11.639276Z",
     "end_time": "2023-04-20T09:01:11.645910Z"
    }
   },
   "outputs": [],
   "source": [
    "# 모형 컴파일\n",
    "# 다중 분류 작업이므로 손실 함수는 categorical_crossentropy를 최적화 함수는 adam을 모델의 성능 평가는 accurcay를\n",
    "# 사용한다.\n",
    "model.compile(loss='categorical_crossentropy', optimizer='adam', metrics=['accuracy'])"
   ]
  },
  {
   "cell_type": "code",
   "execution_count": 12,
   "id": "08753287",
   "metadata": {
    "scrolled": true,
    "ExecuteTime": {
     "start_time": "2023-04-20T09:01:11.644770Z",
     "end_time": "2023-04-20T09:02:17.831953Z"
    }
   },
   "outputs": [
    {
     "name": "stdout",
     "output_type": "stream",
     "text": [
      "Epoch 1/10\n"
     ]
    },
    {
     "name": "stderr",
     "output_type": "stream",
     "text": [
      "2023-04-20 09:01:11.823077: W tensorflow/core/platform/profile_utils/cpu_utils.cc:128] Failed to get CPU frequency: 0 Hz\n",
      "2023-04-20 09:01:12.021154: I tensorflow/core/grappler/optimizers/custom_graph_optimizer_registry.cc:113] Plugin optimizer for device_type GPU is enabled.\n"
     ]
    },
    {
     "name": "stdout",
     "output_type": "stream",
     "text": [
      "600/600 [==============================] - 7s 11ms/step - loss: 0.2181 - accuracy: 0.9328\n",
      "Epoch 2/10\n",
      "600/600 [==============================] - 7s 11ms/step - loss: 0.0691 - accuracy: 0.9780\n",
      "Epoch 3/10\n",
      "600/600 [==============================] - 7s 11ms/step - loss: 0.0510 - accuracy: 0.9839\n",
      "Epoch 4/10\n",
      "600/600 [==============================] - 6s 10ms/step - loss: 0.0436 - accuracy: 0.9865\n",
      "Epoch 5/10\n",
      "600/600 [==============================] - 7s 11ms/step - loss: 0.0376 - accuracy: 0.9877\n",
      "Epoch 6/10\n",
      "600/600 [==============================] - 7s 11ms/step - loss: 0.0339 - accuracy: 0.9890\n",
      "Epoch 7/10\n",
      "600/600 [==============================] - 7s 11ms/step - loss: 0.0294 - accuracy: 0.9903\n",
      "Epoch 8/10\n",
      "600/600 [==============================] - 7s 11ms/step - loss: 0.0266 - accuracy: 0.9913\n",
      "Epoch 9/10\n",
      "600/600 [==============================] - 7s 11ms/step - loss: 0.0258 - accuracy: 0.9918\n",
      "Epoch 10/10\n",
      "600/600 [==============================] - 6s 11ms/step - loss: 0.0238 - accuracy: 0.9921\n"
     ]
    }
   ],
   "source": [
    "# 모형 학습\n",
    "# 트레이닝 데이터 X_tn을 사용해 배치 사이즈 100으로 설정해 학습한다. => epoch가 커질 수록 정확도가 올라간다.\n",
    "hist = model.fit(X_tn, y_tn, epochs=10, batch_size=100)"
   ]
  },
  {
   "cell_type": "code",
   "execution_count": 13,
   "id": "246232a3",
   "metadata": {
    "ExecuteTime": {
     "start_time": "2023-04-20T09:02:17.832113Z",
     "end_time": "2023-04-20T09:02:30.260381Z"
    }
   },
   "outputs": [
    {
     "name": "stdout",
     "output_type": "stream",
     "text": [
      "  19/1875 [..............................] - ETA: 10s - loss: 0.0053 - accuracy: 0.9984"
     ]
    },
    {
     "name": "stderr",
     "output_type": "stream",
     "text": [
      "2023-04-20 09:02:18.051009: I tensorflow/core/grappler/optimizers/custom_graph_optimizer_registry.cc:113] Plugin optimizer for device_type GPU is enabled.\n"
     ]
    },
    {
     "name": "stdout",
     "output_type": "stream",
     "text": [
      "1875/1875 [==============================] - 10s 5ms/step - loss: 0.0089 - accuracy: 0.9973\n",
      "[0.008939485996961594, 0.9973166584968567]\n",
      " 18/313 [>.............................] - ETA: 1s - loss: 0.0170 - accuracy: 0.9931"
     ]
    },
    {
     "name": "stderr",
     "output_type": "stream",
     "text": [
      "2023-04-20 09:02:28.366524: I tensorflow/core/grappler/optimizers/custom_graph_optimizer_registry.cc:113] Plugin optimizer for device_type GPU is enabled.\n"
     ]
    },
    {
     "name": "stdout",
     "output_type": "stream",
     "text": [
      "313/313 [==============================] - 2s 6ms/step - loss: 0.0216 - accuracy: 0.9929\n",
      "[0.021621935069561005, 0.992900013923645]\n"
     ]
    }
   ],
   "source": [
    "# 모델 평가\n",
    "print(model.evaluate(X_tn, y_tn))\n",
    "print(model.evaluate(X_te, y_te))"
   ]
  },
  {
   "cell_type": "code",
   "execution_count": 14,
   "id": "d637a5bc",
   "metadata": {
    "ExecuteTime": {
     "start_time": "2023-04-20T09:02:30.263630Z",
     "end_time": "2023-04-20T09:02:30.966252Z"
    }
   },
   "outputs": [
    {
     "name": "stdout",
     "output_type": "stream",
     "text": [
      " 84/313 [=======>......................] - ETA: 0s"
     ]
    },
    {
     "name": "stderr",
     "output_type": "stream",
     "text": [
      "2023-04-20 09:02:30.317768: I tensorflow/core/grappler/optimizers/custom_graph_optimizer_registry.cc:113] Plugin optimizer for device_type GPU is enabled.\n"
     ]
    },
    {
     "name": "stdout",
     "output_type": "stream",
     "text": [
      "313/313 [==============================] - 1s 2ms/step\n",
      "7\n",
      "[0. 0. 0. 0. 0. 0. 0. 1. 0. 0.]\n",
      "[3.5101075e-13 1.3301228e-10 3.3641774e-09 2.5925093e-09 1.9867339e-09\n",
      " 2.3602387e-11 1.9949449e-15 1.0000000e+00 8.5342775e-11 1.5607988e-08]\n"
     ]
    }
   ],
   "source": [
    "# 학습한 모델로 예측\n",
    "y_pred_hot = model.predict(X_te)  # 테스트 피쳐 데이터로 예측값을 계산한다.\n",
    "print(y_test[0])  # 테스트 타겟 데이터\n",
    "print(y_te[0])  # 테스트 타겟 데이터를 원-핫 인코딩한 결과\n",
    "print(y_pred_hot[0])  # 테스트 피처 데이터를 학습한 모델로 예측한 결과를 원-핫 인코딩 결과"
   ]
  },
  {
   "cell_type": "code",
   "execution_count": 15,
   "id": "e116af9d",
   "metadata": {
    "ExecuteTime": {
     "start_time": "2023-04-20T09:02:30.966727Z",
     "end_time": "2023-04-20T09:02:30.969547Z"
    }
   },
   "outputs": [
    {
     "data": {
      "text/plain": "array([7, 2, 1, ..., 4, 5, 6])"
     },
     "execution_count": 15,
     "metadata": {},
     "output_type": "execute_result"
    }
   ],
   "source": [
    "# 실제값과 예측값의 동일 여부를 확인하기 위해 넘파이 라이브러리를 이용해 예측값을 원-핫 인코딩 형태가 아닌 원본\n",
    "# 숫자로 변환한다.\n",
    "import numpy as np\n",
    "\n",
    "# argmax() 함수를 사용하면 원-핫 인코딩된 값을 원래 숫자로 바꿀 수 있다.\n",
    "y_pred = np.argmax(y_pred_hot, axis=1)\n",
    "y_pred  # 결과를 확인해 보면 원래 숫자 형태로 돌아온 것을 확인할 수 있다."
   ]
  },
  {
   "cell_type": "code",
   "execution_count": 16,
   "id": "e1140462",
   "metadata": {
    "ExecuteTime": {
     "start_time": "2023-04-20T09:02:30.970365Z",
     "end_time": "2023-04-20T09:02:30.973357Z"
    }
   },
   "outputs": [
    {
     "name": "stdout",
     "output_type": "stream",
     "text": [
      "71\n",
      "[321, 340, 435, 445, 582, 625, 659, 691, 716, 740, 947, 1014, 1242, 1247, 1393, 1459, 1522, 1681, 1709, 1790, 1878, 1901, 2035, 2118, 2130, 2135, 2182, 2447, 2597, 2654, 2771, 2896, 2927, 2939, 3073, 3422, 3475, 3520, 3558, 3727, 4007, 4176, 4289, 4360, 4369, 4639, 4740, 4823, 4860, 5201, 5265, 5450, 5634, 5937, 6555, 6576, 6597, 6783, 6847, 7928, 8094, 8311, 8408, 8527, 9642, 9664, 9692, 9729, 9770, 9792, 9839]\n"
     ]
    }
   ],
   "source": [
    "# 오답 데이터 확인\n",
    "diff = y_test - y_pred  # 실제값과 예측값의 차이를 계산한다.\n",
    "diff_index = []  # 몇 번째 테스트 데이터가 다르게 예측되었는지 인덱스를 저장할 빈 리스트를 생성한다.\n",
    "for i in range(len(y_test)):  # 테스트 타겟 데이터의 개수만큼 반복한다.\n",
    "    if diff[i] != 0:  # 실제값과 예측값이 다른가?\n",
    "        diff_index.append(i)  # 실제값과 예측값이 다른 데이터의 인덱스를 diff_index 리스트에 추가한다.\n",
    "print(len(diff_index))\n",
    "print(diff_index)"
   ]
  },
  {
   "cell_type": "code",
   "execution_count": 17,
   "id": "732ff4e0",
   "metadata": {
    "scrolled": false,
    "ExecuteTime": {
     "start_time": "2023-04-20T09:02:30.977360Z",
     "end_time": "2023-04-20T09:02:31.062622Z"
    }
   },
   "outputs": [
    {
     "data": {
      "text/plain": "<Figure size 1000x500 with 10 Axes>",
      "image/png": "[encoded data removed]"
     },
     "metadata": {},
     "output_type": "display_data"
    },
    {
     "name": "stdout",
     "output_type": "stream",
     "text": [
      "2 5 8 6 8 6 2 8 1 4 \n",
      "7 3 9 0 2 4 7 4 7 9 "
     ]
    }
   ],
   "source": [
    "# 오답 데이터 시각화\n",
    "plt.figure(figsize=(10, 5))\n",
    "for i in range(10):\n",
    "    plt.subplot(2, 5, i + 1)\n",
    "    plt.imshow(X_test[diff_index[i]].reshape((28, 28)), cmap='Greys')\n",
    "    plt.axis(False)\n",
    "plt.show()\n",
    "for i in range(10):\n",
    "    print(y_test[diff_index[i]], end=' ')\n",
    "print()\n",
    "for i in range(10):\n",
    "    print(y_pred[diff_index[i]], end=' ')"
   ]
  },
  {
   "cell_type": "code",
   "execution_count": 17,
   "id": "9fbe1533",
   "metadata": {
    "ExecuteTime": {
     "start_time": "2023-04-20T09:02:31.063070Z",
     "end_time": "2023-04-20T09:02:31.064312Z"
    }
   },
   "outputs": [],
   "source": []
  }
 ],
 "metadata": {
  "kernelspec": {
   "name": "python3",
   "language": "python",
   "display_name": "Python 3 (ipykernel)"
  },
  "language_info": {
   "codemirror_mode": {
    "name": "ipython",
    "version": 3
   },
   "file_extension": ".py",
   "mimetype": "text/x-python",
   "name": "python",
   "nbconvert_exporter": "python",
   "pygments_lexer": "ipython3",
   "version": "3.6.13"
  }
 },
 "nbformat": 4,
 "nbformat_minor": 5
}
