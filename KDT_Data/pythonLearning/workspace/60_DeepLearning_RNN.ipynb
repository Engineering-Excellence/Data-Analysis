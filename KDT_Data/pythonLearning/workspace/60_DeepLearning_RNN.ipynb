{
 "cells": [
  {
   "cell_type": "code",
   "execution_count": 1,
   "metadata": {
    "collapsed": true,
    "ExecuteTime": {
     "start_time": "2023-04-21T17:18:30.255015Z",
     "end_time": "2023-04-21T17:18:30.262113Z"
    }
   },
   "outputs": [],
   "source": [
    "%config Completer.use_jedi = False\n",
    "import warnings\n",
    "\n",
    "warnings.filterwarnings(action='ignore')"
   ]
  },
  {
   "cell_type": "markdown",
   "source": [
    "# 순환 신경망(Recurrent Neural Network, RNN)\n",
    "\n",
    "순환 신경망은 시퀀스(sequence) 데이터를 사용한다.\n",
    "시퀀스 데이터는 다른 말로 시계열(time serise) 데이터라고도 말하며, 시점에 따라 데이터가 달라지는 것을 의미한다. 즉, 특정 시점에서 데이터를 한 번에 수집하는 것이 아닌 시간의 흐름에 따라 데이터를 점차 수집하는 것을 의미한다.\n",
    "전체 데이터셋을 구성하는 각 데이터 포인트의 수집 시점이 다른다.\n",
    "\n",
    "지금까지 다룬 신경망은 입력 데이터를 사용한 후 그 결과가 다시 입력층으로 돌아가지 않았다. 즉, 한 번 출력된 결과는 다시 사용되지 않았다. 이를 피드포워드(feedforward) 신경망이라 한다. 반면에 순환 신경망은 출력된 결과가 다음 시점에 사용된다. 즉, 출력 결과를 다음 시점까지 기억했다가 사용하는 방법이다.\n",
    "<br/>\n",
    "<img src=\"./images/rnn_1.png\" width=\"1000\"/>"
   ],
   "metadata": {
    "collapsed": false
   }
  },
  {
   "cell_type": "markdown",
   "source": [
    "# LSTM(Long Short Merm Memory)\n",
    "\n",
    "순환 신경망은 은닉층을 거친 결과값을 재사용한다는 특징이 있다. 그러나 그로 인해서 그래디언트 소실(vanishing gradient problem, 기울기 소멸 문제)이나 그래디언트 폭주 문제(exploding gradient problem, 기울기 폭주 문제)가 발생할 수 있다. 그래디언트 소실 문제는 학습이 진행되는 과정에서 그래디언트가 점점 줄어들어 사라지는 현상을 의미하고 그래디언트 폭주 문제는 학습 과정에서 그래디언트가 점점 커져서 폭주하는 현상을 말한다.\n",
    "\n",
    "LSTM은 그래디언트 폭주나 소실 문제를 해결하기 위해만든 방법이다. LSTM 에서는 결과값이 다음 시점으로 넘어갈 때 결과값을 넘길지 넘기지 말지 결정하는 단계가 추가된다.\n",
    "<br/>\n",
    "<img src=\"./images/rnn_2.png\" width=\"1000\"/>"
   ],
   "metadata": {
    "collapsed": false
   }
  },
  {
   "cell_type": "markdown",
   "source": [
    "순환 신경망 실습\n",
    "순환 신경망을 이용해 영화 리뷰 감성 분석을 해본다."
   ],
   "metadata": {
    "collapsed": false
   }
  },
  {
   "cell_type": "code",
   "execution_count": 2,
   "outputs": [],
   "source": [
    "# 동일한 결과를 보기 위해 랜덤 시드를 설정한다.\n",
    "import numpy as np\n",
    "import tensorflow as tf\n",
    "\n",
    "np.random.seed(0)\n",
    "tf.random.set_seed(0)"
   ],
   "metadata": {
    "collapsed": false,
    "ExecuteTime": {
     "start_time": "2023-04-21T17:18:30.263753Z",
     "end_time": "2023-04-21T17:18:32.987814Z"
    }
   }
  },
  {
   "cell_type": "markdown",
   "source": [
    "IMDB Movie Review Sentiment Analysis\n",
    "감성 분류를 연습하기 위해 자주 사용하는 영어 데이터로 영화 사이트 IMBD 리뷰 데이터가 있다.\n",
    "이 데이터는 리뷰에 대한 텍스트와 리뷰가 긍정인 경우 1을 부정인 경우 0으로 표시한 레이블로 구성된 데이터로 스탠포드 대학교에서 2011년에 낸 논문에서 이 데이터를 소개하였으며, 당시 논문에서는 이 데이터를 훈련 데이터와 테스트 데이터를 50:50 비율로 분할하여 88.89%의 정확도를 얻었다고 소개하고 있다."
   ],
   "metadata": {
    "collapsed": false
   }
  },
  {
   "cell_type": "code",
   "execution_count": 3,
   "outputs": [],
   "source": [
    "# 데이터 불러오기\n",
    "from keras.datasets import imdb # imdb 영화 리뷰 데이터를 불러오기 위해 import 한다.\n",
    "\n",
    "# num_words 옵션을 사용해서 이 데이터에서 등장 빈도 순위로 몇 등까지의 단어를 사용할 것인지 지정한다.\n",
    "# 예를 들어서 10,000을 넣으면, 등장 빈도 순위가 1 ~ 10,000에 해당하는 단어만 사용하게 된다.\n",
    "(X_train, y_train), (X_test, y_test) = imdb.load_data(num_words=2000)  # imdb 영화 리뷰 데이터셋을 불러온다."
   ],
   "metadata": {
    "collapsed": false,
    "ExecuteTime": {
     "start_time": "2023-04-21T17:18:32.987693Z",
     "end_time": "2023-04-21T17:18:34.473928Z"
    }
   }
  },
  {
   "cell_type": "code",
   "execution_count": 4,
   "outputs": [
    {
     "name": "stdout",
     "output_type": "stream",
     "text": [
      "(25000,)\n",
      "(25000,)\n",
      "(25000,)\n",
      "(25000,)\n"
     ]
    }
   ],
   "source": [
    "# 오리지널 데이터 차원 확인\n",
    "# 트레이닝 피쳐 데이터, 트레이닝 테스트 데이터 모두 25,000개의 벡터 데이터로 구성되어 있음을 알 수 있다.\n",
    "print(X_train.shape)\n",
    "print(y_train.shape)\n",
    "print(X_test.shape)\n",
    "print(y_test.shape)"
   ],
   "metadata": {
    "collapsed": false,
    "ExecuteTime": {
     "start_time": "2023-04-21T17:18:34.474418Z",
     "end_time": "2023-04-21T17:18:34.477043Z"
    }
   }
  },
  {
   "cell_type": "code",
   "execution_count": 5,
   "outputs": [
    {
     "name": "stdout",
     "output_type": "stream",
     "text": [
      "(20000,) (5000,)\n",
      "(20000,) (5000,)\n"
     ]
    }
   ],
   "source": [
    "# 트레이닝/밸리데이션 셋 분리\n",
    "# 총 25,000개의 트레이닝 피쳐 데이터 중 20,000개의 데이터를 트레이닝 피쳐 데이터로 지정한다.\n",
    "X_tr = X_train[:20000]\n",
    "# 총 25,000개의 트레이닝 피처 데이터 중에서 피쳐 데이터 20,000개를 제외하고 남은 5,000개의 트레이닝 피쳐 데이터를\n",
    "# 밸리데이션 피쳐 데이터로 지정한다.\n",
    "X_valid = X_train[20000:]\n",
    "print(X_tr.shape, X_valid.shape)\n",
    "# 총 25,000개의 트레이닝 타겟 데이터 중 20,000개의 데이터를 트레이닝 타겟 데이터로 지정한다.\n",
    "y_tr = y_train[:20000]\n",
    "# 총 25,000개의 트레이닝 타겟 데이터 중에서 피쳐 데이터 20,000개를 제외하고 남은 5,000개의 트레이닝 피쳐 데이터를\n",
    "# 밸리데이션 타겟 데이터로 지정한다.\n",
    "y_valid = y_train[20000:]\n",
    "print(y_tr.shape, y_valid.shape)"
   ],
   "metadata": {
    "collapsed": false,
    "ExecuteTime": {
     "start_time": "2023-04-21T17:18:34.478020Z",
     "end_time": "2023-04-21T17:18:34.479657Z"
    }
   }
  },
  {
   "cell_type": "code",
   "execution_count": 6,
   "outputs": [
    {
     "data": {
      "text/plain": "[1,\n 14,\n 22,\n 16,\n 43,\n 530,\n 973,\n 1622,\n 1385,\n 65,\n 458,\n 2,\n 66,\n 2,\n 4,\n 173,\n 36,\n 256,\n 5,\n 25,\n 100,\n 43,\n 838,\n 112,\n 50,\n 670,\n 2,\n 9,\n 35,\n 480,\n 284,\n 5,\n 150,\n 4,\n 172,\n 112,\n 167,\n 2,\n 336,\n 385,\n 39,\n 4,\n 172,\n 2,\n 1111,\n 17,\n 546,\n 38,\n 13,\n 447,\n 4,\n 192,\n 50,\n 16,\n 6,\n 147,\n 2,\n 19,\n 14,\n 22,\n 4,\n 1920,\n 2,\n 469,\n 4,\n 22,\n 71,\n 87,\n 12,\n 16,\n 43,\n 530,\n 38,\n 76,\n 15,\n 13,\n 1247,\n 4,\n 22,\n 17,\n 515,\n 17,\n 12,\n 16,\n 626,\n 18,\n 2,\n 5,\n 62,\n 386,\n 12,\n 8,\n 316,\n 8,\n 106,\n 5,\n 4,\n 2,\n 2,\n 16,\n 480,\n 66,\n 2,\n 33,\n 4,\n 130,\n 12,\n 16,\n 38,\n 619,\n 5,\n 25,\n 124,\n 51,\n 36,\n 135,\n 48,\n 25,\n 1415,\n 33,\n 6,\n 22,\n 12,\n 215,\n 28,\n 77,\n 52,\n 5,\n 14,\n 407,\n 16,\n 82,\n 2,\n 8,\n 4,\n 107,\n 117,\n 2,\n 15,\n 256,\n 4,\n 2,\n 7,\n 2,\n 5,\n 723,\n 36,\n 71,\n 43,\n 530,\n 476,\n 26,\n 400,\n 317,\n 46,\n 7,\n 4,\n 2,\n 1029,\n 13,\n 104,\n 88,\n 4,\n 381,\n 15,\n 297,\n 98,\n 32,\n 2,\n 56,\n 26,\n 141,\n 6,\n 194,\n 2,\n 18,\n 4,\n 226,\n 22,\n 21,\n 134,\n 476,\n 26,\n 480,\n 5,\n 144,\n 30,\n 2,\n 18,\n 51,\n 36,\n 28,\n 224,\n 92,\n 25,\n 104,\n 4,\n 226,\n 65,\n 16,\n 38,\n 1334,\n 88,\n 12,\n 16,\n 283,\n 5,\n 16,\n 2,\n 113,\n 103,\n 32,\n 15,\n 16,\n 2,\n 19,\n 178,\n 32]"
     },
     "execution_count": 6,
     "metadata": {},
     "output_type": "execute_result"
    }
   ],
   "source": [
    "# 피쳐 데이터 형태 확인\n",
    "# 트레이닝 피쳐 데이터 값을 확인해보면 숫자로 이루어진 리스트라는 것을 볼 수 있다.\n",
    "# 이는 오리지널 데이터에 이미 단어를 숫자 매핑해 놓아 영어 단어가 해당하는 숫자로 변환된 것임을 알 수 있다.\n",
    "X_tr[0]"
   ],
   "metadata": {
    "collapsed": false,
    "ExecuteTime": {
     "start_time": "2023-04-21T17:18:34.481770Z",
     "end_time": "2023-04-21T17:18:34.483372Z"
    }
   }
  },
  {
   "cell_type": "code",
   "execution_count": 7,
   "outputs": [
    {
     "name": "stdout",
     "output_type": "stream",
     "text": [
      "218\n",
      "189\n"
     ]
    }
   ],
   "source": [
    "# 개별 피쳐 데이터 크기 확인\n",
    "# 피쳐 데이터의 가장 처음 나오는 두 개의 피쳐값을 확인해 본 결과 문장의 길이가 다르다는 것을 의미하며 나중에 같은\n",
    "# 크기로 조정이 필요한다.\n",
    "print(len(X_tr[0]))\n",
    "print(len(X_tr[1]))"
   ],
   "metadata": {
    "collapsed": false,
    "ExecuteTime": {
     "start_time": "2023-04-21T17:18:34.483968Z",
     "end_time": "2023-04-21T17:18:34.485432Z"
    }
   }
  },
  {
   "cell_type": "code",
   "execution_count": 8,
   "outputs": [
    {
     "name": "stdout",
     "output_type": "stream",
     "text": [
      "{0, 1}\n",
      "2\n"
     ]
    }
   ],
   "source": [
    "# 타겟 클래스 확인\n",
    "print(set(y_test))  # 타겟 클래스는 0과 1로 이루어진 이진 분류 문제임을 알 수 있다.\n",
    "print(len(set(y_test)))  # 클래스 구분은 2개로 구분되는 것을 알 수 있다."
   ],
   "metadata": {
    "collapsed": false,
    "ExecuteTime": {
     "start_time": "2023-04-21T17:18:34.487909Z",
     "end_time": "2023-04-21T17:18:34.489663Z"
    }
   }
  },
  {
   "cell_type": "code",
   "execution_count": 9,
   "outputs": [
    {
     "name": "stdout",
     "output_type": "stream",
     "text": [
      "(20000, 100)\n",
      "(5000, 100)\n",
      "(25000, 100)\n"
     ]
    }
   ],
   "source": [
    "# 피쳐 데이터 변형, 제각기 다른 피쳐 데이터 값의 길이를 일치시킨다.\n",
    "from keras import utils  # 데이터의 길이를 맞추기 위해 import 한다.\n",
    "\n",
    "# 트레이닝 피쳐 데이터에 대해 pad_sequences() 함수로 maxlen 옵션을 지정해서 길이를 바꿀 수 있다.\n",
    "# maxlen=100으로 지정하면 단어의 개수가 100개를 넘는 데이터는 100개까지만 저장되고 나머지는 삭제되며 100개가 되지않는\n",
    "# 데이터는 모자라는 부분은 0으로 채워진다.\n",
    "X_tr = utils.pad_sequences(X_tr, maxlen=100)\n",
    "print(X_tr.shape)  # 차원을 확인해보면 길이가 100임을 알 수 있다.\n",
    "X_valid = utils.pad_sequences(X_valid, maxlen=100)\n",
    "print(X_valid.shape)\n",
    "X_test = utils.pad_sequences(X_test, maxlen=100)\n",
    "print(X_test.shape)"
   ],
   "metadata": {
    "collapsed": false,
    "ExecuteTime": {
     "start_time": "2023-04-21T17:18:34.491652Z",
     "end_time": "2023-04-21T17:18:34.660442Z"
    }
   }
  },
  {
   "cell_type": "code",
   "execution_count": 10,
   "outputs": [],
   "source": [
    "# LSTM 신경망 생성에 필요한 라이브러리 import\n",
    "from keras.models import Sequential  # 신경망 모형 생성을 하기 위해 import 한다.\n",
    "# 각종 층을 쌓기 위해 필요한 모듈을 import 한다.\n",
    "from keras.layers import Dense, LSTM, Embedding, Dropout, Conv1D, MaxPooling1D"
   ],
   "metadata": {
    "collapsed": false,
    "ExecuteTime": {
     "start_time": "2023-04-21T17:18:34.660731Z",
     "end_time": "2023-04-21T17:18:34.662231Z"
    }
   }
  },
  {
   "cell_type": "code",
   "execution_count": 11,
   "outputs": [
    {
     "name": "stdout",
     "output_type": "stream",
     "text": [
      "Metal device set to: Apple M2\n"
     ]
    },
    {
     "name": "stderr",
     "output_type": "stream",
     "text": [
      "2023-04-21 17:18:34.665496: I tensorflow/core/common_runtime/pluggable_device/pluggable_device_factory.cc:305] Could not identify NUMA node of platform GPU ID 0, defaulting to 0. Your kernel may not have been built with NUMA support.\n",
      "2023-04-21 17:18:34.665587: I tensorflow/core/common_runtime/pluggable_device/pluggable_device_factory.cc:271] Created TensorFlow device (/job:localhost/replica:0/task:0/device:GPU:0 with 0 MB memory) -> physical PluggableDevice (device: 0, name: METAL, pci bus id: <undefined>)\n"
     ]
    },
    {
     "name": "stdout",
     "output_type": "stream",
     "text": [
      "Model: \"sequential\"\n",
      "_________________________________________________________________\n",
      " Layer (type)                Output Shape              Param #   \n",
      "=================================================================\n",
      " embedding (Embedding)       (None, None, 100)         200000    \n",
      "                                                                 \n",
      " conv1d (Conv1D)             (None, None, 50)          15050     \n",
      "                                                                 \n",
      " max_pooling1d (MaxPooling1D  (None, None, 50)         0         \n",
      " )                                                               \n",
      "                                                                 \n",
      " lstm (LSTM)                 (None, 100)               60400     \n",
      "                                                                 \n",
      " dropout (Dropout)           (None, 100)               0         \n",
      "                                                                 \n",
      " dense (Dense)               (None, 1)                 101       \n",
      "                                                                 \n",
      "=================================================================\n",
      "Total params: 275,551\n",
      "Trainable params: 275,551\n",
      "Non-trainable params: 0\n",
      "_________________________________________________________________\n"
     ]
    }
   ],
   "source": [
    "# LSTM 모형을 만든다.\n",
    "model = Sequential()\n",
    "# 임베딩이란 사람이 쓰는 자연어를 기계가 이해할 수 있는 숫자의 나열인 벡터로 바꾼 결과 혹은 과정 전체를 의미한다.\n",
    "# 임베딩이 가장 간단한 형태는 단어의 빈도를 그대로 벡터로 사용하는 것이다.\n",
    "# 총 2,000개의 단어를 사용하므로 input_dim 옵션은 2,000을 지정하고 데이터 길이는 pad_sequences() 함수를 사용해\n",
    "# 100개로 맞췄으므로 output_dim 옵션은 100을 지정한다.\n",
    "model.add(Embedding(input_dim=2000, output_dim=100))  # 단어 임베딩 층을 추가한다.\n",
    "# Param은 input_dim * output_dim = 2000 * 100 => 200000\n",
    "# CNN은 2차원 데이터를 이용하서 Conv2D를 사용했지만 LSTM은 1차원 데이터가 입력되므로 Conv1D를 사용한다.\n",
    "model.add(Conv1D(filters=50, kernel_size=3, padding='valid', activation='relu'))  # 합성곱 층을 추가한다.\n",
    "# Param은 커널 크기(3) * 입력 채널 수(100) * 필터 수(50) + 출력 채널 바이어스(50) = 3 * 100 * 50 + 50 = 15050\n",
    "model.add(MaxPooling1D(pool_size=3))  # 맥스 풀링 층을 추가한다.\n",
    "model.add(LSTM(units=100, activation='tanh'))  # LSTM 층을 추가한다. LSTM 층은 4개이다.\n",
    "# Param은 (출력 개수(100) + 입력 개수(50) + 바이어스(1)) * 출력 개수(100) * 4 = (100 + 50 + 1) * 100 * 4\n",
    "# = 151 * 100 * 4 = 60400\n",
    "model.add(Dropout(0.25))  # 드롭아웃 층을 추가한다.\n",
    "model.add(Dense(1, activation='sigmoid'))  # 최종 출력층을 추가해주면 순환 신경망이 완성된다.\n",
    "# # Param은 입력 개수(100) * 출력 개수(1) + 출력 개수와 같은 바이어스(1) = 100 * 1 + 1 = 101\n",
    "model.summary()"
   ],
   "metadata": {
    "collapsed": false,
    "ExecuteTime": {
     "start_time": "2023-04-21T17:18:34.664158Z",
     "end_time": "2023-04-21T17:18:34.974435Z"
    }
   }
  },
  {
   "cell_type": "code",
   "execution_count": 12,
   "outputs": [],
   "source": [
    "# 모형 컴파일\n",
    "# 이진 분류 문제이므로 binary_crossentropy를 사용한다.\n",
    "model.compile(loss='binary_crossentropy', optimizer='adam', metrics=['accuracy'])"
   ],
   "metadata": {
    "collapsed": false,
    "ExecuteTime": {
     "start_time": "2023-04-21T17:18:34.976847Z",
     "end_time": "2023-04-21T17:18:34.981164Z"
    }
   }
  },
  {
   "cell_type": "code",
   "execution_count": 13,
   "outputs": [
    {
     "name": "stdout",
     "output_type": "stream",
     "text": [
      "Epoch 1/10\n"
     ]
    },
    {
     "name": "stderr",
     "output_type": "stream",
     "text": [
      "2023-04-21 17:18:34.997409: W tensorflow/core/platform/profile_utils/cpu_utils.cc:128] Failed to get CPU frequency: 0 Hz\n",
      "2023-04-21 17:18:35.482865: I tensorflow/core/grappler/optimizers/custom_graph_optimizer_registry.cc:113] Plugin optimizer for device_type GPU is enabled.\n",
      "2023-04-21 17:18:35.606028: I tensorflow/core/grappler/optimizers/custom_graph_optimizer_registry.cc:113] Plugin optimizer for device_type GPU is enabled.\n",
      "2023-04-21 17:18:35.807063: I tensorflow/core/grappler/optimizers/custom_graph_optimizer_registry.cc:113] Plugin optimizer for device_type GPU is enabled.\n"
     ]
    },
    {
     "name": "stdout",
     "output_type": "stream",
     "text": [
      "198/200 [============================>.] - ETA: 0s - loss: 0.4795 - accuracy: 0.7554"
     ]
    },
    {
     "name": "stderr",
     "output_type": "stream",
     "text": [
      "2023-04-21 17:18:40.755887: I tensorflow/core/grappler/optimizers/custom_graph_optimizer_registry.cc:113] Plugin optimizer for device_type GPU is enabled.\n",
      "2023-04-21 17:18:40.810742: I tensorflow/core/grappler/optimizers/custom_graph_optimizer_registry.cc:113] Plugin optimizer for device_type GPU is enabled.\n"
     ]
    },
    {
     "name": "stdout",
     "output_type": "stream",
     "text": [
      "200/200 [==============================] - 6s 26ms/step - loss: 0.4797 - accuracy: 0.7552 - val_loss: 0.3854 - val_accuracy: 0.8266\n",
      "Epoch 2/10\n",
      "200/200 [==============================] - 4s 20ms/step - loss: 0.3427 - accuracy: 0.8539 - val_loss: 0.3736 - val_accuracy: 0.8290\n",
      "Epoch 3/10\n",
      "200/200 [==============================] - 4s 21ms/step - loss: 0.3016 - accuracy: 0.8752 - val_loss: 0.3733 - val_accuracy: 0.8340\n",
      "Epoch 4/10\n",
      "200/200 [==============================] - 4s 21ms/step - loss: 0.2610 - accuracy: 0.8955 - val_loss: 0.3904 - val_accuracy: 0.8280\n",
      "Epoch 5/10\n",
      "200/200 [==============================] - 4s 20ms/step - loss: 0.2084 - accuracy: 0.9208 - val_loss: 0.4498 - val_accuracy: 0.8204\n",
      "Epoch 6/10\n",
      "200/200 [==============================] - 4s 21ms/step - loss: 0.1460 - accuracy: 0.9480 - val_loss: 0.4429 - val_accuracy: 0.8180\n",
      "Epoch 7/10\n",
      "200/200 [==============================] - 4s 20ms/step - loss: 0.0899 - accuracy: 0.9706 - val_loss: 0.5836 - val_accuracy: 0.8164\n",
      "Epoch 8/10\n",
      "200/200 [==============================] - 4s 21ms/step - loss: 0.0554 - accuracy: 0.9822 - val_loss: 0.7005 - val_accuracy: 0.8124\n",
      "Epoch 9/10\n",
      "200/200 [==============================] - 4s 20ms/step - loss: 0.0337 - accuracy: 0.9887 - val_loss: 0.7703 - val_accuracy: 0.8192\n",
      "Epoch 10/10\n",
      "200/200 [==============================] - 4s 21ms/step - loss: 0.0294 - accuracy: 0.9900 - val_loss: 0.8562 - val_accuracy: 0.8036\n"
     ]
    }
   ],
   "source": [
    "# 모형 학습\n",
    "# 트레이닝 데이터를 넣고 미니 배치 사이즈는 100, epoch 10단계로 진행한다.\n",
    "# 밸리데이션 데이터를 사용할 것이므로 validation_data 옵션으로 검증 데이터를 지정한다.\n",
    "hist = model.fit(X_tr, y_tr, batch_size=100, epochs=10, validation_data=(X_valid, y_valid))"
   ],
   "metadata": {
    "collapsed": false,
    "ExecuteTime": {
     "start_time": "2023-04-21T17:18:34.982574Z",
     "end_time": "2023-04-21T17:19:18.330736Z"
    }
   }
  },
  {
   "cell_type": "code",
   "execution_count": 14,
   "outputs": [
    {
     "name": "stderr",
     "output_type": "stream",
     "text": [
      "2023-04-21 17:19:18.472558: I tensorflow/core/grappler/optimizers/custom_graph_optimizer_registry.cc:113] Plugin optimizer for device_type GPU is enabled.\n",
      "2023-04-21 17:19:18.534894: I tensorflow/core/grappler/optimizers/custom_graph_optimizer_registry.cc:113] Plugin optimizer for device_type GPU is enabled.\n"
     ]
    },
    {
     "name": "stdout",
     "output_type": "stream",
     "text": [
      "625/625 [==============================] - 5s 7ms/step - loss: 0.0233 - accuracy: 0.9923\n",
      "[0.02325986512005329, 0.9922500252723694]\n",
      "157/157 [==============================] - 1s 7ms/step - loss: 0.8562 - accuracy: 0.8036\n",
      "[0.8561590909957886, 0.803600013256073]\n",
      "782/782 [==============================] - 5s 7ms/step - loss: 0.8238 - accuracy: 0.8156\n",
      "[0.823769748210907, 0.8156399726867676]\n"
     ]
    }
   ],
   "source": [
    "# 모델 평가\n",
    "print(model.evaluate(X_tr, y_tr))\n",
    "print(model.evaluate(X_valid, y_valid))\n",
    "print(model.evaluate(X_test, y_test))"
   ],
   "metadata": {
    "collapsed": false,
    "ExecuteTime": {
     "start_time": "2023-04-21T17:19:18.335329Z",
     "end_time": "2023-04-21T17:19:29.669301Z"
    }
   }
  },
  {
   "cell_type": "code",
   "execution_count": 15,
   "outputs": [
    {
     "data": {
      "text/plain": "<Figure size 1500x500 with 2 Axes>",
      "image/png": "[encoded data removed]"
     },
     "metadata": {},
     "output_type": "display_data"
    }
   ],
   "source": [
    "# 정확도/손실 시각화\n",
    "import numpy as np\n",
    "\n",
    "epoch = np.arange(1, 11)\n",
    "\n",
    "acc_train = hist.history['accuracy']  # 트레이닝 데이터의 정확도를 저장한다.\n",
    "acc_valid = hist.history['val_accuracy']  # 밸리데이션 데이터의 정확도를 저장한다.\n",
    "loss_train = hist.history['loss']  # 트레이닝 데이터의 손실 정도를 저장한다.\n",
    "loss_valid = hist.history['val_loss']  # 밸리데이션 데이터의 손실 정도를 저장한다.\n",
    "\n",
    "import matplotlib.pyplot as plt\n",
    "\n",
    "plt.figure(figsize=(15, 5))\n",
    "\n",
    "plt.subplot(1, 2, 1)  # 정확도를 출력할 서브 플롯\n",
    "plt.plot(epoch, acc_train, 'b', marker='o', label='train_acc')\n",
    "plt.plot(epoch, acc_valid, 'r--', marker='^', label='valid_acc')\n",
    "plt.title('Accuracy')\n",
    "plt.xlabel('epoch')\n",
    "plt.ylabel('accuracy')\n",
    "plt.legend()\n",
    "\n",
    "plt.subplot(1, 2, 2)  # 손실을 출력할 서브 플롯\n",
    "plt.plot(epoch, loss_train, 'b', marker='o', label='train_loss')\n",
    "plt.plot(epoch, loss_valid, 'r--', marker='^', label='valid_loss')\n",
    "plt.title('Loss')\n",
    "plt.xlabel('epoch')\n",
    "plt.ylabel('loss')\n",
    "plt.legend()\n",
    "plt.show()"
   ],
   "metadata": {
    "collapsed": false,
    "ExecuteTime": {
     "start_time": "2023-04-21T17:19:29.671907Z",
     "end_time": "2023-04-21T17:19:30.079088Z"
    }
   }
  },
  {
   "cell_type": "code",
   "execution_count": 15,
   "outputs": [],
   "source": [],
   "metadata": {
    "collapsed": false,
    "ExecuteTime": {
     "start_time": "2023-04-21T17:19:30.079192Z",
     "end_time": "2023-04-21T17:19:30.080852Z"
    }
   }
  }
 ],
 "metadata": {
  "kernelspec": {
   "display_name": "Python 3",
   "language": "python",
   "name": "python3"
  },
  "language_info": {
   "codemirror_mode": {
    "name": "ipython",
    "version": 2
   },
   "file_extension": ".py",
   "mimetype": "text/x-python",
   "name": "python",
   "nbconvert_exporter": "python",
   "pygments_lexer": "ipython2",
   "version": "2.7.6"
  }
 },
 "nbformat": 4,
 "nbformat_minor": 0
}
