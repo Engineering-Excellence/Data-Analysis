{
 "cells": [
  {
   "cell_type": "markdown",
   "source": [
    "# 평균 제곱근 오차(RMSE; Root Mean Squared Error)\n",
    "* 임의의 선을 그리고 난 후 이 선이 얼마나 잘 그려졌는지 평가해서 조금씩 수정한다.\n",
    "* 이를 위해서 주어진 선의 오차를 평가하는 알고리즘이 필요한데, 그 중에서 가장 많이 사용되는 방법이 평균 제곱근 오차이다."
   ],
   "metadata": {
    "collapsed": false
   }
  },
  {
   "cell_type": "code",
   "execution_count": 1,
   "metadata": {
    "collapsed": true
   },
   "outputs": [],
   "source": [
    "%config Completer.use_jedi = False\n",
    "import warnings\n",
    "\n",
    "warnings.filterwarnings(action='ignore')\n",
    "import numpy as np"
   ]
  },
  {
   "cell_type": "code",
   "execution_count": 2,
   "outputs": [
    {
     "name": "stdout",
     "output_type": "stream",
     "text": [
      "공부시간: 2, 시험성적: 81\n",
      "공부시간: 4, 시험성적: 93\n",
      "공부시간: 6, 시험성적: 91\n",
      "공부시간: 8, 시험성적: 97\n"
     ]
    }
   ],
   "source": [
    "# x, y의 데이터 값이 1건씩 저장된 리스트 → [공부시간(x), 시험점수(y)]\n",
    "data = [[2, 81], [4, 93], [6, 91], [8, 97]]\n",
    "# 가중치 w와 편향 b를 임의로 정한다. → [가중치, 편향]\n",
    "wb = [2.8, 73]  # 2.3, 79\n",
    "\n",
    "for i in data:\n",
    "    print(f'공부시간: {i[0]}, 시험성적: {i[1]}')"
   ],
   "metadata": {
    "collapsed": false
   }
  },
  {
   "cell_type": "code",
   "execution_count": 4,
   "outputs": [
    {
     "name": "stdout",
     "output_type": "stream",
     "text": [
      "x = [2, 4, 6, 8], y = [81, 93, 91, 97]\n"
     ]
    }
   ],
   "source": [
    "# x, y의 데이터 값이 1건씩 저장된 리스트에서 공부시간(x), 시험성적(y)을 뽑아내서 각각 별도의 리스트에 저장한다.\n",
    "x = [i[0] for i in data]\n",
    "y = [i[1] for i in data]\n",
    "print(f'x = {x}, y = {y}')"
   ],
   "metadata": {
    "collapsed": false
   }
  },
  {
   "cell_type": "code",
   "execution_count": 5,
   "outputs": [],
   "source": [
    "# Y = w * x + b에 w(가중치), b(편향)를 대입해서 결과(예측성적)를 계산하는 함수\n",
    "def predict(x):\n",
    "    return wb[0] * x + wb[1]"
   ],
   "metadata": {
    "collapsed": false
   }
  },
  {
   "cell_type": "code",
   "execution_count": 6,
   "outputs": [
    {
     "name": "stdout",
     "output_type": "stream",
     "text": [
      "공부시간: 2, 시험성적: 81, 예측성적: 78.6\n",
      "공부시간: 4, 시험성적: 93, 예측성적: 84.2\n",
      "공부시간: 6, 시험성적: 91, 예측성적: 89.8\n",
      "공부시간: 8, 시험성적: 97, 예측성적: 95.4\n"
     ]
    }
   ],
   "source": [
    "# 임의로 정한 가중치와 편향으로 예측성적을 계산한다.\n",
    "# 임의로 정한 가중치와 편향을 이용하여 계산된 예측성적이 저장될 빈 리스트를 만든다.\n",
    "predict_result = []\n",
    "# 모든 공부시간(x) 값을 한 번씩 대입해서 예측성적 리스트(prdict_result)를 완성한다.\n",
    "for i in range(len(x)):\n",
    "    # 공부시간에 따른 예측성적을 계산하는 함수 predict()를 실행해서 얻은 예측성적을 predict_result에 추가한다.\n",
    "    predict_result.append(predict(x[i]))\n",
    "    print(f'공부시간: {x[i]}, 시험성적: {y[i]}, 예측성적: {predict_result[i]}')"
   ],
   "metadata": {
    "collapsed": false
   }
  },
  {
   "cell_type": "code",
   "execution_count": 14,
   "outputs": [],
   "source": [
    "# 평균 제곱근 오차를 계산하는 함수\n",
    "# rmse(예측성적, 실제성적) → 인수로 넘겨받는 데이터는 numpy 배열 타입(nd.array)의 데이터이다.\n",
    "def rmse(predict_result, y):\n",
    "    # sqrt(): numpy에서 제곱근을 계산한다.\n",
    "    # array(): 파이썬의 list를 numpy 배열로 변환한다.\n",
    "    # mean(): numpy에서 평균을 계산한다.\n",
    "    return np.sqrt(((np.array(predict_result) - np.array(y)) ** 2).mean())"
   ],
   "metadata": {
    "collapsed": false
   }
  },
  {
   "cell_type": "code",
   "execution_count": 15,
   "outputs": [
    {
     "name": "stdout",
     "output_type": "stream",
     "text": [
      "RMSE = 4.6690470119715\n"
     ]
    }
   ],
   "source": [
    "# 최종 평균 제곱근 오차를 출력한다.\n",
    "rmse_result = rmse(predict_result, y)\n",
    "print(f'RMSE = {rmse_result}')"
   ],
   "metadata": {
    "collapsed": false
   }
  },
  {
   "cell_type": "markdown",
   "source": [
    "w = 2.8, b = 73 → RMSE ~= 4.67 임을 알 수 있다.\n",
    "w = 3, b = 73 → RMSE ~= 3.32 임을 알 수 있다.\n",
    "이 오차를 줄이면 새로운 선을 긋는다.\n",
    "이를 위해서는 가중치와 편향을 적절히 조정하면서 오차의 변화를 살펴보고 오차가 최소가 되는 가중치와 편향을 찾아야 한다.\n",
    "예제 04에서 사용했던 방법을 통해 RMSE ~= 2.88을 구할 수 있다."
   ],
   "metadata": {
    "collapsed": false
   }
  },
  {
   "cell_type": "code",
   "execution_count": null,
   "outputs": [],
   "source": [],
   "metadata": {
    "collapsed": false
   }
  }
 ],
 "metadata": {
  "kernelspec": {
   "display_name": "Python 3",
   "language": "python",
   "name": "python3"
  },
  "language_info": {
   "codemirror_mode": {
    "name": "ipython",
    "version": 2
   },
   "file_extension": ".py",
   "mimetype": "text/x-python",
   "name": "python",
   "nbconvert_exporter": "python",
   "pygments_lexer": "ipython2",
   "version": "2.7.6"
  }
 },
 "nbformat": 4,
 "nbformat_minor": 0
}
