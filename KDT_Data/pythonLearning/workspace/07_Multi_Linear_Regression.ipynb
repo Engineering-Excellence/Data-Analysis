{
 "cells": [
  {
   "cell_type": "markdown",
   "source": [
    "# 다중 선형회귀"
   ],
   "metadata": {
    "collapsed": false
   }
  },
  {
   "cell_type": "code",
   "execution_count": 1,
   "metadata": {
    "collapsed": true
   },
   "outputs": [
    {
     "name": "stdout",
     "output_type": "stream",
     "text": [
      "WARNING:tensorflow:From /opt/homebrew/Caskroom/miniforge/base/envs/py38/lib/python3.8/site-packages/tensorflow/python/compat/v2_compat.py:107: disable_resource_variables (from tensorflow.python.ops.variable_scope) is deprecated and will be removed in a future version.\n",
      "Instructions for updating:\n",
      "non-resource variables are not supported in the long term\n"
     ]
    }
   ],
   "source": [
    "%config Completer.use_jedi = False\n",
    "import warnings\n",
    "warnings.filterwarnings(action='ignore')\n",
    "import tensorflow.compat.v1 as tf\n",
    "tf.disable_v2_behavior()"
   ]
  },
  {
   "cell_type": "code",
   "execution_count": 2,
   "outputs": [],
   "source": [
    "# [공부시간(x1), 과외시간(x2), 시험점수(y)]\n",
    "data = [[2, 0, 81], [4, 4, 93], [6, 2, 91], [8, 3, 97]]\n",
    "xData1 = [i[0] for i in data]  # 공부시간\n",
    "xData2 = [i[1] for i in data]  # 과외시간\n",
    "yData = [i[2] for i in data]  # 시험성적"
   ],
   "metadata": {
    "collapsed": false
   }
  },
  {
   "cell_type": "code",
   "execution_count": 4,
   "outputs": [
    {
     "name": "stdout",
     "output_type": "stream",
     "text": [
      "w1 = [6.0784616],\n",
      "w2 = [2.5062716],\n",
      "b = [33.48539]\n"
     ]
    }
   ],
   "source": [
    "# 가중치 w1, w2와 편향 b를 임의로 정한다.\n",
    "w1 = tf.Variable(tf.random_uniform([1], 0, 10))  # 가중치1, 0 ~ 10 사이의 난수\n",
    "w2 = tf.Variable(tf.random_uniform([1], 0, 10))  # 가중치2, 0 ~ 10 사이의 난수\n",
    "b = tf.Variable(tf.random_uniform([1], 0, 100))  # 편향, 0 ~ 100 사이의 난수\n",
    "sess = tf.Session()\n",
    "sess.run(tf.global_variables_initializer())\n",
    "print(f'w1 = {sess.run(w1)},\\nw2 = {sess.run(w2)},\\nb = {sess.run(b)}')"
   ],
   "metadata": {
    "collapsed": false
   }
  },
  {
   "cell_type": "code",
   "execution_count": 7,
   "outputs": [],
   "source": [
    "# 예측성적을 얻기 위한 가설(수식)을 세운다.\n",
    "Y = w1 * xData1 + w2 * xData2 + b\n",
    "# tensorflow에서 실행할 RMSE 오차 함수를 만든다.\n",
    "rmse = tf.sqrt(tf.reduce_mean(tf.square(Y - yData)))\n",
    "# 경사하강법을 이용해서 RMSE를 최소로 하는 값을 찾는 수식을 만든다.\n",
    "learning_rate = 0.1\n",
    "gradient_descent = tf.train.GradientDescentOptimizer(learning_rate).minimize(rmse)"
   ],
   "metadata": {
    "collapsed": false
   }
  },
  {
   "cell_type": "code",
   "execution_count": 8,
   "outputs": [
    {
     "name": "stdout",
     "output_type": "stream",
     "text": [
      "epoch =    0 → 오차 =  4.90, 가중치1 =  1.88, 가중치2 =  5.24, 편향 = 69.80\n",
      "epoch =  300 → 오차 =  1.84, 가중치1 =  1.34, 가중치2 =  2.20, 편향 = 77.08\n",
      "epoch =  600 → 오차 =  1.84, 가중치1 =  1.24, 가중치2 =  2.17, 편향 = 77.76\n",
      "epoch =  900 → 오차 =  1.84, 가중치1 =  1.23, 가중치2 =  2.16, 편향 = 77.81\n",
      "epoch = 1200 → 오차 =  1.84, 가중치1 =  1.23, 가중치2 =  2.16, 편향 = 77.81\n",
      "epoch = 1500 → 오차 =  1.84, 가중치1 =  1.23, 가중치2 =  2.16, 편향 = 77.81\n",
      "epoch = 1800 → 오차 =  1.84, 가중치1 =  1.23, 가중치2 =  2.16, 편향 = 77.81\n",
      "epoch = 2100 → 오차 =  1.84, 가중치1 =  1.23, 가중치2 =  2.16, 편향 = 77.81\n",
      "epoch = 2400 → 오차 =  1.84, 가중치1 =  1.23, 가중치2 =  2.16, 편향 = 77.81\n",
      "epoch = 2700 → 오차 =  1.84, 가중치1 =  1.23, 가중치2 =  2.16, 편향 = 77.81\n",
      "epoch = 3000 → 오차 =  1.84, 가중치1 =  1.23, 가중치2 =  2.16, 편향 = 77.81\n"
     ]
    }
   ],
   "source": [
    "# 학습시킨다.\n",
    "sess = tf.Session()\n",
    "sess.run(tf.global_variables_initializer())\n",
    "\n",
    "for epoch in range(3001):\n",
    "    sess.run(gradient_descent)\n",
    "    if epoch % 300 == 0:\n",
    "        print('epoch = %4d → 오차 = %5.2f, 가중치1 = %5.2f, 가중치2 = %5.2f, 편향 = %5.2f' % (\n",
    "            epoch, sess.run(rmse), sess.run(w1), sess.run(w2), sess.run(b)))\n",
    "\n",
    "sess.close()"
   ],
   "metadata": {
    "collapsed": false
   }
  },
  {
   "cell_type": "code",
   "execution_count": null,
   "outputs": [],
   "source": [],
   "metadata": {
    "collapsed": false
   }
  }
 ],
 "metadata": {
  "kernelspec": {
   "display_name": "Python 3",
   "language": "python",
   "name": "python3"
  },
  "language_info": {
   "codemirror_mode": {
    "name": "ipython",
    "version": 2
   },
   "file_extension": ".py",
   "mimetype": "text/x-python",
   "name": "python",
   "nbconvert_exporter": "python",
   "pygments_lexer": "ipython2",
   "version": "2.7.6"
  }
 },
 "nbformat": 4,
 "nbformat_minor": 0
}
