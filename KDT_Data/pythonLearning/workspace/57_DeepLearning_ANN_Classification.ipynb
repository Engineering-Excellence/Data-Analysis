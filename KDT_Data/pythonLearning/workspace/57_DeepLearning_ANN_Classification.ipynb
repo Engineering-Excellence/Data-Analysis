{
 "cells": [
  {
   "cell_type": "code",
   "execution_count": 1,
   "metadata": {
    "collapsed": true,
    "ExecuteTime": {
     "start_time": "2023-04-17T01:58:26.044476Z",
     "end_time": "2023-04-17T01:58:26.047680Z"
    }
   },
   "outputs": [],
   "source": [
    "%config Completer.use_jedi = False\n",
    "import warnings\n",
    "\n",
    "warnings.filterwarnings(action='ignore')"
   ]
  },
  {
   "cell_type": "markdown",
   "source": [
    "분류 신경망 실습\n",
    "신경망을 이용해 와인 종류를 분류하는 모형을 만들어본다."
   ],
   "metadata": {
    "collapsed": false
   }
  },
  {
   "cell_type": "code",
   "execution_count": 2,
   "outputs": [],
   "source": [
    "# 일관된 결과값이 나오도록 random seed를 설정한다.\n",
    "import numpy as np\n",
    "import tensorflow as tf\n",
    "\n",
    "np.random.seed(0)\n",
    "tf.random.set_seed(0)"
   ],
   "metadata": {
    "collapsed": false,
    "ExecuteTime": {
     "start_time": "2023-04-17T01:58:26.048747Z",
     "end_time": "2023-04-17T01:58:27.901321Z"
    }
   }
  },
  {
   "cell_type": "code",
   "execution_count": 3,
   "outputs": [],
   "source": [
    "# 데이터 불러오기\n",
    "from sklearn import datasets  # 와인 데이터를 사용하기 위해 import 한다.\n",
    "\n",
    "raw_wine = datasets.load_wine()  # 와인 데이터를 불러온다."
   ],
   "metadata": {
    "collapsed": false,
    "ExecuteTime": {
     "start_time": "2023-04-17T01:58:27.901087Z",
     "end_time": "2023-04-17T01:58:28.238033Z"
    }
   }
  },
  {
   "cell_type": "code",
   "execution_count": 4,
   "outputs": [],
   "source": [
    "# 피쳐/타겟 데이터 지정\n",
    "X = raw_wine.data  # 와인 피쳐 데이터를 저장한다.\n",
    "y = raw_wine.target  # 와인 타겟 데이터를 저장한다."
   ],
   "metadata": {
    "collapsed": false,
    "ExecuteTime": {
     "start_time": "2023-04-17T01:58:28.238839Z",
     "end_time": "2023-04-17T01:58:28.241022Z"
    }
   }
  },
  {
   "cell_type": "code",
   "execution_count": 5,
   "outputs": [
    {
     "data": {
      "text/plain": "(178, 13)"
     },
     "execution_count": 5,
     "metadata": {},
     "output_type": "execute_result"
    }
   ],
   "source": [
    "# 피처 데이터 차원 확인\n",
    "X.shape  # 결과를 확인하면 총 13개의 피쳐가 사용되는데, 이는 신경망을 생성할 때 사용된다."
   ],
   "metadata": {
    "collapsed": false,
    "ExecuteTime": {
     "start_time": "2023-04-17T01:58:28.243469Z",
     "end_time": "2023-04-17T01:58:28.248116Z"
    }
   }
  },
  {
   "cell_type": "code",
   "execution_count": 6,
   "outputs": [
    {
     "data": {
      "text/plain": "{0, 1, 2}"
     },
     "execution_count": 6,
     "metadata": {},
     "output_type": "execute_result"
    }
   ],
   "source": [
    "# 타겟 데이터 종류 확인\n",
    "# 타겟 데이터 종류를 확인함으로써 분류 문제인지 아니면 회귀 문제인지 파악할 수 있고, 분류 문제라면 몇 가지 클래스로\n",
    "# 구분되는지 알 수 있다.\n",
    "set(y)"
   ],
   "metadata": {
    "collapsed": false,
    "ExecuteTime": {
     "start_time": "2023-04-17T01:58:28.245524Z",
     "end_time": "2023-04-17T01:58:28.248303Z"
    }
   }
  },
  {
   "cell_type": "code",
   "execution_count": 7,
   "outputs": [
    {
     "data": {
      "text/plain": "array([[1., 0., 0.],\n       [1., 0., 0.],\n       [1., 0., 0.],\n       [1., 0., 0.],\n       [1., 0., 0.],\n       [1., 0., 0.],\n       [1., 0., 0.],\n       [1., 0., 0.],\n       [1., 0., 0.],\n       [1., 0., 0.],\n       [1., 0., 0.],\n       [1., 0., 0.],\n       [1., 0., 0.],\n       [1., 0., 0.],\n       [1., 0., 0.],\n       [1., 0., 0.],\n       [1., 0., 0.],\n       [1., 0., 0.],\n       [1., 0., 0.],\n       [1., 0., 0.],\n       [1., 0., 0.],\n       [1., 0., 0.],\n       [1., 0., 0.],\n       [1., 0., 0.],\n       [1., 0., 0.],\n       [1., 0., 0.],\n       [1., 0., 0.],\n       [1., 0., 0.],\n       [1., 0., 0.],\n       [1., 0., 0.],\n       [1., 0., 0.],\n       [1., 0., 0.],\n       [1., 0., 0.],\n       [1., 0., 0.],\n       [1., 0., 0.],\n       [1., 0., 0.],\n       [1., 0., 0.],\n       [1., 0., 0.],\n       [1., 0., 0.],\n       [1., 0., 0.],\n       [1., 0., 0.],\n       [1., 0., 0.],\n       [1., 0., 0.],\n       [1., 0., 0.],\n       [1., 0., 0.],\n       [1., 0., 0.],\n       [1., 0., 0.],\n       [1., 0., 0.],\n       [1., 0., 0.],\n       [1., 0., 0.],\n       [1., 0., 0.],\n       [1., 0., 0.],\n       [1., 0., 0.],\n       [1., 0., 0.],\n       [1., 0., 0.],\n       [1., 0., 0.],\n       [1., 0., 0.],\n       [1., 0., 0.],\n       [1., 0., 0.],\n       [0., 1., 0.],\n       [0., 1., 0.],\n       [0., 1., 0.],\n       [0., 1., 0.],\n       [0., 1., 0.],\n       [0., 1., 0.],\n       [0., 1., 0.],\n       [0., 1., 0.],\n       [0., 1., 0.],\n       [0., 1., 0.],\n       [0., 1., 0.],\n       [0., 1., 0.],\n       [0., 1., 0.],\n       [0., 1., 0.],\n       [0., 1., 0.],\n       [0., 1., 0.],\n       [0., 1., 0.],\n       [0., 1., 0.],\n       [0., 1., 0.],\n       [0., 1., 0.],\n       [0., 1., 0.],\n       [0., 1., 0.],\n       [0., 1., 0.],\n       [0., 1., 0.],\n       [0., 1., 0.],\n       [0., 1., 0.],\n       [0., 1., 0.],\n       [0., 1., 0.],\n       [0., 1., 0.],\n       [0., 1., 0.],\n       [0., 1., 0.],\n       [0., 1., 0.],\n       [0., 1., 0.],\n       [0., 1., 0.],\n       [0., 1., 0.],\n       [0., 1., 0.],\n       [0., 1., 0.],\n       [0., 1., 0.],\n       [0., 1., 0.],\n       [0., 1., 0.],\n       [0., 1., 0.],\n       [0., 1., 0.],\n       [0., 1., 0.],\n       [0., 1., 0.],\n       [0., 1., 0.],\n       [0., 1., 0.],\n       [0., 1., 0.],\n       [0., 1., 0.],\n       [0., 1., 0.],\n       [0., 1., 0.],\n       [0., 1., 0.],\n       [0., 1., 0.],\n       [0., 1., 0.],\n       [0., 1., 0.],\n       [0., 1., 0.],\n       [0., 1., 0.],\n       [0., 1., 0.],\n       [0., 1., 0.],\n       [0., 1., 0.],\n       [0., 1., 0.],\n       [0., 1., 0.],\n       [0., 1., 0.],\n       [0., 1., 0.],\n       [0., 1., 0.],\n       [0., 1., 0.],\n       [0., 1., 0.],\n       [0., 1., 0.],\n       [0., 1., 0.],\n       [0., 1., 0.],\n       [0., 1., 0.],\n       [0., 1., 0.],\n       [0., 0., 1.],\n       [0., 0., 1.],\n       [0., 0., 1.],\n       [0., 0., 1.],\n       [0., 0., 1.],\n       [0., 0., 1.],\n       [0., 0., 1.],\n       [0., 0., 1.],\n       [0., 0., 1.],\n       [0., 0., 1.],\n       [0., 0., 1.],\n       [0., 0., 1.],\n       [0., 0., 1.],\n       [0., 0., 1.],\n       [0., 0., 1.],\n       [0., 0., 1.],\n       [0., 0., 1.],\n       [0., 0., 1.],\n       [0., 0., 1.],\n       [0., 0., 1.],\n       [0., 0., 1.],\n       [0., 0., 1.],\n       [0., 0., 1.],\n       [0., 0., 1.],\n       [0., 0., 1.],\n       [0., 0., 1.],\n       [0., 0., 1.],\n       [0., 0., 1.],\n       [0., 0., 1.],\n       [0., 0., 1.],\n       [0., 0., 1.],\n       [0., 0., 1.],\n       [0., 0., 1.],\n       [0., 0., 1.],\n       [0., 0., 1.],\n       [0., 0., 1.],\n       [0., 0., 1.],\n       [0., 0., 1.],\n       [0., 0., 1.],\n       [0., 0., 1.],\n       [0., 0., 1.],\n       [0., 0., 1.],\n       [0., 0., 1.],\n       [0., 0., 1.],\n       [0., 0., 1.],\n       [0., 0., 1.],\n       [0., 0., 1.],\n       [0., 0., 1.]], dtype=float32)"
     },
     "execution_count": 7,
     "metadata": {},
     "output_type": "execute_result"
    }
   ],
   "source": [
    "# 타겟 데이터 원-핫 인코딩\n",
    "from keras.utils import to_categorical  # 원-핫 인코딩을 사용하기 위해 import 한다.\n",
    "\n",
    "y_hot = to_categorical(y)  # 타겟 데이터를 넣고 원-핫 인코딩을 실행한다.\n",
    "y_hot"
   ],
   "metadata": {
    "collapsed": false,
    "ExecuteTime": {
     "start_time": "2023-04-17T01:58:28.249113Z",
     "end_time": "2023-04-17T01:58:28.252830Z"
    }
   }
  },
  {
   "cell_type": "code",
   "execution_count": 8,
   "outputs": [
    {
     "data": {
      "text/plain": "((133, 13), (45, 13))"
     },
     "execution_count": 8,
     "metadata": {},
     "output_type": "execute_result"
    }
   ],
   "source": [
    "# 트레이닝/테스트 데이터 분할\n",
    "from sklearn.model_selection import train_test_split  # 트레이닝/테스트 데이터 분할을 위해 import 한다.\n",
    "\n",
    "# 피쳐 데이터와 원-핫 인코딩된 타겟 데이터를 트레이닝 데이터와 테스트 데이터로 분할한다.\n",
    "X_tn, X_te, y_tn, y_te = train_test_split(X, y_hot, random_state=0)\n",
    "X_tn.shape, X_te.shape"
   ],
   "metadata": {
    "collapsed": false,
    "ExecuteTime": {
     "start_time": "2023-04-17T01:58:28.253175Z",
     "end_time": "2023-04-17T01:58:28.291615Z"
    }
   }
  },
  {
   "cell_type": "code",
   "execution_count": 9,
   "outputs": [],
   "source": [
    "# 시퀀스 API 신경망 생성\n",
    "from keras.models import Sequential  # 시퀀스 API 신경망 생성하기 위해 import 한다.\n",
    "# from keras.layers import Dense # 신경망에 추가할 layer를 생성하기 위해 import 한다.\n",
    "# from keras.layers import BatchNormalization # 배치 정규화를 하기 위해 import 한다.\n",
    "# from keras.layers import Activation # 활성화 함수 layer를 생성하기 위해 import 한다.\n",
    "from keras.layers import Dense, BatchNormalization, Activation\n",
    "\n",
    "# 신경망에 사용되는 피쳐 개수(n)와 클래스 개수(c)를 저장한다.\n",
    "n = X_tn.shape[1]\n",
    "c = len(set(y))\n",
    "# print('피쳐 개수: {}, 클래스 개수: {}'.format(n, c))\n",
    "e = 30  # 학습 횟수를 의미하는 epoch 값을 설정한다."
   ],
   "metadata": {
    "collapsed": false,
    "ExecuteTime": {
     "start_time": "2023-04-17T01:58:28.292430Z",
     "end_time": "2023-04-17T01:58:28.293929Z"
    }
   }
  },
  {
   "cell_type": "markdown",
   "source": [
    "batch size: 하나의 미니 배치에 속하는 데이터의 개수\n",
    "epoch: 전체 트레이닝 데이터셋이 신경망을 통과한 횟수\n",
    "iteration(반복): 1 epoch를 마치는데 필요한 미니 배치 개수"
   ],
   "metadata": {
    "collapsed": false
   }
  },
  {
   "cell_type": "code",
   "execution_count": 10,
   "outputs": [
    {
     "name": "stdout",
     "output_type": "stream",
     "text": [
      "Metal device set to: Apple M2\n",
      "Model: \"sequential\"\n",
      "_________________________________________________________________\n",
      " Layer (type)                Output Shape              Param #   \n",
      "=================================================================\n",
      " dense (Dense)               (None, 20)                280       \n",
      "                                                                 \n",
      " batch_normalization (BatchN  (None, 20)               80        \n",
      " ormalization)                                                   \n",
      "                                                                 \n",
      " activation (Activation)     (None, 20)                0         \n",
      "                                                                 \n",
      " dense_1 (Dense)             (None, 3)                 63        \n",
      "                                                                 \n",
      " activation_1 (Activation)   (None, 3)                 0         \n",
      "                                                                 \n",
      "=================================================================\n",
      "Total params: 423\n",
      "Trainable params: 383\n",
      "Non-trainable params: 40\n",
      "_________________________________________________________________\n"
     ]
    },
    {
     "name": "stderr",
     "output_type": "stream",
     "text": [
      "2023-04-17 01:58:28.300106: I tensorflow/core/common_runtime/pluggable_device/pluggable_device_factory.cc:305] Could not identify NUMA node of platform GPU ID 0, defaulting to 0. Your kernel may not have been built with NUMA support.\n",
      "2023-04-17 01:58:28.300551: I tensorflow/core/common_runtime/pluggable_device/pluggable_device_factory.cc:271] Created TensorFlow device (/job:localhost/replica:0/task:0/device:GPU:0 with 0 MB memory) -> physical PluggableDevice (device: 0, name: METAL, pci bus id: <undefined>)\n"
     ]
    }
   ],
   "source": [
    "# Sequential()로 신경망 모형을 만들고 add() 함수를 이용해서 layer를 추가한다.\n",
    "model = Sequential()  # 신경망 모델을 만든다.\n",
    "# units 옵션으로 출력 차원, input_dim 옵션으로 입력 데이터(피쳐) 차원을 지정해서 입력 layer를 만든다.\n",
    "model.add(Dense(units=20, input_dim=n))  # 입력 layer를 만든다.\n",
    "model.add(BatchNormalization())  # 배치 정규화를 실행한다.\n",
    "model.add(Activation('relu'))  # 활성화 함수를 relu로 지정한다.\n",
    "model.add(Dense(units=c))  # 출력 layer를 만든다. 구분해야 할 클래스 개수만큼 출력 노드 개수로 설정한다.\n",
    "model.add(Activation('softmax'))  # 활성화 함수를 softmax로 지정한다.\n",
    "model.summary()"
   ],
   "metadata": {
    "collapsed": false,
    "ExecuteTime": {
     "start_time": "2023-04-17T01:58:28.295579Z",
     "end_time": "2023-04-17T01:58:28.509645Z"
    }
   }
  },
  {
   "cell_type": "code",
   "execution_count": 11,
   "outputs": [],
   "source": [
    "# 모형 컴파일\n",
    "# loss 옵션으로 손실 함수를 지정하는데, 이진 분류 문제에서는 binary_crossentropy를 지정하고, 3개 아상의 클래스로\n",
    "# 분류하는 다중 분류 문제에서는 categorical_crossentropy를 지정한다.\n",
    "# optimizer 옵션으로 최적화 함수(optimizer)를 지정하고 metrics 옵션으로 평가 기준을 지정한다.\n",
    "model.compile(loss='categorical_crossentropy', optimizer='adam', metrics=['accuracy'])"
   ],
   "metadata": {
    "collapsed": false,
    "ExecuteTime": {
     "start_time": "2023-04-17T01:58:28.513336Z",
     "end_time": "2023-04-17T01:58:28.519736Z"
    }
   }
  },
  {
   "cell_type": "code",
   "execution_count": 12,
   "outputs": [
    {
     "name": "stdout",
     "output_type": "stream",
     "text": [
      "Epoch 1/30\n"
     ]
    },
    {
     "name": "stderr",
     "output_type": "stream",
     "text": [
      "2023-04-17 01:58:28.620213: W tensorflow/core/platform/profile_utils/cpu_utils.cc:128] Failed to get CPU frequency: 0 Hz\n",
      "2023-04-17 01:58:28.817516: I tensorflow/core/grappler/optimizers/custom_graph_optimizer_registry.cc:113] Plugin optimizer for device_type GPU is enabled.\n"
     ]
    },
    {
     "name": "stdout",
     "output_type": "stream",
     "text": [
      "27/27 [==============================] - 1s 24ms/step - loss: 1.9798 - accuracy: 0.3459\n",
      "Epoch 2/30\n",
      "27/27 [==============================] - 0s 8ms/step - loss: 1.6155 - accuracy: 0.3835\n",
      "Epoch 3/30\n",
      "27/27 [==============================] - 0s 8ms/step - loss: 1.2918 - accuracy: 0.3985\n",
      "Epoch 4/30\n",
      "27/27 [==============================] - 0s 9ms/step - loss: 1.0279 - accuracy: 0.4436\n",
      "Epoch 5/30\n",
      "27/27 [==============================] - 0s 9ms/step - loss: 0.9092 - accuracy: 0.5263\n",
      "Epoch 6/30\n",
      "27/27 [==============================] - 0s 8ms/step - loss: 0.8728 - accuracy: 0.6015\n",
      "Epoch 7/30\n",
      "27/27 [==============================] - 0s 8ms/step - loss: 0.8734 - accuracy: 0.5639\n",
      "Epoch 8/30\n",
      "27/27 [==============================] - 0s 9ms/step - loss: 0.7951 - accuracy: 0.6241\n",
      "Epoch 9/30\n",
      "27/27 [==============================] - 0s 8ms/step - loss: 0.8200 - accuracy: 0.5940\n",
      "Epoch 10/30\n",
      "27/27 [==============================] - 0s 8ms/step - loss: 0.7862 - accuracy: 0.6165\n",
      "Epoch 11/30\n",
      "27/27 [==============================] - 0s 8ms/step - loss: 0.7411 - accuracy: 0.6617\n",
      "Epoch 12/30\n",
      "27/27 [==============================] - 0s 8ms/step - loss: 0.7207 - accuracy: 0.6842\n",
      "Epoch 13/30\n",
      "27/27 [==============================] - 0s 8ms/step - loss: 0.7284 - accuracy: 0.6842\n",
      "Epoch 14/30\n",
      "27/27 [==============================] - 0s 8ms/step - loss: 0.7209 - accuracy: 0.6992\n",
      "Epoch 15/30\n",
      "27/27 [==============================] - 0s 8ms/step - loss: 0.6616 - accuracy: 0.7143\n",
      "Epoch 16/30\n",
      "27/27 [==============================] - 0s 8ms/step - loss: 0.6384 - accuracy: 0.7744\n",
      "Epoch 17/30\n",
      "27/27 [==============================] - 0s 8ms/step - loss: 0.6163 - accuracy: 0.7519\n",
      "Epoch 18/30\n",
      "27/27 [==============================] - 0s 8ms/step - loss: 0.6321 - accuracy: 0.7519\n",
      "Epoch 19/30\n",
      "27/27 [==============================] - 0s 8ms/step - loss: 0.7053 - accuracy: 0.7444\n",
      "Epoch 20/30\n",
      "27/27 [==============================] - 0s 8ms/step - loss: 0.5672 - accuracy: 0.7895\n",
      "Epoch 21/30\n",
      "27/27 [==============================] - 0s 8ms/step - loss: 0.5809 - accuracy: 0.8045\n",
      "Epoch 22/30\n",
      "27/27 [==============================] - 0s 8ms/step - loss: 0.5683 - accuracy: 0.7669\n",
      "Epoch 23/30\n",
      "27/27 [==============================] - 0s 8ms/step - loss: 0.4881 - accuracy: 0.8421\n",
      "Epoch 24/30\n",
      "27/27 [==============================] - 0s 8ms/step - loss: 0.5764 - accuracy: 0.8271\n",
      "Epoch 25/30\n",
      "27/27 [==============================] - 0s 8ms/step - loss: 0.5069 - accuracy: 0.8271\n",
      "Epoch 26/30\n",
      "27/27 [==============================] - 0s 8ms/step - loss: 0.4850 - accuracy: 0.8346\n",
      "Epoch 27/30\n",
      "27/27 [==============================] - 0s 8ms/step - loss: 0.4368 - accuracy: 0.8271\n",
      "Epoch 28/30\n",
      "27/27 [==============================] - 0s 8ms/step - loss: 0.4594 - accuracy: 0.8421\n",
      "Epoch 29/30\n",
      "27/27 [==============================] - 0s 8ms/step - loss: 0.4733 - accuracy: 0.8346\n",
      "Epoch 30/30\n",
      "27/27 [==============================] - 0s 8ms/step - loss: 0.4601 - accuracy: 0.8421\n"
     ]
    }
   ],
   "source": [
    "# 신경망 학습\n",
    "# 트레이팅 데이터(X_tn), 트레이팅 데이터에 따른 타겟 데이터(y_tn), epoch, batch_size\n",
    "hist = model.fit(X_tn, y_tn, epochs=e, batch_size=5)"
   ],
   "metadata": {
    "collapsed": false,
    "ExecuteTime": {
     "start_time": "2023-04-17T01:58:28.587869Z",
     "end_time": "2023-04-17T01:58:36.257196Z"
    }
   }
  },
  {
   "cell_type": "code",
   "execution_count": 13,
   "outputs": [
    {
     "name": "stdout",
     "output_type": "stream",
     "text": [
      "5/5 [==============================] - 0s 10ms/step - loss: 0.6297 - accuracy: 0.6917\n",
      "[0.6297096014022827, 0.6917293071746826]\n",
      "1/2 [==============>...............] - ETA: 0s - loss: 0.5494 - accuracy: 0.7188"
     ]
    },
    {
     "name": "stderr",
     "output_type": "stream",
     "text": [
      "2023-04-17 01:58:36.318090: I tensorflow/core/grappler/optimizers/custom_graph_optimizer_registry.cc:113] Plugin optimizer for device_type GPU is enabled.\n"
     ]
    },
    {
     "name": "stdout",
     "output_type": "stream",
     "text": [
      "2/2 [==============================] - 0s 108ms/step - loss: 0.6020 - accuracy: 0.6889\n",
      "[0.6020445823669434, 0.6888889074325562]\n"
     ]
    }
   ],
   "source": [
    "# 학습 평가\n",
    "print(model.evaluate(X_tn, y_tn))  # 트레이닝 데이터 학습 평가\n",
    "print(model.evaluate(X_te, y_te))  # 테스트 데이터 학습 평가"
   ],
   "metadata": {
    "collapsed": false,
    "ExecuteTime": {
     "start_time": "2023-04-17T01:58:36.259056Z",
     "end_time": "2023-04-17T01:58:36.612730Z"
    }
   }
  },
  {
   "cell_type": "code",
   "execution_count": 14,
   "outputs": [
    {
     "name": "stdout",
     "output_type": "stream",
     "text": [
      "[ 1  2  3  4  5  6  7  8  9 10 11 12 13 14 15 16 17 18 19 20 21 22 23 24\n",
      " 25 26 27 28 29 30]\n",
      "[0.3458646535873413, 0.3834586441516876, 0.39849624037742615, 0.4436090290546417, 0.5263158082962036, 0.6015037298202515, 0.5639097690582275, 0.6240601539611816, 0.5939849615097046, 0.61654132604599, 0.6616541147232056, 0.6842105388641357, 0.6842105388641357, 0.6992481350898743, 0.7142857313156128, 0.7744361162185669, 0.7518796920776367, 0.7518796920776367, 0.7443609237670898, 0.7894737124443054, 0.8045112490653992, 0.7669172883033752, 0.8421052694320679, 0.8270676732063293, 0.8270676732063293, 0.8345864415168762, 0.8270676732063293, 0.8421052694320679, 0.8345864415168762, 0.8421052694320679]\n",
      "[1.979773759841919, 1.6155273914337158, 1.2918152809143066, 1.02794349193573, 0.909153401851654, 0.8727604746818542, 0.8733513355255127, 0.7951133251190186, 0.820001482963562, 0.7861706018447876, 0.7411314845085144, 0.7207051515579224, 0.7283934354782104, 0.7208503484725952, 0.6616479158401489, 0.6384236216545105, 0.6163435578346252, 0.6321449279785156, 0.7052576541900635, 0.5672252774238586, 0.5809364914894104, 0.568336546421051, 0.4881218373775482, 0.5764495134353638, 0.5069445371627808, 0.48498794436454773, 0.4368264079093933, 0.45939141511917114, 0.47328251600265503, 0.46006861329078674]\n"
     ]
    }
   ],
   "source": [
    "# 정확도 및 손실 정도 시각화 준비\n",
    "epoch = np.arange(1, e + 1)\n",
    "print(epoch)\n",
    "accuracy = hist.history['accuracy']\n",
    "print(accuracy)\n",
    "loss = hist.history['loss']\n",
    "print(loss)"
   ],
   "metadata": {
    "collapsed": false,
    "ExecuteTime": {
     "start_time": "2023-04-17T01:58:36.615950Z",
     "end_time": "2023-04-17T01:58:36.617561Z"
    }
   }
  },
  {
   "cell_type": "code",
   "execution_count": 15,
   "outputs": [
    {
     "data": {
      "text/plain": "<Figure size 800x600 with 1 Axes>",
      "image/png": "[encoded data removed]"
     },
     "metadata": {},
     "output_type": "display_data"
    }
   ],
   "source": [
    "# 학습 정확도 그래프\n",
    "import matplotlib.pyplot as plt\n",
    "\n",
    "plt.figure(figsize=[8, 6])\n",
    "plt.plot(epoch, accuracy, label='accuracy')\n",
    "plt.xlabel('epoch')\n",
    "plt.ylabel('accuracy')\n",
    "plt.legend()\n",
    "plt.show()\n",
    "# 정확도 확인 결과 에포크 진행 단계별로 정확도가 상승하는 것을 볼 수 있다."
   ],
   "metadata": {
    "collapsed": false,
    "ExecuteTime": {
     "start_time": "2023-04-17T01:58:36.618513Z",
     "end_time": "2023-04-17T01:58:37.017034Z"
    }
   }
  },
  {
   "cell_type": "code",
   "execution_count": 16,
   "outputs": [
    {
     "data": {
      "text/plain": "<Figure size 800x600 with 1 Axes>",
      "image/png": "[encoded data removed]"
     },
     "metadata": {},
     "output_type": "display_data"
    }
   ],
   "source": [
    "# 손실 그래프\n",
    "plt.figure(figsize=[8, 6])\n",
    "plt.plot(epoch, loss, 'r', marker='o', label='loss')\n",
    "plt.xlabel('epoch')\n",
    "plt.ylabel('loss')\n",
    "plt.legend()\n",
    "plt.show()\n",
    "# 손실 확인 결과 에포크 진행 단계별로 손실이 점차 낮아지는 것을 볼 수 있다."
   ],
   "metadata": {
    "collapsed": false,
    "ExecuteTime": {
     "start_time": "2023-04-17T01:58:37.017769Z",
     "end_time": "2023-04-17T01:58:37.147149Z"
    }
   }
  },
  {
   "cell_type": "code",
   "execution_count": 16,
   "outputs": [],
   "source": [],
   "metadata": {
    "collapsed": false,
    "ExecuteTime": {
     "start_time": "2023-04-17T01:58:37.088438Z",
     "end_time": "2023-04-17T01:58:37.147295Z"
    }
   }
  }
 ],
 "metadata": {
  "kernelspec": {
   "display_name": "Python 3",
   "language": "python",
   "name": "python3"
  },
  "language_info": {
   "codemirror_mode": {
    "name": "ipython",
    "version": 2
   },
   "file_extension": ".py",
   "mimetype": "text/x-python",
   "name": "python",
   "nbconvert_exporter": "python",
   "pygments_lexer": "ipython2",
   "version": "2.7.6"
  }
 },
 "nbformat": 4,
 "nbformat_minor": 0
}
