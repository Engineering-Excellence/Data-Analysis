{
 "cells": [
  {
   "cell_type": "code",
   "execution_count": 1,
   "metadata": {
    "collapsed": true
   },
   "outputs": [
    {
     "name": "stdout",
     "output_type": "stream",
     "text": [
      "WARNING:tensorflow:From /opt/homebrew/Caskroom/miniconda/base/envs/py_3_8/lib/python3.8/site-packages/tensorflow/python/compat/v2_compat.py:107: disable_resource_variables (from tensorflow.python.ops.variable_scope) is deprecated and will be removed in a future version.\n",
      "Instructions for updating:\n",
      "non-resource variables are not supported in the long term\n"
     ]
    }
   ],
   "source": [
    "%config Completer.use_jedi = False\n",
    "import warnings\n",
    "\n",
    "warnings.filterwarnings(action='ignore')\n",
    "import tensorflow.compat.v1 as tf\n",
    "\n",
    "tf.disable_v2_behavior()\n",
    "import numpy as np\n",
    "import pandas as pd"
   ]
  },
  {
   "cell_type": "markdown",
   "source": [
    "# 지문을 읽고 주제 분류하기\n",
    "다음과 같은 입력 데이터를 판다스 데이터프레임으로 저장한다. 입력 데이터는 음식 관련 및 스포츠 관련 지문으로 구성되어 있다."
   ],
   "metadata": {
    "collapsed": false
   }
  },
  {
   "cell_type": "code",
   "execution_count": 2,
   "outputs": [
    {
     "data": {
      "text/plain": "                                            paragraph category\n0   Dishplace is located in sunnyvale downtown the...     food\n1   Srvice can be slower during busy hours but our...     food\n2   Portions are huge both french toast and their ...     food\n3   We started with apps going the chicken and waf...     food\n4   The biscuits and gravy was too salty two peopl...     food\n5   The garlic fries were a great starter (and a h...     food\n6   Our meal was excellent i had the pasta ai form...     food\n7   What i enjoy most about palo alto is so many r...     food\n8   The drinks came out fairly quickly a good two ...     food\n9   Despite the not so good burger the service was...     food\n10  The four reigning major champions simona halep...   sports\n11  The briton was seeded nn7 here last year befor...   sports\n12  Stephens surged her way back from injury in st...   sports\n13  When it came to england chances in the world c...   sports\n14  The team that eliminated russia – croatia – al...   sports\n15  The perseyside outfit finished in fourth place...   sports\n16  Liverpool fc will return to premier league act...   sports\n17  Alisson signed for liverpool fc from as roma t...   sports\n18  But the rankings during that run-in to new yor...   sports\n19  Then came the oh-so-familiar djokovic-nadal no...   sports",
      "text/html": "<div>\n<style scoped>\n    .dataframe tbody tr th:only-of-type {\n        vertical-align: middle;\n    }\n\n    .dataframe tbody tr th {\n        vertical-align: top;\n    }\n\n    .dataframe thead th {\n        text-align: right;\n    }\n</style>\n<table border=\"1\" class=\"dataframe\">\n  <thead>\n    <tr style=\"text-align: right;\">\n      <th></th>\n      <th>paragraph</th>\n      <th>category</th>\n    </tr>\n  </thead>\n  <tbody>\n    <tr>\n      <th>0</th>\n      <td>Dishplace is located in sunnyvale downtown the...</td>\n      <td>food</td>\n    </tr>\n    <tr>\n      <th>1</th>\n      <td>Srvice can be slower during busy hours but our...</td>\n      <td>food</td>\n    </tr>\n    <tr>\n      <th>2</th>\n      <td>Portions are huge both french toast and their ...</td>\n      <td>food</td>\n    </tr>\n    <tr>\n      <th>3</th>\n      <td>We started with apps going the chicken and waf...</td>\n      <td>food</td>\n    </tr>\n    <tr>\n      <th>4</th>\n      <td>The biscuits and gravy was too salty two peopl...</td>\n      <td>food</td>\n    </tr>\n    <tr>\n      <th>5</th>\n      <td>The garlic fries were a great starter (and a h...</td>\n      <td>food</td>\n    </tr>\n    <tr>\n      <th>6</th>\n      <td>Our meal was excellent i had the pasta ai form...</td>\n      <td>food</td>\n    </tr>\n    <tr>\n      <th>7</th>\n      <td>What i enjoy most about palo alto is so many r...</td>\n      <td>food</td>\n    </tr>\n    <tr>\n      <th>8</th>\n      <td>The drinks came out fairly quickly a good two ...</td>\n      <td>food</td>\n    </tr>\n    <tr>\n      <th>9</th>\n      <td>Despite the not so good burger the service was...</td>\n      <td>food</td>\n    </tr>\n    <tr>\n      <th>10</th>\n      <td>The four reigning major champions simona halep...</td>\n      <td>sports</td>\n    </tr>\n    <tr>\n      <th>11</th>\n      <td>The briton was seeded nn7 here last year befor...</td>\n      <td>sports</td>\n    </tr>\n    <tr>\n      <th>12</th>\n      <td>Stephens surged her way back from injury in st...</td>\n      <td>sports</td>\n    </tr>\n    <tr>\n      <th>13</th>\n      <td>When it came to england chances in the world c...</td>\n      <td>sports</td>\n    </tr>\n    <tr>\n      <th>14</th>\n      <td>The team that eliminated russia – croatia – al...</td>\n      <td>sports</td>\n    </tr>\n    <tr>\n      <th>15</th>\n      <td>The perseyside outfit finished in fourth place...</td>\n      <td>sports</td>\n    </tr>\n    <tr>\n      <th>16</th>\n      <td>Liverpool fc will return to premier league act...</td>\n      <td>sports</td>\n    </tr>\n    <tr>\n      <th>17</th>\n      <td>Alisson signed for liverpool fc from as roma t...</td>\n      <td>sports</td>\n    </tr>\n    <tr>\n      <th>18</th>\n      <td>But the rankings during that run-in to new yor...</td>\n      <td>sports</td>\n    </tr>\n    <tr>\n      <th>19</th>\n      <td>Then came the oh-so-familiar djokovic-nadal no...</td>\n      <td>sports</td>\n    </tr>\n  </tbody>\n</table>\n</div>"
     },
     "execution_count": 2,
     "metadata": {},
     "output_type": "execute_result"
    }
   ],
   "source": [
    "paragraph_dict_list = [\n",
    "    {\n",
    "        'paragraph': 'Dishplace is located in sunnyvale downtown there is parking around the area but it can be difficult to find during peak business hours my sisters and i came to this place for dinner on a weekday they were really busy so i highly recommended making reservations unless you have the patience to wait',\n",
    "        'category': 'food'},\n",
    "    {\n",
    "        'paragraph': 'Srvice can be slower during busy hours but our waiter was courteous and help gave some great entree recommendations',\n",
    "        'category': 'food'},\n",
    "    {\n",
    "        'paragraph': 'Portions are huge both french toast and their various omelettes are really good their french toast is probably 1.5x more than other brunch places great place to visit if you are hungry and dont want to wait 1 hour for a table',\n",
    "        'category': 'food'},\n",
    "    {\n",
    "        'paragraph': 'We started with apps going the chicken and waffle slides and chicken nachos the sliders were amazing and the nachos were good too maybe by themselves the nachos would have scored better but after those sliders they were up against some tough competition',\n",
    "        'category': 'food'},\n",
    "    {\n",
    "        'paragraph': 'The biscuits and gravy was too salty two people in my group had the gravy and all thought it was too salty my hubby ordered a side of double egg and it was served on two small plates who serves eggs to one person on separate plates we commented on that when it was delivered and even the server laughed and said she doesnt know why the kitchen does that presentation of food is important and they really missed on this one',\n",
    "        'category': 'food'},\n",
    "    {\n",
    "        'paragraph': 'The garlic fries were a great starter (and a happy hour special) the pancakes looked and tasted great and were a fairly generous portion',\n",
    "        'category': 'food'},\n",
    "    {\n",
    "        'paragraph': 'Our meal was excellent i had the pasta ai formaggi which was so rich i didnt dare eat it all although i certainly wanted to excellent flavors with a great texture contrast between the soft pasta and the crisp bread crumbs too much sauce for me but a wonderful dish',\n",
    "        'category': 'food'},\n",
    "    {\n",
    "        'paragraph': 'What i enjoy most about palo alto is so many restaurants have dog-friendly seating outside i had bookmarked italico from when they first opened about a 1.5 years ago and was jonesing for some pasta so time to finally knock that bookmark off',\n",
    "        'category': 'food'},\n",
    "    {\n",
    "        'paragraph': 'The drinks came out fairly quickly a good two to three minutes after the orders were taken i expected my iced tea to taste a bit more sweet but this was straight up green tea with ice in it not to complain of course but i was pleasantly surprised',\n",
    "        'category': 'food'},\n",
    "    {\n",
    "        'paragraph': 'Despite the not so good burger the service was so slow the restaurant wasnt even half full and they took very long from the moment we got seated to the time we left it was almost 2 hours we thought that it would be quick since we ordered as soon as we sat down my coworkers did seem to enjoy their beef burgers for those who eat beef however i will not be returning it is too expensive and extremely slow service',\n",
    "        'category': 'food'},\n",
    "    {\n",
    "        'paragraph': 'The four reigning major champions simona halep caroline wozniacki angelique kerber and defending us open champion sloane stephens could make a case for being the quartet most likely to succeed especially as all but stephens has also enjoyed the no1 ranking within the last 14 months as they prepare for their gruelling new york campaigns they currently hold the top four places in the ranks',\n",
    "        'category': 'sports'},\n",
    "    {\n",
    "        'paragraph': 'The briton was seeded nn7 here last year before a slump in form and confidence took her down to no46 after five first-round losses but there have been signs of a turnaround including a victory over a sub-par serena williams in san jose plus wins against jelena ostapenko and victoria azarenka in montreal. konta pulled out of new haven this week with illness but will hope for good things where she first scored wins in a major before her big breakthroughs to the semis in australia and wimbledon',\n",
    "        'category': 'sports'},\n",
    "    {\n",
    "        'paragraph': 'Stephens surged her way back from injury in stunning style to win her first major here last year—and ranked just no83 she has since proved what a big time player she is winning the miami title via four fellow major champions then reaching the final at the french open back on north american hard courts she ran to the final in montreal only just edged out by halep she has also avoided many of the big names in her quarter—except for wild card azarenka as a possible in the third round',\n",
    "        'category': 'sports'},\n",
    "    {\n",
    "        'paragraph': 'When it came to england chances in the world cup it would be fair to say that most fans had never been more pessimistic than they were this year after enduring years of truly dismal performances at major tournaments – culminating in the 2014 event where they failed to win any of their three group games and finished in bottom spot those results led to the resignation of manager roy hodgson',\n",
    "        'category': 'sports'},\n",
    "    {\n",
    "        'paragraph': 'The team that eliminated russia – croatia – also improved enormously during the tournament before it began their odds were 33/1 but they played with real flair and star players like luka modric ivan rakitic and ivan perisic showed their quality on the world stage having displayed their potential by winning all three of their group stage games croatia went on to face difficult tests like the semi-final against england',\n",
    "        'category': 'sports'},\n",
    "    {\n",
    "        'paragraph': 'The perseyside outfit finished in fourth place in the premier league table and without a trophy last term after having reached the champions league final before losing to real madrid',\n",
    "        'category': 'sports'},\n",
    "    {\n",
    "        'paragraph': 'Liverpool fc will return to premier league action on saturday lunchtime when they travel to leicester city in the top flight as they look to make it four wins in a row in the league',\n",
    "        'category': 'sports'},\n",
    "    {\n",
    "        'paragraph': 'Alisson signed for liverpool fc from as roma this summer and the brazilian goalkeeper has helped the reds to keep three clean sheets in their first three premier league games',\n",
    "        'category': 'sports'},\n",
    "    {\n",
    "        'paragraph': 'But the rankings during that run-in to new york hid some very different undercurrents for murray had struggled with a hip injury since the clay swing and had not played a match since losing his quarter-final at wimbledon and he would pull out of the us open just two days before the tournament began—too late however to promote nederer to the no2 seeding',\n",
    "        'category': 'sports'},\n",
    "    {\n",
    "        'paragraph': 'Then came the oh-so-familiar djokovic-nadal no-quarter-given battle for dominance in the third set there were exhilarating rallies with both chasing to the net both retrieving what looked like winning shots nadal more than once pulled off a reverse smash and had his chance to seal the tie-break but it was djokovic serving at 10-9 who dragged one decisive error from nadal for a two-sets lead',\n",
    "        'category': 'sports'}\n",
    "]\n",
    "df = pd.DataFrame(paragraph_dict_list)\n",
    "df = df[['paragraph', 'category']]\n",
    "df"
   ],
   "metadata": {
    "collapsed": false
   }
  },
  {
   "cell_type": "markdown",
   "source": [
    "# 데이터 전처리\n",
    "LSTM 모델이 입력 데이터를 처리할 수 있도록 수치값으로 변경한다.\n",
    "텍스트인 입력값을 수치로 변환하기 위해 지문에 사용된 모든 단어들을 모아서 중복을 제거한 후 단어 리스트를 만든다."
   ],
   "metadata": {
    "collapsed": false
   }
  },
  {
   "cell_type": "code",
   "execution_count": 3,
   "outputs": [
    {
     "name": "stdout",
     "output_type": "stream",
     "text": [
      "537\n",
      "{'shots', 'once', 'haven', 'beef', 'retrieving', 'various', 'names', 'new', 'all', 'winning', 'dont', 'sat', 'us', 'between', 'expensive', 'was', '–', 'recommendations', 'dish', 'double', 'however', 'sunnyvale', 'any', 'what', 'better', 'competition', 'waiter', 'can', 'victoria', 'by', 'leicester', 'chance', 'tasted', '14', 'dismal', 'one', 'quick', 'form', 'serena', 'murray', 'wozniacki', 'busy', 'despite', 'really', 'courts', 'culminating', 'burger', 'losses', 'including', 'resignation', 'helped', 'liverpool', 'quickly', 'finally', 'displayed', 'soft', 'visit', 'losing', 'days', 'out', 'apps', 'a', 'it', 'person', 'although', 'seating', 'hope', 'round', '2014', 'no2', 'peak', 'themselves', 'portions', 'up', 'her', 'two-sets', 'players', 'got', 'odds', 'dare', 'way', 'summer', 'ago', 'seeded', '10-9', 'srvice', 'enjoy', 'from', 'here', 'azarenka', 'like', 'great', 'trophy', 'located', 'surprised', 'last', 'quartet', 'no83', 'rankings', 'rallies', 'proved', 'off', 'reaching', 'pleasantly', 'moment', 'champions', 'down', 'want', 'likely', 'hour', 'pulled', 'pessimistic', 'there', 'briton', 'hours', 'sloane', 'difficult', 'injury', 'brunch', 'tournament', 'lead', 'action', 'slow', 'world', 'salty', 'came', 'games', 'clay', 'where', 'knock', 'avoided', 'performances', 'restaurant', 'his', 'chances', 'illness', 'halep', 'york', 'unless', 'sweet', 'i', 'those', 'final', 'enduring', 'since', 'this', 'coworkers', 'konta', 'french', 'tournaments', 'lunchtime', 'player', 'face', 'months', 'parking', 'breakthroughs', 'bit', 'probably', 'amazing', 'stage', 'failed', 'bottom', 'modric', 'nadal', 'signs', 'help', 'roma', 'weekday', 'champion', 'potential', 'know', 'many', 'reservations', 'before', 'after', 'surged', 'campaigns', 'flavors', 'miami', 'their', 'began', 'via', 'caroline', '(and', 'fans', 'full', 'quality', 'places', 'led', 'said', 'ai', 'to', 'of', 'style', 'fries', 'played', 'expected', 'why', 'roy', 'promote', 'alto', 'most', 'north', 'without', 'too', 'ranked', 'crisp', 'years', 'montreal.', 'maybe', 'wild', 'we', 'palo', 'bookmark', 'league', 'four', 'chasing', 'enormously', 'happy', 'starter', 'prepare', 'angelique', 'eliminated', 'started', 'jonesing', 'been', 'generous', 'were', 'fourth', 'returning', 'just', 'kerber', 'highly', 'reached', 'american', 'which', 'plates', 'rakitic', 'left', 'jelena', 'eggs', 'nachos', 'making', 'spot', 'you', 'hungry', 'england', 'didnt', 'different', 'thought', 'only', 'long', 'but', 'are', 'flight', 'my', 'reigning', 'would', 'city', '2', 'half', 'ranking', 'manager', 'so', 'nn7', 'flair', 'tough', 'huge', 'portion', 'delivered', 'other', 'server', 'commented', 'courteous', 'hid', 'entree', 'cup', 'minutes', 'brazilian', 'time', 'that', 'match', 'russia', 'ranks', 'will', 'be', 'battle', 'third', 'dog-friendly', 'had', 'with', 'side', 'card', 'if', 'look', 'gave', 'goalkeeper', 'served', 'title', 'fairly', 'results', 'the', 'special)', 'waffle', 'case', 'taste', '1.5', 'find', 'dinner', 'serves', 'perisic', 'complain', 'currently', 'first', 'serving', 'rich', 'fc', 'clean', 'opened', 'edged', 'certainly', 'course', 'star', 'saturday', 'perseyside', 'fair', 'he', 'sauce', 'open', 'truly', 'late', 'looked', 'texture', 'crumbs', 'place', 'ran', 'both', 'seeding', 'australia', 'wimbledon', 'ordered', 'also', 'outside', 'kitchen', 'against', 'restaurants', 'good', 'williams', 'first-round', 'as', 'scored', 'business', 'and', 'eat', 'finished', 'improved', 'extremely', 'wins', 'hubby', 'who', 'wasnt', 'some', 'egg', 'when', 'real', 'presentation', 'drinks', 'area', 'swing', 'italico', 'at', 'ostapenko', 'formaggi', 'laughed', 'quarter—except', 'service', 'showed', 'straight', 'back', 'keep', 'slides', 'year—and', 'seated', 'event', 'team', 'doesnt', 'semi-final', 'slower', 'succeed', 'have', 'within', 'almost', 'term', 'semis', 'outfit', 'signed', 'having', 'people', 'patience', 'iced', 'going', 'make', 'meal', 'return', 'green', 'croatia', 'two', 'pull', 'wanted', 'wonderful', 'in', 'victory', 'struggled', 'chicken', 'went', 'top', 'has', 'gruelling', 'djokovic-nadal', 'garlic', 'hard', 'no1', '1', 'group', 'over', 'then', 'me', 'dishplace', 'is', 'quarter-final', 'major', 'week', 'pancakes', 'during', 'around', 'oh-so-familiar', 'turnaround', 'san', 'separate', 'seal', 'sheets', 'missed', 'big', 'alisson', 'three', 'jose', 'burgers', 'they', 'bread', 'important', 'on', 'dragged', 'possible', 'net', '33/1', 'could', 'especially', 'run-in', 'stephens', 'biscuits', 'hold', 'travel', 'sisters', 'small', 'very', 'things', 'downtown', 'plus', 'defending', 'tests', 'for', 'ivan', 'more', 'tea', 'ice', 'row', 'undercurrents', 'seem', 'djokovic', 'sub-par', 'took', 'set', 'table', 'hodgson', 'bookmarked', 'montreal', 'reverse', 'enjoyed', 'recommended', 'taken', 'dominance', 'than', 'decisive', 'no-quarter-given', 'simona', 'food', 'excellent', 'madrid', 'she', 'began—too', 'did', 'slump', 'year', 'sliders', 'nederer', 'being', 'confidence', 'five', 'premier', 'error', 'much', 'wait', 'not', 'tie-break', 'toast', 'about', 'fellow', 'soon', 'pasta', 'reds', 'omelettes', 'never', 'smash', 'our', 'exhilarating', 'say', 'no46', 'hip', 'does', 'orders', 'even', 'contrast', '1.5x', 'stunning', 'win', 'luka', 'gravy'}\n"
     ]
    }
   ],
   "source": [
    "# 중복을 제거해서 지문에 사용된 단어를 모으기 위해 빈 set을 선언한다.\n",
    "results = set()\n",
    "# print(type(results))\n",
    "# print(type(df)) # <class 'pandas.core.frame.DataFrame'>\n",
    "# print(type(df.paragraph)) # <class 'pandas.core.series.Series'>\n",
    "# print(type(df.paragraph.str)) # <class 'pandas.core.strings.StringMethods'>\n",
    "# print(type(df.paragraph.str.lower())) # <class 'pandas.core.series.Series'>\n",
    "# print(type(df.paragraph.str.lower().str)) # <class 'pandas.core.strings.StringMethods'>\n",
    "# print(type(df.paragraph.str.lower().str.split())) # <class 'pandas.core.series.Series'>\n",
    "# 데이터프레임의 'paragraph'열(Series)을 모두 소문자로 변환한 후 공백을 경계로 나눠서 set에 저장한다.\n",
    "# results = df.paragraph.str.lower().str.split()\n",
    "# print(type(results)) # <class 'pandas.core.series.Series'>\n",
    "df.paragraph.str.lower().str.split().apply(results.update)\n",
    "print(len(results))\n",
    "print(results)"
   ],
   "metadata": {
    "collapsed": false
   }
  },
  {
   "cell_type": "markdown",
   "source": [
    "set에 저장된 데이터를 아래와 같은 형태의 딕셔너리로 변환환다.\n",
    "{0: 'good', 1: 'restaurant', 2: 'alisson', ..., 534: 'serena', 535: 'meal', 536: 'are'}"
   ],
   "metadata": {
    "collapsed": false
   }
  },
  {
   "cell_type": "code",
   "execution_count": 4,
   "outputs": [
    {
     "name": "stdout",
     "output_type": "stream",
     "text": [
      "<class 'dict'>\n",
      "{0: 'shots', 1: 'once', 2: 'haven', 3: 'beef', 4: 'retrieving', 5: 'various', 6: 'names', 7: 'new', 8: 'all', 9: 'winning', 10: 'dont', 11: 'sat', 12: 'us', 13: 'between', 14: 'expensive', 15: 'was', 16: '–', 17: 'recommendations', 18: 'dish', 19: 'double', 20: 'however', 21: 'sunnyvale', 22: 'any', 23: 'what', 24: 'better', 25: 'competition', 26: 'waiter', 27: 'can', 28: 'victoria', 29: 'by', 30: 'leicester', 31: 'chance', 32: 'tasted', 33: '14', 34: 'dismal', 35: 'one', 36: 'quick', 37: 'form', 38: 'serena', 39: 'murray', 40: 'wozniacki', 41: 'busy', 42: 'despite', 43: 'really', 44: 'courts', 45: 'culminating', 46: 'burger', 47: 'losses', 48: 'including', 49: 'resignation', 50: 'helped', 51: 'liverpool', 52: 'quickly', 53: 'finally', 54: 'displayed', 55: 'soft', 56: 'visit', 57: 'losing', 58: 'days', 59: 'out', 60: 'apps', 61: 'a', 62: 'it', 63: 'person', 64: 'although', 65: 'seating', 66: 'hope', 67: 'round', 68: '2014', 69: 'no2', 70: 'peak', 71: 'themselves', 72: 'portions', 73: 'up', 74: 'her', 75: 'two-sets', 76: 'players', 77: 'got', 78: 'odds', 79: 'dare', 80: 'way', 81: 'summer', 82: 'ago', 83: 'seeded', 84: '10-9', 85: 'srvice', 86: 'enjoy', 87: 'from', 88: 'here', 89: 'azarenka', 90: 'like', 91: 'great', 92: 'trophy', 93: 'located', 94: 'surprised', 95: 'last', 96: 'quartet', 97: 'no83', 98: 'rankings', 99: 'rallies', 100: 'proved', 101: 'off', 102: 'reaching', 103: 'pleasantly', 104: 'moment', 105: 'champions', 106: 'down', 107: 'want', 108: 'likely', 109: 'hour', 110: 'pulled', 111: 'pessimistic', 112: 'there', 113: 'briton', 114: 'hours', 115: 'sloane', 116: 'difficult', 117: 'injury', 118: 'brunch', 119: 'tournament', 120: 'lead', 121: 'action', 122: 'slow', 123: 'world', 124: 'salty', 125: 'came', 126: 'games', 127: 'clay', 128: 'where', 129: 'knock', 130: 'avoided', 131: 'performances', 132: 'restaurant', 133: 'his', 134: 'chances', 135: 'illness', 136: 'halep', 137: 'york', 138: 'unless', 139: 'sweet', 140: 'i', 141: 'those', 142: 'final', 143: 'enduring', 144: 'since', 145: 'this', 146: 'coworkers', 147: 'konta', 148: 'french', 149: 'tournaments', 150: 'lunchtime', 151: 'player', 152: 'face', 153: 'months', 154: 'parking', 155: 'breakthroughs', 156: 'bit', 157: 'probably', 158: 'amazing', 159: 'stage', 160: 'failed', 161: 'bottom', 162: 'modric', 163: 'nadal', 164: 'signs', 165: 'help', 166: 'roma', 167: 'weekday', 168: 'champion', 169: 'potential', 170: 'know', 171: 'many', 172: 'reservations', 173: 'before', 174: 'after', 175: 'surged', 176: 'campaigns', 177: 'flavors', 178: 'miami', 179: 'their', 180: 'began', 181: 'via', 182: 'caroline', 183: '(and', 184: 'fans', 185: 'full', 186: 'quality', 187: 'places', 188: 'led', 189: 'said', 190: 'ai', 191: 'to', 192: 'of', 193: 'style', 194: 'fries', 195: 'played', 196: 'expected', 197: 'why', 198: 'roy', 199: 'promote', 200: 'alto', 201: 'most', 202: 'north', 203: 'without', 204: 'too', 205: 'ranked', 206: 'crisp', 207: 'years', 208: 'montreal.', 209: 'maybe', 210: 'wild', 211: 'we', 212: 'palo', 213: 'bookmark', 214: 'league', 215: 'four', 216: 'chasing', 217: 'enormously', 218: 'happy', 219: 'starter', 220: 'prepare', 221: 'angelique', 222: 'eliminated', 223: 'started', 224: 'jonesing', 225: 'been', 226: 'generous', 227: 'were', 228: 'fourth', 229: 'returning', 230: 'just', 231: 'kerber', 232: 'highly', 233: 'reached', 234: 'american', 235: 'which', 236: 'plates', 237: 'rakitic', 238: 'left', 239: 'jelena', 240: 'eggs', 241: 'nachos', 242: 'making', 243: 'spot', 244: 'you', 245: 'hungry', 246: 'england', 247: 'didnt', 248: 'different', 249: 'thought', 250: 'only', 251: 'long', 252: 'but', 253: 'are', 254: 'flight', 255: 'my', 256: 'reigning', 257: 'would', 258: 'city', 259: '2', 260: 'half', 261: 'ranking', 262: 'manager', 263: 'so', 264: 'nn7', 265: 'flair', 266: 'tough', 267: 'huge', 268: 'portion', 269: 'delivered', 270: 'other', 271: 'server', 272: 'commented', 273: 'courteous', 274: 'hid', 275: 'entree', 276: 'cup', 277: 'minutes', 278: 'brazilian', 279: 'time', 280: 'that', 281: 'match', 282: 'russia', 283: 'ranks', 284: 'will', 285: 'be', 286: 'battle', 287: 'third', 288: 'dog-friendly', 289: 'had', 290: 'with', 291: 'side', 292: 'card', 293: 'if', 294: 'look', 295: 'gave', 296: 'goalkeeper', 297: 'served', 298: 'title', 299: 'fairly', 300: 'results', 301: 'the', 302: 'special)', 303: 'waffle', 304: 'case', 305: 'taste', 306: '1.5', 307: 'find', 308: 'dinner', 309: 'serves', 310: 'perisic', 311: 'complain', 312: 'currently', 313: 'first', 314: 'serving', 315: 'rich', 316: 'fc', 317: 'clean', 318: 'opened', 319: 'edged', 320: 'certainly', 321: 'course', 322: 'star', 323: 'saturday', 324: 'perseyside', 325: 'fair', 326: 'he', 327: 'sauce', 328: 'open', 329: 'truly', 330: 'late', 331: 'looked', 332: 'texture', 333: 'crumbs', 334: 'place', 335: 'ran', 336: 'both', 337: 'seeding', 338: 'australia', 339: 'wimbledon', 340: 'ordered', 341: 'also', 342: 'outside', 343: 'kitchen', 344: 'against', 345: 'restaurants', 346: 'good', 347: 'williams', 348: 'first-round', 349: 'as', 350: 'scored', 351: 'business', 352: 'and', 353: 'eat', 354: 'finished', 355: 'improved', 356: 'extremely', 357: 'wins', 358: 'hubby', 359: 'who', 360: 'wasnt', 361: 'some', 362: 'egg', 363: 'when', 364: 'real', 365: 'presentation', 366: 'drinks', 367: 'area', 368: 'swing', 369: 'italico', 370: 'at', 371: 'ostapenko', 372: 'formaggi', 373: 'laughed', 374: 'quarter—except', 375: 'service', 376: 'showed', 377: 'straight', 378: 'back', 379: 'keep', 380: 'slides', 381: 'year—and', 382: 'seated', 383: 'event', 384: 'team', 385: 'doesnt', 386: 'semi-final', 387: 'slower', 388: 'succeed', 389: 'have', 390: 'within', 391: 'almost', 392: 'term', 393: 'semis', 394: 'outfit', 395: 'signed', 396: 'having', 397: 'people', 398: 'patience', 399: 'iced', 400: 'going', 401: 'make', 402: 'meal', 403: 'return', 404: 'green', 405: 'croatia', 406: 'two', 407: 'pull', 408: 'wanted', 409: 'wonderful', 410: 'in', 411: 'victory', 412: 'struggled', 413: 'chicken', 414: 'went', 415: 'top', 416: 'has', 417: 'gruelling', 418: 'djokovic-nadal', 419: 'garlic', 420: 'hard', 421: 'no1', 422: '1', 423: 'group', 424: 'over', 425: 'then', 426: 'me', 427: 'dishplace', 428: 'is', 429: 'quarter-final', 430: 'major', 431: 'week', 432: 'pancakes', 433: 'during', 434: 'around', 435: 'oh-so-familiar', 436: 'turnaround', 437: 'san', 438: 'separate', 439: 'seal', 440: 'sheets', 441: 'missed', 442: 'big', 443: 'alisson', 444: 'three', 445: 'jose', 446: 'burgers', 447: 'they', 448: 'bread', 449: 'important', 450: 'on', 451: 'dragged', 452: 'possible', 453: 'net', 454: '33/1', 455: 'could', 456: 'especially', 457: 'run-in', 458: 'stephens', 459: 'biscuits', 460: 'hold', 461: 'travel', 462: 'sisters', 463: 'small', 464: 'very', 465: 'things', 466: 'downtown', 467: 'plus', 468: 'defending', 469: 'tests', 470: 'for', 471: 'ivan', 472: 'more', 473: 'tea', 474: 'ice', 475: 'row', 476: 'undercurrents', 477: 'seem', 478: 'djokovic', 479: 'sub-par', 480: 'took', 481: 'set', 482: 'table', 483: 'hodgson', 484: 'bookmarked', 485: 'montreal', 486: 'reverse', 487: 'enjoyed', 488: 'recommended', 489: 'taken', 490: 'dominance', 491: 'than', 492: 'decisive', 493: 'no-quarter-given', 494: 'simona', 495: 'food', 496: 'excellent', 497: 'madrid', 498: 'she', 499: 'began—too', 500: 'did', 501: 'slump', 502: 'year', 503: 'sliders', 504: 'nederer', 505: 'being', 506: 'confidence', 507: 'five', 508: 'premier', 509: 'error', 510: 'much', 511: 'wait', 512: 'not', 513: 'tie-break', 514: 'toast', 515: 'about', 516: 'fellow', 517: 'soon', 518: 'pasta', 519: 'reds', 520: 'omelettes', 521: 'never', 522: 'smash', 523: 'our', 524: 'exhilarating', 525: 'say', 526: 'no46', 527: 'hip', 528: 'does', 529: 'orders', 530: 'even', 531: 'contrast', 532: '1.5x', 533: 'stunning', 534: 'win', 535: 'luka', 536: 'gravy'}\n"
     ]
    }
   ],
   "source": [
    "# enumerate(): 인수로 지정된 객체의 인덱스와 데이터를 리턴한다.\n",
    "# for index, word in enumerate(results):\n",
    "# print(index, word)\n",
    "idx2word = dict(enumerate(results))\n",
    "print(type(idx2word))\n",
    "print(idx2word)"
   ],
   "metadata": {
    "collapsed": false
   }
  },
  {
   "cell_type": "markdown",
   "source": [
    "{key: value, ...} 형태의 딕셔너리를 아래와 같이 {value: key, ...} 형태의 딕셔너리로 변환한다.\n",
    "{'good': 0, 'restaurant': 1, 'alisson': 3, ..., 'serena': 534, 'meal': 535, 'are': 536}"
   ],
   "metadata": {
    "collapsed": false
   }
  },
  {
   "cell_type": "code",
   "execution_count": 5,
   "outputs": [
    {
     "name": "stdout",
     "output_type": "stream",
     "text": [
      "<class 'dict'>\n",
      "{'shots': 0, 'once': 1, 'haven': 2, 'beef': 3, 'retrieving': 4, 'various': 5, 'names': 6, 'new': 7, 'all': 8, 'winning': 9, 'dont': 10, 'sat': 11, 'us': 12, 'between': 13, 'expensive': 14, 'was': 15, '–': 16, 'recommendations': 17, 'dish': 18, 'double': 19, 'however': 20, 'sunnyvale': 21, 'any': 22, 'what': 23, 'better': 24, 'competition': 25, 'waiter': 26, 'can': 27, 'victoria': 28, 'by': 29, 'leicester': 30, 'chance': 31, 'tasted': 32, '14': 33, 'dismal': 34, 'one': 35, 'quick': 36, 'form': 37, 'serena': 38, 'murray': 39, 'wozniacki': 40, 'busy': 41, 'despite': 42, 'really': 43, 'courts': 44, 'culminating': 45, 'burger': 46, 'losses': 47, 'including': 48, 'resignation': 49, 'helped': 50, 'liverpool': 51, 'quickly': 52, 'finally': 53, 'displayed': 54, 'soft': 55, 'visit': 56, 'losing': 57, 'days': 58, 'out': 59, 'apps': 60, 'a': 61, 'it': 62, 'person': 63, 'although': 64, 'seating': 65, 'hope': 66, 'round': 67, '2014': 68, 'no2': 69, 'peak': 70, 'themselves': 71, 'portions': 72, 'up': 73, 'her': 74, 'two-sets': 75, 'players': 76, 'got': 77, 'odds': 78, 'dare': 79, 'way': 80, 'summer': 81, 'ago': 82, 'seeded': 83, '10-9': 84, 'srvice': 85, 'enjoy': 86, 'from': 87, 'here': 88, 'azarenka': 89, 'like': 90, 'great': 91, 'trophy': 92, 'located': 93, 'surprised': 94, 'last': 95, 'quartet': 96, 'no83': 97, 'rankings': 98, 'rallies': 99, 'proved': 100, 'off': 101, 'reaching': 102, 'pleasantly': 103, 'moment': 104, 'champions': 105, 'down': 106, 'want': 107, 'likely': 108, 'hour': 109, 'pulled': 110, 'pessimistic': 111, 'there': 112, 'briton': 113, 'hours': 114, 'sloane': 115, 'difficult': 116, 'injury': 117, 'brunch': 118, 'tournament': 119, 'lead': 120, 'action': 121, 'slow': 122, 'world': 123, 'salty': 124, 'came': 125, 'games': 126, 'clay': 127, 'where': 128, 'knock': 129, 'avoided': 130, 'performances': 131, 'restaurant': 132, 'his': 133, 'chances': 134, 'illness': 135, 'halep': 136, 'york': 137, 'unless': 138, 'sweet': 139, 'i': 140, 'those': 141, 'final': 142, 'enduring': 143, 'since': 144, 'this': 145, 'coworkers': 146, 'konta': 147, 'french': 148, 'tournaments': 149, 'lunchtime': 150, 'player': 151, 'face': 152, 'months': 153, 'parking': 154, 'breakthroughs': 155, 'bit': 156, 'probably': 157, 'amazing': 158, 'stage': 159, 'failed': 160, 'bottom': 161, 'modric': 162, 'nadal': 163, 'signs': 164, 'help': 165, 'roma': 166, 'weekday': 167, 'champion': 168, 'potential': 169, 'know': 170, 'many': 171, 'reservations': 172, 'before': 173, 'after': 174, 'surged': 175, 'campaigns': 176, 'flavors': 177, 'miami': 178, 'their': 179, 'began': 180, 'via': 181, 'caroline': 182, 'and': 352, 'fans': 184, 'full': 185, 'quality': 186, 'places': 187, 'led': 188, 'said': 189, 'ai': 190, 'to': 191, 'of': 192, 'style': 193, 'fries': 194, 'played': 195, 'expected': 196, 'why': 197, 'roy': 198, 'promote': 199, 'alto': 200, 'most': 201, 'north': 202, 'without': 203, 'too': 204, 'ranked': 205, 'crisp': 206, 'years': 207, 'montreal.': 208, 'maybe': 209, 'wild': 210, 'we': 211, 'palo': 212, 'bookmark': 213, 'league': 214, 'four': 215, 'chasing': 216, 'enormously': 217, 'happy': 218, 'starter': 219, 'prepare': 220, 'angelique': 221, 'eliminated': 222, 'started': 223, 'jonesing': 224, 'been': 225, 'generous': 226, 'were': 227, 'fourth': 228, 'returning': 229, 'just': 230, 'kerber': 231, 'highly': 232, 'reached': 233, 'american': 234, 'which': 235, 'plates': 236, 'rakitic': 237, 'left': 238, 'jelena': 239, 'eggs': 240, 'nachos': 241, 'making': 242, 'spot': 243, 'you': 244, 'hungry': 245, 'england': 246, 'didnt': 247, 'different': 248, 'thought': 249, 'only': 250, 'long': 251, 'but': 252, 'are': 253, 'flight': 254, 'my': 255, 'reigning': 256, 'would': 257, 'city': 258, '2': 259, 'half': 260, 'ranking': 261, 'manager': 262, 'so': 263, 'nn7': 264, 'flair': 265, 'tough': 266, 'huge': 267, 'portion': 268, 'delivered': 269, 'other': 270, 'server': 271, 'commented': 272, 'courteous': 273, 'hid': 274, 'entree': 275, 'cup': 276, 'minutes': 277, 'brazilian': 278, 'time': 279, 'that': 280, 'match': 281, 'russia': 282, 'ranks': 283, 'will': 284, 'be': 285, 'battle': 286, 'third': 287, 'dog-friendly': 288, 'had': 289, 'with': 290, 'side': 291, 'card': 292, 'if': 293, 'look': 294, 'gave': 295, 'goalkeeper': 296, 'served': 297, 'title': 298, 'fairly': 299, 'results': 300, 'the': 301, 'special': 302, 'waffle': 303, 'case': 304, 'taste': 305, '1.5': 306, 'find': 307, 'dinner': 308, 'serves': 309, 'perisic': 310, 'complain': 311, 'currently': 312, 'first': 313, 'serving': 314, 'rich': 315, 'fc': 316, 'clean': 317, 'opened': 318, 'edged': 319, 'certainly': 320, 'course': 321, 'star': 322, 'saturday': 323, 'perseyside': 324, 'fair': 325, 'he': 326, 'sauce': 327, 'open': 328, 'truly': 329, 'late': 330, 'looked': 331, 'texture': 332, 'crumbs': 333, 'place': 334, 'ran': 335, 'both': 336, 'seeding': 337, 'australia': 338, 'wimbledon': 339, 'ordered': 340, 'also': 341, 'outside': 342, 'kitchen': 343, 'against': 344, 'restaurants': 345, 'good': 346, 'williams': 347, 'first-round': 348, 'as': 349, 'scored': 350, 'business': 351, 'eat': 353, 'finished': 354, 'improved': 355, 'extremely': 356, 'wins': 357, 'hubby': 358, 'who': 359, 'wasnt': 360, 'some': 361, 'egg': 362, 'when': 363, 'real': 364, 'presentation': 365, 'drinks': 366, 'area': 367, 'swing': 368, 'italico': 369, 'at': 370, 'ostapenko': 371, 'formaggi': 372, 'laughed': 373, 'quarter—except': 374, 'service': 375, 'showed': 376, 'straight': 377, 'back': 378, 'keep': 379, 'slides': 380, 'year—and': 381, 'seated': 382, 'event': 383, 'team': 384, 'doesnt': 385, 'semi-final': 386, 'slower': 387, 'succeed': 388, 'have': 389, 'within': 390, 'almost': 391, 'term': 392, 'semis': 393, 'outfit': 394, 'signed': 395, 'having': 396, 'people': 397, 'patience': 398, 'iced': 399, 'going': 400, 'make': 401, 'meal': 402, 'return': 403, 'green': 404, 'croatia': 405, 'two': 406, 'pull': 407, 'wanted': 408, 'wonderful': 409, 'in': 410, 'victory': 411, 'struggled': 412, 'chicken': 413, 'went': 414, 'top': 415, 'has': 416, 'gruelling': 417, 'djokovic-nadal': 418, 'garlic': 419, 'hard': 420, 'no1': 421, '1': 422, 'group': 423, 'over': 424, 'then': 425, 'me': 426, 'dishplace': 427, 'is': 428, 'quarter-final': 429, 'major': 430, 'week': 431, 'pancakes': 432, 'during': 433, 'around': 434, 'oh-so-familiar': 435, 'turnaround': 436, 'san': 437, 'separate': 438, 'seal': 439, 'sheets': 440, 'missed': 441, 'big': 442, 'alisson': 443, 'three': 444, 'jose': 445, 'burgers': 446, 'they': 447, 'bread': 448, 'important': 449, 'on': 450, 'dragged': 451, 'possible': 452, 'net': 453, '33/1': 454, 'could': 455, 'especially': 456, 'run-in': 457, 'stephens': 458, 'biscuits': 459, 'hold': 460, 'travel': 461, 'sisters': 462, 'small': 463, 'very': 464, 'things': 465, 'downtown': 466, 'plus': 467, 'defending': 468, 'tests': 469, 'for': 470, 'ivan': 471, 'more': 472, 'tea': 473, 'ice': 474, 'row': 475, 'undercurrents': 476, 'seem': 477, 'djokovic': 478, 'sub-par': 479, 'took': 480, 'set': 481, 'table': 482, 'hodgson': 483, 'bookmarked': 484, 'montreal': 485, 'reverse': 486, 'enjoyed': 487, 'recommended': 488, 'taken': 489, 'dominance': 490, 'than': 491, 'decisive': 492, 'no-quarter-given': 493, 'simona': 494, 'food': 495, 'excellent': 496, 'madrid': 497, 'she': 498, 'began—too': 499, 'did': 500, 'slump': 501, 'year': 502, 'sliders': 503, 'nederer': 504, 'being': 505, 'confidence': 506, 'five': 507, 'premier': 508, 'error': 509, 'much': 510, 'wait': 511, 'not': 512, 'tie-break': 513, 'toast': 514, 'about': 515, 'fellow': 516, 'soon': 517, 'pasta': 518, 'reds': 519, 'omelettes': 520, 'never': 521, 'smash': 522, 'our': 523, 'exhilarating': 524, 'say': 525, 'no46': 526, 'hip': 527, 'does': 528, 'orders': 529, 'even': 530, 'contrast': 531, '1.5x': 532, 'stunning': 533, 'win': 534, 'luka': 535, 'gravy': 536}\n"
     ]
    }
   ],
   "source": [
    "word2idx = {value.replace('(', '').replace(')', ''): key for key, value in idx2word.items()}\n",
    "print(type(word2idx))\n",
    "print(word2idx)"
   ],
   "metadata": {
    "collapsed": false
   }
  },
  {
   "cell_type": "code",
   "execution_count": 6,
   "outputs": [
    {
     "data": {
      "text/plain": "(151, 354, 413, 253)"
     },
     "execution_count": 6,
     "metadata": {},
     "output_type": "execute_result"
    }
   ],
   "source": [
    "word2idx['player'], word2idx['finished'], word2idx['chicken'], word2idx['are']"
   ],
   "metadata": {
    "collapsed": false
   }
  },
  {
   "cell_type": "markdown",
   "source": [
    "word2idx 딕셔너리를 활용해서 모든 지문을 수치로 변환한다."
   ],
   "metadata": {
    "collapsed": false
   }
  },
  {
   "cell_type": "code",
   "execution_count": 7,
   "outputs": [
    {
     "data": {
      "text/plain": "                                           paragraph category  \\\n0  Dishplace is located in sunnyvale downtown the...     food   \n1  Srvice can be slower during busy hours but our...     food   \n2  Portions are huge both french toast and their ...     food   \n3  We started with apps going the chicken and waf...     food   \n4  The biscuits and gravy was too salty two peopl...     food   \n\n                                       enc_paragraph  \n0  [[427], [428], [93], [410], [21], [466], [112]...  \n1  [[85], [27], [285], [387], [433], [41], [114],...  \n2  [[72], [253], [267], [336], [148], [514], [352...  \n3  [[211], [223], [290], [60], [400], [301], [413...  \n4  [[301], [459], [352], [536], [15], [204], [124...  ",
      "text/html": "<div>\n<style scoped>\n    .dataframe tbody tr th:only-of-type {\n        vertical-align: middle;\n    }\n\n    .dataframe tbody tr th {\n        vertical-align: top;\n    }\n\n    .dataframe thead th {\n        text-align: right;\n    }\n</style>\n<table border=\"1\" class=\"dataframe\">\n  <thead>\n    <tr style=\"text-align: right;\">\n      <th></th>\n      <th>paragraph</th>\n      <th>category</th>\n      <th>enc_paragraph</th>\n    </tr>\n  </thead>\n  <tbody>\n    <tr>\n      <th>0</th>\n      <td>Dishplace is located in sunnyvale downtown the...</td>\n      <td>food</td>\n      <td>[[427], [428], [93], [410], [21], [466], [112]...</td>\n    </tr>\n    <tr>\n      <th>1</th>\n      <td>Srvice can be slower during busy hours but our...</td>\n      <td>food</td>\n      <td>[[85], [27], [285], [387], [433], [41], [114],...</td>\n    </tr>\n    <tr>\n      <th>2</th>\n      <td>Portions are huge both french toast and their ...</td>\n      <td>food</td>\n      <td>[[72], [253], [267], [336], [148], [514], [352...</td>\n    </tr>\n    <tr>\n      <th>3</th>\n      <td>We started with apps going the chicken and waf...</td>\n      <td>food</td>\n      <td>[[211], [223], [290], [60], [400], [301], [413...</td>\n    </tr>\n    <tr>\n      <th>4</th>\n      <td>The biscuits and gravy was too salty two peopl...</td>\n      <td>food</td>\n      <td>[[301], [459], [352], [536], [15], [204], [124...</td>\n    </tr>\n  </tbody>\n</table>\n</div>"
     },
     "execution_count": 7,
     "metadata": {},
     "output_type": "execute_result"
    }
   ],
   "source": [
    "# 지문을 구성하는 모든 단어를 수치로 변환하는 함수를 만든다.\n",
    "def encode_paragraph(paragraph):\n",
    "    words = paragraph.split()\n",
    "    # print(words)\n",
    "    encoded = []\n",
    "    for word in words:\n",
    "        encoded.append([word2idx[word.lower().replace('(', '').replace(')', '')]])\n",
    "    return encoded\n",
    "\n",
    "\n",
    "# 지문이 수치로 변환된 결과를 데이터프레임에 추가한다.\n",
    "df['enc_paragraph'] = df.paragraph.apply(encode_paragraph)\n",
    "df.head()"
   ],
   "metadata": {
    "collapsed": false
   }
  },
  {
   "cell_type": "markdown",
   "source": [
    "분류 항목(food[1, 0], sports[0, 1])을 원-핫 인코딩으로 수치로 변환한다."
   ],
   "metadata": {
    "collapsed": false
   }
  },
  {
   "cell_type": "code",
   "execution_count": 8,
   "outputs": [
    {
     "data": {
      "text/plain": "                                            paragraph category  \\\n0   Dishplace is located in sunnyvale downtown the...     food   \n1   Srvice can be slower during busy hours but our...     food   \n2   Portions are huge both french toast and their ...     food   \n3   We started with apps going the chicken and waf...     food   \n4   The biscuits and gravy was too salty two peopl...     food   \n5   The garlic fries were a great starter (and a h...     food   \n6   Our meal was excellent i had the pasta ai form...     food   \n7   What i enjoy most about palo alto is so many r...     food   \n8   The drinks came out fairly quickly a good two ...     food   \n9   Despite the not so good burger the service was...     food   \n10  The four reigning major champions simona halep...   sports   \n11  The briton was seeded nn7 here last year befor...   sports   \n12  Stephens surged her way back from injury in st...   sports   \n13  When it came to england chances in the world c...   sports   \n14  The team that eliminated russia – croatia – al...   sports   \n15  The perseyside outfit finished in fourth place...   sports   \n16  Liverpool fc will return to premier league act...   sports   \n17  Alisson signed for liverpool fc from as roma t...   sports   \n18  But the rankings during that run-in to new yor...   sports   \n19  Then came the oh-so-familiar djokovic-nadal no...   sports   \n\n                                        enc_paragraph enc_category  \n0   [[427], [428], [93], [410], [21], [466], [112]...       [1, 0]  \n1   [[85], [27], [285], [387], [433], [41], [114],...       [1, 0]  \n2   [[72], [253], [267], [336], [148], [514], [352...       [1, 0]  \n3   [[211], [223], [290], [60], [400], [301], [413...       [1, 0]  \n4   [[301], [459], [352], [536], [15], [204], [124...       [1, 0]  \n5   [[301], [419], [194], [227], [61], [91], [219]...       [1, 0]  \n6   [[523], [402], [15], [496], [140], [289], [301...       [1, 0]  \n7   [[23], [140], [86], [201], [515], [212], [200]...       [1, 0]  \n8   [[301], [366], [125], [59], [299], [52], [61],...       [1, 0]  \n9   [[42], [301], [512], [263], [346], [46], [301]...       [1, 0]  \n10  [[301], [215], [256], [430], [105], [494], [13...       [0, 1]  \n11  [[301], [113], [15], [83], [264], [88], [95], ...       [0, 1]  \n12  [[458], [175], [74], [80], [378], [87], [117],...       [0, 1]  \n13  [[363], [62], [125], [191], [246], [134], [410...       [0, 1]  \n14  [[301], [384], [280], [222], [282], [16], [405...       [0, 1]  \n15  [[301], [324], [394], [354], [410], [228], [33...       [0, 1]  \n16  [[51], [316], [284], [403], [191], [508], [214...       [0, 1]  \n17  [[443], [395], [470], [51], [316], [87], [349]...       [0, 1]  \n18  [[252], [301], [98], [433], [280], [457], [191...       [0, 1]  \n19  [[425], [125], [301], [435], [418], [493], [28...       [0, 1]  ",
      "text/html": "<div>\n<style scoped>\n    .dataframe tbody tr th:only-of-type {\n        vertical-align: middle;\n    }\n\n    .dataframe tbody tr th {\n        vertical-align: top;\n    }\n\n    .dataframe thead th {\n        text-align: right;\n    }\n</style>\n<table border=\"1\" class=\"dataframe\">\n  <thead>\n    <tr style=\"text-align: right;\">\n      <th></th>\n      <th>paragraph</th>\n      <th>category</th>\n      <th>enc_paragraph</th>\n      <th>enc_category</th>\n    </tr>\n  </thead>\n  <tbody>\n    <tr>\n      <th>0</th>\n      <td>Dishplace is located in sunnyvale downtown the...</td>\n      <td>food</td>\n      <td>[[427], [428], [93], [410], [21], [466], [112]...</td>\n      <td>[1, 0]</td>\n    </tr>\n    <tr>\n      <th>1</th>\n      <td>Srvice can be slower during busy hours but our...</td>\n      <td>food</td>\n      <td>[[85], [27], [285], [387], [433], [41], [114],...</td>\n      <td>[1, 0]</td>\n    </tr>\n    <tr>\n      <th>2</th>\n      <td>Portions are huge both french toast and their ...</td>\n      <td>food</td>\n      <td>[[72], [253], [267], [336], [148], [514], [352...</td>\n      <td>[1, 0]</td>\n    </tr>\n    <tr>\n      <th>3</th>\n      <td>We started with apps going the chicken and waf...</td>\n      <td>food</td>\n      <td>[[211], [223], [290], [60], [400], [301], [413...</td>\n      <td>[1, 0]</td>\n    </tr>\n    <tr>\n      <th>4</th>\n      <td>The biscuits and gravy was too salty two peopl...</td>\n      <td>food</td>\n      <td>[[301], [459], [352], [536], [15], [204], [124...</td>\n      <td>[1, 0]</td>\n    </tr>\n    <tr>\n      <th>5</th>\n      <td>The garlic fries were a great starter (and a h...</td>\n      <td>food</td>\n      <td>[[301], [419], [194], [227], [61], [91], [219]...</td>\n      <td>[1, 0]</td>\n    </tr>\n    <tr>\n      <th>6</th>\n      <td>Our meal was excellent i had the pasta ai form...</td>\n      <td>food</td>\n      <td>[[523], [402], [15], [496], [140], [289], [301...</td>\n      <td>[1, 0]</td>\n    </tr>\n    <tr>\n      <th>7</th>\n      <td>What i enjoy most about palo alto is so many r...</td>\n      <td>food</td>\n      <td>[[23], [140], [86], [201], [515], [212], [200]...</td>\n      <td>[1, 0]</td>\n    </tr>\n    <tr>\n      <th>8</th>\n      <td>The drinks came out fairly quickly a good two ...</td>\n      <td>food</td>\n      <td>[[301], [366], [125], [59], [299], [52], [61],...</td>\n      <td>[1, 0]</td>\n    </tr>\n    <tr>\n      <th>9</th>\n      <td>Despite the not so good burger the service was...</td>\n      <td>food</td>\n      <td>[[42], [301], [512], [263], [346], [46], [301]...</td>\n      <td>[1, 0]</td>\n    </tr>\n    <tr>\n      <th>10</th>\n      <td>The four reigning major champions simona halep...</td>\n      <td>sports</td>\n      <td>[[301], [215], [256], [430], [105], [494], [13...</td>\n      <td>[0, 1]</td>\n    </tr>\n    <tr>\n      <th>11</th>\n      <td>The briton was seeded nn7 here last year befor...</td>\n      <td>sports</td>\n      <td>[[301], [113], [15], [83], [264], [88], [95], ...</td>\n      <td>[0, 1]</td>\n    </tr>\n    <tr>\n      <th>12</th>\n      <td>Stephens surged her way back from injury in st...</td>\n      <td>sports</td>\n      <td>[[458], [175], [74], [80], [378], [87], [117],...</td>\n      <td>[0, 1]</td>\n    </tr>\n    <tr>\n      <th>13</th>\n      <td>When it came to england chances in the world c...</td>\n      <td>sports</td>\n      <td>[[363], [62], [125], [191], [246], [134], [410...</td>\n      <td>[0, 1]</td>\n    </tr>\n    <tr>\n      <th>14</th>\n      <td>The team that eliminated russia – croatia – al...</td>\n      <td>sports</td>\n      <td>[[301], [384], [280], [222], [282], [16], [405...</td>\n      <td>[0, 1]</td>\n    </tr>\n    <tr>\n      <th>15</th>\n      <td>The perseyside outfit finished in fourth place...</td>\n      <td>sports</td>\n      <td>[[301], [324], [394], [354], [410], [228], [33...</td>\n      <td>[0, 1]</td>\n    </tr>\n    <tr>\n      <th>16</th>\n      <td>Liverpool fc will return to premier league act...</td>\n      <td>sports</td>\n      <td>[[51], [316], [284], [403], [191], [508], [214...</td>\n      <td>[0, 1]</td>\n    </tr>\n    <tr>\n      <th>17</th>\n      <td>Alisson signed for liverpool fc from as roma t...</td>\n      <td>sports</td>\n      <td>[[443], [395], [470], [51], [316], [87], [349]...</td>\n      <td>[0, 1]</td>\n    </tr>\n    <tr>\n      <th>18</th>\n      <td>But the rankings during that run-in to new yor...</td>\n      <td>sports</td>\n      <td>[[252], [301], [98], [433], [280], [457], [191...</td>\n      <td>[0, 1]</td>\n    </tr>\n    <tr>\n      <th>19</th>\n      <td>Then came the oh-so-familiar djokovic-nadal no...</td>\n      <td>sports</td>\n      <td>[[425], [125], [301], [435], [418], [493], [28...</td>\n      <td>[0, 1]</td>\n    </tr>\n  </tbody>\n</table>\n</div>"
     },
     "execution_count": 8,
     "metadata": {},
     "output_type": "execute_result"
    }
   ],
   "source": [
    "def encode_category(category):\n",
    "    if category == 'food':\n",
    "        return [1, 0]\n",
    "    else:\n",
    "        return [0, 1]\n",
    "\n",
    "\n",
    "# 분류 항목이 원-핫 인코딩으로 변환된 결과를 데이터프레임에 추가한다.\n",
    "df['enc_category'] = df.category.apply(encode_category)\n",
    "df"
   ],
   "metadata": {
    "collapsed": false
   }
  },
  {
   "cell_type": "markdown",
   "source": [
    "Dynamic RNN은 입력값의 다양한 길이를 고려하여 결과값을 출력하므로 Dynamic RNN이 각 입력값의 실제 길이(단어 개수)를 알 수 있도록 각 지문별 단어 개수를 계산해둔다."
   ],
   "metadata": {
    "collapsed": false
   }
  },
  {
   "cell_type": "code",
   "execution_count": 9,
   "outputs": [
    {
     "data": {
      "text/plain": "                                            paragraph category  \\\n0   Dishplace is located in sunnyvale downtown the...     food   \n1   Srvice can be slower during busy hours but our...     food   \n2   Portions are huge both french toast and their ...     food   \n3   We started with apps going the chicken and waf...     food   \n4   The biscuits and gravy was too salty two peopl...     food   \n5   The garlic fries were a great starter (and a h...     food   \n6   Our meal was excellent i had the pasta ai form...     food   \n7   What i enjoy most about palo alto is so many r...     food   \n8   The drinks came out fairly quickly a good two ...     food   \n9   Despite the not so good burger the service was...     food   \n10  The four reigning major champions simona halep...   sports   \n11  The briton was seeded nn7 here last year befor...   sports   \n12  Stephens surged her way back from injury in st...   sports   \n13  When it came to england chances in the world c...   sports   \n14  The team that eliminated russia – croatia – al...   sports   \n15  The perseyside outfit finished in fourth place...   sports   \n16  Liverpool fc will return to premier league act...   sports   \n17  Alisson signed for liverpool fc from as roma t...   sports   \n18  But the rankings during that run-in to new yor...   sports   \n19  Then came the oh-so-familiar djokovic-nadal no...   sports   \n\n                                        enc_paragraph enc_category  seq_length  \n0   [[427], [428], [93], [410], [21], [466], [112]...       [1, 0]          53  \n1   [[85], [27], [285], [387], [433], [41], [114],...       [1, 0]          19  \n2   [[72], [253], [267], [336], [148], [514], [352...       [1, 0]          42  \n3   [[211], [223], [290], [60], [400], [301], [413...       [1, 0]          43  \n4   [[301], [459], [352], [536], [15], [204], [124...       [1, 0]          82  \n5   [[301], [419], [194], [227], [61], [91], [219]...       [1, 0]          24  \n6   [[523], [402], [15], [496], [140], [289], [301...       [1, 0]          50  \n7   [[23], [140], [86], [201], [515], [212], [200]...       [1, 0]          43  \n8   [[301], [366], [125], [59], [299], [52], [61],...       [1, 0]          49  \n9   [[42], [301], [512], [263], [346], [46], [301]...       [1, 0]          82  \n10  [[301], [215], [256], [430], [105], [494], [13...       [0, 1]          65  \n11  [[301], [113], [15], [83], [264], [88], [95], ...       [0, 1]          88  \n12  [[458], [175], [74], [80], [378], [87], [117],...       [0, 1]          91  \n13  [[363], [62], [125], [191], [246], [134], [410...       [0, 1]          71  \n14  [[301], [384], [280], [222], [282], [16], [405...       [0, 1]          70  \n15  [[301], [324], [394], [354], [410], [228], [33...       [0, 1]          30  \n16  [[51], [316], [284], [403], [191], [508], [214...       [0, 1]          35  \n17  [[443], [395], [470], [51], [316], [87], [349]...       [0, 1]          30  \n18  [[252], [301], [98], [433], [280], [457], [191...       [0, 1]          63  \n19  [[425], [125], [301], [435], [418], [493], [28...       [0, 1]          65  ",
      "text/html": "<div>\n<style scoped>\n    .dataframe tbody tr th:only-of-type {\n        vertical-align: middle;\n    }\n\n    .dataframe tbody tr th {\n        vertical-align: top;\n    }\n\n    .dataframe thead th {\n        text-align: right;\n    }\n</style>\n<table border=\"1\" class=\"dataframe\">\n  <thead>\n    <tr style=\"text-align: right;\">\n      <th></th>\n      <th>paragraph</th>\n      <th>category</th>\n      <th>enc_paragraph</th>\n      <th>enc_category</th>\n      <th>seq_length</th>\n    </tr>\n  </thead>\n  <tbody>\n    <tr>\n      <th>0</th>\n      <td>Dishplace is located in sunnyvale downtown the...</td>\n      <td>food</td>\n      <td>[[427], [428], [93], [410], [21], [466], [112]...</td>\n      <td>[1, 0]</td>\n      <td>53</td>\n    </tr>\n    <tr>\n      <th>1</th>\n      <td>Srvice can be slower during busy hours but our...</td>\n      <td>food</td>\n      <td>[[85], [27], [285], [387], [433], [41], [114],...</td>\n      <td>[1, 0]</td>\n      <td>19</td>\n    </tr>\n    <tr>\n      <th>2</th>\n      <td>Portions are huge both french toast and their ...</td>\n      <td>food</td>\n      <td>[[72], [253], [267], [336], [148], [514], [352...</td>\n      <td>[1, 0]</td>\n      <td>42</td>\n    </tr>\n    <tr>\n      <th>3</th>\n      <td>We started with apps going the chicken and waf...</td>\n      <td>food</td>\n      <td>[[211], [223], [290], [60], [400], [301], [413...</td>\n      <td>[1, 0]</td>\n      <td>43</td>\n    </tr>\n    <tr>\n      <th>4</th>\n      <td>The biscuits and gravy was too salty two peopl...</td>\n      <td>food</td>\n      <td>[[301], [459], [352], [536], [15], [204], [124...</td>\n      <td>[1, 0]</td>\n      <td>82</td>\n    </tr>\n    <tr>\n      <th>5</th>\n      <td>The garlic fries were a great starter (and a h...</td>\n      <td>food</td>\n      <td>[[301], [419], [194], [227], [61], [91], [219]...</td>\n      <td>[1, 0]</td>\n      <td>24</td>\n    </tr>\n    <tr>\n      <th>6</th>\n      <td>Our meal was excellent i had the pasta ai form...</td>\n      <td>food</td>\n      <td>[[523], [402], [15], [496], [140], [289], [301...</td>\n      <td>[1, 0]</td>\n      <td>50</td>\n    </tr>\n    <tr>\n      <th>7</th>\n      <td>What i enjoy most about palo alto is so many r...</td>\n      <td>food</td>\n      <td>[[23], [140], [86], [201], [515], [212], [200]...</td>\n      <td>[1, 0]</td>\n      <td>43</td>\n    </tr>\n    <tr>\n      <th>8</th>\n      <td>The drinks came out fairly quickly a good two ...</td>\n      <td>food</td>\n      <td>[[301], [366], [125], [59], [299], [52], [61],...</td>\n      <td>[1, 0]</td>\n      <td>49</td>\n    </tr>\n    <tr>\n      <th>9</th>\n      <td>Despite the not so good burger the service was...</td>\n      <td>food</td>\n      <td>[[42], [301], [512], [263], [346], [46], [301]...</td>\n      <td>[1, 0]</td>\n      <td>82</td>\n    </tr>\n    <tr>\n      <th>10</th>\n      <td>The four reigning major champions simona halep...</td>\n      <td>sports</td>\n      <td>[[301], [215], [256], [430], [105], [494], [13...</td>\n      <td>[0, 1]</td>\n      <td>65</td>\n    </tr>\n    <tr>\n      <th>11</th>\n      <td>The briton was seeded nn7 here last year befor...</td>\n      <td>sports</td>\n      <td>[[301], [113], [15], [83], [264], [88], [95], ...</td>\n      <td>[0, 1]</td>\n      <td>88</td>\n    </tr>\n    <tr>\n      <th>12</th>\n      <td>Stephens surged her way back from injury in st...</td>\n      <td>sports</td>\n      <td>[[458], [175], [74], [80], [378], [87], [117],...</td>\n      <td>[0, 1]</td>\n      <td>91</td>\n    </tr>\n    <tr>\n      <th>13</th>\n      <td>When it came to england chances in the world c...</td>\n      <td>sports</td>\n      <td>[[363], [62], [125], [191], [246], [134], [410...</td>\n      <td>[0, 1]</td>\n      <td>71</td>\n    </tr>\n    <tr>\n      <th>14</th>\n      <td>The team that eliminated russia – croatia – al...</td>\n      <td>sports</td>\n      <td>[[301], [384], [280], [222], [282], [16], [405...</td>\n      <td>[0, 1]</td>\n      <td>70</td>\n    </tr>\n    <tr>\n      <th>15</th>\n      <td>The perseyside outfit finished in fourth place...</td>\n      <td>sports</td>\n      <td>[[301], [324], [394], [354], [410], [228], [33...</td>\n      <td>[0, 1]</td>\n      <td>30</td>\n    </tr>\n    <tr>\n      <th>16</th>\n      <td>Liverpool fc will return to premier league act...</td>\n      <td>sports</td>\n      <td>[[51], [316], [284], [403], [191], [508], [214...</td>\n      <td>[0, 1]</td>\n      <td>35</td>\n    </tr>\n    <tr>\n      <th>17</th>\n      <td>Alisson signed for liverpool fc from as roma t...</td>\n      <td>sports</td>\n      <td>[[443], [395], [470], [51], [316], [87], [349]...</td>\n      <td>[0, 1]</td>\n      <td>30</td>\n    </tr>\n    <tr>\n      <th>18</th>\n      <td>But the rankings during that run-in to new yor...</td>\n      <td>sports</td>\n      <td>[[252], [301], [98], [433], [280], [457], [191...</td>\n      <td>[0, 1]</td>\n      <td>63</td>\n    </tr>\n    <tr>\n      <th>19</th>\n      <td>Then came the oh-so-familiar djokovic-nadal no...</td>\n      <td>sports</td>\n      <td>[[425], [125], [301], [435], [418], [493], [28...</td>\n      <td>[0, 1]</td>\n      <td>65</td>\n    </tr>\n  </tbody>\n</table>\n</div>"
     },
     "execution_count": 9,
     "metadata": {},
     "output_type": "execute_result"
    }
   ],
   "source": [
    "# 지문을 구성하는 단어의 개수를 세는 함수를 만든다.\n",
    "def word_cnt(paragraph):\n",
    "    return len(paragraph.split())\n",
    "\n",
    "\n",
    "# 지문을 구성하는 단어의 개수를 데이터프레임에 추가한다.\n",
    "df['seq_length'] = df.paragraph.apply(word_cnt)\n",
    "df"
   ],
   "metadata": {
    "collapsed": false
   }
  },
  {
   "cell_type": "markdown",
   "source": [
    "텐서플로우의 RNN은 항상 같은 길이의 시쿼스를 받아야 한다.\n",
    "길이가 작은 입력 시퀀스는 패딩을 추가적으로 넣어 모든 시퀀스의 길이를 동일하게 설정한다.\n",
    "패딩이 RNN 계산에 영향을 끼치지 않도록 Dynamic RNN은 패딩 이전의 입력 시퀀스의 실제 길이를 파라미터로 받아 상태값 계산시 패딩을 제외시킨다."
   ],
   "metadata": {
    "collapsed": false
   }
  },
  {
   "cell_type": "code",
   "execution_count": 10,
   "outputs": [
    {
     "name": "stdout",
     "output_type": "stream",
     "text": [
      "91\n"
     ]
    }
   ],
   "source": [
    "# 최고로 긴 지문의 단어 수를 구한 수 모든 지문에 패딩을 집어넣어 최고로 긴 지문과 동일한 길이를 갖도록 만들기 위해 최고로 긴\n",
    "# 지문의 단어수를 계산한다.\n",
    "max_word_cnt = 0\n",
    "# for row in df['paragraph']:\n",
    "# if len(row.split()) > max_word_cnt:\n",
    "# max_word_cnt = len(row.split())\n",
    "# for seq in df['seq_length']:\n",
    "# if seq > max_word_cnt:\n",
    "# max_word_cnt = seq\n",
    "max_word_cnt = df.seq_length.max()\n",
    "print(max_word_cnt)"
   ],
   "metadata": {
    "collapsed": false
   }
  },
  {
   "cell_type": "code",
   "execution_count": 11,
   "outputs": [
    {
     "name": "stdout",
     "output_type": "stream",
     "text": [
      "[[85], [27], [285], [387], [433], [41], [114], [252], [523], [26], [15], [273], [352], [165], [295], [361], [91], [275], [17], [-1], [-1], [-1], [-1], [-1], [-1], [-1], [-1], [-1], [-1], [-1], [-1], [-1], [-1], [-1], [-1], [-1], [-1], [-1], [-1], [-1], [-1], [-1], [-1], [-1], [-1], [-1], [-1], [-1], [-1], [-1], [-1], [-1], [-1], [-1], [-1], [-1], [-1], [-1], [-1], [-1], [-1], [-1], [-1], [-1], [-1], [-1], [-1], [-1], [-1], [-1], [-1], [-1], [-1], [-1], [-1], [-1], [-1], [-1], [-1], [-1], [-1], [-1], [-1], [-1], [-1], [-1], [-1], [-1], [-1], [-1], [-1]]\n",
      "[[458], [175], [74], [80], [378], [87], [117], [410], [533], [193], [191], [534], [74], [313], [430], [88], [95], [381], [205], [230], [97], [498], [416], [144], [100], [23], [61], [442], [279], [151], [498], [428], [9], [301], [178], [298], [181], [215], [516], [430], [105], [425], [102], [301], [142], [370], [301], [148], [328], [378], [450], [202], [234], [420], [44], [498], [335], [191], [301], [142], [410], [485], [250], [230], [319], [59], [29], [136], [498], [416], [341], [130], [171], [192], [301], [442], [6], [410], [74], [374], [470], [210], [292], [89], [349], [61], [452], [410], [301], [287], [67]]\n"
     ]
    }
   ],
   "source": [
    "# 모든 지문에 패딩을 집어넣어 최고로 긴 문장과 동일한 길이를 갖게하는 함수를 만든다.\n",
    "def sequence_padding(enc_paragraph):\n",
    "    seq_length = len(enc_paragraph)\n",
    "    for i in range(seq_length, max_word_cnt):\n",
    "        enc_paragraph.append([-1])\n",
    "    return enc_paragraph\n",
    "\n",
    "\n",
    "# 모든 지문에 패딩이 적용된 결과를 데이터프레임에 적용한다.\n",
    "df['enc_paragraph'] = df.enc_paragraph.apply(sequence_padding)\n",
    "print(df['enc_paragraph'][1])\n",
    "print(df['enc_paragraph'][12])"
   ],
   "metadata": {
    "collapsed": false
   }
  },
  {
   "cell_type": "code",
   "execution_count": 12,
   "outputs": [
    {
     "name": "stdout",
     "output_type": "stream",
     "text": [
      "(20, 91, 1)\n",
      "(20, 2)\n"
     ]
    }
   ],
   "source": [
    "enc_paragraph = np.array(df.enc_paragraph.tolist())  # 입력값\n",
    "# print(type(df.enc_paragraph))\n",
    "# print(type(df.enc_paragraph.tolist()))\n",
    "# print(type(enc_paragraph))\n",
    "enc_category = np.array(df.enc_category.tolist())  # 실제값\n",
    "seq_length = np.array(df.seq_length.tolist())  # Dynamin RNN sequence_length 파라미터 값\n",
    "\n",
    "train_X = enc_paragraph\n",
    "print(train_X.shape)\n",
    "train_Y = enc_category\n",
    "print(train_Y.shape)"
   ],
   "metadata": {
    "collapsed": false
   }
  },
  {
   "cell_type": "markdown",
   "source": [
    "텐서플로우로 지문을 읽고 주제를 분류하는 모델을 구현한다.\n",
    "<br/>\n",
    "<img src=\"./images/LSTM3.png\" width=\"1500\"/>\n",
    "\n",
    "\n",
    "문맥 벡터(contextualized vector) 생성 단계\n",
    "인덱스를 임베딩으로 변환한다. 임베딩은 학습 과정을 통해 단어 유사도를 포함하게 되어 문맥 벡터를 생헝하는데 도움을 준다.\n",
    "인간의 언어(자연어)는 수치화되어있지 않은 데이터이기 때문에 머신러닝, 딥러링 기법을 바로 사용할 수 없다. 그래서 자연어 처리에서 특징을 추출해 수치화를 해줘야 하는데 이때 사용하는 것이 '언어의 벡터화'이다. 이런 벡터화 과정을 Word Embedding이라고 한다.\n",
    "LSTM에 임베딩된 시쿼스를 입력해서 최종 상태값을 출력한다. 이 최종 상태값이 문맥 벡터이다.\n",
    "\n",
    "주제(food, sports) 분류 단계\n",
    "문맥 벡터를 덴즈 레이어에 입력하고 출력값을 노드가 2개인 덴즈 레이어에 입력한 후 노드가 2개인 덴즈 레이어의 출력값을 소프트맥스에 입력시켜 food, sports에 대한 예측값을 구한다."
   ],
   "metadata": {
    "collapsed": false
   }
  },
  {
   "cell_type": "markdown",
   "source": [
    "# 모델 구현\n",
    "모델을 구현한다."
   ],
   "metadata": {
    "collapsed": false
   }
  },
  {
   "cell_type": "code",
   "execution_count": 13,
   "outputs": [
    {
     "name": "stdout",
     "output_type": "stream",
     "text": [
      "WARNING:tensorflow:From /var/folders/_y/pqdrbdn56bv6kw113l51416c0000gn/T/ipykernel_3918/2335497213.py:19: dynamic_rnn (from tensorflow.python.ops.rnn) is deprecated and will be removed in a future version.\n",
      "Instructions for updating:\n",
      "Please use `keras.layers.RNN(cell)`, which is equivalent to this API\n",
      "WARNING:tensorflow:From /opt/homebrew/Caskroom/miniconda/base/envs/py_3_8/lib/python3.8/site-packages/keras/layers/rnn/legacy_cells.py:1048: calling Zeros.__init__ (from tensorflow.python.ops.init_ops) with dtype is deprecated and will be removed in a future version.\n",
      "Instructions for updating:\n",
      "Call initializer instance with the dtype argument instead of passing it to the constructor\n"
     ]
    }
   ],
   "source": [
    "# 초기화\n",
    "tf.set_random_seed(35)\n",
    "# 학습율과 학습 횟수를 설정한다.\n",
    "learning_rate = 0.001\n",
    "n_epoch = 300\n",
    "\n",
    "# 입력값과 출력값을 저장할 플레이스홀더를 만든다.\n",
    "# 입력값은 단어들의 인덱스이며 그 길이는 지문을 구성하는 단어의 최대 개수(91, max_word_cnt)이다.\n",
    "X = tf.placeholder(dtype=tf.float32, shape=[None, max_word_cnt, 1])  # (20, 91, 1)\n",
    "y = tf.placeholder(dtype=tf.int32, shape=[None, 2])  # (20, 2)\n",
    "\n",
    "# 워드 임베딩 레이어, 임베딩 레이어는 인덱스를 받아 5차원 벡터의 임베딩을 출력한다.\n",
    "# tf.layers.dense()는 densely-connect layer 즉, '완전연결계층'을 만들어준다.\n",
    "embedding = tf.layers.dense(X, 5)\n",
    "# LSTM 셀은 64차원 벡터의 생성값을 출력한다.\n",
    "cell = tf.nn.rnn_cell.LSTMCell(num_units=64)\n",
    "\n",
    "# 출력값과 상태값을 저장한다. 상태값은 문맥 벡터로 사용되며 dense layer의 입력값이 된다.\n",
    "output, state = tf.nn.dynamic_rnn(cell, embedding, dtype=tf.float32, sequence_length=seq_length)\n",
    "\n",
    "# 주제 분류는 두 개의 덴즈 레이어를 사용한다.\n",
    "# 첫 번째 덴즈 레이어는 32개 노드를 가지고 있고 두 번째 덴즈 레이어는 2개의 노드를 가지고 있으며 이 2개의 노드가 소프트맥스의\n",
    "# 입력으로 들어간다.\n",
    "dense_layer = tf.layers.dense(state.h, 32)\n",
    "# logits는 food, sports를 원-핫 인코딩으로 구분하기 위해서 2차원 벡터로 구성한다.\n",
    "logits = tf.layers.dense(dense_layer, 2)\n",
    "\n",
    "# 손실 함수 - 크로스 엔트로피\n",
    "cross_entropy = tf.nn.softmax_cross_entropy_with_logits_v2(labels=y, logits=logits)\n",
    "loss = tf.reduce_mean(cross_entropy)\n",
    "\n",
    "# Adam 옵티마이저\n",
    "optimizer = tf.train.AdamOptimizer(learning_rate=learning_rate).minimize(loss)"
   ],
   "metadata": {
    "collapsed": false
   }
  },
  {
   "cell_type": "markdown",
   "source": [
    "# 모델 요약"
   ],
   "metadata": {
    "collapsed": false
   }
  },
  {
   "cell_type": "code",
   "execution_count": 14,
   "outputs": [
    {
     "name": "stdout",
     "output_type": "stream",
     "text": [
      "Tensor(\"Placeholder:0\", shape=(?, 91, 1), dtype=float32)\n",
      "Tensor(\"dense/BiasAdd:0\", shape=(?, 91, 5), dtype=float32)\n",
      "Tensor(\"rnn/while/Exit_4:0\", shape=(?, 64), dtype=float32)\n",
      "Tensor(\"dense_1/BiasAdd:0\", shape=(?, 32), dtype=float32)\n",
      "Tensor(\"dense_2/BiasAdd:0\", shape=(?, 2), dtype=float32)\n"
     ]
    }
   ],
   "source": [
    "# 문맥 벡터 생성\n",
    "# 입력값은 단어들의 인덱스이며 그 길이는 항상 91이다.\n",
    "print(X)  # Tensor(\"Placeholder:0\", shape=(?, 91, 1), dtype=float32)\n",
    "# 임베딩 레이어는 인덱스를 받아 5차원 벡터의 임베딩을 출력한다.\n",
    "print(embedding)  # Tensor(\"dense/BiasAdd:0\", shape=(?, 91, 5), dtype=float32)\n",
    "# LSTM 셀은 64차원 벡터의 상태값을 출력한다.\n",
    "print(state.h)  # Tensor(\"rnn/while/Exit_4:0\", shape=(?, 64), dtype=float32)\n",
    "\n",
    "# 문맥 벡터를 사용해 지문의 주제 분류하기, 주제 분류는 두 개의 덴즈 레이어를 사용한다.\n",
    "# 첫 번째 덴즈 레이어는 32개의 노드를 가지고 있다.\n",
    "print(dense_layer)  # Tensor(\"dense_1/BiasAdd:0\", shape=(?, 32), dtype=float32)\n",
    "# 두 번재 덴즈 레이어는 2개의 노드를 가지고 있으며, 이 2개의 노드는 소프트맥스의 입력값으로 들어간다.\n",
    "print(logits)  # Tensor(\"dense_2/BiasAdd:0\", shape=(?, 2), dtype=float32)"
   ],
   "metadata": {
    "collapsed": false
   }
  },
  {
   "cell_type": "markdown",
   "source": [
    "# 모델 학습\n",
    "학습 시킨다."
   ],
   "metadata": {
    "collapsed": false
   }
  },
  {
   "cell_type": "code",
   "execution_count": 15,
   "outputs": [
    {
     "name": "stdout",
     "output_type": "stream",
     "text": [
      "Metal device set to: Apple M2\n"
     ]
    },
    {
     "name": "stderr",
     "output_type": "stream",
     "text": [
      "2023-03-12 00:03:22.932119: I tensorflow/core/common_runtime/pluggable_device/pluggable_device_factory.cc:306] Could not identify NUMA node of platform GPU ID 0, defaulting to 0. Your kernel may not have been built with NUMA support.\n",
      "2023-03-12 00:03:22.932391: I tensorflow/core/common_runtime/pluggable_device/pluggable_device_factory.cc:272] Created TensorFlow device (/job:localhost/replica:0/task:0/device:GPU:0 with 0 MB memory) -> physical PluggableDevice (device: 0, name: METAL, pci bus id: <undefined>)\n",
      "2023-03-12 00:03:22.939376: I tensorflow/compiler/mlir/mlir_graph_optimization_pass.cc:357] MLIR V1 optimization pass is not enabled\n",
      "2023-03-12 00:03:22.947654: W tensorflow/tsl/platform/profile_utils/cpu_utils.cc:128] Failed to get CPU frequency: 0 Hz\n",
      "2023-03-12 00:03:22.956578: I tensorflow/core/grappler/optimizers/custom_graph_optimizer_registry.cc:114] Plugin optimizer for device_type GPU is enabled.\n",
      "2023-03-12 00:03:22.993660: I tensorflow/core/grappler/optimizers/custom_graph_optimizer_registry.cc:114] Plugin optimizer for device_type GPU is enabled.\n",
      "2023-03-12 00:03:24.382557: I tensorflow/core/grappler/optimizers/custom_graph_optimizer_registry.cc:114] Plugin optimizer for device_type GPU is enabled.\n",
      "2023-03-12 00:03:24.675195: I tensorflow/core/grappler/optimizers/custom_graph_optimizer_registry.cc:114] Plugin optimizer for device_type GPU is enabled.\n"
     ]
    },
    {
     "name": "stdout",
     "output_type": "stream",
     "text": [
      "epoch:   0, loss: 0.6840, acc: 0.7000\n"
     ]
    },
    {
     "name": "stderr",
     "output_type": "stream",
     "text": [
      "2023-03-12 00:03:41.468647: I tensorflow/core/grappler/optimizers/custom_graph_optimizer_registry.cc:114] Plugin optimizer for device_type GPU is enabled.\n"
     ]
    },
    {
     "name": "stdout",
     "output_type": "stream",
     "text": [
      "epoch:  50, loss: 0.4165, acc: 0.8000\n"
     ]
    },
    {
     "name": "stderr",
     "output_type": "stream",
     "text": [
      "2023-03-12 00:03:58.113918: I tensorflow/core/grappler/optimizers/custom_graph_optimizer_registry.cc:114] Plugin optimizer for device_type GPU is enabled.\n"
     ]
    },
    {
     "name": "stdout",
     "output_type": "stream",
     "text": [
      "epoch: 100, loss: 0.1796, acc: 0.9500\n"
     ]
    },
    {
     "name": "stderr",
     "output_type": "stream",
     "text": [
      "2023-03-12 00:04:14.580609: I tensorflow/core/grappler/optimizers/custom_graph_optimizer_registry.cc:114] Plugin optimizer for device_type GPU is enabled.\n"
     ]
    },
    {
     "name": "stdout",
     "output_type": "stream",
     "text": [
      "epoch: 150, loss: 0.0203, acc: 1.0000\n"
     ]
    },
    {
     "name": "stderr",
     "output_type": "stream",
     "text": [
      "2023-03-12 00:04:31.134793: I tensorflow/core/grappler/optimizers/custom_graph_optimizer_registry.cc:114] Plugin optimizer for device_type GPU is enabled.\n"
     ]
    },
    {
     "name": "stdout",
     "output_type": "stream",
     "text": [
      "epoch: 200, loss: 0.0026, acc: 1.0000\n"
     ]
    },
    {
     "name": "stderr",
     "output_type": "stream",
     "text": [
      "2023-03-12 00:04:47.745803: I tensorflow/core/grappler/optimizers/custom_graph_optimizer_registry.cc:114] Plugin optimizer for device_type GPU is enabled.\n"
     ]
    },
    {
     "name": "stdout",
     "output_type": "stream",
     "text": [
      "epoch: 250, loss: 0.0008, acc: 1.0000\n"
     ]
    },
    {
     "name": "stderr",
     "output_type": "stream",
     "text": [
      "2023-03-12 00:05:04.283229: I tensorflow/core/grappler/optimizers/custom_graph_optimizer_registry.cc:114] Plugin optimizer for device_type GPU is enabled.\n"
     ]
    },
    {
     "name": "stdout",
     "output_type": "stream",
     "text": [
      "epoch: 300, loss: 0.0004, acc: 1.0000\n"
     ]
    }
   ],
   "source": [
    "with tf.Session() as sess:\n",
    "    sess.run(tf.global_variables_initializer())\n",
    "    for epoch in range(n_epoch + 1):\n",
    "        sess.run(optimizer, feed_dict={X: train_X, y: train_Y})\n",
    "        train_loss = sess.run(loss, feed_dict={X: train_X, y: train_Y})\n",
    "\n",
    "        if epoch % 50 == 0:\n",
    "            predict = tf.nn.softmax(logits)\n",
    "            # 정확도 계산\n",
    "            correct_prediction = tf.equal(tf.argmax(predict, 1), tf.argmax(y, 1))\n",
    "            accuracy = tf.reduce_mean(tf.cast(correct_prediction, 'float'))\n",
    "            cur_acc = accuracy.eval(feed_dict={X: train_X, y: train_Y})\n",
    "            print('epoch: {:3d}, loss: {:6.4f}, acc: {:6.4f}'.format(epoch, train_loss, cur_acc))"
   ],
   "metadata": {
    "collapsed": false
   }
  },
  {
   "cell_type": "markdown",
   "source": [],
   "metadata": {
    "collapsed": false
   }
  }
 ],
 "metadata": {
  "kernelspec": {
   "display_name": "Python 3",
   "language": "python",
   "name": "python3"
  },
  "language_info": {
   "codemirror_mode": {
    "name": "ipython",
    "version": 2
   },
   "file_extension": ".py",
   "mimetype": "text/x-python",
   "name": "python",
   "nbconvert_exporter": "python",
   "pygments_lexer": "ipython2",
   "version": "2.7.6"
  }
 },
 "nbformat": 4,
 "nbformat_minor": 0
}
