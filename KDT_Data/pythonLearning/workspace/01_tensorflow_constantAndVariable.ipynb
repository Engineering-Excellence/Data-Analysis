{
 "cells": [
  {
   "cell_type": "code",
   "execution_count": 1,
   "metadata": {
    "collapsed": true
   },
   "outputs": [],
   "source": [
    "%config Completer.use_jedi = False\n",
    "import warnings\n",
    "\n",
    "warnings.filterwarnings(action='ignore')"
   ]
  },
  {
   "cell_type": "code",
   "execution_count": 2,
   "outputs": [
    {
     "name": "stdout",
     "output_type": "stream",
     "text": [
      "WARNING:tensorflow:From /opt/homebrew/Caskroom/miniforge/base/envs/py38/lib/python3.8/site-packages/tensorflow/python/compat/v2_compat.py:107: disable_resource_variables (from tensorflow.python.ops.variable_scope) is deprecated and will be removed in a future version.\n",
      "Instructions for updating:\n",
      "non-resource variables are not supported in the long term\n",
      "2.11.0\n"
     ]
    }
   ],
   "source": [
    "import tensorflow.compat.v1 as tf  # 2.x 버전의 경우 1.x 버전 문법을 사용할 수 있게 한다.\n",
    "\n",
    "tf.disable_v2_behavior()  # 2.x 버전의 문법을 사용하지 않게 선언한다.\n",
    "print(tf.__version__)"
   ],
   "metadata": {
    "collapsed": false
   }
  },
  {
   "cell_type": "markdown",
   "source": [
    "① 변수, 상수, 수식을 만든다.\n",
    "② 세션에 넣는다.\n",
    "③ 초기화한다(변수의 경우 필수).\n",
    "④ 실행한다."
   ],
   "metadata": {
    "collapsed": false
   }
  },
  {
   "cell_type": "code",
   "execution_count": 3,
   "outputs": [
    {
     "name": "stdout",
     "output_type": "stream",
     "text": [
      "a = Tensor(\"Const:0\", shape=(), dtype=int32)\n",
      "b = Tensor(\"Const_1:0\", shape=(), dtype=int32)\n",
      "c = Tensor(\"add:0\", shape=(), dtype=int32)\n",
      "d = Tensor(\"Add_1:0\", shape=(), dtype=int32)\n",
      "a = 500\n",
      "b = 200\n",
      "c = a + b = 700\n",
      "d = a + b = 700\n"
     ]
    },
    {
     "name": "stderr",
     "output_type": "stream",
     "text": [
      "2023-02-01 00:27:24.741152: I tensorflow/compiler/mlir/mlir_graph_optimization_pass.cc:357] MLIR V1 optimization pass is not enabled\n",
      "2023-02-01 00:27:24.749624: W tensorflow/tsl/platform/profile_utils/cpu_utils.cc:128] Failed to get CPU frequency: 0 Hz\n"
     ]
    }
   ],
   "source": [
    "# ① constant(): tensorflow에서 사용할 상수를 정의한다.\n",
    "a = tf.constant(500)\n",
    "print('a =', a)\n",
    "b = tf.constant(200)\n",
    "print('b =', b)\n",
    "c = a + b\n",
    "print('c =', c)\n",
    "d = tf.add(a, b)\n",
    "print('d =', d)\n",
    "\n",
    "# ② tensorflow 1.x 버전은 반드시 Session이라는 작업 영역을 만든 후 상수, 변수, 수식 등을 대입한다.\n",
    "sess = tf.Session()  # tensorflow Session\n",
    "\n",
    "print('a =', sess.run(a))\n",
    "print('b =', sess.run(b))\n",
    "print('c = a + b =', sess.run(c))\n",
    "print('d = a + b =', sess.run(d))"
   ],
   "metadata": {
    "collapsed": false
   }
  },
  {
   "cell_type": "code",
   "execution_count": 4,
   "outputs": [
    {
     "name": "stdout",
     "output_type": "stream",
     "text": [
      "a = <tf.Variable 'Variable:0' shape=() dtype=int32_ref>\n",
      "b = <tf.Variable 'Variable_1:0' shape=() dtype=int32_ref>\n",
      "c = Tensor(\"mul:0\", shape=(), dtype=int32)\n",
      "d = Tensor(\"Mul_1:0\", shape=(), dtype=int32)\n",
      "a = 5\n",
      "b = 3\n",
      "b = 15\n",
      "b = 15\n"
     ]
    }
   ],
   "source": [
    "# Variable(): tensorflow에서 사용할 변수를 정의하고 데이터를 넣어준다.\n",
    "a = tf.Variable(5)\n",
    "print('a =', a)\n",
    "b = tf.Variable(3)\n",
    "print('b =', b)\n",
    "c = a * b\n",
    "print('c =', c)\n",
    "d = tf.multiply(a, b)\n",
    "print('d =', d)\n",
    "\n",
    "sess = tf.Session()\n",
    "\n",
    "# ③ Variable() 메서드를 사용해서 생성한 tensorflow 변수는 연산을 실행하기 전에 반드시 초기화해야 한다.\n",
    "# init = tf.global_variables_initializer()\n",
    "\n",
    "# ④ run(): Session에 담은 수식 등을 실행한다.\n",
    "# sess.run(init)\n",
    "\n",
    "sess.run(tf.global_variables_initializer())\n",
    "\n",
    "print('a =', sess.run(a))  # tensorflow 변수를 초기화하지 않으면 에러 발생\n",
    "print('b =', sess.run(b))\n",
    "print('b =', sess.run(c))\n",
    "print('b =', sess.run(d))"
   ],
   "metadata": {
    "collapsed": false
   }
  },
  {
   "cell_type": "code",
   "execution_count": 5,
   "outputs": [
    {
     "name": "stdout",
     "output_type": "stream",
     "text": [
      "a: 15\n",
      "c: 15\n",
      "d: 15\n"
     ]
    },
    {
     "name": "stderr",
     "output_type": "stream",
     "text": [
      "2023-02-01 00:27:24.823892: W tensorflow/c/c_api.cc:291] Operation '{name:'Variable_1/Assign' id:12 op device:{requested: '', assigned: ''} def:{{{node Variable_1/Assign}} = Assign[T=DT_INT32, _class=[\"loc:@Variable_1\"], _has_manual_control_dependencies=true, use_locking=true, validate_shape=true](Variable_1, Variable_1/initial_value)}}' was changed by setting attribute after it was run by a session. This mutation will have no effect, and will trigger an error in the future. Either don't modify nodes after running them or create a new session.\n"
     ]
    }
   ],
   "source": [
    "# tensorflow 변수에 저장된 데이터를 변경한다.\n",
    "a = tf.Variable(15)\n",
    "# tensorflow 변수제 저장된 데이터가 변경되면 다시 초기화시켜야 한다.\n",
    "sess.run(tf.global_variables_initializer())\n",
    "print(f'a: {sess.run(a)}')\n",
    "print(f'c: {sess.run(c)}')\n",
    "print(f'd: {sess.run(d)}')"
   ],
   "metadata": {
    "collapsed": false
   }
  },
  {
   "cell_type": "code",
   "execution_count": 6,
   "outputs": [
    {
     "name": "stdout",
     "output_type": "stream",
     "text": [
      "c = 45\n",
      "d = 45\n"
     ]
    }
   ],
   "source": [
    "# 변수의 값을 변경해서 연산한 결과를 보려면 수식을 다시 만들어 실행해야 한다.\n",
    "c = a * b\n",
    "print(f'c = {sess.run(c)}')\n",
    "d = tf.multiply(a, b)\n",
    "print(f'd = {sess.run(d)}')\n",
    "sess.close()    # Session을 닫는다."
   ],
   "metadata": {
    "collapsed": false
   }
  },
  {
   "cell_type": "code",
   "execution_count": 6,
   "outputs": [],
   "source": [],
   "metadata": {
    "collapsed": false
   }
  }
 ],
 "metadata": {
  "kernelspec": {
   "display_name": "Python 3",
   "language": "python",
   "name": "python3"
  },
  "language_info": {
   "codemirror_mode": {
    "name": "ipython",
    "version": 2
   },
   "file_extension": ".py",
   "mimetype": "text/x-python",
   "name": "python",
   "nbconvert_exporter": "python",
   "pygments_lexer": "ipython2",
   "version": "2.7.6"
  }
 },
 "nbformat": 4,
 "nbformat_minor": 0
}
