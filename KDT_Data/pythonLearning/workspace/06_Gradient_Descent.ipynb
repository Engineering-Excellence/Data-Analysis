{
 "cells": [
  {
   "cell_type": "markdown",
   "source": [
    "# 경사 하강법(Gradient Descent)\n",
    "* 기울기를 너무 크거나 작게 잡으면 오차가 커진다."
   ],
   "metadata": {
    "collapsed": false
   }
  },
  {
   "cell_type": "code",
   "execution_count": 1,
   "outputs": [
    {
     "name": "stdout",
     "output_type": "stream",
     "text": [
      "WARNING:tensorflow:From /opt/homebrew/Caskroom/miniforge/base/envs/py38/lib/python3.8/site-packages/tensorflow/python/compat/v2_compat.py:107: disable_resource_variables (from tensorflow.python.ops.variable_scope) is deprecated and will be removed in a future version.\n",
      "Instructions for updating:\n",
      "non-resource variables are not supported in the long term\n"
     ]
    }
   ],
   "source": [
    "%config Completer.use_jedi = False\n",
    "import warnings\n",
    "warnings.filterwarnings(action='ignore')\n",
    "import tensorflow.compat.v1 as tf\n",
    "tf.disable_v2_behavior()"
   ],
   "metadata": {
    "collapsed": false
   }
  },
  {
   "cell_type": "code",
   "execution_count": 2,
   "outputs": [],
   "source": [
    "data = [[2, 81], [4, 93], [6, 91], [8, 97]]\n",
    "xData = [i[0] for i in data]  # 공부시간\n",
    "yData = [i[1] for i in data]  # 시험성적"
   ],
   "metadata": {
    "collapsed": false
   }
  },
  {
   "cell_type": "code",
   "execution_count": 4,
   "outputs": [
    {
     "name": "stdout",
     "output_type": "stream",
     "text": [
      "w = [1.6473949]\n",
      "b = [45.33565]\n"
     ]
    }
   ],
   "source": [
    "# 가중치 w와 편향 b를 임의로 정한다.\n",
    "# random_uniform([난수의 개수], 최소값, 최대값, dtype, seed)\n",
    "w = tf.Variable(tf.random_uniform([1], 0, 10))  # 가중치, 0 ~ 10 사이의 난수\n",
    "b = tf.Variable(tf.random_uniform([1], 0, 100))  # 편향, 0 ~ 100 사이의 난수\n",
    "sess = tf.Session()\n",
    "sess.run(tf.global_variables_initializer())\n",
    "print(f'w = {sess.run(w)}\\nb = {sess.run(b)}')"
   ],
   "metadata": {
    "collapsed": false
   }
  },
  {
   "cell_type": "code",
   "execution_count": 5,
   "outputs": [],
   "source": [
    "# 예측성적을 얻기 위한 가설(수식)을 만든다.\n",
    "Y = w * xData + b"
   ],
   "metadata": {
    "collapsed": false
   }
  },
  {
   "cell_type": "code",
   "execution_count": 6,
   "outputs": [],
   "source": [
    "# tensorflow에서 실행할 RMSE 오차 함수를 만든다.\n",
    "# square(): 제곱을 계산한다.\n",
    "# reduce_mean(): 오차의 제곱 평균을 계산한다.\n",
    "# sqrt(): 제곱근을 계산한다.\n",
    "rmse = tf.sqrt(tf.reduce_mean(tf.square(Y - yData)))"
   ],
   "metadata": {
    "collapsed": false
   }
  },
  {
   "cell_type": "code",
   "execution_count": 7,
   "outputs": [],
   "source": [
    "# 경사하강법을 이용해서 RMSE를 최소로 하는 값을 찾는 수식을 만든다.\n",
    "# 학습율을 정한다.\n",
    "learning_rate = 0.1\n",
    "# 경사 하강법 수식\n",
    "gradient_descent = tf.train.GradientDescentOptimizer(learning_rate).minimize(rmse)"
   ],
   "metadata": {
    "collapsed": false
   }
  },
  {
   "cell_type": "code",
   "execution_count": 24,
   "outputs": [
    {
     "name": "stdout",
     "output_type": "stream",
     "text": [
      "epoch =    0 → 오차 = 32.64, 가중치 =  1.40, 편향 = 51.06\n",
      "epoch =  300 → 오차 =  7.11, 가중치 =  4.97, 편향 = 63.08\n",
      "epoch =  600 → 오차 =  3.83, 가중치 =  3.33, 편향 = 72.83\n",
      "epoch =  900 → 오차 =  2.93, 가중치 =  2.53, 편향 = 77.66\n",
      "epoch = 1200 → 오차 =  2.88, 가중치 =  2.34, 편향 = 78.75\n",
      "epoch = 1500 → 오차 =  2.88, 가중치 =  2.31, 편향 = 78.95\n",
      "epoch = 1800 → 오차 =  2.88, 가중치 =  2.30, 편향 = 78.99\n",
      "epoch = 2100 → 오차 =  2.88, 가중치 =  2.30, 편향 = 79.00\n",
      "epoch = 2400 → 오차 =  2.88, 가중치 =  2.30, 편향 = 79.00\n",
      "epoch = 2700 → 오차 =  2.88, 가중치 =  2.30, 편향 = 79.00\n",
      "epoch = 3000 → 오차 =  2.88, 가중치 =  2.30, 편향 = 79.00\n"
     ]
    }
   ],
   "source": [
    "# 학습시킨다.\n",
    "sess = tf.Session()\n",
    "sess.run(tf.global_variables_initializer())\n",
    "\n",
    "for epoch in range(3001):\n",
    "    sess.run(gradient_descent)\n",
    "    if epoch % 300 == 0:\n",
    "        print('epoch = %4d → 오차 = %5.2f, 가중치 = %5.2f, 편향 = %5.2f' % (\n",
    "            epoch, sess.run(rmse), sess.run(w), sess.run(b)))\n",
    "\n",
    "sess.close()"
   ],
   "metadata": {
    "collapsed": false
   }
  },
  {
   "cell_type": "code",
   "execution_count": 12,
   "outputs": [],
   "source": [],
   "metadata": {
    "collapsed": false
   }
  }
 ],
 "metadata": {
  "kernelspec": {
   "display_name": "Python 3",
   "language": "python",
   "name": "python3"
  },
  "language_info": {
   "codemirror_mode": {
    "name": "ipython",
    "version": 2
   },
   "file_extension": ".py",
   "mimetype": "text/x-python",
   "name": "python",
   "nbconvert_exporter": "python",
   "pygments_lexer": "ipython2",
   "version": "2.7.6"
  }
 },
 "nbformat": 4,
 "nbformat_minor": 0
}
