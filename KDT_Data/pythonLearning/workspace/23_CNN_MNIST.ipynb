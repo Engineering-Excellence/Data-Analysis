{
 "cells": [
  {
   "cell_type": "code",
   "execution_count": 1,
   "metadata": {
    "collapsed": true
   },
   "outputs": [
    {
     "name": "stdout",
     "output_type": "stream",
     "text": [
      "WARNING:tensorflow:From /opt/homebrew/Caskroom/miniconda/base/envs/py_3_8/lib/python3.8/site-packages/tensorflow/python/compat/v2_compat.py:107: disable_resource_variables (from tensorflow.python.ops.variable_scope) is deprecated and will be removed in a future version.\n",
      "Instructions for updating:\n",
      "non-resource variables are not supported in the long term\n"
     ]
    }
   ],
   "source": [
    "%config Completer.use_jedi = False\n",
    "import warnings\n",
    "\n",
    "warnings.filterwarnings(action='ignore')\n",
    "import tensorflow.compat.v1 as tf\n",
    "\n",
    "tf.disable_v2_behavior()\n",
    "import numpy as np"
   ]
  },
  {
   "cell_type": "markdown",
   "source": [
    "# CNN(Convolutional Neural Network) - 합성곱 신경망"
   ],
   "metadata": {
    "collapsed": false
   }
  },
  {
   "cell_type": "code",
   "execution_count": 2,
   "outputs": [],
   "source": [
    "# MNIST 데이터를 내려받아 학습 데이터 및 테스트 데이터로 분리해서 저장한다.\n",
    "# MNIST 데이터 28 * 28의 픽셀 데이터이고 각 픽셀 0부터 255까지의 그레이스케일을 가지고 있다.\n",
    "(x_train, y_train), (x_test, y_test) = tf.keras.datasets.mnist.load_data()"
   ],
   "metadata": {
    "collapsed": false
   }
  },
  {
   "cell_type": "code",
   "execution_count": 3,
   "outputs": [],
   "source": [
    "# 6만 개의 학습 데이터 중 1만 개의 학습 데이터를 검증 데이터로 저장한다.\n",
    "# 학습 중간마다 검증 데이터로 모델의 성능을 측정하면 모델 학습이 제대로 진행되는지 검증 정확도로 확인을 할 수 있고\n",
    "# 학습 정확도는 증가하는데 검증 정확도가 증가하지 않거나 떨어질 때 조기 종료를 구현할 수 있다.\n",
    "x_val = x_train[50000:]  # 학습 데이터 6만개 중에서 학습 결과 검증에 사용할 데이터 1만개\n",
    "x_train = x_train[:50000]  # 학습 데이터 6만개 중에서 학습에 사용할 데이터 5만개\n",
    "y_val = y_train[50000:]  # 검증 데이터 실제값\n",
    "y_train = y_train[:50000]  # 학습 데이터 실제값"
   ],
   "metadata": {
    "collapsed": false
   }
  },
  {
   "cell_type": "code",
   "execution_count": 4,
   "outputs": [
    {
     "name": "stdout",
     "output_type": "stream",
     "text": [
      "학습 데이터: (50000, 28, 28)\n",
      "검증 데이터: (10000, 28, 28)\n",
      "테스트 데이터: (10000, 28, 28)\n",
      "학습 데이터 레이블: (50000,)\n",
      "검증 데이터 레이블: (10000,)\n",
      "테스트 데이터 레이블: (10000,)\n"
     ]
    }
   ],
   "source": [
    "print('학습 데이터: {}'.format(x_train.shape))  # 학습 데이터는 5만 개이고 28 * 28 픽셀의 이미지이다.\n",
    "print('검증 데이터: {}'.format(x_val.shape))  # 검증 데이터는 1만 개이고 28 * 28 픽셀의 이미지이다.\n",
    "print('테스트 데이터: {}'.format(x_test.shape))  # 테스트 데이터는 1만 개이고 28 * 28 픽셀의 이미지이다.\n",
    "print('학습 데이터 레이블: {}'.format(y_train.shape))\n",
    "print('검증 데이터 레이블: {}'.format(y_val.shape))\n",
    "print('테스트 데이터 레이블: {}'.format(y_test.shape))"
   ],
   "metadata": {
    "collapsed": false
   }
  },
  {
   "cell_type": "code",
   "execution_count": 5,
   "outputs": [
    {
     "name": "stdout",
     "output_type": "stream",
     "text": [
      "[5 0 4 1 9 2 1 3 1 4]\n",
      "  0   0   0   0   0   0   0   0   0   0   0   0   0   0   0   0   0   0   0   0   0   0   0   0   0   0   0   0 \n",
      "  0   0   0   0   0   0   0   0   0   0   0   0   0   0   0   0   0   0   0   0   0   0   0   0   0   0   0   0 \n",
      "  0   0   0   0   0   0   0   0   0   0   0   0   0   0   0   0   0   0   0   0   0   0   0   0   0   0   0   0 \n",
      "  0   0   0   0   0   0   0   0   0   0   0   0   0   0   0   0   0   0   0   0   0   0   0   0   0   0   0   0 \n",
      "  0   0   0   0   0   0   0   0   0   0   0   0   0   0   0   0   0   0   0   0   0   0   0   0   0   0   0   0 \n",
      "  0   0   0   0   0   0   0   0   0   0   0   0   0   0   0   0   0   0   0   0   0   0   0   0   0   0   0   0 \n",
      "  0   0   0   0   0   0   0   0   0   0   0   0   0   0   0   0   0   0   0   0   0   0   0   0   0   0   0   0 \n",
      "  0   0   0   0   0   0   0   0   0   0   0   0  55 148 210 253 253 113  87 148  55   0   0   0   0   0   0   0 \n",
      "  0   0   0   0   0   0   0   0   0   0   0  87 232 252 253 189 210 252 252 253 168   0   0   0   0   0   0   0 \n",
      "  0   0   0   0   0   0   0   0   0   4  57 242 252 190  65   5  12 182 252 253 116   0   0   0   0   0   0   0 \n",
      "  0   0   0   0   0   0   0   0   0  96 252 252 183  14   0   0  92 252 252 225  21   0   0   0   0   0   0   0 \n",
      "  0   0   0   0   0   0   0   0 132 253 252 146  14   0   0   0 215 252 252  79   0   0   0   0   0   0   0   0 \n",
      "  0   0   0   0   0   0   0 126 253 247 176   9   0   0   8  78 245 253 129   0   0   0   0   0   0   0   0   0 \n",
      "  0   0   0   0   0   0  16 232 252 176   0   0   0  36 201 252 252 169  11   0   0   0   0   0   0   0   0   0 \n",
      "  0   0   0   0   0   0  22 252 252  30  22 119 197 241 253 252 251  77   0   0   0   0   0   0   0   0   0   0 \n",
      "  0   0   0   0   0   0  16 231 252 253 252 252 252 226 227 252 231   0   0   0   0   0   0   0   0   0   0   0 \n",
      "  0   0   0   0   0   0   0  55 235 253 217 138  42  24 192 252 143   0   0   0   0   0   0   0   0   0   0   0 \n",
      "  0   0   0   0   0   0   0   0   0   0   0   0   0  62 255 253 109   0   0   0   0   0   0   0   0   0   0   0 \n",
      "  0   0   0   0   0   0   0   0   0   0   0   0   0  71 253 252  21   0   0   0   0   0   0   0   0   0   0   0 \n",
      "  0   0   0   0   0   0   0   0   0   0   0   0   0   0 253 252  21   0   0   0   0   0   0   0   0   0   0   0 \n",
      "  0   0   0   0   0   0   0   0   0   0   0   0   0  71 253 252  21   0   0   0   0   0   0   0   0   0   0   0 \n",
      "  0   0   0   0   0   0   0   0   0   0   0   0   0 106 253 252  21   0   0   0   0   0   0   0   0   0   0   0 \n",
      "  0   0   0   0   0   0   0   0   0   0   0   0   0  45 255 253  21   0   0   0   0   0   0   0   0   0   0   0 \n",
      "  0   0   0   0   0   0   0   0   0   0   0   0   0   0 218 252  56   0   0   0   0   0   0   0   0   0   0   0 \n",
      "  0   0   0   0   0   0   0   0   0   0   0   0   0   0  96 252 189  42   0   0   0   0   0   0   0   0   0   0 \n",
      "  0   0   0   0   0   0   0   0   0   0   0   0   0   0  14 184 252 170  11   0   0   0   0   0   0   0   0   0 \n",
      "  0   0   0   0   0   0   0   0   0   0   0   0   0   0   0  14 147 252  42   0   0   0   0   0   0   0   0   0 \n",
      "  0   0   0   0   0   0   0   0   0   0   0   0   0   0   0   0   0   0   0   0   0   0   0   0   0   0   0   0 \n"
     ]
    }
   ],
   "source": [
    "print(y_train[:10])\n",
    "for i in x_train[4]:\n",
    "    for j in i:\n",
    "        print('{:3d} '.format(j), end='')\n",
    "    print()"
   ],
   "metadata": {
    "collapsed": false
   }
  },
  {
   "cell_type": "markdown",
   "source": [
    "퍼셉트론의 단점\n",
    "\n",
    "다층 퍼셉트론의 경우 데이터를 입력하기 위해서 2차원 평면에 있는 숫자를 1차원 배열로 형태 변환을 해야 하기 때문에 고유 이미지의 생김새 정보를 활용할 수 없다.\n",
    "이미지의 생김새 정보를 사용할 수 없는 다층 퍼셉트론은 가지고 있는 정보가 픽셀밖에 없기 때문에 픽셀 한두 개의 차이가 모델 예측에 큰 영향을 끼치게 되므로 픽셀 하나하나의 변화에 상당히 민감하다.\n",
    "픽셀 한두 개의 정보에도 민감하게 반응하기 위해 상당히 많은 변수를 모델안에 가지게 되고 이로 인해 모델의 크기를 크게 만들고 학습 시간이 오래 걸리며 자칫 잘못하면 과대적합된 모델이 되기 쉽다."
   ],
   "metadata": {
    "collapsed": false
   }
  },
  {
   "cell_type": "markdown",
   "source": [
    "생김새 정보 획득하기\n",
    "<br/>\n",
    "<img src=\"./images/CNN.png\" width=\"1800\"/>\n",
    "\n",
    "두 개의 비슷한 생김새의 숫자 2가 있을 때 생김새가 달라도 머리와 꼬리 부분이 있고 머리와 꼬리를 잇는 대각선이 있다면 단번에 숫자 2임을 판별할 수 있다.\n",
    "\n",
    "CNN은 어떻게 특징을 찾아내는가?"
   ],
   "metadata": {
    "collapsed": false
   }
  },
  {
   "cell_type": "markdown",
   "source": [
    "<img src=\"./images/CNN2.png\" width=\"1800\"/>\n",
    "\n",
    "위 그림에서 필터 또는 커널이라고 불리는 반투명한 네모 상자가 이미지의 왼쪽 상단에서 조금씩 이동하면서 최종적으로 오른쪽 최하단까지 이동한다. 이처럼 필터를 이동하는 기법을 스트라이드(stride)라고 한다.\n",
    "필터는 특징을 추출하는 위한 네모 상자이고 이 필터와 겹치는 이미지 부분을 수용 영역이라고 부른다.\n",
    "\n",
    "아래 그림에서 대각선 필터는 숫자 2로부터 두 곳의 대각선 특징을 감지한다. 숫자 1에서는 대각선 특징을 발견하지 못한다.\n",
    "<br/>\n",
    "<img src=\"./images/CNN3.png\" width=\"1200\"/>"
   ],
   "metadata": {
    "collapsed": false
   }
  },
  {
   "cell_type": "markdown",
   "source": [
    "모든 딥러닝 모델이 그렇듯이 CNN 모델 역시 수학적인 모델이다. 필터가 어떻게 특징을 추출해내는지 알아보자.\n",
    "MNIST 숫자 데이터는 흑백 이미지로 각 픽셀은 0부터 255까지의 값 중 하나를 가지고 있다. 픽셀 안의 숫자 0은 흰색을 의미하며 255는 검은색 그리고 그 안의 숫자는 흰색과 검은색 사이의 어떤 색을 의미한다.\n",
    "만약 이미지 안에 흰색과 검은색만 존재한다면 아래 그림과 같이 0과 255로만 구성돼 있을 것이다.\n",
    "<br/>\n",
    "<img src=\"./images/CNN4.png\" width=\"1800\"/>\n",
    "\n",
    "위 그림에서 알 수 있듯이 필터 안에는 특정한 숫자가 들어있고 필터와 이미니 영역의 겹치는 부분마다 곱셈이 이루어지고 필터에 4개의 픽셀이 있으면 4개의 영역이 곱해지고 곱해진 값은 최종적으로 더해진다.\n",
    "최종값이 크다는 의미는 필터와 겹쳐진 부분이 많다는 의미이며 반대로 최종값이 작을 경우 필터와 겹치는 부분이 적었다라고 해석을 할 수 있다.\n",
    "\n",
    "CNN 모델 안에는 각 특성의 개수만큼 필터가 필요하다.\n",
    "보통 전반부 레이어에 존재하는 필터는 직선, 곡선 같은 기초적인 특성을 구별하기 위해 존재하고 후반부에 있는 필터는 동그라미, 세모 같은 조금 더 고차원의 특징을 구별하기 위해 존재한다.\n",
    "필터를 사용해서 모든 특징을 찾아낸 후, 이 특징들은 다중 퍼셉트론의 입력값으로 들어가서 필터로부터 구별된 특징을 기반으로 숫자 분류를 진행한다."
   ],
   "metadata": {
    "collapsed": false
   }
  },
  {
   "cell_type": "markdown",
   "source": [
    "<img src=\"./images/CNN5.png\" width=\"1500\"/>\n",
    "\n",
    "스프라이드를 통해 얻어진 행렬을 피쳐 맵(Feature Map)이라고 한다.\n",
    "피쳐 맵을 활성화 함수에 넣어 구현한 행렬을 액티베이션 맵(Activation Map)이라고 한다."
   ],
   "metadata": {
    "collapsed": false
   }
  },
  {
   "cell_type": "markdown",
   "source": [
    "<img src=\"./images/CNN6.png\" width=\"1200\"/>\n",
    "\n",
    "맥스 풀링(Max Pooling)은 지정된 영역에서 가장 큰 수치를 선택하고 나머지는 버린다.\n",
    "위의 그림은 2 * 2 필터에 스트라드를 적용한 맥스 풀링의 예이다.\n",
    "피처 맵의 크기가 줄어듬으로써 얻는 장점은 계산에 사용되는 파라미터의 개수가 줄어들어 계산 속도가 빨라지고 파라미터를 줄임으로써 모델의 분산을 줄이고 그에 따라 과대적합 가능성을 줄여준다.\n",
    "\n",
    "제로 패딩(Zero Padding)은 0으로 입력 행렬의 테두리를 감싸는 기술이다.\n",
    "스트라이드를 통해 입력된 행렬보다 작아진 행렬이 출력되고 작아진 만큼 정보 손실이 발생되므로 제로 패딩을 통해 입력 행렬의 크기를 그케 함으로써 스트라이드 이후에도 그 크기를 동일하게 유지할 수 있다."
   ],
   "metadata": {
    "collapsed": false
   }
  },
  {
   "cell_type": "markdown",
   "source": [
    "<img src=\"./images/CNN7.png\" width=\"1200\"/>\n",
    "\n",
    "제로 패딩으로 인해 스트라이드할 공간이 더 많아졌다. 만약 필터 크기기 3 * 3이고 스트라이드를 1픽셀씩 할 경우 피처 맵은 5 * 5로 제로 패딩을 하기 전의 입력 행렬과 동일한 크기로 출력될 것이다."
   ],
   "metadata": {
    "collapsed": false
   }
  },
  {
   "cell_type": "markdown",
   "source": [
    "데이터 구조를 변경한다."
   ],
   "metadata": {
    "collapsed": false
   }
  },
  {
   "cell_type": "code",
   "execution_count": 6,
   "outputs": [
    {
     "name": "stdout",
     "output_type": "stream",
     "text": [
      "x_train.shape: (50000, 28, 28, 1)\n",
      "x_val.shape: (10000, 28, 28, 1)\n",
      "x_test.shape: (10000, 28, 28, 1)\n"
     ]
    }
   ],
   "source": [
    "# 28 * 28 픽셀의 단색 이미지이므로 데이터 형태를 28 * 28 * 1로 맞춰 CNN 모델에 입력하기 위해 데이터셋을 생성한다.\n",
    "x_train = np.reshape(x_train, [50000, 28, 28, 1])\n",
    "print('x_train.shape: {}'.format(x_train.shape))\n",
    "x_val = np.reshape(x_val, [10000, 28, 28, 1])\n",
    "print('x_val.shape: {}'.format(x_val.shape))\n",
    "x_test = np.reshape(x_test, (10000, 28, 28, 1))\n",
    "print('x_test.shape: {}'.format(x_test.shape))"
   ],
   "metadata": {
    "collapsed": false
   }
  },
  {
   "cell_type": "markdown",
   "source": [
    "데이터 정규화"
   ],
   "metadata": {
    "collapsed": false
   }
  },
  {
   "cell_type": "code",
   "execution_count": 7,
   "outputs": [],
   "source": [
    "# 데이터 정규화는 학습 시간을 단축하고, 더 나은 성능을 발휘하도록 도와준다.\n",
    "# MNIST 데이터의 모든 값은 0부터 255의 범위 안에 있으므로 255로 나눠줌으로써 모든 값을 0부터 1사이의 값으로 정규화 한다.\n",
    "x_train = x_train.astype('float32')\n",
    "x_val = x_val.astype('float32')\n",
    "x_test = x_test.astype('float32')\n",
    "gray_scale = 255\n",
    "x_train /= gray_scale\n",
    "x_val /= gray_scale\n",
    "x_test /= gray_scale"
   ],
   "metadata": {
    "collapsed": false
   }
  },
  {
   "cell_type": "markdown",
   "source": [
    "one-hot encoding"
   ],
   "metadata": {
    "collapsed": false
   }
  },
  {
   "cell_type": "code",
   "execution_count": 8,
   "outputs": [],
   "source": [
    "# 손실 함수에서 크로스 엔트로피를 계산하기 위해, 실제값을 one-hot encoding 값으로 변경한다.\n",
    "num_classes = 10\n",
    "y_train = tf.keras.utils.to_categorical(y_train, num_classes)  # 학습 데이터 실제값 one-hot encoding\n",
    "y_val = tf.keras.utils.to_categorical(y_val, num_classes)  # 검증 데이터 실제값 one-hot encoding\n",
    "y_test = tf.keras.utils.to_categorical(y_test, num_classes)  # 테스트 데이터 실제값 one-hot encoding"
   ],
   "metadata": {
    "collapsed": false
   }
  },
  {
   "cell_type": "markdown",
   "source": [
    "텐서플로우로 CNN 구현하기\n",
    "<br/>\n",
    "<img src=\"./images/CNN8.png\" width=\"1800\"/>"
   ],
   "metadata": {
    "collapsed": false
   }
  },
  {
   "cell_type": "code",
   "execution_count": 9,
   "outputs": [],
   "source": [
    "# MNIST 데이터 형태 그대로 28 * 28으 포맷을 입력 데이터로 사용하고 실제값은 0부터 9사이의 숫자이다.\n",
    "x = tf.placeholder(dtype=tf.float32, shape=[None, 28, 28, 1])  # 학습 데이터\n",
    "y = tf.placeholder(dtype=tf.float32, shape=[None, 10])  # 실제값"
   ],
   "metadata": {
    "collapsed": false
   }
  },
  {
   "cell_type": "code",
   "execution_count": 10,
   "outputs": [],
   "source": [
    "import matplotlib.pyplot as plt\n",
    "\n",
    "n = 100000\n",
    "A = tf.truncated_normal((n,))\n",
    "B = tf.random_normal((n,))"
   ],
   "metadata": {
    "collapsed": false
   }
  },
  {
   "cell_type": "code",
   "execution_count": 11,
   "outputs": [
    {
     "name": "stdout",
     "output_type": "stream",
     "text": [
      "Metal device set to: Apple M2\n"
     ]
    },
    {
     "name": "stderr",
     "output_type": "stream",
     "text": [
      "2023-03-06 03:06:09.849530: I tensorflow/core/common_runtime/pluggable_device/pluggable_device_factory.cc:306] Could not identify NUMA node of platform GPU ID 0, defaulting to 0. Your kernel may not have been built with NUMA support.\n",
      "2023-03-06 03:06:09.849892: I tensorflow/core/common_runtime/pluggable_device/pluggable_device_factory.cc:272] Created TensorFlow device (/job:localhost/replica:0/task:0/device:GPU:0 with 0 MB memory) -> physical PluggableDevice (device: 0, name: METAL, pci bus id: <undefined>)\n",
      "2023-03-06 03:06:09.853935: I tensorflow/compiler/mlir/mlir_graph_optimization_pass.cc:357] MLIR V1 optimization pass is not enabled\n",
      "2023-03-06 03:06:09.860441: W tensorflow/tsl/platform/profile_utils/cpu_utils.cc:128] Failed to get CPU frequency: 0 Hz\n",
      "2023-03-06 03:06:09.866476: I tensorflow/core/grappler/optimizers/custom_graph_optimizer_registry.cc:114] Plugin optimizer for device_type GPU is enabled.\n"
     ]
    },
    {
     "data": {
      "text/plain": "<Figure size 640x480 with 1 Axes>",
      "image/png": "[encoded data removed]"
     },
     "metadata": {},
     "output_type": "display_data"
    }
   ],
   "source": [
    "with tf.Session() as sess:\n",
    "    a = sess.run(A)\n",
    "    plt.hist(a, 1000, (-4.5, 4.5))"
   ],
   "metadata": {
    "collapsed": false
   }
  },
  {
   "cell_type": "code",
   "execution_count": 12,
   "outputs": [
    {
     "name": "stderr",
     "output_type": "stream",
     "text": [
      "2023-03-06 03:06:10.408001: I tensorflow/core/common_runtime/pluggable_device/pluggable_device_factory.cc:306] Could not identify NUMA node of platform GPU ID 0, defaulting to 0. Your kernel may not have been built with NUMA support.\n",
      "2023-03-06 03:06:10.408016: I tensorflow/core/common_runtime/pluggable_device/pluggable_device_factory.cc:272] Created TensorFlow device (/job:localhost/replica:0/task:0/device:GPU:0 with 0 MB memory) -> physical PluggableDevice (device: 0, name: METAL, pci bus id: <undefined>)\n",
      "2023-03-06 03:06:10.408907: I tensorflow/core/grappler/optimizers/custom_graph_optimizer_registry.cc:114] Plugin optimizer for device_type GPU is enabled.\n"
     ]
    },
    {
     "data": {
      "text/plain": "<Figure size 640x480 with 1 Axes>",
      "image/png": "[encoded data removed]"
     },
     "metadata": {},
     "output_type": "display_data"
    }
   ],
   "source": [
    "with tf.Session() as sess:\n",
    "    b = sess.run(B)\n",
    "    plt.hist(b, 1000, (-4.5, 4.5))"
   ],
   "metadata": {
    "collapsed": false
   }
  },
  {
   "cell_type": "code",
   "execution_count": 13,
   "outputs": [],
   "source": [
    "# 파라미터의 가중치, 바이어스의 초기값을 설정한다.\n",
    "# CNN 모델을 구성하기 위해 많은 수의 가중치와 바이어스을 사용하게 되는데 대칭성을 깨뜨리고 기울기가 0이 되는 것을 방지하기\n",
    "# 위해서 가중치에 약간의 잡음을 주어 초기화 한다.\n",
    "\n",
    "# tf.truncated_normal()와 tf.random_normal()는 매우 비슷하게 작동하지만 큰 차이가 있다.\n",
    "# 두 함수 모두 랜덤하게 값을 가져오데 두 방식의 가장 큰 차이는 truncated_normal()은 너무 작거나 너무 큰 값이 아닌 값으로\n",
    "# 랜덤한 값을 가져온다.\n",
    "# 딥러닝이나 머신러닝 중 너무 큰 값(기울기 폭주)이나 너무 작은 값(기울기 소멸)이 들어오면 작동을 멈춰버리는 것을 해결하기\n",
    "# 위한 방법이다.\n",
    "\n",
    "# 가중치를 만들어 리턴하는 함수\n",
    "def weight_variable(shape):\n",
    "    initial = tf.truncated_normal(shape, stddev=0.1)  # stddev 속성으로 난수가 발생되는 범위를 제한한다.\n",
    "    return tf.Variable(initial)\n",
    "\n",
    "\n",
    "# 바이어스를 만들어 리턴하는 함수\n",
    "def bias_variable(shape):\n",
    "    initial = tf.constant(0.1, shape=shape)\n",
    "    return tf.Variable(initial)"
   ],
   "metadata": {
    "collapsed": false
   }
  },
  {
   "cell_type": "code",
   "execution_count": 14,
   "outputs": [
    {
     "name": "stdout",
     "output_type": "stream",
     "text": [
      "[[ 0.00386236]\n",
      " [-0.12244952]] [0.1 0.1]\n"
     ]
    },
    {
     "name": "stderr",
     "output_type": "stream",
     "text": [
      "2023-03-06 03:06:10.928888: I tensorflow/core/common_runtime/pluggable_device/pluggable_device_factory.cc:306] Could not identify NUMA node of platform GPU ID 0, defaulting to 0. Your kernel may not have been built with NUMA support.\n",
      "2023-03-06 03:06:10.928900: I tensorflow/core/common_runtime/pluggable_device/pluggable_device_factory.cc:272] Created TensorFlow device (/job:localhost/replica:0/task:0/device:GPU:0 with 0 MB memory) -> physical PluggableDevice (device: 0, name: METAL, pci bus id: <undefined>)\n",
      "2023-03-06 03:06:10.935037: I tensorflow/core/grappler/optimizers/custom_graph_optimizer_registry.cc:114] Plugin optimizer for device_type GPU is enabled.\n",
      "2023-03-06 03:06:11.116395: I tensorflow/core/grappler/optimizers/custom_graph_optimizer_registry.cc:114] Plugin optimizer for device_type GPU is enabled.\n",
      "2023-03-06 03:06:11.117381: I tensorflow/core/grappler/optimizers/custom_graph_optimizer_registry.cc:114] Plugin optimizer for device_type GPU is enabled.\n"
     ]
    }
   ],
   "source": [
    "with tf.Session() as sess:\n",
    "    w = weight_variable([2, 1])\n",
    "    b = bias_variable([2])\n",
    "    sess.run(tf.global_variables_initializer())\n",
    "    print(sess.run(w), sess.run(b))"
   ],
   "metadata": {
    "collapsed": false
   }
  },
  {
   "cell_type": "code",
   "execution_count": 15,
   "outputs": [],
   "source": [
    "# https://bcho.tistory.com/tag/stride 참조\n",
    "# tf.nn.conv2d(필터를 적용할 이미지 데이터, 필터, strides, padding) 함수로 이미지 데이터에 필터를 적용한다.\n",
    "# strides: 필터를 움직이는 간격으로 1번째 인수와 4번째 인수는 통상적으로 1을 쓰고 2번째 인수는 가로 스트라이드 값, 3번째\n",
    "#          인수는 세로 스트라이드 값을 입력한다.\n",
    "# padding: 입력 데이터 행렬 주위를 무의미한 값(0)으로 감싸서 필터를 거치고 나온 피처 맵의 크기가 작아지는 것을 방지하고\n",
    "#          과대적합이 발생하는 것을 방지할 수 있다.\n",
    "#          SAME: 텐서플로우가 자동으로 패딩을 적용해 입력값과 출력값의 크기를 같게한다.\n",
    "#          VALID: 텐서플로우가 자동으로 패딩을 적용하지 않아 입력값보다 출력값의 크기가 작아진다.\n",
    "\n",
    "def conv2d(x, W_conv):\n",
    "    return tf.nn.conv2d(x, W_conv, strides=[1, 1, 1, 1, ], padding='SAME')\n",
    "\n",
    "\n",
    "# tf.nn.max_pool(활성화 함수로 ReLu를 적용하고 맥스 풀링을 적용할 데이터, ksize, strides, padding) 함수로 맥스 풀링을 적용한다.\n",
    "# ksize: 맥스 풀링의 필터 크기로 [1, 2, 2, 1]는 2 * 2 크기로 묶어서 맥스 풀링을 한다는 의미이다.\n",
    "# strides, padding는 conv2d()의 strides, padding와 의미가 같다.\n",
    "# ksize, strides는 모두 필터 크기이므로 동일하게 지정해야 한다.\n",
    "\n",
    "def max_pool_2x2(h_conv):\n",
    "    return tf.nn.max_pool(h_conv, ksize=[1, 2, 2, 1], strides=[1, 2, 2, 1], padding='SAME')"
   ],
   "metadata": {
    "collapsed": false
   }
  },
  {
   "cell_type": "code",
   "execution_count": 16,
   "outputs": [],
   "source": [
    "# 1번째 컨볼루션 레이어는 16개의 필터를 가지고 있고 필터 크기는 5 * 5이고 바이어스는 필터의 개수만큼 만든다.\n",
    "W_conv1 = weight_variable([5, 5, 1, 16])  # 1번째 컨볼루션 레이어 필터 정의\n",
    "b_conv1 = bias_variable([16])  # 1번째 바이어스\n",
    "\n",
    "# 활성화 함수로 ReLu를 사용한다.\n",
    "h_conv1 = tf.nn.relu(conv2d(x, W_conv1) + b_conv1)\n",
    "\n",
    "# 1번째 컨볼루션 레이어 다음으로 풀링 레이어를 적용해서 액티베이션 맵의 크기를 줄여준다.\n",
    "# 액티베이션 맵의 크기를 줄여줌으로써 파라미터가 줄어들어 모델의 크기가 작아지고, 과대적합의 위험도 감소시켜 준다.\n",
    "h_pool1 = max_pool_2x2(h_conv1)\n",
    "# 풀링 레이어에 의해 액티베이션 맵의 크기는 14 * 14가 되었고 이 값은 다음에 이어지는 2번째 컨볼루션 레이어의 입력으로\n",
    "# 들어간다."
   ],
   "metadata": {
    "collapsed": false
   }
  },
  {
   "cell_type": "code",
   "execution_count": 17,
   "outputs": [],
   "source": [
    "# 2번째 컨볼루션 레이어는 32개의 필터를 가진다.\n",
    "W_conv2 = weight_variable([5, 5, 16, 32])  # 2번째 컨볼루션 레이어 필터 정의\n",
    "b_conv2 = bias_variable([32])  # 2번째 바이어스\n",
    "h_conv2 = tf.nn.relu(conv2d(h_pool1, W_conv2) + b_conv2)\n",
    "h_pool2 = max_pool_2x2(h_conv2)\n",
    "# 풀링 레이어에 의해 액티베이션 맵의 크기는 7 * 7이 된다."
   ],
   "metadata": {
    "collapsed": false
   }
  },
  {
   "cell_type": "markdown",
   "source": [
    "FC(Fully Connected Layer)"
   ],
   "metadata": {
    "collapsed": false
   }
  },
  {
   "cell_type": "code",
   "execution_count": 18,
   "outputs": [],
   "source": [
    "# FC는 컨볼루션 레이어를 통해 추출된 이미지의 특징을 입력받아 0부터 9까지의 숫자 중 하나로 이미지를 분류한다.\n",
    "W_fc1 = weight_variable([7 * 7 * 32, 128])\n",
    "b_fc1 = bias_variable([128])\n",
    "\n",
    "# 2번째 컨볼루션 레이어의 맥스 풀링 결과를 행과 열을 변경해서 가중치와 행렬의 곱을 이용해 계산하고 활성화 함수로 ReLu를\n",
    "# 사용한다.\n",
    "# shape에 -1을 입력하면 고정된 차원은 우선 채우고 남는 부분은 알하서 채워준다.\n",
    "h_pool2_flat = tf.reshape(h_pool2, [-1, 7 * 7 * 32])\n",
    "h_fc1 = tf.nn.relu(tf.matmul(h_pool2_flat, W_fc1) + b_fc1)\n",
    "\n",
    "# FC 영역에는 FC1, FC2 총 2개의 히든 레이어가 존재하고 FC1은 128개의 노드, FC2 10개의 노드가 존재한다.\n",
    "# FC2에 10개의 노드가 존재하는 이유유는 FC2의 10개의 노드의 값들을 소프트맥스에 입력시켜서 각 노드별 확률을 구하기 위해서이다.\n",
    "# 각 노드는 숫자 0부터 9를 의미하며, 이 예측값은 크로스 엔트로피를 통해 실제값과의 차이를 계산하는데 사용한다.\n",
    "W_fc2 = weight_variable([128, 10])\n",
    "b_fc2 = bias_variable([10])\n",
    "y_conv = tf.matmul(h_fc1, W_fc2) + b_fc2"
   ],
   "metadata": {
    "collapsed": false
   }
  },
  {
   "cell_type": "markdown",
   "source": [
    "비용 함수 정의"
   ],
   "metadata": {
    "collapsed": false
   }
  },
  {
   "cell_type": "code",
   "execution_count": 19,
   "outputs": [],
   "source": [
    "# 모델 정의가 끝났으므로 모델을 학습시키기 위해서 비용 함수를 정의한다. 비용 함수는 크로스 엔트로피를 사용한다.\n",
    "# 실제값과 예측값의 크로스 엔트로피를 설정한다.\n",
    "cross_entroty = tf.reduce_mean(tf.nn.softmax_cross_entropy_with_logits_v2(logits=y_conv, labels=y))\n",
    "# Adam 옵티마이저를 사용해 모델을 최적화한다.\n",
    "train_step = tf.train.AdamOptimizer(0.001).minimize(cross_entroty)"
   ],
   "metadata": {
    "collapsed": false
   }
  },
  {
   "cell_type": "markdown",
   "source": [
    "정확도 계산"
   ],
   "metadata": {
    "collapsed": false
   }
  },
  {
   "cell_type": "code",
   "execution_count": 20,
   "outputs": [],
   "source": [
    "predict = tf.equal(tf.argmax(y_conv, 1), tf.argmax(y, 1))\n",
    "accuracy = tf.reduce_mean(tf.cast(predict, tf.float32))"
   ],
   "metadata": {
    "collapsed": false
   }
  },
  {
   "cell_type": "markdown",
   "source": [
    "학습시킨다."
   ],
   "metadata": {
    "collapsed": false
   }
  },
  {
   "cell_type": "code",
   "execution_count": 21,
   "outputs": [
    {
     "name": "stderr",
     "output_type": "stream",
     "text": [
      "2023-03-06 03:06:11.222973: I tensorflow/core/common_runtime/pluggable_device/pluggable_device_factory.cc:306] Could not identify NUMA node of platform GPU ID 0, defaulting to 0. Your kernel may not have been built with NUMA support.\n",
      "2023-03-06 03:06:11.222986: I tensorflow/core/common_runtime/pluggable_device/pluggable_device_factory.cc:272] Created TensorFlow device (/job:localhost/replica:0/task:0/device:GPU:0 with 0 MB memory) -> physical PluggableDevice (device: 0, name: METAL, pci bus id: <undefined>)\n",
      "2023-03-06 03:06:11.225947: I tensorflow/core/grappler/optimizers/custom_graph_optimizer_registry.cc:114] Plugin optimizer for device_type GPU is enabled.\n",
      "2023-03-06 03:06:11.363285: I tensorflow/core/grappler/optimizers/custom_graph_optimizer_registry.cc:114] Plugin optimizer for device_type GPU is enabled.\n"
     ]
    },
    {
     "name": "stdout",
     "output_type": "stream",
     "text": [
      "step:   0, 학습 정확도: 0.0920\n"
     ]
    },
    {
     "name": "stderr",
     "output_type": "stream",
     "text": [
      "2023-03-06 03:06:11.720307: I tensorflow/core/grappler/optimizers/custom_graph_optimizer_registry.cc:114] Plugin optimizer for device_type GPU is enabled.\n"
     ]
    },
    {
     "name": "stdout",
     "output_type": "stream",
     "text": [
      "step:  10, 학습 정확도: 0.7000\n",
      "step:  20, 학습 정확도: 0.8400\n",
      "step:  30, 학습 정확도: 0.8660\n",
      "step:  40, 학습 정확도: 0.8840\n",
      "step:  50, 학습 정확도: 0.9100\n",
      "step:  60, 학습 정확도: 0.9280\n",
      "step:  70, 학습 정확도: 0.9380\n",
      "step:  80, 학습 정확도: 0.9420\n",
      "step:  90, 학습 정확도: 0.9400\n",
      "검증 정확도: 0.9533\n",
      "step:   0, 학습 정확도: 0.9460\n",
      "step:  10, 학습 정확도: 0.9620\n",
      "step:  20, 학습 정확도: 0.9400\n",
      "step:  30, 학습 정확도: 0.9480\n",
      "step:  40, 학습 정확도: 0.9640\n",
      "step:  50, 학습 정확도: 0.9680\n",
      "step:  60, 학습 정확도: 0.9720\n",
      "step:  70, 학습 정확도: 0.9700\n",
      "step:  80, 학습 정확도: 0.9760\n",
      "step:  90, 학습 정확도: 0.9700\n",
      "검증 정확도: 0.9730\n",
      "step:   0, 학습 정확도: 0.9680\n",
      "step:  10, 학습 정확도: 0.9800\n",
      "step:  20, 학습 정확도: 0.9560\n",
      "step:  30, 학습 정확도: 0.9660\n",
      "step:  40, 학습 정확도: 0.9760\n",
      "step:  50, 학습 정확도: 0.9760\n",
      "step:  60, 학습 정확도: 0.9840\n",
      "step:  70, 학습 정확도: 0.9760\n",
      "step:  80, 학습 정확도: 0.9840\n",
      "step:  90, 학습 정확도: 0.9800\n",
      "검증 정확도: 0.9778\n",
      "테스트 정확도: 0.9785\n"
     ]
    }
   ],
   "source": [
    "# 미니 배치를 사용하여 모델을 최적화한다. 미니 배치는 총 500개의 학습 데이터가 들어있고, 미니 배치마다 파라미터가 조정된다.\n",
    "init = tf.global_variables_initializer()  # 변수 초기화\n",
    "# 하이퍼 파리미터 설정\n",
    "epoch_cnt = 3\n",
    "batch_size = 500\n",
    "iterration = len(x_train) // batch_size\n",
    "\n",
    "# 학습 시작\n",
    "with tf.Session() as sess:\n",
    "    tf.set_random_seed(35)\n",
    "    sess.run(init)\n",
    "\n",
    "    for epoch in range(epoch_cnt):\n",
    "        avg_loss = 0.0\n",
    "        start = 0\n",
    "        end = batch_size\n",
    "\n",
    "        for i in range(iterration):\n",
    "            if i % 10 == 0:\n",
    "                train_acc = accuracy.eval(feed_dict={x: x_train[start:end], y: y_train[start:end]})\n",
    "                print('step: {:3d}, 학습 정확도: {:6.4f}'.format(i, train_acc))\n",
    "            # ===== if\n",
    "            # Adam 옵티마이저를 사용한 최적화 함수를 실행한다.\n",
    "            train_step.run(feed_dict={x: x_train[start:end], y: y_train[start:end]})\n",
    "            start += batch_size\n",
    "            end += batch_size\n",
    "        # =====\n",
    "\n",
    "        # 검증 데이터로 모델을 검증한다.\n",
    "        val_accuracy = accuracy.eval(feed_dict={x: x_val, y: y_val})\n",
    "        print('검증 정확도: {:6.4f}'.format(val_accuracy))\n",
    "    # =====\n",
    "\n",
    "    # 모델을 테스트 데이터로 테스트한 정확도를 계산해서 출력한다.\n",
    "    test_accuracy = accuracy.eval(feed_dict={x: x_test, y: y_test})\n",
    "    print('테스트 정확도: {:6.4f}'.format(test_accuracy))"
   ],
   "metadata": {
    "collapsed": false
   }
  },
  {
   "cell_type": "code",
   "execution_count": null,
   "outputs": [],
   "source": [],
   "metadata": {
    "collapsed": false
   }
  }
 ],
 "metadata": {
  "kernelspec": {
   "display_name": "Python 3",
   "language": "python",
   "name": "python3"
  },
  "language_info": {
   "codemirror_mode": {
    "name": "ipython",
    "version": 2
   },
   "file_extension": ".py",
   "mimetype": "text/x-python",
   "name": "python",
   "nbconvert_exporter": "python",
   "pygments_lexer": "ipython2",
   "version": "2.7.6"
  }
 },
 "nbformat": 4,
 "nbformat_minor": 0
}
