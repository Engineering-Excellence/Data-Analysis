{
 "cells": [
  {
   "cell_type": "markdown",
   "source": [
    "# 주성분 분석(Principal Component Analysis)\n",
    "- 고차원 데이터를 저차원 데이터로 축소하는 알고리즘\n",
    "- 주로 고차원의 데이터를 3차원 이하의 데이터로 바꿔 시각화하는데 사용되며, 유용한 정보만 살려서 적은 메모리에 저장하거나 데이터의 노이즈를 줄일 때도 사용된다.\n",
    "***\n",
    "주성분 분석의 특징은 데이터의 분산을 최대한 유지하면서 저차원으로 데이터를 변환하는데 있다. 분산을 유지하는 이유는 데이터의 고유한 특성을 최대한 유지시키기 위해서이다."
   ],
   "metadata": {
    "collapsed": false
   }
  },
  {
   "cell_type": "code",
   "execution_count": 1,
   "metadata": {
    "collapsed": true
   },
   "outputs": [],
   "source": [
    "import pandas as pd\n",
    "import numpy as np\n",
    "import seaborn as sns\n",
    "%config Completer.use_jedi = False\n",
    "import warnings\n",
    "warnings.filterwarnings(action='ignore')\n",
    "import matplotlib.pyplot as plt"
   ]
  },
  {
   "cell_type": "code",
   "execution_count": 2,
   "outputs": [],
   "source": [
    "# 평균을 0, 분산을 1로 조정해서 표준화하기 위해 StandardScaler를 import 한다.\n",
    "from sklearn.preprocessing import StandardScaler"
   ],
   "metadata": {
    "collapsed": false
   }
  },
  {
   "cell_type": "markdown",
   "source": [
    "# 식습관 데이터를 차원축소시켜 시각화 하기\n",
    "\n",
    "데이터 획득\n",
    "사람들의 하루 식습관 데이터를 만든 후 주성분 분석을 사용해 시각화하기 위해서 칼로리, 아침, 점심, 저녁, 운동횟수, 체형이라는 특징을 가지는 데이터프레임을 생성한다."
   ],
   "metadata": {
    "collapsed": false
   }
  },
  {
   "cell_type": "code",
   "execution_count": 3,
   "outputs": [
    {
     "data": {
      "text/plain": "   calorie  breakfast  lunch  dinner  exercise body_shape\n0     1200          1      0       0         2     Skinny\n1     2800          1      1       1         1     Normal\n2     3500          2      2       1         0        Fat\n3     1400          0      1       0         3     Skinny\n4     5000          2      2       2         0        Fat\n5     1300          0      0       1         2     Skinny\n6     3000          1      0       1         1     Normal\n7     4000          2      2       2         0        Fat\n8     2600          0      2       0         0     Normal\n9     3000          1      2       1         1        Fat",
      "text/html": "<div>\n<style scoped>\n    .dataframe tbody tr th:only-of-type {\n        vertical-align: middle;\n    }\n\n    .dataframe tbody tr th {\n        vertical-align: top;\n    }\n\n    .dataframe thead th {\n        text-align: right;\n    }\n</style>\n<table border=\"1\" class=\"dataframe\">\n  <thead>\n    <tr style=\"text-align: right;\">\n      <th></th>\n      <th>calorie</th>\n      <th>breakfast</th>\n      <th>lunch</th>\n      <th>dinner</th>\n      <th>exercise</th>\n      <th>body_shape</th>\n    </tr>\n  </thead>\n  <tbody>\n    <tr>\n      <th>0</th>\n      <td>1200</td>\n      <td>1</td>\n      <td>0</td>\n      <td>0</td>\n      <td>2</td>\n      <td>Skinny</td>\n    </tr>\n    <tr>\n      <th>1</th>\n      <td>2800</td>\n      <td>1</td>\n      <td>1</td>\n      <td>1</td>\n      <td>1</td>\n      <td>Normal</td>\n    </tr>\n    <tr>\n      <th>2</th>\n      <td>3500</td>\n      <td>2</td>\n      <td>2</td>\n      <td>1</td>\n      <td>0</td>\n      <td>Fat</td>\n    </tr>\n    <tr>\n      <th>3</th>\n      <td>1400</td>\n      <td>0</td>\n      <td>1</td>\n      <td>0</td>\n      <td>3</td>\n      <td>Skinny</td>\n    </tr>\n    <tr>\n      <th>4</th>\n      <td>5000</td>\n      <td>2</td>\n      <td>2</td>\n      <td>2</td>\n      <td>0</td>\n      <td>Fat</td>\n    </tr>\n    <tr>\n      <th>5</th>\n      <td>1300</td>\n      <td>0</td>\n      <td>0</td>\n      <td>1</td>\n      <td>2</td>\n      <td>Skinny</td>\n    </tr>\n    <tr>\n      <th>6</th>\n      <td>3000</td>\n      <td>1</td>\n      <td>0</td>\n      <td>1</td>\n      <td>1</td>\n      <td>Normal</td>\n    </tr>\n    <tr>\n      <th>7</th>\n      <td>4000</td>\n      <td>2</td>\n      <td>2</td>\n      <td>2</td>\n      <td>0</td>\n      <td>Fat</td>\n    </tr>\n    <tr>\n      <th>8</th>\n      <td>2600</td>\n      <td>0</td>\n      <td>2</td>\n      <td>0</td>\n      <td>0</td>\n      <td>Normal</td>\n    </tr>\n    <tr>\n      <th>9</th>\n      <td>3000</td>\n      <td>1</td>\n      <td>2</td>\n      <td>1</td>\n      <td>1</td>\n      <td>Fat</td>\n    </tr>\n  </tbody>\n</table>\n</div>"
     },
     "execution_count": 3,
     "metadata": {},
     "output_type": "execute_result"
    }
   ],
   "source": [
    "df = pd.DataFrame(columns = ['calorie', 'breakfast', 'lunch', 'dinner', 'exercise', 'body_shape'])\n",
    "df.loc[0] = [1200, 1, 0, 0, 2, 'Skinny']\n",
    "df.loc[1] = [2800, 1, 1, 1, 1, 'Normal']\n",
    "df.loc[2] = [3500, 2, 2, 1, 0, 'Fat']\n",
    "df.loc[3] = [1400, 0, 1, 0, 3, 'Skinny']\n",
    "df.loc[4] = [5000, 2, 2, 2, 0, 'Fat']\n",
    "df.loc[5] = [1300, 0, 0, 1, 2, 'Skinny']\n",
    "df.loc[6] = [3000, 1, 0, 1, 1, 'Normal']\n",
    "df.loc[7] = [4000, 2, 2, 2, 0, 'Fat']\n",
    "df.loc[8] = [2600, 0, 2, 0, 0, 'Normal']\n",
    "df.loc[9] = [3000, 1, 2, 1, 1, 'Fat']\n",
    "df"
   ],
   "metadata": {
    "collapsed": false
   }
  },
  {
   "cell_type": "markdown",
   "source": [
    "# 데이터 전처리\n",
    "데이터 전처리 과정을 통해 데이터 범위가 제각각인 특징을 표준화 한다."
   ],
   "metadata": {
    "collapsed": false
   }
  },
  {
   "cell_type": "code",
   "execution_count": 4,
   "outputs": [
    {
     "data": {
      "text/plain": "   calorie  breakfast  lunch  dinner  exercise\n0     1200          1      0       0         2\n1     2800          1      1       1         1\n2     3500          2      2       1         0\n3     1400          0      1       0         3\n4     5000          2      2       2         0\n5     1300          0      0       1         2\n6     3000          1      0       1         1\n7     4000          2      2       2         0\n8     2600          0      2       0         0\n9     3000          1      2       1         1",
      "text/html": "<div>\n<style scoped>\n    .dataframe tbody tr th:only-of-type {\n        vertical-align: middle;\n    }\n\n    .dataframe tbody tr th {\n        vertical-align: top;\n    }\n\n    .dataframe thead th {\n        text-align: right;\n    }\n</style>\n<table border=\"1\" class=\"dataframe\">\n  <thead>\n    <tr style=\"text-align: right;\">\n      <th></th>\n      <th>calorie</th>\n      <th>breakfast</th>\n      <th>lunch</th>\n      <th>dinner</th>\n      <th>exercise</th>\n    </tr>\n  </thead>\n  <tbody>\n    <tr>\n      <th>0</th>\n      <td>1200</td>\n      <td>1</td>\n      <td>0</td>\n      <td>0</td>\n      <td>2</td>\n    </tr>\n    <tr>\n      <th>1</th>\n      <td>2800</td>\n      <td>1</td>\n      <td>1</td>\n      <td>1</td>\n      <td>1</td>\n    </tr>\n    <tr>\n      <th>2</th>\n      <td>3500</td>\n      <td>2</td>\n      <td>2</td>\n      <td>1</td>\n      <td>0</td>\n    </tr>\n    <tr>\n      <th>3</th>\n      <td>1400</td>\n      <td>0</td>\n      <td>1</td>\n      <td>0</td>\n      <td>3</td>\n    </tr>\n    <tr>\n      <th>4</th>\n      <td>5000</td>\n      <td>2</td>\n      <td>2</td>\n      <td>2</td>\n      <td>0</td>\n    </tr>\n    <tr>\n      <th>5</th>\n      <td>1300</td>\n      <td>0</td>\n      <td>0</td>\n      <td>1</td>\n      <td>2</td>\n    </tr>\n    <tr>\n      <th>6</th>\n      <td>3000</td>\n      <td>1</td>\n      <td>0</td>\n      <td>1</td>\n      <td>1</td>\n    </tr>\n    <tr>\n      <th>7</th>\n      <td>4000</td>\n      <td>2</td>\n      <td>2</td>\n      <td>2</td>\n      <td>0</td>\n    </tr>\n    <tr>\n      <th>8</th>\n      <td>2600</td>\n      <td>0</td>\n      <td>2</td>\n      <td>0</td>\n      <td>0</td>\n    </tr>\n    <tr>\n      <th>9</th>\n      <td>3000</td>\n      <td>1</td>\n      <td>2</td>\n      <td>1</td>\n      <td>1</td>\n    </tr>\n  </tbody>\n</table>\n</div>"
     },
     "execution_count": 4,
     "metadata": {},
     "output_type": "execute_result"
    }
   ],
   "source": [
    "# 데이터에 데이터의 특징(피쳐)와 레이블(클래스, 타겟)이 함께 있으므로 데이터의 특징으로만 구성된 X 데이터프레임을 만든다.\n",
    "X = df[['calorie', 'breakfast', 'lunch', 'dinner', 'exercise']]\n",
    "X"
   ],
   "metadata": {
    "collapsed": false
   }
  },
  {
   "cell_type": "markdown",
   "source": [
    "# 표쥰화(정규화)\n",
    "위의 데이터 전처리 결과를 통해 칼로리가 다른 특성들에 비해 수치의 범위가 큰 것을 확인할 수 있다.\n",
    "수치가 큰 칼로리와 다른 특성들은 우리가 눈으로 비교할 수 없듯이 머신러닝 모델로도 쉽게 비교하기 힘들다.\n",
    "이 경우 모든 특성들이 평균이 0이고 표준편차가 1인 데이터로 바꾼 후 비교하면 특성들의 상관관계를 이해하기 쉽고 머신러닝 모델 역시 더욱 효율적으로 데이터를 학습할 수 있다."
   ],
   "metadata": {
    "collapsed": false
   }
  },
  {
   "cell_type": "code",
   "execution_count": 5,
   "outputs": [
    {
     "name": "stdout",
     "output_type": "stream",
     "text": [
      "<class 'numpy.ndarray'>\n"
     ]
    },
    {
     "data": {
      "text/plain": "array([[-1.35205803,  0.        , -1.3764944 , -1.28571429,  1.        ],\n       [ 0.01711466,  0.        , -0.22941573,  0.14285714,  0.        ],\n       [ 0.61612771,  1.29099445,  0.91766294,  0.14285714, -1.        ],\n       [-1.18091145, -1.29099445, -0.22941573, -1.28571429,  2.        ],\n       [ 1.89972711,  1.29099445,  0.91766294,  1.57142857, -1.        ],\n       [-1.26648474, -1.29099445, -1.3764944 ,  0.14285714,  1.        ],\n       [ 0.18826125,  0.        , -1.3764944 ,  0.14285714,  0.        ],\n       [ 1.04399418,  1.29099445,  0.91766294,  1.57142857, -1.        ],\n       [-0.15403193, -1.29099445,  0.91766294, -1.28571429, -1.        ],\n       [ 0.18826125,  0.        ,  0.91766294,  0.14285714,  0.        ]])"
     },
     "execution_count": 5,
     "metadata": {},
     "output_type": "execute_result"
    }
   ],
   "source": [
    "# 칼로리를 포함한 모든 특성을 같은 범위 내로 표준화 한다.\n",
    "x_std = StandardScaler().fit_transform(X)\n",
    "print(type(x_std))\n",
    "x_std"
   ],
   "metadata": {
    "collapsed": false
   }
  },
  {
   "cell_type": "markdown",
   "source": [
    "# 레이블 분리하기\n",
    "각 데이터의 특성에 따른 레이블(체형)을 따로 Y 데이터프레임으로 생성한다."
   ],
   "metadata": {
    "collapsed": false
   }
  },
  {
   "cell_type": "code",
   "execution_count": 6,
   "outputs": [
    {
     "data": {
      "text/plain": "  body_shape\n0     Skinny\n1     Normal\n2        Fat\n3     Skinny\n4        Fat\n5     Skinny\n6     Normal\n7        Fat\n8     Normal\n9        Fat",
      "text/html": "<div>\n<style scoped>\n    .dataframe tbody tr th:only-of-type {\n        vertical-align: middle;\n    }\n\n    .dataframe tbody tr th {\n        vertical-align: top;\n    }\n\n    .dataframe thead th {\n        text-align: right;\n    }\n</style>\n<table border=\"1\" class=\"dataframe\">\n  <thead>\n    <tr style=\"text-align: right;\">\n      <th></th>\n      <th>body_shape</th>\n    </tr>\n  </thead>\n  <tbody>\n    <tr>\n      <th>0</th>\n      <td>Skinny</td>\n    </tr>\n    <tr>\n      <th>1</th>\n      <td>Normal</td>\n    </tr>\n    <tr>\n      <th>2</th>\n      <td>Fat</td>\n    </tr>\n    <tr>\n      <th>3</th>\n      <td>Skinny</td>\n    </tr>\n    <tr>\n      <th>4</th>\n      <td>Fat</td>\n    </tr>\n    <tr>\n      <th>5</th>\n      <td>Skinny</td>\n    </tr>\n    <tr>\n      <th>6</th>\n      <td>Normal</td>\n    </tr>\n    <tr>\n      <th>7</th>\n      <td>Fat</td>\n    </tr>\n    <tr>\n      <th>8</th>\n      <td>Normal</td>\n    </tr>\n    <tr>\n      <th>9</th>\n      <td>Fat</td>\n    </tr>\n  </tbody>\n</table>\n</div>"
     },
     "execution_count": 6,
     "metadata": {},
     "output_type": "execute_result"
    }
   ],
   "source": [
    "Y = df[['body_shape']]\n",
    "Y"
   ],
   "metadata": {
    "collapsed": false
   }
  },
  {
   "cell_type": "markdown",
   "source": [
    "# 공분산 행렬 구하기\n",
    "주성분 분석을 하기 위해 가장 먼저 할 일은 특징들의 공분산 행렬을 구하는 것이다."
   ],
   "metadata": {
    "collapsed": false
   }
  },
  {
   "cell_type": "code",
   "execution_count": 7,
   "outputs": [
    {
     "data": {
      "text/plain": "array([[ 1.11111111,  0.88379717,  0.76782385,  0.89376551, -0.93179808],\n       [ 0.88379717,  1.11111111,  0.49362406,  0.81967902, -0.71721914],\n       [ 0.76782385,  0.49362406,  1.11111111,  0.40056715, -0.76471911],\n       [ 0.89376551,  0.81967902,  0.40056715,  1.11111111, -0.63492063],\n       [-0.93179808, -0.71721914, -0.76471911, -0.63492063,  1.11111111]])"
     },
     "execution_count": 7,
     "metadata": {},
     "output_type": "execute_result"
    }
   ],
   "source": [
    "# np.cov() 메서드를 사용하면 공분산을 계산할 수 있다.\n",
    "features = x_std.T  # 전치\n",
    "covariance_matrix = np.cov(features)\n",
    "covariance_matrix"
   ],
   "metadata": {
    "collapsed": false
   }
  },
  {
   "cell_type": "markdown",
   "source": [
    "# 고윳값과 고유벡터 구하기\n",
    "공분산 행렬에서 가장 큰 고윳값을 가진 고유벡터를 찾아 그 벡터 위에 데이터를 사영시킨다.\n",
    "사영의 의미는 데이터 손실을 최소한으로 하는 2차원을 1차원 공간으로 축소하는 것이다."
   ],
   "metadata": {
    "collapsed": false
   }
  },
  {
   "cell_type": "code",
   "execution_count": 8,
   "outputs": [
    {
     "data": {
      "text/plain": "(array([4.0657343 , 0.8387565 , 0.07629538, 0.27758568, 0.2971837 ]),\n array([[-0.508005  , -0.0169937 , -0.84711404,  0.11637853,  0.10244985],\n        [-0.44660335, -0.36890361,  0.12808055, -0.63112016, -0.49973822],\n        [-0.38377913,  0.70804084,  0.20681005, -0.40305226,  0.38232213],\n        [-0.42845209, -0.53194699,  0.3694462 ,  0.22228235,  0.58954327],\n        [ 0.46002038, -0.2816592 , -0.29450345, -0.61341895,  0.49601841]]))"
     },
     "execution_count": 8,
     "metadata": {},
     "output_type": "execute_result"
    }
   ],
   "source": [
    "# 공분산 행렬에서 고윳값과 고유벡터를 계산한다.\n",
    "eig_vals, eig_vecs = np.linalg.eig(covariance_matrix)\n",
    "eig_vals, eig_vecs"
   ],
   "metadata": {
    "collapsed": false
   }
  },
  {
   "cell_type": "code",
   "execution_count": 9,
   "outputs": [
    {
     "name": "stdout",
     "output_type": "stream",
     "text": [
      "0.7318321731427542\n",
      "0.15097617056715107\n",
      "0.013733167936950083\n",
      "0.04996542317586194\n",
      "0.053493065177282674\n"
     ]
    }
   ],
   "source": [
    "# 가장 큰 고유벡터로 데이터를 사영할 경우 얼마 만큼의 정보가 유지되는지 확인한다.\n",
    "for i in range(len(eig_vals)):\n",
    "    print(eig_vals[i] / sum(eig_vals))"
   ],
   "metadata": {
    "collapsed": false
   }
  },
  {
   "cell_type": "markdown",
   "source": [
    "결과를 통해 1차원 데이터로 차원 축소를 하더라도 73% 정도에 해당되는 정보를 유지할 수 있다는 사실을 확인할 수 있다.\n",
    "27% 정도의 정보 손실은 감수하고 1차원 데이터로 축소한다."
   ],
   "metadata": {
    "collapsed": false
   }
  },
  {
   "cell_type": "code",
   "execution_count": 10,
   "outputs": [
    {
     "data": {
      "text/plain": "array([ 2.22600943,  0.0181432 , -1.76296611,  2.73542407, -3.02711544,\n        2.14702579,  0.37142473, -2.59239883,  0.39347815, -0.50902498])"
     },
     "execution_count": 10,
     "metadata": {},
     "output_type": "execute_result"
    }
   ],
   "source": [
    "projected_X = x_std.dot(eig_vecs.T[0]) / np.linalg.norm(eig_vecs.T[0])\n",
    "projected_X"
   ],
   "metadata": {
    "collapsed": false
   }
  },
  {
   "cell_type": "markdown",
   "source": [
    "# 시각화\n",
    "데이터가 사영된 고유벡터(주성분)를 x축으로 하고 1차원 데이터이므로 y축은 0으로 고정시킨다."
   ],
   "metadata": {
    "collapsed": false
   }
  },
  {
   "cell_type": "code",
   "execution_count": 11,
   "outputs": [
    {
     "data": {
      "text/plain": "        PC1  y-axis   label\n0  2.226009     0.0  Skinny\n1  0.018143     0.0  Normal\n2 -1.762966     0.0     Fat\n3  2.735424     0.0  Skinny\n4 -3.027115     0.0     Fat\n5  2.147026     0.0  Skinny\n6  0.371425     0.0  Normal\n7 -2.592399     0.0     Fat\n8  0.393478     0.0  Normal\n9 -0.509025     0.0     Fat",
      "text/html": "<div>\n<style scoped>\n    .dataframe tbody tr th:only-of-type {\n        vertical-align: middle;\n    }\n\n    .dataframe tbody tr th {\n        vertical-align: top;\n    }\n\n    .dataframe thead th {\n        text-align: right;\n    }\n</style>\n<table border=\"1\" class=\"dataframe\">\n  <thead>\n    <tr style=\"text-align: right;\">\n      <th></th>\n      <th>PC1</th>\n      <th>y-axis</th>\n      <th>label</th>\n    </tr>\n  </thead>\n  <tbody>\n    <tr>\n      <th>0</th>\n      <td>2.226009</td>\n      <td>0.0</td>\n      <td>Skinny</td>\n    </tr>\n    <tr>\n      <th>1</th>\n      <td>0.018143</td>\n      <td>0.0</td>\n      <td>Normal</td>\n    </tr>\n    <tr>\n      <th>2</th>\n      <td>-1.762966</td>\n      <td>0.0</td>\n      <td>Fat</td>\n    </tr>\n    <tr>\n      <th>3</th>\n      <td>2.735424</td>\n      <td>0.0</td>\n      <td>Skinny</td>\n    </tr>\n    <tr>\n      <th>4</th>\n      <td>-3.027115</td>\n      <td>0.0</td>\n      <td>Fat</td>\n    </tr>\n    <tr>\n      <th>5</th>\n      <td>2.147026</td>\n      <td>0.0</td>\n      <td>Skinny</td>\n    </tr>\n    <tr>\n      <th>6</th>\n      <td>0.371425</td>\n      <td>0.0</td>\n      <td>Normal</td>\n    </tr>\n    <tr>\n      <th>7</th>\n      <td>-2.592399</td>\n      <td>0.0</td>\n      <td>Fat</td>\n    </tr>\n    <tr>\n      <th>8</th>\n      <td>0.393478</td>\n      <td>0.0</td>\n      <td>Normal</td>\n    </tr>\n    <tr>\n      <th>9</th>\n      <td>-0.509025</td>\n      <td>0.0</td>\n      <td>Fat</td>\n    </tr>\n  </tbody>\n</table>\n</div>"
     },
     "execution_count": 11,
     "metadata": {},
     "output_type": "execute_result"
    }
   ],
   "source": [
    "result = pd.DataFrame(projected_X, columns=['PC1'])\n",
    "result['y-axis'] = 0.0\n",
    "result['label'] = Y\n",
    "result"
   ],
   "metadata": {
    "collapsed": false
   }
  },
  {
   "cell_type": "code",
   "execution_count": 12,
   "outputs": [
    {
     "data": {
      "text/plain": "Text(0.5, 1.0, 'PCA result')"
     },
     "execution_count": 12,
     "metadata": {},
     "output_type": "execute_result"
    },
    {
     "data": {
      "text/plain": "<Figure size 594.75x500 with 1 Axes>",
      "image/png": "[encoded data removed]"
     },
     "metadata": {},
     "output_type": "display_data"
    }
   ],
   "source": [
    "sns.lmplot(data=result, x='PC1', y='y-axis', fit_reg=False, hue='label', scatter_kws={'s': 50})\n",
    "plt.title('PCA result')"
   ],
   "metadata": {
    "collapsed": false
   }
  },
  {
   "cell_type": "markdown",
   "source": [
    "# scikit-learn을 이용한 주성분 분석 간단 구현\n",
    "scikit-learn 라이브러리를 사용하면 단 몇 줄만으로 간단하게 주성분 분석을 구현할 수 있다.\n",
    "다음과 같이 주성분 분석 라이브러리를 사용해 5차원 데이터를 1차원으로 아주 간단히 축소할 수 있다."
   ],
   "metadata": {
    "collapsed": false
   }
  },
  {
   "cell_type": "code",
   "execution_count": 13,
   "outputs": [],
   "source": [
    "from sklearn import decomposition\n",
    "pca = decomposition.PCA(n_components=1)\n",
    "sklearn_pca_X = pca.fit_transform(x_std)"
   ],
   "metadata": {
    "collapsed": false
   }
  },
  {
   "cell_type": "code",
   "execution_count": 14,
   "outputs": [
    {
     "data": {
      "text/plain": "        PC1  y-axis   label\n0 -2.226009     0.0  Skinny\n1 -0.018143     0.0  Normal\n2  1.762966     0.0     Fat\n3 -2.735424     0.0  Skinny\n4  3.027115     0.0     Fat\n5 -2.147026     0.0  Skinny\n6 -0.371425     0.0  Normal\n7  2.592399     0.0     Fat\n8 -0.393478     0.0  Normal\n9  0.509025     0.0     Fat",
      "text/html": "<div>\n<style scoped>\n    .dataframe tbody tr th:only-of-type {\n        vertical-align: middle;\n    }\n\n    .dataframe tbody tr th {\n        vertical-align: top;\n    }\n\n    .dataframe thead th {\n        text-align: right;\n    }\n</style>\n<table border=\"1\" class=\"dataframe\">\n  <thead>\n    <tr style=\"text-align: right;\">\n      <th></th>\n      <th>PC1</th>\n      <th>y-axis</th>\n      <th>label</th>\n    </tr>\n  </thead>\n  <tbody>\n    <tr>\n      <th>0</th>\n      <td>-2.226009</td>\n      <td>0.0</td>\n      <td>Skinny</td>\n    </tr>\n    <tr>\n      <th>1</th>\n      <td>-0.018143</td>\n      <td>0.0</td>\n      <td>Normal</td>\n    </tr>\n    <tr>\n      <th>2</th>\n      <td>1.762966</td>\n      <td>0.0</td>\n      <td>Fat</td>\n    </tr>\n    <tr>\n      <th>3</th>\n      <td>-2.735424</td>\n      <td>0.0</td>\n      <td>Skinny</td>\n    </tr>\n    <tr>\n      <th>4</th>\n      <td>3.027115</td>\n      <td>0.0</td>\n      <td>Fat</td>\n    </tr>\n    <tr>\n      <th>5</th>\n      <td>-2.147026</td>\n      <td>0.0</td>\n      <td>Skinny</td>\n    </tr>\n    <tr>\n      <th>6</th>\n      <td>-0.371425</td>\n      <td>0.0</td>\n      <td>Normal</td>\n    </tr>\n    <tr>\n      <th>7</th>\n      <td>2.592399</td>\n      <td>0.0</td>\n      <td>Fat</td>\n    </tr>\n    <tr>\n      <th>8</th>\n      <td>-0.393478</td>\n      <td>0.0</td>\n      <td>Normal</td>\n    </tr>\n    <tr>\n      <th>9</th>\n      <td>0.509025</td>\n      <td>0.0</td>\n      <td>Fat</td>\n    </tr>\n  </tbody>\n</table>\n</div>"
     },
     "execution_count": 14,
     "metadata": {},
     "output_type": "execute_result"
    }
   ],
   "source": [
    "sklearn_result = pd.DataFrame(sklearn_pca_X, columns=['PC1'])\n",
    "sklearn_result['y-axis'] = 0.0\n",
    "sklearn_result['label'] = Y\n",
    "sklearn_result"
   ],
   "metadata": {
    "collapsed": false
   }
  },
  {
   "cell_type": "code",
   "execution_count": 16,
   "outputs": [
    {
     "data": {
      "text/plain": "Text(0.5, 1.0, 'PCA result')"
     },
     "execution_count": 16,
     "metadata": {},
     "output_type": "execute_result"
    },
    {
     "data": {
      "text/plain": "<Figure size 594.75x500 with 1 Axes>",
      "image/png": "[encoded data removed]"
     },
     "metadata": {},
     "output_type": "display_data"
    }
   ],
   "source": [
    "sns.lmplot(data=sklearn_result, x='PC1', y='y-axis', fit_reg=False, hue='label', scatter_kws={'s': 50})\n",
    "plt.title('PCA result')"
   ],
   "metadata": {
    "collapsed": false
   }
  },
  {
   "cell_type": "code",
   "execution_count": 15,
   "outputs": [],
   "source": [],
   "metadata": {
    "collapsed": false
   }
  }
 ],
 "metadata": {
  "kernelspec": {
   "display_name": "Python 3",
   "language": "python",
   "name": "python3"
  },
  "language_info": {
   "codemirror_mode": {
    "name": "ipython",
    "version": 2
   },
   "file_extension": ".py",
   "mimetype": "text/x-python",
   "name": "python",
   "nbconvert_exporter": "python",
   "pygments_lexer": "ipython2",
   "version": "2.7.6"
  }
 },
 "nbformat": 4,
 "nbformat_minor": 0
}
